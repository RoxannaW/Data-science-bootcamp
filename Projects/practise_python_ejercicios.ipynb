{
 "cells": [
  {
   "cell_type": "code",
   "execution_count": null,
   "metadata": {},
   "outputs": [],
   "source": [
    "#1. Create a program that asks the user to enter their name and their age. Print out a message addressed to them that tells them the year that they will turn 100 years old.\n",
    "\n",
    "Extras:\n",
    "\n",
    "Add on to the previous program by asking the user for another number and printing out that many copies of the previous message. (Hint: order of operations exists in Python)\n",
    "Print out that many copies of the previous message on separate lines. (Hint: the string \"\\n is the same as pressing the ENTER button)"
   ]
  },
  {
   "cell_type": "code",
   "execution_count": 16,
   "metadata": {
    "tags": []
   },
   "outputs": [
    {
     "output_type": "stream",
     "name": "stdout",
     "text": "Roxanna, you will turn 100 years old in the year: 2096\nRoxanna, you will turn 100 years old in the year: 2096\nRoxanna, you will turn 100 years old in the year: 2096\n\n"
    }
   ],
   "source": [
    "name = input(\"What is your name?\")\n",
    "age = int(input(\"What is your age?\"))\n",
    "extra_number = int(input(\"Please provide a number\"))\n",
    "\n",
    "year_of_100 = (100-age) + 2020\n",
    "print((extra_number * (name  + \", you will turn 100 years old in the year: \" + str(year_of_100) + \"\\n\")))"
   ]
  },
  {
   "cell_type": "code",
   "execution_count": null,
   "metadata": {},
   "outputs": [],
   "source": [
    "#2 Ask the user for a number. Depending on whether the number is even or odd, print out an appropriate message to the user. Hint: how does an even / odd number react differently when divided by 2?\n",
    "\n",
    "Extras:\n",
    "\n",
    "If the number is a multiple of 4, print out a different message.\n",
    "Ask the user for two numbers: one number to check (call it num) and one number to divide by (check). If check divides evenly into num, tell that to the user. If not, print a different appropriate message."
   ]
  },
  {
   "cell_type": "code",
   "execution_count": 28,
   "metadata": {
    "tags": []
   },
   "outputs": [
    {
     "output_type": "stream",
     "name": "stdout",
     "text": "This number is a multiple of 4\n"
    }
   ],
   "source": [
    "number_2 = int(input(\"please provide a number:\"))\n",
    "\n",
    "if number_2%4 == 0:\n",
    "    print(\"This number is a multiple of 4\")\n",
    "elif number_2%2 == 0:\n",
    "    print(\"This is an even number\")\n",
    "else: \n",
    "    print(\"This is an odd number\")"
   ]
  },
  {
   "cell_type": "code",
   "execution_count": 30,
   "metadata": {
    "tags": []
   },
   "outputs": [
    {
     "output_type": "stream",
     "name": "stdout",
     "text": "This number does not devide evenly\n"
    }
   ],
   "source": [
    "num = int(input(\"please provide a number:\"))\n",
    "check = int(input(\"please provide a number:\"))\n",
    "result = num/check\n",
    "\n",
    "if result%2 == 0:\n",
    "    print(\"The number divides evenly\")\n",
    "\n",
    "else:\n",
    "    print(\"This number does not divide evenly\")"
   ]
  },
  {
   "cell_type": "code",
   "execution_count": null,
   "metadata": {},
   "outputs": [],
   "source": [
    "#7 Let’s say I give you a list saved in a variable: a = [1, 4, 9, 16, 25, 36, 49, 64, 81, 100]. Write one line of Python that takes this list a and makes a new list that has only the even elements of this list in it.\n"
   ]
  },
  {
   "cell_type": "code",
   "execution_count": 32,
   "metadata": {
    "tags": []
   },
   "outputs": [
    {
     "output_type": "stream",
     "name": "stdout",
     "text": "[4, 16, 36, 64, 100]\n"
    }
   ],
   "source": [
    "a = [1, 4, 9, 16, 25, 36, 49, 64, 81, 100]\n",
    "\n",
    "a_2 = [elem for elem in a if elem%2==0]\n",
    "print(a_2)"
   ]
  },
  {
   "cell_type": "code",
   "execution_count": null,
   "metadata": {},
   "outputs": [],
   "source": [
    "#14 Write a program (function!) that takes a list and returns a new list that contains all the elements of the first list minus all the duplicates.\n",
    "\n",
    "Extras:\n",
    "\n",
    "Write two different functions to do this - one using a loop and constructing a list, and another using sets.\n",
    "Go back and do Exercise 5 using sets, and write the solution for that in a different function."
   ]
  },
  {
   "cell_type": "code",
   "execution_count": 34,
   "metadata": {
    "tags": []
   },
   "outputs": [
    {
     "output_type": "stream",
     "name": "stdout",
     "text": "[64, 1, 4, 36, 100, 9, 16, 49, 81, 25]\n"
    }
   ],
   "source": [
    "list_ejercicio_14 = [1, 1, 4, 9, 9, 16, 25, 36, 49, 64, 81, 36, 16, 1, 100]\n",
    "\n",
    "def ejercicio_14():\n",
    "    list_ejercicio_14_1 = list(set(list_ejercicio_14))\n",
    "    return list_ejercicio_14_1\n",
    "\n",
    "x = ejercicio_14()\n",
    "print(x)"
   ]
  },
  {
   "cell_type": "code",
   "execution_count": 35,
   "metadata": {
    "tags": []
   },
   "outputs": [
    {
     "output_type": "stream",
     "name": "stdout",
     "text": "[1, 4, 9, 16, 25, 36, 49, 64, 81, 100]\n"
    }
   ],
   "source": [
    "list_ejercicio_14 = [1, 1, 4, 9, 9, 16, 25, 36, 49, 64, 81, 36, 16, 1, 100]\n",
    "\n",
    "def list_ejercicio_14_v2():\n",
    "    new_list = []\n",
    "    for elem in list_ejercicio_14:\n",
    "        if elem not in new_list:\n",
    "            new_list.append(elem) \n",
    "    print(new_list)\n",
    "\n",
    "list_ejercicio_14_v2()"
   ]
  },
  {
   "cell_type": "code",
   "execution_count": null,
   "metadata": {},
   "outputs": [],
   "source": [
    "#16 Write a password generator in Python. Be creative with how you generate passwords - strong passwords have a mix of lowercase letters, uppercase letters, numbers, and symbols. The passwords should be random, generating a new password every time the user asks for a new password. Include your run-time code in a main method.\n",
    "\n",
    "Extra:\n",
    "\n",
    "Ask the user how strong they want their password to be. For weak passwords, pick a word or two from a list.\n",
    "\n"
   ]
  },
  {
   "cell_type": "code",
   "execution_count": null,
   "metadata": {},
   "outputs": [],
   "source": [
    "#18 Create a program that will play the “cows and bulls” game with the user. The game works like this:\n",
    "\n",
    "Randomly generate a 4-digit number. Ask the user to guess a 4-digit number. For every digit that the user guessed correctly in the correct place, they have a “cow”. For every digit the user guessed correctly in the wrong place is a “bull.” Every time the user makes a guess, tell them how many “cows” and “bulls” they have. Once the user guesses the correct number, the game is over. Keep track of the number of guesses the user makes throughout teh game and tell the user at the end.\n",
    "\n",
    "Say the number generated by the computer is 1038. An example interaction could look like this:\n",
    "\n",
    "  Welcome to the Cows and Bulls Game! \n",
    "  Enter a number: \n",
    "  >>> 1234\n",
    "  2 cows, 0 bulls\n",
    "  >>> 1256\n",
    "  1 cow, 1 bull"
   ]
  },
  {
   "cell_type": "code",
   "execution_count": null,
   "metadata": {},
   "outputs": [],
   "source": [
    "#27 This exercise is Part 3 of 4 of the Tic Tac Toe exercise series. The other exercises are: Part 1, Part 2, and Part 4.\n",
    "\n",
    "In a previous exercise we explored the idea of using a list of lists as a “data structure” to store information about a tic tac toe game. In a tic tac toe game, the “game server” needs to know where the Xs and Os are in the board, to know whether player 1 or player 2 (or whoever is X and O won).\n",
    "\n",
    "There has also been an exercise about drawing the actual tic tac toe gameboard using text characters.\n",
    "\n",
    "The next logical step is to deal with handling user input. When a player (say player 1, who is X) wants to place an X on the screen, they can’t just click on a terminal. So we are going to approximate this clicking simply by asking the user for a coordinate of where they want to place their piece."
   ]
  },
  {
   "cell_type": "code",
   "execution_count": null,
   "metadata": {},
   "outputs": [],
   "source": [
    "#31 This exercise is Part 2 of 3 of the Hangman exercise series. The other exercises are: Part 1 and Part 3.\n",
    "\n",
    "Let’s continue building Hangman. In the game of Hangman, a clue word is given by the program that the player has to guess, letter by letter. The player guesses one letter at a time until the entire word has been guessed. (In the actual game, the player can only guess 6 letters incorrectly before losing).\n",
    "\n",
    "Let’s say the word the player has to guess is “EVAPORATE”. For this exercise, write the logic that asks a player to guess a letter and displays letters in the clue word that were guessed correctly. For now, let the player guess an infinite number of times until they get the entire word. As a bonus, keep track of the letters the player guessed and display a different message if the player tries to guess that letter again. Remember to stop the game when all the letters have been guessed correctly! Don’t worry about choosing a word randomly or keeping track of the number of guesses the player has remaining - we will deal with those in a future exercise."
   ]
  },
  {
   "cell_type": "code",
   "execution_count": null,
   "metadata": {},
   "outputs": [],
   "source": [
    "#32 This exercise is Part 3 of 3 of the Hangman exercise series. The other exercises are: Part 1 and Part 2.\n",
    "\n",
    "You can start your Python journey anywhere, but to finish this exercise you will have to have finished Parts 1 and 2 or use the solutions (Part 1 and Part 2).\n",
    "\n",
    "In this exercise, we will finish building Hangman. In the game of Hangman, the player only has 6 incorrect guesses (head, body, 2 legs, and 2 arms) before they lose the game.\n",
    "\n",
    "In Part 1, we loaded a random word list and picked a word from it. In Part 2, we wrote the logic for guessing the letter and displaying that information to the user. In this exercise, we have to put it all together and add logic for handling guesses.\n",
    "\n",
    "Copy your code from Parts 1 and 2 into a new file as a starting point. Now add the following features:\n",
    "\n",
    "Only let the user guess 6 times, and tell the user how many guesses they have left.\n",
    "Keep track of the letters the user guessed. If the user guesses a letter they already guessed, don’t penalize them - let them guess again.\n",
    "Optional additions:\n",
    "\n",
    "When the player wins or loses, let them start a new game.\n",
    "Rather than telling the user \"You have 4 incorrect guesses left\", display some picture art for the Hangman. This is challenging - do the other parts of the exercise first!\n",
    "Your solution will be a lot cleaner if you make use of functions to help you!\n"
   ]
  },
  {
   "cell_type": "code",
   "execution_count": 37,
   "metadata": {},
   "outputs": [],
   "source": [
    "#@test"
   ]
  },
  {
   "cell_type": "code",
   "execution_count": 14,
   "metadata": {
    "tags": []
   },
   "outputs": [
    {
     "output_type": "stream",
     "name": "stdout",
     "text": "_ | _  _ | _ \n  |\n"
    }
   ],
   "source": [
    "hor = \" _ \"\n",
    "ver = \"|\"\n",
    "\n",
    "y = hor + ver + hor\n",
    "z = \"  \" + ver\n",
    "\n",
    "def board_tictactoe():\n",
    "    print(2 * y)\n",
    "    print(z)\n",
    "\n",
    "board_tictactoe()"
   ]
  },
  {
   "cell_type": "code",
   "execution_count": null,
   "metadata": {},
   "outputs": [],
   "source": []
  }
 ],
 "metadata": {
  "language_info": {
   "codemirror_mode": {
    "name": "ipython",
    "version": 3
   },
   "file_extension": ".py",
   "mimetype": "text/x-python",
   "name": "python",
   "nbconvert_exporter": "python",
   "pygments_lexer": "ipython3",
   "version": "3.7.6-final"
  },
  "orig_nbformat": 2,
  "kernelspec": {
   "name": "python3",
   "display_name": "Python 3"
  }
 },
 "nbformat": 4,
 "nbformat_minor": 2
}