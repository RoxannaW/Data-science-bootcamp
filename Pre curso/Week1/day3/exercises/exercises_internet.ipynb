{
 "cells": [
  {
   "cell_type": "code",
   "execution_count": null,
   "metadata": {},
   "outputs": [],
   "source": []
  },
  {
   "cell_type": "code",
   "execution_count": 1,
   "metadata": {},
   "outputs": [
    {
     "output_type": "stream",
     "name": "stdout",
     "text": "Hola mundo!\n"
    }
   ],
   "source": [
    "# Escribir un programa que muestre por pantalla la cadena ¡Hola Mundo!\n",
    "\n",
    "print(\"Hola mundo!\")"
   ]
  },
  {
   "cell_type": "code",
   "execution_count": 2,
   "metadata": {},
   "outputs": [
    {
     "output_type": "stream",
     "name": "stdout",
     "text": "Hola mundo!\n"
    }
   ],
   "source": [
    "#Escribir un programa que almacene la cadena ¡Hola Mundo! en una variable y luego muestre por pantalla el contenido de la variable.\n",
    "\n",
    "x = \"Hola mundo!\"\n",
    "print(x)\n",
    "\n"
   ]
  },
  {
   "cell_type": "code",
   "execution_count": 11,
   "metadata": {},
   "outputs": [
    {
     "output_type": "stream",
     "name": "stdout",
     "text": "hola Roxanna\n"
    }
   ],
   "source": [
    "#Escribir un programa que pregunte el nombre del usuario en la consola y después de que el usuario lo introduzca muestre por pantalla la cadena ¡Hola <nombre>!, donde <nombre> es el nombre que el usuario haya introducido.\n",
    "\n",
    "name = input(\"what is your name:\")\n",
    "print(\"hola \" + name)\n",
    "\n"
   ]
  },
  {
   "cell_type": "code",
   "execution_count": 14,
   "metadata": {
    "tags": []
   },
   "outputs": [
    {
     "output_type": "stream",
     "name": "stdout",
     "text": "Roxanna\nRoxanna\nRoxanna\nRoxanna\n\n"
    }
   ],
   "source": [
    "# Escribir un programa que pregunte el nombre del usuario en la consola y un número entero e imprima por pantalla en líneas distintas el nombre del usuario tantas veces como el número introducido.\n",
    "\n",
    "name = input(\"what is your name: \")\n",
    "number = input(\"provide a number: \")\n",
    "\n",
    "print((name + \"\\n\") * int(number) )\n",
    "\n",
    "# Questions: how to add space in between the names and how to print on seperate lines. "
   ]
  },
  {
   "cell_type": "code",
   "execution_count": 21,
   "metadata": {
    "tags": []
   },
   "outputs": [
    {
     "output_type": "stream",
     "name": "stdout",
     "text": "ROXANNA tiene 7 letras\n"
    }
   ],
   "source": [
    "#Escribir un programa que pregunte el nombre del usuario en la consola y después de que el usuario lo introduzca muestre por pantalla <NOMBRE> tiene <n> letras, donde <NOMBRE> es el nombre de usuario en mayúsculas y <n> es el número de letras que tienen el nombre.\n",
    "\n",
    "name = input(\"what is your name: \" )\n",
    "n = len(name)\n",
    "\n",
    "\n",
    "print(name.upper() + \" tiene \" + str(n) + \" letras\")"
   ]
  },
  {
   "cell_type": "code",
   "execution_count": 37,
   "metadata": {
    "tags": []
   },
   "outputs": [
    {
     "output_type": "stream",
     "name": "stdout",
     "text": "0.25\n"
    }
   ],
   "source": [
    "#Escribir un programa que realice la siguiente operación aritmética (3+22⋅5)2.\n",
    "\n",
    "\n",
    "x = (((3 + 2) / (2*5))**2)\n",
    "print(x)\n"
   ]
  },
  {
   "cell_type": "code",
   "execution_count": 45,
   "metadata": {
    "tags": []
   },
   "outputs": [
    {
     "output_type": "stream",
     "name": "stdout",
     "text": "Your salary is: 83.6\n"
    }
   ],
   "source": [
    "#Escribir un programa que pregunte al usuario por el número de horas trabajadas y el coste por hora. Después debe mostrar por pantalla la paga que le corresponde.\n",
    "\n",
    "H = input(\" How many hours did you work? \")\n",
    "S = input(\" How much do you earn per hour? \")\n",
    "salary = float(H) * float(S)\n",
    "print( \"Your salary is: \" + str(salary))"
   ]
  },
  {
   "cell_type": "code",
   "execution_count": 66,
   "metadata": {
    "tags": []
   },
   "outputs": [
    {
     "output_type": "stream",
     "name": "stdout",
     "text": "The sum of the number 1 to number 5 is: 15.0\n"
    }
   ],
   "source": [
    "# Escribir un programa que lea un entero positivo, 𝑛, introducido por el usuario y después muestre en pantalla la suma de todos los enteros desde 1 hasta 𝑛. La suma de los 𝑛 primeros enteros positivos puede ser calculada de la siguiente forma: suma=𝑛(𝑛+1)2\n",
    "\n",
    "n = int(input(\"Provide an even number: \"))\n",
    "\n",
    "suma = (n * (n+1)) / 2 \n",
    "\n",
    "print( \"The sum of the number 1 to number \" + str(n) + \" is: \" + str(suma))"
   ]
  },
  {
   "cell_type": "code",
   "execution_count": 71,
   "metadata": {
    "tags": []
   },
   "outputs": [
    {
     "output_type": "stream",
     "name": "stdout",
     "text": "Your BMI is: 20.9\n"
    }
   ],
   "source": [
    "#Escribir un programa que pida al usuario su peso (en kg) y estatura (en metros), calcule el índice de masa corporal y lo almacene en una variable, y muestre por pantalla la frase Tu índice de masa corporal es <imc> donde <imc> es el índice de masa corporal calculado redondeado con dos decimales. BMI = kg/m2 \n",
    "\n",
    "\n",
    "W = float(input(\" What is your weight in KG? \"))\n",
    "L = float(input( \" What is your lenght in Meters? \"))\n",
    "BMI = ( round( W/L**2, 2) )\n",
    "\n",
    "print(\" Your BMI is: \" + str(BMI))"
   ]
  },
  {
   "cell_type": "code",
   "execution_count": 76,
   "metadata": {
    "tags": []
   },
   "outputs": [
    {
     "output_type": "stream",
     "name": "stdout",
     "text": "27\n4\n6.75\n23\n27 entre 4 da un cociente de: 6.75 y un resto de: 23\n"
    }
   ],
   "source": [
    "#Escribir un programa que pida al usuario dos números enteros y muestre por pantalla la <n> entre <m> da un cociente <c> y un resto <r> donde <n> y <m> son los números introducidos por el usuario, y <c> y <r> son el cociente y el resto de la división entera respectivamente.\n",
    "\n",
    "n = int(input( \" provide an even number \"))\n",
    "m = int(input( \" Provide a second even number\"))\n",
    "c = (n // m)\n",
    "r = (n - m)\n",
    "\n",
    "print(n)\n",
    "print(m)\n",
    "print(c)\n",
    "print(r)\n",
    "print( str(n) + \" entre \" + str(m) + \" da un cociente de: \" + str(c) + \" y un resto de: \" + str(r))"
   ]
  },
  {
   "cell_type": "code",
   "execution_count": 81,
   "metadata": {
    "tags": []
   },
   "outputs": [
    {
     "output_type": "stream",
     "name": "stdout",
     "text": "578.81\n"
    }
   ],
   "source": [
    "#Escribir un programa que pregunte al usuario una cantidad a invertir, el interés anual y el número de años, y muestre por pantalla el capital obtenido en la inversión.\n",
    "\n",
    "invested_amount = float( input( \"How much money do you want to invest? \"))\n",
    "interest = float( input( \"How much interest per year in percentage? \"))\n",
    "years = float( input( \"How many years do you want to invest the money? \"))\n",
    "\n",
    "Total_capital = ( round( invested_amount * (interest / 100 + 1) ** years, 2))\n",
    "print(Total_capital)\n"
   ]
  },
  {
   "cell_type": "code",
   "execution_count": 85,
   "metadata": {
    "tags": []
   },
   "outputs": [
    {
     "output_type": "stream",
     "name": "stdout",
     "text": "Peso total del pedido es: 636 gram.\n"
    }
   ],
   "source": [
    "#Una juguetería tiene mucho éxito en dos de sus productos: payasos y muñecas. Suele hacer venta por correo y la empresa de logística les cobra por peso de cada paquete así que deben calcular el peso de los payasos y muñecas que saldrán en cada paquete a demanda. Cada payaso pesa 112 g y cada muñeca 75 g. Escribir un programa que lea el número de payasos y muñecas vendidos en el último pedido y calcule el peso total del paquete que será enviado.\n",
    "\n",
    "P = int(input( \"Cuantos payasos? \"))\n",
    "M = int(input(\"Cuantas munecas\"))\n",
    "\n",
    "peso_total = round((P * 112) + (M * 75))\n",
    "print(\"Peso total del pedido es: \" + str(peso_total) + \" gram.\")"
   ]
  },
  {
   "cell_type": "code",
   "execution_count": 90,
   "metadata": {
    "tags": []
   },
   "outputs": [
    {
     "output_type": "stream",
     "name": "stdout",
     "text": "When putting 400.0 in the bank that has an interes of 4%, you will have: 416.0 after one year and: 432.64 after two years and: 449.95 after three years. \n"
    }
   ],
   "source": [
    "#Imagina que acabas de abrir una nueva cuenta de ahorros que te ofrece el 4% de interés al año. Estos ahorros debido a intereses, que no se cobran hasta finales de año, se te añaden al balance final de tu cuenta de ahorros. Escribir un programa que comience leyendo la cantidad de dinero depositada en la cuenta de ahorros, introducida por el usuario. Después el programa debe calcular y mostrar por pantalla la cantidad de ahorros tras el primer, segundo y tercer años. Redondear cada cantidad a dos decimales.\n",
    "\n",
    "amount = float(input( \"How much money do you have on your balance?\"))\n",
    "interes_ano_en_percentage = 4\n",
    "balance_y1 = round(amount * (4 / 100 + 1), 2)\n",
    "balance_y2 = round(balance_y1 * (4 / 100 +1),2)\n",
    "balance_y3 = round(balance_y2 * (4 / 100 +1), 2)\n",
    "\n",
    "print(\"When putting \" + str(amount) + \" in the bank that has an interes of 4%, you will have: \" + str(balance_y1) + \" after one year and: \" + str(balance_y2) + \" after two years and: \" + str(balance_y3) + \" after three years. \")"
   ]
  },
  {
   "cell_type": "code",
   "execution_count": 97,
   "metadata": {
    "tags": []
   },
   "outputs": [
    {
     "output_type": "stream",
     "name": "stdout",
     "text": "When selling 5 breads that are not fresh, you will earn only: 6.98€ instead of: 17.45€ as there is a discount of: 10.47€.\n"
    }
   ],
   "source": [
    "#Una panadería vende barras de pan a 3.49€ cada una. El pan que no es el día tiene un descuento del 60%. Escribir un programa que comience leyendo el número de barras vendidas que no son del día. Después el programa debe mostrar el precio habitual de una barra de pan, el descuento que se le hace por no ser fresca y el coste final total.\n",
    "\n",
    "old_bread_sold = int(input( \" How many breads were sold that were not fresh from today? \"))\n",
    "normal_earning = float(round(old_bread_sold * 3.49, 2))\n",
    "earning_reduced_price = float(round(old_bread_sold * (3.49 * 0.40), 2))\n",
    "\n",
    "print( \"When selling \" + str(old_bread_sold) + \" breads that are not fresh, you will earn only: \" + str(earning_reduced_price) + \"€ instead of: \" + str(normal_earning) + \"€ as there is a discount of: \" + str(round(normal_earning - earning_reduced_price, 2)) + \"€.\") \n",
    "\n"
   ]
  },
  {
   "cell_type": "code",
   "execution_count": null,
   "metadata": {},
   "outputs": [],
   "source": []
  },
  {
   "cell_type": "code",
   "execution_count": 3,
   "metadata": {
    "tags": []
   },
   "outputs": [],
   "source": [
    "\n",
    "    "
   ]
  },
  {
   "cell_type": "code",
   "execution_count": null,
   "metadata": {},
   "outputs": [],
   "source": []
  }
 ],
 "metadata": {
  "language_info": {
   "codemirror_mode": {
    "name": "ipython",
    "version": 3
   },
   "file_extension": ".py",
   "mimetype": "text/x-python",
   "name": "python",
   "nbconvert_exporter": "python",
   "pygments_lexer": "ipython3",
   "version": "3.7.6-final"
  },
  "orig_nbformat": 2,
  "kernelspec": {
   "name": "python3",
   "display_name": "Python 3"
  }
 },
 "nbformat": 4,
 "nbformat_minor": 2
}