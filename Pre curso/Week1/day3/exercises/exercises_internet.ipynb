{
 "cells": [
  {
   "cell_type": "code",
   "execution_count": null,
   "metadata": {},
   "outputs": [],
   "source": []
  },
  {
   "cell_type": "code",
   "execution_count": 1,
   "metadata": {},
   "outputs": [
    {
     "output_type": "stream",
     "name": "stdout",
     "text": "Hola mundo!\n"
    }
   ],
   "source": [
    "# Escribir un programa que muestre por pantalla la cadena ¡Hola Mundo!\n",
    "\n",
    "print(\"Hola mundo!\")"
   ]
  },
  {
   "cell_type": "code",
   "execution_count": 2,
   "metadata": {},
   "outputs": [
    {
     "output_type": "stream",
     "name": "stdout",
     "text": "Hola mundo!\n"
    }
   ],
   "source": [
    "#Escribir un programa que almacene la cadena ¡Hola Mundo! en una variable y luego muestre por pantalla el contenido de la variable.\n",
    "\n",
    "x = \"Hola mundo!\"\n",
    "print(x)\n",
    "\n"
   ]
  },
  {
   "cell_type": "code",
   "execution_count": 11,
   "metadata": {},
   "outputs": [
    {
     "output_type": "stream",
     "name": "stdout",
     "text": "hola Roxanna\n"
    }
   ],
   "source": [
    "#Escribir un programa que pregunte el nombre del usuario en la consola y después de que el usuario lo introduzca muestre por pantalla la cadena ¡Hola <nombre>!, donde <nombre> es el nombre que el usuario haya introducido.\n",
    "\n",
    "name = input(\"what is your name:\")\n",
    "print(\"hola \" + name)\n",
    "\n"
   ]
  },
  {
   "cell_type": "code",
   "execution_count": 14,
   "metadata": {
    "tags": []
   },
   "outputs": [
    {
     "output_type": "stream",
     "name": "stdout",
     "text": "Roxanna\nRoxanna\nRoxanna\nRoxanna\n\n"
    }
   ],
   "source": [
    "# Escribir un programa que pregunte el nombre del usuario en la consola y un número entero e imprima por pantalla en líneas distintas el nombre del usuario tantas veces como el número introducido.\n",
    "\n",
    "name = input(\"what is your name: \")\n",
    "number = input(\"provide a number: \")\n",
    "\n",
    "print((name + \"\\n\") * int(number) )\n",
    "\n",
    "# Questions: how to add space in between the names and how to print on seperate lines. "
   ]
  },
  {
   "cell_type": "code",
   "execution_count": 21,
   "metadata": {
    "tags": []
   },
   "outputs": [
    {
     "output_type": "stream",
     "name": "stdout",
     "text": "ROXANNA tiene 7 letras\n"
    }
   ],
   "source": [
    "#Escribir un programa que pregunte el nombre del usuario en la consola y después de que el usuario lo introduzca muestre por pantalla <NOMBRE> tiene <n> letras, donde <NOMBRE> es el nombre de usuario en mayúsculas y <n> es el número de letras que tienen el nombre.\n",
    "\n",
    "name = input(\"what is your name: \" )\n",
    "n = len(name)\n",
    "\n",
    "\n",
    "print(name.upper() + \" tiene \" + str(n) + \" letras\")"
   ]
  },
  {
   "cell_type": "code",
   "execution_count": 37,
   "metadata": {
    "tags": []
   },
   "outputs": [
    {
     "output_type": "stream",
     "name": "stdout",
     "text": "0.25\n"
    }
   ],
   "source": [
    "#Escribir un programa que realice la siguiente operación aritmética (3+22⋅5)2.\n",
    "\n",
    "\n",
    "x = (((3 + 2) / (2*5))**2)\n",
    "print(x)\n"
   ]
  },
  {
   "cell_type": "code",
   "execution_count": 45,
   "metadata": {
    "tags": []
   },
   "outputs": [
    {
     "output_type": "stream",
     "name": "stdout",
     "text": "Your salary is: 83.6\n"
    }
   ],
   "source": [
    "#Escribir un programa que pregunte al usuario por el número de horas trabajadas y el coste por hora. Después debe mostrar por pantalla la paga que le corresponde.\n",
    "\n",
    "H = input(\" How many hours did you work? \")\n",
    "S = input(\" How much do you earn per hour? \")\n",
    "salary = float(H) * float(S)\n",
    "print( \"Your salary is: \" + str(salary))"
   ]
  },
  {
   "cell_type": "code",
   "execution_count": 66,
   "metadata": {
    "tags": []
   },
   "outputs": [
    {
     "output_type": "stream",
     "name": "stdout",
     "text": "The sum of the number 1 to number 5 is: 15.0\n"
    }
   ],
   "source": [
    "# Escribir un programa que lea un entero positivo, 𝑛, introducido por el usuario y después muestre en pantalla la suma de todos los enteros desde 1 hasta 𝑛. La suma de los 𝑛 primeros enteros positivos puede ser calculada de la siguiente forma: suma=𝑛(𝑛+1)2\n",
    "\n",
    "n = int(input(\"Provide an even number: \"))\n",
    "\n",
    "suma = (n * (n+1)) / 2 \n",
    "\n",
    "print( \"The sum of the number 1 to number \" + str(n) + \" is: \" + str(suma))"
   ]
  },
  {
   "cell_type": "code",
   "execution_count": 71,
   "metadata": {
    "tags": []
   },
   "outputs": [
    {
     "output_type": "stream",
     "name": "stdout",
     "text": "Your BMI is: 20.9\n"
    }
   ],
   "source": [
    "#Escribir un programa que pida al usuario su peso (en kg) y estatura (en metros), calcule el índice de masa corporal y lo almacene en una variable, y muestre por pantalla la frase Tu índice de masa corporal es <imc> donde <imc> es el índice de masa corporal calculado redondeado con dos decimales. BMI = kg/m2 \n",
    "\n",
    "\n",
    "W = float(input(\" What is your weight in KG? \"))\n",
    "L = float(input( \" What is your lenght in Meters? \"))\n",
    "BMI = ( round( W/L**2, 2) )\n",
    "\n",
    "print(\" Your BMI is: \" + str(BMI))"
   ]
  },
  {
   "cell_type": "code",
   "execution_count": 76,
   "metadata": {
    "tags": []
   },
   "outputs": [
    {
     "output_type": "stream",
     "name": "stdout",
     "text": "27\n4\n6.75\n23\n27 entre 4 da un cociente de: 6.75 y un resto de: 23\n"
    }
   ],
   "source": [
    "#Escribir un programa que pida al usuario dos números enteros y muestre por pantalla la <n> entre <m> da un cociente <c> y un resto <r> donde <n> y <m> son los números introducidos por el usuario, y <c> y <r> son el cociente y el resto de la división entera respectivamente.\n",
    "\n",
    "n = int(input( \" provide an even number \"))\n",
    "m = int(input( \" Provide a second even number\"))\n",
    "c = (n // m)\n",
    "r = (n - m)\n",
    "\n",
    "print(n)\n",
    "print(m)\n",
    "print(c)\n",
    "print(r)\n",
    "print( str(n) + \" entre \" + str(m) + \" da un cociente de: \" + str(c) + \" y un resto de: \" + str(r))"
   ]
  },
  {
   "cell_type": "code",
   "execution_count": 81,
   "metadata": {
    "tags": []
   },
   "outputs": [
    {
     "output_type": "stream",
     "name": "stdout",
     "text": "578.81\n"
    }
   ],
   "source": [
    "#Escribir un programa que pregunte al usuario una cantidad a invertir, el interés anual y el número de años, y muestre por pantalla el capital obtenido en la inversión.\n",
    "\n",
    "invested_amount = float( input( \"How much money do you want to invest? \"))\n",
    "interest = float( input( \"How much interest per year in percentage? \"))\n",
    "years = float( input( \"How many years do you want to invest the money? \"))\n",
    "\n",
    "Total_capital = ( round( invested_amount * (interest / 100 + 1) ** years, 2))\n",
    "print(Total_capital)\n"
   ]
  },
  {
   "cell_type": "code",
   "execution_count": 85,
   "metadata": {
    "tags": []
   },
   "outputs": [
    {
     "output_type": "stream",
     "name": "stdout",
     "text": "Peso total del pedido es: 636 gram.\n"
    }
   ],
   "source": [
    "#Una juguetería tiene mucho éxito en dos de sus productos: payasos y muñecas. Suele hacer venta por correo y la empresa de logística les cobra por peso de cada paquete así que deben calcular el peso de los payasos y muñecas que saldrán en cada paquete a demanda. Cada payaso pesa 112 g y cada muñeca 75 g. Escribir un programa que lea el número de payasos y muñecas vendidos en el último pedido y calcule el peso total del paquete que será enviado.\n",
    "\n",
    "P = int(input( \"Cuantos payasos? \"))\n",
    "M = int(input(\"Cuantas munecas\"))\n",
    "\n",
    "peso_total = round((P * 112) + (M * 75))\n",
    "print(\"Peso total del pedido es: \" + str(peso_total) + \" gram.\")"
   ]
  },
  {
   "cell_type": "code",
   "execution_count": 90,
   "metadata": {
    "tags": []
   },
   "outputs": [
    {
     "output_type": "stream",
     "name": "stdout",
     "text": "When putting 400.0 in the bank that has an interes of 4%, you will have: 416.0 after one year and: 432.64 after two years and: 449.95 after three years. \n"
    }
   ],
   "source": [
    "#Imagina que acabas de abrir una nueva cuenta de ahorros que te ofrece el 4% de interés al año. Estos ahorros debido a intereses, que no se cobran hasta finales de año, se te añaden al balance final de tu cuenta de ahorros. Escribir un programa que comience leyendo la cantidad de dinero depositada en la cuenta de ahorros, introducida por el usuario. Después el programa debe calcular y mostrar por pantalla la cantidad de ahorros tras el primer, segundo y tercer años. Redondear cada cantidad a dos decimales.\n",
    "\n",
    "amount = float(input( \"How much money do you have on your balance?\"))\n",
    "interes_ano_en_percentage = 4\n",
    "balance_y1 = round(amount * (4 / 100 + 1), 2)\n",
    "balance_y2 = round(balance_y1 * (4 / 100 +1),2)\n",
    "balance_y3 = round(balance_y2 * (4 / 100 +1), 2)\n",
    "\n",
    "print(\"When putting \" + str(amount) + \" in the bank that has an interes of 4%, you will have: \" + str(balance_y1) + \" after one year and: \" + str(balance_y2) + \" after two years and: \" + str(balance_y3) + \" after three years. \")"
   ]
  },
  {
   "cell_type": "code",
   "execution_count": 97,
   "metadata": {
    "tags": []
   },
   "outputs": [
    {
     "output_type": "stream",
     "name": "stdout",
     "text": "When selling 5 breads that are not fresh, you will earn only: 6.98€ instead of: 17.45€ as there is a discount of: 10.47€.\n"
    }
   ],
   "source": [
    "#Una panadería vende barras de pan a 3.49€ cada una. El pan que no es el día tiene un descuento del 60%. Escribir un programa que comience leyendo el número de barras vendidas que no son del día. Después el programa debe mostrar el precio habitual de una barra de pan, el descuento que se le hace por no ser fresca y el coste final total.\n",
    "\n",
    "old_bread_sold = int(input( \" How many breads were sold that were not fresh from today? \"))\n",
    "normal_earning = float(round(old_bread_sold * 3.49, 2))\n",
    "earning_reduced_price = float(round(old_bread_sold * (3.49 * 0.40), 2))\n",
    "\n",
    "print( \"When selling \" + str(old_bread_sold) + \" breads that are not fresh, you will earn only: \" + str(earning_reduced_price) + \"€ instead of: \" + str(normal_earning) + \"€ as there is a discount of: \" + str(round(normal_earning - earning_reduced_price, 2)) + \"€.\") \n",
    "\n"
   ]
  },
  {
   "cell_type": "code",
   "execution_count": null,
   "metadata": {},
   "outputs": [],
   "source": []
  },
  {
   "cell_type": "code",
   "execution_count": 4,
   "metadata": {
    "tags": []
   },
   "outputs": [],
   "source": [
    "### Condicionales ###\n",
    "\n",
    "    "
   ]
  },
  {
   "cell_type": "code",
   "execution_count": 9,
   "metadata": {
    "tags": []
   },
   "outputs": [
    {
     "output_type": "stream",
     "name": "stdout",
     "text": "You are not of legal age\n"
    }
   ],
   "source": [
    "# Escribir un programa que pregunte al usuario su edad y muestre por pantalla si es mayor de edad o no.\n",
    "\n",
    "age = int(input(\"How old are you? \"))\n",
    "\n",
    "if age >= 18:\n",
    "    print( \"You are of legal age\")\n",
    "else:\n",
    "    print(\"You are not of legal age\")"
   ]
  },
  {
   "cell_type": "code",
   "execution_count": 28,
   "metadata": {
    "tags": []
   },
   "outputs": [
    {
     "output_type": "stream",
     "name": "stdout",
     "text": "password correct\n"
    }
   ],
   "source": [
    "#Escribir un programa que almacene la cadena de caracteres contraseña en una variable, pregunte al usuario por la contraseña e imprima por pantalla si la contraseña introducida por el usuario coincide con la guardada en la variable sin tener en cuenta mayúsculas y minúsculas.\n",
    "\n",
    "contrasena = \"wachtwoord\"\n",
    "password_provided = input(\"Please provide password: \")\n",
    "\n",
    "if contrasena == password_provided.lower():\n",
    "    print(\"password correct\")\n",
    "else:\n",
    "    print(\"pasword incorrect\") "
   ]
  },
  {
   "cell_type": "code",
   "execution_count": 40,
   "metadata": {
    "tags": []
   },
   "outputs": [
    {
     "output_type": "stream",
     "name": "stdout",
     "text": "Error\n"
    }
   ],
   "source": [
    "#Escribir un programa que pida al usuario dos números y muestre por pantalla su división. Si el divisor es cero el programa debe mostrar un error.\n",
    "\n",
    "num_1 = float(input(\"Provide a number: \"))\n",
    "num_2 = float(input(\"Provide another number: \"))\n",
    "\n",
    "if num_2 == 0:\n",
    "    print(\"Error\")\n",
    "else:\n",
    "    print(num_1/num_2)"
   ]
  },
  {
   "cell_type": "code",
   "execution_count": 45,
   "metadata": {
    "tags": []
   },
   "outputs": [
    {
     "output_type": "stream",
     "name": "stdout",
     "text": "Number 6 is even\n"
    }
   ],
   "source": [
    "#Escribir un programa que pida al usuario un número entero y muestre por pantalla si es par o impar.\n",
    "\n",
    "numero = int(input(\"Please provide an integrer number: \"))\n",
    "\n",
    "if (numero % 2) == 0:\n",
    "    print(\"Number \" + str(numero) + \" is even\")\n",
    "else:\n",
    "    print(\"Number \" + str(numero) + \" is odd\")"
   ]
  },
  {
   "cell_type": "code",
   "execution_count": 51,
   "metadata": {
    "tags": []
   },
   "outputs": [
    {
     "output_type": "stream",
     "name": "stdout",
     "text": "You do not have to pay tax\n"
    }
   ],
   "source": [
    "#Para tributar un determinado impuesto se debe ser mayor de 16 años y tener unos ingresos iguales o superiores a 1000 € mensuales. Escribir un programa que pregunte al usuario su edad y sus ingresos mensuales y muestre por pantalla si el usuario tiene que tributar o no.\n",
    "\n",
    "edad = int(input( \"What is your age?\"))\n",
    "income = float(input(\"How much do you earn per month?\"))\n",
    "\n",
    "if edad > 16 and income >= 1000.00:\n",
    "    print(\"You have to pay tax\")\n",
    "else:\n",
    "    print(\"You do not have to pay tax\")"
   ]
  },
  {
   "cell_type": "code",
   "execution_count": 60,
   "metadata": {
    "tags": []
   },
   "outputs": [
    {
     "output_type": "stream",
     "name": "stdout",
     "text": "You are in group B\n"
    }
   ],
   "source": [
    "#Los alumnos de un curso se han dividido en dos grupos A y B de acuerdo al sexo y el nombre. El grupo A esta formado por las mujeres con un nombre anterior a la M y los hombres con un nombre posterior a la N y el grupo B por el resto. Escribir un programa que pregunte al usuario su nombre y sexo, y muestre por pantalla el grupo que le corresponde.\n",
    "\n",
    "nombre = str(input(\"What is your name?\"))\n",
    "sexo = str(input(\"Are you male of female?\"))\n",
    "\n",
    "alphabet = \"abcdefghijklmnopqrstuvwxyz\"\n",
    "\n",
    "if sexo == \"female\" and nombre[0] < alphabet[12]:\n",
    "    print(\"You are in group A\")\n",
    "elif sexo == \"male\" and nombre[0] > alphabet[13]:\n",
    "    print(\"You are in group A\")\n",
    "else:\n",
    "    print(\"You are in group B\")"
   ]
  },
  {
   "cell_type": "code",
   "execution_count": 78,
   "metadata": {
    "tags": []
   },
   "outputs": [
    {
     "output_type": "stream",
     "name": "stdout",
     "text": "Your tax rate is: 30% \n"
    }
   ],
   "source": [
    "#Los tramos impositivos para la declaración de la renta en un determinado país son los siguientes:\n",
    "\n",
    "\n",
    "renta = float(input(\"What is your yearly income?\"))\n",
    "\n",
    "if renta < 10000.00:\n",
    "    print(\"your tax rate is: 5% \")\n",
    "elif renta >= 10000.00 and renta < 20000.00:\n",
    "    print(\"Your tax rate is: 15% \")\n",
    "elif renta >= 20000.00 and renta < 35000.00:\n",
    "    print(\"Your tax rate is: 20% \")\n",
    "elif renta >= 35000.00 and renta < 60000.00:\n",
    "    print(\"Your tax rate is: 30% \")\n",
    "elif renta > 60000.00:\n",
    "    print(\"Your tax rate is: 45%\")\n",
    "\n"
   ]
  },
  {
   "cell_type": "code",
   "execution_count": 89,
   "metadata": {
    "tags": []
   },
   "outputs": [
    {
     "output_type": "stream",
     "name": "stdout",
     "text": "Entry is 10€\n"
    }
   ],
   "source": [
    "#Escribir un programa para una empresa que tiene salas de juegos para todas las edades y quiere calcular de forma automática el precio que debe cobrar a sus clientes por entrar. El programa debe preguntar al usuario la edad del cliente y mostrar el precio de la entrada. Si el cliente es menor de 4 años puede entrar gratis, si tiene entre 4 y 18 años debe pagar 5€ y si es mayor de 18 años, 10€.\n",
    "\n",
    "\n",
    "age_1 = int(input(\"What is your age?\"))\n",
    "\n",
    "if age_1 < 4:\n",
    "    print(\"Entry is free\")\n",
    "elif age_1 <= 18:\n",
    "    print(\"Entry is 5€\")\n",
    "else:\n",
    "    print(\"Entry is 10€\")"
   ]
  },
  {
   "cell_type": "code",
   "execution_count": 100,
   "metadata": {
    "tags": []
   },
   "outputs": [
    {
     "output_type": "stream",
     "name": "stdout",
     "text": "Ingredients you can choose: pimiento y tofu\nYou have chosen a vegetarian pizza. Your pizza has the following ingredients: tomato, mozzarella and pimiento\n"
    }
   ],
   "source": [
    "#La pizzería Bella Napoli ofrece pizzas vegetarianas y no vegetarianas a sus clientes. Los ingredientes para cada tipo de pizza aparecen a continuación.\n",
    "\n",
    "#Escribir un programa que pregunte al usuario si quiere una pizza vegetariana o no, y en función de su respuesta le muestre un menú con los ingredientes disponibles para que elija. Solo se puede eligir un ingrediente además de la mozzarella y el tomate que están en todas la pizzas. Al final se debe mostrar por pantalla si la pizza elegida es vegetariana o no y todos los ingredientes que lleva.\n",
    "\n",
    "\n",
    "\n",
    "pizza = str(input(\"Do you want a vegetarian pizza? please write yes or no\"))\n",
    "\n",
    "if pizza == str(\"yes\"):\n",
    "    print(\"Ingredients you can choose: pimiento y tofu\")\n",
    "elif pizza == str(\"no\"):\n",
    "    print(\"Ingredients you can choose: peperoni, jamon y salmon \")\n",
    "\n",
    "ingredient = str(input(\"Which ingredient do you want? You can only choose one.\"))\n",
    "\n",
    "if ingredient == str(\"pimiento\") or ingredient == str(\"tofu\"):\n",
    "    print(\"You have chosen a vegetarian pizza. \" + \"Your pizza has the following ingredients: tomato, mozzarella and \" + ingredient)\n",
    "elif ingredient == str(\"peperoni\") or ingredient == str(\"jamon\") or ingredient == str(\"salmon\"):\n",
    "    print(\"You have choses a non vegeatrian pizza\" + \"Your pizza has the following ingredients: tomato, mozzarella and \" + ingredient)\n",
    "else:\n",
    "    print(\"please provide one of the following ingredients: pimiento, tofu, peperoni, jamon or salmon \")"
   ]
  },
  {
   "cell_type": "code",
   "execution_count": null,
   "metadata": {},
   "outputs": [],
   "source": [
    "### exercises listas y tuplas"
   ]
  },
  {
   "cell_type": "code",
   "execution_count": 101,
   "metadata": {
    "tags": []
   },
   "outputs": [
    {
     "output_type": "stream",
     "name": "stdout",
     "text": "['Math', 'Physics', 'Chemistry', 'History', 'English']\n"
    }
   ],
   "source": [
    "#Escribir un programa que almacene las asignaturas de un curso (por ejemplo Matemáticas, Física, Química, Historia y Lengua) en una lista y la muestre por pantalla.\n",
    "\n",
    "curso = [\"Math\", \"Physics\", \"Chemistry\", \"History\", \"English\"]\n",
    "print(curso)"
   ]
  },
  {
   "cell_type": "code",
   "execution_count": 104,
   "metadata": {
    "tags": []
   },
   "outputs": [
    {
     "output_type": "stream",
     "name": "stdout",
     "text": "I study: ['Math', 'Physics', 'Chemistry', 'History', 'English']\nI study: Math\nI study: Physics\nI study: Chemistry\nI study: History\nI study: English\n"
    }
   ],
   "source": [
    "#Escribir un programa que almacene las asignaturas de un curso (por ejemplo Matemáticas, Física, Química, Historia y Lengua) en una lista y la muestre por pantalla el mensaje Yo estudio <asignatura>, donde <asignatura> es cada una de las asignaturas de la lista.\n",
    "\n",
    "curso = [\"Math\", \"Physics\", \"Chemistry\", \"History\", \"English\"]\n",
    "\n",
    "\n",
    "for subject in curso:\n",
    "    print(\"I study: \" + subject)"
   ]
  },
  {
   "cell_type": "code",
   "execution_count": 112,
   "metadata": {
    "tags": []
   },
   "outputs": [
    {
     "output_type": "stream",
     "name": "stdout",
     "text": "In Math you got a 5\nIn Physics you got a 2\nIn Chemistry you got a 10\nIn History you got a 7\nIn English you got a \n"
    }
   ],
   "source": [
    "#Escribir un programa que almacene las asignaturas de un curso (por ejemplo Matemáticas, Física, Química, Historia y Lengua) en una lista, pregunte al usuario la nota que ha sacado en cada asignatura, y después las muestre por pantalla con el mensaje En <asignatura> has sacado <nota> donde <asignatura> es cada una des las asignaturas de la lista y <nota> cada una de las correspondientes notas introducidas por el usuario.\n",
    "\n",
    "curso = [\"Math\", \"Physics\", \"Chemistry\", \"History\", \"English\"]\n",
    "\n",
    "for subject in curso:\n",
    "    print(str(\"In \" + subject + \" you got a \" + input(\"What note did you get in \" + subject + \"?\")))"
   ]
  },
  {
   "cell_type": "code",
   "execution_count": 137,
   "metadata": {
    "tags": []
   },
   "outputs": [
    {
     "output_type": "stream",
     "name": "stdout",
     "text": "The winning numbers are: ['1', '10', '2', '3', '5', '80']\n"
    }
   ],
   "source": [
    "#Escribir un programa que pregunte al usuario los números ganadores de la lotería primitiva, los almacene en una lista y los muestre por pantalla ordenados de menor a mayor.\n",
    "\n",
    "lottery_number = []\n",
    "for number in range(6):\n",
    "    lottery_number.append(input(\"Please provide winning lottery number\"))\n",
    "\n",
    "lottery_number.sort()\n",
    "\n",
    "print(\"The winning numbers are: \" + str(lottery_number))"
   ]
  },
  {
   "cell_type": "code",
   "execution_count": 141,
   "metadata": {
    "tags": []
   },
   "outputs": [
    {
     "output_type": "stream",
     "name": "stdout",
     "text": "10, 9, 8, 7, 6, 5, 4, 3, 2, 1,"
    }
   ],
   "source": [
    "#Escribir un programa que almacene en una lista los números del 1 al 10 y los muestre por pantalla en orden inverso separados por comas.\n",
    "\n",
    "numbers = [1, 2, 3, 4, 5, 6, 7, 8, 9, 10]\n",
    "numbers.reverse()\n",
    "\n",
    "for number in numbers:\n",
    "    print(number, end= \", \")"
   ]
  },
  {
   "cell_type": "code",
   "execution_count": 147,
   "metadata": {
    "tags": []
   },
   "outputs": [
    {
     "output_type": "stream",
     "name": "stdout",
     "text": "Courses to retake: ['Math', 'Physics', 'Chemistry', 'English']\n"
    }
   ],
   "source": [
    "#Escribir un programa que almacene las asignaturas de un curso (por ejemplo Matemáticas, Física, Química, Historia y Lengua) en una lista, pregunte al usuario la nota que ha sacado en cada asignatura y elimine de la lista las asignaturas aprobadas. Al final el programa debe mostrar por pantalla las asignaturas que el usuario tiene que repetir.\n",
    "\n",
    "curso_1 = [\"Math\", \"Physics\", \"Chemistry\", \"History\", \"English\"]\n",
    "\n",
    "cursos_repetir = []\n",
    "for s in curso_1:\n",
    "    note = float(input(\"What note did you get for \" + s + \" ?\"))\n",
    "    if note < 5.5:\n",
    "        cursos_repetir.append(s)\n",
    "\n",
    "print(\"Courses to retake: \" + str(cursos_repetir))"
   ]
  },
  {
   "cell_type": "code",
   "execution_count": 3,
   "metadata": {
    "tags": []
   },
   "outputs": [
    {
     "output_type": "stream",
     "name": "stdout",
     "text": "['a', 'b', 'c', 'e', 'f', 'g', 'i', 'j', 'k', 'm', 'n', 'o', 'q', 'r', 's', 'u', 'v', 'w', 'y', 'z']\n"
    }
   ],
   "source": [
    "#7 Escribir un programa que almacene el abecedario en una lista, elimine de la lista las letras que ocupen posiciones múltiplos de 3, y muestre por pantalla la lista resultante.\n",
    "\n",
    "abecedario = ['a', 'b', 'c', 'd', 'e', 'f', 'g', 'h', 'i', 'j', 'k', 'l', 'm', 'n', 'o', 'p', 'q', 'r', 's', 't', 'u', 'v', 'w', 'x', 'y', 'z']\n",
    "\n",
    "for l in abecedario:\n",
    "    index = int(abecedario.index(l))\n",
    "    if index!=0 and index%3==0:\n",
    "     abecedario.remove(l)\n",
    "\n",
    "print(abecedario)"
   ]
  },
  {
   "cell_type": "code",
   "execution_count": 170,
   "metadata": {
    "tags": []
   },
   "outputs": [
    {
     "output_type": "stream",
     "name": "stdout",
     "text": "YES\n"
    }
   ],
   "source": [
    "#Escribir un programa que pida al usuario una palabra y muestre por pantalla si es un palíndromo.\n",
    "\n",
    "palabra = str(input(\"Write a word: \"))\n",
    "\n",
    "word_reverse = \"\" \n",
    "for i in palabra: \n",
    "    word_reverse = i + word_reverse \n",
    "    if (palabra==word_reverse): \n",
    "        print(\"YES\") \n",
    "    "
   ]
  },
  {
   "cell_type": "code",
   "execution_count": null,
   "metadata": {},
   "outputs": [],
   "source": [
    "#correct answer:\n",
    "word = input(\"Introduce una palabra: \")\n",
    "reversed_word = word\n",
    "word = list(word)\n",
    "reversed_word = list(reversed_word)\n",
    "reversed_word.reverse()\n",
    "if word == reversed_word:\n",
    "    print(\"Es un palíndromo\")\n",
    "else:\n",
    "    print(\"No es un palíndromo\")"
   ]
  },
  {
   "cell_type": "code",
   "execution_count": 175,
   "metadata": {
    "tags": []
   },
   "outputs": [
    {
     "output_type": "stream",
     "name": "stdout",
     "text": "e 1\na 2\nu 1\ni 0\no 0\n"
    }
   ],
   "source": [
    "#Escribir un programa que pida al usuario una palabra y muestre por pantalla el número de veces que contiene cada vocal.\n",
    "\n",
    "palabra_1 = input(\"Write a word: \")\n",
    "vowels = \"eauio\"\n",
    "\n",
    "for v in vowels:\n",
    "    print(v, palabra_1.lower().count(v))"
   ]
  },
  {
   "cell_type": "code",
   "execution_count": 5,
   "metadata": {
    "tags": []
   },
   "outputs": [
    {
     "output_type": "stream",
     "name": "stdout",
     "text": "80\n8\n"
    }
   ],
   "source": [
    "#Escribir un programa que almacene en una lista los siguientes precios, 50, 75, 46, 22, 80, 65, 8, y muestre por pantalla el menor y el mayor de los precios.\n",
    "\n",
    "\n",
    "precios = [50, 75, 46, 22, 80, 65, 8]\n",
    "\n",
    "print(max(precios))\n",
    "\n",
    "print(min(precios))"
   ]
  },
  {
   "cell_type": "code",
   "execution_count": null,
   "metadata": {},
   "outputs": [],
   "source": [
    "#Escribir un programa que almacene los vectores (1,2,3) y (-1,0,2) en dos listas y muestre por pantalla su producto escalar.\n",
    "\n",
    "lista_1 = [\"1\", \"2\", \"3\"]\n",
    "lista_2 = [\"-1\", \"0\", \"2\"]\n"
   ]
  },
  {
   "cell_type": "code",
   "execution_count": null,
   "metadata": {},
   "outputs": [],
   "source": [
    "#Escribir un programa que almacene las matrices : (see website)\n",
    "#en una lista y muestre por pantalla su producto.\n",
    "#Nota: Para representar matrices mediante listas usar listas anidadas, representando cada vector fila en una lista.\n",
    "\n"
   ]
  },
  {
   "cell_type": "code",
   "execution_count": null,
   "metadata": {},
   "outputs": [],
   "source": [
    "#Escribir un programa que pregunte por una muestra de números, separados por comas, los guarde en una tupla y muestre por pantalla su media y desviación típica.\n",
    "\n"
   ]
  }
 ],
 "metadata": {
  "language_info": {
   "codemirror_mode": {
    "name": "ipython",
    "version": 3
   },
   "file_extension": ".py",
   "mimetype": "text/x-python",
   "name": "python",
   "nbconvert_exporter": "python",
   "pygments_lexer": "ipython3",
   "version": "3.7.6-final"
  },
  "orig_nbformat": 2,
  "kernelspec": {
   "name": "python3",
   "display_name": "Python 3"
  }
 },
 "nbformat": 4,
 "nbformat_minor": 2
}