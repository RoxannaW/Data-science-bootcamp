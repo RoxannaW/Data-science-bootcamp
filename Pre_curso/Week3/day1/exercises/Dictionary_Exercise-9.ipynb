{
 "cells": [
  {
   "cell_type": "markdown",
   "metadata": {},
   "source": [
    "### 9. Ejercicios: \n",
    "\n",
    "- Crea dos listas: una que tenga 4 nombres de ciudades y otra que tenga 4 lugares emblemáticos de la ciudad. "
   ]
  },
  {
   "cell_type": "code",
   "execution_count": 4,
   "metadata": {},
   "outputs": [],
   "source": [
    "nombre_ciudades = [\"Amsterdam\", \"Paris\", \"London\", \"Berlin\"]\n",
    "\n",
    "lugares_emblematicos = [\"a\", \"b\", \"c\", \"d\"]"
   ]
  },
  {
   "cell_type": "markdown",
   "metadata": {},
   "source": [
    "### A partir de funciones con diccionarios:\n",
    "\n",
    "- Crea un diccionario con un entero 5 como key y \"val\" como su value. "
   ]
  },
  {
   "cell_type": "code",
   "execution_count": 5,
   "metadata": {},
   "outputs": [],
   "source": [
    "dic_1 = {5:\"val\"}"
   ]
  },
  {
   "cell_type": "markdown",
   "metadata": {},
   "source": [
    "- Crea una función que a reciba dos listas 'lista1' y 'lista2' por parámetro y retorne un diccionario teniendo como keys cada elemento de 'lista1' y como values los elementos de 'lista2'. Llama a la función con las listas que has creado antes para que devuelva un diccionario con cada ciudad como key asociado a un lugar emblemático como value. \n"
   ]
  },
  {
   "cell_type": "code",
   "execution_count": 7,
   "metadata": {},
   "outputs": [
    {
     "output_type": "execute_result",
     "data": {
      "text/plain": "{'Amsterdam': 'a', 'Paris': 'b', 'London': 'c', 'Berlin': 'd'}"
     },
     "metadata": {},
     "execution_count": 7
    }
   ],
   "source": [
    "def dic_ciudades(lista1, lista2):\n",
    "    return dict(zip(lista1, lista2))\n",
    "\n",
    "x = dic_ciudades(lista1=nombre_ciudades, lista2=lugares_emblematicos)\n",
    "x"
   ]
  },
  {
   "cell_type": "markdown",
   "metadata": {},
   "source": [
    "*Hay que utilizar la lista de alumn@s con sus nombres y alturas*\n",
    "\n",
    "- Crea una función que, a partir de dos listas, retorne un diccionario en el que cada key sea el nombre de un alumno y su value debe ser la altura."
   ]
  },
  {
   "cell_type": "code",
   "execution_count": 8,
   "metadata": {},
   "outputs": [],
   "source": [
    "lista_alumnos = [[\"Jalex\", 6, 47, 1.80], [\"Tomas\", 5, 31, 1.80], [\"David\", 6, 39, 1.81], [\"Natalio\", 2, 29, 1.73], [\"Monica\", 3, 47, 1.73], [\"Roxanna\", 4,24,1.75], [\"Filipa\", 5,34,1.64], [\"Elsa\", 4, 36, 1.89], [\"Cristina\", 3, 46, 1.70], [\"Clara\", 6, 29, 1.67], [\"Alba\", 3, 29, 1.68], [\"Valeria\",1, 40, 1.60], [\"Jose Luis\", 4, 47, 1.69], [\"Gabriel\", 1, 28, 1.76], [\"Rochi\", 2, 38, 1.60], [\"Jose Maria\", 5, 51, 1.75]]"
   ]
  },
  {
   "cell_type": "code",
   "execution_count": 21,
   "metadata": {},
   "outputs": [
    {
     "output_type": "execute_result",
     "data": {
      "text/plain": "{'Jalex': 1.8,\n 'Tomas': 1.8,\n 'David': 1.81,\n 'Natalio': 1.73,\n 'Monica': 1.73,\n 'Roxanna': 1.75,\n 'Filipa': 1.64,\n 'Elsa': 1.89,\n 'Cristina': 1.7,\n 'Clara': 1.67,\n 'Alba': 1.68,\n 'Valeria': 1.6,\n 'Jose Luis': 1.69,\n 'Gabriel': 1.76,\n 'Rochi': 1.6,\n 'Jose Maria': 1.75}"
     },
     "metadata": {},
     "execution_count": 21
    }
   ],
   "source": [
    "def dic_nombre_altura_1():\n",
    "    list_names_1 = [elem[0] for elem in lista_alumnos]\n",
    "    list_length_1 = [elem[-1] for elem in lista_alumnos]\n",
    "    return dict(zip(list_names_1, list_length_1))\n",
    "\n",
    "z = dic_nombre_altura_1()\n",
    "z"
   ]
  },
  {
   "cell_type": "code",
   "execution_count": 17,
   "metadata": {
    "tags": []
   },
   "outputs": [
    {
     "output_type": "execute_result",
     "data": {
      "text/plain": "{'Jalex': 1.8,\n 'Tomas': 1.8,\n 'David': 1.81,\n 'Natalio': 1.73,\n 'Monica': 1.73,\n 'Roxanna': 1.75,\n 'Filipa': 1.64,\n 'Elsa': 1.89,\n 'Cristina': 1.7,\n 'Clara': 1.67,\n 'Alba': 1.68,\n 'Valeria': 1.6,\n 'Jose Luis': 1.69,\n 'Gabriel': 1.76,\n 'Rochi': 1.6,\n 'Jose Maria': 1.75}"
     },
     "metadata": {},
     "execution_count": 17
    }
   ],
   "source": [
    "def dic_nombre_altura():\n",
    "    list_names = []\n",
    "    list_length = []\n",
    "    for elem in lista_alumnos:\n",
    "        list_names.append(elem[0])\n",
    "        list_length.append(elem[-1])\n",
    "    \n",
    "    return dict(zip(list_names, list_length))\n",
    "\n",
    "y = dic_nombre_altura()\n",
    "y"
   ]
  },
  {
   "cell_type": "code",
   "execution_count": null,
   "metadata": {},
   "outputs": [],
   "source": []
  }
 ],
 "metadata": {
  "language_info": {
   "codemirror_mode": {
    "name": "ipython",
    "version": 3
   },
   "file_extension": ".py",
   "mimetype": "text/x-python",
   "name": "python",
   "nbconvert_exporter": "python",
   "pygments_lexer": "ipython3",
   "version": "3.7.6-final"
  },
  "orig_nbformat": 2,
  "kernelspec": {
   "name": "python3",
   "display_name": "Python 3"
  }
 },
 "nbformat": 4,
 "nbformat_minor": 2
}