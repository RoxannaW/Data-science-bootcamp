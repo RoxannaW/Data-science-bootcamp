{
 "cells": [
  {
   "cell_type": "markdown",
   "metadata": {},
   "source": [
    "# Ejercicios Precurso W2\n",
    "\n",
    "**Variables, listas, diccionarios, condicionales, booleanos, funciones, while**"
   ]
  },
  {
   "cell_type": "markdown",
   "metadata": {},
   "source": [
    "------------------------------------------------------------------------------------------------------------"
   ]
  },
  {
   "cell_type": "markdown",
   "metadata": {},
   "source": [
    "## Ejercicio 1."
   ]
  },
  {
   "cell_type": "markdown",
   "metadata": {},
   "source": [
    "1. Crea una variable llamada `numero_bridge` que tenga como valor **15**. Tipo entero.\n"
   ]
  },
  {
   "cell_type": "code",
   "execution_count": 1,
   "metadata": {},
   "outputs": [],
   "source": [
    "numero_bridge = 15"
   ]
  },
  {
   "cell_type": "markdown",
   "metadata": {},
   "source": [
    "2. Crea una variable llamada `nombre_calle`que sea un string y sea **Recoletos**\n",
    " "
   ]
  },
  {
   "cell_type": "code",
   "execution_count": 2,
   "metadata": {},
   "outputs": [],
   "source": [
    "nombre_calle = \"Recoletos\""
   ]
  },
  {
   "cell_type": "markdown",
   "metadata": {},
   "source": [
    "3. Crea una variable llamada `gusto_personal` que sea **True** si eres más de playa y **False** si eres más de montaña.\n",
    "```python\n",
    "#Ejemplo: \n",
    "gusto_personal = True  # Si te gusta más la montaña\n",
    "gusto_personal = False  # Si te gusta más la playa\n",
    "``` "
   ]
  },
  {
   "cell_type": "code",
   "execution_count": 3,
   "metadata": {},
   "outputs": [],
   "source": [
    "gusto_personal = True"
   ]
  },
  {
   "cell_type": "markdown",
   "metadata": {},
   "source": [
    "4. Crea una variable llamada `nada` de la siguiente forma: `nada = None`. None no representa ningún valor. Ha de tenerse en cuenta que si se hace `if (nada):`, `nada` actúa como un valor booleano `False`. \n"
   ]
  },
  {
   "cell_type": "code",
   "execution_count": 4,
   "metadata": {},
   "outputs": [],
   "source": [
    "nada = None"
   ]
  },
  {
   "cell_type": "markdown",
   "metadata": {},
   "source": [
    "5. Crea una variable que llamada `lista_direccion` que sea una lista y que contenga 2 valores. El primer valor debe ser la variable `numero_bridge` y el segundo valor de la lista debe ser la variable `nombre_calle`\n"
   ]
  },
  {
   "cell_type": "code",
   "execution_count": 5,
   "metadata": {},
   "outputs": [],
   "source": [
    "lista_direccion = [numero_bridge, nombre_calle]"
   ]
  },
  {
   "cell_type": "markdown",
   "metadata": {},
   "source": [
    "6. Crea una variable llamada `horas_sueno` que almacene, en forma de String, las horas que has dormido hoy.\n",
    "```python\n",
    "#Ejemplo: \n",
    "horas_sueno = \"8\" \n",
    "````\n"
   ]
  },
  {
   "cell_type": "code",
   "execution_count": 6,
   "metadata": {},
   "outputs": [],
   "source": [
    "horas_sueno = \"8\""
   ]
  },
  {
   "cell_type": "markdown",
   "metadata": {},
   "source": [
    "7. Crea una lista llamada `lista_informacion` que tenga cada una de las variables creadas anteriormente en el orden en el que se han expuesto en el ejercicio.\n",
    "IMPORTANTE: A partir de este momento y para todos estos ejercicios, solo se van a utilizar los datos almacenados en `lista_informacion`. Debe contener 6 elementos. "
   ]
  },
  {
   "cell_type": "code",
   "execution_count": 7,
   "metadata": {
    "tags": []
   },
   "outputs": [
    {
     "output_type": "stream",
     "name": "stdout",
     "text": "[15, 'Recoletos', True, None, [15, 'Recoletos'], '8']\n"
    }
   ],
   "source": [
    "lista_informacion = [numero_bridge, nombre_calle, gusto_personal, nada, lista_direccion, horas_sueno]\n",
    "print(lista_informacion)"
   ]
  },
  {
   "cell_type": "markdown",
   "metadata": {},
   "source": [
    "8. Ejecuta esta celda para borrar todas las variables que has tenido que crear antes. El contenido de `lista_informacion` no cambiará. De esta forma, nos aseguraremos de que solo uses la información de `lista_informacion`. "
   ]
  },
  {
   "cell_type": "code",
   "execution_count": 8,
   "metadata": {},
   "outputs": [],
   "source": [
    "#run this cell\n",
    "del numero_bridge\n",
    "del nombre_calle\n",
    "del gusto_personal \n",
    "del nada\n",
    "del lista_direccion\n",
    "del horas_sueno"
   ]
  },
  {
   "cell_type": "markdown",
   "metadata": {},
   "source": [
    "## Ejercicio 2."
   ]
  },
  {
   "cell_type": "markdown",
   "metadata": {},
   "source": [
    "#### Apartado 1."
   ]
  },
  {
   "cell_type": "markdown",
   "metadata": {},
   "source": [
    "Para esta parte del ejercicio has debido definir `lista_información` correctamente. Recuerda no usar las variables excepto `lista_informacion`. Leer cada punto hasta el final antes de hacer la tarea. "
   ]
  },
  {
   "cell_type": "markdown",
   "metadata": {},
   "source": [
    "Mostrar por pantalla, sin uso de funciones ni bucles:"
   ]
  },
  {
   "cell_type": "markdown",
   "metadata": {},
   "source": [
    "1. La concatenación del número de The Bridge, dos puntos y el nombre de la calle. "
   ]
  },
  {
   "cell_type": "code",
   "execution_count": 9,
   "metadata": {
    "tags": []
   },
   "outputs": [
    {
     "output_type": "stream",
     "name": "stdout",
     "text": "15  :  Recoletos\n"
    }
   ],
   "source": [
    "concatenacion_1 = print(str(lista_informacion[0]), \" : \", str(lista_informacion[1]))"
   ]
  },
  {
   "cell_type": "markdown",
   "metadata": {},
   "source": [
    "   2. La suma del número de The Bridge y las horas que has dormido hoy. "
   ]
  },
  {
   "cell_type": "code",
   "execution_count": 10,
   "metadata": {
    "tags": []
   },
   "outputs": [
    {
     "output_type": "stream",
     "name": "stdout",
     "text": "23\n"
    }
   ],
   "source": [
    "suma_1 = print(lista_informacion[0] + int(lista_informacion[-1]))"
   ]
  },
  {
   "cell_type": "markdown",
   "metadata": {},
   "source": [
    "3. La concatenación del número de The Bridge, el nombre de la calle, tu gusto personal y las horas de sueño. Cada uno debe estar separado por lo siguiente: `\" : \"`"
   ]
  },
  {
   "cell_type": "code",
   "execution_count": 11,
   "metadata": {
    "tags": []
   },
   "outputs": [
    {
     "output_type": "stream",
     "name": "stdout",
     "text": "15 : Recoletos : True : 8\n"
    }
   ],
   "source": [
    "concatenacion_2 = print(str(lista_informacion[0]) + \" : \" + lista_informacion[1] + \" : \" + str(lista_informacion[2]) + \" : \" + lista_informacion[5])"
   ]
  },
  {
   "cell_type": "markdown",
   "metadata": {},
   "source": [
    "4. Accediendo a la lista que ocupa la quinta posición de `lista_informacion`, muestra por pantalla la suma de lo siguiente. Si en la quinta posición de tu `lista_informacion` no encuentras una lista, preguntanos:\n",
    "     - La concatenación de los dos elementos. \n",
    "     - La multiplicación del tamaño de la lista y el tamaño del número de caracteres que tiene el nombre de la calle.\n"
   ]
  },
  {
   "cell_type": "code",
   "execution_count": 12,
   "metadata": {
    "tags": []
   },
   "outputs": [
    {
     "output_type": "stream",
     "name": "stdout",
     "text": "Recoletos 15\n"
    }
   ],
   "source": [
    "concatenacion_3 = print(str(lista_informacion[4][1]) + \" \" + str(lista_informacion[4][0]))\n"
   ]
  },
  {
   "cell_type": "code",
   "execution_count": 13,
   "metadata": {
    "tags": []
   },
   "outputs": [
    {
     "output_type": "stream",
     "name": "stdout",
     "text": "18\n"
    }
   ],
   "source": [
    "length = len(lista_informacion[4])\n",
    "caracters = len(lista_informacion[1])\n",
    "multiplicación_1 = length * caracters\n",
    "print(multiplicación_1)"
   ]
  },
  {
   "cell_type": "markdown",
   "metadata": {},
   "source": [
    "#### Apartado 2. "
   ]
  },
  {
   "cell_type": "markdown",
   "metadata": {},
   "source": [
    "Para resolver los siguientes ejercicios será necesario que definas una función para cada apartado, tú elige el nombre salvo que se especifique, pero asegúrate de que defines un único parámetro `lista`, que al llamar a la función se corresponderá con la variable `lista_información`. "
   ]
  },
  {
   "cell_type": "markdown",
   "metadata": {},
   "source": [
    "Nota: Cuando sea *recorre* se refiere a bucle `for`. "
   ]
  },
  {
   "cell_type": "markdown",
   "metadata": {},
   "source": [
    "   5. Mostrar por pantalla `\"Me gusta la tranquilidad\"` si te gusta más la montaña y `\"Me gusta ver las carnes al aire libre\"` si te gusta más la playa."
   ]
  },
  {
   "cell_type": "code",
   "execution_count": 14,
   "metadata": {
    "tags": []
   },
   "outputs": [
    {
     "output_type": "stream",
     "name": "stdout",
     "text": "Me gusta ver las carnes al aire libre\n"
    }
   ],
   "source": [
    "def x (lista):\n",
    "    if lista[2] == False:\n",
    "        return \"Me gusta la tranquilidad\"\n",
    "    elif lista[2] == True:\n",
    "        return \"Me gusta ver las carnes al aire libre\"\n",
    "\n",
    "print(x(lista = lista_informacion))"
   ]
  },
  {
   "cell_type": "markdown",
   "metadata": {},
   "source": [
    "6. Mostrar por pantalla `\"Hoy estoy cansado\"` si has dormido menos de 7 horas y `\"Hoy me como el mundo\"` si has dormido más de 7 horas. "
   ]
  },
  {
   "cell_type": "code",
   "execution_count": 15,
   "metadata": {
    "tags": []
   },
   "outputs": [
    {
     "output_type": "stream",
     "name": "stdout",
     "text": "Hoy me como el mundo\n"
    }
   ],
   "source": [
    "def horas(lista):\n",
    "    if int(lista[5]) < 7:\n",
    "        print(\"Hoy estoy cansada\")\n",
    "    elif int(lista[5]) > 7:\n",
    "        print(\"Hoy me como el mundo\")\n",
    "horas(lista=lista_informacion)"
   ]
  },
  {
   "cell_type": "markdown",
   "metadata": {},
   "source": [
    "7. Recorrer `lista` para mostrar todos los elementos que contiene. "
   ]
  },
  {
   "cell_type": "code",
   "execution_count": 16,
   "metadata": {
    "tags": []
   },
   "outputs": [
    {
     "output_type": "stream",
     "name": "stdout",
     "text": "15\nRecoletos\nTrue\nNone\n[15, 'Recoletos']\n8\n"
    }
   ],
   "source": [
    "def elementos(lista):\n",
    "    for elem in lista:\n",
    "        print(elem)\n",
    "\n",
    "elementos(lista = lista_informacion)"
   ]
  },
  {
   "cell_type": "markdown",
   "metadata": {},
   "source": [
    "8. Recorrer `lista` para mostrar todos los elementos que contiene concatenados con el string `\"--> OK\"`\n"
   ]
  },
  {
   "cell_type": "code",
   "execution_count": 17,
   "metadata": {
    "tags": []
   },
   "outputs": [
    {
     "output_type": "stream",
     "name": "stdout",
     "text": "15--> OK\nRecoletos--> OK\nTrue--> OK\nNone--> OK\n[15, 'Recoletos']--> OK\n8--> OK\n"
    }
   ],
   "source": [
    "def elementos_concatenados(lista):\n",
    "    for elem in lista:\n",
    "        print(str(elem) + \"--> OK\")\n",
    "\n",
    "elementos_concatenados(lista = lista_informacion)\n",
    "    "
   ]
  },
  {
   "cell_type": "markdown",
   "metadata": {},
   "source": [
    "9. Recorrer `lista` para mostrar todos los elementos que contiene excepto el primero."
   ]
  },
  {
   "cell_type": "code",
   "execution_count": 18,
   "metadata": {
    "tags": []
   },
   "outputs": [
    {
     "output_type": "stream",
     "name": "stdout",
     "text": "Recoletos\nTrue\nNone\n[15, 'Recoletos']\n8\n"
    }
   ],
   "source": [
    "def elementos_excepto_primero(lista):\n",
    "    for elem in lista:\n",
    "        if elem == lista[0]:\n",
    "            continue\n",
    "        print(elem)\n",
    "\n",
    "elementos_excepto_primero(lista = lista_informacion)"
   ]
  },
  {
   "cell_type": "markdown",
   "metadata": {},
   "source": [
    "10. Recorrer `lista` para mostrar todos los elementos que contiene excepto el último. "
   ]
  },
  {
   "cell_type": "code",
   "execution_count": 19,
   "metadata": {
    "tags": []
   },
   "outputs": [
    {
     "output_type": "stream",
     "name": "stdout",
     "text": "15\nRecoletos\nTrue\nNone\n[15, 'Recoletos']\n"
    }
   ],
   "source": [
    "def elementos_excepto_ultimo(lista):\n",
    "    for elem in lista:\n",
    "        print(elem)\n",
    "        if elem == lista[4]:\n",
    "            break\n",
    "\n",
    "elementos_excepto_ultimo(lista = lista_informacion)"
   ]
  },
  {
   "cell_type": "markdown",
   "metadata": {},
   "source": [
    "11. Recorrer `lista` para mostrar todos los elementos que contiene excepto el número de la calle y las horas que has dormido."
   ]
  },
  {
   "cell_type": "code",
   "execution_count": 20,
   "metadata": {
    "tags": []
   },
   "outputs": [
    {
     "output_type": "stream",
     "name": "stdout",
     "text": "Recoletos\nTrue\nNone\n[15, 'Recoletos']\n"
    }
   ],
   "source": [
    "def elementos_excepto_numero_horas(lista):\n",
    "    for elem in lista:\n",
    "        if elem == lista[0]:\n",
    "            continue\n",
    "        if elem == lista[5]:\n",
    "            continue\n",
    "        print(elem)\n",
    "\n",
    "elementos_excepto_numero_horas(lista=lista_informacion)"
   ]
  },
  {
   "cell_type": "markdown",
   "metadata": {},
   "source": [
    "12 . Recorrer `lista` para mostrar todos los elementos que contiene excepto el primer elemento de la lista que se encuentra en quinta posición. "
   ]
  },
  {
   "cell_type": "code",
   "execution_count": 21,
   "metadata": {},
   "outputs": [
    {
     "output_type": "execute_result",
     "data": {
      "text/plain": "[15, 'Recoletos', True, None, [15, 'Recoletos'], '8']"
     },
     "metadata": {},
     "execution_count": 21
    }
   ],
   "source": [
    "lista_informacion"
   ]
  },
  {
   "cell_type": "code",
   "execution_count": 22,
   "metadata": {},
   "outputs": [
    {
     "output_type": "execute_result",
     "data": {
      "text/plain": "[15, 'Recoletos', True, None, [15, 'Recoletos'], '8']"
     },
     "metadata": {},
     "execution_count": 22
    }
   ],
   "source": [
    "lista_informacion\n"
   ]
  },
  {
   "cell_type": "code",
   "execution_count": 23,
   "metadata": {
    "tags": []
   },
   "outputs": [
    {
     "output_type": "stream",
     "name": "stdout",
     "text": "15\nRecoletos\nTrue\nNone\nRecoletos\n8\n"
    }
   ],
   "source": [
    "def lista_sin_primero_lista(lista):\n",
    "    for x, element in enumerate(lista):\n",
    "        if isinstance(element, list):\n",
    "                print(element[1])\n",
    "                \n",
    "        else:\n",
    "            print(element)\n",
    "\n",
    "lista_sin_primero_lista(lista = lista_informacion)"
   ]
  },
  {
   "cell_type": "markdown",
   "metadata": {},
   "source": [
    "13. Recorrer `lista` para mostrar todos los elementos que contiene excepto el que contiene la información sobre si os gusta la montaña o la playa."
   ]
  },
  {
   "cell_type": "code",
   "execution_count": 24,
   "metadata": {
    "tags": []
   },
   "outputs": [
    {
     "output_type": "stream",
     "name": "stdout",
     "text": "15\nRecoletos\nNone\n[15, 'Recoletos']\n8\n"
    }
   ],
   "source": [
    "def lista_sin_gusta(lista):\n",
    "    for elem in lista:\n",
    "        if elem == True or elem == False:\n",
    "            continue\n",
    "        print(elem)\n",
    "\n",
    "lista_sin_gusta(lista = lista_informacion)"
   ]
  },
  {
   "cell_type": "markdown",
   "metadata": {},
   "source": [
    "14. Recorrer `lista` para mostrar el último elemento."
   ]
  },
  {
   "cell_type": "code",
   "execution_count": 25,
   "metadata": {
    "tags": []
   },
   "outputs": [
    {
     "output_type": "stream",
     "name": "stdout",
     "text": "8\n"
    }
   ],
   "source": [
    "def lista_sin_ultimo(lista):\n",
    "    for elem in lista:\n",
    "        if elem == lista[-1]:\n",
    "            print(elem)\n",
    "\n",
    "lista_sin_ultimo(lista = lista_informacion)\n",
    "        "
   ]
  },
  {
   "cell_type": "markdown",
   "metadata": {},
   "source": [
    "15. Crear una variable llamada `zona` y darle el valor de **None**. Recorrer `lista` y actualizar `zona` a **True** si y solo si has dormido más de 7 horas, te gusta la playa y la suma de las horas que has dormido más el número de The Bridge es menor a 24. Para cualquier otro caso, `zona` será **False**. Retornar el valor de `zona`. Esta función se llamará `funcion_zona`."
   ]
  },
  {
   "cell_type": "code",
   "execution_count": 26,
   "metadata": {},
   "outputs": [
    {
     "output_type": "execute_result",
     "data": {
      "text/plain": "[15, 'Recoletos', True, None, [15, 'Recoletos'], '8']"
     },
     "metadata": {},
     "execution_count": 26
    }
   ],
   "source": [
    "lista_informacion"
   ]
  },
  {
   "cell_type": "code",
   "execution_count": 27,
   "metadata": {
    "tags": []
   },
   "outputs": [
    {
     "output_type": "execute_result",
     "data": {
      "text/plain": "True"
     },
     "metadata": {},
     "execution_count": 27
    }
   ],
   "source": [
    "def funcion_zona(lista):\n",
    "    zona = None\n",
    "    if int(lista[5]) > 7 and lista[2] == True and (lista[0] + int(lista[5])) < 24:\n",
    "        zona = True   \n",
    "    else:\n",
    "        zona = False\n",
    "    return zona\n",
    "\n",
    "funcion_zona(lista=lista_informacion)       \n"
   ]
  },
  {
   "cell_type": "markdown",
   "metadata": {},
   "source": [
    "16. Define una función llamada `funcion_comprobacion` que recibe solo un parámetro llamado `valor_zona` que cuando llames a la función será el valor que devuelve la función `funcion_zona`, y que devuelva el valor de `valor_zona` si es **True**."
   ]
  },
  {
   "cell_type": "code",
   "execution_count": 28,
   "metadata": {},
   "outputs": [
    {
     "output_type": "execute_result",
     "data": {
      "text/plain": "True"
     },
     "metadata": {},
     "execution_count": 28
    }
   ],
   "source": [
    "def funcion_comprobacion(valor_zona):\n",
    "    if valor_zona == True:\n",
    "        return valor_zona\n",
    "\n",
    "funcion_comprobacion(valor_zona=funcion_zona(lista=lista_informacion))\n"
   ]
  },
  {
   "cell_type": "markdown",
   "metadata": {},
   "source": [
    "17. Define una función con el nombre que más te guste que utilice la función [enumerate](https://www.programiz.com/python-programming/methods/built-in/enumerate) con un bucle `for` utilizando la lista de alturas y la lista de alumnos creada en días anteriores. Las listas han de estar ordenadas para mostrar la altura acompañada del nombre del alumno al que pertenece. "
   ]
  },
  {
   "cell_type": "code",
   "execution_count": 29,
   "metadata": {},
   "outputs": [
    {
     "output_type": "execute_result",
     "data": {
      "text/plain": "[['Jalex', 6, 47, 1.8],\n ['Tomas', 5, 31, 1.8],\n ['David', 6, 39, 1.81],\n ['Natalio', 2, 29, 1.73],\n ['Monica', 3, 47, 1.73],\n ['Roxanna', 4, 24, 1.75],\n ['Filipa', 5, 34, 1.64],\n ['Elsa', 4, 36, 1.89],\n ['Cristina', 3, 46, 1.7],\n ['Clara', 6, 29, 1.67],\n ['Alba', 3, 29, 1.68],\n ['Valeria', 1, 40, 1.6],\n ['Jose Luis', 4, 47, 1.69],\n ['Gabriel', 1, 28, 1.76],\n ['Rochi', 2, 38, 1.6],\n ['Jose Maria', 5, 51, 1.75]]"
     },
     "metadata": {},
     "execution_count": 29
    }
   ],
   "source": [
    "lista_alumnos = [[\"Jalex\", 6, 47, 1.80], [\"Tomas\", 5, 31, 1.80], [\"David\", 6, 39, 1.81], [\"Natalio\", 2, 29, 1.73], [\"Monica\", 3, 47, 1.73], [\"Roxanna\", 4,24,1.75], [\"Filipa\", 5,34,1.64], [\"Elsa\", 4, 36, 1.89], [\"Cristina\", 3, 46, 1.70], [\"Clara\", 6, 29, 1.67], [\"Alba\", 3, 29, 1.68], [\"Valeria\",1, 40, 1.60], [\"Jose Luis\", 4, 47, 1.69], [\"Gabriel\", 1, 28, 1.76], [\"Rochi\", 2, 38, 1.60], [\"Jose Maria\", 5, 51, 1.75]]\n",
    "lista_alumnos"
   ]
  },
  {
   "cell_type": "code",
   "execution_count": 30,
   "metadata": {
    "tags": []
   },
   "outputs": [
    {
     "output_type": "stream",
     "name": "stdout",
     "text": "Jalex 1.8\nTomas 1.8\nDavid 1.81\nNatalio 1.73\nMonica 1.73\nRoxanna 1.75\nFilipa 1.64\nElsa 1.89\nCristina 1.7\nClara 1.67\nAlba 1.68\nValeria 1.6\nJose Luis 1.69\nGabriel 1.76\nRochi 1.6\nJose Maria 1.75\n"
    }
   ],
   "source": [
    "def lista_altura_nombre(lista):\n",
    "    for n, a in enumerate(lista):\n",
    "        print( a[0], a[3])\n",
    "\n",
    "\n",
    "\n",
    "lista_altura_nombre(lista=lista_alumnos)"
   ]
  },
  {
   "cell_type": "markdown",
   "metadata": {},
   "source": [
    "18. Hacer un programa que pregunte al usuario si le gusta la montaña y, si es que no, llame a la función `funcion_zona`. "
   ]
  },
  {
   "cell_type": "code",
   "execution_count": 31,
   "metadata": {},
   "outputs": [
    {
     "output_type": "execute_result",
     "data": {
      "text/plain": "True"
     },
     "metadata": {},
     "execution_count": 31
    }
   ],
   "source": [
    "def gusta_montana():\n",
    "    x = input(\"Do you like the mountains? Type yes or no.\")\n",
    "    if x.lower() == \"no\":\n",
    "        return funcion_zona(lista=lista_informacion)\n",
    "\n",
    "x = gusta_montana()\n",
    "x"
   ]
  },
  {
   "cell_type": "markdown",
   "metadata": {},
   "source": [
    "19. Definir una función que guarde en una variable el valor de \"nada\" y lo devuelva por pantalla. Además concatenar su valor con el número de The Bridge y mostrarlo por pantalla. Además, mostrar por pantalla un booleano **True** si el tamaño de la palabra concatenada es 6. Sino, será **False**. La función debe retornar el valor **True** o **False**. El nombre de la función será `f_s`."
   ]
  },
  {
   "cell_type": "code",
   "execution_count": 32,
   "metadata": {},
   "outputs": [
    {
     "output_type": "execute_result",
     "data": {
      "text/plain": "[15, 'Recoletos', True, None, [15, 'Recoletos'], '8']"
     },
     "metadata": {},
     "execution_count": 32
    }
   ],
   "source": [
    "lista_informacion"
   ]
  },
  {
   "cell_type": "code",
   "execution_count": 33,
   "metadata": {
    "tags": []
   },
   "outputs": [
    {
     "output_type": "stream",
     "name": "stdout",
     "text": "nada\n15nada\nTrue\n"
    },
    {
     "output_type": "execute_result",
     "data": {
      "text/plain": "True"
     },
     "metadata": {},
     "execution_count": 33
    }
   ],
   "source": [
    "def f_s(lista):\n",
    "    x = \"nada\"\n",
    "    print(x)\n",
    "    l = str(lista[0]) + x\n",
    "    print(l)\n",
    "    if len(l) == 6:\n",
    "        print(True)\n",
    "        return True\n",
    "    else:\n",
    "        print(False)\n",
    "        return False\n",
    "    \n",
    "\n",
    "\n",
    "f_s(lista=lista_informacion)"
   ]
  },
  {
   "cell_type": "markdown",
   "metadata": {},
   "source": [
    "20. Crear una lista `lista_aux` con 7 elementos, los que queráis. Después, crear una función `funcion_usa_f_s` que reciba como parámetros `f_s` y `lista`.  Si el valor de `f_s` es **True**, entonces borrar un elemento de `lista`. Si `lista` tiene algún elemento, entonces repetir el proceso hasta que no tenga elementos. El argumento para `lista` ha de ser `lista_aux` y para `f_s` será la función `f_s` del punto anterior."
   ]
  },
  {
   "cell_type": "code",
   "execution_count": 34,
   "metadata": {
    "tags": []
   },
   "outputs": [
    {
     "output_type": "stream",
     "name": "stdout",
     "text": "nada\n15nada\nTrue\nNone\n"
    }
   ],
   "source": [
    "lista_aux = [\"hi\", 2, 4, \"test\", \"12\", 9, \"bye\"]\n",
    "\n",
    "def funcion_usa_f_s(f_s, lista):\n",
    "    while f_s == True:\n",
    "        for elem in lista:\n",
    "            lista.remove(elem)\n",
    "        if len(lista) == 0:\n",
    "            break\n",
    "    \n",
    "\n",
    "x = funcion_usa_f_s(f_s=f_s(lista=lista_informacion), lista=lista_aux)\n",
    "print(x)"
   ]
  },
  {
   "cell_type": "markdown",
   "metadata": {},
   "source": [
    "21. Definir una función `numeros_pares` que tenga un parámetro de entrada `arg1`, tipo integer. La función debe retornar una lista de números de tamaño `arg1` siendo todos ellos números pares, mostrando dicha lista por pantalla."
   ]
  },
  {
   "cell_type": "code",
   "execution_count": 35,
   "metadata": {
    "tags": []
   },
   "outputs": [
    {
     "output_type": "stream",
     "name": "stdout",
     "text": "[0, 2, 4, 6, 8, 10, 12, 14, 16, 18]\n"
    }
   ],
   "source": [
    "def numeros_pares(arg1):\n",
    "    list_pares = []\n",
    "    numero = 0\n",
    "    while len(list_pares) != arg1:\n",
    "        if numero%2 == 0:\n",
    "            list_pares.append(numero)\n",
    "        numero = numero + 1\n",
    "            \n",
    "    return list_pares\n",
    "    print(list_pares)\n",
    "        \n",
    "\n",
    "\n",
    "x = numeros_pares(10)\n",
    "print(x)"
   ]
  },
  {
   "cell_type": "markdown",
   "metadata": {},
   "source": [
    "22. Crear una función que tenga una variable de entrada `arg1`, que será la lista de números pares del apartado anterior, y que elimine elementos de la lista, uno a uno, si `arg1` tiene un tamaño divisible entre 2 y, si no lo tiene, añade, solo una vez, el valor de la función `f_s`."
   ]
  },
  {
   "cell_type": "code",
   "execution_count": 36,
   "metadata": {
    "tags": []
   },
   "outputs": [
    {
     "output_type": "stream",
     "name": "stdout",
     "text": "None\n"
    }
   ],
   "source": [
    "def remove_numero(arg1):\n",
    "    for elem in arg1:\n",
    "        if elem%2 == 0:\n",
    "            arg1.remove(elem)\n",
    "        else:\n",
    "            arg1.append(f_s(lista=lista_informacion))\n",
    "            break\n",
    "            \n",
    "\n",
    "x = remove_numero(numeros_pares(12))\n",
    "print(x)"
   ]
  },
  {
   "cell_type": "markdown",
   "metadata": {},
   "source": [
    "## Ejercicio 3."
   ]
  },
  {
   "cell_type": "markdown",
   "metadata": {},
   "source": [
    "Para este ejercicio se utilizará la lista `lista_información`. Lista a la que deberás añadir las siguientes variables utilizando el método [append](https://www.w3schools.com/python/ref_list_append.asp):"
   ]
  },
  {
   "cell_type": "markdown",
   "metadata": {},
   "source": [
    "- Un booleano que sea True si utilizas gafas. False para lo contrario. \n",
    "- Un entero que represente tu edad. \n",
    "- Un float que represente el dinero que te has gastado en tu última compra.\n",
    "- Un string que represente el nombre de uno de tus tí@s. Si no tienes, el nombre de uno de tus herman@s. Si no tienes, alguno de tus abuel@s. Si no tienes, el nombre de tu mejor amigo. Y, si no tienes, el nombre de tu psicólog@.\n",
    "- Una lista que tenga como tamaño 5. Cada una de las posiciones debe representar los números que más te gusten en el rango [[0-100]] dividido entre 10. Es decir, si eliges el 11, el número sería el 1.1. Si eliges el 100, sería el 10.  "
   ]
  },
  {
   "cell_type": "code",
   "execution_count": 37,
   "metadata": {},
   "outputs": [],
   "source": [
    "lista_informacion.append(False)\n"
   ]
  },
  {
   "cell_type": "code",
   "execution_count": 38,
   "metadata": {},
   "outputs": [],
   "source": [
    "lista_informacion.append(24)\n",
    "lista_informacion.append(25.50)\n",
    "lista_informacion.append(\"Henk\")\n",
    "lista_informacion.append([10, 0.2, 8, 10, 2.5])"
   ]
  },
  {
   "cell_type": "code",
   "execution_count": 39,
   "metadata": {
    "tags": []
   },
   "outputs": [
    {
     "output_type": "stream",
     "name": "stdout",
     "text": "[15, 'Recoletos', True, None, [15, 'Recoletos'], '8', False, 24, 25.5, 'Henk', [10, 0.2, 8, 10, 2.5]]\n"
    }
   ],
   "source": [
    "print(lista_informacion)"
   ]
  },
  {
   "cell_type": "markdown",
   "metadata": {},
   "source": [
    "Por último, han de eliminarse las variables `nada` y `lista_direccion` de dos formas:\n",
    "\n",
    "- `nada` con el método [remove](https://www.programiz.com/python-programming/methods/list/remove) de una lista. \n",
    "- `lista_direccion` con el método [pop](https://www.programiz.com/python-programming/methods/list/pop) con el que se puede eliminar el elemento de una lista dada una posición. "
   ]
  },
  {
   "cell_type": "code",
   "execution_count": 40,
   "metadata": {
    "tags": []
   },
   "outputs": [
    {
     "output_type": "stream",
     "name": "stdout",
     "text": "[15, 'Recoletos', True, [15, 'Recoletos'], '8', False, 24, 25.5, 'Henk', [10, 0.2, 8, 10, 2.5]]\n"
    }
   ],
   "source": [
    "lista_informacion.remove(None)\n",
    "print(lista_informacion)"
   ]
  },
  {
   "cell_type": "code",
   "execution_count": 41,
   "metadata": {
    "tags": []
   },
   "outputs": [
    {
     "output_type": "stream",
     "name": "stdout",
     "text": "[15, 'Recoletos', True, '8', False, 24, 25.5, 'Henk', [10, 0.2, 8, 10, 2.5]]\n"
    }
   ],
   "source": [
    "lista_informacion.pop(3)\n",
    "print(lista_informacion)"
   ]
  },
  {
   "cell_type": "markdown",
   "metadata": {},
   "source": [
    "## Ejercicio 4."
   ]
  },
  {
   "cell_type": "markdown",
   "metadata": {},
   "source": [
    "**Creación de funciones con return preparatorio.**"
   ]
  },
  {
   "cell_type": "markdown",
   "metadata": {},
   "source": [
    "A partir de ahora solo se utilizará la `lista_informacion` actualizada. La `lista_informacion` debe contener 9 elementos. \n",
    "\n"
   ]
  },
  {
   "cell_type": "markdown",
   "metadata": {},
   "source": [
    "\n",
    "1. Función `nb` que reciba por parámetro `lista` y que retorne el número de The Bridge.\n",
    "\n"
   ]
  },
  {
   "cell_type": "code",
   "execution_count": 42,
   "metadata": {
    "tags": []
   },
   "outputs": [
    {
     "output_type": "stream",
     "name": "stdout",
     "text": "[15, 'Recoletos', True, '8', False, 24, 25.5, 'Henk', [10, 0.2, 8, 10, 2.5]]\n"
    }
   ],
   "source": [
    "print(lista_informacion)"
   ]
  },
  {
   "cell_type": "code",
   "execution_count": 43,
   "metadata": {},
   "outputs": [
    {
     "output_type": "execute_result",
     "data": {
      "text/plain": "15"
     },
     "metadata": {},
     "execution_count": 43
    }
   ],
   "source": [
    "def nb(lista):\n",
    "    return lista[0]\n",
    "\n",
    "nb(lista=lista_informacion)"
   ]
  },
  {
   "cell_type": "markdown",
   "metadata": {},
   "source": [
    "2. Función `nc` que reciba por parámetro `lista` y que retorne el nombre de la calle de The Bridge.\n"
   ]
  },
  {
   "cell_type": "code",
   "execution_count": 44,
   "metadata": {},
   "outputs": [
    {
     "output_type": "execute_result",
     "data": {
      "text/plain": "'Recoletos'"
     },
     "metadata": {},
     "execution_count": 44
    }
   ],
   "source": [
    "def nc(lista):\n",
    "    return lista[1]\n",
    "\n",
    "nc(lista=lista_informacion)"
   ]
  },
  {
   "cell_type": "markdown",
   "metadata": {},
   "source": [
    "3. Función `gp` que reciba por parámetro `lista` y que retorne tu gusto personal.\n"
   ]
  },
  {
   "cell_type": "code",
   "execution_count": 45,
   "metadata": {},
   "outputs": [
    {
     "output_type": "execute_result",
     "data": {
      "text/plain": "True"
     },
     "metadata": {},
     "execution_count": 45
    }
   ],
   "source": [
    "def gp(lista):\n",
    "    return lista[2]\n",
    "\n",
    "\n",
    "gp(lista=lista_informacion)"
   ]
  },
  {
   "cell_type": "markdown",
   "metadata": {},
   "source": [
    "4. Función `hs` que reciba por parámetro `lista` y que retorne las horas de sueño.\n"
   ]
  },
  {
   "cell_type": "code",
   "execution_count": 46,
   "metadata": {},
   "outputs": [
    {
     "output_type": "execute_result",
     "data": {
      "text/plain": "'8'"
     },
     "metadata": {},
     "execution_count": 46
    }
   ],
   "source": [
    "def hs(lista):\n",
    "    return lista[3]\n",
    "hs(lista=lista_informacion)"
   ]
  },
  {
   "cell_type": "markdown",
   "metadata": {},
   "source": [
    "5. Función `ul` que reciba por parámetro `lista` y que retorne la última posicón de `lista`."
   ]
  },
  {
   "cell_type": "code",
   "execution_count": 47,
   "metadata": {},
   "outputs": [
    {
     "output_type": "execute_result",
     "data": {
      "text/plain": "[10, 0.2, 8, 10, 2.5]"
     },
     "metadata": {},
     "execution_count": 47
    }
   ],
   "source": [
    "def ul(lista):\n",
    "    return lista[-1]\n",
    "\n",
    "ul(lista=lista_informacion)"
   ]
  },
  {
   "cell_type": "markdown",
   "metadata": {},
   "source": [
    "A partir de este momento, si se requiere utilizar uno de estos valores, se accederá a ellos a partir de las funciones anteriormente creadas, no directamente desde la lista."
   ]
  },
  {
   "cell_type": "markdown",
   "metadata": {},
   "source": [
    "## Apartado 5. "
   ]
  },
  {
   "cell_type": "markdown",
   "metadata": {},
   "source": [
    "**Break en bucles for.**"
   ]
  },
  {
   "cell_type": "markdown",
   "metadata": {},
   "source": [
    "1. Función `string_mayor_5` que reciba por parámetro `lista` y que al llamarla recibirá como argumento`lista_informacion`. Se debe recorrer `lista` transformando cada elemento en string y, si el tamaño del string es mayor a 5, el bucle debe parar. La función ha de devolver el primer elemento con string mayor a 5."
   ]
  },
  {
   "cell_type": "code",
   "execution_count": 48,
   "metadata": {},
   "outputs": [
    {
     "output_type": "execute_result",
     "data": {
      "text/plain": "[15, 'Recoletos', True, '8', False, 24, 25.5, 'Henk', [10, 0.2, 8, 10, 2.5]]"
     },
     "metadata": {},
     "execution_count": 48
    }
   ],
   "source": [
    "lista_informacion"
   ]
  },
  {
   "cell_type": "code",
   "execution_count": 49,
   "metadata": {
    "tags": []
   },
   "outputs": [
    {
     "output_type": "execute_result",
     "data": {
      "text/plain": "'Recoletos'"
     },
     "metadata": {},
     "execution_count": 49
    }
   ],
   "source": [
    "def string_mayor_5(lista):\n",
    "    for elem in lista:\n",
    "        elem = str(elem)\n",
    "        if len(elem) > 5:\n",
    "            return elem\n",
    "            break\n",
    "\n",
    "string_mayor_5(lista=lista_informacion)\n",
    "\n"
   ]
  },
  {
   "cell_type": "markdown",
   "metadata": {},
   "source": [
    "2. Función `lista_consecutivos` que recibe por parámetro `limite`. Debe retornar una lista con números que empiece en el 0 y acabe en el número `limite`. Al llamar a la función `limite` será 18. "
   ]
  },
  {
   "cell_type": "code",
   "execution_count": 50,
   "metadata": {
    "tags": []
   },
   "outputs": [
    {
     "output_type": "execute_result",
     "data": {
      "text/plain": "[0, 1, 2, 3, 4, 5, 6, 7, 8, 9, 10, 11, 12, 13, 14, 15, 16, 17, 18]"
     },
     "metadata": {},
     "execution_count": 50
    }
   ],
   "source": [
    "def lista_consecutivos(limite):\n",
    "    lista_numeros = []\n",
    "    for a in range(limite+1):\n",
    "        lista_numeros.append(a)\n",
    "         \n",
    "    return lista_numeros\n",
    "\n",
    "\n",
    "lista_consecutivos(limite=18)"
   ]
  },
  {
   "cell_type": "code",
   "execution_count": 51,
   "metadata": {},
   "outputs": [
    {
     "output_type": "execute_result",
     "data": {
      "text/plain": "[0, 1, 2, 3, 4, 5, 6, 7, 8, 9, 10, 11, 12, 13, 14, 15, 16, 17, 18]"
     },
     "metadata": {},
     "execution_count": 51
    }
   ],
   "source": [
    "def lista_consecutivos(limite):\n",
    "    lista_numeros = []\n",
    "    numero = 0\n",
    "    while numero <= limite:\n",
    "        lista_numeros.append(numero)\n",
    "        numero = numero +1\n",
    "        if numero > limite:\n",
    "            break\n",
    "    return lista_numeros\n",
    "\n",
    "\n",
    "lista_consecutivos(limite=18)"
   ]
  },
  {
   "cell_type": "markdown",
   "metadata": {},
   "source": [
    "3. Define la función posicion_15 que recibe dos parámetros, funcion_lista_consecutivos y lista. Esta función deberá devolver el elemento de la posición 15 de la lista que retorna la función lista_consecutivos.\n",
    "Dentro de esta función posicion_15, es donde habrá que llamar a funcion_lista_consecutivos dándole como argumento el tamaño de lista multiplicado por 2.\n",
    "\n",
    "#Ejemplo:\n",
    "x = posicion_15(funcion_lista_consecutivos=lista_consecutivos, lista=lista_informacion)\n",
    "``` \n",
    "\n",
    "\n"
   ]
  },
  {
   "cell_type": "code",
   "execution_count": 52,
   "metadata": {},
   "outputs": [
    {
     "output_type": "execute_result",
     "data": {
      "text/plain": "[15, 'Recoletos', True, '8', False, 24, 25.5, 'Henk', [10, 0.2, 8, 10, 2.5]]"
     },
     "metadata": {},
     "execution_count": 52
    }
   ],
   "source": [
    "lista_informacion\n"
   ]
  },
  {
   "cell_type": "code",
   "execution_count": 53,
   "metadata": {},
   "outputs": [
    {
     "output_type": "error",
     "ename": "TypeError",
     "evalue": "'function' object is not subscriptable",
     "traceback": [
      "\u001b[1;31m---------------------------------------------------------------------------\u001b[0m",
      "\u001b[1;31mTypeError\u001b[0m                                 Traceback (most recent call last)",
      "\u001b[1;32m<ipython-input-53-c698162b2da0>\u001b[0m in \u001b[0;36m<module>\u001b[1;34m\u001b[0m\n\u001b[0;32m      4\u001b[0m \u001b[1;33m\u001b[0m\u001b[0m\n\u001b[0;32m      5\u001b[0m \u001b[1;33m\u001b[0m\u001b[0m\n\u001b[1;32m----> 6\u001b[1;33m \u001b[0mposicion_15\u001b[0m\u001b[1;33m(\u001b[0m\u001b[0mfuncion_lista_consecutivos\u001b[0m\u001b[1;33m=\u001b[0m\u001b[0mlista_consecutivos\u001b[0m\u001b[1;33m,\u001b[0m \u001b[0mlista\u001b[0m\u001b[1;33m=\u001b[0m\u001b[0mlista_informacion\u001b[0m\u001b[1;33m)\u001b[0m\u001b[1;33m\u001b[0m\u001b[1;33m\u001b[0m\u001b[0m\n\u001b[0m",
      "\u001b[1;32m<ipython-input-53-c698162b2da0>\u001b[0m in \u001b[0;36mposicion_15\u001b[1;34m(funcion_lista_consecutivos, lista)\u001b[0m\n\u001b[0;32m      1\u001b[0m \u001b[1;32mdef\u001b[0m \u001b[0mposicion_15\u001b[0m\u001b[1;33m(\u001b[0m\u001b[0mfuncion_lista_consecutivos\u001b[0m\u001b[1;33m,\u001b[0m \u001b[0mlista\u001b[0m\u001b[1;33m)\u001b[0m\u001b[1;33m:\u001b[0m\u001b[1;33m\u001b[0m\u001b[1;33m\u001b[0m\u001b[0m\n\u001b[0;32m      2\u001b[0m     \u001b[0mlista_consecutivos\u001b[0m\u001b[1;33m(\u001b[0m\u001b[1;36m18\u001b[0m\u001b[1;33m)\u001b[0m\u001b[1;33m\u001b[0m\u001b[1;33m\u001b[0m\u001b[0m\n\u001b[1;32m----> 3\u001b[1;33m     \u001b[1;32mreturn\u001b[0m \u001b[0mfuncion_lista_consecutivos\u001b[0m\u001b[1;33m[\u001b[0m\u001b[1;36m15\u001b[0m\u001b[1;33m]\u001b[0m\u001b[1;33m\u001b[0m\u001b[1;33m\u001b[0m\u001b[0m\n\u001b[0m\u001b[0;32m      4\u001b[0m \u001b[1;33m\u001b[0m\u001b[0m\n\u001b[0;32m      5\u001b[0m \u001b[1;33m\u001b[0m\u001b[0m\n",
      "\u001b[1;31mTypeError\u001b[0m: 'function' object is not subscriptable"
     ]
    }
   ],
   "source": [
    "def posicion_15(funcion_lista_consecutivos, lista):\n",
    "    lista_consecutivos(18)\n",
    "    return funcion_lista_consecutivos[15]\n",
    "\n",
    "\n",
    "posicion_15(funcion_lista_consecutivos=lista_consecutivos, lista=lista_informacion)"
   ]
  },
  {
   "cell_type": "markdown",
   "metadata": {},
   "source": [
    "## Ejercicio 6. "
   ]
  },
  {
   "cell_type": "markdown",
   "metadata": {},
   "source": [
    "**Bucle while.**"
   ]
  },
  {
   "cell_type": "markdown",
   "metadata": {},
   "source": [
    "1. Crear una función que reciba por parámetro `lista` y que muestre todos los elementos que tiene usando un bucle `while`. Llamar a la función con el argumento `lista_informacion`."
   ]
  },
  {
   "cell_type": "code",
   "execution_count": 54,
   "metadata": {},
   "outputs": [
    {
     "output_type": "execute_result",
     "data": {
      "text/plain": "[15, 'Recoletos', True, '8', False, 24, 25.5, 'Henk', [10, 0.2, 8, 10, 2.5]]"
     },
     "metadata": {},
     "execution_count": 54
    }
   ],
   "source": [
    "lista_informacion"
   ]
  },
  {
   "cell_type": "code",
   "execution_count": 55,
   "metadata": {
    "tags": []
   },
   "outputs": [
    {
     "output_type": "stream",
     "name": "stdout",
     "text": "15\nRecoletos\nTrue\n8\nFalse\n24\n25.5\nHenk\n[10, 0.2, 8, 10, 2.5]\n"
    }
   ],
   "source": [
    "def ejercicio_6(lista):\n",
    "    numero = 0 \n",
    "    while numero != len(lista):\n",
    "    \tfor elem in lista:\n",
    "            print(elem)\n",
    "            numero = numero + 1\n",
    "            \n",
    "\n",
    "\n",
    "ejercicio_6(lista=lista_informacion)"
   ]
  },
  {
   "cell_type": "markdown",
   "metadata": {},
   "source": [
    "2. Realizar todos los apartados del **ejercicio 2** cuyo enunciado aparece la palabra *'recorrer'* con bucle `while` en vez de bucle `for`."
   ]
  },
  {
   "cell_type": "code",
   "execution_count": 56,
   "metadata": {},
   "outputs": [],
   "source": [
    "#Recorrer lista para mostrar todos los elementos que contiene.\n",
    "#Recorrer lista para mostrar todos los elementos que contiene concatenados con el string \"--> OK\"\n",
    "#Recorrer lista para mostrar todos los elementos que contiene excepto el primero.\n",
    "#Recorrer lista para mostrar todos los elementos que contiene excepto el último.\n",
    "#Recorrer lista para mostrar todos los elementos que contiene excepto el número de la calle y las horas que has dormido.\n",
    "#Recorrer lista para mostrar todos los elementos que contiene excepto el primer elemento de la lista que se encuentra en quinta posición.\n",
    "#Recorrer lista para mostrar todos los elementos que contiene excepto el que contiene la información sobre si os gusta la montaña o la playa\n",
    "#Recorrer lista para mostrar el último elemento.\n",
    "#Crear una variable llamada zona y darle el valor de None. Recorrer lista y actualizar zona a True si y solo si has dormido más de 7 horas, te gusta la playa y la suma de las horas que has dormido más el número de The Bridge es menor a 24. Para cualquier otro caso, zona será False. Retornar el valor de zona. Esta función se llamará funcion_zona.\n",
    "\n"
   ]
  },
  {
   "cell_type": "code",
   "execution_count": 57,
   "metadata": {
    "tags": []
   },
   "outputs": [
    {
     "output_type": "stream",
     "name": "stdout",
     "text": "15\nRecoletos\nTrue\n8\nFalse\n24\n25.5\nHenk\n[10, 0.2, 8, 10, 2.5]\n"
    }
   ],
   "source": [
    "#Recorrer lista para mostrar todos los elementos que contiene. (using while)\n",
    "\n",
    "def ejercicio_6(lista):\n",
    "    numero = 0 \n",
    "    while numero != len(lista):\n",
    "    \tfor elem in lista:\n",
    "            print(elem)\n",
    "            numero = numero + 1\n",
    "            \n",
    "\n",
    "\n",
    "ejercicio_6(lista=lista_informacion)"
   ]
  },
  {
   "cell_type": "code",
   "execution_count": 58,
   "metadata": {
    "tags": []
   },
   "outputs": [
    {
     "output_type": "stream",
     "name": "stdout",
     "text": "15-->\nRecoletos-->\nTrue-->\n8-->\nFalse-->\n24-->\n25.5-->\nHenk-->\n[10, 0.2, 8, 10, 2.5]-->\n"
    }
   ],
   "source": [
    "#Recorrer lista para mostrar todos los elementos que contiene concatenados con el string \"--> OK\" (using while)\n",
    "\n",
    "def ejercicio_6_1(lista):\n",
    "    numero = 0\n",
    "    while numero != len(lista):\n",
    "        for elem in lista:\n",
    "            print(str(elem) + \"-->\")\n",
    "            numero = numero +1\n",
    "\n",
    "ejercicio_6_1(lista=lista_informacion)"
   ]
  },
  {
   "cell_type": "code",
   "execution_count": 59,
   "metadata": {
    "tags": []
   },
   "outputs": [
    {
     "output_type": "stream",
     "name": "stdout",
     "text": "Recoletos\nTrue\n8\nFalse\n24\n25.5\nHenk\n[10, 0.2, 8, 10, 2.5]\n"
    }
   ],
   "source": [
    "#Recorrer lista para mostrar todos los elementos que contiene excepto el primero.\n",
    "\n",
    "def ejercicio_6_2(lista):\n",
    "    num = 0\n",
    "    while num != len(lista):\n",
    "        for elem in lista:\n",
    "            num = num +1\n",
    "            if elem != lista[0]:\n",
    "                print(elem)\n",
    "ejercicio_6_2(lista=lista_informacion)"
   ]
  },
  {
   "cell_type": "code",
   "execution_count": 60,
   "metadata": {
    "tags": []
   },
   "outputs": [
    {
     "output_type": "stream",
     "name": "stdout",
     "text": "15\nRecoletos\nTrue\n8\nFalse\n24\n25.5\nHenk\n"
    }
   ],
   "source": [
    "#Recorrer lista para mostrar todos los elementos que contiene excepto el último.\n",
    "def ejercicio_6_3(lista):\n",
    "    num = 0\n",
    "    while num != len(lista):\n",
    "        for elem in lista:\n",
    "            num = num +1\n",
    "            if elem != lista[-1]:\n",
    "                print(elem)\n",
    "ejercicio_6_3(lista=lista_informacion)"
   ]
  },
  {
   "cell_type": "code",
   "execution_count": 61,
   "metadata": {},
   "outputs": [
    {
     "output_type": "execute_result",
     "data": {
      "text/plain": "[15, 'Recoletos', True, '8', False, 24, 25.5, 'Henk', [10, 0.2, 8, 10, 2.5]]"
     },
     "metadata": {},
     "execution_count": 61
    }
   ],
   "source": [
    "lista_informacion\n"
   ]
  },
  {
   "cell_type": "code",
   "execution_count": 62,
   "metadata": {
    "tags": []
   },
   "outputs": [
    {
     "output_type": "stream",
     "name": "stdout",
     "text": "Recoletos\nTrue\nFalse\n24\n25.5\nHenk\n[10, 0.2, 8, 10, 2.5]\n"
    }
   ],
   "source": [
    "#Recorrer lista para mostrar todos los elementos que contiene excepto el número de la calle y las horas que has dormido.\n",
    "\n",
    "def ejercicio_6_4(lista):\n",
    "    num = 0\n",
    "    while num != len(lista):\n",
    "        for elem in lista:\n",
    "            num = num +1\n",
    "            if elem == lista[0] or elem == lista[3]:\n",
    "                continue\n",
    "\n",
    "            print(elem)\n",
    "\n",
    "ejercicio_6_4(lista=lista_informacion)"
   ]
  },
  {
   "cell_type": "code",
   "execution_count": 63,
   "metadata": {
    "tags": []
   },
   "outputs": [
    {
     "output_type": "stream",
     "name": "stdout",
     "text": "15\nRecoletos\nTrue\n8\nFalse\n24\n25.5\nHenk\n[0.2, 8, 10, 2.5]\n"
    }
   ],
   "source": [
    "#Recorrer lista para mostrar todos los elementos que contiene excepto el primer elemento de la lista que se encuentra en quinta posición. ---> lista ahora es ultimo elemento.\n",
    "\n",
    "def ejercicio_6_5(lista):\n",
    "    num = 0\n",
    "    while num != len(lista):\n",
    "        for elem in lista:\n",
    "            num = num +1\n",
    "            if isinstance(elem, list):\n",
    "                print(elem[1:])\n",
    "                continue\n",
    "                \n",
    "            print(elem)\n",
    "\n",
    "ejercicio_6_5(lista=lista_informacion)"
   ]
  },
  {
   "cell_type": "code",
   "execution_count": 64,
   "metadata": {
    "tags": []
   },
   "outputs": [
    {
     "output_type": "stream",
     "name": "stdout",
     "text": "15\nRecoletos\n8\nFalse\n24\n25.5\nHenk\n[10, 0.2, 8, 10, 2.5]\n"
    }
   ],
   "source": [
    "#Recorrer lista para mostrar todos los elementos que contiene excepto el que contiene la información sobre si os gusta la montaña o la playa\n",
    "\n",
    "def ejercicio_6_6(lista):\n",
    "    num = 0\n",
    "    while num != len(lista):\n",
    "        for elem in lista:\n",
    "            num = num +1\n",
    "            if elem == lista[2]:\n",
    "            \n",
    "                continue\n",
    "                \n",
    "            print(elem)\n",
    "\n",
    "ejercicio_6_6(lista=lista_informacion)\n"
   ]
  },
  {
   "cell_type": "code",
   "execution_count": 65,
   "metadata": {
    "tags": []
   },
   "outputs": [
    {
     "output_type": "stream",
     "name": "stdout",
     "text": "[10, 0.2, 8, 10, 2.5]\n"
    }
   ],
   "source": [
    "#Recorrer lista para mostrar el último elemento.\n",
    "\n",
    "def ejercicio_6_7(lista):\n",
    "    num = 0\n",
    "    while num != len(lista):\n",
    "        for elem in lista:\n",
    "            num = num +1\n",
    "            if elem == lista[-1]:\n",
    "                print(elem)\n",
    "\n",
    "ejercicio_6_7(lista=lista_informacion)\n"
   ]
  },
  {
   "cell_type": "code",
   "execution_count": 66,
   "metadata": {},
   "outputs": [
    {
     "output_type": "execute_result",
     "data": {
      "text/plain": "[15, 'Recoletos', True, '8', False, 24, 25.5, 'Henk', [10, 0.2, 8, 10, 2.5]]"
     },
     "metadata": {},
     "execution_count": 66
    }
   ],
   "source": [
    "lista_informacion"
   ]
  },
  {
   "cell_type": "code",
   "execution_count": 67,
   "metadata": {
    "tags": []
   },
   "outputs": [
    {
     "output_type": "stream",
     "name": "stdout",
     "text": "True\n"
    }
   ],
   "source": [
    "#Crear una variable llamada zona y darle el valor de None. Recorrer lista y actualizar zona a True si y solo si has dormido más de 7 horas, te gusta la playa y la suma de las horas que has dormido más el número de The Bridge es menor a 24. Para cualquier otro caso, zona será False. Retornar el valor de zona. Esta función se llamará funcion_zona.\n",
    "\n",
    "def ejercicio_6_8(lista):\n",
    "    zona = None\n",
    "    num = 0\n",
    "    con1 = int(lista[3]) > 7\n",
    "    con2 = lista[2] == True\n",
    "    con3 = (int(lista[3]) + lista[0]) < 24\n",
    "    while num != len(lista):\n",
    "        for elem in lista:\n",
    "            num = num +1\n",
    "            if con1 and con2 and con3:\n",
    "                zona = True\n",
    "                break\n",
    "            else:\n",
    "                zona = False\n",
    "                break\n",
    "    return zona\n",
    "\n",
    "z = ejercicio_6_8(lista=lista_informacion)\n",
    "print(z)"
   ]
  },
  {
   "cell_type": "markdown",
   "metadata": {},
   "source": [
    "3. Realizar el **ejercicio 5** con bucle `while` en vez de bucle `for`. "
   ]
  },
  {
   "cell_type": "code",
   "execution_count": 68,
   "metadata": {
    "tags": []
   },
   "outputs": [
    {
     "output_type": "stream",
     "name": "stdout",
     "text": "Recoletos\n"
    }
   ],
   "source": [
    "#Función string_mayor_5 que reciba por parámetro lista y que al llamarla recibirá como argumentolista_informacion. Se debe recorrer lista transformando cada elemento en string y, si el tamaño del string es mayor a 5, el bucle debe parar. La función ha de devolver el primer elemento con string mayor a 5.\n",
    "\n",
    "def string_mayor_5_2(lista):\n",
    "    while lista:\n",
    "        for pos, elem in enumerate(lista):\n",
    "            elem = str(elem)\n",
    "            if len(elem) > 5:\n",
    "                return elem\n",
    "                break\n",
    "\n",
    "z = string_mayor_5_2(lista=lista_informacion)\n",
    "print(z)"
   ]
  },
  {
   "cell_type": "code",
   "execution_count": 69,
   "metadata": {},
   "outputs": [
    {
     "output_type": "execute_result",
     "data": {
      "text/plain": "[0, 1, 2, 3, 4, 5, 6, 7, 8, 9, 10, 11, 12, 13, 14, 15, 16, 17, 18]"
     },
     "metadata": {},
     "execution_count": 69
    }
   ],
   "source": [
    "#Función lista_consecutivos que recibe por parámetro limite. Debe retornar una lista con números que empiece en el 0 y acabe en el número limite. Al llamar a la función limite será 18.\n",
    "\n",
    "def lista_consecutivos_1(limite):\n",
    "    list_numbers = []\n",
    "    number = 0\n",
    "    while len(list_numbers) != (limite + 1):\n",
    "        list_numbers.append(number)\n",
    "        number = number + 1\n",
    "    return list_numbers \n",
    "\n",
    "lista_consecutivos_1(limite=18)\n"
   ]
  },
  {
   "cell_type": "code",
   "execution_count": 70,
   "metadata": {},
   "outputs": [],
   "source": [
    "#Define la función posicion_15 que recibe dos parámetros, funcion_lista_consecutivos y lista. Esta función deberá devolver el elemento de la posición 15 de la lista que retorna la función lista_consecutivos. Dentro de esta función posicion_15, es donde habrá que llamar a funcion_lista_consecutivos dándole como argumento el tamaño de lista multiplicado por 2.\n",
    "#Ejemplo: x = posicion_15(funcion_lista_consecutivos=lista_consecutivos, lista=lista_informacion)"
   ]
  },
  {
   "cell_type": "code",
   "execution_count": 71,
   "metadata": {},
   "outputs": [
    {
     "output_type": "error",
     "ename": "SyntaxError",
     "evalue": "invalid syntax (<ipython-input-71-a5660f643aad>, line 1)",
     "traceback": [
      "\u001b[1;36m  File \u001b[1;32m\"<ipython-input-71-a5660f643aad>\"\u001b[1;36m, line \u001b[1;32m1\u001b[0m\n\u001b[1;33m    ======> ????????\u001b[0m\n\u001b[1;37m     ^\u001b[0m\n\u001b[1;31mSyntaxError\u001b[0m\u001b[1;31m:\u001b[0m invalid syntax\n"
     ]
    }
   ],
   "source": [
    "======> ????????"
   ]
  },
  {
   "cell_type": "markdown",
   "metadata": {},
   "source": [
    "4. Realizar una función que realice la [serie de Fibonacci](https://quantdare.com/numeros-de-fibonacci/#:~:text=En%20matem%C3%A1ticas%2C%20la%20sucesi%C3%B3n%20o,nombre%20de%20n%C3%BAmero%20de%20Fibonacci.) con un `while`."
   ]
  },
  {
   "cell_type": "code",
   "execution_count": 72,
   "metadata": {
    "tags": []
   },
   "outputs": [
    {
     "output_type": "stream",
     "name": "stdout",
     "text": "0, 1, 1, 2, 3, 5, 8, 13, 21, 34, 55, 89, 144, 233, 377, 610, 987, 1597, 2584, 4181,"
    }
   ],
   "source": [
    "def serie_de_fibonacci():\n",
    "    length_list = 20\n",
    "    x = 0\n",
    "    y = 1\n",
    "    enum = 0\n",
    "    \n",
    "    while enum < length_list:\n",
    "        print(x, end=\", \")\n",
    "        z = x + y\n",
    "        x = y\n",
    "        y = z\n",
    "        enum = enum +1\n",
    "\n",
    "serie_de_fibonacci()"
   ]
  },
  {
   "cell_type": "markdown",
   "metadata": {},
   "source": [
    "## Ejercicio 7. "
   ]
  },
  {
   "cell_type": "markdown",
   "metadata": {},
   "source": [
    "**Importación de módulos.**"
   ]
  },
  {
   "cell_type": "markdown",
   "metadata": {},
   "source": [
    "Un módulo representa un fichero de extensión `.py` que contiene código python. Importando un módulo, podemos acceder a todas las variables, funciones y clases no privadas que contiene. \n",
    "\n",
    "En la propia carpeta del día de hoy, hay un fichero llamado `nombre_modulo.py`. Vamos a importarlo y usar alguna de sus variables y funciones. "
   ]
  },
  {
   "cell_type": "markdown",
   "metadata": {},
   "source": [
    "Al igual que con los demás objetos, una vez que se ha importado el módulo no hace falta importarlo más veces. "
   ]
  },
  {
   "cell_type": "code",
   "execution_count": 73,
   "metadata": {},
   "outputs": [],
   "source": [
    "from nombre_modulo import hola_y_adios\n"
   ]
  },
  {
   "cell_type": "code",
   "execution_count": 74,
   "metadata": {
    "tags": []
   },
   "outputs": [
    {
     "output_type": "stream",
     "name": "stdout",
     "text": "hola\nadiós\n"
    }
   ],
   "source": [
    "hola_y_adios()"
   ]
  },
  {
   "cell_type": "markdown",
   "metadata": {},
   "source": [
    "## Ejercicio 8. "
   ]
  },
  {
   "cell_type": "markdown",
   "metadata": {},
   "source": [
    "**Nivel pro.**"
   ]
  },
  {
   "cell_type": "markdown",
   "metadata": {},
   "source": [
    "Para cada uno de los siguientes puntos crear un archivo `.py` que se ejecutará a través de la terminal. Estando en la carpeta que contiene el `.py`correspondiente, se ejecutará con el siguiente comando: `python3 nombre_del_programa.py`"
   ]
  },
  {
   "cell_type": "markdown",
   "metadata": {},
   "source": [
    "1. Programa **una calculadora** que pregunte por pantalla dos números y dos operadores. Se debe realizar primero una operación y luego otra. Trata de definir el mayor número de funciones posibles. "
   ]
  },
  {
   "cell_type": "code",
   "execution_count": 75,
   "metadata": {
    "tags": []
   },
   "outputs": [
    {
     "output_type": "stream",
     "name": "stdout",
     "text": "10\n1.0\n"
    }
   ],
   "source": [
    "#your code here\n",
    "def add(a,b):\n",
    "    return a+b\n",
    "def subtract(a,b):\n",
    "    return a-b\n",
    "def multiply(a,b):\n",
    "    return a*b\n",
    "def devide(a,b):\n",
    "    return a/b\n",
    "num1= int(input(\"please provide a number:\"))\n",
    "num2= int(input(\"Please provide a second number:\"))\n",
    "op1=input(\"Choose operation: add, subtract, multiply or devide\")\n",
    "op2=input(\"Choose second operation: add, subtract, multiply or devide\")\n",
    "\n",
    "def calculadora(num1,num2,op1,op2):\n",
    "    if op1 == \"add\":\n",
    "        result_calc = add(a=num1, b=num2)\n",
    "        print(result_calc)\n",
    "    elif op1 == \"subtract\":\n",
    "        result_calc = subtract(a=num1, b=num2)\n",
    "        print(result_calc)\n",
    "    elif op1 == \"multiply\":\n",
    "        result_calc = multiply(a=num1, b=num2)\n",
    "        print(result_calc)\n",
    "    elif op1 == \"devide\":\n",
    "        result_calc = devide(a=num1, b=num2)\n",
    "        print(result_calc)\n",
    "\n",
    "    if op2 == \"add\":\n",
    "        result_calc = add(a=num1, b=num2)\n",
    "        print(result_calc)\n",
    "    elif op2 == \"subtract\":\n",
    "        result_calc = subtract(a=num1, b=num2)\n",
    "        print(result_calc)\n",
    "    elif op2 == \"multiply\":\n",
    "        result_calc = multiply(a=num1, b=num2)\n",
    "        print(result_calc)\n",
    "    elif op2 == \"devide\":\n",
    "        result_calc = devide(a=num1, b=num2)\n",
    "        print(result_calc)\n",
    "\n",
    "calculadora(num1 = num1, num2=num2, op1=op1, op2=op2)\n",
    "\n"
   ]
  },
  {
   "cell_type": "markdown",
   "metadata": {},
   "source": [
    "2. Programa, definiendo funciones, el juego **piedra, papel o tijera**. "
   ]
  },
  {
   "cell_type": "code",
   "execution_count": 79,
   "metadata": {
    "tags": []
   },
   "outputs": [
    {
     "output_type": "stream",
     "name": "stdout",
     "text": "Player 2 wins!\n"
    }
   ],
   "source": [
    "player_1 = input(\"Player 1: rock, paper or scissors?\")\n",
    "player_2 = input(\"Player 2: rock, paper or scissors?\")\n",
    "\n",
    "def juego_rock_paper_scissors(a, b):\n",
    "    while a == \"rock\":\n",
    "        if b == \"paper\":\n",
    "            print(\"Player 2 wins!\")\n",
    "        elif b == \"scissors\":\n",
    "            print(\"Player 1 wins!\")\n",
    "        else:\n",
    "            print(\"It's a tie!\")\n",
    "        break\n",
    "    while a == \"paper\":\n",
    "        if b == \"scissors\":\n",
    "            print(\"Player 2 wins!\")\n",
    "        elif b == \"rock\":\n",
    "            print(\"Player 1 wins!\")\n",
    "        else:\n",
    "            print(\"It's a tie!\")\n",
    "        break\n",
    "    while a == \"scissors\":\n",
    "        if b == \"rock\":\n",
    "            print(\"Player 2 wins!\")\n",
    "        elif b == \"paper\":\n",
    "            print(\"Player 1 wins!\")\n",
    "        else:\n",
    "            print(\"It's a tie!\")\n",
    "        break\n",
    "\n",
    "juego_rock_paper_scissors(a=player_1, b=player_2)"
   ]
  },
  {
   "cell_type": "markdown",
   "metadata": {},
   "source": [
    "3. Haz un programa que, a partir de las strings `\"|\"` y `\"_\"`, muestre por pantalla un **tablero de ajedrez** 8x8. "
   ]
  },
  {
   "cell_type": "code",
   "execution_count": 77,
   "metadata": {
    "tags": []
   },
   "outputs": [
    {
     "output_type": "stream",
     "name": "stdout",
     "text": "________________\n|_|_|_|_|_|_|_|_|\n|_|_|_|_|_|_|_|_|\n|_|_|_|_|_|_|_|_|\n|_|_|_|_|_|_|_|_|\n|_|_|_|_|_|_|_|_|\n|_|_|_|_|_|_|_|_|\n|_|_|_|_|_|_|_|_|\n|_|_|_|_|_|_|_|_|\n"
    }
   ],
   "source": [
    "#your code here\n",
    "x = \"|\"\n",
    "y = \"_\"\n",
    "\n",
    "b = x + y\n",
    "\n",
    "def tablero(size):\n",
    "    print( 8 * ( 2 * y))\n",
    "    for i in range(size):\n",
    "        print((8 * b) + x)\n",
    "\n",
    "\n",
    "tablero(size=8)"
   ]
  },
  {
   "cell_type": "markdown",
   "metadata": {},
   "source": [
    "4. Haz un programa utilizando `while` que genere una **baraja de cartas** de 4 palos distintos. La baraja ha de tener 40 cartas. "
   ]
  },
  {
   "cell_type": "code",
   "execution_count": 92,
   "metadata": {
    "tags": []
   },
   "outputs": [
    {
     "output_type": "stream",
     "name": "stdout",
     "text": "Deck of cards hearts: ['hearts2', 'hearts3', 'hearts4', 'hearts5', 'hearts6', 'hearts7', 'hearts8', 'hearts9', 'hearts10', 'hearts ace']\nTotal number of cards in deck hearts: 10\nDeck of cards diamonds: ['diamonds2', 'diamonds3', 'diamonds4', 'diamonds5', 'diamonds6', 'diamonds7', 'diamonds8', 'diamonds9', 'diamonds10', 'diamonds ace']\nTotal number of cards in deck diamonds: 10\nDeck of cards spades: ['spades2', 'spades3', 'spades4', 'spades5', 'spades6', 'spades7', 'spades8', 'spades9', 'spades10', 'spades ace']\nTotal number of cards in deck spades: 10\nDeck of cards clubs: ['clubs2', 'clubs3', 'clubs4', 'clubs5', 'clubs6', 'clubs7', 'clubs8', 'clubs9', 'clubs10', 'clubs ace']\nTotal number of cards in deck clubs: 10\n"
    }
   ],
   "source": [
    "deck_of_cards = ['hearts', 'diamonds', 'spades', 'clubs']\n",
    "\n",
    "def baraja_cartas():\n",
    "    for elem in deck_of_cards:\n",
    "        number = 2\n",
    "        list_elem = []\n",
    "        while number < 11:\n",
    "            list_elem.append(elem + str(number))\n",
    "            number = number + 1\n",
    "        list_elem.append(elem + \" ace\")\n",
    "        print( \"Deck of cards \" + elem + \": \" + str(list_elem))\n",
    "        print( \"Total number of cards in deck \" + elem + \": \" + str(len(list_elem)))\n",
    "\n",
    "baraja_cartas()"
   ]
  },
  {
   "cell_type": "markdown",
   "metadata": {},
   "source": [
    "## Si has llegado hasta aquí, you are a **champion**"
   ]
  },
  {
   "cell_type": "markdown",
   "metadata": {},
   "source": [
    "![yay](https://media.giphy.com/media/l522kgooW2Qo9xtK5Z/giphy.gif)"
   ]
  },
  {
   "cell_type": "code",
   "execution_count": null,
   "metadata": {},
   "outputs": [],
   "source": []
  }
 ],
 "metadata": {
  "file_extension": ".py",
  "kernelspec": {
   "display_name": "Python 3",
   "language": "python",
   "name": "python3"
  },
  "language_info": {
   "codemirror_mode": {
    "name": "ipython",
    "version": 3
   },
   "file_extension": ".py",
   "mimetype": "text/x-python",
   "name": "python",
   "nbconvert_exporter": "python",
   "pygments_lexer": "ipython3",
   "version": "3.7.6-final"
  },
  "mimetype": "text/x-python",
  "name": "python",
  "npconvert_exporter": "python",
  "pygments_lexer": "ipython3",
  "version": 3
 },
 "nbformat": 4,
 "nbformat_minor": 4
}