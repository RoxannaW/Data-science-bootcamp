{
 "cells": [
  {
   "cell_type": "markdown",
   "metadata": {},
   "source": [
    "https://www.kaggle.com/c/titanic"
   ]
  },
  {
   "cell_type": "markdown",
   "metadata": {},
   "source": [
    "** Antes de comenzar, descarga los datos de la competición que están en la sección \"Data\" de la URL anterior (enlace a la competición).**\n",
    "\n",
    "** Lee y comprende qué se hace en cada celda del Notebook. ** \n",
    "\n",
    "*Es obligatorio usar una semilla con valor 10(seed=10) para todos los métodos que se utilicen en el notebook.* \n",
    "\n",
    "\n",
    "*Cada apartado siguiente es independiente del otro. Es decir, lo que tengas que modificar para realizar el punto 1 no lo mantengas para el punto 2.*\n",
    "\n",
    "**Se pide:** \n",
    "\n",
    "1. Realizar una reducción de dimensionalidad/PCA para intentar aumentar el porcentaje de acierto. ¿Aumenta? ¿Cómo cambia el acierto según diferentes valores de PCA? Prueba, como mínimo, con valores para \"n_components\" [2,4,5] y [0.45 y 0.95]. ¿Ha habido algún problema con algún valor?\n",
    "\n",
    "2. Realizar una normalización de los datos no categóricos y comprobar si aumenta los scores.\n",
    "\n",
    "3. Añade, como columnas, la media, mediana, varianza y covarianza de todas las columnas numéricas no categóricas y comprueba si con esas nuevas columnas se aumenta el score de los algoritmos. \n",
    "\n",
    "4. Realiza 1, 2 y 3 pero usando GridSearch para encontrar los mejores hiperparámetros (features) de los algoritmos de ML antes de sacar el score. Debes probar con al menos 3 features y 2 valores para cada feature como mínimo. \n",
    "\n",
    "Estos ejercicios, además de tratar temas de Machine Learning, trata temas de Feature Engineering dentro de la Exploración y Análisis de Datos."
   ]
  },
  {
   "cell_type": "markdown",
   "metadata": {
    "_cell_guid": "ea25cdf7-bdbc-3cf1-0737-bc51675e3374",
    "_uuid": "fed5696c67bf55a553d6d04313a77e8c617cad99"
   },
   "source": [
    "# Titanic Data Science Solutions\n",
    "\n",
    "The notebook walks us through a typical workflow for solving data science competitions at sites like Kaggle.\n",
    "\n",
    "There are several excellent notebooks to study data science competition entries. However many will skip some of the explanation on how the solution is developed as these notebooks are developed by experts for experts. The objective of this notebook is to follow a step-by-step workflow, explaining each step and rationale for every decision we take during solution development.\n",
    "\n",
    "## Workflow stages\n",
    "\n",
    "The competition solution workflow goes through seven stages described in the Data Science Solutions book.\n",
    "\n",
    "1. Question or problem definition.\n",
    "2. Acquire training and testing data.\n",
    "3. Wrangle, prepare, cleanse the data.\n",
    "4. Analyze, identify patterns, and explore the data.\n",
    "5. Model, predict and solve the problem.\n",
    "6. Visualize, report, and present the problem solving steps and final solution.\n",
    "7. Supply or submit the results.\n",
    "\n",
    "The workflow indicates general sequence of how each stage may follow the other. However there are use cases with exceptions.\n",
    "\n",
    "- We may combine mulitple workflow stages. We may analyze by visualizing data.\n",
    "- Perform a stage earlier than indicated. We may analyze data before and after wrangling.\n",
    "- Perform a stage multiple times in our workflow. Visualize stage may be used multiple times.\n",
    "- Drop a stage altogether. We may not need supply stage to productize or service enable our dataset for a competition.\n",
    "\n",
    "\n",
    "## Question and problem definition\n",
    "\n",
    "Competition sites like Kaggle define the problem to solve or questions to ask while providing the datasets for training your data science model and testing the model results against a test dataset. The question or problem definition for Titanic Survival competition is [described here at Kaggle](https://www.kaggle.com/c/titanic).\n",
    "\n",
    "> Knowing from a training set of samples listing passengers who survived or did not survive the Titanic disaster, can our model determine based on a given test dataset not containing the survival information, if these passengers in the test dataset survived or not.\n",
    "\n",
    "We may also want to develop some early understanding about the domain of our problem. This is described on the [Kaggle competition description page here](https://www.kaggle.com/c/titanic). Here are the highlights to note.\n",
    "\n",
    "- On April 15, 1912, during her maiden voyage, the Titanic sank after colliding with an iceberg, killing 1502 out of 2224 passengers and crew. Translated 32% survival rate.\n",
    "- One of the reasons that the shipwreck led to such loss of life was that there were not enough lifeboats for the passengers and crew.\n",
    "- Although there was some element of luck involved in surviving the sinking, some groups of people were more likely to survive than others, such as women, children, and the upper-class.\n",
    "\n",
    "## Workflow goals\n",
    "\n",
    "The data science solutions workflow solves for seven major goals.\n",
    "\n",
    "**Classifying.** We may want to classify or categorize our samples. We may also want to understand the implications or correlation of different classes with our solution goal.\n",
    "\n",
    "**Correlating.** One can approach the problem based on available features within the training dataset. Which features within the dataset contribute significantly to our solution goal? Statistically speaking is there a [correlation](https://en.wikiversity.org/wiki/Correlation) among a feature and solution goal? As the feature values change does the solution state change as well, and visa-versa? This can be tested both for numerical and categorical features in the given dataset. We may also want to determine correlation among features other than survival for subsequent goals and workflow stages. Correlating certain features may help in creating, completing, or correcting features.\n",
    "\n",
    "**Converting.** For modeling stage, one needs to prepare the data. Depending on the choice of model algorithm one may require all features to be converted to numerical equivalent values. So for instance converting text categorical values to numeric values.\n",
    "\n",
    "**Completing.** Data preparation may also require us to estimate any missing values within a feature. Model algorithms may work best when there are no missing values.\n",
    "\n",
    "**Correcting.** We may also analyze the given training dataset for errors or possibly innacurate values within features and try to corrent these values or exclude the samples containing the errors. One way to do this is to detect any outliers among our samples or features. We may also completely discard a feature if it is not contribting to the analysis or may significantly skew the results.\n",
    "\n",
    "**Creating.** Can we create new features based on an existing feature or a set of features, such that the new feature follows the correlation, conversion, completeness goals.\n",
    "\n",
    "**Charting.** How to select the right visualization plots and charts depending on nature of the data and the solution goals."
   ]
  },
  {
   "cell_type": "markdown",
   "metadata": {
    "_cell_guid": "56a3be4e-76ef-20c6-25e8-da16147cf6d7",
    "_uuid": "960f8b1937dc4915ce1eb0f82614b1985c4321a4"
   },
   "source": [
    "## Refactor Release 2017-Jan-29\n",
    "\n",
    "We are significantly refactoring the notebook based on (a) comments received by readers, (b) issues in porting notebook from Jupyter kernel (2.7) to Kaggle kernel (3.5), and (c) review of few more best practice kernels.\n",
    "\n",
    "### User comments\n",
    "\n",
    "- Combine training and test data for certain operations like converting titles across dataset to numerical values. (thanks @Sharan Naribole)\n",
    "- Correct observation - nearly 30% of the passengers had siblings and/or spouses aboard. (thanks @Reinhard)\n",
    "- Correctly interpreting logistic regresssion coefficients. (thanks @Reinhard)\n",
    "\n",
    "### Porting issues\n",
    "\n",
    "- Specify plot dimensions, bring legend into plot.\n",
    "\n",
    "\n",
    "### Best practices\n",
    "\n",
    "- Performing feature correlation analysis early in the project.\n",
    "- Using multiple plots instead of overlays for readability."
   ]
  },
  {
   "cell_type": "code",
   "execution_count": 1,
   "metadata": {
    "_cell_guid": "5767a33c-8f18-4034-e52d-bf7a8f7d8ab8",
    "_uuid": "847a9b3972a6be2d2f3346ff01fea976d92ecdb6",
    "collapsed": true
   },
   "outputs": [],
   "source": [
    "# data analysis and wrangling\n",
    "import pandas as pd\n",
    "import numpy as np\n",
    "import random as rnd\n",
    "\n",
    "# visualization\n",
    "import seaborn as sns\n",
    "import matplotlib.pyplot as plt\n",
    "%matplotlib inline\n",
    "\n",
    "# machine learning\n",
    "from sklearn.linear_model import LogisticRegression\n",
    "from sklearn.svm import SVC, LinearSVC\n",
    "from sklearn.ensemble import RandomForestClassifier\n",
    "from sklearn.neighbors import KNeighborsClassifier\n",
    "from sklearn.naive_bayes import GaussianNB\n",
    "from sklearn.linear_model import Perceptron\n",
    "from sklearn.linear_model import SGDClassifier\n",
    "from sklearn.tree import DecisionTreeClassifier"
   ]
  },
  {
   "cell_type": "markdown",
   "metadata": {
    "_cell_guid": "6b5dc743-15b1-aac6-405e-081def6ecca1",
    "_uuid": "2d307b99ee3d19da3c1cddf509ed179c21dec94a"
   },
   "source": [
    "## Acquire data\n",
    "\n",
    "The Python Pandas packages helps us work with our datasets. We start by acquiring the training and testing datasets into Pandas DataFrames. We also combine these datasets to run certain operations on both datasets together."
   ]
  },
  {
   "cell_type": "code",
   "execution_count": 47,
   "metadata": {
    "_cell_guid": "e7319668-86fe-8adc-438d-0eef3fd0a982",
    "_uuid": "13f38775c12ad6f914254a08f0d1ef948a2bd453",
    "collapsed": true
   },
   "outputs": [],
   "source": [
    "train_df = pd.read_csv('train.csv')\n",
    "test_df = pd.read_csv('test.csv')\n",
    "combine = [train_df, test_df]\n",
    "\n"
   ]
  },
  {
   "cell_type": "markdown",
   "metadata": {
    "_cell_guid": "3d6188f3-dc82-8ae6-dabd-83e28fcbf10d",
    "_uuid": "79282222056237a52bbbb1dbd831f057f1c23d69"
   },
   "source": [
    "## Analyze by describing data\n",
    "\n",
    "Pandas also helps describe the datasets answering following questions early in our project.\n",
    "\n",
    "**Which features are available in the dataset?**\n",
    "\n",
    "Noting the feature names for directly manipulating or analyzing these. These feature names are described on the [Kaggle data page here](https://www.kaggle.com/c/titanic/data)."
   ]
  },
  {
   "cell_type": "code",
   "execution_count": 258,
   "metadata": {
    "_cell_guid": "ce473d29-8d19-76b8-24a4-48c217286e42",
    "_uuid": "ef106f38a00e162a80c523778af6dcc778ccc1c2",
    "collapsed": true,
    "tags": []
   },
   "outputs": [
    {
     "output_type": "stream",
     "name": "stdout",
     "text": "['PassengerId' 'Survived' 'Pclass' 'Name' 'Sex' 'Age' 'SibSp' 'Parch'\n 'Ticket' 'Fare' 'Cabin' 'Embarked']\n"
    }
   ],
   "source": [
    "print(train_df.columns.values)"
   ]
  },
  {
   "cell_type": "markdown",
   "metadata": {
    "_cell_guid": "cd19a6f6-347f-be19-607b-dca950590b37",
    "_uuid": "1d7acf42af29a63bc038f14eded24e8b8146f541"
   },
   "source": [
    "**Which features are categorical?**\n",
    "\n",
    "These values classify the samples into sets of similar samples. Within categorical features are the values nominal, ordinal, ratio, or interval based? Among other things this helps us select the appropriate plots for visualization.\n",
    "\n",
    "- Categorical: Survived, Sex, and Embarked. Ordinal: Pclass.\n",
    "\n",
    "**Which features are numerical?**\n",
    "\n",
    "Which features are numerical? These values change from sample to sample. Within numerical features are the values discrete, continuous, or timeseries based? Among other things this helps us select the appropriate plots for visualization.\n",
    "\n",
    "- Continous: Age, Fare. Discrete: SibSp, Parch."
   ]
  },
  {
   "cell_type": "code",
   "execution_count": 259,
   "metadata": {
    "_cell_guid": "8d7ac195-ac1a-30a4-3f3f-80b8cf2c1c0f",
    "_uuid": "e068cd3a0465b65a0930a100cb348b9146d5fd2f",
    "collapsed": true
   },
   "outputs": [
    {
     "output_type": "execute_result",
     "data": {
      "text/plain": "   PassengerId  Survived  Pclass  \\\n0            1         0       3   \n1            2         1       1   \n2            3         1       3   \n3            4         1       1   \n4            5         0       3   \n\n                                                Name     Sex   Age  SibSp  \\\n0                            Braund, Mr. Owen Harris    male  22.0      1   \n1  Cumings, Mrs. John Bradley (Florence Briggs Th...  female  38.0      1   \n2                             Heikkinen, Miss. Laina  female  26.0      0   \n3       Futrelle, Mrs. Jacques Heath (Lily May Peel)  female  35.0      1   \n4                           Allen, Mr. William Henry    male  35.0      0   \n\n   Parch            Ticket     Fare Cabin Embarked  \n0      0         A/5 21171   7.2500   NaN        S  \n1      0          PC 17599  71.2833   C85        C  \n2      0  STON/O2. 3101282   7.9250   NaN        S  \n3      0            113803  53.1000  C123        S  \n4      0            373450   8.0500   NaN        S  ",
      "text/html": "<div>\n<style scoped>\n    .dataframe tbody tr th:only-of-type {\n        vertical-align: middle;\n    }\n\n    .dataframe tbody tr th {\n        vertical-align: top;\n    }\n\n    .dataframe thead th {\n        text-align: right;\n    }\n</style>\n<table border=\"1\" class=\"dataframe\">\n  <thead>\n    <tr style=\"text-align: right;\">\n      <th></th>\n      <th>PassengerId</th>\n      <th>Survived</th>\n      <th>Pclass</th>\n      <th>Name</th>\n      <th>Sex</th>\n      <th>Age</th>\n      <th>SibSp</th>\n      <th>Parch</th>\n      <th>Ticket</th>\n      <th>Fare</th>\n      <th>Cabin</th>\n      <th>Embarked</th>\n    </tr>\n  </thead>\n  <tbody>\n    <tr>\n      <th>0</th>\n      <td>1</td>\n      <td>0</td>\n      <td>3</td>\n      <td>Braund, Mr. Owen Harris</td>\n      <td>male</td>\n      <td>22.0</td>\n      <td>1</td>\n      <td>0</td>\n      <td>A/5 21171</td>\n      <td>7.2500</td>\n      <td>NaN</td>\n      <td>S</td>\n    </tr>\n    <tr>\n      <th>1</th>\n      <td>2</td>\n      <td>1</td>\n      <td>1</td>\n      <td>Cumings, Mrs. John Bradley (Florence Briggs Th...</td>\n      <td>female</td>\n      <td>38.0</td>\n      <td>1</td>\n      <td>0</td>\n      <td>PC 17599</td>\n      <td>71.2833</td>\n      <td>C85</td>\n      <td>C</td>\n    </tr>\n    <tr>\n      <th>2</th>\n      <td>3</td>\n      <td>1</td>\n      <td>3</td>\n      <td>Heikkinen, Miss. Laina</td>\n      <td>female</td>\n      <td>26.0</td>\n      <td>0</td>\n      <td>0</td>\n      <td>STON/O2. 3101282</td>\n      <td>7.9250</td>\n      <td>NaN</td>\n      <td>S</td>\n    </tr>\n    <tr>\n      <th>3</th>\n      <td>4</td>\n      <td>1</td>\n      <td>1</td>\n      <td>Futrelle, Mrs. Jacques Heath (Lily May Peel)</td>\n      <td>female</td>\n      <td>35.0</td>\n      <td>1</td>\n      <td>0</td>\n      <td>113803</td>\n      <td>53.1000</td>\n      <td>C123</td>\n      <td>S</td>\n    </tr>\n    <tr>\n      <th>4</th>\n      <td>5</td>\n      <td>0</td>\n      <td>3</td>\n      <td>Allen, Mr. William Henry</td>\n      <td>male</td>\n      <td>35.0</td>\n      <td>0</td>\n      <td>0</td>\n      <td>373450</td>\n      <td>8.0500</td>\n      <td>NaN</td>\n      <td>S</td>\n    </tr>\n  </tbody>\n</table>\n</div>"
     },
     "metadata": {},
     "execution_count": 259
    }
   ],
   "source": [
    "# preview the data\n",
    "train_df.head()"
   ]
  },
  {
   "cell_type": "markdown",
   "metadata": {
    "_cell_guid": "97f4e6f8-2fea-46c4-e4e8-b69062ee3d46",
    "_uuid": "c34fa51a38336d97d5f6a184908cca37daebd584"
   },
   "source": [
    "**Which features are mixed data types?**\n",
    "\n",
    "Numerical, alphanumeric data within same feature. These are candidates for correcting goal.\n",
    "\n",
    "- Ticket is a mix of numeric and alphanumeric data types. Cabin is alphanumeric.\n",
    "\n",
    "**Which features may contain errors or typos?**\n",
    "\n",
    "This is harder to review for a large dataset, however reviewing a few samples from a smaller dataset may just tell us outright, which features may require correcting.\n",
    "\n",
    "- Name feature may contain errors or typos as there are several ways used to describe a name including titles, round brackets, and quotes used for alternative or short names."
   ]
  },
  {
   "cell_type": "code",
   "execution_count": 260,
   "metadata": {
    "_cell_guid": "f6e761c2-e2ff-d300-164c-af257083bb46",
    "_uuid": "3488e80f309d29f5b68bbcfaba8d78da84f4fb7d",
    "collapsed": true
   },
   "outputs": [
    {
     "output_type": "execute_result",
     "data": {
      "text/plain": "     PassengerId  Survived  Pclass                                      Name  \\\n886          887         0       2                     Montvila, Rev. Juozas   \n887          888         1       1              Graham, Miss. Margaret Edith   \n888          889         0       3  Johnston, Miss. Catherine Helen \"Carrie\"   \n889          890         1       1                     Behr, Mr. Karl Howell   \n890          891         0       3                       Dooley, Mr. Patrick   \n\n        Sex   Age  SibSp  Parch      Ticket   Fare Cabin Embarked  \n886    male  27.0      0      0      211536  13.00   NaN        S  \n887  female  19.0      0      0      112053  30.00   B42        S  \n888  female   NaN      1      2  W./C. 6607  23.45   NaN        S  \n889    male  26.0      0      0      111369  30.00  C148        C  \n890    male  32.0      0      0      370376   7.75   NaN        Q  ",
      "text/html": "<div>\n<style scoped>\n    .dataframe tbody tr th:only-of-type {\n        vertical-align: middle;\n    }\n\n    .dataframe tbody tr th {\n        vertical-align: top;\n    }\n\n    .dataframe thead th {\n        text-align: right;\n    }\n</style>\n<table border=\"1\" class=\"dataframe\">\n  <thead>\n    <tr style=\"text-align: right;\">\n      <th></th>\n      <th>PassengerId</th>\n      <th>Survived</th>\n      <th>Pclass</th>\n      <th>Name</th>\n      <th>Sex</th>\n      <th>Age</th>\n      <th>SibSp</th>\n      <th>Parch</th>\n      <th>Ticket</th>\n      <th>Fare</th>\n      <th>Cabin</th>\n      <th>Embarked</th>\n    </tr>\n  </thead>\n  <tbody>\n    <tr>\n      <th>886</th>\n      <td>887</td>\n      <td>0</td>\n      <td>2</td>\n      <td>Montvila, Rev. Juozas</td>\n      <td>male</td>\n      <td>27.0</td>\n      <td>0</td>\n      <td>0</td>\n      <td>211536</td>\n      <td>13.00</td>\n      <td>NaN</td>\n      <td>S</td>\n    </tr>\n    <tr>\n      <th>887</th>\n      <td>888</td>\n      <td>1</td>\n      <td>1</td>\n      <td>Graham, Miss. Margaret Edith</td>\n      <td>female</td>\n      <td>19.0</td>\n      <td>0</td>\n      <td>0</td>\n      <td>112053</td>\n      <td>30.00</td>\n      <td>B42</td>\n      <td>S</td>\n    </tr>\n    <tr>\n      <th>888</th>\n      <td>889</td>\n      <td>0</td>\n      <td>3</td>\n      <td>Johnston, Miss. Catherine Helen \"Carrie\"</td>\n      <td>female</td>\n      <td>NaN</td>\n      <td>1</td>\n      <td>2</td>\n      <td>W./C. 6607</td>\n      <td>23.45</td>\n      <td>NaN</td>\n      <td>S</td>\n    </tr>\n    <tr>\n      <th>889</th>\n      <td>890</td>\n      <td>1</td>\n      <td>1</td>\n      <td>Behr, Mr. Karl Howell</td>\n      <td>male</td>\n      <td>26.0</td>\n      <td>0</td>\n      <td>0</td>\n      <td>111369</td>\n      <td>30.00</td>\n      <td>C148</td>\n      <td>C</td>\n    </tr>\n    <tr>\n      <th>890</th>\n      <td>891</td>\n      <td>0</td>\n      <td>3</td>\n      <td>Dooley, Mr. Patrick</td>\n      <td>male</td>\n      <td>32.0</td>\n      <td>0</td>\n      <td>0</td>\n      <td>370376</td>\n      <td>7.75</td>\n      <td>NaN</td>\n      <td>Q</td>\n    </tr>\n  </tbody>\n</table>\n</div>"
     },
     "metadata": {},
     "execution_count": 260
    }
   ],
   "source": [
    "train_df.tail()"
   ]
  },
  {
   "cell_type": "markdown",
   "metadata": {
    "_cell_guid": "8bfe9610-689a-29b2-26ee-f67cd4719079",
    "_uuid": "699c52b7a8d076ccd5ea5bc5d606313c558a6e8e"
   },
   "source": [
    "**Which features contain blank, null or empty values?**\n",
    "\n",
    "These will require correcting.\n",
    "\n",
    "- Cabin > Age > Embarked features contain a number of null values in that order for the training dataset.\n",
    "- Cabin > Age are incomplete in case of test dataset.\n",
    "\n",
    "**What are the data types for various features?**\n",
    "\n",
    "Helping us during converting goal.\n",
    "\n",
    "- Seven features are integer or floats. Six in case of test dataset.\n",
    "- Five features are strings (object)."
   ]
  },
  {
   "cell_type": "code",
   "execution_count": 261,
   "metadata": {
    "_cell_guid": "9b805f69-665a-2b2e-f31d-50d87d52865d",
    "_uuid": "817e1cf0ca1cb96c7a28bb81192d92261a8bf427",
    "collapsed": true,
    "tags": []
   },
   "outputs": [
    {
     "output_type": "stream",
     "name": "stdout",
     "text": "<class 'pandas.core.frame.DataFrame'>\nRangeIndex: 891 entries, 0 to 890\nData columns (total 12 columns):\n #   Column       Non-Null Count  Dtype  \n---  ------       --------------  -----  \n 0   PassengerId  891 non-null    int64  \n 1   Survived     891 non-null    int64  \n 2   Pclass       891 non-null    int64  \n 3   Name         891 non-null    object \n 4   Sex          891 non-null    object \n 5   Age          714 non-null    float64\n 6   SibSp        891 non-null    int64  \n 7   Parch        891 non-null    int64  \n 8   Ticket       891 non-null    object \n 9   Fare         891 non-null    float64\n 10  Cabin        204 non-null    object \n 11  Embarked     889 non-null    object \ndtypes: float64(2), int64(5), object(5)\nmemory usage: 83.7+ KB\n________________________________________\n<class 'pandas.core.frame.DataFrame'>\nRangeIndex: 418 entries, 0 to 417\nData columns (total 11 columns):\n #   Column       Non-Null Count  Dtype  \n---  ------       --------------  -----  \n 0   PassengerId  418 non-null    int64  \n 1   Pclass       418 non-null    int64  \n 2   Name         418 non-null    object \n 3   Sex          418 non-null    object \n 4   Age          332 non-null    float64\n 5   SibSp        418 non-null    int64  \n 6   Parch        418 non-null    int64  \n 7   Ticket       418 non-null    object \n 8   Fare         417 non-null    float64\n 9   Cabin        91 non-null     object \n 10  Embarked     418 non-null    object \ndtypes: float64(2), int64(4), object(5)\nmemory usage: 36.0+ KB\n"
    }
   ],
   "source": [
    "train_df.info()\n",
    "print('_'*40)\n",
    "test_df.info()"
   ]
  },
  {
   "cell_type": "markdown",
   "metadata": {
    "_cell_guid": "859102e1-10df-d451-2649-2d4571e5f082",
    "_uuid": "2b7c205bf25979e3242762bfebb0e3eb2fd63010"
   },
   "source": [
    "**What is the distribution of numerical feature values across the samples?**\n",
    "\n",
    "This helps us determine, among other early insights, how representative is the training dataset of the actual problem domain.\n",
    "\n",
    "- Total samples are 891 or 40% of the actual number of passengers on board the Titanic (2,224).\n",
    "- Survived is a categorical feature with 0 or 1 values.\n",
    "- Around 38% samples survived representative of the actual survival rate at 32%.\n",
    "- Most passengers (> 75%) did not travel with parents or children.\n",
    "- Nearly 30% of the passengers had siblings and/or spouse aboard.\n",
    "- Fares varied significantly with few passengers (<1%) paying as high as $512.\n",
    "- Few elderly passengers (<1%) within age range 65-80."
   ]
  },
  {
   "cell_type": "code",
   "execution_count": 262,
   "metadata": {
    "_cell_guid": "58e387fe-86e4-e068-8307-70e37fe3f37b",
    "_uuid": "380251a1c1e0b89147d321968dc739b6cc0eecf2",
    "collapsed": true
   },
   "outputs": [
    {
     "output_type": "execute_result",
     "data": {
      "text/plain": "       PassengerId    Survived      Pclass         Age       SibSp  \\\ncount   891.000000  891.000000  891.000000  714.000000  891.000000   \nmean    446.000000    0.383838    2.308642   29.699118    0.523008   \nstd     257.353842    0.486592    0.836071   14.526497    1.102743   \nmin       1.000000    0.000000    1.000000    0.420000    0.000000   \n25%     223.500000    0.000000    2.000000   20.125000    0.000000   \n50%     446.000000    0.000000    3.000000   28.000000    0.000000   \n75%     668.500000    1.000000    3.000000   38.000000    1.000000   \nmax     891.000000    1.000000    3.000000   80.000000    8.000000   \n\n            Parch        Fare  \ncount  891.000000  891.000000  \nmean     0.381594   32.204208  \nstd      0.806057   49.693429  \nmin      0.000000    0.000000  \n25%      0.000000    7.910400  \n50%      0.000000   14.454200  \n75%      0.000000   31.000000  \nmax      6.000000  512.329200  ",
      "text/html": "<div>\n<style scoped>\n    .dataframe tbody tr th:only-of-type {\n        vertical-align: middle;\n    }\n\n    .dataframe tbody tr th {\n        vertical-align: top;\n    }\n\n    .dataframe thead th {\n        text-align: right;\n    }\n</style>\n<table border=\"1\" class=\"dataframe\">\n  <thead>\n    <tr style=\"text-align: right;\">\n      <th></th>\n      <th>PassengerId</th>\n      <th>Survived</th>\n      <th>Pclass</th>\n      <th>Age</th>\n      <th>SibSp</th>\n      <th>Parch</th>\n      <th>Fare</th>\n    </tr>\n  </thead>\n  <tbody>\n    <tr>\n      <th>count</th>\n      <td>891.000000</td>\n      <td>891.000000</td>\n      <td>891.000000</td>\n      <td>714.000000</td>\n      <td>891.000000</td>\n      <td>891.000000</td>\n      <td>891.000000</td>\n    </tr>\n    <tr>\n      <th>mean</th>\n      <td>446.000000</td>\n      <td>0.383838</td>\n      <td>2.308642</td>\n      <td>29.699118</td>\n      <td>0.523008</td>\n      <td>0.381594</td>\n      <td>32.204208</td>\n    </tr>\n    <tr>\n      <th>std</th>\n      <td>257.353842</td>\n      <td>0.486592</td>\n      <td>0.836071</td>\n      <td>14.526497</td>\n      <td>1.102743</td>\n      <td>0.806057</td>\n      <td>49.693429</td>\n    </tr>\n    <tr>\n      <th>min</th>\n      <td>1.000000</td>\n      <td>0.000000</td>\n      <td>1.000000</td>\n      <td>0.420000</td>\n      <td>0.000000</td>\n      <td>0.000000</td>\n      <td>0.000000</td>\n    </tr>\n    <tr>\n      <th>25%</th>\n      <td>223.500000</td>\n      <td>0.000000</td>\n      <td>2.000000</td>\n      <td>20.125000</td>\n      <td>0.000000</td>\n      <td>0.000000</td>\n      <td>7.910400</td>\n    </tr>\n    <tr>\n      <th>50%</th>\n      <td>446.000000</td>\n      <td>0.000000</td>\n      <td>3.000000</td>\n      <td>28.000000</td>\n      <td>0.000000</td>\n      <td>0.000000</td>\n      <td>14.454200</td>\n    </tr>\n    <tr>\n      <th>75%</th>\n      <td>668.500000</td>\n      <td>1.000000</td>\n      <td>3.000000</td>\n      <td>38.000000</td>\n      <td>1.000000</td>\n      <td>0.000000</td>\n      <td>31.000000</td>\n    </tr>\n    <tr>\n      <th>max</th>\n      <td>891.000000</td>\n      <td>1.000000</td>\n      <td>3.000000</td>\n      <td>80.000000</td>\n      <td>8.000000</td>\n      <td>6.000000</td>\n      <td>512.329200</td>\n    </tr>\n  </tbody>\n</table>\n</div>"
     },
     "metadata": {},
     "execution_count": 262
    }
   ],
   "source": [
    "train_df.describe()\n",
    "# Review survived rate using `percentiles=[.61, .62]` knowing our problem description mentions 38% survival rate.\n",
    "# Review Parch distribution using `percentiles=[.75, .8]`\n",
    "# SibSp distribution `[.68, .69]`\n",
    "# Age and Fare `[.1, .2, .3, .4, .5, .6, .7, .8, .9, .99]`"
   ]
  },
  {
   "cell_type": "markdown",
   "metadata": {
    "_cell_guid": "5462bc60-258c-76bf-0a73-9adc00a2f493",
    "_uuid": "33bbd1709db622978c0c5879e7c5532d4734ade0"
   },
   "source": [
    "**What is the distribution of categorical features?**\n",
    "\n",
    "- Names are unique across the dataset (count=unique=891)\n",
    "- Sex variable as two possible values with 65% male (top=male, freq=577/count=891).\n",
    "- Cabin values have several dupicates across samples. Alternatively several passengers shared a cabin.\n",
    "- Embarked takes three possible values. S port used by most passengers (top=S)\n",
    "- Ticket feature has high ratio (22%) of duplicate values (unique=681)."
   ]
  },
  {
   "cell_type": "code",
   "execution_count": 263,
   "metadata": {
    "_cell_guid": "8066b378-1964-92e8-1352-dcac934c6af3",
    "_uuid": "daa8663f577f9c1a478496cf14fe363570457191",
    "collapsed": true
   },
   "outputs": [
    {
     "output_type": "execute_result",
     "data": {
      "text/plain": "                               Name   Sex  Ticket        Cabin Embarked\ncount                           891   891     891          204      889\nunique                          891     2     681          147        3\ntop     van Melkebeke, Mr. Philemon  male  347082  C23 C25 C27        S\nfreq                              1   577       7            4      644",
      "text/html": "<div>\n<style scoped>\n    .dataframe tbody tr th:only-of-type {\n        vertical-align: middle;\n    }\n\n    .dataframe tbody tr th {\n        vertical-align: top;\n    }\n\n    .dataframe thead th {\n        text-align: right;\n    }\n</style>\n<table border=\"1\" class=\"dataframe\">\n  <thead>\n    <tr style=\"text-align: right;\">\n      <th></th>\n      <th>Name</th>\n      <th>Sex</th>\n      <th>Ticket</th>\n      <th>Cabin</th>\n      <th>Embarked</th>\n    </tr>\n  </thead>\n  <tbody>\n    <tr>\n      <th>count</th>\n      <td>891</td>\n      <td>891</td>\n      <td>891</td>\n      <td>204</td>\n      <td>889</td>\n    </tr>\n    <tr>\n      <th>unique</th>\n      <td>891</td>\n      <td>2</td>\n      <td>681</td>\n      <td>147</td>\n      <td>3</td>\n    </tr>\n    <tr>\n      <th>top</th>\n      <td>van Melkebeke, Mr. Philemon</td>\n      <td>male</td>\n      <td>347082</td>\n      <td>C23 C25 C27</td>\n      <td>S</td>\n    </tr>\n    <tr>\n      <th>freq</th>\n      <td>1</td>\n      <td>577</td>\n      <td>7</td>\n      <td>4</td>\n      <td>644</td>\n    </tr>\n  </tbody>\n</table>\n</div>"
     },
     "metadata": {},
     "execution_count": 263
    }
   ],
   "source": [
    "train_df.describe(include=['O'])"
   ]
  },
  {
   "cell_type": "markdown",
   "metadata": {
    "_cell_guid": "2cb22b88-937d-6f14-8b06-ea3361357889",
    "_uuid": "c1d35ebd89a0cf7d7b409470bbb9ecaffd2a9680"
   },
   "source": [
    "### Assumtions based on data analysis\n",
    "\n",
    "We arrive at following assumptions based on data analysis done so far. We may validate these assumptions further before taking appropriate actions.\n",
    "\n",
    "**Correlating.**\n",
    "\n",
    "We want to know how well does each feature correlate with Survival. We want to do this early in our project and match these quick correlations with modelled correlations later in the project.\n",
    "\n",
    "**Completing.**\n",
    "\n",
    "1. We may want to complete Age feature as it is definitely correlated to survival.\n",
    "2. We may want to complete the Embarked feature as it may also correlate with survival or another important feature.\n",
    "\n",
    "**Correcting.**\n",
    "\n",
    "1. Ticket feature may be dropped from our analysis as it contains high ratio of duplicates (22%) and there may not be a correlation between Ticket and survival.\n",
    "2. Cabin feature may be dropped as it is highly incomplete or contains many null values both in training and test dataset.\n",
    "3. PassengerId may be dropped from training dataset as it does not contribute to survival.\n",
    "4. Name feature is relatively non-standard, may not contribute directly to survival, so maybe dropped.\n",
    "\n",
    "**Creating.**\n",
    "\n",
    "1. We may want to create a new feature called Family based on Parch and SibSp to get total count of family members on board.\n",
    "2. We may want to engineer the Name feature to extract Title as a new feature.\n",
    "3. We may want to create new feature for Age bands. This turns a continous numerical feature into an ordinal categorical feature.\n",
    "4. We may also want to create a Fare range feature if it helps our analysis.\n",
    "\n",
    "**Classifying.**\n",
    "\n",
    "We may also add to our assumptions based on the problem description noted earlier.\n",
    "\n",
    "1. Women (Sex=female) were more likely to have survived.\n",
    "2. Children (Age<?) were more likely to have survived. \n",
    "3. The upper-class passengers (Pclass=1) were more likely to have survived."
   ]
  },
  {
   "cell_type": "markdown",
   "metadata": {
    "_cell_guid": "6db63a30-1d86-266e-2799-dded03c45816",
    "_uuid": "946ee6ca01a3e4eecfa373ca00f88042b683e2ad"
   },
   "source": [
    "## Analyze by pivoting features\n",
    "\n",
    "To confirm some of our observations and assumptions, we can quickly analyze our feature correlations by pivoting features against each other. We can only do so at this stage for features which do not have any empty values. It also makes sense doing so only for features which are categorical (Sex), ordinal (Pclass) or discrete (SibSp, Parch) type.\n",
    "\n",
    "- **Pclass** We observe significant correlation (>0.5) among Pclass=1 and Survived (classifying #3). We decide to include this feature in our model.\n",
    "- **Sex** We confirm the observation during problem definition that Sex=female had very high survival rate at 74% (classifying #1).\n",
    "- **SibSp and Parch** These features have zero correlation for certain values. It may be best to derive a feature or a set of features from these individual features (creating #1)."
   ]
  },
  {
   "cell_type": "code",
   "execution_count": 264,
   "metadata": {
    "_cell_guid": "0964832a-a4be-2d6f-a89e-63526389cee9",
    "_uuid": "97a845528ce9f76e85055a4bb9e97c27091f6aa1",
    "collapsed": true
   },
   "outputs": [
    {
     "output_type": "execute_result",
     "data": {
      "text/plain": "   Pclass  Survived\n0       1  0.629630\n1       2  0.472826\n2       3  0.242363",
      "text/html": "<div>\n<style scoped>\n    .dataframe tbody tr th:only-of-type {\n        vertical-align: middle;\n    }\n\n    .dataframe tbody tr th {\n        vertical-align: top;\n    }\n\n    .dataframe thead th {\n        text-align: right;\n    }\n</style>\n<table border=\"1\" class=\"dataframe\">\n  <thead>\n    <tr style=\"text-align: right;\">\n      <th></th>\n      <th>Pclass</th>\n      <th>Survived</th>\n    </tr>\n  </thead>\n  <tbody>\n    <tr>\n      <th>0</th>\n      <td>1</td>\n      <td>0.629630</td>\n    </tr>\n    <tr>\n      <th>1</th>\n      <td>2</td>\n      <td>0.472826</td>\n    </tr>\n    <tr>\n      <th>2</th>\n      <td>3</td>\n      <td>0.242363</td>\n    </tr>\n  </tbody>\n</table>\n</div>"
     },
     "metadata": {},
     "execution_count": 264
    }
   ],
   "source": [
    "train_df[['Pclass', 'Survived']].groupby(['Pclass'], as_index=False).mean().sort_values(by='Survived', ascending=False)"
   ]
  },
  {
   "cell_type": "code",
   "execution_count": 265,
   "metadata": {
    "_cell_guid": "68908ba6-bfe9-5b31-cfde-6987fc0fbe9a",
    "_uuid": "00a2f2bca094c5984e6a232c730c8b232e7e20bb",
    "collapsed": true
   },
   "outputs": [
    {
     "output_type": "execute_result",
     "data": {
      "text/plain": "      Sex  Survived\n0  female  0.742038\n1    male  0.188908",
      "text/html": "<div>\n<style scoped>\n    .dataframe tbody tr th:only-of-type {\n        vertical-align: middle;\n    }\n\n    .dataframe tbody tr th {\n        vertical-align: top;\n    }\n\n    .dataframe thead th {\n        text-align: right;\n    }\n</style>\n<table border=\"1\" class=\"dataframe\">\n  <thead>\n    <tr style=\"text-align: right;\">\n      <th></th>\n      <th>Sex</th>\n      <th>Survived</th>\n    </tr>\n  </thead>\n  <tbody>\n    <tr>\n      <th>0</th>\n      <td>female</td>\n      <td>0.742038</td>\n    </tr>\n    <tr>\n      <th>1</th>\n      <td>male</td>\n      <td>0.188908</td>\n    </tr>\n  </tbody>\n</table>\n</div>"
     },
     "metadata": {},
     "execution_count": 265
    }
   ],
   "source": [
    "train_df[[\"Sex\", \"Survived\"]].groupby(['Sex'], as_index=False).mean().sort_values(by='Survived', ascending=False)"
   ]
  },
  {
   "cell_type": "code",
   "execution_count": 266,
   "metadata": {
    "_cell_guid": "01c06927-c5a6-342a-5aa8-2e486ec3fd7c",
    "_uuid": "a8f7a16c54417dcd86fc48aeef0c4b240d47d71b",
    "collapsed": true
   },
   "outputs": [
    {
     "output_type": "execute_result",
     "data": {
      "text/plain": "   SibSp  Survived\n1      1  0.535885\n2      2  0.464286\n0      0  0.345395\n3      3  0.250000\n4      4  0.166667\n5      5  0.000000\n6      8  0.000000",
      "text/html": "<div>\n<style scoped>\n    .dataframe tbody tr th:only-of-type {\n        vertical-align: middle;\n    }\n\n    .dataframe tbody tr th {\n        vertical-align: top;\n    }\n\n    .dataframe thead th {\n        text-align: right;\n    }\n</style>\n<table border=\"1\" class=\"dataframe\">\n  <thead>\n    <tr style=\"text-align: right;\">\n      <th></th>\n      <th>SibSp</th>\n      <th>Survived</th>\n    </tr>\n  </thead>\n  <tbody>\n    <tr>\n      <th>1</th>\n      <td>1</td>\n      <td>0.535885</td>\n    </tr>\n    <tr>\n      <th>2</th>\n      <td>2</td>\n      <td>0.464286</td>\n    </tr>\n    <tr>\n      <th>0</th>\n      <td>0</td>\n      <td>0.345395</td>\n    </tr>\n    <tr>\n      <th>3</th>\n      <td>3</td>\n      <td>0.250000</td>\n    </tr>\n    <tr>\n      <th>4</th>\n      <td>4</td>\n      <td>0.166667</td>\n    </tr>\n    <tr>\n      <th>5</th>\n      <td>5</td>\n      <td>0.000000</td>\n    </tr>\n    <tr>\n      <th>6</th>\n      <td>8</td>\n      <td>0.000000</td>\n    </tr>\n  </tbody>\n</table>\n</div>"
     },
     "metadata": {},
     "execution_count": 266
    }
   ],
   "source": [
    "train_df[[\"SibSp\", \"Survived\"]].groupby(['SibSp'], as_index=False).mean().sort_values(by='Survived', ascending=False)"
   ]
  },
  {
   "cell_type": "code",
   "execution_count": 267,
   "metadata": {
    "_cell_guid": "e686f98b-a8c9-68f8-36a4-d4598638bbd5",
    "_uuid": "5d953a6779b00b7f3794757dec8744a03162c8fd",
    "collapsed": true
   },
   "outputs": [
    {
     "output_type": "execute_result",
     "data": {
      "text/plain": "   Parch  Survived\n3      3  0.600000\n1      1  0.550847\n2      2  0.500000\n0      0  0.343658\n5      5  0.200000\n4      4  0.000000\n6      6  0.000000",
      "text/html": "<div>\n<style scoped>\n    .dataframe tbody tr th:only-of-type {\n        vertical-align: middle;\n    }\n\n    .dataframe tbody tr th {\n        vertical-align: top;\n    }\n\n    .dataframe thead th {\n        text-align: right;\n    }\n</style>\n<table border=\"1\" class=\"dataframe\">\n  <thead>\n    <tr style=\"text-align: right;\">\n      <th></th>\n      <th>Parch</th>\n      <th>Survived</th>\n    </tr>\n  </thead>\n  <tbody>\n    <tr>\n      <th>3</th>\n      <td>3</td>\n      <td>0.600000</td>\n    </tr>\n    <tr>\n      <th>1</th>\n      <td>1</td>\n      <td>0.550847</td>\n    </tr>\n    <tr>\n      <th>2</th>\n      <td>2</td>\n      <td>0.500000</td>\n    </tr>\n    <tr>\n      <th>0</th>\n      <td>0</td>\n      <td>0.343658</td>\n    </tr>\n    <tr>\n      <th>5</th>\n      <td>5</td>\n      <td>0.200000</td>\n    </tr>\n    <tr>\n      <th>4</th>\n      <td>4</td>\n      <td>0.000000</td>\n    </tr>\n    <tr>\n      <th>6</th>\n      <td>6</td>\n      <td>0.000000</td>\n    </tr>\n  </tbody>\n</table>\n</div>"
     },
     "metadata": {},
     "execution_count": 267
    }
   ],
   "source": [
    "train_df[[\"Parch\", \"Survived\"]].groupby(['Parch'], as_index=False).mean().sort_values(by='Survived', ascending=False)"
   ]
  },
  {
   "cell_type": "markdown",
   "metadata": {
    "_cell_guid": "0d43550e-9eff-3859-3568-8856570eff76",
    "_uuid": "5c6204d01f5a9040cf0bb7c678686ae48daa201f"
   },
   "source": [
    "## Analyze by visualizing data\n",
    "\n",
    "Now we can continue confirming some of our assumptions using visualizations for analyzing the data.\n",
    "\n",
    "### Correlating numerical features\n",
    "\n",
    "Let us start by understanding correlations between numerical features and our solution goal (Survived).\n",
    "\n",
    "A histogram chart is useful for analyzing continous numerical variables like Age where banding or ranges will help identify useful patterns. The histogram can indicate distribution of samples using automatically defined bins or equally ranged bands. This helps us answer questions relating to specific bands (Did infants have better survival rate?)\n",
    "\n",
    "Note that x-axis in historgram visualizations represents the count of samples or passengers.\n",
    "\n",
    "**Observations.**\n",
    "\n",
    "- Infants (Age <=4) had high survival rate.\n",
    "- Oldest passengers (Age = 80) survived.\n",
    "- Large number of 15-25 year olds did not survive.\n",
    "- Most passengers are in 15-35 age range.\n",
    "\n",
    "**Decisions.**\n",
    "\n",
    "This simple analysis confirms our assumptions as decisions for subsequent workflow stages.\n",
    "\n",
    "- We should consider Age (our assumption classifying #2) in our model training.\n",
    "- Complete the Age feature for null values (completing #1).\n",
    "- We should band age groups (creating #3)."
   ]
  },
  {
   "cell_type": "code",
   "execution_count": 268,
   "metadata": {
    "_cell_guid": "50294eac-263a-af78-cb7e-3778eb9ad41f",
    "_uuid": "d3a1fa63e9dd4f8a810086530a6363c94b36d030",
    "collapsed": true
   },
   "outputs": [
    {
     "output_type": "execute_result",
     "data": {
      "text/plain": "<seaborn.axisgrid.FacetGrid at 0x18ed1c95eb0>"
     },
     "metadata": {},
     "execution_count": 268
    },
    {
     "output_type": "display_data",
     "data": {
      "text/plain": "<Figure size 432x216 with 2 Axes>",
      "image/svg+xml": "<?xml version=\"1.0\" encoding=\"utf-8\" standalone=\"no\"?>\r\n<!DOCTYPE svg PUBLIC \"-//W3C//DTD SVG 1.1//EN\"\r\n  \"http://www.w3.org/Graphics/SVG/1.1/DTD/svg11.dtd\">\r\n<!-- Created with matplotlib (https://matplotlib.org/) -->\r\n<svg height=\"207.754687pt\" version=\"1.1\" viewBox=\"0 0 424.775 207.754687\" width=\"424.775pt\" xmlns=\"http://www.w3.org/2000/svg\" xmlns:xlink=\"http://www.w3.org/1999/xlink\">\r\n <defs>\r\n  <style type=\"text/css\">\r\n*{stroke-linecap:butt;stroke-linejoin:round;}\r\n  </style>\r\n </defs>\r\n <g id=\"figure_1\">\r\n  <g id=\"patch_1\">\r\n   <path d=\"M -0 207.754687 \r\nL 424.775 207.754687 \r\nL 424.775 0 \r\nL -0 0 \r\nz\r\n\" style=\"fill:none;\"/>\r\n  </g>\r\n  <g id=\"axes_1\">\r\n   <g id=\"patch_2\">\r\n    <path d=\"M 26.925 170.198437 \r\nL 215.1 170.198437 \r\nL 215.1 20.798438 \r\nL 26.925 20.798438 \r\nz\r\n\" style=\"fill:#ffffff;\"/>\r\n   </g>\r\n   <g id=\"patch_3\">\r\n    <path clip-path=\"url(#pecc30963ea)\" d=\"M 36.725199 170.198437 \r\nL 44.571377 170.198437 \r\nL 44.571377 137.167825 \r\nL 36.725199 137.167825 \r\nz\r\n\" style=\"fill:#1f77b4;\"/>\r\n   </g>\r\n   <g id=\"patch_4\">\r\n    <path clip-path=\"url(#pecc30963ea)\" d=\"M 44.571377 170.198437 \r\nL 52.417556 170.198437 \r\nL 52.417556 157.494356 \r\nL 44.571377 157.494356 \r\nz\r\n\" style=\"fill:#1f77b4;\"/>\r\n   </g>\r\n   <g id=\"patch_5\">\r\n    <path clip-path=\"url(#pecc30963ea)\" d=\"M 52.417556 170.198437 \r\nL 60.263734 170.198437 \r\nL 60.263734 142.249458 \r\nL 52.417556 142.249458 \r\nz\r\n\" style=\"fill:#1f77b4;\"/>\r\n   </g>\r\n   <g id=\"patch_6\">\r\n    <path clip-path=\"url(#pecc30963ea)\" d=\"M 60.263734 170.198437 \r\nL 68.109912 170.198437 \r\nL 68.109912 157.494356 \r\nL 60.263734 157.494356 \r\nz\r\n\" style=\"fill:#1f77b4;\"/>\r\n   </g>\r\n   <g id=\"patch_7\">\r\n    <path clip-path=\"url(#pecc30963ea)\" d=\"M 68.109912 170.198437 \r\nL 75.95609 170.198437 \r\nL 75.95609 40.616805 \r\nL 68.109912 40.616805 \r\nz\r\n\" style=\"fill:#1f77b4;\"/>\r\n   </g>\r\n   <g id=\"patch_8\">\r\n    <path clip-path=\"url(#pecc30963ea)\" d=\"M 75.95609 170.198437 \r\nL 83.802268 170.198437 \r\nL 83.802268 48.239254 \r\nL 75.95609 48.239254 \r\nz\r\n\" style=\"fill:#1f77b4;\"/>\r\n   </g>\r\n   <g id=\"patch_9\">\r\n    <path clip-path=\"url(#pecc30963ea)\" d=\"M 83.802268 170.198437 \r\nL 91.648447 170.198437 \r\nL 91.648447 27.912723 \r\nL 83.802268 27.912723 \r\nz\r\n\" style=\"fill:#1f77b4;\"/>\r\n   </g>\r\n   <g id=\"patch_10\">\r\n    <path clip-path=\"url(#pecc30963ea)\" d=\"M 91.648447 170.198437 \r\nL 99.494625 170.198437 \r\nL 99.494625 32.994356 \r\nL 91.648447 32.994356 \r\nz\r\n\" style=\"fill:#1f77b4;\"/>\r\n   </g>\r\n   <g id=\"patch_11\">\r\n    <path clip-path=\"url(#pecc30963ea)\" d=\"M 99.494625 170.198437 \r\nL 107.340803 170.198437 \r\nL 107.340803 93.973948 \r\nL 99.494625 93.973948 \r\nz\r\n\" style=\"fill:#1f77b4;\"/>\r\n   </g>\r\n   <g id=\"patch_12\">\r\n    <path clip-path=\"url(#pecc30963ea)\" d=\"M 107.340803 170.198437 \r\nL 115.186981 170.198437 \r\nL 115.186981 83.810682 \r\nL 107.340803 83.810682 \r\nz\r\n\" style=\"fill:#1f77b4;\"/>\r\n   </g>\r\n   <g id=\"patch_13\">\r\n    <path clip-path=\"url(#pecc30963ea)\" d=\"M 115.186981 170.198437 \r\nL 123.03316 170.198437 \r\nL 123.03316 99.05558 \r\nL 115.186981 99.05558 \r\nz\r\n\" style=\"fill:#1f77b4;\"/>\r\n   </g>\r\n   <g id=\"patch_14\">\r\n    <path clip-path=\"url(#pecc30963ea)\" d=\"M 123.03316 170.198437 \r\nL 130.879338 170.198437 \r\nL 130.879338 127.00456 \r\nL 123.03316 127.00456 \r\nz\r\n\" style=\"fill:#1f77b4;\"/>\r\n   </g>\r\n   <g id=\"patch_15\">\r\n    <path clip-path=\"url(#pecc30963ea)\" d=\"M 130.879338 170.198437 \r\nL 138.725516 170.198437 \r\nL 138.725516 111.759662 \r\nL 130.879338 111.759662 \r\nz\r\n\" style=\"fill:#1f77b4;\"/>\r\n   </g>\r\n   <g id=\"patch_16\">\r\n    <path clip-path=\"url(#pecc30963ea)\" d=\"M 138.725516 170.198437 \r\nL 146.571694 170.198437 \r\nL 146.571694 132.086193 \r\nL 138.725516 132.086193 \r\nz\r\n\" style=\"fill:#1f77b4;\"/>\r\n   </g>\r\n   <g id=\"patch_17\">\r\n    <path clip-path=\"url(#pecc30963ea)\" d=\"M 146.571694 170.198437 \r\nL 154.417873 170.198437 \r\nL 154.417873 152.412723 \r\nL 146.571694 152.412723 \r\nz\r\n\" style=\"fill:#1f77b4;\"/>\r\n   </g>\r\n   <g id=\"patch_18\">\r\n    <path clip-path=\"url(#pecc30963ea)\" d=\"M 154.417873 170.198437 \r\nL 162.264051 170.198437 \r\nL 162.264051 149.871907 \r\nL 154.417873 149.871907 \r\nz\r\n\" style=\"fill:#1f77b4;\"/>\r\n   </g>\r\n   <g id=\"patch_19\">\r\n    <path clip-path=\"url(#pecc30963ea)\" d=\"M 162.264051 170.198437 \r\nL 170.110229 170.198437 \r\nL 170.110229 152.412723 \r\nL 162.264051 152.412723 \r\nz\r\n\" style=\"fill:#1f77b4;\"/>\r\n   </g>\r\n   <g id=\"patch_20\">\r\n    <path clip-path=\"url(#pecc30963ea)\" d=\"M 170.110229 170.198437 \r\nL 177.956407 170.198437 \r\nL 177.956407 154.95354 \r\nL 170.110229 154.95354 \r\nz\r\n\" style=\"fill:#1f77b4;\"/>\r\n   </g>\r\n   <g id=\"patch_21\">\r\n    <path clip-path=\"url(#pecc30963ea)\" d=\"M 177.956407 170.198437 \r\nL 185.802585 170.198437 \r\nL 185.802585 165.116805 \r\nL 177.956407 165.116805 \r\nz\r\n\" style=\"fill:#1f77b4;\"/>\r\n   </g>\r\n   <g id=\"patch_22\">\r\n    <path clip-path=\"url(#pecc30963ea)\" d=\"M 185.802585 170.198437 \r\nL 193.648764 170.198437 \r\nL 193.648764 160.035172 \r\nL 185.802585 160.035172 \r\nz\r\n\" style=\"fill:#1f77b4;\"/>\r\n   </g>\r\n   <g id=\"matplotlib.axis_1\">\r\n    <g id=\"xtick_1\">\r\n     <g id=\"line2d_1\">\r\n      <defs>\r\n       <path d=\"M 0 0 \r\nL 0 3.5 \r\n\" id=\"m933ddca949\" style=\"stroke:#000000;stroke-width:0.8;\"/>\r\n      </defs>\r\n      <g>\r\n       <use style=\"stroke:#000000;stroke-width:0.8;\" x=\"34.575561\" xlink:href=\"#m933ddca949\" y=\"170.198437\"/>\r\n      </g>\r\n     </g>\r\n     <g id=\"text_1\">\r\n      <!-- 0 -->\r\n      <defs>\r\n       <path d=\"M 31.78125 66.40625 \r\nQ 24.171875 66.40625 20.328125 58.90625 \r\nQ 16.5 51.421875 16.5 36.375 \r\nQ 16.5 21.390625 20.328125 13.890625 \r\nQ 24.171875 6.390625 31.78125 6.390625 \r\nQ 39.453125 6.390625 43.28125 13.890625 \r\nQ 47.125 21.390625 47.125 36.375 \r\nQ 47.125 51.421875 43.28125 58.90625 \r\nQ 39.453125 66.40625 31.78125 66.40625 \r\nz\r\nM 31.78125 74.21875 \r\nQ 44.046875 74.21875 50.515625 64.515625 \r\nQ 56.984375 54.828125 56.984375 36.375 \r\nQ 56.984375 17.96875 50.515625 8.265625 \r\nQ 44.046875 -1.421875 31.78125 -1.421875 \r\nQ 19.53125 -1.421875 13.0625 8.265625 \r\nQ 6.59375 17.96875 6.59375 36.375 \r\nQ 6.59375 54.828125 13.0625 64.515625 \r\nQ 19.53125 74.21875 31.78125 74.21875 \r\nz\r\n\" id=\"DejaVuSans-48\"/>\r\n      </defs>\r\n      <g transform=\"translate(31.394311 184.796875)scale(0.1 -0.1)\">\r\n       <use xlink:href=\"#DejaVuSans-48\"/>\r\n      </g>\r\n     </g>\r\n    </g>\r\n    <g id=\"xtick_2\">\r\n     <g id=\"line2d_2\">\r\n      <g>\r\n       <use style=\"stroke:#000000;stroke-width:0.8;\" x=\"77.568319\" xlink:href=\"#m933ddca949\" y=\"170.198437\"/>\r\n      </g>\r\n     </g>\r\n     <g id=\"text_2\">\r\n      <!-- 20 -->\r\n      <defs>\r\n       <path d=\"M 19.1875 8.296875 \r\nL 53.609375 8.296875 \r\nL 53.609375 0 \r\nL 7.328125 0 \r\nL 7.328125 8.296875 \r\nQ 12.9375 14.109375 22.625 23.890625 \r\nQ 32.328125 33.6875 34.8125 36.53125 \r\nQ 39.546875 41.84375 41.421875 45.53125 \r\nQ 43.3125 49.21875 43.3125 52.78125 \r\nQ 43.3125 58.59375 39.234375 62.25 \r\nQ 35.15625 65.921875 28.609375 65.921875 \r\nQ 23.96875 65.921875 18.8125 64.3125 \r\nQ 13.671875 62.703125 7.8125 59.421875 \r\nL 7.8125 69.390625 \r\nQ 13.765625 71.78125 18.9375 73 \r\nQ 24.125 74.21875 28.421875 74.21875 \r\nQ 39.75 74.21875 46.484375 68.546875 \r\nQ 53.21875 62.890625 53.21875 53.421875 \r\nQ 53.21875 48.921875 51.53125 44.890625 \r\nQ 49.859375 40.875 45.40625 35.40625 \r\nQ 44.1875 33.984375 37.640625 27.21875 \r\nQ 31.109375 20.453125 19.1875 8.296875 \r\nz\r\n\" id=\"DejaVuSans-50\"/>\r\n      </defs>\r\n      <g transform=\"translate(71.205819 184.796875)scale(0.1 -0.1)\">\r\n       <use xlink:href=\"#DejaVuSans-50\"/>\r\n       <use x=\"63.623047\" xlink:href=\"#DejaVuSans-48\"/>\r\n      </g>\r\n     </g>\r\n    </g>\r\n    <g id=\"xtick_3\">\r\n     <g id=\"line2d_3\">\r\n      <g>\r\n       <use style=\"stroke:#000000;stroke-width:0.8;\" x=\"120.561076\" xlink:href=\"#m933ddca949\" y=\"170.198437\"/>\r\n      </g>\r\n     </g>\r\n     <g id=\"text_3\">\r\n      <!-- 40 -->\r\n      <defs>\r\n       <path d=\"M 37.796875 64.3125 \r\nL 12.890625 25.390625 \r\nL 37.796875 25.390625 \r\nz\r\nM 35.203125 72.90625 \r\nL 47.609375 72.90625 \r\nL 47.609375 25.390625 \r\nL 58.015625 25.390625 \r\nL 58.015625 17.1875 \r\nL 47.609375 17.1875 \r\nL 47.609375 0 \r\nL 37.796875 0 \r\nL 37.796875 17.1875 \r\nL 4.890625 17.1875 \r\nL 4.890625 26.703125 \r\nz\r\n\" id=\"DejaVuSans-52\"/>\r\n      </defs>\r\n      <g transform=\"translate(114.198576 184.796875)scale(0.1 -0.1)\">\r\n       <use xlink:href=\"#DejaVuSans-52\"/>\r\n       <use x=\"63.623047\" xlink:href=\"#DejaVuSans-48\"/>\r\n      </g>\r\n     </g>\r\n    </g>\r\n    <g id=\"xtick_4\">\r\n     <g id=\"line2d_4\">\r\n      <g>\r\n       <use style=\"stroke:#000000;stroke-width:0.8;\" x=\"163.553833\" xlink:href=\"#m933ddca949\" y=\"170.198437\"/>\r\n      </g>\r\n     </g>\r\n     <g id=\"text_4\">\r\n      <!-- 60 -->\r\n      <defs>\r\n       <path d=\"M 33.015625 40.375 \r\nQ 26.375 40.375 22.484375 35.828125 \r\nQ 18.609375 31.296875 18.609375 23.390625 \r\nQ 18.609375 15.53125 22.484375 10.953125 \r\nQ 26.375 6.390625 33.015625 6.390625 \r\nQ 39.65625 6.390625 43.53125 10.953125 \r\nQ 47.40625 15.53125 47.40625 23.390625 \r\nQ 47.40625 31.296875 43.53125 35.828125 \r\nQ 39.65625 40.375 33.015625 40.375 \r\nz\r\nM 52.59375 71.296875 \r\nL 52.59375 62.3125 \r\nQ 48.875 64.0625 45.09375 64.984375 \r\nQ 41.3125 65.921875 37.59375 65.921875 \r\nQ 27.828125 65.921875 22.671875 59.328125 \r\nQ 17.53125 52.734375 16.796875 39.40625 \r\nQ 19.671875 43.65625 24.015625 45.921875 \r\nQ 28.375 48.1875 33.59375 48.1875 \r\nQ 44.578125 48.1875 50.953125 41.515625 \r\nQ 57.328125 34.859375 57.328125 23.390625 \r\nQ 57.328125 12.15625 50.6875 5.359375 \r\nQ 44.046875 -1.421875 33.015625 -1.421875 \r\nQ 20.359375 -1.421875 13.671875 8.265625 \r\nQ 6.984375 17.96875 6.984375 36.375 \r\nQ 6.984375 53.65625 15.1875 63.9375 \r\nQ 23.390625 74.21875 37.203125 74.21875 \r\nQ 40.921875 74.21875 44.703125 73.484375 \r\nQ 48.484375 72.75 52.59375 71.296875 \r\nz\r\n\" id=\"DejaVuSans-54\"/>\r\n      </defs>\r\n      <g transform=\"translate(157.191333 184.796875)scale(0.1 -0.1)\">\r\n       <use xlink:href=\"#DejaVuSans-54\"/>\r\n       <use x=\"63.623047\" xlink:href=\"#DejaVuSans-48\"/>\r\n      </g>\r\n     </g>\r\n    </g>\r\n    <g id=\"xtick_5\">\r\n     <g id=\"line2d_5\">\r\n      <g>\r\n       <use style=\"stroke:#000000;stroke-width:0.8;\" x=\"206.546591\" xlink:href=\"#m933ddca949\" y=\"170.198437\"/>\r\n      </g>\r\n     </g>\r\n     <g id=\"text_5\">\r\n      <!-- 80 -->\r\n      <defs>\r\n       <path d=\"M 31.78125 34.625 \r\nQ 24.75 34.625 20.71875 30.859375 \r\nQ 16.703125 27.09375 16.703125 20.515625 \r\nQ 16.703125 13.921875 20.71875 10.15625 \r\nQ 24.75 6.390625 31.78125 6.390625 \r\nQ 38.8125 6.390625 42.859375 10.171875 \r\nQ 46.921875 13.96875 46.921875 20.515625 \r\nQ 46.921875 27.09375 42.890625 30.859375 \r\nQ 38.875 34.625 31.78125 34.625 \r\nz\r\nM 21.921875 38.8125 \r\nQ 15.578125 40.375 12.03125 44.71875 \r\nQ 8.5 49.078125 8.5 55.328125 \r\nQ 8.5 64.0625 14.71875 69.140625 \r\nQ 20.953125 74.21875 31.78125 74.21875 \r\nQ 42.671875 74.21875 48.875 69.140625 \r\nQ 55.078125 64.0625 55.078125 55.328125 \r\nQ 55.078125 49.078125 51.53125 44.71875 \r\nQ 48 40.375 41.703125 38.8125 \r\nQ 48.828125 37.15625 52.796875 32.3125 \r\nQ 56.78125 27.484375 56.78125 20.515625 \r\nQ 56.78125 9.90625 50.3125 4.234375 \r\nQ 43.84375 -1.421875 31.78125 -1.421875 \r\nQ 19.734375 -1.421875 13.25 4.234375 \r\nQ 6.78125 9.90625 6.78125 20.515625 \r\nQ 6.78125 27.484375 10.78125 32.3125 \r\nQ 14.796875 37.15625 21.921875 38.8125 \r\nz\r\nM 18.3125 54.390625 \r\nQ 18.3125 48.734375 21.84375 45.5625 \r\nQ 25.390625 42.390625 31.78125 42.390625 \r\nQ 38.140625 42.390625 41.71875 45.5625 \r\nQ 45.3125 48.734375 45.3125 54.390625 \r\nQ 45.3125 60.0625 41.71875 63.234375 \r\nQ 38.140625 66.40625 31.78125 66.40625 \r\nQ 25.390625 66.40625 21.84375 63.234375 \r\nQ 18.3125 60.0625 18.3125 54.390625 \r\nz\r\n\" id=\"DejaVuSans-56\"/>\r\n      </defs>\r\n      <g transform=\"translate(200.184091 184.796875)scale(0.1 -0.1)\">\r\n       <use xlink:href=\"#DejaVuSans-56\"/>\r\n       <use x=\"63.623047\" xlink:href=\"#DejaVuSans-48\"/>\r\n      </g>\r\n     </g>\r\n    </g>\r\n    <g id=\"text_6\">\r\n     <!-- Age -->\r\n     <defs>\r\n      <path d=\"M 34.1875 63.1875 \r\nL 20.796875 26.90625 \r\nL 47.609375 26.90625 \r\nz\r\nM 28.609375 72.90625 \r\nL 39.796875 72.90625 \r\nL 67.578125 0 \r\nL 57.328125 0 \r\nL 50.6875 18.703125 \r\nL 17.828125 18.703125 \r\nL 11.1875 0 \r\nL 0.78125 0 \r\nz\r\n\" id=\"DejaVuSans-65\"/>\r\n      <path d=\"M 45.40625 27.984375 \r\nQ 45.40625 37.75 41.375 43.109375 \r\nQ 37.359375 48.484375 30.078125 48.484375 \r\nQ 22.859375 48.484375 18.828125 43.109375 \r\nQ 14.796875 37.75 14.796875 27.984375 \r\nQ 14.796875 18.265625 18.828125 12.890625 \r\nQ 22.859375 7.515625 30.078125 7.515625 \r\nQ 37.359375 7.515625 41.375 12.890625 \r\nQ 45.40625 18.265625 45.40625 27.984375 \r\nz\r\nM 54.390625 6.78125 \r\nQ 54.390625 -7.171875 48.1875 -13.984375 \r\nQ 42 -20.796875 29.203125 -20.796875 \r\nQ 24.46875 -20.796875 20.265625 -20.09375 \r\nQ 16.0625 -19.390625 12.109375 -17.921875 \r\nL 12.109375 -9.1875 \r\nQ 16.0625 -11.328125 19.921875 -12.34375 \r\nQ 23.78125 -13.375 27.78125 -13.375 \r\nQ 36.625 -13.375 41.015625 -8.765625 \r\nQ 45.40625 -4.15625 45.40625 5.171875 \r\nL 45.40625 9.625 \r\nQ 42.625 4.78125 38.28125 2.390625 \r\nQ 33.9375 0 27.875 0 \r\nQ 17.828125 0 11.671875 7.65625 \r\nQ 5.515625 15.328125 5.515625 27.984375 \r\nQ 5.515625 40.671875 11.671875 48.328125 \r\nQ 17.828125 56 27.875 56 \r\nQ 33.9375 56 38.28125 53.609375 \r\nQ 42.625 51.21875 45.40625 46.390625 \r\nL 45.40625 54.6875 \r\nL 54.390625 54.6875 \r\nz\r\n\" id=\"DejaVuSans-103\"/>\r\n      <path d=\"M 56.203125 29.59375 \r\nL 56.203125 25.203125 \r\nL 14.890625 25.203125 \r\nQ 15.484375 15.921875 20.484375 11.0625 \r\nQ 25.484375 6.203125 34.421875 6.203125 \r\nQ 39.59375 6.203125 44.453125 7.46875 \r\nQ 49.3125 8.734375 54.109375 11.28125 \r\nL 54.109375 2.78125 \r\nQ 49.265625 0.734375 44.1875 -0.34375 \r\nQ 39.109375 -1.421875 33.890625 -1.421875 \r\nQ 20.796875 -1.421875 13.15625 6.1875 \r\nQ 5.515625 13.8125 5.515625 26.8125 \r\nQ 5.515625 40.234375 12.765625 48.109375 \r\nQ 20.015625 56 32.328125 56 \r\nQ 43.359375 56 49.78125 48.890625 \r\nQ 56.203125 41.796875 56.203125 29.59375 \r\nz\r\nM 47.21875 32.234375 \r\nQ 47.125 39.59375 43.09375 43.984375 \r\nQ 39.0625 48.390625 32.421875 48.390625 \r\nQ 24.90625 48.390625 20.390625 44.140625 \r\nQ 15.875 39.890625 15.1875 32.171875 \r\nz\r\n\" id=\"DejaVuSans-101\"/>\r\n     </defs>\r\n     <g transform=\"translate(111.341406 198.475)scale(0.1 -0.1)\">\r\n      <use xlink:href=\"#DejaVuSans-65\"/>\r\n      <use x=\"68.408203\" xlink:href=\"#DejaVuSans-103\"/>\r\n      <use x=\"131.884766\" xlink:href=\"#DejaVuSans-101\"/>\r\n     </g>\r\n    </g>\r\n   </g>\r\n   <g id=\"matplotlib.axis_2\">\r\n    <g id=\"ytick_1\">\r\n     <g id=\"line2d_6\">\r\n      <defs>\r\n       <path d=\"M 0 0 \r\nL -3.5 0 \r\n\" id=\"m7c4e6c46b5\" style=\"stroke:#000000;stroke-width:0.8;\"/>\r\n      </defs>\r\n      <g>\r\n       <use style=\"stroke:#000000;stroke-width:0.8;\" x=\"26.925\" xlink:href=\"#m7c4e6c46b5\" y=\"170.198437\"/>\r\n      </g>\r\n     </g>\r\n     <g id=\"text_7\">\r\n      <!-- 0 -->\r\n      <g transform=\"translate(13.5625 173.997656)scale(0.1 -0.1)\">\r\n       <use xlink:href=\"#DejaVuSans-48\"/>\r\n      </g>\r\n     </g>\r\n    </g>\r\n    <g id=\"ytick_2\">\r\n     <g id=\"line2d_7\">\r\n      <g>\r\n       <use style=\"stroke:#000000;stroke-width:0.8;\" x=\"26.925\" xlink:href=\"#m7c4e6c46b5\" y=\"144.790274\"/>\r\n      </g>\r\n     </g>\r\n     <g id=\"text_8\">\r\n      <!-- 10 -->\r\n      <defs>\r\n       <path d=\"M 12.40625 8.296875 \r\nL 28.515625 8.296875 \r\nL 28.515625 63.921875 \r\nL 10.984375 60.40625 \r\nL 10.984375 69.390625 \r\nL 28.421875 72.90625 \r\nL 38.28125 72.90625 \r\nL 38.28125 8.296875 \r\nL 54.390625 8.296875 \r\nL 54.390625 0 \r\nL 12.40625 0 \r\nz\r\n\" id=\"DejaVuSans-49\"/>\r\n      </defs>\r\n      <g transform=\"translate(7.2 148.589493)scale(0.1 -0.1)\">\r\n       <use xlink:href=\"#DejaVuSans-49\"/>\r\n       <use x=\"63.623047\" xlink:href=\"#DejaVuSans-48\"/>\r\n      </g>\r\n     </g>\r\n    </g>\r\n    <g id=\"ytick_3\">\r\n     <g id=\"line2d_8\">\r\n      <g>\r\n       <use style=\"stroke:#000000;stroke-width:0.8;\" x=\"26.925\" xlink:href=\"#m7c4e6c46b5\" y=\"119.382111\"/>\r\n      </g>\r\n     </g>\r\n     <g id=\"text_9\">\r\n      <!-- 20 -->\r\n      <g transform=\"translate(7.2 123.18133)scale(0.1 -0.1)\">\r\n       <use xlink:href=\"#DejaVuSans-50\"/>\r\n       <use x=\"63.623047\" xlink:href=\"#DejaVuSans-48\"/>\r\n      </g>\r\n     </g>\r\n    </g>\r\n    <g id=\"ytick_4\">\r\n     <g id=\"line2d_9\">\r\n      <g>\r\n       <use style=\"stroke:#000000;stroke-width:0.8;\" x=\"26.925\" xlink:href=\"#m7c4e6c46b5\" y=\"93.973948\"/>\r\n      </g>\r\n     </g>\r\n     <g id=\"text_10\">\r\n      <!-- 30 -->\r\n      <defs>\r\n       <path d=\"M 40.578125 39.3125 \r\nQ 47.65625 37.796875 51.625 33 \r\nQ 55.609375 28.21875 55.609375 21.1875 \r\nQ 55.609375 10.40625 48.1875 4.484375 \r\nQ 40.765625 -1.421875 27.09375 -1.421875 \r\nQ 22.515625 -1.421875 17.65625 -0.515625 \r\nQ 12.796875 0.390625 7.625 2.203125 \r\nL 7.625 11.71875 \r\nQ 11.71875 9.328125 16.59375 8.109375 \r\nQ 21.484375 6.890625 26.8125 6.890625 \r\nQ 36.078125 6.890625 40.9375 10.546875 \r\nQ 45.796875 14.203125 45.796875 21.1875 \r\nQ 45.796875 27.640625 41.28125 31.265625 \r\nQ 36.765625 34.90625 28.71875 34.90625 \r\nL 20.21875 34.90625 \r\nL 20.21875 43.015625 \r\nL 29.109375 43.015625 \r\nQ 36.375 43.015625 40.234375 45.921875 \r\nQ 44.09375 48.828125 44.09375 54.296875 \r\nQ 44.09375 59.90625 40.109375 62.90625 \r\nQ 36.140625 65.921875 28.71875 65.921875 \r\nQ 24.65625 65.921875 20.015625 65.03125 \r\nQ 15.375 64.15625 9.8125 62.3125 \r\nL 9.8125 71.09375 \r\nQ 15.4375 72.65625 20.34375 73.4375 \r\nQ 25.25 74.21875 29.59375 74.21875 \r\nQ 40.828125 74.21875 47.359375 69.109375 \r\nQ 53.90625 64.015625 53.90625 55.328125 \r\nQ 53.90625 49.265625 50.4375 45.09375 \r\nQ 46.96875 40.921875 40.578125 39.3125 \r\nz\r\n\" id=\"DejaVuSans-51\"/>\r\n      </defs>\r\n      <g transform=\"translate(7.2 97.773166)scale(0.1 -0.1)\">\r\n       <use xlink:href=\"#DejaVuSans-51\"/>\r\n       <use x=\"63.623047\" xlink:href=\"#DejaVuSans-48\"/>\r\n      </g>\r\n     </g>\r\n    </g>\r\n    <g id=\"ytick_5\">\r\n     <g id=\"line2d_10\">\r\n      <g>\r\n       <use style=\"stroke:#000000;stroke-width:0.8;\" x=\"26.925\" xlink:href=\"#m7c4e6c46b5\" y=\"68.565784\"/>\r\n      </g>\r\n     </g>\r\n     <g id=\"text_11\">\r\n      <!-- 40 -->\r\n      <g transform=\"translate(7.2 72.365003)scale(0.1 -0.1)\">\r\n       <use xlink:href=\"#DejaVuSans-52\"/>\r\n       <use x=\"63.623047\" xlink:href=\"#DejaVuSans-48\"/>\r\n      </g>\r\n     </g>\r\n    </g>\r\n    <g id=\"ytick_6\">\r\n     <g id=\"line2d_11\">\r\n      <g>\r\n       <use style=\"stroke:#000000;stroke-width:0.8;\" x=\"26.925\" xlink:href=\"#m7c4e6c46b5\" y=\"43.157621\"/>\r\n      </g>\r\n     </g>\r\n     <g id=\"text_12\">\r\n      <!-- 50 -->\r\n      <defs>\r\n       <path d=\"M 10.796875 72.90625 \r\nL 49.515625 72.90625 \r\nL 49.515625 64.59375 \r\nL 19.828125 64.59375 \r\nL 19.828125 46.734375 \r\nQ 21.96875 47.46875 24.109375 47.828125 \r\nQ 26.265625 48.1875 28.421875 48.1875 \r\nQ 40.625 48.1875 47.75 41.5 \r\nQ 54.890625 34.8125 54.890625 23.390625 \r\nQ 54.890625 11.625 47.5625 5.09375 \r\nQ 40.234375 -1.421875 26.90625 -1.421875 \r\nQ 22.3125 -1.421875 17.546875 -0.640625 \r\nQ 12.796875 0.140625 7.71875 1.703125 \r\nL 7.71875 11.625 \r\nQ 12.109375 9.234375 16.796875 8.0625 \r\nQ 21.484375 6.890625 26.703125 6.890625 \r\nQ 35.15625 6.890625 40.078125 11.328125 \r\nQ 45.015625 15.765625 45.015625 23.390625 \r\nQ 45.015625 31 40.078125 35.4375 \r\nQ 35.15625 39.890625 26.703125 39.890625 \r\nQ 22.75 39.890625 18.8125 39.015625 \r\nQ 14.890625 38.140625 10.796875 36.28125 \r\nz\r\n\" id=\"DejaVuSans-53\"/>\r\n      </defs>\r\n      <g transform=\"translate(7.2 46.95684)scale(0.1 -0.1)\">\r\n       <use xlink:href=\"#DejaVuSans-53\"/>\r\n       <use x=\"63.623047\" xlink:href=\"#DejaVuSans-48\"/>\r\n      </g>\r\n     </g>\r\n    </g>\r\n   </g>\r\n   <g id=\"patch_23\">\r\n    <path d=\"M 26.925 170.198437 \r\nL 26.925 20.798437 \r\n\" style=\"fill:none;stroke:#000000;stroke-linecap:square;stroke-linejoin:miter;stroke-width:0.8;\"/>\r\n   </g>\r\n   <g id=\"patch_24\">\r\n    <path d=\"M 26.925 170.198437 \r\nL 215.1 170.198437 \r\n\" style=\"fill:none;stroke:#000000;stroke-linecap:square;stroke-linejoin:miter;stroke-width:0.8;\"/>\r\n   </g>\r\n   <g id=\"text_13\">\r\n    <!-- Survived = 0 -->\r\n    <defs>\r\n     <path d=\"M 53.515625 70.515625 \r\nL 53.515625 60.890625 \r\nQ 47.90625 63.578125 42.921875 64.890625 \r\nQ 37.9375 66.21875 33.296875 66.21875 \r\nQ 25.25 66.21875 20.875 63.09375 \r\nQ 16.5 59.96875 16.5 54.203125 \r\nQ 16.5 49.359375 19.40625 46.890625 \r\nQ 22.3125 44.4375 30.421875 42.921875 \r\nL 36.375 41.703125 \r\nQ 47.40625 39.59375 52.65625 34.296875 \r\nQ 57.90625 29 57.90625 20.125 \r\nQ 57.90625 9.515625 50.796875 4.046875 \r\nQ 43.703125 -1.421875 29.984375 -1.421875 \r\nQ 24.8125 -1.421875 18.96875 -0.25 \r\nQ 13.140625 0.921875 6.890625 3.21875 \r\nL 6.890625 13.375 \r\nQ 12.890625 10.015625 18.65625 8.296875 \r\nQ 24.421875 6.59375 29.984375 6.59375 \r\nQ 38.421875 6.59375 43.015625 9.90625 \r\nQ 47.609375 13.234375 47.609375 19.390625 \r\nQ 47.609375 24.75 44.3125 27.78125 \r\nQ 41.015625 30.8125 33.5 32.328125 \r\nL 27.484375 33.5 \r\nQ 16.453125 35.6875 11.515625 40.375 \r\nQ 6.59375 45.0625 6.59375 53.421875 \r\nQ 6.59375 63.09375 13.40625 68.65625 \r\nQ 20.21875 74.21875 32.171875 74.21875 \r\nQ 37.3125 74.21875 42.625 73.28125 \r\nQ 47.953125 72.359375 53.515625 70.515625 \r\nz\r\n\" id=\"DejaVuSans-83\"/>\r\n     <path d=\"M 8.5 21.578125 \r\nL 8.5 54.6875 \r\nL 17.484375 54.6875 \r\nL 17.484375 21.921875 \r\nQ 17.484375 14.15625 20.5 10.265625 \r\nQ 23.53125 6.390625 29.59375 6.390625 \r\nQ 36.859375 6.390625 41.078125 11.03125 \r\nQ 45.3125 15.671875 45.3125 23.6875 \r\nL 45.3125 54.6875 \r\nL 54.296875 54.6875 \r\nL 54.296875 0 \r\nL 45.3125 0 \r\nL 45.3125 8.40625 \r\nQ 42.046875 3.421875 37.71875 1 \r\nQ 33.40625 -1.421875 27.6875 -1.421875 \r\nQ 18.265625 -1.421875 13.375 4.4375 \r\nQ 8.5 10.296875 8.5 21.578125 \r\nz\r\nM 31.109375 56 \r\nz\r\n\" id=\"DejaVuSans-117\"/>\r\n     <path d=\"M 41.109375 46.296875 \r\nQ 39.59375 47.171875 37.8125 47.578125 \r\nQ 36.03125 48 33.890625 48 \r\nQ 26.265625 48 22.1875 43.046875 \r\nQ 18.109375 38.09375 18.109375 28.8125 \r\nL 18.109375 0 \r\nL 9.078125 0 \r\nL 9.078125 54.6875 \r\nL 18.109375 54.6875 \r\nL 18.109375 46.1875 \r\nQ 20.953125 51.171875 25.484375 53.578125 \r\nQ 30.03125 56 36.53125 56 \r\nQ 37.453125 56 38.578125 55.875 \r\nQ 39.703125 55.765625 41.0625 55.515625 \r\nz\r\n\" id=\"DejaVuSans-114\"/>\r\n     <path d=\"M 2.984375 54.6875 \r\nL 12.5 54.6875 \r\nL 29.59375 8.796875 \r\nL 46.6875 54.6875 \r\nL 56.203125 54.6875 \r\nL 35.6875 0 \r\nL 23.484375 0 \r\nz\r\n\" id=\"DejaVuSans-118\"/>\r\n     <path d=\"M 9.421875 54.6875 \r\nL 18.40625 54.6875 \r\nL 18.40625 0 \r\nL 9.421875 0 \r\nz\r\nM 9.421875 75.984375 \r\nL 18.40625 75.984375 \r\nL 18.40625 64.59375 \r\nL 9.421875 64.59375 \r\nz\r\n\" id=\"DejaVuSans-105\"/>\r\n     <path d=\"M 45.40625 46.390625 \r\nL 45.40625 75.984375 \r\nL 54.390625 75.984375 \r\nL 54.390625 0 \r\nL 45.40625 0 \r\nL 45.40625 8.203125 \r\nQ 42.578125 3.328125 38.25 0.953125 \r\nQ 33.9375 -1.421875 27.875 -1.421875 \r\nQ 17.96875 -1.421875 11.734375 6.484375 \r\nQ 5.515625 14.40625 5.515625 27.296875 \r\nQ 5.515625 40.1875 11.734375 48.09375 \r\nQ 17.96875 56 27.875 56 \r\nQ 33.9375 56 38.25 53.625 \r\nQ 42.578125 51.265625 45.40625 46.390625 \r\nz\r\nM 14.796875 27.296875 \r\nQ 14.796875 17.390625 18.875 11.75 \r\nQ 22.953125 6.109375 30.078125 6.109375 \r\nQ 37.203125 6.109375 41.296875 11.75 \r\nQ 45.40625 17.390625 45.40625 27.296875 \r\nQ 45.40625 37.203125 41.296875 42.84375 \r\nQ 37.203125 48.484375 30.078125 48.484375 \r\nQ 22.953125 48.484375 18.875 42.84375 \r\nQ 14.796875 37.203125 14.796875 27.296875 \r\nz\r\n\" id=\"DejaVuSans-100\"/>\r\n     <path id=\"DejaVuSans-32\"/>\r\n     <path d=\"M 10.59375 45.40625 \r\nL 73.1875 45.40625 \r\nL 73.1875 37.203125 \r\nL 10.59375 37.203125 \r\nz\r\nM 10.59375 25.484375 \r\nL 73.1875 25.484375 \r\nL 73.1875 17.1875 \r\nL 10.59375 17.1875 \r\nz\r\n\" id=\"DejaVuSans-61\"/>\r\n    </defs>\r\n    <g transform=\"translate(88.50625 14.798438)scale(0.1 -0.1)\">\r\n     <use xlink:href=\"#DejaVuSans-83\"/>\r\n     <use x=\"63.476562\" xlink:href=\"#DejaVuSans-117\"/>\r\n     <use x=\"126.855469\" xlink:href=\"#DejaVuSans-114\"/>\r\n     <use x=\"167.96875\" xlink:href=\"#DejaVuSans-118\"/>\r\n     <use x=\"227.148438\" xlink:href=\"#DejaVuSans-105\"/>\r\n     <use x=\"254.931641\" xlink:href=\"#DejaVuSans-118\"/>\r\n     <use x=\"314.111328\" xlink:href=\"#DejaVuSans-101\"/>\r\n     <use x=\"375.634766\" xlink:href=\"#DejaVuSans-100\"/>\r\n     <use x=\"439.111328\" xlink:href=\"#DejaVuSans-32\"/>\r\n     <use x=\"470.898438\" xlink:href=\"#DejaVuSans-61\"/>\r\n     <use x=\"554.6875\" xlink:href=\"#DejaVuSans-32\"/>\r\n     <use x=\"586.474609\" xlink:href=\"#DejaVuSans-48\"/>\r\n    </g>\r\n   </g>\r\n  </g>\r\n  <g id=\"axes_2\">\r\n   <g id=\"patch_25\">\r\n    <path d=\"M 229.4 170.198437 \r\nL 417.575 170.198437 \r\nL 417.575 20.798438 \r\nL 229.4 20.798438 \r\nz\r\n\" style=\"fill:#ffffff;\"/>\r\n   </g>\r\n   <g id=\"patch_26\">\r\n    <path clip-path=\"url(#p0f47c9e390)\" d=\"M 237.953409 170.198437 \r\nL 246.506818 170.198437 \r\nL 246.506818 101.596397 \r\nL 237.953409 101.596397 \r\nz\r\n\" style=\"fill:#1f77b4;\"/>\r\n   </g>\r\n   <g id=\"patch_27\">\r\n    <path clip-path=\"url(#p0f47c9e390)\" d=\"M 246.506818 170.198437 \r\nL 255.060227 170.198437 \r\nL 255.060227 147.331091 \r\nL 246.506818 147.331091 \r\nz\r\n\" style=\"fill:#1f77b4;\"/>\r\n   </g>\r\n   <g id=\"patch_28\">\r\n    <path clip-path=\"url(#p0f47c9e390)\" d=\"M 255.060227 170.198437 \r\nL 263.613636 170.198437 \r\nL 263.613636 160.035172 \r\nL 255.060227 160.035172 \r\nz\r\n\" style=\"fill:#1f77b4;\"/>\r\n   </g>\r\n   <g id=\"patch_29\">\r\n    <path clip-path=\"url(#p0f47c9e390)\" d=\"M 263.613636 170.198437 \r\nL 272.167045 170.198437 \r\nL 272.167045 132.086193 \r\nL 263.613636 132.086193 \r\nz\r\n\" style=\"fill:#1f77b4;\"/>\r\n   </g>\r\n   <g id=\"patch_30\">\r\n    <path clip-path=\"url(#p0f47c9e390)\" d=\"M 272.167045 170.198437 \r\nL 280.720455 170.198437 \r\nL 280.720455 101.596397 \r\nL 272.167045 101.596397 \r\nz\r\n\" style=\"fill:#1f77b4;\"/>\r\n   </g>\r\n   <g id=\"patch_31\">\r\n    <path clip-path=\"url(#p0f47c9e390)\" d=\"M 280.720455 170.198437 \r\nL 289.273864 170.198437 \r\nL 289.273864 78.72905 \r\nL 280.720455 78.72905 \r\nz\r\n\" style=\"fill:#1f77b4;\"/>\r\n   </g>\r\n   <g id=\"patch_32\">\r\n    <path clip-path=\"url(#p0f47c9e390)\" d=\"M 289.273864 170.198437 \r\nL 297.827273 170.198437 \r\nL 297.827273 93.973948 \r\nL 289.273864 93.973948 \r\nz\r\n\" style=\"fill:#1f77b4;\"/>\r\n   </g>\r\n   <g id=\"patch_33\">\r\n    <path clip-path=\"url(#p0f47c9e390)\" d=\"M 297.827273 170.198437 \r\nL 306.380682 170.198437 \r\nL 306.380682 81.269866 \r\nL 297.827273 81.269866 \r\nz\r\n\" style=\"fill:#1f77b4;\"/>\r\n   </g>\r\n   <g id=\"patch_34\">\r\n    <path clip-path=\"url(#p0f47c9e390)\" d=\"M 306.380682 170.198437 \r\nL 314.934091 170.198437 \r\nL 314.934091 81.269866 \r\nL 306.380682 81.269866 \r\nz\r\n\" style=\"fill:#1f77b4;\"/>\r\n   </g>\r\n   <g id=\"patch_35\">\r\n    <path clip-path=\"url(#p0f47c9e390)\" d=\"M 314.934091 170.198437 \r\nL 323.4875 170.198437 \r\nL 323.4875 127.00456 \r\nL 314.934091 127.00456 \r\nz\r\n\" style=\"fill:#1f77b4;\"/>\r\n   </g>\r\n   <g id=\"patch_36\">\r\n    <path clip-path=\"url(#p0f47c9e390)\" d=\"M 323.4875 170.198437 \r\nL 332.040909 170.198437 \r\nL 332.040909 139.708642 \r\nL 323.4875 139.708642 \r\nz\r\n\" style=\"fill:#1f77b4;\"/>\r\n   </g>\r\n   <g id=\"patch_37\">\r\n    <path clip-path=\"url(#p0f47c9e390)\" d=\"M 332.040909 170.198437 \r\nL 340.594318 170.198437 \r\nL 340.594318 139.708642 \r\nL 332.040909 139.708642 \r\nz\r\n\" style=\"fill:#1f77b4;\"/>\r\n   </g>\r\n   <g id=\"patch_38\">\r\n    <path clip-path=\"url(#p0f47c9e390)\" d=\"M 340.594318 170.198437 \r\nL 349.147727 170.198437 \r\nL 349.147727 134.627009 \r\nL 340.594318 134.627009 \r\nz\r\n\" style=\"fill:#1f77b4;\"/>\r\n   </g>\r\n   <g id=\"patch_39\">\r\n    <path clip-path=\"url(#p0f47c9e390)\" d=\"M 349.147727 170.198437 \r\nL 357.701136 170.198437 \r\nL 357.701136 152.412723 \r\nL 349.147727 152.412723 \r\nz\r\n\" style=\"fill:#1f77b4;\"/>\r\n   </g>\r\n   <g id=\"patch_40\">\r\n    <path clip-path=\"url(#p0f47c9e390)\" d=\"M 357.701136 170.198437 \r\nL 366.254545 170.198437 \r\nL 366.254545 157.494356 \r\nL 357.701136 157.494356 \r\nz\r\n\" style=\"fill:#1f77b4;\"/>\r\n   </g>\r\n   <g id=\"patch_41\">\r\n    <path clip-path=\"url(#p0f47c9e390)\" d=\"M 366.254545 170.198437 \r\nL 374.807955 170.198437 \r\nL 374.807955 160.035172 \r\nL 366.254545 160.035172 \r\nz\r\n\" style=\"fill:#1f77b4;\"/>\r\n   </g>\r\n   <g id=\"patch_42\">\r\n    <path clip-path=\"url(#p0f47c9e390)\" d=\"M 374.807955 170.198437 \r\nL 383.361364 170.198437 \r\nL 383.361364 170.198437 \r\nL 374.807955 170.198437 \r\nz\r\n\" style=\"fill:#1f77b4;\"/>\r\n   </g>\r\n   <g id=\"patch_43\">\r\n    <path clip-path=\"url(#p0f47c9e390)\" d=\"M 383.361364 170.198437 \r\nL 391.914773 170.198437 \r\nL 391.914773 170.198437 \r\nL 383.361364 170.198437 \r\nz\r\n\" style=\"fill:#1f77b4;\"/>\r\n   </g>\r\n   <g id=\"patch_44\">\r\n    <path clip-path=\"url(#p0f47c9e390)\" d=\"M 391.914773 170.198437 \r\nL 400.468182 170.198437 \r\nL 400.468182 170.198437 \r\nL 391.914773 170.198437 \r\nz\r\n\" style=\"fill:#1f77b4;\"/>\r\n   </g>\r\n   <g id=\"patch_45\">\r\n    <path clip-path=\"url(#p0f47c9e390)\" d=\"M 400.468182 170.198437 \r\nL 409.021591 170.198437 \r\nL 409.021591 167.657621 \r\nL 400.468182 167.657621 \r\nz\r\n\" style=\"fill:#1f77b4;\"/>\r\n   </g>\r\n   <g id=\"matplotlib.axis_3\">\r\n    <g id=\"xtick_6\">\r\n     <g id=\"line2d_12\">\r\n      <g>\r\n       <use style=\"stroke:#000000;stroke-width:0.8;\" x=\"237.050561\" xlink:href=\"#m933ddca949\" y=\"170.198437\"/>\r\n      </g>\r\n     </g>\r\n     <g id=\"text_14\">\r\n      <!-- 0 -->\r\n      <g transform=\"translate(233.869311 184.796875)scale(0.1 -0.1)\">\r\n       <use xlink:href=\"#DejaVuSans-48\"/>\r\n      </g>\r\n     </g>\r\n    </g>\r\n    <g id=\"xtick_7\">\r\n     <g id=\"line2d_13\">\r\n      <g>\r\n       <use style=\"stroke:#000000;stroke-width:0.8;\" x=\"280.043319\" xlink:href=\"#m933ddca949\" y=\"170.198437\"/>\r\n      </g>\r\n     </g>\r\n     <g id=\"text_15\">\r\n      <!-- 20 -->\r\n      <g transform=\"translate(273.680819 184.796875)scale(0.1 -0.1)\">\r\n       <use xlink:href=\"#DejaVuSans-50\"/>\r\n       <use x=\"63.623047\" xlink:href=\"#DejaVuSans-48\"/>\r\n      </g>\r\n     </g>\r\n    </g>\r\n    <g id=\"xtick_8\">\r\n     <g id=\"line2d_14\">\r\n      <g>\r\n       <use style=\"stroke:#000000;stroke-width:0.8;\" x=\"323.036076\" xlink:href=\"#m933ddca949\" y=\"170.198437\"/>\r\n      </g>\r\n     </g>\r\n     <g id=\"text_16\">\r\n      <!-- 40 -->\r\n      <g transform=\"translate(316.673576 184.796875)scale(0.1 -0.1)\">\r\n       <use xlink:href=\"#DejaVuSans-52\"/>\r\n       <use x=\"63.623047\" xlink:href=\"#DejaVuSans-48\"/>\r\n      </g>\r\n     </g>\r\n    </g>\r\n    <g id=\"xtick_9\">\r\n     <g id=\"line2d_15\">\r\n      <g>\r\n       <use style=\"stroke:#000000;stroke-width:0.8;\" x=\"366.028833\" xlink:href=\"#m933ddca949\" y=\"170.198437\"/>\r\n      </g>\r\n     </g>\r\n     <g id=\"text_17\">\r\n      <!-- 60 -->\r\n      <g transform=\"translate(359.666333 184.796875)scale(0.1 -0.1)\">\r\n       <use xlink:href=\"#DejaVuSans-54\"/>\r\n       <use x=\"63.623047\" xlink:href=\"#DejaVuSans-48\"/>\r\n      </g>\r\n     </g>\r\n    </g>\r\n    <g id=\"xtick_10\">\r\n     <g id=\"line2d_16\">\r\n      <g>\r\n       <use style=\"stroke:#000000;stroke-width:0.8;\" x=\"409.021591\" xlink:href=\"#m933ddca949\" y=\"170.198437\"/>\r\n      </g>\r\n     </g>\r\n     <g id=\"text_18\">\r\n      <!-- 80 -->\r\n      <g transform=\"translate(402.659091 184.796875)scale(0.1 -0.1)\">\r\n       <use xlink:href=\"#DejaVuSans-56\"/>\r\n       <use x=\"63.623047\" xlink:href=\"#DejaVuSans-48\"/>\r\n      </g>\r\n     </g>\r\n    </g>\r\n    <g id=\"text_19\">\r\n     <!-- Age -->\r\n     <g transform=\"translate(313.816406 198.475)scale(0.1 -0.1)\">\r\n      <use xlink:href=\"#DejaVuSans-65\"/>\r\n      <use x=\"68.408203\" xlink:href=\"#DejaVuSans-103\"/>\r\n      <use x=\"131.884766\" xlink:href=\"#DejaVuSans-101\"/>\r\n     </g>\r\n    </g>\r\n   </g>\r\n   <g id=\"matplotlib.axis_4\">\r\n    <g id=\"ytick_7\">\r\n     <g id=\"line2d_17\">\r\n      <g>\r\n       <use style=\"stroke:#000000;stroke-width:0.8;\" x=\"229.4\" xlink:href=\"#m7c4e6c46b5\" y=\"170.198437\"/>\r\n      </g>\r\n     </g>\r\n    </g>\r\n    <g id=\"ytick_8\">\r\n     <g id=\"line2d_18\">\r\n      <g>\r\n       <use style=\"stroke:#000000;stroke-width:0.8;\" x=\"229.4\" xlink:href=\"#m7c4e6c46b5\" y=\"144.790274\"/>\r\n      </g>\r\n     </g>\r\n    </g>\r\n    <g id=\"ytick_9\">\r\n     <g id=\"line2d_19\">\r\n      <g>\r\n       <use style=\"stroke:#000000;stroke-width:0.8;\" x=\"229.4\" xlink:href=\"#m7c4e6c46b5\" y=\"119.382111\"/>\r\n      </g>\r\n     </g>\r\n    </g>\r\n    <g id=\"ytick_10\">\r\n     <g id=\"line2d_20\">\r\n      <g>\r\n       <use style=\"stroke:#000000;stroke-width:0.8;\" x=\"229.4\" xlink:href=\"#m7c4e6c46b5\" y=\"93.973948\"/>\r\n      </g>\r\n     </g>\r\n    </g>\r\n    <g id=\"ytick_11\">\r\n     <g id=\"line2d_21\">\r\n      <g>\r\n       <use style=\"stroke:#000000;stroke-width:0.8;\" x=\"229.4\" xlink:href=\"#m7c4e6c46b5\" y=\"68.565784\"/>\r\n      </g>\r\n     </g>\r\n    </g>\r\n    <g id=\"ytick_12\">\r\n     <g id=\"line2d_22\">\r\n      <g>\r\n       <use style=\"stroke:#000000;stroke-width:0.8;\" x=\"229.4\" xlink:href=\"#m7c4e6c46b5\" y=\"43.157621\"/>\r\n      </g>\r\n     </g>\r\n    </g>\r\n   </g>\r\n   <g id=\"patch_46\">\r\n    <path d=\"M 229.4 170.198437 \r\nL 229.4 20.798437 \r\n\" style=\"fill:none;stroke:#000000;stroke-linecap:square;stroke-linejoin:miter;stroke-width:0.8;\"/>\r\n   </g>\r\n   <g id=\"patch_47\">\r\n    <path d=\"M 229.4 170.198437 \r\nL 417.575 170.198437 \r\n\" style=\"fill:none;stroke:#000000;stroke-linecap:square;stroke-linejoin:miter;stroke-width:0.8;\"/>\r\n   </g>\r\n   <g id=\"text_20\">\r\n    <!-- Survived = 1 -->\r\n    <g transform=\"translate(290.98125 14.798438)scale(0.1 -0.1)\">\r\n     <use xlink:href=\"#DejaVuSans-83\"/>\r\n     <use x=\"63.476562\" xlink:href=\"#DejaVuSans-117\"/>\r\n     <use x=\"126.855469\" xlink:href=\"#DejaVuSans-114\"/>\r\n     <use x=\"167.96875\" xlink:href=\"#DejaVuSans-118\"/>\r\n     <use x=\"227.148438\" xlink:href=\"#DejaVuSans-105\"/>\r\n     <use x=\"254.931641\" xlink:href=\"#DejaVuSans-118\"/>\r\n     <use x=\"314.111328\" xlink:href=\"#DejaVuSans-101\"/>\r\n     <use x=\"375.634766\" xlink:href=\"#DejaVuSans-100\"/>\r\n     <use x=\"439.111328\" xlink:href=\"#DejaVuSans-32\"/>\r\n     <use x=\"470.898438\" xlink:href=\"#DejaVuSans-61\"/>\r\n     <use x=\"554.6875\" xlink:href=\"#DejaVuSans-32\"/>\r\n     <use x=\"586.474609\" xlink:href=\"#DejaVuSans-49\"/>\r\n    </g>\r\n   </g>\r\n  </g>\r\n </g>\r\n <defs>\r\n  <clipPath id=\"pecc30963ea\">\r\n   <rect height=\"149.4\" width=\"188.175\" x=\"26.925\" y=\"20.798438\"/>\r\n  </clipPath>\r\n  <clipPath id=\"p0f47c9e390\">\r\n   <rect height=\"149.4\" width=\"188.175\" x=\"229.4\" y=\"20.798438\"/>\r\n  </clipPath>\r\n </defs>\r\n</svg>\r\n",
      "image/png": "[encoded data removed]"
     },
     "metadata": {
      "needs_background": "light"
     }
    }
   ],
   "source": [
    "g = sns.FacetGrid(train_df, col='Survived')\n",
    "g.map(plt.hist, 'Age', bins=20)"
   ]
  },
  {
   "cell_type": "markdown",
   "metadata": {
    "_cell_guid": "87096158-4017-9213-7225-a19aea67a800",
    "_uuid": "892259f68c2ecf64fd258965cff1ecfe77dd73a9"
   },
   "source": [
    "### Correlating numerical and ordinal features\n",
    "\n",
    "We can combine multiple features for identifying correlations using a single plot. This can be done with numerical and categorical features which have numeric values.\n",
    "\n",
    "**Observations.**\n",
    "\n",
    "- Pclass=3 had most passengers, however most did not survive. Confirms our classifying assumption #2.\n",
    "- Infant passengers in Pclass=2 and Pclass=3 mostly survived. Further qualifies our classifying assumption #2.\n",
    "- Most passengers in Pclass=1 survived. Confirms our classifying assumption #3.\n",
    "- Pclass varies in terms of Age distribution of passengers.\n",
    "\n",
    "**Decisions.**\n",
    "\n",
    "- Consider Pclass for model training."
   ]
  },
  {
   "cell_type": "code",
   "execution_count": 269,
   "metadata": {
    "_cell_guid": "916fdc6b-0190-9267-1ea9-907a3d87330d",
    "_uuid": "4f5bcfa97c8a72f8b413c786954f3a68e135e05a",
    "collapsed": true
   },
   "outputs": [
    {
     "output_type": "display_data",
     "data": {
      "text/plain": "<Figure size 514.88x475.2 with 6 Axes>",
      "image/svg+xml": "<?xml version=\"1.0\" encoding=\"utf-8\" standalone=\"no\"?>\r\n<!DOCTYPE svg PUBLIC \"-//W3C//DTD SVG 1.1//EN\"\r\n  \"http://www.w3.org/Graphics/SVG/1.1/DTD/svg11.dtd\">\r\n<!-- Created with matplotlib (https://matplotlib.org/) -->\r\n<svg height=\"466.998438pt\" version=\"1.1\" viewBox=\"0 0 512.972835 466.998438\" width=\"512.972835pt\" xmlns=\"http://www.w3.org/2000/svg\" xmlns:xlink=\"http://www.w3.org/1999/xlink\">\r\n <defs>\r\n  <style type=\"text/css\">\r\n*{stroke-linecap:butt;stroke-linejoin:round;}\r\n  </style>\r\n </defs>\r\n <g id=\"figure_1\">\r\n  <g id=\"patch_1\">\r\n   <path d=\"M 0 466.998438 \r\nL 512.972835 466.998438 \r\nL 512.972835 0 \r\nL 0 0 \r\nz\r\n\" style=\"fill:none;\"/>\r\n  </g>\r\n  <g id=\"axes_1\">\r\n   <g id=\"patch_2\">\r\n    <path d=\"M 26.925 136.508854 \r\nL 255.045127 136.508854 \r\nL 255.045127 20.842187 \r\nL 26.925 20.842187 \r\nz\r\n\" style=\"fill:#ffffff;\"/>\r\n   </g>\r\n   <g id=\"patch_3\">\r\n    <path clip-path=\"url(#pd61595ef54)\" d=\"M 41.411506 136.508854 \r\nL 50.402053 136.508854 \r\nL 50.402053 133.947023 \r\nL 41.411506 133.947023 \r\nz\r\n\" style=\"fill:#1f77b4;opacity:0.5;\"/>\r\n   </g>\r\n   <g id=\"patch_4\">\r\n    <path clip-path=\"url(#pd61595ef54)\" d=\"M 50.402053 136.508854 \r\nL 59.392599 136.508854 \r\nL 59.392599 136.508854 \r\nL 50.402053 136.508854 \r\nz\r\n\" style=\"fill:#1f77b4;opacity:0.5;\"/>\r\n   </g>\r\n   <g id=\"patch_5\">\r\n    <path clip-path=\"url(#pd61595ef54)\" d=\"M 59.392599 136.508854 \r\nL 68.383145 136.508854 \r\nL 68.383145 136.508854 \r\nL 59.392599 136.508854 \r\nz\r\n\" style=\"fill:#1f77b4;opacity:0.5;\"/>\r\n   </g>\r\n   <g id=\"patch_6\">\r\n    <path clip-path=\"url(#pd61595ef54)\" d=\"M 68.383145 136.508854 \r\nL 77.373691 136.508854 \r\nL 77.373691 136.508854 \r\nL 68.383145 136.508854 \r\nz\r\n\" style=\"fill:#1f77b4;opacity:0.5;\"/>\r\n   </g>\r\n   <g id=\"patch_7\">\r\n    <path clip-path=\"url(#pd61595ef54)\" d=\"M 77.373691 136.508854 \r\nL 86.364238 136.508854 \r\nL 86.364238 128.823361 \r\nL 77.373691 128.823361 \r\nz\r\n\" style=\"fill:#1f77b4;opacity:0.5;\"/>\r\n   </g>\r\n   <g id=\"patch_8\">\r\n    <path clip-path=\"url(#pd61595ef54)\" d=\"M 86.364238 136.508854 \r\nL 95.354784 136.508854 \r\nL 95.354784 131.385192 \r\nL 86.364238 131.385192 \r\nz\r\n\" style=\"fill:#1f77b4;opacity:0.5;\"/>\r\n   </g>\r\n   <g id=\"patch_9\">\r\n    <path clip-path=\"url(#pd61595ef54)\" d=\"M 95.354784 136.508854 \r\nL 104.34533 136.508854 \r\nL 104.34533 128.823361 \r\nL 95.354784 128.823361 \r\nz\r\n\" style=\"fill:#1f77b4;opacity:0.5;\"/>\r\n   </g>\r\n   <g id=\"patch_10\">\r\n    <path clip-path=\"url(#pd61595ef54)\" d=\"M 104.34533 136.508854 \r\nL 113.335876 136.508854 \r\nL 113.335876 123.699699 \r\nL 104.34533 123.699699 \r\nz\r\n\" style=\"fill:#1f77b4;opacity:0.5;\"/>\r\n   </g>\r\n   <g id=\"patch_11\">\r\n    <path clip-path=\"url(#pd61595ef54)\" d=\"M 113.335876 136.508854 \r\nL 122.326423 136.508854 \r\nL 122.326423 126.26153 \r\nL 113.335876 126.26153 \r\nz\r\n\" style=\"fill:#1f77b4;opacity:0.5;\"/>\r\n   </g>\r\n   <g id=\"patch_12\">\r\n    <path clip-path=\"url(#pd61595ef54)\" d=\"M 122.326423 136.508854 \r\nL 131.316969 136.508854 \r\nL 131.316969 131.385192 \r\nL 122.326423 131.385192 \r\nz\r\n\" style=\"fill:#1f77b4;opacity:0.5;\"/>\r\n   </g>\r\n   <g id=\"patch_13\">\r\n    <path clip-path=\"url(#pd61595ef54)\" d=\"M 131.316969 136.508854 \r\nL 140.307515 136.508854 \r\nL 140.307515 123.699699 \r\nL 131.316969 123.699699 \r\nz\r\n\" style=\"fill:#1f77b4;opacity:0.5;\"/>\r\n   </g>\r\n   <g id=\"patch_14\">\r\n    <path clip-path=\"url(#pd61595ef54)\" d=\"M 140.307515 136.508854 \r\nL 149.298061 136.508854 \r\nL 149.298061 128.823361 \r\nL 140.307515 128.823361 \r\nz\r\n\" style=\"fill:#1f77b4;opacity:0.5;\"/>\r\n   </g>\r\n   <g id=\"patch_15\">\r\n    <path clip-path=\"url(#pd61595ef54)\" d=\"M 149.298061 136.508854 \r\nL 158.288608 136.508854 \r\nL 158.288608 118.576038 \r\nL 149.298061 118.576038 \r\nz\r\n\" style=\"fill:#1f77b4;opacity:0.5;\"/>\r\n   </g>\r\n   <g id=\"patch_16\">\r\n    <path clip-path=\"url(#pd61595ef54)\" d=\"M 158.288608 136.508854 \r\nL 167.279154 136.508854 \r\nL 167.279154 116.014207 \r\nL 158.288608 116.014207 \r\nz\r\n\" style=\"fill:#1f77b4;opacity:0.5;\"/>\r\n   </g>\r\n   <g id=\"patch_17\">\r\n    <path clip-path=\"url(#pd61595ef54)\" d=\"M 167.279154 136.508854 \r\nL 176.2697 136.508854 \r\nL 176.2697 131.385192 \r\nL 167.279154 131.385192 \r\nz\r\n\" style=\"fill:#1f77b4;opacity:0.5;\"/>\r\n   </g>\r\n   <g id=\"patch_18\">\r\n    <path clip-path=\"url(#pd61595ef54)\" d=\"M 176.2697 136.508854 \r\nL 185.260246 136.508854 \r\nL 185.260246 123.699699 \r\nL 176.2697 123.699699 \r\nz\r\n\" style=\"fill:#1f77b4;opacity:0.5;\"/>\r\n   </g>\r\n   <g id=\"patch_19\">\r\n    <path clip-path=\"url(#pd61595ef54)\" d=\"M 185.260246 136.508854 \r\nL 194.250793 136.508854 \r\nL 194.250793 128.823361 \r\nL 185.260246 128.823361 \r\nz\r\n\" style=\"fill:#1f77b4;opacity:0.5;\"/>\r\n   </g>\r\n   <g id=\"patch_20\">\r\n    <path clip-path=\"url(#pd61595ef54)\" d=\"M 194.250793 136.508854 \r\nL 203.241339 136.508854 \r\nL 203.241339 121.137869 \r\nL 194.250793 121.137869 \r\nz\r\n\" style=\"fill:#1f77b4;opacity:0.5;\"/>\r\n   </g>\r\n   <g id=\"patch_21\">\r\n    <path clip-path=\"url(#pd61595ef54)\" d=\"M 203.241339 136.508854 \r\nL 212.231885 136.508854 \r\nL 212.231885 131.385192 \r\nL 203.241339 131.385192 \r\nz\r\n\" style=\"fill:#1f77b4;opacity:0.5;\"/>\r\n   </g>\r\n   <g id=\"patch_22\">\r\n    <path clip-path=\"url(#pd61595ef54)\" d=\"M 212.231885 136.508854 \r\nL 221.222431 136.508854 \r\nL 221.222431 128.823361 \r\nL 212.231885 128.823361 \r\nz\r\n\" style=\"fill:#1f77b4;opacity:0.5;\"/>\r\n   </g>\r\n   <g id=\"matplotlib.axis_1\">\r\n    <g id=\"xtick_1\">\r\n     <g id=\"line2d_1\">\r\n      <defs>\r\n       <path d=\"M 0 0 \r\nL 0 3.5 \r\n\" id=\"m89cbf8f76c\" style=\"stroke:#000000;stroke-width:0.8;\"/>\r\n      </defs>\r\n      <g>\r\n       <use style=\"stroke:#000000;stroke-width:0.8;\" x=\"36.199595\" xlink:href=\"#m89cbf8f76c\" y=\"136.508854\"/>\r\n      </g>\r\n     </g>\r\n    </g>\r\n    <g id=\"xtick_2\">\r\n     <g id=\"line2d_2\">\r\n      <g>\r\n       <use style=\"stroke:#000000;stroke-width:0.8;\" x=\"88.318704\" xlink:href=\"#m89cbf8f76c\" y=\"136.508854\"/>\r\n      </g>\r\n     </g>\r\n    </g>\r\n    <g id=\"xtick_3\">\r\n     <g id=\"line2d_3\">\r\n      <g>\r\n       <use style=\"stroke:#000000;stroke-width:0.8;\" x=\"140.437813\" xlink:href=\"#m89cbf8f76c\" y=\"136.508854\"/>\r\n      </g>\r\n     </g>\r\n    </g>\r\n    <g id=\"xtick_4\">\r\n     <g id=\"line2d_4\">\r\n      <g>\r\n       <use style=\"stroke:#000000;stroke-width:0.8;\" x=\"192.556922\" xlink:href=\"#m89cbf8f76c\" y=\"136.508854\"/>\r\n      </g>\r\n     </g>\r\n    </g>\r\n    <g id=\"xtick_5\">\r\n     <g id=\"line2d_5\">\r\n      <g>\r\n       <use style=\"stroke:#000000;stroke-width:0.8;\" x=\"244.67603\" xlink:href=\"#m89cbf8f76c\" y=\"136.508854\"/>\r\n      </g>\r\n     </g>\r\n    </g>\r\n   </g>\r\n   <g id=\"matplotlib.axis_2\">\r\n    <g id=\"ytick_1\">\r\n     <g id=\"line2d_6\">\r\n      <defs>\r\n       <path d=\"M 0 0 \r\nL -3.5 0 \r\n\" id=\"m448857cec0\" style=\"stroke:#000000;stroke-width:0.8;\"/>\r\n      </defs>\r\n      <g>\r\n       <use style=\"stroke:#000000;stroke-width:0.8;\" x=\"26.925\" xlink:href=\"#m448857cec0\" y=\"136.508854\"/>\r\n      </g>\r\n     </g>\r\n     <g id=\"text_1\">\r\n      <!-- 0 -->\r\n      <defs>\r\n       <path d=\"M 31.78125 66.40625 \r\nQ 24.171875 66.40625 20.328125 58.90625 \r\nQ 16.5 51.421875 16.5 36.375 \r\nQ 16.5 21.390625 20.328125 13.890625 \r\nQ 24.171875 6.390625 31.78125 6.390625 \r\nQ 39.453125 6.390625 43.28125 13.890625 \r\nQ 47.125 21.390625 47.125 36.375 \r\nQ 47.125 51.421875 43.28125 58.90625 \r\nQ 39.453125 66.40625 31.78125 66.40625 \r\nz\r\nM 31.78125 74.21875 \r\nQ 44.046875 74.21875 50.515625 64.515625 \r\nQ 56.984375 54.828125 56.984375 36.375 \r\nQ 56.984375 17.96875 50.515625 8.265625 \r\nQ 44.046875 -1.421875 31.78125 -1.421875 \r\nQ 19.53125 -1.421875 13.0625 8.265625 \r\nQ 6.59375 17.96875 6.59375 36.375 \r\nQ 6.59375 54.828125 13.0625 64.515625 \r\nQ 19.53125 74.21875 31.78125 74.21875 \r\nz\r\n\" id=\"DejaVuSans-48\"/>\r\n      </defs>\r\n      <g transform=\"translate(13.5625 140.308073)scale(0.1 -0.1)\">\r\n       <use xlink:href=\"#DejaVuSans-48\"/>\r\n      </g>\r\n     </g>\r\n    </g>\r\n    <g id=\"ytick_2\">\r\n     <g id=\"line2d_7\">\r\n      <g>\r\n       <use style=\"stroke:#000000;stroke-width:0.8;\" x=\"26.925\" xlink:href=\"#m448857cec0\" y=\"110.890545\"/>\r\n      </g>\r\n     </g>\r\n     <g id=\"text_2\">\r\n      <!-- 10 -->\r\n      <defs>\r\n       <path d=\"M 12.40625 8.296875 \r\nL 28.515625 8.296875 \r\nL 28.515625 63.921875 \r\nL 10.984375 60.40625 \r\nL 10.984375 69.390625 \r\nL 28.421875 72.90625 \r\nL 38.28125 72.90625 \r\nL 38.28125 8.296875 \r\nL 54.390625 8.296875 \r\nL 54.390625 0 \r\nL 12.40625 0 \r\nz\r\n\" id=\"DejaVuSans-49\"/>\r\n      </defs>\r\n      <g transform=\"translate(7.2 114.689764)scale(0.1 -0.1)\">\r\n       <use xlink:href=\"#DejaVuSans-49\"/>\r\n       <use x=\"63.623047\" xlink:href=\"#DejaVuSans-48\"/>\r\n      </g>\r\n     </g>\r\n    </g>\r\n    <g id=\"ytick_3\">\r\n     <g id=\"line2d_8\">\r\n      <g>\r\n       <use style=\"stroke:#000000;stroke-width:0.8;\" x=\"26.925\" xlink:href=\"#m448857cec0\" y=\"85.272235\"/>\r\n      </g>\r\n     </g>\r\n     <g id=\"text_3\">\r\n      <!-- 20 -->\r\n      <defs>\r\n       <path d=\"M 19.1875 8.296875 \r\nL 53.609375 8.296875 \r\nL 53.609375 0 \r\nL 7.328125 0 \r\nL 7.328125 8.296875 \r\nQ 12.9375 14.109375 22.625 23.890625 \r\nQ 32.328125 33.6875 34.8125 36.53125 \r\nQ 39.546875 41.84375 41.421875 45.53125 \r\nQ 43.3125 49.21875 43.3125 52.78125 \r\nQ 43.3125 58.59375 39.234375 62.25 \r\nQ 35.15625 65.921875 28.609375 65.921875 \r\nQ 23.96875 65.921875 18.8125 64.3125 \r\nQ 13.671875 62.703125 7.8125 59.421875 \r\nL 7.8125 69.390625 \r\nQ 13.765625 71.78125 18.9375 73 \r\nQ 24.125 74.21875 28.421875 74.21875 \r\nQ 39.75 74.21875 46.484375 68.546875 \r\nQ 53.21875 62.890625 53.21875 53.421875 \r\nQ 53.21875 48.921875 51.53125 44.890625 \r\nQ 49.859375 40.875 45.40625 35.40625 \r\nQ 44.1875 33.984375 37.640625 27.21875 \r\nQ 31.109375 20.453125 19.1875 8.296875 \r\nz\r\n\" id=\"DejaVuSans-50\"/>\r\n      </defs>\r\n      <g transform=\"translate(7.2 89.071454)scale(0.1 -0.1)\">\r\n       <use xlink:href=\"#DejaVuSans-50\"/>\r\n       <use x=\"63.623047\" xlink:href=\"#DejaVuSans-48\"/>\r\n      </g>\r\n     </g>\r\n    </g>\r\n    <g id=\"ytick_4\">\r\n     <g id=\"line2d_9\">\r\n      <g>\r\n       <use style=\"stroke:#000000;stroke-width:0.8;\" x=\"26.925\" xlink:href=\"#m448857cec0\" y=\"59.653926\"/>\r\n      </g>\r\n     </g>\r\n     <g id=\"text_4\">\r\n      <!-- 30 -->\r\n      <defs>\r\n       <path d=\"M 40.578125 39.3125 \r\nQ 47.65625 37.796875 51.625 33 \r\nQ 55.609375 28.21875 55.609375 21.1875 \r\nQ 55.609375 10.40625 48.1875 4.484375 \r\nQ 40.765625 -1.421875 27.09375 -1.421875 \r\nQ 22.515625 -1.421875 17.65625 -0.515625 \r\nQ 12.796875 0.390625 7.625 2.203125 \r\nL 7.625 11.71875 \r\nQ 11.71875 9.328125 16.59375 8.109375 \r\nQ 21.484375 6.890625 26.8125 6.890625 \r\nQ 36.078125 6.890625 40.9375 10.546875 \r\nQ 45.796875 14.203125 45.796875 21.1875 \r\nQ 45.796875 27.640625 41.28125 31.265625 \r\nQ 36.765625 34.90625 28.71875 34.90625 \r\nL 20.21875 34.90625 \r\nL 20.21875 43.015625 \r\nL 29.109375 43.015625 \r\nQ 36.375 43.015625 40.234375 45.921875 \r\nQ 44.09375 48.828125 44.09375 54.296875 \r\nQ 44.09375 59.90625 40.109375 62.90625 \r\nQ 36.140625 65.921875 28.71875 65.921875 \r\nQ 24.65625 65.921875 20.015625 65.03125 \r\nQ 15.375 64.15625 9.8125 62.3125 \r\nL 9.8125 71.09375 \r\nQ 15.4375 72.65625 20.34375 73.4375 \r\nQ 25.25 74.21875 29.59375 74.21875 \r\nQ 40.828125 74.21875 47.359375 69.109375 \r\nQ 53.90625 64.015625 53.90625 55.328125 \r\nQ 53.90625 49.265625 50.4375 45.09375 \r\nQ 46.96875 40.921875 40.578125 39.3125 \r\nz\r\n\" id=\"DejaVuSans-51\"/>\r\n      </defs>\r\n      <g transform=\"translate(7.2 63.453145)scale(0.1 -0.1)\">\r\n       <use xlink:href=\"#DejaVuSans-51\"/>\r\n       <use x=\"63.623047\" xlink:href=\"#DejaVuSans-48\"/>\r\n      </g>\r\n     </g>\r\n    </g>\r\n    <g id=\"ytick_5\">\r\n     <g id=\"line2d_10\">\r\n      <g>\r\n       <use style=\"stroke:#000000;stroke-width:0.8;\" x=\"26.925\" xlink:href=\"#m448857cec0\" y=\"34.035617\"/>\r\n      </g>\r\n     </g>\r\n     <g id=\"text_5\">\r\n      <!-- 40 -->\r\n      <defs>\r\n       <path d=\"M 37.796875 64.3125 \r\nL 12.890625 25.390625 \r\nL 37.796875 25.390625 \r\nz\r\nM 35.203125 72.90625 \r\nL 47.609375 72.90625 \r\nL 47.609375 25.390625 \r\nL 58.015625 25.390625 \r\nL 58.015625 17.1875 \r\nL 47.609375 17.1875 \r\nL 47.609375 0 \r\nL 37.796875 0 \r\nL 37.796875 17.1875 \r\nL 4.890625 17.1875 \r\nL 4.890625 26.703125 \r\nz\r\n\" id=\"DejaVuSans-52\"/>\r\n      </defs>\r\n      <g transform=\"translate(7.2 37.834836)scale(0.1 -0.1)\">\r\n       <use xlink:href=\"#DejaVuSans-52\"/>\r\n       <use x=\"63.623047\" xlink:href=\"#DejaVuSans-48\"/>\r\n      </g>\r\n     </g>\r\n    </g>\r\n   </g>\r\n   <g id=\"patch_23\">\r\n    <path d=\"M 26.925 136.508854 \r\nL 26.925 20.842187 \r\n\" style=\"fill:none;stroke:#000000;stroke-linecap:square;stroke-linejoin:miter;stroke-width:0.8;\"/>\r\n   </g>\r\n   <g id=\"patch_24\">\r\n    <path d=\"M 26.925 136.508854 \r\nL 255.045127 136.508854 \r\n\" style=\"fill:none;stroke:#000000;stroke-linecap:square;stroke-linejoin:miter;stroke-width:0.8;\"/>\r\n   </g>\r\n   <g id=\"text_6\">\r\n    <!-- Pclass = 1 | Survived = 0 -->\r\n    <defs>\r\n     <path d=\"M 19.671875 64.796875 \r\nL 19.671875 37.40625 \r\nL 32.078125 37.40625 \r\nQ 38.96875 37.40625 42.71875 40.96875 \r\nQ 46.484375 44.53125 46.484375 51.125 \r\nQ 46.484375 57.671875 42.71875 61.234375 \r\nQ 38.96875 64.796875 32.078125 64.796875 \r\nz\r\nM 9.8125 72.90625 \r\nL 32.078125 72.90625 \r\nQ 44.34375 72.90625 50.609375 67.359375 \r\nQ 56.890625 61.8125 56.890625 51.125 \r\nQ 56.890625 40.328125 50.609375 34.8125 \r\nQ 44.34375 29.296875 32.078125 29.296875 \r\nL 19.671875 29.296875 \r\nL 19.671875 0 \r\nL 9.8125 0 \r\nz\r\n\" id=\"DejaVuSans-80\"/>\r\n     <path d=\"M 48.78125 52.59375 \r\nL 48.78125 44.1875 \r\nQ 44.96875 46.296875 41.140625 47.34375 \r\nQ 37.3125 48.390625 33.40625 48.390625 \r\nQ 24.65625 48.390625 19.8125 42.84375 \r\nQ 14.984375 37.3125 14.984375 27.296875 \r\nQ 14.984375 17.28125 19.8125 11.734375 \r\nQ 24.65625 6.203125 33.40625 6.203125 \r\nQ 37.3125 6.203125 41.140625 7.25 \r\nQ 44.96875 8.296875 48.78125 10.40625 \r\nL 48.78125 2.09375 \r\nQ 45.015625 0.34375 40.984375 -0.53125 \r\nQ 36.96875 -1.421875 32.421875 -1.421875 \r\nQ 20.0625 -1.421875 12.78125 6.34375 \r\nQ 5.515625 14.109375 5.515625 27.296875 \r\nQ 5.515625 40.671875 12.859375 48.328125 \r\nQ 20.21875 56 33.015625 56 \r\nQ 37.15625 56 41.109375 55.140625 \r\nQ 45.0625 54.296875 48.78125 52.59375 \r\nz\r\n\" id=\"DejaVuSans-99\"/>\r\n     <path d=\"M 9.421875 75.984375 \r\nL 18.40625 75.984375 \r\nL 18.40625 0 \r\nL 9.421875 0 \r\nz\r\n\" id=\"DejaVuSans-108\"/>\r\n     <path d=\"M 34.28125 27.484375 \r\nQ 23.390625 27.484375 19.1875 25 \r\nQ 14.984375 22.515625 14.984375 16.5 \r\nQ 14.984375 11.71875 18.140625 8.90625 \r\nQ 21.296875 6.109375 26.703125 6.109375 \r\nQ 34.1875 6.109375 38.703125 11.40625 \r\nQ 43.21875 16.703125 43.21875 25.484375 \r\nL 43.21875 27.484375 \r\nz\r\nM 52.203125 31.203125 \r\nL 52.203125 0 \r\nL 43.21875 0 \r\nL 43.21875 8.296875 \r\nQ 40.140625 3.328125 35.546875 0.953125 \r\nQ 30.953125 -1.421875 24.3125 -1.421875 \r\nQ 15.921875 -1.421875 10.953125 3.296875 \r\nQ 6 8.015625 6 15.921875 \r\nQ 6 25.140625 12.171875 29.828125 \r\nQ 18.359375 34.515625 30.609375 34.515625 \r\nL 43.21875 34.515625 \r\nL 43.21875 35.40625 \r\nQ 43.21875 41.609375 39.140625 45 \r\nQ 35.0625 48.390625 27.6875 48.390625 \r\nQ 23 48.390625 18.546875 47.265625 \r\nQ 14.109375 46.140625 10.015625 43.890625 \r\nL 10.015625 52.203125 \r\nQ 14.9375 54.109375 19.578125 55.046875 \r\nQ 24.21875 56 28.609375 56 \r\nQ 40.484375 56 46.34375 49.84375 \r\nQ 52.203125 43.703125 52.203125 31.203125 \r\nz\r\n\" id=\"DejaVuSans-97\"/>\r\n     <path d=\"M 44.28125 53.078125 \r\nL 44.28125 44.578125 \r\nQ 40.484375 46.53125 36.375 47.5 \r\nQ 32.28125 48.484375 27.875 48.484375 \r\nQ 21.1875 48.484375 17.84375 46.4375 \r\nQ 14.5 44.390625 14.5 40.28125 \r\nQ 14.5 37.15625 16.890625 35.375 \r\nQ 19.28125 33.59375 26.515625 31.984375 \r\nL 29.59375 31.296875 \r\nQ 39.15625 29.25 43.1875 25.515625 \r\nQ 47.21875 21.78125 47.21875 15.09375 \r\nQ 47.21875 7.46875 41.1875 3.015625 \r\nQ 35.15625 -1.421875 24.609375 -1.421875 \r\nQ 20.21875 -1.421875 15.453125 -0.5625 \r\nQ 10.6875 0.296875 5.421875 2 \r\nL 5.421875 11.28125 \r\nQ 10.40625 8.6875 15.234375 7.390625 \r\nQ 20.0625 6.109375 24.8125 6.109375 \r\nQ 31.15625 6.109375 34.5625 8.28125 \r\nQ 37.984375 10.453125 37.984375 14.40625 \r\nQ 37.984375 18.0625 35.515625 20.015625 \r\nQ 33.0625 21.96875 24.703125 23.78125 \r\nL 21.578125 24.515625 \r\nQ 13.234375 26.265625 9.515625 29.90625 \r\nQ 5.8125 33.546875 5.8125 39.890625 \r\nQ 5.8125 47.609375 11.28125 51.796875 \r\nQ 16.75 56 26.8125 56 \r\nQ 31.78125 56 36.171875 55.265625 \r\nQ 40.578125 54.546875 44.28125 53.078125 \r\nz\r\n\" id=\"DejaVuSans-115\"/>\r\n     <path id=\"DejaVuSans-32\"/>\r\n     <path d=\"M 10.59375 45.40625 \r\nL 73.1875 45.40625 \r\nL 73.1875 37.203125 \r\nL 10.59375 37.203125 \r\nz\r\nM 10.59375 25.484375 \r\nL 73.1875 25.484375 \r\nL 73.1875 17.1875 \r\nL 10.59375 17.1875 \r\nz\r\n\" id=\"DejaVuSans-61\"/>\r\n     <path d=\"M 21 76.421875 \r\nL 21 -23.578125 \r\nL 12.703125 -23.578125 \r\nL 12.703125 76.421875 \r\nz\r\n\" id=\"DejaVuSans-124\"/>\r\n     <path d=\"M 53.515625 70.515625 \r\nL 53.515625 60.890625 \r\nQ 47.90625 63.578125 42.921875 64.890625 \r\nQ 37.9375 66.21875 33.296875 66.21875 \r\nQ 25.25 66.21875 20.875 63.09375 \r\nQ 16.5 59.96875 16.5 54.203125 \r\nQ 16.5 49.359375 19.40625 46.890625 \r\nQ 22.3125 44.4375 30.421875 42.921875 \r\nL 36.375 41.703125 \r\nQ 47.40625 39.59375 52.65625 34.296875 \r\nQ 57.90625 29 57.90625 20.125 \r\nQ 57.90625 9.515625 50.796875 4.046875 \r\nQ 43.703125 -1.421875 29.984375 -1.421875 \r\nQ 24.8125 -1.421875 18.96875 -0.25 \r\nQ 13.140625 0.921875 6.890625 3.21875 \r\nL 6.890625 13.375 \r\nQ 12.890625 10.015625 18.65625 8.296875 \r\nQ 24.421875 6.59375 29.984375 6.59375 \r\nQ 38.421875 6.59375 43.015625 9.90625 \r\nQ 47.609375 13.234375 47.609375 19.390625 \r\nQ 47.609375 24.75 44.3125 27.78125 \r\nQ 41.015625 30.8125 33.5 32.328125 \r\nL 27.484375 33.5 \r\nQ 16.453125 35.6875 11.515625 40.375 \r\nQ 6.59375 45.0625 6.59375 53.421875 \r\nQ 6.59375 63.09375 13.40625 68.65625 \r\nQ 20.21875 74.21875 32.171875 74.21875 \r\nQ 37.3125 74.21875 42.625 73.28125 \r\nQ 47.953125 72.359375 53.515625 70.515625 \r\nz\r\n\" id=\"DejaVuSans-83\"/>\r\n     <path d=\"M 8.5 21.578125 \r\nL 8.5 54.6875 \r\nL 17.484375 54.6875 \r\nL 17.484375 21.921875 \r\nQ 17.484375 14.15625 20.5 10.265625 \r\nQ 23.53125 6.390625 29.59375 6.390625 \r\nQ 36.859375 6.390625 41.078125 11.03125 \r\nQ 45.3125 15.671875 45.3125 23.6875 \r\nL 45.3125 54.6875 \r\nL 54.296875 54.6875 \r\nL 54.296875 0 \r\nL 45.3125 0 \r\nL 45.3125 8.40625 \r\nQ 42.046875 3.421875 37.71875 1 \r\nQ 33.40625 -1.421875 27.6875 -1.421875 \r\nQ 18.265625 -1.421875 13.375 4.4375 \r\nQ 8.5 10.296875 8.5 21.578125 \r\nz\r\nM 31.109375 56 \r\nz\r\n\" id=\"DejaVuSans-117\"/>\r\n     <path d=\"M 41.109375 46.296875 \r\nQ 39.59375 47.171875 37.8125 47.578125 \r\nQ 36.03125 48 33.890625 48 \r\nQ 26.265625 48 22.1875 43.046875 \r\nQ 18.109375 38.09375 18.109375 28.8125 \r\nL 18.109375 0 \r\nL 9.078125 0 \r\nL 9.078125 54.6875 \r\nL 18.109375 54.6875 \r\nL 18.109375 46.1875 \r\nQ 20.953125 51.171875 25.484375 53.578125 \r\nQ 30.03125 56 36.53125 56 \r\nQ 37.453125 56 38.578125 55.875 \r\nQ 39.703125 55.765625 41.0625 55.515625 \r\nz\r\n\" id=\"DejaVuSans-114\"/>\r\n     <path d=\"M 2.984375 54.6875 \r\nL 12.5 54.6875 \r\nL 29.59375 8.796875 \r\nL 46.6875 54.6875 \r\nL 56.203125 54.6875 \r\nL 35.6875 0 \r\nL 23.484375 0 \r\nz\r\n\" id=\"DejaVuSans-118\"/>\r\n     <path d=\"M 9.421875 54.6875 \r\nL 18.40625 54.6875 \r\nL 18.40625 0 \r\nL 9.421875 0 \r\nz\r\nM 9.421875 75.984375 \r\nL 18.40625 75.984375 \r\nL 18.40625 64.59375 \r\nL 9.421875 64.59375 \r\nz\r\n\" id=\"DejaVuSans-105\"/>\r\n     <path d=\"M 56.203125 29.59375 \r\nL 56.203125 25.203125 \r\nL 14.890625 25.203125 \r\nQ 15.484375 15.921875 20.484375 11.0625 \r\nQ 25.484375 6.203125 34.421875 6.203125 \r\nQ 39.59375 6.203125 44.453125 7.46875 \r\nQ 49.3125 8.734375 54.109375 11.28125 \r\nL 54.109375 2.78125 \r\nQ 49.265625 0.734375 44.1875 -0.34375 \r\nQ 39.109375 -1.421875 33.890625 -1.421875 \r\nQ 20.796875 -1.421875 13.15625 6.1875 \r\nQ 5.515625 13.8125 5.515625 26.8125 \r\nQ 5.515625 40.234375 12.765625 48.109375 \r\nQ 20.015625 56 32.328125 56 \r\nQ 43.359375 56 49.78125 48.890625 \r\nQ 56.203125 41.796875 56.203125 29.59375 \r\nz\r\nM 47.21875 32.234375 \r\nQ 47.125 39.59375 43.09375 43.984375 \r\nQ 39.0625 48.390625 32.421875 48.390625 \r\nQ 24.90625 48.390625 20.390625 44.140625 \r\nQ 15.875 39.890625 15.1875 32.171875 \r\nz\r\n\" id=\"DejaVuSans-101\"/>\r\n     <path d=\"M 45.40625 46.390625 \r\nL 45.40625 75.984375 \r\nL 54.390625 75.984375 \r\nL 54.390625 0 \r\nL 45.40625 0 \r\nL 45.40625 8.203125 \r\nQ 42.578125 3.328125 38.25 0.953125 \r\nQ 33.9375 -1.421875 27.875 -1.421875 \r\nQ 17.96875 -1.421875 11.734375 6.484375 \r\nQ 5.515625 14.40625 5.515625 27.296875 \r\nQ 5.515625 40.1875 11.734375 48.09375 \r\nQ 17.96875 56 27.875 56 \r\nQ 33.9375 56 38.25 53.625 \r\nQ 42.578125 51.265625 45.40625 46.390625 \r\nz\r\nM 14.796875 27.296875 \r\nQ 14.796875 17.390625 18.875 11.75 \r\nQ 22.953125 6.109375 30.078125 6.109375 \r\nQ 37.203125 6.109375 41.296875 11.75 \r\nQ 45.40625 17.390625 45.40625 27.296875 \r\nQ 45.40625 37.203125 41.296875 42.84375 \r\nQ 37.203125 48.484375 30.078125 48.484375 \r\nQ 22.953125 48.484375 18.875 42.84375 \r\nQ 14.796875 37.203125 14.796875 27.296875 \r\nz\r\n\" id=\"DejaVuSans-100\"/>\r\n    </defs>\r\n    <g transform=\"translate(77.640532 14.842187)scale(0.1 -0.1)\">\r\n     <use xlink:href=\"#DejaVuSans-80\"/>\r\n     <use x=\"60.302734\" xlink:href=\"#DejaVuSans-99\"/>\r\n     <use x=\"115.283203\" xlink:href=\"#DejaVuSans-108\"/>\r\n     <use x=\"143.066406\" xlink:href=\"#DejaVuSans-97\"/>\r\n     <use x=\"204.345703\" xlink:href=\"#DejaVuSans-115\"/>\r\n     <use x=\"256.445312\" xlink:href=\"#DejaVuSans-115\"/>\r\n     <use x=\"308.544922\" xlink:href=\"#DejaVuSans-32\"/>\r\n     <use x=\"340.332031\" xlink:href=\"#DejaVuSans-61\"/>\r\n     <use x=\"424.121094\" xlink:href=\"#DejaVuSans-32\"/>\r\n     <use x=\"455.908203\" xlink:href=\"#DejaVuSans-49\"/>\r\n     <use x=\"519.53125\" xlink:href=\"#DejaVuSans-32\"/>\r\n     <use x=\"551.318359\" xlink:href=\"#DejaVuSans-124\"/>\r\n     <use x=\"585.009766\" xlink:href=\"#DejaVuSans-32\"/>\r\n     <use x=\"616.796875\" xlink:href=\"#DejaVuSans-83\"/>\r\n     <use x=\"680.273438\" xlink:href=\"#DejaVuSans-117\"/>\r\n     <use x=\"743.652344\" xlink:href=\"#DejaVuSans-114\"/>\r\n     <use x=\"784.765625\" xlink:href=\"#DejaVuSans-118\"/>\r\n     <use x=\"843.945312\" xlink:href=\"#DejaVuSans-105\"/>\r\n     <use x=\"871.728516\" xlink:href=\"#DejaVuSans-118\"/>\r\n     <use x=\"930.908203\" xlink:href=\"#DejaVuSans-101\"/>\r\n     <use x=\"992.431641\" xlink:href=\"#DejaVuSans-100\"/>\r\n     <use x=\"1055.908203\" xlink:href=\"#DejaVuSans-32\"/>\r\n     <use x=\"1087.695312\" xlink:href=\"#DejaVuSans-61\"/>\r\n     <use x=\"1171.484375\" xlink:href=\"#DejaVuSans-32\"/>\r\n     <use x=\"1203.271484\" xlink:href=\"#DejaVuSans-48\"/>\r\n    </g>\r\n   </g>\r\n  </g>\r\n  <g id=\"axes_2\">\r\n   <g id=\"patch_25\">\r\n    <path d=\"M 269.503908 136.508854 \r\nL 497.624035 136.508854 \r\nL 497.624035 20.842187 \r\nL 269.503908 20.842187 \r\nz\r\n\" style=\"fill:#ffffff;\"/>\r\n   </g>\r\n   <g id=\"patch_26\">\r\n    <path clip-path=\"url(#pa92b1c1b99)\" d=\"M 281.175982 136.508854 \r\nL 291.47993 136.508854 \r\nL 291.47993 131.385192 \r\nL 281.175982 131.385192 \r\nz\r\n\" style=\"fill:#1f77b4;opacity:0.5;\"/>\r\n   </g>\r\n   <g id=\"patch_27\">\r\n    <path clip-path=\"url(#pa92b1c1b99)\" d=\"M 291.47993 136.508854 \r\nL 301.783878 136.508854 \r\nL 301.783878 136.508854 \r\nL 291.47993 136.508854 \r\nz\r\n\" style=\"fill:#1f77b4;opacity:0.5;\"/>\r\n   </g>\r\n   <g id=\"patch_28\">\r\n    <path clip-path=\"url(#pa92b1c1b99)\" d=\"M 301.783878 136.508854 \r\nL 312.087825 136.508854 \r\nL 312.087825 133.947023 \r\nL 301.783878 133.947023 \r\nz\r\n\" style=\"fill:#1f77b4;opacity:0.5;\"/>\r\n   </g>\r\n   <g id=\"patch_29\">\r\n    <path clip-path=\"url(#pa92b1c1b99)\" d=\"M 312.087825 136.508854 \r\nL 322.391773 136.508854 \r\nL 322.391773 123.699699 \r\nL 312.087825 123.699699 \r\nz\r\n\" style=\"fill:#1f77b4;opacity:0.5;\"/>\r\n   </g>\r\n   <g id=\"patch_30\">\r\n    <path clip-path=\"url(#pa92b1c1b99)\" d=\"M 322.391773 136.508854 \r\nL 332.695721 136.508854 \r\nL 332.695721 113.452376 \r\nL 322.391773 113.452376 \r\nz\r\n\" style=\"fill:#1f77b4;opacity:0.5;\"/>\r\n   </g>\r\n   <g id=\"patch_31\">\r\n    <path clip-path=\"url(#pa92b1c1b99)\" d=\"M 332.695721 136.508854 \r\nL 342.999669 136.508854 \r\nL 342.999669 100.643221 \r\nL 332.695721 100.643221 \r\nz\r\n\" style=\"fill:#1f77b4;opacity:0.5;\"/>\r\n   </g>\r\n   <g id=\"patch_32\">\r\n    <path clip-path=\"url(#pa92b1c1b99)\" d=\"M 342.999669 136.508854 \r\nL 353.303617 136.508854 \r\nL 353.303617 113.452376 \r\nL 342.999669 113.452376 \r\nz\r\n\" style=\"fill:#1f77b4;opacity:0.5;\"/>\r\n   </g>\r\n   <g id=\"patch_33\">\r\n    <path clip-path=\"url(#pa92b1c1b99)\" d=\"M 353.303617 136.508854 \r\nL 363.607564 136.508854 \r\nL 363.607564 108.328714 \r\nL 353.303617 108.328714 \r\nz\r\n\" style=\"fill:#1f77b4;opacity:0.5;\"/>\r\n   </g>\r\n   <g id=\"patch_34\">\r\n    <path clip-path=\"url(#pa92b1c1b99)\" d=\"M 363.607564 136.508854 \r\nL 373.911512 136.508854 \r\nL 373.911512 85.272235 \r\nL 363.607564 85.272235 \r\nz\r\n\" style=\"fill:#1f77b4;opacity:0.5;\"/>\r\n   </g>\r\n   <g id=\"patch_35\">\r\n    <path clip-path=\"url(#pa92b1c1b99)\" d=\"M 373.911512 136.508854 \r\nL 384.21546 136.508854 \r\nL 384.21546 105.766883 \r\nL 373.911512 105.766883 \r\nz\r\n\" style=\"fill:#1f77b4;opacity:0.5;\"/>\r\n   </g>\r\n   <g id=\"patch_36\">\r\n    <path clip-path=\"url(#pa92b1c1b99)\" d=\"M 384.21546 136.508854 \r\nL 394.519408 136.508854 \r\nL 394.519408 118.576038 \r\nL 384.21546 118.576038 \r\nz\r\n\" style=\"fill:#1f77b4;opacity:0.5;\"/>\r\n   </g>\r\n   <g id=\"patch_37\">\r\n    <path clip-path=\"url(#pa92b1c1b99)\" d=\"M 394.519408 136.508854 \r\nL 404.823356 136.508854 \r\nL 404.823356 116.014207 \r\nL 394.519408 116.014207 \r\nz\r\n\" style=\"fill:#1f77b4;opacity:0.5;\"/>\r\n   </g>\r\n   <g id=\"patch_38\">\r\n    <path clip-path=\"url(#pa92b1c1b99)\" d=\"M 404.823356 136.508854 \r\nL 415.127303 136.508854 \r\nL 415.127303 108.328714 \r\nL 404.823356 108.328714 \r\nz\r\n\" style=\"fill:#1f77b4;opacity:0.5;\"/>\r\n   </g>\r\n   <g id=\"patch_39\">\r\n    <path clip-path=\"url(#pa92b1c1b99)\" d=\"M 415.127303 136.508854 \r\nL 425.431251 136.508854 \r\nL 425.431251 123.699699 \r\nL 415.127303 123.699699 \r\nz\r\n\" style=\"fill:#1f77b4;opacity:0.5;\"/>\r\n   </g>\r\n   <g id=\"patch_40\">\r\n    <path clip-path=\"url(#pa92b1c1b99)\" d=\"M 425.431251 136.508854 \r\nL 435.735199 136.508854 \r\nL 435.735199 123.699699 \r\nL 425.431251 123.699699 \r\nz\r\n\" style=\"fill:#1f77b4;opacity:0.5;\"/>\r\n   </g>\r\n   <g id=\"patch_41\">\r\n    <path clip-path=\"url(#pa92b1c1b99)\" d=\"M 435.735199 136.508854 \r\nL 446.039147 136.508854 \r\nL 446.039147 131.385192 \r\nL 435.735199 131.385192 \r\nz\r\n\" style=\"fill:#1f77b4;opacity:0.5;\"/>\r\n   </g>\r\n   <g id=\"patch_42\">\r\n    <path clip-path=\"url(#pa92b1c1b99)\" d=\"M 446.039147 136.508854 \r\nL 456.343095 136.508854 \r\nL 456.343095 136.508854 \r\nL 446.039147 136.508854 \r\nz\r\n\" style=\"fill:#1f77b4;opacity:0.5;\"/>\r\n   </g>\r\n   <g id=\"patch_43\">\r\n    <path clip-path=\"url(#pa92b1c1b99)\" d=\"M 456.343095 136.508854 \r\nL 466.647042 136.508854 \r\nL 466.647042 136.508854 \r\nL 456.343095 136.508854 \r\nz\r\n\" style=\"fill:#1f77b4;opacity:0.5;\"/>\r\n   </g>\r\n   <g id=\"patch_44\">\r\n    <path clip-path=\"url(#pa92b1c1b99)\" d=\"M 466.647042 136.508854 \r\nL 476.95099 136.508854 \r\nL 476.95099 136.508854 \r\nL 466.647042 136.508854 \r\nz\r\n\" style=\"fill:#1f77b4;opacity:0.5;\"/>\r\n   </g>\r\n   <g id=\"patch_45\">\r\n    <path clip-path=\"url(#pa92b1c1b99)\" d=\"M 476.95099 136.508854 \r\nL 487.254938 136.508854 \r\nL 487.254938 133.947023 \r\nL 476.95099 133.947023 \r\nz\r\n\" style=\"fill:#1f77b4;opacity:0.5;\"/>\r\n   </g>\r\n   <g id=\"matplotlib.axis_3\">\r\n    <g id=\"xtick_6\">\r\n     <g id=\"line2d_11\">\r\n      <g>\r\n       <use style=\"stroke:#000000;stroke-width:0.8;\" x=\"278.778503\" xlink:href=\"#m89cbf8f76c\" y=\"136.508854\"/>\r\n      </g>\r\n     </g>\r\n    </g>\r\n    <g id=\"xtick_7\">\r\n     <g id=\"line2d_12\">\r\n      <g>\r\n       <use style=\"stroke:#000000;stroke-width:0.8;\" x=\"330.897612\" xlink:href=\"#m89cbf8f76c\" y=\"136.508854\"/>\r\n      </g>\r\n     </g>\r\n    </g>\r\n    <g id=\"xtick_8\">\r\n     <g id=\"line2d_13\">\r\n      <g>\r\n       <use style=\"stroke:#000000;stroke-width:0.8;\" x=\"383.01672\" xlink:href=\"#m89cbf8f76c\" y=\"136.508854\"/>\r\n      </g>\r\n     </g>\r\n    </g>\r\n    <g id=\"xtick_9\">\r\n     <g id=\"line2d_14\">\r\n      <g>\r\n       <use style=\"stroke:#000000;stroke-width:0.8;\" x=\"435.135829\" xlink:href=\"#m89cbf8f76c\" y=\"136.508854\"/>\r\n      </g>\r\n     </g>\r\n    </g>\r\n    <g id=\"xtick_10\">\r\n     <g id=\"line2d_15\">\r\n      <g>\r\n       <use style=\"stroke:#000000;stroke-width:0.8;\" x=\"487.254938\" xlink:href=\"#m89cbf8f76c\" y=\"136.508854\"/>\r\n      </g>\r\n     </g>\r\n    </g>\r\n   </g>\r\n   <g id=\"matplotlib.axis_4\">\r\n    <g id=\"ytick_6\">\r\n     <g id=\"line2d_16\">\r\n      <g>\r\n       <use style=\"stroke:#000000;stroke-width:0.8;\" x=\"269.503908\" xlink:href=\"#m448857cec0\" y=\"136.508854\"/>\r\n      </g>\r\n     </g>\r\n    </g>\r\n    <g id=\"ytick_7\">\r\n     <g id=\"line2d_17\">\r\n      <g>\r\n       <use style=\"stroke:#000000;stroke-width:0.8;\" x=\"269.503908\" xlink:href=\"#m448857cec0\" y=\"110.890545\"/>\r\n      </g>\r\n     </g>\r\n    </g>\r\n    <g id=\"ytick_8\">\r\n     <g id=\"line2d_18\">\r\n      <g>\r\n       <use style=\"stroke:#000000;stroke-width:0.8;\" x=\"269.503908\" xlink:href=\"#m448857cec0\" y=\"85.272235\"/>\r\n      </g>\r\n     </g>\r\n    </g>\r\n    <g id=\"ytick_9\">\r\n     <g id=\"line2d_19\">\r\n      <g>\r\n       <use style=\"stroke:#000000;stroke-width:0.8;\" x=\"269.503908\" xlink:href=\"#m448857cec0\" y=\"59.653926\"/>\r\n      </g>\r\n     </g>\r\n    </g>\r\n    <g id=\"ytick_10\">\r\n     <g id=\"line2d_20\">\r\n      <g>\r\n       <use style=\"stroke:#000000;stroke-width:0.8;\" x=\"269.503908\" xlink:href=\"#m448857cec0\" y=\"34.035617\"/>\r\n      </g>\r\n     </g>\r\n    </g>\r\n   </g>\r\n   <g id=\"patch_46\">\r\n    <path d=\"M 269.503908 136.508854 \r\nL 269.503908 20.842187 \r\n\" style=\"fill:none;stroke:#000000;stroke-linecap:square;stroke-linejoin:miter;stroke-width:0.8;\"/>\r\n   </g>\r\n   <g id=\"patch_47\">\r\n    <path d=\"M 269.503908 136.508854 \r\nL 497.624035 136.508854 \r\n\" style=\"fill:none;stroke:#000000;stroke-linecap:square;stroke-linejoin:miter;stroke-width:0.8;\"/>\r\n   </g>\r\n   <g id=\"text_7\">\r\n    <!-- Pclass = 1 | Survived = 1 -->\r\n    <g transform=\"translate(320.21944 14.842187)scale(0.1 -0.1)\">\r\n     <use xlink:href=\"#DejaVuSans-80\"/>\r\n     <use x=\"60.302734\" xlink:href=\"#DejaVuSans-99\"/>\r\n     <use x=\"115.283203\" xlink:href=\"#DejaVuSans-108\"/>\r\n     <use x=\"143.066406\" xlink:href=\"#DejaVuSans-97\"/>\r\n     <use x=\"204.345703\" xlink:href=\"#DejaVuSans-115\"/>\r\n     <use x=\"256.445312\" xlink:href=\"#DejaVuSans-115\"/>\r\n     <use x=\"308.544922\" xlink:href=\"#DejaVuSans-32\"/>\r\n     <use x=\"340.332031\" xlink:href=\"#DejaVuSans-61\"/>\r\n     <use x=\"424.121094\" xlink:href=\"#DejaVuSans-32\"/>\r\n     <use x=\"455.908203\" xlink:href=\"#DejaVuSans-49\"/>\r\n     <use x=\"519.53125\" xlink:href=\"#DejaVuSans-32\"/>\r\n     <use x=\"551.318359\" xlink:href=\"#DejaVuSans-124\"/>\r\n     <use x=\"585.009766\" xlink:href=\"#DejaVuSans-32\"/>\r\n     <use x=\"616.796875\" xlink:href=\"#DejaVuSans-83\"/>\r\n     <use x=\"680.273438\" xlink:href=\"#DejaVuSans-117\"/>\r\n     <use x=\"743.652344\" xlink:href=\"#DejaVuSans-114\"/>\r\n     <use x=\"784.765625\" xlink:href=\"#DejaVuSans-118\"/>\r\n     <use x=\"843.945312\" xlink:href=\"#DejaVuSans-105\"/>\r\n     <use x=\"871.728516\" xlink:href=\"#DejaVuSans-118\"/>\r\n     <use x=\"930.908203\" xlink:href=\"#DejaVuSans-101\"/>\r\n     <use x=\"992.431641\" xlink:href=\"#DejaVuSans-100\"/>\r\n     <use x=\"1055.908203\" xlink:href=\"#DejaVuSans-32\"/>\r\n     <use x=\"1087.695312\" xlink:href=\"#DejaVuSans-61\"/>\r\n     <use x=\"1171.484375\" xlink:href=\"#DejaVuSans-32\"/>\r\n     <use x=\"1203.271484\" xlink:href=\"#DejaVuSans-49\"/>\r\n    </g>\r\n   </g>\r\n  </g>\r\n  <g id=\"axes_3\">\r\n   <g id=\"patch_48\">\r\n    <path d=\"M 26.925 282.975521 \r\nL 255.045127 282.975521 \r\nL 255.045127 167.308854 \r\nL 26.925 167.308854 \r\nz\r\n\" style=\"fill:#ffffff;\"/>\r\n   </g>\r\n   <g id=\"patch_49\">\r\n    <path clip-path=\"url(#pd46fe90a4d)\" d=\"M 77.894882 282.975521 \r\nL 84.930962 282.975521 \r\nL 84.930962 267.604535 \r\nL 77.894882 267.604535 \r\nz\r\n\" style=\"fill:#1f77b4;opacity:0.5;\"/>\r\n   </g>\r\n   <g id=\"patch_50\">\r\n    <path clip-path=\"url(#pd46fe90a4d)\" d=\"M 84.930962 282.975521 \r\nL 91.967042 282.975521 \r\nL 91.967042 267.604535 \r\nL 84.930962 267.604535 \r\nz\r\n\" style=\"fill:#1f77b4;opacity:0.5;\"/>\r\n   </g>\r\n   <g id=\"patch_51\">\r\n    <path clip-path=\"url(#pd46fe90a4d)\" d=\"M 91.967042 282.975521 \r\nL 99.003121 282.975521 \r\nL 99.003121 257.357211 \r\nL 91.967042 257.357211 \r\nz\r\n\" style=\"fill:#1f77b4;opacity:0.5;\"/>\r\n   </g>\r\n   <g id=\"patch_52\">\r\n    <path clip-path=\"url(#pd46fe90a4d)\" d=\"M 99.003121 282.975521 \r\nL 106.039201 282.975521 \r\nL 106.039201 265.042704 \r\nL 99.003121 265.042704 \r\nz\r\n\" style=\"fill:#1f77b4;opacity:0.5;\"/>\r\n   </g>\r\n   <g id=\"patch_53\">\r\n    <path clip-path=\"url(#pd46fe90a4d)\" d=\"M 106.039201 282.975521 \r\nL 113.075281 282.975521 \r\nL 113.075281 254.795381 \r\nL 106.039201 254.795381 \r\nz\r\n\" style=\"fill:#1f77b4;opacity:0.5;\"/>\r\n   </g>\r\n   <g id=\"patch_54\">\r\n    <path clip-path=\"url(#pd46fe90a4d)\" d=\"M 113.075281 282.975521 \r\nL 120.11136 282.975521 \r\nL 120.11136 257.357211 \r\nL 113.075281 257.357211 \r\nz\r\n\" style=\"fill:#1f77b4;opacity:0.5;\"/>\r\n   </g>\r\n   <g id=\"patch_55\">\r\n    <path clip-path=\"url(#pd46fe90a4d)\" d=\"M 120.11136 282.975521 \r\nL 127.14744 282.975521 \r\nL 127.14744 265.042704 \r\nL 120.11136 265.042704 \r\nz\r\n\" style=\"fill:#1f77b4;opacity:0.5;\"/>\r\n   </g>\r\n   <g id=\"patch_56\">\r\n    <path clip-path=\"url(#pd46fe90a4d)\" d=\"M 127.14744 282.975521 \r\nL 134.18352 282.975521 \r\nL 134.18352 262.480873 \r\nL 127.14744 262.480873 \r\nz\r\n\" style=\"fill:#1f77b4;opacity:0.5;\"/>\r\n   </g>\r\n   <g id=\"patch_57\">\r\n    <path clip-path=\"url(#pd46fe90a4d)\" d=\"M 134.18352 282.975521 \r\nL 141.219599 282.975521 \r\nL 141.219599 272.728197 \r\nL 134.18352 272.728197 \r\nz\r\n\" style=\"fill:#1f77b4;opacity:0.5;\"/>\r\n   </g>\r\n   <g id=\"patch_58\">\r\n    <path clip-path=\"url(#pd46fe90a4d)\" d=\"M 141.219599 282.975521 \r\nL 148.255679 282.975521 \r\nL 148.255679 277.851859 \r\nL 141.219599 277.851859 \r\nz\r\n\" style=\"fill:#1f77b4;opacity:0.5;\"/>\r\n   </g>\r\n   <g id=\"patch_59\">\r\n    <path clip-path=\"url(#pd46fe90a4d)\" d=\"M 148.255679 282.975521 \r\nL 155.291759 282.975521 \r\nL 155.291759 275.290028 \r\nL 148.255679 275.290028 \r\nz\r\n\" style=\"fill:#1f77b4;opacity:0.5;\"/>\r\n   </g>\r\n   <g id=\"patch_60\">\r\n    <path clip-path=\"url(#pd46fe90a4d)\" d=\"M 155.291759 282.975521 \r\nL 162.327838 282.975521 \r\nL 162.327838 275.290028 \r\nL 155.291759 275.290028 \r\nz\r\n\" style=\"fill:#1f77b4;opacity:0.5;\"/>\r\n   </g>\r\n   <g id=\"patch_61\">\r\n    <path clip-path=\"url(#pd46fe90a4d)\" d=\"M 162.327838 282.975521 \r\nL 169.363918 282.975521 \r\nL 169.363918 277.851859 \r\nL 162.327838 277.851859 \r\nz\r\n\" style=\"fill:#1f77b4;opacity:0.5;\"/>\r\n   </g>\r\n   <g id=\"patch_62\">\r\n    <path clip-path=\"url(#pd46fe90a4d)\" d=\"M 169.363918 282.975521 \r\nL 176.399998 282.975521 \r\nL 176.399998 277.851859 \r\nL 169.363918 277.851859 \r\nz\r\n\" style=\"fill:#1f77b4;opacity:0.5;\"/>\r\n   </g>\r\n   <g id=\"patch_63\">\r\n    <path clip-path=\"url(#pd46fe90a4d)\" d=\"M 176.399998 282.975521 \r\nL 183.436078 282.975521 \r\nL 183.436078 275.290028 \r\nL 176.399998 275.290028 \r\nz\r\n\" style=\"fill:#1f77b4;opacity:0.5;\"/>\r\n   </g>\r\n   <g id=\"patch_64\">\r\n    <path clip-path=\"url(#pd46fe90a4d)\" d=\"M 183.436078 282.975521 \r\nL 190.472157 282.975521 \r\nL 190.472157 275.290028 \r\nL 183.436078 275.290028 \r\nz\r\n\" style=\"fill:#1f77b4;opacity:0.5;\"/>\r\n   </g>\r\n   <g id=\"patch_65\">\r\n    <path clip-path=\"url(#pd46fe90a4d)\" d=\"M 190.472157 282.975521 \r\nL 197.508237 282.975521 \r\nL 197.508237 280.41369 \r\nL 190.472157 280.41369 \r\nz\r\n\" style=\"fill:#1f77b4;opacity:0.5;\"/>\r\n   </g>\r\n   <g id=\"patch_66\">\r\n    <path clip-path=\"url(#pd46fe90a4d)\" d=\"M 197.508237 282.975521 \r\nL 204.544317 282.975521 \r\nL 204.544317 282.975521 \r\nL 197.508237 282.975521 \r\nz\r\n\" style=\"fill:#1f77b4;opacity:0.5;\"/>\r\n   </g>\r\n   <g id=\"patch_67\">\r\n    <path clip-path=\"url(#pd46fe90a4d)\" d=\"M 204.544317 282.975521 \r\nL 211.580396 282.975521 \r\nL 211.580396 280.41369 \r\nL 204.544317 280.41369 \r\nz\r\n\" style=\"fill:#1f77b4;opacity:0.5;\"/>\r\n   </g>\r\n   <g id=\"patch_68\">\r\n    <path clip-path=\"url(#pd46fe90a4d)\" d=\"M 211.580396 282.975521 \r\nL 218.616476 282.975521 \r\nL 218.616476 280.41369 \r\nL 211.580396 280.41369 \r\nz\r\n\" style=\"fill:#1f77b4;opacity:0.5;\"/>\r\n   </g>\r\n   <g id=\"matplotlib.axis_5\">\r\n    <g id=\"xtick_11\">\r\n     <g id=\"line2d_21\">\r\n      <g>\r\n       <use style=\"stroke:#000000;stroke-width:0.8;\" x=\"36.199595\" xlink:href=\"#m89cbf8f76c\" y=\"282.975521\"/>\r\n      </g>\r\n     </g>\r\n    </g>\r\n    <g id=\"xtick_12\">\r\n     <g id=\"line2d_22\">\r\n      <g>\r\n       <use style=\"stroke:#000000;stroke-width:0.8;\" x=\"88.318704\" xlink:href=\"#m89cbf8f76c\" y=\"282.975521\"/>\r\n      </g>\r\n     </g>\r\n    </g>\r\n    <g id=\"xtick_13\">\r\n     <g id=\"line2d_23\">\r\n      <g>\r\n       <use style=\"stroke:#000000;stroke-width:0.8;\" x=\"140.437813\" xlink:href=\"#m89cbf8f76c\" y=\"282.975521\"/>\r\n      </g>\r\n     </g>\r\n    </g>\r\n    <g id=\"xtick_14\">\r\n     <g id=\"line2d_24\">\r\n      <g>\r\n       <use style=\"stroke:#000000;stroke-width:0.8;\" x=\"192.556922\" xlink:href=\"#m89cbf8f76c\" y=\"282.975521\"/>\r\n      </g>\r\n     </g>\r\n    </g>\r\n    <g id=\"xtick_15\">\r\n     <g id=\"line2d_25\">\r\n      <g>\r\n       <use style=\"stroke:#000000;stroke-width:0.8;\" x=\"244.67603\" xlink:href=\"#m89cbf8f76c\" y=\"282.975521\"/>\r\n      </g>\r\n     </g>\r\n    </g>\r\n   </g>\r\n   <g id=\"matplotlib.axis_6\">\r\n    <g id=\"ytick_11\">\r\n     <g id=\"line2d_26\">\r\n      <g>\r\n       <use style=\"stroke:#000000;stroke-width:0.8;\" x=\"26.925\" xlink:href=\"#m448857cec0\" y=\"282.975521\"/>\r\n      </g>\r\n     </g>\r\n     <g id=\"text_8\">\r\n      <!-- 0 -->\r\n      <g transform=\"translate(13.5625 286.77474)scale(0.1 -0.1)\">\r\n       <use xlink:href=\"#DejaVuSans-48\"/>\r\n      </g>\r\n     </g>\r\n    </g>\r\n    <g id=\"ytick_12\">\r\n     <g id=\"line2d_27\">\r\n      <g>\r\n       <use style=\"stroke:#000000;stroke-width:0.8;\" x=\"26.925\" xlink:href=\"#m448857cec0\" y=\"257.357211\"/>\r\n      </g>\r\n     </g>\r\n     <g id=\"text_9\">\r\n      <!-- 10 -->\r\n      <g transform=\"translate(7.2 261.15643)scale(0.1 -0.1)\">\r\n       <use xlink:href=\"#DejaVuSans-49\"/>\r\n       <use x=\"63.623047\" xlink:href=\"#DejaVuSans-48\"/>\r\n      </g>\r\n     </g>\r\n    </g>\r\n    <g id=\"ytick_13\">\r\n     <g id=\"line2d_28\">\r\n      <g>\r\n       <use style=\"stroke:#000000;stroke-width:0.8;\" x=\"26.925\" xlink:href=\"#m448857cec0\" y=\"231.738902\"/>\r\n      </g>\r\n     </g>\r\n     <g id=\"text_10\">\r\n      <!-- 20 -->\r\n      <g transform=\"translate(7.2 235.538121)scale(0.1 -0.1)\">\r\n       <use xlink:href=\"#DejaVuSans-50\"/>\r\n       <use x=\"63.623047\" xlink:href=\"#DejaVuSans-48\"/>\r\n      </g>\r\n     </g>\r\n    </g>\r\n    <g id=\"ytick_14\">\r\n     <g id=\"line2d_29\">\r\n      <g>\r\n       <use style=\"stroke:#000000;stroke-width:0.8;\" x=\"26.925\" xlink:href=\"#m448857cec0\" y=\"206.120593\"/>\r\n      </g>\r\n     </g>\r\n     <g id=\"text_11\">\r\n      <!-- 30 -->\r\n      <g transform=\"translate(7.2 209.919812)scale(0.1 -0.1)\">\r\n       <use xlink:href=\"#DejaVuSans-51\"/>\r\n       <use x=\"63.623047\" xlink:href=\"#DejaVuSans-48\"/>\r\n      </g>\r\n     </g>\r\n    </g>\r\n    <g id=\"ytick_15\">\r\n     <g id=\"line2d_30\">\r\n      <g>\r\n       <use style=\"stroke:#000000;stroke-width:0.8;\" x=\"26.925\" xlink:href=\"#m448857cec0\" y=\"180.502283\"/>\r\n      </g>\r\n     </g>\r\n     <g id=\"text_12\">\r\n      <!-- 40 -->\r\n      <g transform=\"translate(7.2 184.301502)scale(0.1 -0.1)\">\r\n       <use xlink:href=\"#DejaVuSans-52\"/>\r\n       <use x=\"63.623047\" xlink:href=\"#DejaVuSans-48\"/>\r\n      </g>\r\n     </g>\r\n    </g>\r\n   </g>\r\n   <g id=\"patch_69\">\r\n    <path d=\"M 26.925 282.975521 \r\nL 26.925 167.308854 \r\n\" style=\"fill:none;stroke:#000000;stroke-linecap:square;stroke-linejoin:miter;stroke-width:0.8;\"/>\r\n   </g>\r\n   <g id=\"patch_70\">\r\n    <path d=\"M 26.925 282.975521 \r\nL 255.045127 282.975521 \r\n\" style=\"fill:none;stroke:#000000;stroke-linecap:square;stroke-linejoin:miter;stroke-width:0.8;\"/>\r\n   </g>\r\n   <g id=\"text_13\">\r\n    <!-- Pclass = 2 | Survived = 0 -->\r\n    <g transform=\"translate(77.640532 161.308854)scale(0.1 -0.1)\">\r\n     <use xlink:href=\"#DejaVuSans-80\"/>\r\n     <use x=\"60.302734\" xlink:href=\"#DejaVuSans-99\"/>\r\n     <use x=\"115.283203\" xlink:href=\"#DejaVuSans-108\"/>\r\n     <use x=\"143.066406\" xlink:href=\"#DejaVuSans-97\"/>\r\n     <use x=\"204.345703\" xlink:href=\"#DejaVuSans-115\"/>\r\n     <use x=\"256.445312\" xlink:href=\"#DejaVuSans-115\"/>\r\n     <use x=\"308.544922\" xlink:href=\"#DejaVuSans-32\"/>\r\n     <use x=\"340.332031\" xlink:href=\"#DejaVuSans-61\"/>\r\n     <use x=\"424.121094\" xlink:href=\"#DejaVuSans-32\"/>\r\n     <use x=\"455.908203\" xlink:href=\"#DejaVuSans-50\"/>\r\n     <use x=\"519.53125\" xlink:href=\"#DejaVuSans-32\"/>\r\n     <use x=\"551.318359\" xlink:href=\"#DejaVuSans-124\"/>\r\n     <use x=\"585.009766\" xlink:href=\"#DejaVuSans-32\"/>\r\n     <use x=\"616.796875\" xlink:href=\"#DejaVuSans-83\"/>\r\n     <use x=\"680.273438\" xlink:href=\"#DejaVuSans-117\"/>\r\n     <use x=\"743.652344\" xlink:href=\"#DejaVuSans-114\"/>\r\n     <use x=\"784.765625\" xlink:href=\"#DejaVuSans-118\"/>\r\n     <use x=\"843.945312\" xlink:href=\"#DejaVuSans-105\"/>\r\n     <use x=\"871.728516\" xlink:href=\"#DejaVuSans-118\"/>\r\n     <use x=\"930.908203\" xlink:href=\"#DejaVuSans-101\"/>\r\n     <use x=\"992.431641\" xlink:href=\"#DejaVuSans-100\"/>\r\n     <use x=\"1055.908203\" xlink:href=\"#DejaVuSans-32\"/>\r\n     <use x=\"1087.695312\" xlink:href=\"#DejaVuSans-61\"/>\r\n     <use x=\"1171.484375\" xlink:href=\"#DejaVuSans-32\"/>\r\n     <use x=\"1203.271484\" xlink:href=\"#DejaVuSans-48\"/>\r\n    </g>\r\n   </g>\r\n  </g>\r\n  <g id=\"axes_4\">\r\n   <g id=\"patch_71\">\r\n    <path d=\"M 269.503908 282.975521 \r\nL 497.624035 282.975521 \r\nL 497.624035 167.308854 \r\nL 269.503908 167.308854 \r\nz\r\n\" style=\"fill:#ffffff;\"/>\r\n   </g>\r\n   <g id=\"patch_72\">\r\n    <path clip-path=\"url(#p50932a7abc)\" d=\"M 280.524493 282.975521 \r\nL 288.515656 282.975521 \r\nL 288.515656 257.357211 \r\nL 280.524493 257.357211 \r\nz\r\n\" style=\"fill:#1f77b4;opacity:0.5;\"/>\r\n   </g>\r\n   <g id=\"patch_73\">\r\n    <path clip-path=\"url(#p50932a7abc)\" d=\"M 288.515656 282.975521 \r\nL 296.506818 282.975521 \r\nL 296.506818 272.728197 \r\nL 288.515656 272.728197 \r\nz\r\n\" style=\"fill:#1f77b4;opacity:0.5;\"/>\r\n   </g>\r\n   <g id=\"patch_74\">\r\n    <path clip-path=\"url(#p50932a7abc)\" d=\"M 296.506818 282.975521 \r\nL 304.49798 282.975521 \r\nL 304.49798 275.290028 \r\nL 296.506818 275.290028 \r\nz\r\n\" style=\"fill:#1f77b4;opacity:0.5;\"/>\r\n   </g>\r\n   <g id=\"patch_75\">\r\n    <path clip-path=\"url(#p50932a7abc)\" d=\"M 304.49798 282.975521 \r\nL 312.489143 282.975521 \r\nL 312.489143 282.975521 \r\nL 304.49798 282.975521 \r\nz\r\n\" style=\"fill:#1f77b4;opacity:0.5;\"/>\r\n   </g>\r\n   <g id=\"patch_76\">\r\n    <path clip-path=\"url(#p50932a7abc)\" d=\"M 312.489143 282.975521 \r\nL 320.480305 282.975521 \r\nL 320.480305 277.851859 \r\nL 312.489143 277.851859 \r\nz\r\n\" style=\"fill:#1f77b4;opacity:0.5;\"/>\r\n   </g>\r\n   <g id=\"patch_77\">\r\n    <path clip-path=\"url(#p50932a7abc)\" d=\"M 320.480305 282.975521 \r\nL 328.471467 282.975521 \r\nL 328.471467 265.042704 \r\nL 320.480305 265.042704 \r\nz\r\n\" style=\"fill:#1f77b4;opacity:0.5;\"/>\r\n   </g>\r\n   <g id=\"patch_78\">\r\n    <path clip-path=\"url(#p50932a7abc)\" d=\"M 328.471467 282.975521 \r\nL 336.46263 282.975521 \r\nL 336.46263 275.290028 \r\nL 328.471467 275.290028 \r\nz\r\n\" style=\"fill:#1f77b4;opacity:0.5;\"/>\r\n   </g>\r\n   <g id=\"patch_79\">\r\n    <path clip-path=\"url(#p50932a7abc)\" d=\"M 336.46263 282.975521 \r\nL 344.453792 282.975521 \r\nL 344.453792 259.919042 \r\nL 336.46263 259.919042 \r\nz\r\n\" style=\"fill:#1f77b4;opacity:0.5;\"/>\r\n   </g>\r\n   <g id=\"patch_80\">\r\n    <path clip-path=\"url(#p50932a7abc)\" d=\"M 344.453792 282.975521 \r\nL 352.444954 282.975521 \r\nL 352.444954 265.042704 \r\nL 344.453792 265.042704 \r\nz\r\n\" style=\"fill:#1f77b4;opacity:0.5;\"/>\r\n   </g>\r\n   <g id=\"patch_81\">\r\n    <path clip-path=\"url(#p50932a7abc)\" d=\"M 352.444954 282.975521 \r\nL 360.436117 282.975521 \r\nL 360.436117 262.480873 \r\nL 352.444954 262.480873 \r\nz\r\n\" style=\"fill:#1f77b4;opacity:0.5;\"/>\r\n   </g>\r\n   <g id=\"patch_82\">\r\n    <path clip-path=\"url(#p50932a7abc)\" d=\"M 360.436117 282.975521 \r\nL 368.427279 282.975521 \r\nL 368.427279 257.357211 \r\nL 360.436117 257.357211 \r\nz\r\n\" style=\"fill:#1f77b4;opacity:0.5;\"/>\r\n   </g>\r\n   <g id=\"patch_83\">\r\n    <path clip-path=\"url(#p50932a7abc)\" d=\"M 368.427279 282.975521 \r\nL 376.418441 282.975521 \r\nL 376.418441 272.728197 \r\nL 368.427279 272.728197 \r\nz\r\n\" style=\"fill:#1f77b4;opacity:0.5;\"/>\r\n   </g>\r\n   <g id=\"patch_84\">\r\n    <path clip-path=\"url(#p50932a7abc)\" d=\"M 376.418441 282.975521 \r\nL 384.409604 282.975521 \r\nL 384.409604 275.290028 \r\nL 376.418441 275.290028 \r\nz\r\n\" style=\"fill:#1f77b4;opacity:0.5;\"/>\r\n   </g>\r\n   <g id=\"patch_85\">\r\n    <path clip-path=\"url(#p50932a7abc)\" d=\"M 384.409604 282.975521 \r\nL 392.400766 282.975521 \r\nL 392.400766 272.728197 \r\nL 384.409604 272.728197 \r\nz\r\n\" style=\"fill:#1f77b4;opacity:0.5;\"/>\r\n   </g>\r\n   <g id=\"patch_86\">\r\n    <path clip-path=\"url(#p50932a7abc)\" d=\"M 392.400766 282.975521 \r\nL 400.391928 282.975521 \r\nL 400.391928 277.851859 \r\nL 392.400766 277.851859 \r\nz\r\n\" style=\"fill:#1f77b4;opacity:0.5;\"/>\r\n   </g>\r\n   <g id=\"patch_87\">\r\n    <path clip-path=\"url(#p50932a7abc)\" d=\"M 400.391928 282.975521 \r\nL 408.383091 282.975521 \r\nL 408.383091 280.41369 \r\nL 400.391928 280.41369 \r\nz\r\n\" style=\"fill:#1f77b4;opacity:0.5;\"/>\r\n   </g>\r\n   <g id=\"patch_88\">\r\n    <path clip-path=\"url(#p50932a7abc)\" d=\"M 408.383091 282.975521 \r\nL 416.374253 282.975521 \r\nL 416.374253 275.290028 \r\nL 408.383091 275.290028 \r\nz\r\n\" style=\"fill:#1f77b4;opacity:0.5;\"/>\r\n   </g>\r\n   <g id=\"patch_89\">\r\n    <path clip-path=\"url(#p50932a7abc)\" d=\"M 416.374253 282.975521 \r\nL 424.365415 282.975521 \r\nL 424.365415 277.851859 \r\nL 416.374253 277.851859 \r\nz\r\n\" style=\"fill:#1f77b4;opacity:0.5;\"/>\r\n   </g>\r\n   <g id=\"patch_90\">\r\n    <path clip-path=\"url(#p50932a7abc)\" d=\"M 424.365415 282.975521 \r\nL 432.356578 282.975521 \r\nL 432.356578 282.975521 \r\nL 424.365415 282.975521 \r\nz\r\n\" style=\"fill:#1f77b4;opacity:0.5;\"/>\r\n   </g>\r\n   <g id=\"patch_91\">\r\n    <path clip-path=\"url(#p50932a7abc)\" d=\"M 432.356578 282.975521 \r\nL 440.34774 282.975521 \r\nL 440.34774 280.41369 \r\nL 432.356578 280.41369 \r\nz\r\n\" style=\"fill:#1f77b4;opacity:0.5;\"/>\r\n   </g>\r\n   <g id=\"matplotlib.axis_7\">\r\n    <g id=\"xtick_16\">\r\n     <g id=\"line2d_31\">\r\n      <g>\r\n       <use style=\"stroke:#000000;stroke-width:0.8;\" x=\"278.778503\" xlink:href=\"#m89cbf8f76c\" y=\"282.975521\"/>\r\n      </g>\r\n     </g>\r\n    </g>\r\n    <g id=\"xtick_17\">\r\n     <g id=\"line2d_32\">\r\n      <g>\r\n       <use style=\"stroke:#000000;stroke-width:0.8;\" x=\"330.897612\" xlink:href=\"#m89cbf8f76c\" y=\"282.975521\"/>\r\n      </g>\r\n     </g>\r\n    </g>\r\n    <g id=\"xtick_18\">\r\n     <g id=\"line2d_33\">\r\n      <g>\r\n       <use style=\"stroke:#000000;stroke-width:0.8;\" x=\"383.01672\" xlink:href=\"#m89cbf8f76c\" y=\"282.975521\"/>\r\n      </g>\r\n     </g>\r\n    </g>\r\n    <g id=\"xtick_19\">\r\n     <g id=\"line2d_34\">\r\n      <g>\r\n       <use style=\"stroke:#000000;stroke-width:0.8;\" x=\"435.135829\" xlink:href=\"#m89cbf8f76c\" y=\"282.975521\"/>\r\n      </g>\r\n     </g>\r\n    </g>\r\n    <g id=\"xtick_20\">\r\n     <g id=\"line2d_35\">\r\n      <g>\r\n       <use style=\"stroke:#000000;stroke-width:0.8;\" x=\"487.254938\" xlink:href=\"#m89cbf8f76c\" y=\"282.975521\"/>\r\n      </g>\r\n     </g>\r\n    </g>\r\n   </g>\r\n   <g id=\"matplotlib.axis_8\">\r\n    <g id=\"ytick_16\">\r\n     <g id=\"line2d_36\">\r\n      <g>\r\n       <use style=\"stroke:#000000;stroke-width:0.8;\" x=\"269.503908\" xlink:href=\"#m448857cec0\" y=\"282.975521\"/>\r\n      </g>\r\n     </g>\r\n    </g>\r\n    <g id=\"ytick_17\">\r\n     <g id=\"line2d_37\">\r\n      <g>\r\n       <use style=\"stroke:#000000;stroke-width:0.8;\" x=\"269.503908\" xlink:href=\"#m448857cec0\" y=\"257.357211\"/>\r\n      </g>\r\n     </g>\r\n    </g>\r\n    <g id=\"ytick_18\">\r\n     <g id=\"line2d_38\">\r\n      <g>\r\n       <use style=\"stroke:#000000;stroke-width:0.8;\" x=\"269.503908\" xlink:href=\"#m448857cec0\" y=\"231.738902\"/>\r\n      </g>\r\n     </g>\r\n    </g>\r\n    <g id=\"ytick_19\">\r\n     <g id=\"line2d_39\">\r\n      <g>\r\n       <use style=\"stroke:#000000;stroke-width:0.8;\" x=\"269.503908\" xlink:href=\"#m448857cec0\" y=\"206.120593\"/>\r\n      </g>\r\n     </g>\r\n    </g>\r\n    <g id=\"ytick_20\">\r\n     <g id=\"line2d_40\">\r\n      <g>\r\n       <use style=\"stroke:#000000;stroke-width:0.8;\" x=\"269.503908\" xlink:href=\"#m448857cec0\" y=\"180.502283\"/>\r\n      </g>\r\n     </g>\r\n    </g>\r\n   </g>\r\n   <g id=\"patch_92\">\r\n    <path d=\"M 269.503908 282.975521 \r\nL 269.503908 167.308854 \r\n\" style=\"fill:none;stroke:#000000;stroke-linecap:square;stroke-linejoin:miter;stroke-width:0.8;\"/>\r\n   </g>\r\n   <g id=\"patch_93\">\r\n    <path d=\"M 269.503908 282.975521 \r\nL 497.624035 282.975521 \r\n\" style=\"fill:none;stroke:#000000;stroke-linecap:square;stroke-linejoin:miter;stroke-width:0.8;\"/>\r\n   </g>\r\n   <g id=\"text_14\">\r\n    <!-- Pclass = 2 | Survived = 1 -->\r\n    <g transform=\"translate(320.21944 161.308854)scale(0.1 -0.1)\">\r\n     <use xlink:href=\"#DejaVuSans-80\"/>\r\n     <use x=\"60.302734\" xlink:href=\"#DejaVuSans-99\"/>\r\n     <use x=\"115.283203\" xlink:href=\"#DejaVuSans-108\"/>\r\n     <use x=\"143.066406\" xlink:href=\"#DejaVuSans-97\"/>\r\n     <use x=\"204.345703\" xlink:href=\"#DejaVuSans-115\"/>\r\n     <use x=\"256.445312\" xlink:href=\"#DejaVuSans-115\"/>\r\n     <use x=\"308.544922\" xlink:href=\"#DejaVuSans-32\"/>\r\n     <use x=\"340.332031\" xlink:href=\"#DejaVuSans-61\"/>\r\n     <use x=\"424.121094\" xlink:href=\"#DejaVuSans-32\"/>\r\n     <use x=\"455.908203\" xlink:href=\"#DejaVuSans-50\"/>\r\n     <use x=\"519.53125\" xlink:href=\"#DejaVuSans-32\"/>\r\n     <use x=\"551.318359\" xlink:href=\"#DejaVuSans-124\"/>\r\n     <use x=\"585.009766\" xlink:href=\"#DejaVuSans-32\"/>\r\n     <use x=\"616.796875\" xlink:href=\"#DejaVuSans-83\"/>\r\n     <use x=\"680.273438\" xlink:href=\"#DejaVuSans-117\"/>\r\n     <use x=\"743.652344\" xlink:href=\"#DejaVuSans-114\"/>\r\n     <use x=\"784.765625\" xlink:href=\"#DejaVuSans-118\"/>\r\n     <use x=\"843.945312\" xlink:href=\"#DejaVuSans-105\"/>\r\n     <use x=\"871.728516\" xlink:href=\"#DejaVuSans-118\"/>\r\n     <use x=\"930.908203\" xlink:href=\"#DejaVuSans-101\"/>\r\n     <use x=\"992.431641\" xlink:href=\"#DejaVuSans-100\"/>\r\n     <use x=\"1055.908203\" xlink:href=\"#DejaVuSans-32\"/>\r\n     <use x=\"1087.695312\" xlink:href=\"#DejaVuSans-61\"/>\r\n     <use x=\"1171.484375\" xlink:href=\"#DejaVuSans-32\"/>\r\n     <use x=\"1203.271484\" xlink:href=\"#DejaVuSans-49\"/>\r\n    </g>\r\n   </g>\r\n  </g>\r\n  <g id=\"axes_5\">\r\n   <g id=\"patch_94\">\r\n    <path d=\"M 26.925 429.442188 \r\nL 255.045127 429.442188 \r\nL 255.045127 313.775521 \r\nL 26.925 313.775521 \r\nz\r\n\" style=\"fill:#ffffff;\"/>\r\n   </g>\r\n   <g id=\"patch_95\">\r\n    <path clip-path=\"url(#p623c3cb9b8)\" d=\"M 38.805551 429.442188 \r\nL 48.317288 429.442188 \r\nL 48.317288 398.700216 \r\nL 38.805551 398.700216 \r\nz\r\n\" style=\"fill:#1f77b4;opacity:0.5;\"/>\r\n   </g>\r\n   <g id=\"patch_96\">\r\n    <path clip-path=\"url(#p623c3cb9b8)\" d=\"M 48.317288 429.442188 \r\nL 57.829026 429.442188 \r\nL 57.829026 416.633033 \r\nL 48.317288 416.633033 \r\nz\r\n\" style=\"fill:#1f77b4;opacity:0.5;\"/>\r\n   </g>\r\n   <g id=\"patch_97\">\r\n    <path clip-path=\"url(#p623c3cb9b8)\" d=\"M 57.829026 429.442188 \r\nL 67.340763 429.442188 \r\nL 67.340763 401.262047 \r\nL 57.829026 401.262047 \r\nz\r\n\" style=\"fill:#1f77b4;opacity:0.5;\"/>\r\n   </g>\r\n   <g id=\"patch_98\">\r\n    <path clip-path=\"url(#p623c3cb9b8)\" d=\"M 67.340763 429.442188 \r\nL 76.8525 429.442188 \r\nL 76.8525 416.633033 \r\nL 67.340763 416.633033 \r\nz\r\n\" style=\"fill:#1f77b4;opacity:0.5;\"/>\r\n   </g>\r\n   <g id=\"patch_99\">\r\n    <path clip-path=\"url(#p623c3cb9b8)\" d=\"M 76.8525 429.442188 \r\nL 86.364238 429.442188 \r\nL 86.364238 329.530781 \r\nL 76.8525 329.530781 \r\nz\r\n\" style=\"fill:#1f77b4;opacity:0.5;\"/>\r\n   </g>\r\n   <g id=\"patch_100\">\r\n    <path clip-path=\"url(#p623c3cb9b8)\" d=\"M 86.364238 429.442188 \r\nL 95.875975 429.442188 \r\nL 95.875975 319.283457 \r\nL 86.364238 319.283457 \r\nz\r\n\" style=\"fill:#1f77b4;opacity:0.5;\"/>\r\n   </g>\r\n   <g id=\"patch_101\">\r\n    <path clip-path=\"url(#p623c3cb9b8)\" d=\"M 95.875975 429.442188 \r\nL 105.387712 429.442188 \r\nL 105.387712 337.216274 \r\nL 95.875975 337.216274 \r\nz\r\n\" style=\"fill:#1f77b4;opacity:0.5;\"/>\r\n   </g>\r\n   <g id=\"patch_102\">\r\n    <path clip-path=\"url(#p623c3cb9b8)\" d=\"M 105.387712 429.442188 \r\nL 114.89945 429.442188 \r\nL 114.89945 347.463598 \r\nL 105.387712 347.463598 \r\nz\r\n\" style=\"fill:#1f77b4;opacity:0.5;\"/>\r\n   </g>\r\n   <g id=\"patch_103\">\r\n    <path clip-path=\"url(#p623c3cb9b8)\" d=\"M 114.89945 429.442188 \r\nL 124.411187 429.442188 \r\nL 124.411187 378.205569 \r\nL 114.89945 378.205569 \r\nz\r\n\" style=\"fill:#1f77b4;opacity:0.5;\"/>\r\n   </g>\r\n   <g id=\"patch_104\">\r\n    <path clip-path=\"url(#p623c3cb9b8)\" d=\"M 124.411187 429.442188 \r\nL 133.922924 429.442188 \r\nL 133.922924 385.891062 \r\nL 124.411187 385.891062 \r\nz\r\n\" style=\"fill:#1f77b4;opacity:0.5;\"/>\r\n   </g>\r\n   <g id=\"patch_105\">\r\n    <path clip-path=\"url(#p623c3cb9b8)\" d=\"M 133.922924 429.442188 \r\nL 143.434662 429.442188 \r\nL 143.434662 380.7674 \r\nL 133.922924 380.7674 \r\nz\r\n\" style=\"fill:#1f77b4;opacity:0.5;\"/>\r\n   </g>\r\n   <g id=\"patch_106\">\r\n    <path clip-path=\"url(#p623c3cb9b8)\" d=\"M 143.434662 429.442188 \r\nL 152.946399 429.442188 \r\nL 152.946399 403.823878 \r\nL 143.434662 403.823878 \r\nz\r\n\" style=\"fill:#1f77b4;opacity:0.5;\"/>\r\n   </g>\r\n   <g id=\"patch_107\">\r\n    <path clip-path=\"url(#p623c3cb9b8)\" d=\"M 152.946399 429.442188 \r\nL 162.458136 429.442188 \r\nL 162.458136 403.823878 \r\nL 152.946399 403.823878 \r\nz\r\n\" style=\"fill:#1f77b4;opacity:0.5;\"/>\r\n   </g>\r\n   <g id=\"patch_108\">\r\n    <path clip-path=\"url(#p623c3cb9b8)\" d=\"M 162.458136 429.442188 \r\nL 171.969874 429.442188 \r\nL 171.969874 416.633033 \r\nL 162.458136 416.633033 \r\nz\r\n\" style=\"fill:#1f77b4;opacity:0.5;\"/>\r\n   </g>\r\n   <g id=\"patch_109\">\r\n    <path clip-path=\"url(#p623c3cb9b8)\" d=\"M 171.969874 429.442188 \r\nL 181.481611 429.442188 \r\nL 181.481611 426.880357 \r\nL 171.969874 426.880357 \r\nz\r\n\" style=\"fill:#1f77b4;opacity:0.5;\"/>\r\n   </g>\r\n   <g id=\"patch_110\">\r\n    <path clip-path=\"url(#p623c3cb9b8)\" d=\"M 181.481611 429.442188 \r\nL 190.993348 429.442188 \r\nL 190.993348 426.880357 \r\nL 181.481611 426.880357 \r\nz\r\n\" style=\"fill:#1f77b4;opacity:0.5;\"/>\r\n   </g>\r\n   <g id=\"patch_111\">\r\n    <path clip-path=\"url(#p623c3cb9b8)\" d=\"M 190.993348 429.442188 \r\nL 200.505086 429.442188 \r\nL 200.505086 426.880357 \r\nL 190.993348 426.880357 \r\nz\r\n\" style=\"fill:#1f77b4;opacity:0.5;\"/>\r\n   </g>\r\n   <g id=\"patch_112\">\r\n    <path clip-path=\"url(#p623c3cb9b8)\" d=\"M 200.505086 429.442188 \r\nL 210.016823 429.442188 \r\nL 210.016823 426.880357 \r\nL 200.505086 426.880357 \r\nz\r\n\" style=\"fill:#1f77b4;opacity:0.5;\"/>\r\n   </g>\r\n   <g id=\"patch_113\">\r\n    <path clip-path=\"url(#p623c3cb9b8)\" d=\"M 210.016823 429.442188 \r\nL 219.52856 429.442188 \r\nL 219.52856 429.442188 \r\nL 210.016823 429.442188 \r\nz\r\n\" style=\"fill:#1f77b4;opacity:0.5;\"/>\r\n   </g>\r\n   <g id=\"patch_114\">\r\n    <path clip-path=\"url(#p623c3cb9b8)\" d=\"M 219.52856 429.442188 \r\nL 229.040298 429.442188 \r\nL 229.040298 424.318526 \r\nL 219.52856 424.318526 \r\nz\r\n\" style=\"fill:#1f77b4;opacity:0.5;\"/>\r\n   </g>\r\n   <g id=\"matplotlib.axis_9\">\r\n    <g id=\"xtick_21\">\r\n     <g id=\"line2d_41\">\r\n      <g>\r\n       <use style=\"stroke:#000000;stroke-width:0.8;\" x=\"36.199595\" xlink:href=\"#m89cbf8f76c\" y=\"429.442188\"/>\r\n      </g>\r\n     </g>\r\n     <g id=\"text_15\">\r\n      <!-- 0 -->\r\n      <g transform=\"translate(33.018345 444.040625)scale(0.1 -0.1)\">\r\n       <use xlink:href=\"#DejaVuSans-48\"/>\r\n      </g>\r\n     </g>\r\n    </g>\r\n    <g id=\"xtick_22\">\r\n     <g id=\"line2d_42\">\r\n      <g>\r\n       <use style=\"stroke:#000000;stroke-width:0.8;\" x=\"88.318704\" xlink:href=\"#m89cbf8f76c\" y=\"429.442188\"/>\r\n      </g>\r\n     </g>\r\n     <g id=\"text_16\">\r\n      <!-- 20 -->\r\n      <g transform=\"translate(81.956204 444.040625)scale(0.1 -0.1)\">\r\n       <use xlink:href=\"#DejaVuSans-50\"/>\r\n       <use x=\"63.623047\" xlink:href=\"#DejaVuSans-48\"/>\r\n      </g>\r\n     </g>\r\n    </g>\r\n    <g id=\"xtick_23\">\r\n     <g id=\"line2d_43\">\r\n      <g>\r\n       <use style=\"stroke:#000000;stroke-width:0.8;\" x=\"140.437813\" xlink:href=\"#m89cbf8f76c\" y=\"429.442188\"/>\r\n      </g>\r\n     </g>\r\n     <g id=\"text_17\">\r\n      <!-- 40 -->\r\n      <g transform=\"translate(134.075313 444.040625)scale(0.1 -0.1)\">\r\n       <use xlink:href=\"#DejaVuSans-52\"/>\r\n       <use x=\"63.623047\" xlink:href=\"#DejaVuSans-48\"/>\r\n      </g>\r\n     </g>\r\n    </g>\r\n    <g id=\"xtick_24\">\r\n     <g id=\"line2d_44\">\r\n      <g>\r\n       <use style=\"stroke:#000000;stroke-width:0.8;\" x=\"192.556922\" xlink:href=\"#m89cbf8f76c\" y=\"429.442188\"/>\r\n      </g>\r\n     </g>\r\n     <g id=\"text_18\">\r\n      <!-- 60 -->\r\n      <defs>\r\n       <path d=\"M 33.015625 40.375 \r\nQ 26.375 40.375 22.484375 35.828125 \r\nQ 18.609375 31.296875 18.609375 23.390625 \r\nQ 18.609375 15.53125 22.484375 10.953125 \r\nQ 26.375 6.390625 33.015625 6.390625 \r\nQ 39.65625 6.390625 43.53125 10.953125 \r\nQ 47.40625 15.53125 47.40625 23.390625 \r\nQ 47.40625 31.296875 43.53125 35.828125 \r\nQ 39.65625 40.375 33.015625 40.375 \r\nz\r\nM 52.59375 71.296875 \r\nL 52.59375 62.3125 \r\nQ 48.875 64.0625 45.09375 64.984375 \r\nQ 41.3125 65.921875 37.59375 65.921875 \r\nQ 27.828125 65.921875 22.671875 59.328125 \r\nQ 17.53125 52.734375 16.796875 39.40625 \r\nQ 19.671875 43.65625 24.015625 45.921875 \r\nQ 28.375 48.1875 33.59375 48.1875 \r\nQ 44.578125 48.1875 50.953125 41.515625 \r\nQ 57.328125 34.859375 57.328125 23.390625 \r\nQ 57.328125 12.15625 50.6875 5.359375 \r\nQ 44.046875 -1.421875 33.015625 -1.421875 \r\nQ 20.359375 -1.421875 13.671875 8.265625 \r\nQ 6.984375 17.96875 6.984375 36.375 \r\nQ 6.984375 53.65625 15.1875 63.9375 \r\nQ 23.390625 74.21875 37.203125 74.21875 \r\nQ 40.921875 74.21875 44.703125 73.484375 \r\nQ 48.484375 72.75 52.59375 71.296875 \r\nz\r\n\" id=\"DejaVuSans-54\"/>\r\n      </defs>\r\n      <g transform=\"translate(186.194422 444.040625)scale(0.1 -0.1)\">\r\n       <use xlink:href=\"#DejaVuSans-54\"/>\r\n       <use x=\"63.623047\" xlink:href=\"#DejaVuSans-48\"/>\r\n      </g>\r\n     </g>\r\n    </g>\r\n    <g id=\"xtick_25\">\r\n     <g id=\"line2d_45\">\r\n      <g>\r\n       <use style=\"stroke:#000000;stroke-width:0.8;\" x=\"244.67603\" xlink:href=\"#m89cbf8f76c\" y=\"429.442188\"/>\r\n      </g>\r\n     </g>\r\n     <g id=\"text_19\">\r\n      <!-- 80 -->\r\n      <defs>\r\n       <path d=\"M 31.78125 34.625 \r\nQ 24.75 34.625 20.71875 30.859375 \r\nQ 16.703125 27.09375 16.703125 20.515625 \r\nQ 16.703125 13.921875 20.71875 10.15625 \r\nQ 24.75 6.390625 31.78125 6.390625 \r\nQ 38.8125 6.390625 42.859375 10.171875 \r\nQ 46.921875 13.96875 46.921875 20.515625 \r\nQ 46.921875 27.09375 42.890625 30.859375 \r\nQ 38.875 34.625 31.78125 34.625 \r\nz\r\nM 21.921875 38.8125 \r\nQ 15.578125 40.375 12.03125 44.71875 \r\nQ 8.5 49.078125 8.5 55.328125 \r\nQ 8.5 64.0625 14.71875 69.140625 \r\nQ 20.953125 74.21875 31.78125 74.21875 \r\nQ 42.671875 74.21875 48.875 69.140625 \r\nQ 55.078125 64.0625 55.078125 55.328125 \r\nQ 55.078125 49.078125 51.53125 44.71875 \r\nQ 48 40.375 41.703125 38.8125 \r\nQ 48.828125 37.15625 52.796875 32.3125 \r\nQ 56.78125 27.484375 56.78125 20.515625 \r\nQ 56.78125 9.90625 50.3125 4.234375 \r\nQ 43.84375 -1.421875 31.78125 -1.421875 \r\nQ 19.734375 -1.421875 13.25 4.234375 \r\nQ 6.78125 9.90625 6.78125 20.515625 \r\nQ 6.78125 27.484375 10.78125 32.3125 \r\nQ 14.796875 37.15625 21.921875 38.8125 \r\nz\r\nM 18.3125 54.390625 \r\nQ 18.3125 48.734375 21.84375 45.5625 \r\nQ 25.390625 42.390625 31.78125 42.390625 \r\nQ 38.140625 42.390625 41.71875 45.5625 \r\nQ 45.3125 48.734375 45.3125 54.390625 \r\nQ 45.3125 60.0625 41.71875 63.234375 \r\nQ 38.140625 66.40625 31.78125 66.40625 \r\nQ 25.390625 66.40625 21.84375 63.234375 \r\nQ 18.3125 60.0625 18.3125 54.390625 \r\nz\r\n\" id=\"DejaVuSans-56\"/>\r\n      </defs>\r\n      <g transform=\"translate(238.31353 444.040625)scale(0.1 -0.1)\">\r\n       <use xlink:href=\"#DejaVuSans-56\"/>\r\n       <use x=\"63.623047\" xlink:href=\"#DejaVuSans-48\"/>\r\n      </g>\r\n     </g>\r\n    </g>\r\n    <g id=\"text_20\">\r\n     <!-- Age -->\r\n     <defs>\r\n      <path d=\"M 34.1875 63.1875 \r\nL 20.796875 26.90625 \r\nL 47.609375 26.90625 \r\nz\r\nM 28.609375 72.90625 \r\nL 39.796875 72.90625 \r\nL 67.578125 0 \r\nL 57.328125 0 \r\nL 50.6875 18.703125 \r\nL 17.828125 18.703125 \r\nL 11.1875 0 \r\nL 0.78125 0 \r\nz\r\n\" id=\"DejaVuSans-65\"/>\r\n      <path d=\"M 45.40625 27.984375 \r\nQ 45.40625 37.75 41.375 43.109375 \r\nQ 37.359375 48.484375 30.078125 48.484375 \r\nQ 22.859375 48.484375 18.828125 43.109375 \r\nQ 14.796875 37.75 14.796875 27.984375 \r\nQ 14.796875 18.265625 18.828125 12.890625 \r\nQ 22.859375 7.515625 30.078125 7.515625 \r\nQ 37.359375 7.515625 41.375 12.890625 \r\nQ 45.40625 18.265625 45.40625 27.984375 \r\nz\r\nM 54.390625 6.78125 \r\nQ 54.390625 -7.171875 48.1875 -13.984375 \r\nQ 42 -20.796875 29.203125 -20.796875 \r\nQ 24.46875 -20.796875 20.265625 -20.09375 \r\nQ 16.0625 -19.390625 12.109375 -17.921875 \r\nL 12.109375 -9.1875 \r\nQ 16.0625 -11.328125 19.921875 -12.34375 \r\nQ 23.78125 -13.375 27.78125 -13.375 \r\nQ 36.625 -13.375 41.015625 -8.765625 \r\nQ 45.40625 -4.15625 45.40625 5.171875 \r\nL 45.40625 9.625 \r\nQ 42.625 4.78125 38.28125 2.390625 \r\nQ 33.9375 0 27.875 0 \r\nQ 17.828125 0 11.671875 7.65625 \r\nQ 5.515625 15.328125 5.515625 27.984375 \r\nQ 5.515625 40.671875 11.671875 48.328125 \r\nQ 17.828125 56 27.875 56 \r\nQ 33.9375 56 38.28125 53.609375 \r\nQ 42.625 51.21875 45.40625 46.390625 \r\nL 45.40625 54.6875 \r\nL 54.390625 54.6875 \r\nz\r\n\" id=\"DejaVuSans-103\"/>\r\n     </defs>\r\n     <g transform=\"translate(131.31397 457.71875)scale(0.1 -0.1)\">\r\n      <use xlink:href=\"#DejaVuSans-65\"/>\r\n      <use x=\"68.408203\" xlink:href=\"#DejaVuSans-103\"/>\r\n      <use x=\"131.884766\" xlink:href=\"#DejaVuSans-101\"/>\r\n     </g>\r\n    </g>\r\n   </g>\r\n   <g id=\"matplotlib.axis_10\">\r\n    <g id=\"ytick_21\">\r\n     <g id=\"line2d_46\">\r\n      <g>\r\n       <use style=\"stroke:#000000;stroke-width:0.8;\" x=\"26.925\" xlink:href=\"#m448857cec0\" y=\"429.442188\"/>\r\n      </g>\r\n     </g>\r\n     <g id=\"text_21\">\r\n      <!-- 0 -->\r\n      <g transform=\"translate(13.5625 433.241406)scale(0.1 -0.1)\">\r\n       <use xlink:href=\"#DejaVuSans-48\"/>\r\n      </g>\r\n     </g>\r\n    </g>\r\n    <g id=\"ytick_22\">\r\n     <g id=\"line2d_47\">\r\n      <g>\r\n       <use style=\"stroke:#000000;stroke-width:0.8;\" x=\"26.925\" xlink:href=\"#m448857cec0\" y=\"403.823878\"/>\r\n      </g>\r\n     </g>\r\n     <g id=\"text_22\">\r\n      <!-- 10 -->\r\n      <g transform=\"translate(7.2 407.623097)scale(0.1 -0.1)\">\r\n       <use xlink:href=\"#DejaVuSans-49\"/>\r\n       <use x=\"63.623047\" xlink:href=\"#DejaVuSans-48\"/>\r\n      </g>\r\n     </g>\r\n    </g>\r\n    <g id=\"ytick_23\">\r\n     <g id=\"line2d_48\">\r\n      <g>\r\n       <use style=\"stroke:#000000;stroke-width:0.8;\" x=\"26.925\" xlink:href=\"#m448857cec0\" y=\"378.205569\"/>\r\n      </g>\r\n     </g>\r\n     <g id=\"text_23\">\r\n      <!-- 20 -->\r\n      <g transform=\"translate(7.2 382.004788)scale(0.1 -0.1)\">\r\n       <use xlink:href=\"#DejaVuSans-50\"/>\r\n       <use x=\"63.623047\" xlink:href=\"#DejaVuSans-48\"/>\r\n      </g>\r\n     </g>\r\n    </g>\r\n    <g id=\"ytick_24\">\r\n     <g id=\"line2d_49\">\r\n      <g>\r\n       <use style=\"stroke:#000000;stroke-width:0.8;\" x=\"26.925\" xlink:href=\"#m448857cec0\" y=\"352.587259\"/>\r\n      </g>\r\n     </g>\r\n     <g id=\"text_24\">\r\n      <!-- 30 -->\r\n      <g transform=\"translate(7.2 356.386478)scale(0.1 -0.1)\">\r\n       <use xlink:href=\"#DejaVuSans-51\"/>\r\n       <use x=\"63.623047\" xlink:href=\"#DejaVuSans-48\"/>\r\n      </g>\r\n     </g>\r\n    </g>\r\n    <g id=\"ytick_25\">\r\n     <g id=\"line2d_50\">\r\n      <g>\r\n       <use style=\"stroke:#000000;stroke-width:0.8;\" x=\"26.925\" xlink:href=\"#m448857cec0\" y=\"326.96895\"/>\r\n      </g>\r\n     </g>\r\n     <g id=\"text_25\">\r\n      <!-- 40 -->\r\n      <g transform=\"translate(7.2 330.768169)scale(0.1 -0.1)\">\r\n       <use xlink:href=\"#DejaVuSans-52\"/>\r\n       <use x=\"63.623047\" xlink:href=\"#DejaVuSans-48\"/>\r\n      </g>\r\n     </g>\r\n    </g>\r\n   </g>\r\n   <g id=\"patch_115\">\r\n    <path d=\"M 26.925 429.442188 \r\nL 26.925 313.775521 \r\n\" style=\"fill:none;stroke:#000000;stroke-linecap:square;stroke-linejoin:miter;stroke-width:0.8;\"/>\r\n   </g>\r\n   <g id=\"patch_116\">\r\n    <path d=\"M 26.925 429.442188 \r\nL 255.045127 429.442188 \r\n\" style=\"fill:none;stroke:#000000;stroke-linecap:square;stroke-linejoin:miter;stroke-width:0.8;\"/>\r\n   </g>\r\n   <g id=\"text_26\">\r\n    <!-- Pclass = 3 | Survived = 0 -->\r\n    <g transform=\"translate(77.640532 307.775521)scale(0.1 -0.1)\">\r\n     <use xlink:href=\"#DejaVuSans-80\"/>\r\n     <use x=\"60.302734\" xlink:href=\"#DejaVuSans-99\"/>\r\n     <use x=\"115.283203\" xlink:href=\"#DejaVuSans-108\"/>\r\n     <use x=\"143.066406\" xlink:href=\"#DejaVuSans-97\"/>\r\n     <use x=\"204.345703\" xlink:href=\"#DejaVuSans-115\"/>\r\n     <use x=\"256.445312\" xlink:href=\"#DejaVuSans-115\"/>\r\n     <use x=\"308.544922\" xlink:href=\"#DejaVuSans-32\"/>\r\n     <use x=\"340.332031\" xlink:href=\"#DejaVuSans-61\"/>\r\n     <use x=\"424.121094\" xlink:href=\"#DejaVuSans-32\"/>\r\n     <use x=\"455.908203\" xlink:href=\"#DejaVuSans-51\"/>\r\n     <use x=\"519.53125\" xlink:href=\"#DejaVuSans-32\"/>\r\n     <use x=\"551.318359\" xlink:href=\"#DejaVuSans-124\"/>\r\n     <use x=\"585.009766\" xlink:href=\"#DejaVuSans-32\"/>\r\n     <use x=\"616.796875\" xlink:href=\"#DejaVuSans-83\"/>\r\n     <use x=\"680.273438\" xlink:href=\"#DejaVuSans-117\"/>\r\n     <use x=\"743.652344\" xlink:href=\"#DejaVuSans-114\"/>\r\n     <use x=\"784.765625\" xlink:href=\"#DejaVuSans-118\"/>\r\n     <use x=\"843.945312\" xlink:href=\"#DejaVuSans-105\"/>\r\n     <use x=\"871.728516\" xlink:href=\"#DejaVuSans-118\"/>\r\n     <use x=\"930.908203\" xlink:href=\"#DejaVuSans-101\"/>\r\n     <use x=\"992.431641\" xlink:href=\"#DejaVuSans-100\"/>\r\n     <use x=\"1055.908203\" xlink:href=\"#DejaVuSans-32\"/>\r\n     <use x=\"1087.695312\" xlink:href=\"#DejaVuSans-61\"/>\r\n     <use x=\"1171.484375\" xlink:href=\"#DejaVuSans-32\"/>\r\n     <use x=\"1203.271484\" xlink:href=\"#DejaVuSans-48\"/>\r\n    </g>\r\n   </g>\r\n  </g>\r\n  <g id=\"axes_6\">\r\n   <g id=\"patch_117\">\r\n    <path d=\"M 269.503908 429.442188 \r\nL 497.624035 429.442188 \r\nL 497.624035 313.775521 \r\nL 269.503908 313.775521 \r\nz\r\n\" style=\"fill:#ffffff;\"/>\r\n   </g>\r\n   <g id=\"patch_118\">\r\n    <path clip-path=\"url(#pb220c3b17d)\" d=\"M 279.873004 429.442188 \r\nL 288.027039 429.442188 \r\nL 288.027039 406.385709 \r\nL 279.873004 406.385709 \r\nz\r\n\" style=\"fill:#1f77b4;opacity:0.5;\"/>\r\n   </g>\r\n   <g id=\"patch_119\">\r\n    <path clip-path=\"url(#pb220c3b17d)\" d=\"M 288.027039 429.442188 \r\nL 296.181073 429.442188 \r\nL 296.181073 408.94754 \r\nL 288.027039 408.94754 \r\nz\r\n\" style=\"fill:#1f77b4;opacity:0.5;\"/>\r\n   </g>\r\n   <g id=\"patch_120\">\r\n    <path clip-path=\"url(#pb220c3b17d)\" d=\"M 296.181073 429.442188 \r\nL 304.335108 429.442188 \r\nL 304.335108 424.318526 \r\nL 296.181073 424.318526 \r\nz\r\n\" style=\"fill:#1f77b4;opacity:0.5;\"/>\r\n   </g>\r\n   <g id=\"patch_121\">\r\n    <path clip-path=\"url(#pb220c3b17d)\" d=\"M 304.335108 429.442188 \r\nL 312.489143 429.442188 \r\nL 312.489143 426.880357 \r\nL 304.335108 426.880357 \r\nz\r\n\" style=\"fill:#1f77b4;opacity:0.5;\"/>\r\n   </g>\r\n   <g id=\"patch_122\">\r\n    <path clip-path=\"url(#pb220c3b17d)\" d=\"M 312.489143 429.442188 \r\nL 320.643177 429.442188 \r\nL 320.643177 408.94754 \r\nL 312.489143 408.94754 \r\nz\r\n\" style=\"fill:#1f77b4;opacity:0.5;\"/>\r\n   </g>\r\n   <g id=\"patch_123\">\r\n    <path clip-path=\"url(#pb220c3b17d)\" d=\"M 320.643177 429.442188 \r\nL 328.797212 429.442188 \r\nL 328.797212 408.94754 \r\nL 320.643177 408.94754 \r\nz\r\n\" style=\"fill:#1f77b4;opacity:0.5;\"/>\r\n   </g>\r\n   <g id=\"patch_124\">\r\n    <path clip-path=\"url(#pb220c3b17d)\" d=\"M 328.797212 429.442188 \r\nL 336.951246 429.442188 \r\nL 336.951246 403.823878 \r\nL 328.797212 403.823878 \r\nz\r\n\" style=\"fill:#1f77b4;opacity:0.5;\"/>\r\n   </g>\r\n   <g id=\"patch_125\">\r\n    <path clip-path=\"url(#pb220c3b17d)\" d=\"M 336.951246 429.442188 \r\nL 345.105281 429.442188 \r\nL 345.105281 411.509371 \r\nL 336.951246 411.509371 \r\nz\r\n\" style=\"fill:#1f77b4;opacity:0.5;\"/>\r\n   </g>\r\n   <g id=\"patch_126\">\r\n    <path clip-path=\"url(#pb220c3b17d)\" d=\"M 345.105281 429.442188 \r\nL 353.259315 429.442188 \r\nL 353.259315 403.823878 \r\nL 345.105281 403.823878 \r\nz\r\n\" style=\"fill:#1f77b4;opacity:0.5;\"/>\r\n   </g>\r\n   <g id=\"patch_127\">\r\n    <path clip-path=\"url(#pb220c3b17d)\" d=\"M 353.259315 429.442188 \r\nL 361.41335 429.442188 \r\nL 361.41335 406.385709 \r\nL 353.259315 406.385709 \r\nz\r\n\" style=\"fill:#1f77b4;opacity:0.5;\"/>\r\n   </g>\r\n   <g id=\"patch_128\">\r\n    <path clip-path=\"url(#pb220c3b17d)\" d=\"M 361.41335 429.442188 \r\nL 369.567384 429.442188 \r\nL 369.567384 414.071202 \r\nL 361.41335 414.071202 \r\nz\r\n\" style=\"fill:#1f77b4;opacity:0.5;\"/>\r\n   </g>\r\n   <g id=\"patch_129\">\r\n    <path clip-path=\"url(#pb220c3b17d)\" d=\"M 369.567384 429.442188 \r\nL 377.721419 429.442188 \r\nL 377.721419 424.318526 \r\nL 369.567384 424.318526 \r\nz\r\n\" style=\"fill:#1f77b4;opacity:0.5;\"/>\r\n   </g>\r\n   <g id=\"patch_130\">\r\n    <path clip-path=\"url(#pb220c3b17d)\" d=\"M 377.721419 429.442188 \r\nL 385.875454 429.442188 \r\nL 385.875454 424.318526 \r\nL 377.721419 424.318526 \r\nz\r\n\" style=\"fill:#1f77b4;opacity:0.5;\"/>\r\n   </g>\r\n   <g id=\"patch_131\">\r\n    <path clip-path=\"url(#pb220c3b17d)\" d=\"M 385.875454 429.442188 \r\nL 394.029488 429.442188 \r\nL 394.029488 426.880357 \r\nL 385.875454 426.880357 \r\nz\r\n\" style=\"fill:#1f77b4;opacity:0.5;\"/>\r\n   </g>\r\n   <g id=\"patch_132\">\r\n    <path clip-path=\"url(#pb220c3b17d)\" d=\"M 394.029488 429.442188 \r\nL 402.183523 429.442188 \r\nL 402.183523 426.880357 \r\nL 394.029488 426.880357 \r\nz\r\n\" style=\"fill:#1f77b4;opacity:0.5;\"/>\r\n   </g>\r\n   <g id=\"patch_133\">\r\n    <path clip-path=\"url(#pb220c3b17d)\" d=\"M 402.183523 429.442188 \r\nL 410.337557 429.442188 \r\nL 410.337557 429.442188 \r\nL 402.183523 429.442188 \r\nz\r\n\" style=\"fill:#1f77b4;opacity:0.5;\"/>\r\n   </g>\r\n   <g id=\"patch_134\">\r\n    <path clip-path=\"url(#pb220c3b17d)\" d=\"M 410.337557 429.442188 \r\nL 418.491592 429.442188 \r\nL 418.491592 429.442188 \r\nL 410.337557 429.442188 \r\nz\r\n\" style=\"fill:#1f77b4;opacity:0.5;\"/>\r\n   </g>\r\n   <g id=\"patch_135\">\r\n    <path clip-path=\"url(#pb220c3b17d)\" d=\"M 418.491592 429.442188 \r\nL 426.645626 429.442188 \r\nL 426.645626 429.442188 \r\nL 418.491592 429.442188 \r\nz\r\n\" style=\"fill:#1f77b4;opacity:0.5;\"/>\r\n   </g>\r\n   <g id=\"patch_136\">\r\n    <path clip-path=\"url(#pb220c3b17d)\" d=\"M 426.645626 429.442188 \r\nL 434.799661 429.442188 \r\nL 434.799661 429.442188 \r\nL 426.645626 429.442188 \r\nz\r\n\" style=\"fill:#1f77b4;opacity:0.5;\"/>\r\n   </g>\r\n   <g id=\"patch_137\">\r\n    <path clip-path=\"url(#pb220c3b17d)\" d=\"M 434.799661 429.442188 \r\nL 442.953696 429.442188 \r\nL 442.953696 426.880357 \r\nL 434.799661 426.880357 \r\nz\r\n\" style=\"fill:#1f77b4;opacity:0.5;\"/>\r\n   </g>\r\n   <g id=\"matplotlib.axis_11\">\r\n    <g id=\"xtick_26\">\r\n     <g id=\"line2d_51\">\r\n      <g>\r\n       <use style=\"stroke:#000000;stroke-width:0.8;\" x=\"278.778503\" xlink:href=\"#m89cbf8f76c\" y=\"429.442188\"/>\r\n      </g>\r\n     </g>\r\n     <g id=\"text_27\">\r\n      <!-- 0 -->\r\n      <g transform=\"translate(275.597253 444.040625)scale(0.1 -0.1)\">\r\n       <use xlink:href=\"#DejaVuSans-48\"/>\r\n      </g>\r\n     </g>\r\n    </g>\r\n    <g id=\"xtick_27\">\r\n     <g id=\"line2d_52\">\r\n      <g>\r\n       <use style=\"stroke:#000000;stroke-width:0.8;\" x=\"330.897612\" xlink:href=\"#m89cbf8f76c\" y=\"429.442188\"/>\r\n      </g>\r\n     </g>\r\n     <g id=\"text_28\">\r\n      <!-- 20 -->\r\n      <g transform=\"translate(324.535112 444.040625)scale(0.1 -0.1)\">\r\n       <use xlink:href=\"#DejaVuSans-50\"/>\r\n       <use x=\"63.623047\" xlink:href=\"#DejaVuSans-48\"/>\r\n      </g>\r\n     </g>\r\n    </g>\r\n    <g id=\"xtick_28\">\r\n     <g id=\"line2d_53\">\r\n      <g>\r\n       <use style=\"stroke:#000000;stroke-width:0.8;\" x=\"383.01672\" xlink:href=\"#m89cbf8f76c\" y=\"429.442188\"/>\r\n      </g>\r\n     </g>\r\n     <g id=\"text_29\">\r\n      <!-- 40 -->\r\n      <g transform=\"translate(376.65422 444.040625)scale(0.1 -0.1)\">\r\n       <use xlink:href=\"#DejaVuSans-52\"/>\r\n       <use x=\"63.623047\" xlink:href=\"#DejaVuSans-48\"/>\r\n      </g>\r\n     </g>\r\n    </g>\r\n    <g id=\"xtick_29\">\r\n     <g id=\"line2d_54\">\r\n      <g>\r\n       <use style=\"stroke:#000000;stroke-width:0.8;\" x=\"435.135829\" xlink:href=\"#m89cbf8f76c\" y=\"429.442188\"/>\r\n      </g>\r\n     </g>\r\n     <g id=\"text_30\">\r\n      <!-- 60 -->\r\n      <g transform=\"translate(428.773329 444.040625)scale(0.1 -0.1)\">\r\n       <use xlink:href=\"#DejaVuSans-54\"/>\r\n       <use x=\"63.623047\" xlink:href=\"#DejaVuSans-48\"/>\r\n      </g>\r\n     </g>\r\n    </g>\r\n    <g id=\"xtick_30\">\r\n     <g id=\"line2d_55\">\r\n      <g>\r\n       <use style=\"stroke:#000000;stroke-width:0.8;\" x=\"487.254938\" xlink:href=\"#m89cbf8f76c\" y=\"429.442188\"/>\r\n      </g>\r\n     </g>\r\n     <g id=\"text_31\">\r\n      <!-- 80 -->\r\n      <g transform=\"translate(480.892438 444.040625)scale(0.1 -0.1)\">\r\n       <use xlink:href=\"#DejaVuSans-56\"/>\r\n       <use x=\"63.623047\" xlink:href=\"#DejaVuSans-48\"/>\r\n      </g>\r\n     </g>\r\n    </g>\r\n    <g id=\"text_32\">\r\n     <!-- Age -->\r\n     <g transform=\"translate(373.892877 457.71875)scale(0.1 -0.1)\">\r\n      <use xlink:href=\"#DejaVuSans-65\"/>\r\n      <use x=\"68.408203\" xlink:href=\"#DejaVuSans-103\"/>\r\n      <use x=\"131.884766\" xlink:href=\"#DejaVuSans-101\"/>\r\n     </g>\r\n    </g>\r\n   </g>\r\n   <g id=\"matplotlib.axis_12\">\r\n    <g id=\"ytick_26\">\r\n     <g id=\"line2d_56\">\r\n      <g>\r\n       <use style=\"stroke:#000000;stroke-width:0.8;\" x=\"269.503908\" xlink:href=\"#m448857cec0\" y=\"429.442188\"/>\r\n      </g>\r\n     </g>\r\n    </g>\r\n    <g id=\"ytick_27\">\r\n     <g id=\"line2d_57\">\r\n      <g>\r\n       <use style=\"stroke:#000000;stroke-width:0.8;\" x=\"269.503908\" xlink:href=\"#m448857cec0\" y=\"403.823878\"/>\r\n      </g>\r\n     </g>\r\n    </g>\r\n    <g id=\"ytick_28\">\r\n     <g id=\"line2d_58\">\r\n      <g>\r\n       <use style=\"stroke:#000000;stroke-width:0.8;\" x=\"269.503908\" xlink:href=\"#m448857cec0\" y=\"378.205569\"/>\r\n      </g>\r\n     </g>\r\n    </g>\r\n    <g id=\"ytick_29\">\r\n     <g id=\"line2d_59\">\r\n      <g>\r\n       <use style=\"stroke:#000000;stroke-width:0.8;\" x=\"269.503908\" xlink:href=\"#m448857cec0\" y=\"352.587259\"/>\r\n      </g>\r\n     </g>\r\n    </g>\r\n    <g id=\"ytick_30\">\r\n     <g id=\"line2d_60\">\r\n      <g>\r\n       <use style=\"stroke:#000000;stroke-width:0.8;\" x=\"269.503908\" xlink:href=\"#m448857cec0\" y=\"326.96895\"/>\r\n      </g>\r\n     </g>\r\n    </g>\r\n   </g>\r\n   <g id=\"patch_138\">\r\n    <path d=\"M 269.503908 429.442188 \r\nL 269.503908 313.775521 \r\n\" style=\"fill:none;stroke:#000000;stroke-linecap:square;stroke-linejoin:miter;stroke-width:0.8;\"/>\r\n   </g>\r\n   <g id=\"patch_139\">\r\n    <path d=\"M 269.503908 429.442188 \r\nL 497.624035 429.442188 \r\n\" style=\"fill:none;stroke:#000000;stroke-linecap:square;stroke-linejoin:miter;stroke-width:0.8;\"/>\r\n   </g>\r\n   <g id=\"text_33\">\r\n    <!-- Pclass = 3 | Survived = 1 -->\r\n    <g transform=\"translate(320.21944 307.775521)scale(0.1 -0.1)\">\r\n     <use xlink:href=\"#DejaVuSans-80\"/>\r\n     <use x=\"60.302734\" xlink:href=\"#DejaVuSans-99\"/>\r\n     <use x=\"115.283203\" xlink:href=\"#DejaVuSans-108\"/>\r\n     <use x=\"143.066406\" xlink:href=\"#DejaVuSans-97\"/>\r\n     <use x=\"204.345703\" xlink:href=\"#DejaVuSans-115\"/>\r\n     <use x=\"256.445312\" xlink:href=\"#DejaVuSans-115\"/>\r\n     <use x=\"308.544922\" xlink:href=\"#DejaVuSans-32\"/>\r\n     <use x=\"340.332031\" xlink:href=\"#DejaVuSans-61\"/>\r\n     <use x=\"424.121094\" xlink:href=\"#DejaVuSans-32\"/>\r\n     <use x=\"455.908203\" xlink:href=\"#DejaVuSans-51\"/>\r\n     <use x=\"519.53125\" xlink:href=\"#DejaVuSans-32\"/>\r\n     <use x=\"551.318359\" xlink:href=\"#DejaVuSans-124\"/>\r\n     <use x=\"585.009766\" xlink:href=\"#DejaVuSans-32\"/>\r\n     <use x=\"616.796875\" xlink:href=\"#DejaVuSans-83\"/>\r\n     <use x=\"680.273438\" xlink:href=\"#DejaVuSans-117\"/>\r\n     <use x=\"743.652344\" xlink:href=\"#DejaVuSans-114\"/>\r\n     <use x=\"784.765625\" xlink:href=\"#DejaVuSans-118\"/>\r\n     <use x=\"843.945312\" xlink:href=\"#DejaVuSans-105\"/>\r\n     <use x=\"871.728516\" xlink:href=\"#DejaVuSans-118\"/>\r\n     <use x=\"930.908203\" xlink:href=\"#DejaVuSans-101\"/>\r\n     <use x=\"992.431641\" xlink:href=\"#DejaVuSans-100\"/>\r\n     <use x=\"1055.908203\" xlink:href=\"#DejaVuSans-32\"/>\r\n     <use x=\"1087.695312\" xlink:href=\"#DejaVuSans-61\"/>\r\n     <use x=\"1171.484375\" xlink:href=\"#DejaVuSans-32\"/>\r\n     <use x=\"1203.271484\" xlink:href=\"#DejaVuSans-49\"/>\r\n    </g>\r\n   </g>\r\n  </g>\r\n  <g id=\"legend_1\"/>\r\n </g>\r\n <defs>\r\n  <clipPath id=\"pd61595ef54\">\r\n   <rect height=\"115.666667\" width=\"228.120127\" x=\"26.925\" y=\"20.842187\"/>\r\n  </clipPath>\r\n  <clipPath id=\"pa92b1c1b99\">\r\n   <rect height=\"115.666667\" width=\"228.120127\" x=\"269.503908\" y=\"20.842187\"/>\r\n  </clipPath>\r\n  <clipPath id=\"pd46fe90a4d\">\r\n   <rect height=\"115.666667\" width=\"228.120127\" x=\"26.925\" y=\"167.308854\"/>\r\n  </clipPath>\r\n  <clipPath id=\"p50932a7abc\">\r\n   <rect height=\"115.666667\" width=\"228.120127\" x=\"269.503908\" y=\"167.308854\"/>\r\n  </clipPath>\r\n  <clipPath id=\"p623c3cb9b8\">\r\n   <rect height=\"115.666667\" width=\"228.120127\" x=\"26.925\" y=\"313.775521\"/>\r\n  </clipPath>\r\n  <clipPath id=\"pb220c3b17d\">\r\n   <rect height=\"115.666667\" width=\"228.120127\" x=\"269.503908\" y=\"313.775521\"/>\r\n  </clipPath>\r\n </defs>\r\n</svg>\r\n",
      "image/png": "[encoded data removed]"
     },
     "metadata": {
      "needs_background": "light"
     }
    }
   ],
   "source": [
    "# grid = sns.FacetGrid(train_df, col='Pclass', hue='Survived')\n",
    "grid = sns.FacetGrid(train_df, col='Survived', row='Pclass', size=2.2, aspect=1.6)\n",
    "grid.map(plt.hist, 'Age', alpha=.5, bins=20)\n",
    "grid.add_legend();"
   ]
  },
  {
   "cell_type": "markdown",
   "metadata": {
    "_cell_guid": "36f5a7c0-c55c-f76f-fdf8-945a32a68cb0",
    "_uuid": "892ab7ee88b1b1c5f1ac987884fa31e111bb0507"
   },
   "source": [
    "### Correlating categorical features\n",
    "\n",
    "Now we can correlate categorical features with our solution goal.\n",
    "\n",
    "**Observations.**\n",
    "\n",
    "- Female passengers had much better survival rate than males. Confirms classifying (#1).\n",
    "- Exception in Embarked=C where males had higher survival rate. This could be a correlation between Pclass and Embarked and in turn Pclass and Survived, not necessarily direct correlation between Embarked and Survived.\n",
    "- Males had better survival rate in Pclass=3 when compared with Pclass=2 for C and Q ports. Completing (#2).\n",
    "- Ports of embarkation have varying survival rates for Pclass=3 and among male passengers. Correlating (#1).\n",
    "\n",
    "**Decisions.**\n",
    "\n",
    "- Add Sex feature to model training.\n",
    "- Complete and add Embarked feature to model training."
   ]
  },
  {
   "cell_type": "code",
   "execution_count": 270,
   "metadata": {
    "_cell_guid": "db57aabd-0e26-9ff9-9ebd-56d401cdf6e8",
    "_uuid": "c0e1f01b3f58e8f31b938b0e5eb1733132edc8ad",
    "collapsed": true
   },
   "outputs": [
    {
     "output_type": "execute_result",
     "data": {
      "text/plain": "<seaborn.axisgrid.FacetGrid at 0x18ed1b06070>"
     },
     "metadata": {},
     "execution_count": 270
    },
    {
     "output_type": "display_data",
     "data": {
      "text/plain": "<Figure size 323.94x475.2 with 3 Axes>",
      "image/svg+xml": "<?xml version=\"1.0\" encoding=\"utf-8\" standalone=\"no\"?>\r\n<!DOCTYPE svg PUBLIC \"-//W3C//DTD SVG 1.1//EN\"\r\n  \"http://www.w3.org/Graphics/SVG/1.1/DTD/svg11.dtd\">\r\n<!-- Created with matplotlib (https://matplotlib.org/) -->\r\n<svg height=\"466.954688pt\" version=\"1.1\" viewBox=\"0 0 315.187112 466.954688\" width=\"315.187112pt\" xmlns=\"http://www.w3.org/2000/svg\" xmlns:xlink=\"http://www.w3.org/1999/xlink\">\r\n <defs>\r\n  <style type=\"text/css\">\r\n*{stroke-linecap:butt;stroke-linejoin:round;}\r\n  </style>\r\n </defs>\r\n <g id=\"figure_1\">\r\n  <g id=\"patch_1\">\r\n   <path d=\"M 0 466.954688 \r\nL 315.187112 466.954688 \r\nL 315.187112 0 \r\nL 0 0 \r\nz\r\n\" style=\"fill:none;\"/>\r\n  </g>\r\n  <g id=\"axes_1\">\r\n   <g id=\"patch_2\">\r\n    <path d=\"M 50.14375 138.131771 \r\nL 239.247712 138.131771 \r\nL 239.247712 20.798437 \r\nL 50.14375 20.798437 \r\nz\r\n\" style=\"fill:#ffffff;\"/>\r\n   </g>\r\n   <g id=\"PathCollection_1\">\r\n    <defs>\r\n     <path d=\"M 0 3.383948 \r\nC 0.897434 3.383948 1.758231 3.027394 2.392813 2.392813 \r\nC 3.027394 1.758231 3.383948 0.897434 3.383948 0 \r\nC 3.383948 -0.897434 3.027394 -1.758231 2.392813 -2.392813 \r\nC 1.758231 -3.027394 0.897434 -3.383948 0 -3.383948 \r\nC -0.897434 -3.383948 -1.758231 -3.027394 -2.392813 -2.392813 \r\nC -3.027394 -1.758231 -3.383948 -0.897434 -3.383948 0 \r\nC -3.383948 0.897434 -3.027394 1.758231 -2.392813 2.392813 \r\nC -1.758231 3.027394 -0.897434 3.383948 0 3.383948 \r\nz\r\n\" id=\"m943240f85d\" style=\"stroke:#4c72b0;stroke-width:2.025;\"/>\r\n    </defs>\r\n    <g clip-path=\"url(#pac08b46d32)\">\r\n     <use style=\"fill:#4c72b0;stroke:#4c72b0;stroke-width:2.025;\" x=\"81.661077\" xlink:href=\"#m943240f85d\" y=\"94.99253\"/>\r\n     <use style=\"fill:#4c72b0;stroke:#4c72b0;stroke-width:2.025;\" x=\"144.695731\" xlink:href=\"#m943240f85d\" y=\"116.303592\"/>\r\n     <use style=\"fill:#4c72b0;stroke:#4c72b0;stroke-width:2.025;\" x=\"207.730385\" xlink:href=\"#m943240f85d\" y=\"119.112903\"/>\r\n    </g>\r\n   </g>\r\n   <g id=\"line2d_1\">\r\n    <path clip-path=\"url(#pac08b46d32)\" d=\"M 81.661077 94.99253 \r\nL 144.695731 116.303592 \r\nL 207.730385 119.112903 \r\n\" style=\"fill:none;stroke:#4c72b0;stroke-linecap:square;stroke-width:2.7;\"/>\r\n   </g>\r\n   <g id=\"line2d_2\">\r\n    <path clip-path=\"url(#pac08b46d32)\" d=\"M 81.661077 105.794218 \r\nL 81.661077 82.840632 \r\n\" style=\"fill:none;stroke:#4c72b0;stroke-linecap:square;stroke-width:2.7;\"/>\r\n   </g>\r\n   <g id=\"line2d_3\">\r\n    <path clip-path=\"url(#pac08b46d32)\" d=\"M 144.695731 122.90153 \r\nL 144.695731 108.605998 \r\n\" style=\"fill:none;stroke:#4c72b0;stroke-linecap:square;stroke-width:2.7;\"/>\r\n   </g>\r\n   <g id=\"line2d_4\">\r\n    <path clip-path=\"url(#pac08b46d32)\" d=\"M 207.730385 122.735544 \r\nL 207.730385 114.68523 \r\n\" style=\"fill:none;stroke:#4c72b0;stroke-linecap:square;stroke-width:2.7;\"/>\r\n   </g>\r\n   <g id=\"matplotlib.axis_1\">\r\n    <g id=\"xtick_1\">\r\n     <g id=\"line2d_5\">\r\n      <defs>\r\n       <path d=\"M 0 0 \r\nL 0 3.5 \r\n\" id=\"m0b3bc1afe7\" style=\"stroke:#000000;stroke-width:0.8;\"/>\r\n      </defs>\r\n      <g>\r\n       <use style=\"stroke:#000000;stroke-width:0.8;\" x=\"81.661077\" xlink:href=\"#m0b3bc1afe7\" y=\"138.131771\"/>\r\n      </g>\r\n     </g>\r\n    </g>\r\n    <g id=\"xtick_2\">\r\n     <g id=\"line2d_6\">\r\n      <g>\r\n       <use style=\"stroke:#000000;stroke-width:0.8;\" x=\"144.695731\" xlink:href=\"#m0b3bc1afe7\" y=\"138.131771\"/>\r\n      </g>\r\n     </g>\r\n    </g>\r\n    <g id=\"xtick_3\">\r\n     <g id=\"line2d_7\">\r\n      <g>\r\n       <use style=\"stroke:#000000;stroke-width:0.8;\" x=\"207.730385\" xlink:href=\"#m0b3bc1afe7\" y=\"138.131771\"/>\r\n      </g>\r\n     </g>\r\n    </g>\r\n   </g>\r\n   <g id=\"matplotlib.axis_2\">\r\n    <g id=\"ytick_1\">\r\n     <g id=\"line2d_8\">\r\n      <defs>\r\n       <path d=\"M 0 0 \r\nL -3.5 0 \r\n\" id=\"mbd1116d976\" style=\"stroke:#000000;stroke-width:0.8;\"/>\r\n      </defs>\r\n      <g>\r\n       <use style=\"stroke:#000000;stroke-width:0.8;\" x=\"50.14375\" xlink:href=\"#mbd1116d976\" y=\"132.798438\"/>\r\n      </g>\r\n     </g>\r\n     <g id=\"text_1\">\r\n      <!-- 0.00 -->\r\n      <defs>\r\n       <path d=\"M 31.78125 66.40625 \r\nQ 24.171875 66.40625 20.328125 58.90625 \r\nQ 16.5 51.421875 16.5 36.375 \r\nQ 16.5 21.390625 20.328125 13.890625 \r\nQ 24.171875 6.390625 31.78125 6.390625 \r\nQ 39.453125 6.390625 43.28125 13.890625 \r\nQ 47.125 21.390625 47.125 36.375 \r\nQ 47.125 51.421875 43.28125 58.90625 \r\nQ 39.453125 66.40625 31.78125 66.40625 \r\nz\r\nM 31.78125 74.21875 \r\nQ 44.046875 74.21875 50.515625 64.515625 \r\nQ 56.984375 54.828125 56.984375 36.375 \r\nQ 56.984375 17.96875 50.515625 8.265625 \r\nQ 44.046875 -1.421875 31.78125 -1.421875 \r\nQ 19.53125 -1.421875 13.0625 8.265625 \r\nQ 6.59375 17.96875 6.59375 36.375 \r\nQ 6.59375 54.828125 13.0625 64.515625 \r\nQ 19.53125 74.21875 31.78125 74.21875 \r\nz\r\n\" id=\"DejaVuSans-48\"/>\r\n       <path d=\"M 10.6875 12.40625 \r\nL 21 12.40625 \r\nL 21 0 \r\nL 10.6875 0 \r\nz\r\n\" id=\"DejaVuSans-46\"/>\r\n      </defs>\r\n      <g transform=\"translate(20.878125 136.597656)scale(0.1 -0.1)\">\r\n       <use xlink:href=\"#DejaVuSans-48\"/>\r\n       <use x=\"63.623047\" xlink:href=\"#DejaVuSans-46\"/>\r\n       <use x=\"95.410156\" xlink:href=\"#DejaVuSans-48\"/>\r\n       <use x=\"159.033203\" xlink:href=\"#DejaVuSans-48\"/>\r\n      </g>\r\n     </g>\r\n    </g>\r\n    <g id=\"ytick_2\">\r\n     <g id=\"line2d_9\">\r\n      <g>\r\n       <use style=\"stroke:#000000;stroke-width:0.8;\" x=\"50.14375\" xlink:href=\"#mbd1116d976\" y=\"106.131771\"/>\r\n      </g>\r\n     </g>\r\n     <g id=\"text_2\">\r\n      <!-- 0.25 -->\r\n      <defs>\r\n       <path d=\"M 19.1875 8.296875 \r\nL 53.609375 8.296875 \r\nL 53.609375 0 \r\nL 7.328125 0 \r\nL 7.328125 8.296875 \r\nQ 12.9375 14.109375 22.625 23.890625 \r\nQ 32.328125 33.6875 34.8125 36.53125 \r\nQ 39.546875 41.84375 41.421875 45.53125 \r\nQ 43.3125 49.21875 43.3125 52.78125 \r\nQ 43.3125 58.59375 39.234375 62.25 \r\nQ 35.15625 65.921875 28.609375 65.921875 \r\nQ 23.96875 65.921875 18.8125 64.3125 \r\nQ 13.671875 62.703125 7.8125 59.421875 \r\nL 7.8125 69.390625 \r\nQ 13.765625 71.78125 18.9375 73 \r\nQ 24.125 74.21875 28.421875 74.21875 \r\nQ 39.75 74.21875 46.484375 68.546875 \r\nQ 53.21875 62.890625 53.21875 53.421875 \r\nQ 53.21875 48.921875 51.53125 44.890625 \r\nQ 49.859375 40.875 45.40625 35.40625 \r\nQ 44.1875 33.984375 37.640625 27.21875 \r\nQ 31.109375 20.453125 19.1875 8.296875 \r\nz\r\n\" id=\"DejaVuSans-50\"/>\r\n       <path d=\"M 10.796875 72.90625 \r\nL 49.515625 72.90625 \r\nL 49.515625 64.59375 \r\nL 19.828125 64.59375 \r\nL 19.828125 46.734375 \r\nQ 21.96875 47.46875 24.109375 47.828125 \r\nQ 26.265625 48.1875 28.421875 48.1875 \r\nQ 40.625 48.1875 47.75 41.5 \r\nQ 54.890625 34.8125 54.890625 23.390625 \r\nQ 54.890625 11.625 47.5625 5.09375 \r\nQ 40.234375 -1.421875 26.90625 -1.421875 \r\nQ 22.3125 -1.421875 17.546875 -0.640625 \r\nQ 12.796875 0.140625 7.71875 1.703125 \r\nL 7.71875 11.625 \r\nQ 12.109375 9.234375 16.796875 8.0625 \r\nQ 21.484375 6.890625 26.703125 6.890625 \r\nQ 35.15625 6.890625 40.078125 11.328125 \r\nQ 45.015625 15.765625 45.015625 23.390625 \r\nQ 45.015625 31 40.078125 35.4375 \r\nQ 35.15625 39.890625 26.703125 39.890625 \r\nQ 22.75 39.890625 18.8125 39.015625 \r\nQ 14.890625 38.140625 10.796875 36.28125 \r\nz\r\n\" id=\"DejaVuSans-53\"/>\r\n      </defs>\r\n      <g transform=\"translate(20.878125 109.93099)scale(0.1 -0.1)\">\r\n       <use xlink:href=\"#DejaVuSans-48\"/>\r\n       <use x=\"63.623047\" xlink:href=\"#DejaVuSans-46\"/>\r\n       <use x=\"95.410156\" xlink:href=\"#DejaVuSans-50\"/>\r\n       <use x=\"159.033203\" xlink:href=\"#DejaVuSans-53\"/>\r\n      </g>\r\n     </g>\r\n    </g>\r\n    <g id=\"ytick_3\">\r\n     <g id=\"line2d_10\">\r\n      <g>\r\n       <use style=\"stroke:#000000;stroke-width:0.8;\" x=\"50.14375\" xlink:href=\"#mbd1116d976\" y=\"79.465104\"/>\r\n      </g>\r\n     </g>\r\n     <g id=\"text_3\">\r\n      <!-- 0.50 -->\r\n      <g transform=\"translate(20.878125 83.264323)scale(0.1 -0.1)\">\r\n       <use xlink:href=\"#DejaVuSans-48\"/>\r\n       <use x=\"63.623047\" xlink:href=\"#DejaVuSans-46\"/>\r\n       <use x=\"95.410156\" xlink:href=\"#DejaVuSans-53\"/>\r\n       <use x=\"159.033203\" xlink:href=\"#DejaVuSans-48\"/>\r\n      </g>\r\n     </g>\r\n    </g>\r\n    <g id=\"ytick_4\">\r\n     <g id=\"line2d_11\">\r\n      <g>\r\n       <use style=\"stroke:#000000;stroke-width:0.8;\" x=\"50.14375\" xlink:href=\"#mbd1116d976\" y=\"52.798437\"/>\r\n      </g>\r\n     </g>\r\n     <g id=\"text_4\">\r\n      <!-- 0.75 -->\r\n      <defs>\r\n       <path d=\"M 8.203125 72.90625 \r\nL 55.078125 72.90625 \r\nL 55.078125 68.703125 \r\nL 28.609375 0 \r\nL 18.3125 0 \r\nL 43.21875 64.59375 \r\nL 8.203125 64.59375 \r\nz\r\n\" id=\"DejaVuSans-55\"/>\r\n      </defs>\r\n      <g transform=\"translate(20.878125 56.597656)scale(0.1 -0.1)\">\r\n       <use xlink:href=\"#DejaVuSans-48\"/>\r\n       <use x=\"63.623047\" xlink:href=\"#DejaVuSans-46\"/>\r\n       <use x=\"95.410156\" xlink:href=\"#DejaVuSans-55\"/>\r\n       <use x=\"159.033203\" xlink:href=\"#DejaVuSans-53\"/>\r\n      </g>\r\n     </g>\r\n    </g>\r\n    <g id=\"ytick_5\">\r\n     <g id=\"line2d_12\">\r\n      <g>\r\n       <use style=\"stroke:#000000;stroke-width:0.8;\" x=\"50.14375\" xlink:href=\"#mbd1116d976\" y=\"26.131771\"/>\r\n      </g>\r\n     </g>\r\n     <g id=\"text_5\">\r\n      <!-- 1.00 -->\r\n      <defs>\r\n       <path d=\"M 12.40625 8.296875 \r\nL 28.515625 8.296875 \r\nL 28.515625 63.921875 \r\nL 10.984375 60.40625 \r\nL 10.984375 69.390625 \r\nL 28.421875 72.90625 \r\nL 38.28125 72.90625 \r\nL 38.28125 8.296875 \r\nL 54.390625 8.296875 \r\nL 54.390625 0 \r\nL 12.40625 0 \r\nz\r\n\" id=\"DejaVuSans-49\"/>\r\n      </defs>\r\n      <g transform=\"translate(20.878125 29.93099)scale(0.1 -0.1)\">\r\n       <use xlink:href=\"#DejaVuSans-49\"/>\r\n       <use x=\"63.623047\" xlink:href=\"#DejaVuSans-46\"/>\r\n       <use x=\"95.410156\" xlink:href=\"#DejaVuSans-48\"/>\r\n       <use x=\"159.033203\" xlink:href=\"#DejaVuSans-48\"/>\r\n      </g>\r\n     </g>\r\n    </g>\r\n    <g id=\"text_6\">\r\n     <!-- Survived -->\r\n     <defs>\r\n      <path d=\"M 53.515625 70.515625 \r\nL 53.515625 60.890625 \r\nQ 47.90625 63.578125 42.921875 64.890625 \r\nQ 37.9375 66.21875 33.296875 66.21875 \r\nQ 25.25 66.21875 20.875 63.09375 \r\nQ 16.5 59.96875 16.5 54.203125 \r\nQ 16.5 49.359375 19.40625 46.890625 \r\nQ 22.3125 44.4375 30.421875 42.921875 \r\nL 36.375 41.703125 \r\nQ 47.40625 39.59375 52.65625 34.296875 \r\nQ 57.90625 29 57.90625 20.125 \r\nQ 57.90625 9.515625 50.796875 4.046875 \r\nQ 43.703125 -1.421875 29.984375 -1.421875 \r\nQ 24.8125 -1.421875 18.96875 -0.25 \r\nQ 13.140625 0.921875 6.890625 3.21875 \r\nL 6.890625 13.375 \r\nQ 12.890625 10.015625 18.65625 8.296875 \r\nQ 24.421875 6.59375 29.984375 6.59375 \r\nQ 38.421875 6.59375 43.015625 9.90625 \r\nQ 47.609375 13.234375 47.609375 19.390625 \r\nQ 47.609375 24.75 44.3125 27.78125 \r\nQ 41.015625 30.8125 33.5 32.328125 \r\nL 27.484375 33.5 \r\nQ 16.453125 35.6875 11.515625 40.375 \r\nQ 6.59375 45.0625 6.59375 53.421875 \r\nQ 6.59375 63.09375 13.40625 68.65625 \r\nQ 20.21875 74.21875 32.171875 74.21875 \r\nQ 37.3125 74.21875 42.625 73.28125 \r\nQ 47.953125 72.359375 53.515625 70.515625 \r\nz\r\n\" id=\"DejaVuSans-83\"/>\r\n      <path d=\"M 8.5 21.578125 \r\nL 8.5 54.6875 \r\nL 17.484375 54.6875 \r\nL 17.484375 21.921875 \r\nQ 17.484375 14.15625 20.5 10.265625 \r\nQ 23.53125 6.390625 29.59375 6.390625 \r\nQ 36.859375 6.390625 41.078125 11.03125 \r\nQ 45.3125 15.671875 45.3125 23.6875 \r\nL 45.3125 54.6875 \r\nL 54.296875 54.6875 \r\nL 54.296875 0 \r\nL 45.3125 0 \r\nL 45.3125 8.40625 \r\nQ 42.046875 3.421875 37.71875 1 \r\nQ 33.40625 -1.421875 27.6875 -1.421875 \r\nQ 18.265625 -1.421875 13.375 4.4375 \r\nQ 8.5 10.296875 8.5 21.578125 \r\nz\r\nM 31.109375 56 \r\nz\r\n\" id=\"DejaVuSans-117\"/>\r\n      <path d=\"M 41.109375 46.296875 \r\nQ 39.59375 47.171875 37.8125 47.578125 \r\nQ 36.03125 48 33.890625 48 \r\nQ 26.265625 48 22.1875 43.046875 \r\nQ 18.109375 38.09375 18.109375 28.8125 \r\nL 18.109375 0 \r\nL 9.078125 0 \r\nL 9.078125 54.6875 \r\nL 18.109375 54.6875 \r\nL 18.109375 46.1875 \r\nQ 20.953125 51.171875 25.484375 53.578125 \r\nQ 30.03125 56 36.53125 56 \r\nQ 37.453125 56 38.578125 55.875 \r\nQ 39.703125 55.765625 41.0625 55.515625 \r\nz\r\n\" id=\"DejaVuSans-114\"/>\r\n      <path d=\"M 2.984375 54.6875 \r\nL 12.5 54.6875 \r\nL 29.59375 8.796875 \r\nL 46.6875 54.6875 \r\nL 56.203125 54.6875 \r\nL 35.6875 0 \r\nL 23.484375 0 \r\nz\r\n\" id=\"DejaVuSans-118\"/>\r\n      <path d=\"M 9.421875 54.6875 \r\nL 18.40625 54.6875 \r\nL 18.40625 0 \r\nL 9.421875 0 \r\nz\r\nM 9.421875 75.984375 \r\nL 18.40625 75.984375 \r\nL 18.40625 64.59375 \r\nL 9.421875 64.59375 \r\nz\r\n\" id=\"DejaVuSans-105\"/>\r\n      <path d=\"M 56.203125 29.59375 \r\nL 56.203125 25.203125 \r\nL 14.890625 25.203125 \r\nQ 15.484375 15.921875 20.484375 11.0625 \r\nQ 25.484375 6.203125 34.421875 6.203125 \r\nQ 39.59375 6.203125 44.453125 7.46875 \r\nQ 49.3125 8.734375 54.109375 11.28125 \r\nL 54.109375 2.78125 \r\nQ 49.265625 0.734375 44.1875 -0.34375 \r\nQ 39.109375 -1.421875 33.890625 -1.421875 \r\nQ 20.796875 -1.421875 13.15625 6.1875 \r\nQ 5.515625 13.8125 5.515625 26.8125 \r\nQ 5.515625 40.234375 12.765625 48.109375 \r\nQ 20.015625 56 32.328125 56 \r\nQ 43.359375 56 49.78125 48.890625 \r\nQ 56.203125 41.796875 56.203125 29.59375 \r\nz\r\nM 47.21875 32.234375 \r\nQ 47.125 39.59375 43.09375 43.984375 \r\nQ 39.0625 48.390625 32.421875 48.390625 \r\nQ 24.90625 48.390625 20.390625 44.140625 \r\nQ 15.875 39.890625 15.1875 32.171875 \r\nz\r\n\" id=\"DejaVuSans-101\"/>\r\n      <path d=\"M 45.40625 46.390625 \r\nL 45.40625 75.984375 \r\nL 54.390625 75.984375 \r\nL 54.390625 0 \r\nL 45.40625 0 \r\nL 45.40625 8.203125 \r\nQ 42.578125 3.328125 38.25 0.953125 \r\nQ 33.9375 -1.421875 27.875 -1.421875 \r\nQ 17.96875 -1.421875 11.734375 6.484375 \r\nQ 5.515625 14.40625 5.515625 27.296875 \r\nQ 5.515625 40.1875 11.734375 48.09375 \r\nQ 17.96875 56 27.875 56 \r\nQ 33.9375 56 38.25 53.625 \r\nQ 42.578125 51.265625 45.40625 46.390625 \r\nz\r\nM 14.796875 27.296875 \r\nQ 14.796875 17.390625 18.875 11.75 \r\nQ 22.953125 6.109375 30.078125 6.109375 \r\nQ 37.203125 6.109375 41.296875 11.75 \r\nQ 45.40625 17.390625 45.40625 27.296875 \r\nQ 45.40625 37.203125 41.296875 42.84375 \r\nQ 37.203125 48.484375 30.078125 48.484375 \r\nQ 22.953125 48.484375 18.875 42.84375 \r\nQ 14.796875 37.203125 14.796875 27.296875 \r\nz\r\n\" id=\"DejaVuSans-100\"/>\r\n     </defs>\r\n     <g transform=\"translate(14.798438 101.422135)rotate(-90)scale(0.1 -0.1)\">\r\n      <use xlink:href=\"#DejaVuSans-83\"/>\r\n      <use x=\"63.476562\" xlink:href=\"#DejaVuSans-117\"/>\r\n      <use x=\"126.855469\" xlink:href=\"#DejaVuSans-114\"/>\r\n      <use x=\"167.96875\" xlink:href=\"#DejaVuSans-118\"/>\r\n      <use x=\"227.148438\" xlink:href=\"#DejaVuSans-105\"/>\r\n      <use x=\"254.931641\" xlink:href=\"#DejaVuSans-118\"/>\r\n      <use x=\"314.111328\" xlink:href=\"#DejaVuSans-101\"/>\r\n      <use x=\"375.634766\" xlink:href=\"#DejaVuSans-100\"/>\r\n     </g>\r\n    </g>\r\n   </g>\r\n   <g id=\"PathCollection_2\">\r\n    <defs>\r\n     <path d=\"M 0 3.383948 \r\nC 0.897434 3.383948 1.758231 3.027394 2.392813 2.392813 \r\nC 3.027394 1.758231 3.383948 0.897434 3.383948 0 \r\nC 3.383948 -0.897434 3.027394 -1.758231 2.392813 -2.392813 \r\nC 1.758231 -3.027394 0.897434 -3.383948 0 -3.383948 \r\nC -0.897434 -3.383948 -1.758231 -3.027394 -2.392813 -2.392813 \r\nC -3.027394 -1.758231 -3.383948 -0.897434 -3.383948 0 \r\nC -3.383948 0.897434 -3.027394 1.758231 -2.392813 2.392813 \r\nC -1.758231 3.027394 -0.897434 3.383948 0 3.383948 \r\nz\r\n\" id=\"m58e668d6be\" style=\"stroke:#dd8452;stroke-width:2.025;\"/>\r\n    </defs>\r\n    <g clip-path=\"url(#pac08b46d32)\">\r\n     <use style=\"fill:#dd8452;stroke:#dd8452;stroke-width:2.025;\" x=\"81.661077\" xlink:href=\"#m58e668d6be\" y=\"30.576215\"/>\r\n     <use style=\"fill:#dd8452;stroke:#dd8452;stroke-width:2.025;\" x=\"144.695731\" xlink:href=\"#m58e668d6be\" y=\"35.68401\"/>\r\n     <use style=\"fill:#dd8452;stroke:#dd8452;stroke-width:2.025;\" x=\"207.730385\" xlink:href=\"#m58e668d6be\" y=\"92.798438\"/>\r\n    </g>\r\n   </g>\r\n   <g id=\"line2d_13\">\r\n    <path clip-path=\"url(#pac08b46d32)\" d=\"M 81.661077 30.576215 \r\nL 144.695731 35.68401 \r\nL 207.730385 92.798438 \r\n\" style=\"fill:none;stroke:#dd8452;stroke-linecap:square;stroke-width:2.7;\"/>\r\n   </g>\r\n   <g id=\"line2d_14\">\r\n    <path clip-path=\"url(#pac08b46d32)\" d=\"M 81.661077 37.242882 \r\nL 81.661077 26.131771 \r\n\" style=\"fill:none;stroke:#dd8452;stroke-linecap:square;stroke-width:2.7;\"/>\r\n   </g>\r\n   <g id=\"line2d_15\">\r\n    <path clip-path=\"url(#pac08b46d32)\" d=\"M 144.695731 43.644209 \r\nL 144.695731 29.31585 \r\n\" style=\"fill:none;stroke:#dd8452;stroke-linecap:square;stroke-width:2.7;\"/>\r\n   </g>\r\n   <g id=\"line2d_16\">\r\n    <path clip-path=\"url(#pac08b46d32)\" d=\"M 207.730385 102.495407 \r\nL 207.730385 81.889347 \r\n\" style=\"fill:none;stroke:#dd8452;stroke-linecap:square;stroke-width:2.7;\"/>\r\n   </g>\r\n   <g id=\"patch_3\">\r\n    <path d=\"M 50.14375 138.131771 \r\nL 50.14375 20.798437 \r\n\" style=\"fill:none;stroke:#000000;stroke-linecap:square;stroke-linejoin:miter;stroke-width:0.8;\"/>\r\n   </g>\r\n   <g id=\"patch_4\">\r\n    <path d=\"M 50.14375 138.131771 \r\nL 239.247712 138.131771 \r\n\" style=\"fill:none;stroke:#000000;stroke-linecap:square;stroke-linejoin:miter;stroke-width:0.8;\"/>\r\n   </g>\r\n   <g id=\"text_7\">\r\n    <!-- Embarked = S -->\r\n    <defs>\r\n     <path d=\"M 9.8125 72.90625 \r\nL 55.90625 72.90625 \r\nL 55.90625 64.59375 \r\nL 19.671875 64.59375 \r\nL 19.671875 43.015625 \r\nL 54.390625 43.015625 \r\nL 54.390625 34.71875 \r\nL 19.671875 34.71875 \r\nL 19.671875 8.296875 \r\nL 56.78125 8.296875 \r\nL 56.78125 0 \r\nL 9.8125 0 \r\nz\r\n\" id=\"DejaVuSans-69\"/>\r\n     <path d=\"M 52 44.1875 \r\nQ 55.375 50.25 60.0625 53.125 \r\nQ 64.75 56 71.09375 56 \r\nQ 79.640625 56 84.28125 50.015625 \r\nQ 88.921875 44.046875 88.921875 33.015625 \r\nL 88.921875 0 \r\nL 79.890625 0 \r\nL 79.890625 32.71875 \r\nQ 79.890625 40.578125 77.09375 44.375 \r\nQ 74.3125 48.1875 68.609375 48.1875 \r\nQ 61.625 48.1875 57.5625 43.546875 \r\nQ 53.515625 38.921875 53.515625 30.90625 \r\nL 53.515625 0 \r\nL 44.484375 0 \r\nL 44.484375 32.71875 \r\nQ 44.484375 40.625 41.703125 44.40625 \r\nQ 38.921875 48.1875 33.109375 48.1875 \r\nQ 26.21875 48.1875 22.15625 43.53125 \r\nQ 18.109375 38.875 18.109375 30.90625 \r\nL 18.109375 0 \r\nL 9.078125 0 \r\nL 9.078125 54.6875 \r\nL 18.109375 54.6875 \r\nL 18.109375 46.1875 \r\nQ 21.1875 51.21875 25.484375 53.609375 \r\nQ 29.78125 56 35.6875 56 \r\nQ 41.65625 56 45.828125 52.96875 \r\nQ 50 49.953125 52 44.1875 \r\nz\r\n\" id=\"DejaVuSans-109\"/>\r\n     <path d=\"M 48.6875 27.296875 \r\nQ 48.6875 37.203125 44.609375 42.84375 \r\nQ 40.53125 48.484375 33.40625 48.484375 \r\nQ 26.265625 48.484375 22.1875 42.84375 \r\nQ 18.109375 37.203125 18.109375 27.296875 \r\nQ 18.109375 17.390625 22.1875 11.75 \r\nQ 26.265625 6.109375 33.40625 6.109375 \r\nQ 40.53125 6.109375 44.609375 11.75 \r\nQ 48.6875 17.390625 48.6875 27.296875 \r\nz\r\nM 18.109375 46.390625 \r\nQ 20.953125 51.265625 25.265625 53.625 \r\nQ 29.59375 56 35.59375 56 \r\nQ 45.5625 56 51.78125 48.09375 \r\nQ 58.015625 40.1875 58.015625 27.296875 \r\nQ 58.015625 14.40625 51.78125 6.484375 \r\nQ 45.5625 -1.421875 35.59375 -1.421875 \r\nQ 29.59375 -1.421875 25.265625 0.953125 \r\nQ 20.953125 3.328125 18.109375 8.203125 \r\nL 18.109375 0 \r\nL 9.078125 0 \r\nL 9.078125 75.984375 \r\nL 18.109375 75.984375 \r\nz\r\n\" id=\"DejaVuSans-98\"/>\r\n     <path d=\"M 34.28125 27.484375 \r\nQ 23.390625 27.484375 19.1875 25 \r\nQ 14.984375 22.515625 14.984375 16.5 \r\nQ 14.984375 11.71875 18.140625 8.90625 \r\nQ 21.296875 6.109375 26.703125 6.109375 \r\nQ 34.1875 6.109375 38.703125 11.40625 \r\nQ 43.21875 16.703125 43.21875 25.484375 \r\nL 43.21875 27.484375 \r\nz\r\nM 52.203125 31.203125 \r\nL 52.203125 0 \r\nL 43.21875 0 \r\nL 43.21875 8.296875 \r\nQ 40.140625 3.328125 35.546875 0.953125 \r\nQ 30.953125 -1.421875 24.3125 -1.421875 \r\nQ 15.921875 -1.421875 10.953125 3.296875 \r\nQ 6 8.015625 6 15.921875 \r\nQ 6 25.140625 12.171875 29.828125 \r\nQ 18.359375 34.515625 30.609375 34.515625 \r\nL 43.21875 34.515625 \r\nL 43.21875 35.40625 \r\nQ 43.21875 41.609375 39.140625 45 \r\nQ 35.0625 48.390625 27.6875 48.390625 \r\nQ 23 48.390625 18.546875 47.265625 \r\nQ 14.109375 46.140625 10.015625 43.890625 \r\nL 10.015625 52.203125 \r\nQ 14.9375 54.109375 19.578125 55.046875 \r\nQ 24.21875 56 28.609375 56 \r\nQ 40.484375 56 46.34375 49.84375 \r\nQ 52.203125 43.703125 52.203125 31.203125 \r\nz\r\n\" id=\"DejaVuSans-97\"/>\r\n     <path d=\"M 9.078125 75.984375 \r\nL 18.109375 75.984375 \r\nL 18.109375 31.109375 \r\nL 44.921875 54.6875 \r\nL 56.390625 54.6875 \r\nL 27.390625 29.109375 \r\nL 57.625 0 \r\nL 45.90625 0 \r\nL 18.109375 26.703125 \r\nL 18.109375 0 \r\nL 9.078125 0 \r\nz\r\n\" id=\"DejaVuSans-107\"/>\r\n     <path id=\"DejaVuSans-32\"/>\r\n     <path d=\"M 10.59375 45.40625 \r\nL 73.1875 45.40625 \r\nL 73.1875 37.203125 \r\nL 10.59375 37.203125 \r\nz\r\nM 10.59375 25.484375 \r\nL 73.1875 25.484375 \r\nL 73.1875 17.1875 \r\nL 10.59375 17.1875 \r\nz\r\n\" id=\"DejaVuSans-61\"/>\r\n    </defs>\r\n    <g transform=\"translate(108.865262 14.798437)scale(0.1 -0.1)\">\r\n     <use xlink:href=\"#DejaVuSans-69\"/>\r\n     <use x=\"63.183594\" xlink:href=\"#DejaVuSans-109\"/>\r\n     <use x=\"160.595703\" xlink:href=\"#DejaVuSans-98\"/>\r\n     <use x=\"224.072266\" xlink:href=\"#DejaVuSans-97\"/>\r\n     <use x=\"285.351562\" xlink:href=\"#DejaVuSans-114\"/>\r\n     <use x=\"326.464844\" xlink:href=\"#DejaVuSans-107\"/>\r\n     <use x=\"380.75\" xlink:href=\"#DejaVuSans-101\"/>\r\n     <use x=\"442.273438\" xlink:href=\"#DejaVuSans-100\"/>\r\n     <use x=\"505.75\" xlink:href=\"#DejaVuSans-32\"/>\r\n     <use x=\"537.537109\" xlink:href=\"#DejaVuSans-61\"/>\r\n     <use x=\"621.326172\" xlink:href=\"#DejaVuSans-32\"/>\r\n     <use x=\"653.113281\" xlink:href=\"#DejaVuSans-83\"/>\r\n    </g>\r\n   </g>\r\n  </g>\r\n  <g id=\"axes_2\">\r\n   <g id=\"patch_5\">\r\n    <path d=\"M 50.14375 283.765104 \r\nL 239.247712 283.765104 \r\nL 239.247712 166.431771 \r\nL 50.14375 166.431771 \r\nz\r\n\" style=\"fill:#ffffff;\"/>\r\n   </g>\r\n   <g id=\"PathCollection_3\">\r\n    <g clip-path=\"url(#p1367982cb9)\">\r\n     <use style=\"fill:#4c72b0;stroke:#4c72b0;stroke-width:2.025;\" x=\"81.661077\" xlink:href=\"#m943240f85d\" y=\"174.245724\"/>\r\n     <use style=\"fill:#4c72b0;stroke:#4c72b0;stroke-width:2.025;\" x=\"144.695731\" xlink:href=\"#m943240f85d\" y=\"171.765104\"/>\r\n     <use style=\"fill:#4c72b0;stroke:#4c72b0;stroke-width:2.025;\" x=\"207.730385\" xlink:href=\"#m943240f85d\" y=\"208.866553\"/>\r\n    </g>\r\n   </g>\r\n   <g id=\"line2d_17\">\r\n    <path clip-path=\"url(#p1367982cb9)\" d=\"M 81.661077 174.245724 \r\nL 144.695731 171.765104 \r\nL 207.730385 208.866553 \r\n\" style=\"fill:none;stroke:#4c72b0;stroke-linecap:square;stroke-width:2.7;\"/>\r\n   </g>\r\n   <g id=\"line2d_18\">\r\n    <path clip-path=\"url(#p1367982cb9)\" d=\"M 81.661077 179.206965 \r\nL 81.661077 171.765104 \r\n\" style=\"fill:none;stroke:#4c72b0;stroke-linecap:square;stroke-width:2.7;\"/>\r\n   </g>\r\n   <g id=\"line2d_19\">\r\n    <path clip-path=\"url(#p1367982cb9)\" d=\"M 144.695731 171.765104 \r\nL 144.695731 171.765104 \r\n\" style=\"fill:none;stroke:#4c72b0;stroke-linecap:square;stroke-width:2.7;\"/>\r\n   </g>\r\n   <g id=\"line2d_20\">\r\n    <path clip-path=\"url(#p1367982cb9)\" d=\"M 207.730385 232.054959 \r\nL 207.730385 190.315829 \r\n\" style=\"fill:none;stroke:#4c72b0;stroke-linecap:square;stroke-width:2.7;\"/>\r\n   </g>\r\n   <g id=\"matplotlib.axis_3\">\r\n    <g id=\"xtick_4\">\r\n     <g id=\"line2d_21\">\r\n      <g>\r\n       <use style=\"stroke:#000000;stroke-width:0.8;\" x=\"81.661077\" xlink:href=\"#m0b3bc1afe7\" y=\"283.765104\"/>\r\n      </g>\r\n     </g>\r\n    </g>\r\n    <g id=\"xtick_5\">\r\n     <g id=\"line2d_22\">\r\n      <g>\r\n       <use style=\"stroke:#000000;stroke-width:0.8;\" x=\"144.695731\" xlink:href=\"#m0b3bc1afe7\" y=\"283.765104\"/>\r\n      </g>\r\n     </g>\r\n    </g>\r\n    <g id=\"xtick_6\">\r\n     <g id=\"line2d_23\">\r\n      <g>\r\n       <use style=\"stroke:#000000;stroke-width:0.8;\" x=\"207.730385\" xlink:href=\"#m0b3bc1afe7\" y=\"283.765104\"/>\r\n      </g>\r\n     </g>\r\n    </g>\r\n   </g>\r\n   <g id=\"matplotlib.axis_4\">\r\n    <g id=\"ytick_6\">\r\n     <g id=\"line2d_24\">\r\n      <g>\r\n       <use style=\"stroke:#000000;stroke-width:0.8;\" x=\"50.14375\" xlink:href=\"#mbd1116d976\" y=\"278.431771\"/>\r\n      </g>\r\n     </g>\r\n     <g id=\"text_8\">\r\n      <!-- 0.00 -->\r\n      <g transform=\"translate(20.878125 282.23099)scale(0.1 -0.1)\">\r\n       <use xlink:href=\"#DejaVuSans-48\"/>\r\n       <use x=\"63.623047\" xlink:href=\"#DejaVuSans-46\"/>\r\n       <use x=\"95.410156\" xlink:href=\"#DejaVuSans-48\"/>\r\n       <use x=\"159.033203\" xlink:href=\"#DejaVuSans-48\"/>\r\n      </g>\r\n     </g>\r\n    </g>\r\n    <g id=\"ytick_7\">\r\n     <g id=\"line2d_25\">\r\n      <g>\r\n       <use style=\"stroke:#000000;stroke-width:0.8;\" x=\"50.14375\" xlink:href=\"#mbd1116d976\" y=\"251.765104\"/>\r\n      </g>\r\n     </g>\r\n     <g id=\"text_9\">\r\n      <!-- 0.25 -->\r\n      <g transform=\"translate(20.878125 255.564323)scale(0.1 -0.1)\">\r\n       <use xlink:href=\"#DejaVuSans-48\"/>\r\n       <use x=\"63.623047\" xlink:href=\"#DejaVuSans-46\"/>\r\n       <use x=\"95.410156\" xlink:href=\"#DejaVuSans-50\"/>\r\n       <use x=\"159.033203\" xlink:href=\"#DejaVuSans-53\"/>\r\n      </g>\r\n     </g>\r\n    </g>\r\n    <g id=\"ytick_8\">\r\n     <g id=\"line2d_26\">\r\n      <g>\r\n       <use style=\"stroke:#000000;stroke-width:0.8;\" x=\"50.14375\" xlink:href=\"#mbd1116d976\" y=\"225.098437\"/>\r\n      </g>\r\n     </g>\r\n     <g id=\"text_10\">\r\n      <!-- 0.50 -->\r\n      <g transform=\"translate(20.878125 228.897656)scale(0.1 -0.1)\">\r\n       <use xlink:href=\"#DejaVuSans-48\"/>\r\n       <use x=\"63.623047\" xlink:href=\"#DejaVuSans-46\"/>\r\n       <use x=\"95.410156\" xlink:href=\"#DejaVuSans-53\"/>\r\n       <use x=\"159.033203\" xlink:href=\"#DejaVuSans-48\"/>\r\n      </g>\r\n     </g>\r\n    </g>\r\n    <g id=\"ytick_9\">\r\n     <g id=\"line2d_27\">\r\n      <g>\r\n       <use style=\"stroke:#000000;stroke-width:0.8;\" x=\"50.14375\" xlink:href=\"#mbd1116d976\" y=\"198.431771\"/>\r\n      </g>\r\n     </g>\r\n     <g id=\"text_11\">\r\n      <!-- 0.75 -->\r\n      <g transform=\"translate(20.878125 202.23099)scale(0.1 -0.1)\">\r\n       <use xlink:href=\"#DejaVuSans-48\"/>\r\n       <use x=\"63.623047\" xlink:href=\"#DejaVuSans-46\"/>\r\n       <use x=\"95.410156\" xlink:href=\"#DejaVuSans-55\"/>\r\n       <use x=\"159.033203\" xlink:href=\"#DejaVuSans-53\"/>\r\n      </g>\r\n     </g>\r\n    </g>\r\n    <g id=\"ytick_10\">\r\n     <g id=\"line2d_28\">\r\n      <g>\r\n       <use style=\"stroke:#000000;stroke-width:0.8;\" x=\"50.14375\" xlink:href=\"#mbd1116d976\" y=\"171.765104\"/>\r\n      </g>\r\n     </g>\r\n     <g id=\"text_12\">\r\n      <!-- 1.00 -->\r\n      <g transform=\"translate(20.878125 175.564323)scale(0.1 -0.1)\">\r\n       <use xlink:href=\"#DejaVuSans-49\"/>\r\n       <use x=\"63.623047\" xlink:href=\"#DejaVuSans-46\"/>\r\n       <use x=\"95.410156\" xlink:href=\"#DejaVuSans-48\"/>\r\n       <use x=\"159.033203\" xlink:href=\"#DejaVuSans-48\"/>\r\n      </g>\r\n     </g>\r\n    </g>\r\n    <g id=\"text_13\">\r\n     <!-- Survived -->\r\n     <g transform=\"translate(14.798438 247.055469)rotate(-90)scale(0.1 -0.1)\">\r\n      <use xlink:href=\"#DejaVuSans-83\"/>\r\n      <use x=\"63.476562\" xlink:href=\"#DejaVuSans-117\"/>\r\n      <use x=\"126.855469\" xlink:href=\"#DejaVuSans-114\"/>\r\n      <use x=\"167.96875\" xlink:href=\"#DejaVuSans-118\"/>\r\n      <use x=\"227.148438\" xlink:href=\"#DejaVuSans-105\"/>\r\n      <use x=\"254.931641\" xlink:href=\"#DejaVuSans-118\"/>\r\n      <use x=\"314.111328\" xlink:href=\"#DejaVuSans-101\"/>\r\n      <use x=\"375.634766\" xlink:href=\"#DejaVuSans-100\"/>\r\n     </g>\r\n    </g>\r\n   </g>\r\n   <g id=\"PathCollection_4\">\r\n    <g clip-path=\"url(#p1367982cb9)\">\r\n     <use style=\"fill:#dd8452;stroke:#dd8452;stroke-width:2.025;\" x=\"81.661077\" xlink:href=\"#m58e668d6be\" y=\"235.257168\"/>\r\n     <use style=\"fill:#dd8452;stroke:#dd8452;stroke-width:2.025;\" x=\"144.695731\" xlink:href=\"#m58e668d6be\" y=\"257.098437\"/>\r\n     <use style=\"fill:#dd8452;stroke:#dd8452;stroke-width:2.025;\" x=\"207.730385\" xlink:href=\"#m58e668d6be\" y=\"253.625569\"/>\r\n    </g>\r\n   </g>\r\n   <g id=\"line2d_29\">\r\n    <path clip-path=\"url(#p1367982cb9)\" d=\"M 81.661077 235.257168 \r\nL 144.695731 257.098437 \r\nL 207.730385 253.625569 \r\n\" style=\"fill:none;stroke:#dd8452;stroke-linecap:square;stroke-width:2.7;\"/>\r\n   </g>\r\n   <g id=\"line2d_30\">\r\n    <path clip-path=\"url(#p1367982cb9)\" d=\"M 81.661077 250.495263 \r\nL 81.661077 220.019072 \r\n\" style=\"fill:none;stroke:#dd8452;stroke-linecap:square;stroke-width:2.7;\"/>\r\n   </g>\r\n   <g id=\"line2d_31\">\r\n    <path clip-path=\"url(#p1367982cb9)\" d=\"M 144.695731 278.431771 \r\nL 144.695731 225.098437 \r\n\" style=\"fill:none;stroke:#dd8452;stroke-linecap:square;stroke-width:2.7;\"/>\r\n   </g>\r\n   <g id=\"line2d_32\">\r\n    <path clip-path=\"url(#p1367982cb9)\" d=\"M 207.730385 266.02867 \r\nL 207.730385 238.741848 \r\n\" style=\"fill:none;stroke:#dd8452;stroke-linecap:square;stroke-width:2.7;\"/>\r\n   </g>\r\n   <g id=\"patch_6\">\r\n    <path d=\"M 50.14375 283.765104 \r\nL 50.14375 166.431771 \r\n\" style=\"fill:none;stroke:#000000;stroke-linecap:square;stroke-linejoin:miter;stroke-width:0.8;\"/>\r\n   </g>\r\n   <g id=\"patch_7\">\r\n    <path d=\"M 50.14375 283.765104 \r\nL 239.247712 283.765104 \r\n\" style=\"fill:none;stroke:#000000;stroke-linecap:square;stroke-linejoin:miter;stroke-width:0.8;\"/>\r\n   </g>\r\n   <g id=\"text_14\">\r\n    <!-- Embarked = C -->\r\n    <defs>\r\n     <path d=\"M 64.40625 67.28125 \r\nL 64.40625 56.890625 \r\nQ 59.421875 61.53125 53.78125 63.8125 \r\nQ 48.140625 66.109375 41.796875 66.109375 \r\nQ 29.296875 66.109375 22.65625 58.46875 \r\nQ 16.015625 50.828125 16.015625 36.375 \r\nQ 16.015625 21.96875 22.65625 14.328125 \r\nQ 29.296875 6.6875 41.796875 6.6875 \r\nQ 48.140625 6.6875 53.78125 8.984375 \r\nQ 59.421875 11.28125 64.40625 15.921875 \r\nL 64.40625 5.609375 \r\nQ 59.234375 2.09375 53.4375 0.328125 \r\nQ 47.65625 -1.421875 41.21875 -1.421875 \r\nQ 24.65625 -1.421875 15.125 8.703125 \r\nQ 5.609375 18.84375 5.609375 36.375 \r\nQ 5.609375 53.953125 15.125 64.078125 \r\nQ 24.65625 74.21875 41.21875 74.21875 \r\nQ 47.75 74.21875 53.53125 72.484375 \r\nQ 59.328125 70.75 64.40625 67.28125 \r\nz\r\n\" id=\"DejaVuSans-67\"/>\r\n    </defs>\r\n    <g transform=\"translate(108.548075 160.431771)scale(0.1 -0.1)\">\r\n     <use xlink:href=\"#DejaVuSans-69\"/>\r\n     <use x=\"63.183594\" xlink:href=\"#DejaVuSans-109\"/>\r\n     <use x=\"160.595703\" xlink:href=\"#DejaVuSans-98\"/>\r\n     <use x=\"224.072266\" xlink:href=\"#DejaVuSans-97\"/>\r\n     <use x=\"285.351562\" xlink:href=\"#DejaVuSans-114\"/>\r\n     <use x=\"326.464844\" xlink:href=\"#DejaVuSans-107\"/>\r\n     <use x=\"380.75\" xlink:href=\"#DejaVuSans-101\"/>\r\n     <use x=\"442.273438\" xlink:href=\"#DejaVuSans-100\"/>\r\n     <use x=\"505.75\" xlink:href=\"#DejaVuSans-32\"/>\r\n     <use x=\"537.537109\" xlink:href=\"#DejaVuSans-61\"/>\r\n     <use x=\"621.326172\" xlink:href=\"#DejaVuSans-32\"/>\r\n     <use x=\"653.113281\" xlink:href=\"#DejaVuSans-67\"/>\r\n    </g>\r\n   </g>\r\n  </g>\r\n  <g id=\"axes_3\">\r\n   <g id=\"patch_8\">\r\n    <path d=\"M 50.14375 429.398438 \r\nL 239.247712 429.398438 \r\nL 239.247712 312.065104 \r\nL 50.14375 312.065104 \r\nz\r\n\" style=\"fill:#ffffff;\"/>\r\n   </g>\r\n   <g id=\"PathCollection_5\">\r\n    <g clip-path=\"url(#pfe8eb53127)\">\r\n     <use style=\"fill:#4c72b0;stroke:#4c72b0;stroke-width:2.025;\" x=\"81.661077\" xlink:href=\"#m943240f85d\" y=\"424.065104\"/>\r\n     <use style=\"fill:#4c72b0;stroke:#4c72b0;stroke-width:2.025;\" x=\"144.695731\" xlink:href=\"#m943240f85d\" y=\"424.065104\"/>\r\n     <use style=\"fill:#4c72b0;stroke:#4c72b0;stroke-width:2.025;\" x=\"207.730385\" xlink:href=\"#m943240f85d\" y=\"415.859976\"/>\r\n    </g>\r\n   </g>\r\n   <g id=\"line2d_33\">\r\n    <path clip-path=\"url(#pfe8eb53127)\" d=\"M 81.661077 424.065104 \r\nL 144.695731 424.065104 \r\nL 207.730385 415.859976 \r\n\" style=\"fill:none;stroke:#4c72b0;stroke-linecap:square;stroke-width:2.7;\"/>\r\n   </g>\r\n   <g id=\"line2d_34\">\r\n    <path clip-path=\"url(#pfe8eb53127)\" d=\"M 0 0 \r\n\" style=\"fill:none;stroke:#4c72b0;stroke-linecap:square;stroke-width:2.7;\"/>\r\n   </g>\r\n   <g id=\"line2d_35\">\r\n    <path clip-path=\"url(#pfe8eb53127)\" d=\"M 0 0 \r\n\" style=\"fill:none;stroke:#4c72b0;stroke-linecap:square;stroke-width:2.7;\"/>\r\n   </g>\r\n   <g id=\"line2d_36\">\r\n    <path clip-path=\"url(#pfe8eb53127)\" d=\"M 207.730385 424.065104 \r\nL 207.730385 407.654848 \r\n\" style=\"fill:none;stroke:#4c72b0;stroke-linecap:square;stroke-width:2.7;\"/>\r\n   </g>\r\n   <g id=\"matplotlib.axis_5\">\r\n    <g id=\"xtick_7\">\r\n     <g id=\"line2d_37\">\r\n      <g>\r\n       <use style=\"stroke:#000000;stroke-width:0.8;\" x=\"81.661077\" xlink:href=\"#m0b3bc1afe7\" y=\"429.398438\"/>\r\n      </g>\r\n     </g>\r\n     <g id=\"text_15\">\r\n      <!-- 1 -->\r\n      <g transform=\"translate(78.479827 443.996875)scale(0.1 -0.1)\">\r\n       <use xlink:href=\"#DejaVuSans-49\"/>\r\n      </g>\r\n     </g>\r\n    </g>\r\n    <g id=\"xtick_8\">\r\n     <g id=\"line2d_38\">\r\n      <g>\r\n       <use style=\"stroke:#000000;stroke-width:0.8;\" x=\"144.695731\" xlink:href=\"#m0b3bc1afe7\" y=\"429.398438\"/>\r\n      </g>\r\n     </g>\r\n     <g id=\"text_16\">\r\n      <!-- 2 -->\r\n      <g transform=\"translate(141.514481 443.996875)scale(0.1 -0.1)\">\r\n       <use xlink:href=\"#DejaVuSans-50\"/>\r\n      </g>\r\n     </g>\r\n    </g>\r\n    <g id=\"xtick_9\">\r\n     <g id=\"line2d_39\">\r\n      <g>\r\n       <use style=\"stroke:#000000;stroke-width:0.8;\" x=\"207.730385\" xlink:href=\"#m0b3bc1afe7\" y=\"429.398438\"/>\r\n      </g>\r\n     </g>\r\n     <g id=\"text_17\">\r\n      <!-- 3 -->\r\n      <defs>\r\n       <path d=\"M 40.578125 39.3125 \r\nQ 47.65625 37.796875 51.625 33 \r\nQ 55.609375 28.21875 55.609375 21.1875 \r\nQ 55.609375 10.40625 48.1875 4.484375 \r\nQ 40.765625 -1.421875 27.09375 -1.421875 \r\nQ 22.515625 -1.421875 17.65625 -0.515625 \r\nQ 12.796875 0.390625 7.625 2.203125 \r\nL 7.625 11.71875 \r\nQ 11.71875 9.328125 16.59375 8.109375 \r\nQ 21.484375 6.890625 26.8125 6.890625 \r\nQ 36.078125 6.890625 40.9375 10.546875 \r\nQ 45.796875 14.203125 45.796875 21.1875 \r\nQ 45.796875 27.640625 41.28125 31.265625 \r\nQ 36.765625 34.90625 28.71875 34.90625 \r\nL 20.21875 34.90625 \r\nL 20.21875 43.015625 \r\nL 29.109375 43.015625 \r\nQ 36.375 43.015625 40.234375 45.921875 \r\nQ 44.09375 48.828125 44.09375 54.296875 \r\nQ 44.09375 59.90625 40.109375 62.90625 \r\nQ 36.140625 65.921875 28.71875 65.921875 \r\nQ 24.65625 65.921875 20.015625 65.03125 \r\nQ 15.375 64.15625 9.8125 62.3125 \r\nL 9.8125 71.09375 \r\nQ 15.4375 72.65625 20.34375 73.4375 \r\nQ 25.25 74.21875 29.59375 74.21875 \r\nQ 40.828125 74.21875 47.359375 69.109375 \r\nQ 53.90625 64.015625 53.90625 55.328125 \r\nQ 53.90625 49.265625 50.4375 45.09375 \r\nQ 46.96875 40.921875 40.578125 39.3125 \r\nz\r\n\" id=\"DejaVuSans-51\"/>\r\n      </defs>\r\n      <g transform=\"translate(204.549135 443.996875)scale(0.1 -0.1)\">\r\n       <use xlink:href=\"#DejaVuSans-51\"/>\r\n      </g>\r\n     </g>\r\n    </g>\r\n    <g id=\"text_18\">\r\n     <!-- Pclass -->\r\n     <defs>\r\n      <path d=\"M 19.671875 64.796875 \r\nL 19.671875 37.40625 \r\nL 32.078125 37.40625 \r\nQ 38.96875 37.40625 42.71875 40.96875 \r\nQ 46.484375 44.53125 46.484375 51.125 \r\nQ 46.484375 57.671875 42.71875 61.234375 \r\nQ 38.96875 64.796875 32.078125 64.796875 \r\nz\r\nM 9.8125 72.90625 \r\nL 32.078125 72.90625 \r\nQ 44.34375 72.90625 50.609375 67.359375 \r\nQ 56.890625 61.8125 56.890625 51.125 \r\nQ 56.890625 40.328125 50.609375 34.8125 \r\nQ 44.34375 29.296875 32.078125 29.296875 \r\nL 19.671875 29.296875 \r\nL 19.671875 0 \r\nL 9.8125 0 \r\nz\r\n\" id=\"DejaVuSans-80\"/>\r\n      <path d=\"M 48.78125 52.59375 \r\nL 48.78125 44.1875 \r\nQ 44.96875 46.296875 41.140625 47.34375 \r\nQ 37.3125 48.390625 33.40625 48.390625 \r\nQ 24.65625 48.390625 19.8125 42.84375 \r\nQ 14.984375 37.3125 14.984375 27.296875 \r\nQ 14.984375 17.28125 19.8125 11.734375 \r\nQ 24.65625 6.203125 33.40625 6.203125 \r\nQ 37.3125 6.203125 41.140625 7.25 \r\nQ 44.96875 8.296875 48.78125 10.40625 \r\nL 48.78125 2.09375 \r\nQ 45.015625 0.34375 40.984375 -0.53125 \r\nQ 36.96875 -1.421875 32.421875 -1.421875 \r\nQ 20.0625 -1.421875 12.78125 6.34375 \r\nQ 5.515625 14.109375 5.515625 27.296875 \r\nQ 5.515625 40.671875 12.859375 48.328125 \r\nQ 20.21875 56 33.015625 56 \r\nQ 37.15625 56 41.109375 55.140625 \r\nQ 45.0625 54.296875 48.78125 52.59375 \r\nz\r\n\" id=\"DejaVuSans-99\"/>\r\n      <path d=\"M 9.421875 75.984375 \r\nL 18.40625 75.984375 \r\nL 18.40625 0 \r\nL 9.421875 0 \r\nz\r\n\" id=\"DejaVuSans-108\"/>\r\n      <path d=\"M 44.28125 53.078125 \r\nL 44.28125 44.578125 \r\nQ 40.484375 46.53125 36.375 47.5 \r\nQ 32.28125 48.484375 27.875 48.484375 \r\nQ 21.1875 48.484375 17.84375 46.4375 \r\nQ 14.5 44.390625 14.5 40.28125 \r\nQ 14.5 37.15625 16.890625 35.375 \r\nQ 19.28125 33.59375 26.515625 31.984375 \r\nL 29.59375 31.296875 \r\nQ 39.15625 29.25 43.1875 25.515625 \r\nQ 47.21875 21.78125 47.21875 15.09375 \r\nQ 47.21875 7.46875 41.1875 3.015625 \r\nQ 35.15625 -1.421875 24.609375 -1.421875 \r\nQ 20.21875 -1.421875 15.453125 -0.5625 \r\nQ 10.6875 0.296875 5.421875 2 \r\nL 5.421875 11.28125 \r\nQ 10.40625 8.6875 15.234375 7.390625 \r\nQ 20.0625 6.109375 24.8125 6.109375 \r\nQ 31.15625 6.109375 34.5625 8.28125 \r\nQ 37.984375 10.453125 37.984375 14.40625 \r\nQ 37.984375 18.0625 35.515625 20.015625 \r\nQ 33.0625 21.96875 24.703125 23.78125 \r\nL 21.578125 24.515625 \r\nQ 13.234375 26.265625 9.515625 29.90625 \r\nQ 5.8125 33.546875 5.8125 39.890625 \r\nQ 5.8125 47.609375 11.28125 51.796875 \r\nQ 16.75 56 26.8125 56 \r\nQ 31.78125 56 36.171875 55.265625 \r\nQ 40.578125 54.546875 44.28125 53.078125 \r\nz\r\n\" id=\"DejaVuSans-115\"/>\r\n     </defs>\r\n     <g transform=\"translate(129.269168 457.675)scale(0.1 -0.1)\">\r\n      <use xlink:href=\"#DejaVuSans-80\"/>\r\n      <use x=\"60.302734\" xlink:href=\"#DejaVuSans-99\"/>\r\n      <use x=\"115.283203\" xlink:href=\"#DejaVuSans-108\"/>\r\n      <use x=\"143.066406\" xlink:href=\"#DejaVuSans-97\"/>\r\n      <use x=\"204.345703\" xlink:href=\"#DejaVuSans-115\"/>\r\n      <use x=\"256.445312\" xlink:href=\"#DejaVuSans-115\"/>\r\n     </g>\r\n    </g>\r\n   </g>\r\n   <g id=\"matplotlib.axis_6\">\r\n    <g id=\"ytick_11\">\r\n     <g id=\"line2d_40\">\r\n      <g>\r\n       <use style=\"stroke:#000000;stroke-width:0.8;\" x=\"50.14375\" xlink:href=\"#mbd1116d976\" y=\"424.065104\"/>\r\n      </g>\r\n     </g>\r\n     <g id=\"text_19\">\r\n      <!-- 0.00 -->\r\n      <g transform=\"translate(20.878125 427.864323)scale(0.1 -0.1)\">\r\n       <use xlink:href=\"#DejaVuSans-48\"/>\r\n       <use x=\"63.623047\" xlink:href=\"#DejaVuSans-46\"/>\r\n       <use x=\"95.410156\" xlink:href=\"#DejaVuSans-48\"/>\r\n       <use x=\"159.033203\" xlink:href=\"#DejaVuSans-48\"/>\r\n      </g>\r\n     </g>\r\n    </g>\r\n    <g id=\"ytick_12\">\r\n     <g id=\"line2d_41\">\r\n      <g>\r\n       <use style=\"stroke:#000000;stroke-width:0.8;\" x=\"50.14375\" xlink:href=\"#mbd1116d976\" y=\"397.398438\"/>\r\n      </g>\r\n     </g>\r\n     <g id=\"text_20\">\r\n      <!-- 0.25 -->\r\n      <g transform=\"translate(20.878125 401.197656)scale(0.1 -0.1)\">\r\n       <use xlink:href=\"#DejaVuSans-48\"/>\r\n       <use x=\"63.623047\" xlink:href=\"#DejaVuSans-46\"/>\r\n       <use x=\"95.410156\" xlink:href=\"#DejaVuSans-50\"/>\r\n       <use x=\"159.033203\" xlink:href=\"#DejaVuSans-53\"/>\r\n      </g>\r\n     </g>\r\n    </g>\r\n    <g id=\"ytick_13\">\r\n     <g id=\"line2d_42\">\r\n      <g>\r\n       <use style=\"stroke:#000000;stroke-width:0.8;\" x=\"50.14375\" xlink:href=\"#mbd1116d976\" y=\"370.731771\"/>\r\n      </g>\r\n     </g>\r\n     <g id=\"text_21\">\r\n      <!-- 0.50 -->\r\n      <g transform=\"translate(20.878125 374.53099)scale(0.1 -0.1)\">\r\n       <use xlink:href=\"#DejaVuSans-48\"/>\r\n       <use x=\"63.623047\" xlink:href=\"#DejaVuSans-46\"/>\r\n       <use x=\"95.410156\" xlink:href=\"#DejaVuSans-53\"/>\r\n       <use x=\"159.033203\" xlink:href=\"#DejaVuSans-48\"/>\r\n      </g>\r\n     </g>\r\n    </g>\r\n    <g id=\"ytick_14\">\r\n     <g id=\"line2d_43\">\r\n      <g>\r\n       <use style=\"stroke:#000000;stroke-width:0.8;\" x=\"50.14375\" xlink:href=\"#mbd1116d976\" y=\"344.065104\"/>\r\n      </g>\r\n     </g>\r\n     <g id=\"text_22\">\r\n      <!-- 0.75 -->\r\n      <g transform=\"translate(20.878125 347.864323)scale(0.1 -0.1)\">\r\n       <use xlink:href=\"#DejaVuSans-48\"/>\r\n       <use x=\"63.623047\" xlink:href=\"#DejaVuSans-46\"/>\r\n       <use x=\"95.410156\" xlink:href=\"#DejaVuSans-55\"/>\r\n       <use x=\"159.033203\" xlink:href=\"#DejaVuSans-53\"/>\r\n      </g>\r\n     </g>\r\n    </g>\r\n    <g id=\"ytick_15\">\r\n     <g id=\"line2d_44\">\r\n      <g>\r\n       <use style=\"stroke:#000000;stroke-width:0.8;\" x=\"50.14375\" xlink:href=\"#mbd1116d976\" y=\"317.398437\"/>\r\n      </g>\r\n     </g>\r\n     <g id=\"text_23\">\r\n      <!-- 1.00 -->\r\n      <g transform=\"translate(20.878125 321.197656)scale(0.1 -0.1)\">\r\n       <use xlink:href=\"#DejaVuSans-49\"/>\r\n       <use x=\"63.623047\" xlink:href=\"#DejaVuSans-46\"/>\r\n       <use x=\"95.410156\" xlink:href=\"#DejaVuSans-48\"/>\r\n       <use x=\"159.033203\" xlink:href=\"#DejaVuSans-48\"/>\r\n      </g>\r\n     </g>\r\n    </g>\r\n    <g id=\"text_24\">\r\n     <!-- Survived -->\r\n     <g transform=\"translate(14.798438 392.688802)rotate(-90)scale(0.1 -0.1)\">\r\n      <use xlink:href=\"#DejaVuSans-83\"/>\r\n      <use x=\"63.476562\" xlink:href=\"#DejaVuSans-117\"/>\r\n      <use x=\"126.855469\" xlink:href=\"#DejaVuSans-114\"/>\r\n      <use x=\"167.96875\" xlink:href=\"#DejaVuSans-118\"/>\r\n      <use x=\"227.148438\" xlink:href=\"#DejaVuSans-105\"/>\r\n      <use x=\"254.931641\" xlink:href=\"#DejaVuSans-118\"/>\r\n      <use x=\"314.111328\" xlink:href=\"#DejaVuSans-101\"/>\r\n      <use x=\"375.634766\" xlink:href=\"#DejaVuSans-100\"/>\r\n     </g>\r\n    </g>\r\n   </g>\r\n   <g id=\"PathCollection_6\">\r\n    <g clip-path=\"url(#pfe8eb53127)\">\r\n     <use style=\"fill:#dd8452;stroke:#dd8452;stroke-width:2.025;\" x=\"81.661077\" xlink:href=\"#m58e668d6be\" y=\"317.398437\"/>\r\n     <use style=\"fill:#dd8452;stroke:#dd8452;stroke-width:2.025;\" x=\"144.695731\" xlink:href=\"#m58e668d6be\" y=\"317.398437\"/>\r\n     <use style=\"fill:#dd8452;stroke:#dd8452;stroke-width:2.025;\" x=\"207.730385\" xlink:href=\"#m58e668d6be\" y=\"346.489347\"/>\r\n    </g>\r\n   </g>\r\n   <g id=\"line2d_45\">\r\n    <path clip-path=\"url(#pfe8eb53127)\" d=\"M 81.661077 317.398437 \r\nL 144.695731 317.398437 \r\nL 207.730385 346.489347 \r\n\" style=\"fill:none;stroke:#dd8452;stroke-linecap:square;stroke-width:2.7;\"/>\r\n   </g>\r\n   <g id=\"line2d_46\">\r\n    <path clip-path=\"url(#pfe8eb53127)\" d=\"M 0 0 \r\n\" style=\"fill:none;stroke:#dd8452;stroke-linecap:square;stroke-width:2.7;\"/>\r\n   </g>\r\n   <g id=\"line2d_47\">\r\n    <path clip-path=\"url(#pfe8eb53127)\" d=\"M 144.695731 317.398437 \r\nL 144.695731 317.398437 \r\n\" style=\"fill:none;stroke:#dd8452;stroke-linecap:square;stroke-width:2.7;\"/>\r\n   </g>\r\n   <g id=\"line2d_48\">\r\n    <path clip-path=\"url(#pfe8eb53127)\" d=\"M 207.730385 365.883286 \r\nL 207.730385 330.32773 \r\n\" style=\"fill:none;stroke:#dd8452;stroke-linecap:square;stroke-width:2.7;\"/>\r\n   </g>\r\n   <g id=\"patch_9\">\r\n    <path d=\"M 50.14375 429.398438 \r\nL 50.14375 312.065104 \r\n\" style=\"fill:none;stroke:#000000;stroke-linecap:square;stroke-linejoin:miter;stroke-width:0.8;\"/>\r\n   </g>\r\n   <g id=\"patch_10\">\r\n    <path d=\"M 50.14375 429.398438 \r\nL 239.247712 429.398438 \r\n\" style=\"fill:none;stroke:#000000;stroke-linecap:square;stroke-linejoin:miter;stroke-width:0.8;\"/>\r\n   </g>\r\n   <g id=\"text_25\">\r\n    <!-- Embarked = Q -->\r\n    <defs>\r\n     <path d=\"M 39.40625 66.21875 \r\nQ 28.65625 66.21875 22.328125 58.203125 \r\nQ 16.015625 50.203125 16.015625 36.375 \r\nQ 16.015625 22.609375 22.328125 14.59375 \r\nQ 28.65625 6.59375 39.40625 6.59375 \r\nQ 50.140625 6.59375 56.421875 14.59375 \r\nQ 62.703125 22.609375 62.703125 36.375 \r\nQ 62.703125 50.203125 56.421875 58.203125 \r\nQ 50.140625 66.21875 39.40625 66.21875 \r\nz\r\nM 53.21875 1.3125 \r\nL 66.21875 -12.890625 \r\nL 54.296875 -12.890625 \r\nL 43.5 -1.21875 \r\nQ 41.890625 -1.3125 41.03125 -1.359375 \r\nQ 40.1875 -1.421875 39.40625 -1.421875 \r\nQ 24.03125 -1.421875 14.8125 8.859375 \r\nQ 5.609375 19.140625 5.609375 36.375 \r\nQ 5.609375 53.65625 14.8125 63.9375 \r\nQ 24.03125 74.21875 39.40625 74.21875 \r\nQ 54.734375 74.21875 63.90625 63.9375 \r\nQ 73.09375 53.65625 73.09375 36.375 \r\nQ 73.09375 23.6875 67.984375 14.640625 \r\nQ 62.890625 5.609375 53.21875 1.3125 \r\nz\r\n\" id=\"DejaVuSans-81\"/>\r\n    </defs>\r\n    <g transform=\"translate(108.103543 306.065104)scale(0.1 -0.1)\">\r\n     <use xlink:href=\"#DejaVuSans-69\"/>\r\n     <use x=\"63.183594\" xlink:href=\"#DejaVuSans-109\"/>\r\n     <use x=\"160.595703\" xlink:href=\"#DejaVuSans-98\"/>\r\n     <use x=\"224.072266\" xlink:href=\"#DejaVuSans-97\"/>\r\n     <use x=\"285.351562\" xlink:href=\"#DejaVuSans-114\"/>\r\n     <use x=\"326.464844\" xlink:href=\"#DejaVuSans-107\"/>\r\n     <use x=\"380.75\" xlink:href=\"#DejaVuSans-101\"/>\r\n     <use x=\"442.273438\" xlink:href=\"#DejaVuSans-100\"/>\r\n     <use x=\"505.75\" xlink:href=\"#DejaVuSans-32\"/>\r\n     <use x=\"537.537109\" xlink:href=\"#DejaVuSans-61\"/>\r\n     <use x=\"621.326172\" xlink:href=\"#DejaVuSans-32\"/>\r\n     <use x=\"653.113281\" xlink:href=\"#DejaVuSans-81\"/>\r\n    </g>\r\n   </g>\r\n  </g>\r\n  <g id=\"legend_1\">\r\n   <g id=\"PathCollection_7\">\r\n    <g>\r\n     <use style=\"fill:#4c72b0;stroke:#4c72b0;stroke-width:2.025;\" x=\"253.713674\" xlink:href=\"#m943240f85d\" y=\"226.272656\"/>\r\n    </g>\r\n   </g>\r\n   <g id=\"text_26\">\r\n    <!-- male -->\r\n    <g transform=\"translate(271.713674 228.897656)scale(0.1 -0.1)\">\r\n     <use xlink:href=\"#DejaVuSans-109\"/>\r\n     <use x=\"97.412109\" xlink:href=\"#DejaVuSans-97\"/>\r\n     <use x=\"158.691406\" xlink:href=\"#DejaVuSans-108\"/>\r\n     <use x=\"186.474609\" xlink:href=\"#DejaVuSans-101\"/>\r\n    </g>\r\n   </g>\r\n   <g id=\"PathCollection_8\">\r\n    <g>\r\n     <use style=\"fill:#dd8452;stroke:#dd8452;stroke-width:2.025;\" x=\"253.713674\" xlink:href=\"#m58e668d6be\" y=\"240.950781\"/>\r\n    </g>\r\n   </g>\r\n   <g id=\"text_27\">\r\n    <!-- female -->\r\n    <defs>\r\n     <path d=\"M 37.109375 75.984375 \r\nL 37.109375 68.5 \r\nL 28.515625 68.5 \r\nQ 23.6875 68.5 21.796875 66.546875 \r\nQ 19.921875 64.59375 19.921875 59.515625 \r\nL 19.921875 54.6875 \r\nL 34.71875 54.6875 \r\nL 34.71875 47.703125 \r\nL 19.921875 47.703125 \r\nL 19.921875 0 \r\nL 10.890625 0 \r\nL 10.890625 47.703125 \r\nL 2.296875 47.703125 \r\nL 2.296875 54.6875 \r\nL 10.890625 54.6875 \r\nL 10.890625 58.5 \r\nQ 10.890625 67.625 15.140625 71.796875 \r\nQ 19.390625 75.984375 28.609375 75.984375 \r\nz\r\n\" id=\"DejaVuSans-102\"/>\r\n    </defs>\r\n    <g transform=\"translate(271.713674 243.575781)scale(0.1 -0.1)\">\r\n     <use xlink:href=\"#DejaVuSans-102\"/>\r\n     <use x=\"35.205078\" xlink:href=\"#DejaVuSans-101\"/>\r\n     <use x=\"96.728516\" xlink:href=\"#DejaVuSans-109\"/>\r\n     <use x=\"194.140625\" xlink:href=\"#DejaVuSans-97\"/>\r\n     <use x=\"255.419922\" xlink:href=\"#DejaVuSans-108\"/>\r\n     <use x=\"283.203125\" xlink:href=\"#DejaVuSans-101\"/>\r\n    </g>\r\n   </g>\r\n  </g>\r\n </g>\r\n <defs>\r\n  <clipPath id=\"pac08b46d32\">\r\n   <rect height=\"117.333333\" width=\"189.103962\" x=\"50.14375\" y=\"20.798437\"/>\r\n  </clipPath>\r\n  <clipPath id=\"p1367982cb9\">\r\n   <rect height=\"117.333333\" width=\"189.103962\" x=\"50.14375\" y=\"166.431771\"/>\r\n  </clipPath>\r\n  <clipPath id=\"pfe8eb53127\">\r\n   <rect height=\"117.333333\" width=\"189.103962\" x=\"50.14375\" y=\"312.065104\"/>\r\n  </clipPath>\r\n </defs>\r\n</svg>\r\n",
      "image/png": "[encoded data removed]"
     },
     "metadata": {
      "needs_background": "light"
     }
    }
   ],
   "source": [
    "# grid = sns.FacetGrid(train_df, col='Embarked')\n",
    "grid = sns.FacetGrid(train_df, row='Embarked', size=2.2, aspect=1.6)\n",
    "grid.map(sns.pointplot, 'Pclass', 'Survived', 'Sex', palette='deep')\n",
    "grid.add_legend()"
   ]
  },
  {
   "cell_type": "markdown",
   "metadata": {
    "_cell_guid": "6b3f73f4-4600-c1ce-34e0-bd7d9eeb074a",
    "_uuid": "fd824f937dcb80edd4117a2927cc0d7f99d934b8"
   },
   "source": [
    "### Correlating categorical and numerical features\n",
    "\n",
    "We may also want to correlate categorical features (with non-numeric values) and numeric features. We can consider correlating Embarked (Categorical non-numeric), Sex (Categorical non-numeric), Fare (Numeric continuous), with Survived (Categorical numeric).\n",
    "\n",
    "**Observations.**\n",
    "\n",
    "- Higher fare paying passengers had better survival. Confirms our assumption for creating (#4) fare ranges.\n",
    "- Port of embarkation correlates with survival rates. Confirms correlating (#1) and completing (#2).\n",
    "\n",
    "**Decisions.**\n",
    "\n",
    "- Consider banding Fare feature."
   ]
  },
  {
   "cell_type": "code",
   "execution_count": 16,
   "metadata": {
    "_cell_guid": "a21f66ac-c30d-f429-cc64-1da5460d16a9",
    "_uuid": "c8fd535ac1bc90127369027c2101dbc939db118e",
    "collapsed": true
   },
   "outputs": [
    {
     "output_type": "execute_result",
     "data": {
      "text/plain": "<seaborn.axisgrid.FacetGrid at 0x18eca843af0>"
     },
     "metadata": {},
     "execution_count": 16
    },
    {
     "output_type": "display_data",
     "data": {
      "text/plain": "<Figure size 514.88x475.2 with 6 Axes>",
      "image/svg+xml": "<?xml version=\"1.0\" encoding=\"utf-8\" standalone=\"no\"?>\r\n<!DOCTYPE svg PUBLIC \"-//W3C//DTD SVG 1.1//EN\"\r\n  \"http://www.w3.org/Graphics/SVG/1.1/DTD/svg11.dtd\">\r\n<!-- Created with matplotlib (https://matplotlib.org/) -->\r\n<svg height=\"466.998438pt\" version=\"1.1\" viewBox=\"0 0 512.43 466.998438\" width=\"512.43pt\" xmlns=\"http://www.w3.org/2000/svg\" xmlns:xlink=\"http://www.w3.org/1999/xlink\">\r\n <defs>\r\n  <style type=\"text/css\">\r\n*{stroke-linecap:butt;stroke-linejoin:round;}\r\n  </style>\r\n </defs>\r\n <g id=\"figure_1\">\r\n  <g id=\"patch_1\">\r\n   <path d=\"M 0 466.998438 \r\nL 512.43 466.998438 \r\nL 512.43 0 \r\nL 0 0 \r\nz\r\n\" style=\"fill:none;\"/>\r\n  </g>\r\n  <g id=\"axes_1\">\r\n   <g id=\"patch_2\">\r\n    <path d=\"M 40.603125 136.508854 \r\nL 261.613809 136.508854 \r\nL 261.613809 20.842187 \r\nL 40.603125 20.842187 \r\nz\r\n\" style=\"fill:#ffffff;\"/>\r\n   </g>\r\n   <g id=\"patch_3\">\r\n    <path clip-path=\"url(#p36a82b2ba7)\" d=\"M 51.653659 136.508854 \r\nL 140.057933 136.508854 \r\nL 140.057933 110.267671 \r\nL 51.653659 110.267671 \r\nz\r\n\" style=\"fill:#3274a1;opacity:0.5;\"/>\r\n   </g>\r\n   <g id=\"patch_4\">\r\n    <path clip-path=\"url(#p36a82b2ba7)\" d=\"M 162.159001 136.508854 \r\nL 250.563275 136.508854 \r\nL 250.563275 102.549951 \r\nL 162.159001 102.549951 \r\nz\r\n\" style=\"fill:#3274a1;opacity:0.5;\"/>\r\n   </g>\r\n   <g id=\"matplotlib.axis_1\">\r\n    <g id=\"xtick_1\">\r\n     <g id=\"line2d_1\">\r\n      <defs>\r\n       <path d=\"M 0 0 \r\nL 0 3.5 \r\n\" id=\"m6aa159689f\" style=\"stroke:#000000;stroke-width:0.8;\"/>\r\n      </defs>\r\n      <g>\r\n       <use style=\"stroke:#000000;stroke-width:0.8;\" x=\"95.855796\" xlink:href=\"#m6aa159689f\" y=\"136.508854\"/>\r\n      </g>\r\n     </g>\r\n    </g>\r\n    <g id=\"xtick_2\">\r\n     <g id=\"line2d_2\">\r\n      <g>\r\n       <use style=\"stroke:#000000;stroke-width:0.8;\" x=\"206.361138\" xlink:href=\"#m6aa159689f\" y=\"136.508854\"/>\r\n      </g>\r\n     </g>\r\n    </g>\r\n   </g>\r\n   <g id=\"matplotlib.axis_2\">\r\n    <g id=\"ytick_1\">\r\n     <g id=\"line2d_3\">\r\n      <defs>\r\n       <path d=\"M 0 0 \r\nL -3.5 0 \r\n\" id=\"m554ef4f35c\" style=\"stroke:#000000;stroke-width:0.8;\"/>\r\n      </defs>\r\n      <g>\r\n       <use style=\"stroke:#000000;stroke-width:0.8;\" x=\"40.603125\" xlink:href=\"#m554ef4f35c\" y=\"136.508854\"/>\r\n      </g>\r\n     </g>\r\n     <g id=\"text_1\">\r\n      <!-- 0 -->\r\n      <defs>\r\n       <path d=\"M 31.78125 66.40625 \r\nQ 24.171875 66.40625 20.328125 58.90625 \r\nQ 16.5 51.421875 16.5 36.375 \r\nQ 16.5 21.390625 20.328125 13.890625 \r\nQ 24.171875 6.390625 31.78125 6.390625 \r\nQ 39.453125 6.390625 43.28125 13.890625 \r\nQ 47.125 21.390625 47.125 36.375 \r\nQ 47.125 51.421875 43.28125 58.90625 \r\nQ 39.453125 66.40625 31.78125 66.40625 \r\nz\r\nM 31.78125 74.21875 \r\nQ 44.046875 74.21875 50.515625 64.515625 \r\nQ 56.984375 54.828125 56.984375 36.375 \r\nQ 56.984375 17.96875 50.515625 8.265625 \r\nQ 44.046875 -1.421875 31.78125 -1.421875 \r\nQ 19.53125 -1.421875 13.0625 8.265625 \r\nQ 6.59375 17.96875 6.59375 36.375 \r\nQ 6.59375 54.828125 13.0625 64.515625 \r\nQ 19.53125 74.21875 31.78125 74.21875 \r\nz\r\n\" id=\"DejaVuSans-48\"/>\r\n      </defs>\r\n      <g transform=\"translate(27.240625 140.308073)scale(0.1 -0.1)\">\r\n       <use xlink:href=\"#DejaVuSans-48\"/>\r\n      </g>\r\n     </g>\r\n    </g>\r\n    <g id=\"ytick_2\">\r\n     <g id=\"line2d_4\">\r\n      <g>\r\n       <use style=\"stroke:#000000;stroke-width:0.8;\" x=\"40.603125\" xlink:href=\"#m554ef4f35c\" y=\"110.110974\"/>\r\n      </g>\r\n     </g>\r\n     <g id=\"text_2\">\r\n      <!-- 20 -->\r\n      <defs>\r\n       <path d=\"M 19.1875 8.296875 \r\nL 53.609375 8.296875 \r\nL 53.609375 0 \r\nL 7.328125 0 \r\nL 7.328125 8.296875 \r\nQ 12.9375 14.109375 22.625 23.890625 \r\nQ 32.328125 33.6875 34.8125 36.53125 \r\nQ 39.546875 41.84375 41.421875 45.53125 \r\nQ 43.3125 49.21875 43.3125 52.78125 \r\nQ 43.3125 58.59375 39.234375 62.25 \r\nQ 35.15625 65.921875 28.609375 65.921875 \r\nQ 23.96875 65.921875 18.8125 64.3125 \r\nQ 13.671875 62.703125 7.8125 59.421875 \r\nL 7.8125 69.390625 \r\nQ 13.765625 71.78125 18.9375 73 \r\nQ 24.125 74.21875 28.421875 74.21875 \r\nQ 39.75 74.21875 46.484375 68.546875 \r\nQ 53.21875 62.890625 53.21875 53.421875 \r\nQ 53.21875 48.921875 51.53125 44.890625 \r\nQ 49.859375 40.875 45.40625 35.40625 \r\nQ 44.1875 33.984375 37.640625 27.21875 \r\nQ 31.109375 20.453125 19.1875 8.296875 \r\nz\r\n\" id=\"DejaVuSans-50\"/>\r\n      </defs>\r\n      <g transform=\"translate(20.878125 113.910193)scale(0.1 -0.1)\">\r\n       <use xlink:href=\"#DejaVuSans-50\"/>\r\n       <use x=\"63.623047\" xlink:href=\"#DejaVuSans-48\"/>\r\n      </g>\r\n     </g>\r\n    </g>\r\n    <g id=\"ytick_3\">\r\n     <g id=\"line2d_5\">\r\n      <g>\r\n       <use style=\"stroke:#000000;stroke-width:0.8;\" x=\"40.603125\" xlink:href=\"#m554ef4f35c\" y=\"83.713094\"/>\r\n      </g>\r\n     </g>\r\n     <g id=\"text_3\">\r\n      <!-- 40 -->\r\n      <defs>\r\n       <path d=\"M 37.796875 64.3125 \r\nL 12.890625 25.390625 \r\nL 37.796875 25.390625 \r\nz\r\nM 35.203125 72.90625 \r\nL 47.609375 72.90625 \r\nL 47.609375 25.390625 \r\nL 58.015625 25.390625 \r\nL 58.015625 17.1875 \r\nL 47.609375 17.1875 \r\nL 47.609375 0 \r\nL 37.796875 0 \r\nL 37.796875 17.1875 \r\nL 4.890625 17.1875 \r\nL 4.890625 26.703125 \r\nz\r\n\" id=\"DejaVuSans-52\"/>\r\n      </defs>\r\n      <g transform=\"translate(20.878125 87.512313)scale(0.1 -0.1)\">\r\n       <use xlink:href=\"#DejaVuSans-52\"/>\r\n       <use x=\"63.623047\" xlink:href=\"#DejaVuSans-48\"/>\r\n      </g>\r\n     </g>\r\n    </g>\r\n    <g id=\"ytick_4\">\r\n     <g id=\"line2d_6\">\r\n      <g>\r\n       <use style=\"stroke:#000000;stroke-width:0.8;\" x=\"40.603125\" xlink:href=\"#m554ef4f35c\" y=\"57.315215\"/>\r\n      </g>\r\n     </g>\r\n     <g id=\"text_4\">\r\n      <!-- 60 -->\r\n      <defs>\r\n       <path d=\"M 33.015625 40.375 \r\nQ 26.375 40.375 22.484375 35.828125 \r\nQ 18.609375 31.296875 18.609375 23.390625 \r\nQ 18.609375 15.53125 22.484375 10.953125 \r\nQ 26.375 6.390625 33.015625 6.390625 \r\nQ 39.65625 6.390625 43.53125 10.953125 \r\nQ 47.40625 15.53125 47.40625 23.390625 \r\nQ 47.40625 31.296875 43.53125 35.828125 \r\nQ 39.65625 40.375 33.015625 40.375 \r\nz\r\nM 52.59375 71.296875 \r\nL 52.59375 62.3125 \r\nQ 48.875 64.0625 45.09375 64.984375 \r\nQ 41.3125 65.921875 37.59375 65.921875 \r\nQ 27.828125 65.921875 22.671875 59.328125 \r\nQ 17.53125 52.734375 16.796875 39.40625 \r\nQ 19.671875 43.65625 24.015625 45.921875 \r\nQ 28.375 48.1875 33.59375 48.1875 \r\nQ 44.578125 48.1875 50.953125 41.515625 \r\nQ 57.328125 34.859375 57.328125 23.390625 \r\nQ 57.328125 12.15625 50.6875 5.359375 \r\nQ 44.046875 -1.421875 33.015625 -1.421875 \r\nQ 20.359375 -1.421875 13.671875 8.265625 \r\nQ 6.984375 17.96875 6.984375 36.375 \r\nQ 6.984375 53.65625 15.1875 63.9375 \r\nQ 23.390625 74.21875 37.203125 74.21875 \r\nQ 40.921875 74.21875 44.703125 73.484375 \r\nQ 48.484375 72.75 52.59375 71.296875 \r\nz\r\n\" id=\"DejaVuSans-54\"/>\r\n      </defs>\r\n      <g transform=\"translate(20.878125 61.114433)scale(0.1 -0.1)\">\r\n       <use xlink:href=\"#DejaVuSans-54\"/>\r\n       <use x=\"63.623047\" xlink:href=\"#DejaVuSans-48\"/>\r\n      </g>\r\n     </g>\r\n    </g>\r\n    <g id=\"ytick_5\">\r\n     <g id=\"line2d_7\">\r\n      <g>\r\n       <use style=\"stroke:#000000;stroke-width:0.8;\" x=\"40.603125\" xlink:href=\"#m554ef4f35c\" y=\"30.917335\"/>\r\n      </g>\r\n     </g>\r\n     <g id=\"text_5\">\r\n      <!-- 80 -->\r\n      <defs>\r\n       <path d=\"M 31.78125 34.625 \r\nQ 24.75 34.625 20.71875 30.859375 \r\nQ 16.703125 27.09375 16.703125 20.515625 \r\nQ 16.703125 13.921875 20.71875 10.15625 \r\nQ 24.75 6.390625 31.78125 6.390625 \r\nQ 38.8125 6.390625 42.859375 10.171875 \r\nQ 46.921875 13.96875 46.921875 20.515625 \r\nQ 46.921875 27.09375 42.890625 30.859375 \r\nQ 38.875 34.625 31.78125 34.625 \r\nz\r\nM 21.921875 38.8125 \r\nQ 15.578125 40.375 12.03125 44.71875 \r\nQ 8.5 49.078125 8.5 55.328125 \r\nQ 8.5 64.0625 14.71875 69.140625 \r\nQ 20.953125 74.21875 31.78125 74.21875 \r\nQ 42.671875 74.21875 48.875 69.140625 \r\nQ 55.078125 64.0625 55.078125 55.328125 \r\nQ 55.078125 49.078125 51.53125 44.71875 \r\nQ 48 40.375 41.703125 38.8125 \r\nQ 48.828125 37.15625 52.796875 32.3125 \r\nQ 56.78125 27.484375 56.78125 20.515625 \r\nQ 56.78125 9.90625 50.3125 4.234375 \r\nQ 43.84375 -1.421875 31.78125 -1.421875 \r\nQ 19.734375 -1.421875 13.25 4.234375 \r\nQ 6.78125 9.90625 6.78125 20.515625 \r\nQ 6.78125 27.484375 10.78125 32.3125 \r\nQ 14.796875 37.15625 21.921875 38.8125 \r\nz\r\nM 18.3125 54.390625 \r\nQ 18.3125 48.734375 21.84375 45.5625 \r\nQ 25.390625 42.390625 31.78125 42.390625 \r\nQ 38.140625 42.390625 41.71875 45.5625 \r\nQ 45.3125 48.734375 45.3125 54.390625 \r\nQ 45.3125 60.0625 41.71875 63.234375 \r\nQ 38.140625 66.40625 31.78125 66.40625 \r\nQ 25.390625 66.40625 21.84375 63.234375 \r\nQ 18.3125 60.0625 18.3125 54.390625 \r\nz\r\n\" id=\"DejaVuSans-56\"/>\r\n      </defs>\r\n      <g transform=\"translate(20.878125 34.716553)scale(0.1 -0.1)\">\r\n       <use xlink:href=\"#DejaVuSans-56\"/>\r\n       <use x=\"63.623047\" xlink:href=\"#DejaVuSans-48\"/>\r\n      </g>\r\n     </g>\r\n    </g>\r\n    <g id=\"text_6\">\r\n     <!-- Fare -->\r\n     <defs>\r\n      <path d=\"M 9.8125 72.90625 \r\nL 51.703125 72.90625 \r\nL 51.703125 64.59375 \r\nL 19.671875 64.59375 \r\nL 19.671875 43.109375 \r\nL 48.578125 43.109375 \r\nL 48.578125 34.8125 \r\nL 19.671875 34.8125 \r\nL 19.671875 0 \r\nL 9.8125 0 \r\nz\r\n\" id=\"DejaVuSans-70\"/>\r\n      <path d=\"M 34.28125 27.484375 \r\nQ 23.390625 27.484375 19.1875 25 \r\nQ 14.984375 22.515625 14.984375 16.5 \r\nQ 14.984375 11.71875 18.140625 8.90625 \r\nQ 21.296875 6.109375 26.703125 6.109375 \r\nQ 34.1875 6.109375 38.703125 11.40625 \r\nQ 43.21875 16.703125 43.21875 25.484375 \r\nL 43.21875 27.484375 \r\nz\r\nM 52.203125 31.203125 \r\nL 52.203125 0 \r\nL 43.21875 0 \r\nL 43.21875 8.296875 \r\nQ 40.140625 3.328125 35.546875 0.953125 \r\nQ 30.953125 -1.421875 24.3125 -1.421875 \r\nQ 15.921875 -1.421875 10.953125 3.296875 \r\nQ 6 8.015625 6 15.921875 \r\nQ 6 25.140625 12.171875 29.828125 \r\nQ 18.359375 34.515625 30.609375 34.515625 \r\nL 43.21875 34.515625 \r\nL 43.21875 35.40625 \r\nQ 43.21875 41.609375 39.140625 45 \r\nQ 35.0625 48.390625 27.6875 48.390625 \r\nQ 23 48.390625 18.546875 47.265625 \r\nQ 14.109375 46.140625 10.015625 43.890625 \r\nL 10.015625 52.203125 \r\nQ 14.9375 54.109375 19.578125 55.046875 \r\nQ 24.21875 56 28.609375 56 \r\nQ 40.484375 56 46.34375 49.84375 \r\nQ 52.203125 43.703125 52.203125 31.203125 \r\nz\r\n\" id=\"DejaVuSans-97\"/>\r\n      <path d=\"M 41.109375 46.296875 \r\nQ 39.59375 47.171875 37.8125 47.578125 \r\nQ 36.03125 48 33.890625 48 \r\nQ 26.265625 48 22.1875 43.046875 \r\nQ 18.109375 38.09375 18.109375 28.8125 \r\nL 18.109375 0 \r\nL 9.078125 0 \r\nL 9.078125 54.6875 \r\nL 18.109375 54.6875 \r\nL 18.109375 46.1875 \r\nQ 20.953125 51.171875 25.484375 53.578125 \r\nQ 30.03125 56 36.53125 56 \r\nQ 37.453125 56 38.578125 55.875 \r\nQ 39.703125 55.765625 41.0625 55.515625 \r\nz\r\n\" id=\"DejaVuSans-114\"/>\r\n      <path d=\"M 56.203125 29.59375 \r\nL 56.203125 25.203125 \r\nL 14.890625 25.203125 \r\nQ 15.484375 15.921875 20.484375 11.0625 \r\nQ 25.484375 6.203125 34.421875 6.203125 \r\nQ 39.59375 6.203125 44.453125 7.46875 \r\nQ 49.3125 8.734375 54.109375 11.28125 \r\nL 54.109375 2.78125 \r\nQ 49.265625 0.734375 44.1875 -0.34375 \r\nQ 39.109375 -1.421875 33.890625 -1.421875 \r\nQ 20.796875 -1.421875 13.15625 6.1875 \r\nQ 5.515625 13.8125 5.515625 26.8125 \r\nQ 5.515625 40.234375 12.765625 48.109375 \r\nQ 20.015625 56 32.328125 56 \r\nQ 43.359375 56 49.78125 48.890625 \r\nQ 56.203125 41.796875 56.203125 29.59375 \r\nz\r\nM 47.21875 32.234375 \r\nQ 47.125 39.59375 43.09375 43.984375 \r\nQ 39.0625 48.390625 32.421875 48.390625 \r\nQ 24.90625 48.390625 20.390625 44.140625 \r\nQ 15.875 39.890625 15.1875 32.171875 \r\nz\r\n\" id=\"DejaVuSans-101\"/>\r\n     </defs>\r\n     <g transform=\"translate(14.798438 89.178646)rotate(-90)scale(0.1 -0.1)\">\r\n      <use xlink:href=\"#DejaVuSans-70\"/>\r\n      <use x=\"48.394531\" xlink:href=\"#DejaVuSans-97\"/>\r\n      <use x=\"109.673828\" xlink:href=\"#DejaVuSans-114\"/>\r\n      <use x=\"148.537109\" xlink:href=\"#DejaVuSans-101\"/>\r\n     </g>\r\n    </g>\r\n   </g>\r\n   <g id=\"patch_5\">\r\n    <path d=\"M 40.603125 136.508854 \r\nL 40.603125 20.842187 \r\n\" style=\"fill:none;stroke:#000000;stroke-linecap:square;stroke-linejoin:miter;stroke-width:0.8;\"/>\r\n   </g>\r\n   <g id=\"patch_6\">\r\n    <path d=\"M 40.603125 136.508854 \r\nL 261.613809 136.508854 \r\n\" style=\"fill:none;stroke:#000000;stroke-linecap:square;stroke-linejoin:miter;stroke-width:0.8;\"/>\r\n   </g>\r\n   <g id=\"text_7\">\r\n    <!-- Embarked = S | Survived = 0 -->\r\n    <defs>\r\n     <path d=\"M 9.8125 72.90625 \r\nL 55.90625 72.90625 \r\nL 55.90625 64.59375 \r\nL 19.671875 64.59375 \r\nL 19.671875 43.015625 \r\nL 54.390625 43.015625 \r\nL 54.390625 34.71875 \r\nL 19.671875 34.71875 \r\nL 19.671875 8.296875 \r\nL 56.78125 8.296875 \r\nL 56.78125 0 \r\nL 9.8125 0 \r\nz\r\n\" id=\"DejaVuSans-69\"/>\r\n     <path d=\"M 52 44.1875 \r\nQ 55.375 50.25 60.0625 53.125 \r\nQ 64.75 56 71.09375 56 \r\nQ 79.640625 56 84.28125 50.015625 \r\nQ 88.921875 44.046875 88.921875 33.015625 \r\nL 88.921875 0 \r\nL 79.890625 0 \r\nL 79.890625 32.71875 \r\nQ 79.890625 40.578125 77.09375 44.375 \r\nQ 74.3125 48.1875 68.609375 48.1875 \r\nQ 61.625 48.1875 57.5625 43.546875 \r\nQ 53.515625 38.921875 53.515625 30.90625 \r\nL 53.515625 0 \r\nL 44.484375 0 \r\nL 44.484375 32.71875 \r\nQ 44.484375 40.625 41.703125 44.40625 \r\nQ 38.921875 48.1875 33.109375 48.1875 \r\nQ 26.21875 48.1875 22.15625 43.53125 \r\nQ 18.109375 38.875 18.109375 30.90625 \r\nL 18.109375 0 \r\nL 9.078125 0 \r\nL 9.078125 54.6875 \r\nL 18.109375 54.6875 \r\nL 18.109375 46.1875 \r\nQ 21.1875 51.21875 25.484375 53.609375 \r\nQ 29.78125 56 35.6875 56 \r\nQ 41.65625 56 45.828125 52.96875 \r\nQ 50 49.953125 52 44.1875 \r\nz\r\n\" id=\"DejaVuSans-109\"/>\r\n     <path d=\"M 48.6875 27.296875 \r\nQ 48.6875 37.203125 44.609375 42.84375 \r\nQ 40.53125 48.484375 33.40625 48.484375 \r\nQ 26.265625 48.484375 22.1875 42.84375 \r\nQ 18.109375 37.203125 18.109375 27.296875 \r\nQ 18.109375 17.390625 22.1875 11.75 \r\nQ 26.265625 6.109375 33.40625 6.109375 \r\nQ 40.53125 6.109375 44.609375 11.75 \r\nQ 48.6875 17.390625 48.6875 27.296875 \r\nz\r\nM 18.109375 46.390625 \r\nQ 20.953125 51.265625 25.265625 53.625 \r\nQ 29.59375 56 35.59375 56 \r\nQ 45.5625 56 51.78125 48.09375 \r\nQ 58.015625 40.1875 58.015625 27.296875 \r\nQ 58.015625 14.40625 51.78125 6.484375 \r\nQ 45.5625 -1.421875 35.59375 -1.421875 \r\nQ 29.59375 -1.421875 25.265625 0.953125 \r\nQ 20.953125 3.328125 18.109375 8.203125 \r\nL 18.109375 0 \r\nL 9.078125 0 \r\nL 9.078125 75.984375 \r\nL 18.109375 75.984375 \r\nz\r\n\" id=\"DejaVuSans-98\"/>\r\n     <path d=\"M 9.078125 75.984375 \r\nL 18.109375 75.984375 \r\nL 18.109375 31.109375 \r\nL 44.921875 54.6875 \r\nL 56.390625 54.6875 \r\nL 27.390625 29.109375 \r\nL 57.625 0 \r\nL 45.90625 0 \r\nL 18.109375 26.703125 \r\nL 18.109375 0 \r\nL 9.078125 0 \r\nz\r\n\" id=\"DejaVuSans-107\"/>\r\n     <path d=\"M 45.40625 46.390625 \r\nL 45.40625 75.984375 \r\nL 54.390625 75.984375 \r\nL 54.390625 0 \r\nL 45.40625 0 \r\nL 45.40625 8.203125 \r\nQ 42.578125 3.328125 38.25 0.953125 \r\nQ 33.9375 -1.421875 27.875 -1.421875 \r\nQ 17.96875 -1.421875 11.734375 6.484375 \r\nQ 5.515625 14.40625 5.515625 27.296875 \r\nQ 5.515625 40.1875 11.734375 48.09375 \r\nQ 17.96875 56 27.875 56 \r\nQ 33.9375 56 38.25 53.625 \r\nQ 42.578125 51.265625 45.40625 46.390625 \r\nz\r\nM 14.796875 27.296875 \r\nQ 14.796875 17.390625 18.875 11.75 \r\nQ 22.953125 6.109375 30.078125 6.109375 \r\nQ 37.203125 6.109375 41.296875 11.75 \r\nQ 45.40625 17.390625 45.40625 27.296875 \r\nQ 45.40625 37.203125 41.296875 42.84375 \r\nQ 37.203125 48.484375 30.078125 48.484375 \r\nQ 22.953125 48.484375 18.875 42.84375 \r\nQ 14.796875 37.203125 14.796875 27.296875 \r\nz\r\n\" id=\"DejaVuSans-100\"/>\r\n     <path id=\"DejaVuSans-32\"/>\r\n     <path d=\"M 10.59375 45.40625 \r\nL 73.1875 45.40625 \r\nL 73.1875 37.203125 \r\nL 10.59375 37.203125 \r\nz\r\nM 10.59375 25.484375 \r\nL 73.1875 25.484375 \r\nL 73.1875 17.1875 \r\nL 10.59375 17.1875 \r\nz\r\n\" id=\"DejaVuSans-61\"/>\r\n     <path d=\"M 53.515625 70.515625 \r\nL 53.515625 60.890625 \r\nQ 47.90625 63.578125 42.921875 64.890625 \r\nQ 37.9375 66.21875 33.296875 66.21875 \r\nQ 25.25 66.21875 20.875 63.09375 \r\nQ 16.5 59.96875 16.5 54.203125 \r\nQ 16.5 49.359375 19.40625 46.890625 \r\nQ 22.3125 44.4375 30.421875 42.921875 \r\nL 36.375 41.703125 \r\nQ 47.40625 39.59375 52.65625 34.296875 \r\nQ 57.90625 29 57.90625 20.125 \r\nQ 57.90625 9.515625 50.796875 4.046875 \r\nQ 43.703125 -1.421875 29.984375 -1.421875 \r\nQ 24.8125 -1.421875 18.96875 -0.25 \r\nQ 13.140625 0.921875 6.890625 3.21875 \r\nL 6.890625 13.375 \r\nQ 12.890625 10.015625 18.65625 8.296875 \r\nQ 24.421875 6.59375 29.984375 6.59375 \r\nQ 38.421875 6.59375 43.015625 9.90625 \r\nQ 47.609375 13.234375 47.609375 19.390625 \r\nQ 47.609375 24.75 44.3125 27.78125 \r\nQ 41.015625 30.8125 33.5 32.328125 \r\nL 27.484375 33.5 \r\nQ 16.453125 35.6875 11.515625 40.375 \r\nQ 6.59375 45.0625 6.59375 53.421875 \r\nQ 6.59375 63.09375 13.40625 68.65625 \r\nQ 20.21875 74.21875 32.171875 74.21875 \r\nQ 37.3125 74.21875 42.625 73.28125 \r\nQ 47.953125 72.359375 53.515625 70.515625 \r\nz\r\n\" id=\"DejaVuSans-83\"/>\r\n     <path d=\"M 21 76.421875 \r\nL 21 -23.578125 \r\nL 12.703125 -23.578125 \r\nL 12.703125 76.421875 \r\nz\r\n\" id=\"DejaVuSans-124\"/>\r\n     <path d=\"M 8.5 21.578125 \r\nL 8.5 54.6875 \r\nL 17.484375 54.6875 \r\nL 17.484375 21.921875 \r\nQ 17.484375 14.15625 20.5 10.265625 \r\nQ 23.53125 6.390625 29.59375 6.390625 \r\nQ 36.859375 6.390625 41.078125 11.03125 \r\nQ 45.3125 15.671875 45.3125 23.6875 \r\nL 45.3125 54.6875 \r\nL 54.296875 54.6875 \r\nL 54.296875 0 \r\nL 45.3125 0 \r\nL 45.3125 8.40625 \r\nQ 42.046875 3.421875 37.71875 1 \r\nQ 33.40625 -1.421875 27.6875 -1.421875 \r\nQ 18.265625 -1.421875 13.375 4.4375 \r\nQ 8.5 10.296875 8.5 21.578125 \r\nz\r\nM 31.109375 56 \r\nz\r\n\" id=\"DejaVuSans-117\"/>\r\n     <path d=\"M 2.984375 54.6875 \r\nL 12.5 54.6875 \r\nL 29.59375 8.796875 \r\nL 46.6875 54.6875 \r\nL 56.203125 54.6875 \r\nL 35.6875 0 \r\nL 23.484375 0 \r\nz\r\n\" id=\"DejaVuSans-118\"/>\r\n     <path d=\"M 9.421875 54.6875 \r\nL 18.40625 54.6875 \r\nL 18.40625 0 \r\nL 9.421875 0 \r\nz\r\nM 9.421875 75.984375 \r\nL 18.40625 75.984375 \r\nL 18.40625 64.59375 \r\nL 9.421875 64.59375 \r\nz\r\n\" id=\"DejaVuSans-105\"/>\r\n    </defs>\r\n    <g transform=\"translate(77.909248 14.842187)scale(0.1 -0.1)\">\r\n     <use xlink:href=\"#DejaVuSans-69\"/>\r\n     <use x=\"63.183594\" xlink:href=\"#DejaVuSans-109\"/>\r\n     <use x=\"160.595703\" xlink:href=\"#DejaVuSans-98\"/>\r\n     <use x=\"224.072266\" xlink:href=\"#DejaVuSans-97\"/>\r\n     <use x=\"285.351562\" xlink:href=\"#DejaVuSans-114\"/>\r\n     <use x=\"326.464844\" xlink:href=\"#DejaVuSans-107\"/>\r\n     <use x=\"380.75\" xlink:href=\"#DejaVuSans-101\"/>\r\n     <use x=\"442.273438\" xlink:href=\"#DejaVuSans-100\"/>\r\n     <use x=\"505.75\" xlink:href=\"#DejaVuSans-32\"/>\r\n     <use x=\"537.537109\" xlink:href=\"#DejaVuSans-61\"/>\r\n     <use x=\"621.326172\" xlink:href=\"#DejaVuSans-32\"/>\r\n     <use x=\"653.113281\" xlink:href=\"#DejaVuSans-83\"/>\r\n     <use x=\"716.589844\" xlink:href=\"#DejaVuSans-32\"/>\r\n     <use x=\"748.376953\" xlink:href=\"#DejaVuSans-124\"/>\r\n     <use x=\"782.068359\" xlink:href=\"#DejaVuSans-32\"/>\r\n     <use x=\"813.855469\" xlink:href=\"#DejaVuSans-83\"/>\r\n     <use x=\"877.332031\" xlink:href=\"#DejaVuSans-117\"/>\r\n     <use x=\"940.710938\" xlink:href=\"#DejaVuSans-114\"/>\r\n     <use x=\"981.824219\" xlink:href=\"#DejaVuSans-118\"/>\r\n     <use x=\"1041.003906\" xlink:href=\"#DejaVuSans-105\"/>\r\n     <use x=\"1068.787109\" xlink:href=\"#DejaVuSans-118\"/>\r\n     <use x=\"1127.966797\" xlink:href=\"#DejaVuSans-101\"/>\r\n     <use x=\"1189.490234\" xlink:href=\"#DejaVuSans-100\"/>\r\n     <use x=\"1252.966797\" xlink:href=\"#DejaVuSans-32\"/>\r\n     <use x=\"1284.753906\" xlink:href=\"#DejaVuSans-61\"/>\r\n     <use x=\"1368.542969\" xlink:href=\"#DejaVuSans-32\"/>\r\n     <use x=\"1400.330078\" xlink:href=\"#DejaVuSans-48\"/>\r\n    </g>\r\n   </g>\r\n  </g>\r\n  <g id=\"axes_2\">\r\n   <g id=\"patch_7\">\r\n    <path d=\"M 276.070516 136.508854 \r\nL 497.0812 136.508854 \r\nL 497.0812 20.842187 \r\nL 276.070516 20.842187 \r\nz\r\n\" style=\"fill:#ffffff;\"/>\r\n   </g>\r\n   <g id=\"patch_8\">\r\n    <path clip-path=\"url(#pe078107547)\" d=\"M 287.12105 136.508854 \r\nL 375.525324 136.508854 \r\nL 375.525324 77.646178 \r\nL 287.12105 77.646178 \r\nz\r\n\" style=\"fill:#3274a1;opacity:0.5;\"/>\r\n   </g>\r\n   <g id=\"patch_9\">\r\n    <path clip-path=\"url(#pe078107547)\" d=\"M 397.626392 136.508854 \r\nL 486.030666 136.508854 \r\nL 486.030666 96.428576 \r\nL 397.626392 96.428576 \r\nz\r\n\" style=\"fill:#3274a1;opacity:0.5;\"/>\r\n   </g>\r\n   <g id=\"matplotlib.axis_3\">\r\n    <g id=\"xtick_3\">\r\n     <g id=\"line2d_8\">\r\n      <g>\r\n       <use style=\"stroke:#000000;stroke-width:0.8;\" x=\"331.323187\" xlink:href=\"#m6aa159689f\" y=\"136.508854\"/>\r\n      </g>\r\n     </g>\r\n    </g>\r\n    <g id=\"xtick_4\">\r\n     <g id=\"line2d_9\">\r\n      <g>\r\n       <use style=\"stroke:#000000;stroke-width:0.8;\" x=\"441.828529\" xlink:href=\"#m6aa159689f\" y=\"136.508854\"/>\r\n      </g>\r\n     </g>\r\n    </g>\r\n   </g>\r\n   <g id=\"matplotlib.axis_4\">\r\n    <g id=\"ytick_6\">\r\n     <g id=\"line2d_10\">\r\n      <g>\r\n       <use style=\"stroke:#000000;stroke-width:0.8;\" x=\"276.070516\" xlink:href=\"#m554ef4f35c\" y=\"136.508854\"/>\r\n      </g>\r\n     </g>\r\n    </g>\r\n    <g id=\"ytick_7\">\r\n     <g id=\"line2d_11\">\r\n      <g>\r\n       <use style=\"stroke:#000000;stroke-width:0.8;\" x=\"276.070516\" xlink:href=\"#m554ef4f35c\" y=\"110.110974\"/>\r\n      </g>\r\n     </g>\r\n    </g>\r\n    <g id=\"ytick_8\">\r\n     <g id=\"line2d_12\">\r\n      <g>\r\n       <use style=\"stroke:#000000;stroke-width:0.8;\" x=\"276.070516\" xlink:href=\"#m554ef4f35c\" y=\"83.713094\"/>\r\n      </g>\r\n     </g>\r\n    </g>\r\n    <g id=\"ytick_9\">\r\n     <g id=\"line2d_13\">\r\n      <g>\r\n       <use style=\"stroke:#000000;stroke-width:0.8;\" x=\"276.070516\" xlink:href=\"#m554ef4f35c\" y=\"57.315215\"/>\r\n      </g>\r\n     </g>\r\n    </g>\r\n    <g id=\"ytick_10\">\r\n     <g id=\"line2d_14\">\r\n      <g>\r\n       <use style=\"stroke:#000000;stroke-width:0.8;\" x=\"276.070516\" xlink:href=\"#m554ef4f35c\" y=\"30.917335\"/>\r\n      </g>\r\n     </g>\r\n    </g>\r\n   </g>\r\n   <g id=\"patch_10\">\r\n    <path d=\"M 276.070516 136.508854 \r\nL 276.070516 20.842187 \r\n\" style=\"fill:none;stroke:#000000;stroke-linecap:square;stroke-linejoin:miter;stroke-width:0.8;\"/>\r\n   </g>\r\n   <g id=\"patch_11\">\r\n    <path d=\"M 276.070516 136.508854 \r\nL 497.0812 136.508854 \r\n\" style=\"fill:none;stroke:#000000;stroke-linecap:square;stroke-linejoin:miter;stroke-width:0.8;\"/>\r\n   </g>\r\n   <g id=\"text_8\">\r\n    <!-- Embarked = S | Survived = 1 -->\r\n    <defs>\r\n     <path d=\"M 12.40625 8.296875 \r\nL 28.515625 8.296875 \r\nL 28.515625 63.921875 \r\nL 10.984375 60.40625 \r\nL 10.984375 69.390625 \r\nL 28.421875 72.90625 \r\nL 38.28125 72.90625 \r\nL 38.28125 8.296875 \r\nL 54.390625 8.296875 \r\nL 54.390625 0 \r\nL 12.40625 0 \r\nz\r\n\" id=\"DejaVuSans-49\"/>\r\n    </defs>\r\n    <g transform=\"translate(313.376639 14.842187)scale(0.1 -0.1)\">\r\n     <use xlink:href=\"#DejaVuSans-69\"/>\r\n     <use x=\"63.183594\" xlink:href=\"#DejaVuSans-109\"/>\r\n     <use x=\"160.595703\" xlink:href=\"#DejaVuSans-98\"/>\r\n     <use x=\"224.072266\" xlink:href=\"#DejaVuSans-97\"/>\r\n     <use x=\"285.351562\" xlink:href=\"#DejaVuSans-114\"/>\r\n     <use x=\"326.464844\" xlink:href=\"#DejaVuSans-107\"/>\r\n     <use x=\"380.75\" xlink:href=\"#DejaVuSans-101\"/>\r\n     <use x=\"442.273438\" xlink:href=\"#DejaVuSans-100\"/>\r\n     <use x=\"505.75\" xlink:href=\"#DejaVuSans-32\"/>\r\n     <use x=\"537.537109\" xlink:href=\"#DejaVuSans-61\"/>\r\n     <use x=\"621.326172\" xlink:href=\"#DejaVuSans-32\"/>\r\n     <use x=\"653.113281\" xlink:href=\"#DejaVuSans-83\"/>\r\n     <use x=\"716.589844\" xlink:href=\"#DejaVuSans-32\"/>\r\n     <use x=\"748.376953\" xlink:href=\"#DejaVuSans-124\"/>\r\n     <use x=\"782.068359\" xlink:href=\"#DejaVuSans-32\"/>\r\n     <use x=\"813.855469\" xlink:href=\"#DejaVuSans-83\"/>\r\n     <use x=\"877.332031\" xlink:href=\"#DejaVuSans-117\"/>\r\n     <use x=\"940.710938\" xlink:href=\"#DejaVuSans-114\"/>\r\n     <use x=\"981.824219\" xlink:href=\"#DejaVuSans-118\"/>\r\n     <use x=\"1041.003906\" xlink:href=\"#DejaVuSans-105\"/>\r\n     <use x=\"1068.787109\" xlink:href=\"#DejaVuSans-118\"/>\r\n     <use x=\"1127.966797\" xlink:href=\"#DejaVuSans-101\"/>\r\n     <use x=\"1189.490234\" xlink:href=\"#DejaVuSans-100\"/>\r\n     <use x=\"1252.966797\" xlink:href=\"#DejaVuSans-32\"/>\r\n     <use x=\"1284.753906\" xlink:href=\"#DejaVuSans-61\"/>\r\n     <use x=\"1368.542969\" xlink:href=\"#DejaVuSans-32\"/>\r\n     <use x=\"1400.330078\" xlink:href=\"#DejaVuSans-49\"/>\r\n    </g>\r\n   </g>\r\n  </g>\r\n  <g id=\"axes_3\">\r\n   <g id=\"patch_12\">\r\n    <path d=\"M 40.603125 282.975521 \r\nL 261.613809 282.975521 \r\nL 261.613809 167.308854 \r\nL 40.603125 167.308854 \r\nz\r\n\" style=\"fill:#ffffff;\"/>\r\n   </g>\r\n   <g id=\"patch_13\">\r\n    <path clip-path=\"url(#p6b32c06054)\" d=\"M 51.653659 282.975521 \r\nL 140.057933 282.975521 \r\nL 140.057933 232.733304 \r\nL 51.653659 232.733304 \r\nz\r\n\" style=\"fill:#3274a1;opacity:0.5;\"/>\r\n   </g>\r\n   <g id=\"patch_14\">\r\n    <path clip-path=\"url(#p6b32c06054)\" d=\"M 162.159001 282.975521 \r\nL 250.563275 282.975521 \r\nL 250.563275 261.573073 \r\nL 162.159001 261.573073 \r\nz\r\n\" style=\"fill:#3274a1;opacity:0.5;\"/>\r\n   </g>\r\n   <g id=\"matplotlib.axis_5\">\r\n    <g id=\"xtick_5\">\r\n     <g id=\"line2d_15\">\r\n      <g>\r\n       <use style=\"stroke:#000000;stroke-width:0.8;\" x=\"95.855796\" xlink:href=\"#m6aa159689f\" y=\"282.975521\"/>\r\n      </g>\r\n     </g>\r\n    </g>\r\n    <g id=\"xtick_6\">\r\n     <g id=\"line2d_16\">\r\n      <g>\r\n       <use style=\"stroke:#000000;stroke-width:0.8;\" x=\"206.361138\" xlink:href=\"#m6aa159689f\" y=\"282.975521\"/>\r\n      </g>\r\n     </g>\r\n    </g>\r\n   </g>\r\n   <g id=\"matplotlib.axis_6\">\r\n    <g id=\"ytick_11\">\r\n     <g id=\"line2d_17\">\r\n      <g>\r\n       <use style=\"stroke:#000000;stroke-width:0.8;\" x=\"40.603125\" xlink:href=\"#m554ef4f35c\" y=\"282.975521\"/>\r\n      </g>\r\n     </g>\r\n     <g id=\"text_9\">\r\n      <!-- 0 -->\r\n      <g transform=\"translate(27.240625 286.77474)scale(0.1 -0.1)\">\r\n       <use xlink:href=\"#DejaVuSans-48\"/>\r\n      </g>\r\n     </g>\r\n    </g>\r\n    <g id=\"ytick_12\">\r\n     <g id=\"line2d_18\">\r\n      <g>\r\n       <use style=\"stroke:#000000;stroke-width:0.8;\" x=\"40.603125\" xlink:href=\"#m554ef4f35c\" y=\"256.577641\"/>\r\n      </g>\r\n     </g>\r\n     <g id=\"text_10\">\r\n      <!-- 20 -->\r\n      <g transform=\"translate(20.878125 260.37686)scale(0.1 -0.1)\">\r\n       <use xlink:href=\"#DejaVuSans-50\"/>\r\n       <use x=\"63.623047\" xlink:href=\"#DejaVuSans-48\"/>\r\n      </g>\r\n     </g>\r\n    </g>\r\n    <g id=\"ytick_13\">\r\n     <g id=\"line2d_19\">\r\n      <g>\r\n       <use style=\"stroke:#000000;stroke-width:0.8;\" x=\"40.603125\" xlink:href=\"#m554ef4f35c\" y=\"230.179761\"/>\r\n      </g>\r\n     </g>\r\n     <g id=\"text_11\">\r\n      <!-- 40 -->\r\n      <g transform=\"translate(20.878125 233.97898)scale(0.1 -0.1)\">\r\n       <use xlink:href=\"#DejaVuSans-52\"/>\r\n       <use x=\"63.623047\" xlink:href=\"#DejaVuSans-48\"/>\r\n      </g>\r\n     </g>\r\n    </g>\r\n    <g id=\"ytick_14\">\r\n     <g id=\"line2d_20\">\r\n      <g>\r\n       <use style=\"stroke:#000000;stroke-width:0.8;\" x=\"40.603125\" xlink:href=\"#m554ef4f35c\" y=\"203.781881\"/>\r\n      </g>\r\n     </g>\r\n     <g id=\"text_12\">\r\n      <!-- 60 -->\r\n      <g transform=\"translate(20.878125 207.5811)scale(0.1 -0.1)\">\r\n       <use xlink:href=\"#DejaVuSans-54\"/>\r\n       <use x=\"63.623047\" xlink:href=\"#DejaVuSans-48\"/>\r\n      </g>\r\n     </g>\r\n    </g>\r\n    <g id=\"ytick_15\">\r\n     <g id=\"line2d_21\">\r\n      <g>\r\n       <use style=\"stroke:#000000;stroke-width:0.8;\" x=\"40.603125\" xlink:href=\"#m554ef4f35c\" y=\"177.384001\"/>\r\n      </g>\r\n     </g>\r\n     <g id=\"text_13\">\r\n      <!-- 80 -->\r\n      <g transform=\"translate(20.878125 181.18322)scale(0.1 -0.1)\">\r\n       <use xlink:href=\"#DejaVuSans-56\"/>\r\n       <use x=\"63.623047\" xlink:href=\"#DejaVuSans-48\"/>\r\n      </g>\r\n     </g>\r\n    </g>\r\n    <g id=\"text_14\">\r\n     <!-- Fare -->\r\n     <g transform=\"translate(14.798438 235.645313)rotate(-90)scale(0.1 -0.1)\">\r\n      <use xlink:href=\"#DejaVuSans-70\"/>\r\n      <use x=\"48.394531\" xlink:href=\"#DejaVuSans-97\"/>\r\n      <use x=\"109.673828\" xlink:href=\"#DejaVuSans-114\"/>\r\n      <use x=\"148.537109\" xlink:href=\"#DejaVuSans-101\"/>\r\n     </g>\r\n    </g>\r\n   </g>\r\n   <g id=\"patch_15\">\r\n    <path d=\"M 40.603125 282.975521 \r\nL 40.603125 167.308854 \r\n\" style=\"fill:none;stroke:#000000;stroke-linecap:square;stroke-linejoin:miter;stroke-width:0.8;\"/>\r\n   </g>\r\n   <g id=\"patch_16\">\r\n    <path d=\"M 40.603125 282.975521 \r\nL 261.613809 282.975521 \r\n\" style=\"fill:none;stroke:#000000;stroke-linecap:square;stroke-linejoin:miter;stroke-width:0.8;\"/>\r\n   </g>\r\n   <g id=\"text_15\">\r\n    <!-- Embarked = C | Survived = 0 -->\r\n    <defs>\r\n     <path d=\"M 64.40625 67.28125 \r\nL 64.40625 56.890625 \r\nQ 59.421875 61.53125 53.78125 63.8125 \r\nQ 48.140625 66.109375 41.796875 66.109375 \r\nQ 29.296875 66.109375 22.65625 58.46875 \r\nQ 16.015625 50.828125 16.015625 36.375 \r\nQ 16.015625 21.96875 22.65625 14.328125 \r\nQ 29.296875 6.6875 41.796875 6.6875 \r\nQ 48.140625 6.6875 53.78125 8.984375 \r\nQ 59.421875 11.28125 64.40625 15.921875 \r\nL 64.40625 5.609375 \r\nQ 59.234375 2.09375 53.4375 0.328125 \r\nQ 47.65625 -1.421875 41.21875 -1.421875 \r\nQ 24.65625 -1.421875 15.125 8.703125 \r\nQ 5.609375 18.84375 5.609375 36.375 \r\nQ 5.609375 53.953125 15.125 64.078125 \r\nQ 24.65625 74.21875 41.21875 74.21875 \r\nQ 47.75 74.21875 53.53125 72.484375 \r\nQ 59.328125 70.75 64.40625 67.28125 \r\nz\r\n\" id=\"DejaVuSans-67\"/>\r\n    </defs>\r\n    <g transform=\"translate(77.592061 161.308854)scale(0.1 -0.1)\">\r\n     <use xlink:href=\"#DejaVuSans-69\"/>\r\n     <use x=\"63.183594\" xlink:href=\"#DejaVuSans-109\"/>\r\n     <use x=\"160.595703\" xlink:href=\"#DejaVuSans-98\"/>\r\n     <use x=\"224.072266\" xlink:href=\"#DejaVuSans-97\"/>\r\n     <use x=\"285.351562\" xlink:href=\"#DejaVuSans-114\"/>\r\n     <use x=\"326.464844\" xlink:href=\"#DejaVuSans-107\"/>\r\n     <use x=\"380.75\" xlink:href=\"#DejaVuSans-101\"/>\r\n     <use x=\"442.273438\" xlink:href=\"#DejaVuSans-100\"/>\r\n     <use x=\"505.75\" xlink:href=\"#DejaVuSans-32\"/>\r\n     <use x=\"537.537109\" xlink:href=\"#DejaVuSans-61\"/>\r\n     <use x=\"621.326172\" xlink:href=\"#DejaVuSans-32\"/>\r\n     <use x=\"653.113281\" xlink:href=\"#DejaVuSans-67\"/>\r\n     <use x=\"722.9375\" xlink:href=\"#DejaVuSans-32\"/>\r\n     <use x=\"754.724609\" xlink:href=\"#DejaVuSans-124\"/>\r\n     <use x=\"788.416016\" xlink:href=\"#DejaVuSans-32\"/>\r\n     <use x=\"820.203125\" xlink:href=\"#DejaVuSans-83\"/>\r\n     <use x=\"883.679688\" xlink:href=\"#DejaVuSans-117\"/>\r\n     <use x=\"947.058594\" xlink:href=\"#DejaVuSans-114\"/>\r\n     <use x=\"988.171875\" xlink:href=\"#DejaVuSans-118\"/>\r\n     <use x=\"1047.351562\" xlink:href=\"#DejaVuSans-105\"/>\r\n     <use x=\"1075.134766\" xlink:href=\"#DejaVuSans-118\"/>\r\n     <use x=\"1134.314453\" xlink:href=\"#DejaVuSans-101\"/>\r\n     <use x=\"1195.837891\" xlink:href=\"#DejaVuSans-100\"/>\r\n     <use x=\"1259.314453\" xlink:href=\"#DejaVuSans-32\"/>\r\n     <use x=\"1291.101562\" xlink:href=\"#DejaVuSans-61\"/>\r\n     <use x=\"1374.890625\" xlink:href=\"#DejaVuSans-32\"/>\r\n     <use x=\"1406.677734\" xlink:href=\"#DejaVuSans-48\"/>\r\n    </g>\r\n   </g>\r\n  </g>\r\n  <g id=\"axes_4\">\r\n   <g id=\"patch_17\">\r\n    <path d=\"M 276.070516 282.975521 \r\nL 497.0812 282.975521 \r\nL 497.0812 167.308854 \r\nL 276.070516 167.308854 \r\nz\r\n\" style=\"fill:#ffffff;\"/>\r\n   </g>\r\n   <g id=\"patch_18\">\r\n    <path clip-path=\"url(#p51d495ec07)\" d=\"M 287.12105 282.975521 \r\nL 375.525324 282.975521 \r\nL 375.525324 172.816791 \r\nL 287.12105 172.816791 \r\nz\r\n\" style=\"fill:#3274a1;opacity:0.5;\"/>\r\n   </g>\r\n   <g id=\"patch_19\">\r\n    <path clip-path=\"url(#p51d495ec07)\" d=\"M 397.626392 282.975521 \r\nL 486.030666 282.975521 \r\nL 486.030666 188.644618 \r\nL 397.626392 188.644618 \r\nz\r\n\" style=\"fill:#3274a1;opacity:0.5;\"/>\r\n   </g>\r\n   <g id=\"matplotlib.axis_7\">\r\n    <g id=\"xtick_7\">\r\n     <g id=\"line2d_22\">\r\n      <g>\r\n       <use style=\"stroke:#000000;stroke-width:0.8;\" x=\"331.323187\" xlink:href=\"#m6aa159689f\" y=\"282.975521\"/>\r\n      </g>\r\n     </g>\r\n    </g>\r\n    <g id=\"xtick_8\">\r\n     <g id=\"line2d_23\">\r\n      <g>\r\n       <use style=\"stroke:#000000;stroke-width:0.8;\" x=\"441.828529\" xlink:href=\"#m6aa159689f\" y=\"282.975521\"/>\r\n      </g>\r\n     </g>\r\n    </g>\r\n   </g>\r\n   <g id=\"matplotlib.axis_8\">\r\n    <g id=\"ytick_16\">\r\n     <g id=\"line2d_24\">\r\n      <g>\r\n       <use style=\"stroke:#000000;stroke-width:0.8;\" x=\"276.070516\" xlink:href=\"#m554ef4f35c\" y=\"282.975521\"/>\r\n      </g>\r\n     </g>\r\n    </g>\r\n    <g id=\"ytick_17\">\r\n     <g id=\"line2d_25\">\r\n      <g>\r\n       <use style=\"stroke:#000000;stroke-width:0.8;\" x=\"276.070516\" xlink:href=\"#m554ef4f35c\" y=\"256.577641\"/>\r\n      </g>\r\n     </g>\r\n    </g>\r\n    <g id=\"ytick_18\">\r\n     <g id=\"line2d_26\">\r\n      <g>\r\n       <use style=\"stroke:#000000;stroke-width:0.8;\" x=\"276.070516\" xlink:href=\"#m554ef4f35c\" y=\"230.179761\"/>\r\n      </g>\r\n     </g>\r\n    </g>\r\n    <g id=\"ytick_19\">\r\n     <g id=\"line2d_27\">\r\n      <g>\r\n       <use style=\"stroke:#000000;stroke-width:0.8;\" x=\"276.070516\" xlink:href=\"#m554ef4f35c\" y=\"203.781881\"/>\r\n      </g>\r\n     </g>\r\n    </g>\r\n    <g id=\"ytick_20\">\r\n     <g id=\"line2d_28\">\r\n      <g>\r\n       <use style=\"stroke:#000000;stroke-width:0.8;\" x=\"276.070516\" xlink:href=\"#m554ef4f35c\" y=\"177.384001\"/>\r\n      </g>\r\n     </g>\r\n    </g>\r\n   </g>\r\n   <g id=\"patch_20\">\r\n    <path d=\"M 276.070516 282.975521 \r\nL 276.070516 167.308854 \r\n\" style=\"fill:none;stroke:#000000;stroke-linecap:square;stroke-linejoin:miter;stroke-width:0.8;\"/>\r\n   </g>\r\n   <g id=\"patch_21\">\r\n    <path d=\"M 276.070516 282.975521 \r\nL 497.0812 282.975521 \r\n\" style=\"fill:none;stroke:#000000;stroke-linecap:square;stroke-linejoin:miter;stroke-width:0.8;\"/>\r\n   </g>\r\n   <g id=\"text_16\">\r\n    <!-- Embarked = C | Survived = 1 -->\r\n    <g transform=\"translate(313.059452 161.308854)scale(0.1 -0.1)\">\r\n     <use xlink:href=\"#DejaVuSans-69\"/>\r\n     <use x=\"63.183594\" xlink:href=\"#DejaVuSans-109\"/>\r\n     <use x=\"160.595703\" xlink:href=\"#DejaVuSans-98\"/>\r\n     <use x=\"224.072266\" xlink:href=\"#DejaVuSans-97\"/>\r\n     <use x=\"285.351562\" xlink:href=\"#DejaVuSans-114\"/>\r\n     <use x=\"326.464844\" xlink:href=\"#DejaVuSans-107\"/>\r\n     <use x=\"380.75\" xlink:href=\"#DejaVuSans-101\"/>\r\n     <use x=\"442.273438\" xlink:href=\"#DejaVuSans-100\"/>\r\n     <use x=\"505.75\" xlink:href=\"#DejaVuSans-32\"/>\r\n     <use x=\"537.537109\" xlink:href=\"#DejaVuSans-61\"/>\r\n     <use x=\"621.326172\" xlink:href=\"#DejaVuSans-32\"/>\r\n     <use x=\"653.113281\" xlink:href=\"#DejaVuSans-67\"/>\r\n     <use x=\"722.9375\" xlink:href=\"#DejaVuSans-32\"/>\r\n     <use x=\"754.724609\" xlink:href=\"#DejaVuSans-124\"/>\r\n     <use x=\"788.416016\" xlink:href=\"#DejaVuSans-32\"/>\r\n     <use x=\"820.203125\" xlink:href=\"#DejaVuSans-83\"/>\r\n     <use x=\"883.679688\" xlink:href=\"#DejaVuSans-117\"/>\r\n     <use x=\"947.058594\" xlink:href=\"#DejaVuSans-114\"/>\r\n     <use x=\"988.171875\" xlink:href=\"#DejaVuSans-118\"/>\r\n     <use x=\"1047.351562\" xlink:href=\"#DejaVuSans-105\"/>\r\n     <use x=\"1075.134766\" xlink:href=\"#DejaVuSans-118\"/>\r\n     <use x=\"1134.314453\" xlink:href=\"#DejaVuSans-101\"/>\r\n     <use x=\"1195.837891\" xlink:href=\"#DejaVuSans-100\"/>\r\n     <use x=\"1259.314453\" xlink:href=\"#DejaVuSans-32\"/>\r\n     <use x=\"1291.101562\" xlink:href=\"#DejaVuSans-61\"/>\r\n     <use x=\"1374.890625\" xlink:href=\"#DejaVuSans-32\"/>\r\n     <use x=\"1406.677734\" xlink:href=\"#DejaVuSans-49\"/>\r\n    </g>\r\n   </g>\r\n  </g>\r\n  <g id=\"axes_5\">\r\n   <g id=\"patch_22\">\r\n    <path d=\"M 40.603125 429.442188 \r\nL 261.613809 429.442188 \r\nL 261.613809 313.775521 \r\nL 40.603125 313.775521 \r\nz\r\n\" style=\"fill:#ffffff;\"/>\r\n   </g>\r\n   <g id=\"patch_23\">\r\n    <path clip-path=\"url(#p91c6266488)\" d=\"M 51.653659 429.442188 \r\nL 140.057933 429.442188 \r\nL 140.057933 411.080177 \r\nL 51.653659 411.080177 \r\nz\r\n\" style=\"fill:#3274a1;opacity:0.5;\"/>\r\n   </g>\r\n   <g id=\"patch_24\">\r\n    <path clip-path=\"url(#p91c6266488)\" d=\"M 162.159001 429.442188 \r\nL 250.563275 429.442188 \r\nL 250.563275 415.049227 \r\nL 162.159001 415.049227 \r\nz\r\n\" style=\"fill:#3274a1;opacity:0.5;\"/>\r\n   </g>\r\n   <g id=\"matplotlib.axis_9\">\r\n    <g id=\"xtick_9\">\r\n     <g id=\"line2d_29\">\r\n      <g>\r\n       <use style=\"stroke:#000000;stroke-width:0.8;\" x=\"95.855796\" xlink:href=\"#m6aa159689f\" y=\"429.442188\"/>\r\n      </g>\r\n     </g>\r\n     <g id=\"text_17\">\r\n      <!-- female -->\r\n      <defs>\r\n       <path d=\"M 37.109375 75.984375 \r\nL 37.109375 68.5 \r\nL 28.515625 68.5 \r\nQ 23.6875 68.5 21.796875 66.546875 \r\nQ 19.921875 64.59375 19.921875 59.515625 \r\nL 19.921875 54.6875 \r\nL 34.71875 54.6875 \r\nL 34.71875 47.703125 \r\nL 19.921875 47.703125 \r\nL 19.921875 0 \r\nL 10.890625 0 \r\nL 10.890625 47.703125 \r\nL 2.296875 47.703125 \r\nL 2.296875 54.6875 \r\nL 10.890625 54.6875 \r\nL 10.890625 58.5 \r\nQ 10.890625 67.625 15.140625 71.796875 \r\nQ 19.390625 75.984375 28.609375 75.984375 \r\nz\r\n\" id=\"DejaVuSans-102\"/>\r\n       <path d=\"M 9.421875 75.984375 \r\nL 18.40625 75.984375 \r\nL 18.40625 0 \r\nL 9.421875 0 \r\nz\r\n\" id=\"DejaVuSans-108\"/>\r\n      </defs>\r\n      <g transform=\"translate(78.619077 444.040625)scale(0.1 -0.1)\">\r\n       <use xlink:href=\"#DejaVuSans-102\"/>\r\n       <use x=\"35.205078\" xlink:href=\"#DejaVuSans-101\"/>\r\n       <use x=\"96.728516\" xlink:href=\"#DejaVuSans-109\"/>\r\n       <use x=\"194.140625\" xlink:href=\"#DejaVuSans-97\"/>\r\n       <use x=\"255.419922\" xlink:href=\"#DejaVuSans-108\"/>\r\n       <use x=\"283.203125\" xlink:href=\"#DejaVuSans-101\"/>\r\n      </g>\r\n     </g>\r\n    </g>\r\n    <g id=\"xtick_10\">\r\n     <g id=\"line2d_30\">\r\n      <g>\r\n       <use style=\"stroke:#000000;stroke-width:0.8;\" x=\"206.361138\" xlink:href=\"#m6aa159689f\" y=\"429.442188\"/>\r\n      </g>\r\n     </g>\r\n     <g id=\"text_18\">\r\n      <!-- male -->\r\n      <g transform=\"translate(193.961138 444.040625)scale(0.1 -0.1)\">\r\n       <use xlink:href=\"#DejaVuSans-109\"/>\r\n       <use x=\"97.412109\" xlink:href=\"#DejaVuSans-97\"/>\r\n       <use x=\"158.691406\" xlink:href=\"#DejaVuSans-108\"/>\r\n       <use x=\"186.474609\" xlink:href=\"#DejaVuSans-101\"/>\r\n      </g>\r\n     </g>\r\n    </g>\r\n    <g id=\"text_19\">\r\n     <!-- Sex -->\r\n     <defs>\r\n      <path d=\"M 54.890625 54.6875 \r\nL 35.109375 28.078125 \r\nL 55.90625 0 \r\nL 45.3125 0 \r\nL 29.390625 21.484375 \r\nL 13.484375 0 \r\nL 2.875 0 \r\nL 24.125 28.609375 \r\nL 4.6875 54.6875 \r\nL 15.28125 54.6875 \r\nL 29.78125 35.203125 \r\nL 44.28125 54.6875 \r\nz\r\n\" id=\"DejaVuSans-120\"/>\r\n     </defs>\r\n     <g transform=\"translate(141.985811 457.71875)scale(0.1 -0.1)\">\r\n      <use xlink:href=\"#DejaVuSans-83\"/>\r\n      <use x=\"63.476562\" xlink:href=\"#DejaVuSans-101\"/>\r\n      <use x=\"123.25\" xlink:href=\"#DejaVuSans-120\"/>\r\n     </g>\r\n    </g>\r\n   </g>\r\n   <g id=\"matplotlib.axis_10\">\r\n    <g id=\"ytick_21\">\r\n     <g id=\"line2d_31\">\r\n      <g>\r\n       <use style=\"stroke:#000000;stroke-width:0.8;\" x=\"40.603125\" xlink:href=\"#m554ef4f35c\" y=\"429.442188\"/>\r\n      </g>\r\n     </g>\r\n     <g id=\"text_20\">\r\n      <!-- 0 -->\r\n      <g transform=\"translate(27.240625 433.241406)scale(0.1 -0.1)\">\r\n       <use xlink:href=\"#DejaVuSans-48\"/>\r\n      </g>\r\n     </g>\r\n    </g>\r\n    <g id=\"ytick_22\">\r\n     <g id=\"line2d_32\">\r\n      <g>\r\n       <use style=\"stroke:#000000;stroke-width:0.8;\" x=\"40.603125\" xlink:href=\"#m554ef4f35c\" y=\"403.044308\"/>\r\n      </g>\r\n     </g>\r\n     <g id=\"text_21\">\r\n      <!-- 20 -->\r\n      <g transform=\"translate(20.878125 406.843526)scale(0.1 -0.1)\">\r\n       <use xlink:href=\"#DejaVuSans-50\"/>\r\n       <use x=\"63.623047\" xlink:href=\"#DejaVuSans-48\"/>\r\n      </g>\r\n     </g>\r\n    </g>\r\n    <g id=\"ytick_23\">\r\n     <g id=\"line2d_33\">\r\n      <g>\r\n       <use style=\"stroke:#000000;stroke-width:0.8;\" x=\"40.603125\" xlink:href=\"#m554ef4f35c\" y=\"376.646428\"/>\r\n      </g>\r\n     </g>\r\n     <g id=\"text_22\">\r\n      <!-- 40 -->\r\n      <g transform=\"translate(20.878125 380.445646)scale(0.1 -0.1)\">\r\n       <use xlink:href=\"#DejaVuSans-52\"/>\r\n       <use x=\"63.623047\" xlink:href=\"#DejaVuSans-48\"/>\r\n      </g>\r\n     </g>\r\n    </g>\r\n    <g id=\"ytick_24\">\r\n     <g id=\"line2d_34\">\r\n      <g>\r\n       <use style=\"stroke:#000000;stroke-width:0.8;\" x=\"40.603125\" xlink:href=\"#m554ef4f35c\" y=\"350.248548\"/>\r\n      </g>\r\n     </g>\r\n     <g id=\"text_23\">\r\n      <!-- 60 -->\r\n      <g transform=\"translate(20.878125 354.047767)scale(0.1 -0.1)\">\r\n       <use xlink:href=\"#DejaVuSans-54\"/>\r\n       <use x=\"63.623047\" xlink:href=\"#DejaVuSans-48\"/>\r\n      </g>\r\n     </g>\r\n    </g>\r\n    <g id=\"ytick_25\">\r\n     <g id=\"line2d_35\">\r\n      <g>\r\n       <use style=\"stroke:#000000;stroke-width:0.8;\" x=\"40.603125\" xlink:href=\"#m554ef4f35c\" y=\"323.850668\"/>\r\n      </g>\r\n     </g>\r\n     <g id=\"text_24\">\r\n      <!-- 80 -->\r\n      <g transform=\"translate(20.878125 327.649887)scale(0.1 -0.1)\">\r\n       <use xlink:href=\"#DejaVuSans-56\"/>\r\n       <use x=\"63.623047\" xlink:href=\"#DejaVuSans-48\"/>\r\n      </g>\r\n     </g>\r\n    </g>\r\n    <g id=\"text_25\">\r\n     <!-- Fare -->\r\n     <g transform=\"translate(14.798438 382.111979)rotate(-90)scale(0.1 -0.1)\">\r\n      <use xlink:href=\"#DejaVuSans-70\"/>\r\n      <use x=\"48.394531\" xlink:href=\"#DejaVuSans-97\"/>\r\n      <use x=\"109.673828\" xlink:href=\"#DejaVuSans-114\"/>\r\n      <use x=\"148.537109\" xlink:href=\"#DejaVuSans-101\"/>\r\n     </g>\r\n    </g>\r\n   </g>\r\n   <g id=\"patch_25\">\r\n    <path d=\"M 40.603125 429.442188 \r\nL 40.603125 313.775521 \r\n\" style=\"fill:none;stroke:#000000;stroke-linecap:square;stroke-linejoin:miter;stroke-width:0.8;\"/>\r\n   </g>\r\n   <g id=\"patch_26\">\r\n    <path d=\"M 40.603125 429.442188 \r\nL 261.613809 429.442188 \r\n\" style=\"fill:none;stroke:#000000;stroke-linecap:square;stroke-linejoin:miter;stroke-width:0.8;\"/>\r\n   </g>\r\n   <g id=\"text_26\">\r\n    <!-- Embarked = Q | Survived = 0 -->\r\n    <defs>\r\n     <path d=\"M 39.40625 66.21875 \r\nQ 28.65625 66.21875 22.328125 58.203125 \r\nQ 16.015625 50.203125 16.015625 36.375 \r\nQ 16.015625 22.609375 22.328125 14.59375 \r\nQ 28.65625 6.59375 39.40625 6.59375 \r\nQ 50.140625 6.59375 56.421875 14.59375 \r\nQ 62.703125 22.609375 62.703125 36.375 \r\nQ 62.703125 50.203125 56.421875 58.203125 \r\nQ 50.140625 66.21875 39.40625 66.21875 \r\nz\r\nM 53.21875 1.3125 \r\nL 66.21875 -12.890625 \r\nL 54.296875 -12.890625 \r\nL 43.5 -1.21875 \r\nQ 41.890625 -1.3125 41.03125 -1.359375 \r\nQ 40.1875 -1.421875 39.40625 -1.421875 \r\nQ 24.03125 -1.421875 14.8125 8.859375 \r\nQ 5.609375 19.140625 5.609375 36.375 \r\nQ 5.609375 53.65625 14.8125 63.9375 \r\nQ 24.03125 74.21875 39.40625 74.21875 \r\nQ 54.734375 74.21875 63.90625 63.9375 \r\nQ 73.09375 53.65625 73.09375 36.375 \r\nQ 73.09375 23.6875 67.984375 14.640625 \r\nQ 62.890625 5.609375 53.21875 1.3125 \r\nz\r\n\" id=\"DejaVuSans-81\"/>\r\n    </defs>\r\n    <g transform=\"translate(77.14753 307.775521)scale(0.1 -0.1)\">\r\n     <use xlink:href=\"#DejaVuSans-69\"/>\r\n     <use x=\"63.183594\" xlink:href=\"#DejaVuSans-109\"/>\r\n     <use x=\"160.595703\" xlink:href=\"#DejaVuSans-98\"/>\r\n     <use x=\"224.072266\" xlink:href=\"#DejaVuSans-97\"/>\r\n     <use x=\"285.351562\" xlink:href=\"#DejaVuSans-114\"/>\r\n     <use x=\"326.464844\" xlink:href=\"#DejaVuSans-107\"/>\r\n     <use x=\"380.75\" xlink:href=\"#DejaVuSans-101\"/>\r\n     <use x=\"442.273438\" xlink:href=\"#DejaVuSans-100\"/>\r\n     <use x=\"505.75\" xlink:href=\"#DejaVuSans-32\"/>\r\n     <use x=\"537.537109\" xlink:href=\"#DejaVuSans-61\"/>\r\n     <use x=\"621.326172\" xlink:href=\"#DejaVuSans-32\"/>\r\n     <use x=\"653.113281\" xlink:href=\"#DejaVuSans-81\"/>\r\n     <use x=\"731.824219\" xlink:href=\"#DejaVuSans-32\"/>\r\n     <use x=\"763.611328\" xlink:href=\"#DejaVuSans-124\"/>\r\n     <use x=\"797.302734\" xlink:href=\"#DejaVuSans-32\"/>\r\n     <use x=\"829.089844\" xlink:href=\"#DejaVuSans-83\"/>\r\n     <use x=\"892.566406\" xlink:href=\"#DejaVuSans-117\"/>\r\n     <use x=\"955.945312\" xlink:href=\"#DejaVuSans-114\"/>\r\n     <use x=\"997.058594\" xlink:href=\"#DejaVuSans-118\"/>\r\n     <use x=\"1056.238281\" xlink:href=\"#DejaVuSans-105\"/>\r\n     <use x=\"1084.021484\" xlink:href=\"#DejaVuSans-118\"/>\r\n     <use x=\"1143.201172\" xlink:href=\"#DejaVuSans-101\"/>\r\n     <use x=\"1204.724609\" xlink:href=\"#DejaVuSans-100\"/>\r\n     <use x=\"1268.201172\" xlink:href=\"#DejaVuSans-32\"/>\r\n     <use x=\"1299.988281\" xlink:href=\"#DejaVuSans-61\"/>\r\n     <use x=\"1383.777344\" xlink:href=\"#DejaVuSans-32\"/>\r\n     <use x=\"1415.564453\" xlink:href=\"#DejaVuSans-48\"/>\r\n    </g>\r\n   </g>\r\n  </g>\r\n  <g id=\"axes_6\">\r\n   <g id=\"patch_27\">\r\n    <path d=\"M 276.070516 429.442188 \r\nL 497.0812 429.442188 \r\nL 497.0812 313.775521 \r\nL 276.070516 313.775521 \r\nz\r\n\" style=\"fill:#ffffff;\"/>\r\n   </g>\r\n   <g id=\"patch_28\">\r\n    <path clip-path=\"url(#pe9559aa8a4)\" d=\"M 287.12105 429.442188 \r\nL 375.525324 429.442188 \r\nL 375.525324 412.0041 \r\nL 287.12105 412.0041 \r\nz\r\n\" style=\"fill:#3274a1;opacity:0.5;\"/>\r\n   </g>\r\n   <g id=\"patch_29\">\r\n    <path clip-path=\"url(#pe9559aa8a4)\" d=\"M 397.626392 429.442188 \r\nL 486.030666 429.442188 \r\nL 486.030666 412.393557 \r\nL 397.626392 412.393557 \r\nz\r\n\" style=\"fill:#3274a1;opacity:0.5;\"/>\r\n   </g>\r\n   <g id=\"matplotlib.axis_11\">\r\n    <g id=\"xtick_11\">\r\n     <g id=\"line2d_36\">\r\n      <g>\r\n       <use style=\"stroke:#000000;stroke-width:0.8;\" x=\"331.323187\" xlink:href=\"#m6aa159689f\" y=\"429.442188\"/>\r\n      </g>\r\n     </g>\r\n     <g id=\"text_27\">\r\n      <!-- female -->\r\n      <g transform=\"translate(314.086468 444.040625)scale(0.1 -0.1)\">\r\n       <use xlink:href=\"#DejaVuSans-102\"/>\r\n       <use x=\"35.205078\" xlink:href=\"#DejaVuSans-101\"/>\r\n       <use x=\"96.728516\" xlink:href=\"#DejaVuSans-109\"/>\r\n       <use x=\"194.140625\" xlink:href=\"#DejaVuSans-97\"/>\r\n       <use x=\"255.419922\" xlink:href=\"#DejaVuSans-108\"/>\r\n       <use x=\"283.203125\" xlink:href=\"#DejaVuSans-101\"/>\r\n      </g>\r\n     </g>\r\n    </g>\r\n    <g id=\"xtick_12\">\r\n     <g id=\"line2d_37\">\r\n      <g>\r\n       <use style=\"stroke:#000000;stroke-width:0.8;\" x=\"441.828529\" xlink:href=\"#m6aa159689f\" y=\"429.442188\"/>\r\n      </g>\r\n     </g>\r\n     <g id=\"text_28\">\r\n      <!-- male -->\r\n      <g transform=\"translate(429.428529 444.040625)scale(0.1 -0.1)\">\r\n       <use xlink:href=\"#DejaVuSans-109\"/>\r\n       <use x=\"97.412109\" xlink:href=\"#DejaVuSans-97\"/>\r\n       <use x=\"158.691406\" xlink:href=\"#DejaVuSans-108\"/>\r\n       <use x=\"186.474609\" xlink:href=\"#DejaVuSans-101\"/>\r\n      </g>\r\n     </g>\r\n    </g>\r\n    <g id=\"text_29\">\r\n     <!-- Sex -->\r\n     <g transform=\"translate(377.453202 457.71875)scale(0.1 -0.1)\">\r\n      <use xlink:href=\"#DejaVuSans-83\"/>\r\n      <use x=\"63.476562\" xlink:href=\"#DejaVuSans-101\"/>\r\n      <use x=\"123.25\" xlink:href=\"#DejaVuSans-120\"/>\r\n     </g>\r\n    </g>\r\n   </g>\r\n   <g id=\"matplotlib.axis_12\">\r\n    <g id=\"ytick_26\">\r\n     <g id=\"line2d_38\">\r\n      <g>\r\n       <use style=\"stroke:#000000;stroke-width:0.8;\" x=\"276.070516\" xlink:href=\"#m554ef4f35c\" y=\"429.442188\"/>\r\n      </g>\r\n     </g>\r\n    </g>\r\n    <g id=\"ytick_27\">\r\n     <g id=\"line2d_39\">\r\n      <g>\r\n       <use style=\"stroke:#000000;stroke-width:0.8;\" x=\"276.070516\" xlink:href=\"#m554ef4f35c\" y=\"403.044308\"/>\r\n      </g>\r\n     </g>\r\n    </g>\r\n    <g id=\"ytick_28\">\r\n     <g id=\"line2d_40\">\r\n      <g>\r\n       <use style=\"stroke:#000000;stroke-width:0.8;\" x=\"276.070516\" xlink:href=\"#m554ef4f35c\" y=\"376.646428\"/>\r\n      </g>\r\n     </g>\r\n    </g>\r\n    <g id=\"ytick_29\">\r\n     <g id=\"line2d_41\">\r\n      <g>\r\n       <use style=\"stroke:#000000;stroke-width:0.8;\" x=\"276.070516\" xlink:href=\"#m554ef4f35c\" y=\"350.248548\"/>\r\n      </g>\r\n     </g>\r\n    </g>\r\n    <g id=\"ytick_30\">\r\n     <g id=\"line2d_42\">\r\n      <g>\r\n       <use style=\"stroke:#000000;stroke-width:0.8;\" x=\"276.070516\" xlink:href=\"#m554ef4f35c\" y=\"323.850668\"/>\r\n      </g>\r\n     </g>\r\n    </g>\r\n   </g>\r\n   <g id=\"patch_30\">\r\n    <path d=\"M 276.070516 429.442188 \r\nL 276.070516 313.775521 \r\n\" style=\"fill:none;stroke:#000000;stroke-linecap:square;stroke-linejoin:miter;stroke-width:0.8;\"/>\r\n   </g>\r\n   <g id=\"patch_31\">\r\n    <path d=\"M 276.070516 429.442188 \r\nL 497.0812 429.442188 \r\n\" style=\"fill:none;stroke:#000000;stroke-linecap:square;stroke-linejoin:miter;stroke-width:0.8;\"/>\r\n   </g>\r\n   <g id=\"text_30\">\r\n    <!-- Embarked = Q | Survived = 1 -->\r\n    <g transform=\"translate(312.61492 307.775521)scale(0.1 -0.1)\">\r\n     <use xlink:href=\"#DejaVuSans-69\"/>\r\n     <use x=\"63.183594\" xlink:href=\"#DejaVuSans-109\"/>\r\n     <use x=\"160.595703\" xlink:href=\"#DejaVuSans-98\"/>\r\n     <use x=\"224.072266\" xlink:href=\"#DejaVuSans-97\"/>\r\n     <use x=\"285.351562\" xlink:href=\"#DejaVuSans-114\"/>\r\n     <use x=\"326.464844\" xlink:href=\"#DejaVuSans-107\"/>\r\n     <use x=\"380.75\" xlink:href=\"#DejaVuSans-101\"/>\r\n     <use x=\"442.273438\" xlink:href=\"#DejaVuSans-100\"/>\r\n     <use x=\"505.75\" xlink:href=\"#DejaVuSans-32\"/>\r\n     <use x=\"537.537109\" xlink:href=\"#DejaVuSans-61\"/>\r\n     <use x=\"621.326172\" xlink:href=\"#DejaVuSans-32\"/>\r\n     <use x=\"653.113281\" xlink:href=\"#DejaVuSans-81\"/>\r\n     <use x=\"731.824219\" xlink:href=\"#DejaVuSans-32\"/>\r\n     <use x=\"763.611328\" xlink:href=\"#DejaVuSans-124\"/>\r\n     <use x=\"797.302734\" xlink:href=\"#DejaVuSans-32\"/>\r\n     <use x=\"829.089844\" xlink:href=\"#DejaVuSans-83\"/>\r\n     <use x=\"892.566406\" xlink:href=\"#DejaVuSans-117\"/>\r\n     <use x=\"955.945312\" xlink:href=\"#DejaVuSans-114\"/>\r\n     <use x=\"997.058594\" xlink:href=\"#DejaVuSans-118\"/>\r\n     <use x=\"1056.238281\" xlink:href=\"#DejaVuSans-105\"/>\r\n     <use x=\"1084.021484\" xlink:href=\"#DejaVuSans-118\"/>\r\n     <use x=\"1143.201172\" xlink:href=\"#DejaVuSans-101\"/>\r\n     <use x=\"1204.724609\" xlink:href=\"#DejaVuSans-100\"/>\r\n     <use x=\"1268.201172\" xlink:href=\"#DejaVuSans-32\"/>\r\n     <use x=\"1299.988281\" xlink:href=\"#DejaVuSans-61\"/>\r\n     <use x=\"1383.777344\" xlink:href=\"#DejaVuSans-32\"/>\r\n     <use x=\"1415.564453\" xlink:href=\"#DejaVuSans-49\"/>\r\n    </g>\r\n   </g>\r\n  </g>\r\n  <g id=\"legend_1\"/>\r\n </g>\r\n <defs>\r\n  <clipPath id=\"p36a82b2ba7\">\r\n   <rect height=\"115.666667\" width=\"221.010684\" x=\"40.603125\" y=\"20.842187\"/>\r\n  </clipPath>\r\n  <clipPath id=\"pe078107547\">\r\n   <rect height=\"115.666667\" width=\"221.010684\" x=\"276.070516\" y=\"20.842187\"/>\r\n  </clipPath>\r\n  <clipPath id=\"p6b32c06054\">\r\n   <rect height=\"115.666667\" width=\"221.010684\" x=\"40.603125\" y=\"167.308854\"/>\r\n  </clipPath>\r\n  <clipPath id=\"p51d495ec07\">\r\n   <rect height=\"115.666667\" width=\"221.010684\" x=\"276.070516\" y=\"167.308854\"/>\r\n  </clipPath>\r\n  <clipPath id=\"p91c6266488\">\r\n   <rect height=\"115.666667\" width=\"221.010684\" x=\"40.603125\" y=\"313.775521\"/>\r\n  </clipPath>\r\n  <clipPath id=\"pe9559aa8a4\">\r\n   <rect height=\"115.666667\" width=\"221.010684\" x=\"276.070516\" y=\"313.775521\"/>\r\n  </clipPath>\r\n </defs>\r\n</svg>\r\n",
      "image/png": "[encoded data removed]"
     },
     "metadata": {
      "needs_background": "light"
     }
    }
   ],
   "source": [
    "# grid = sns.FacetGrid(train_df, col='Embarked', hue='Survived', palette={0: 'k', 1: 'w'})\n",
    "grid = sns.FacetGrid(train_df, row='Embarked', col='Survived', size=2.2, aspect=1.6)\n",
    "grid.map(sns.barplot, 'Sex', 'Fare', alpha=.5, ci=None)\n",
    "grid.add_legend()"
   ]
  },
  {
   "cell_type": "markdown",
   "metadata": {
    "_cell_guid": "cfac6291-33cc-506e-e548-6cad9408623d",
    "_uuid": "73a9111a8dc2a6b8b6c78ef628b6cae2a63fc33f"
   },
   "source": [
    "## Wrangle data\n",
    "\n",
    "We have collected several assumptions and decisions regarding our datasets and solution requirements. So far we did not have to change a single feature or value to arrive at these. Let us now execute our decisions and assumptions for correcting, creating, and completing goals.\n",
    "\n",
    "### Correcting by dropping features\n",
    "\n",
    "This is a good starting goal to execute. By dropping features we are dealing with fewer data points. Speeds up our notebook and eases the analysis.\n",
    "\n",
    "Based on our assumptions and decisions we want to drop the Cabin (correcting #2) and Ticket (correcting #1) features.\n",
    "\n",
    "Note that where applicable we perform operations on both training and testing datasets together to stay consistent."
   ]
  },
  {
   "cell_type": "code",
   "execution_count": 48,
   "metadata": {
    "_cell_guid": "da057efe-88f0-bf49-917b-bb2fec418ed9",
    "_uuid": "e328d9882affedcfc4c167aa5bb1ac132547558c",
    "collapsed": true,
    "tags": []
   },
   "outputs": [
    {
     "output_type": "stream",
     "name": "stdout",
     "text": "Before (891, 12) (418, 11) (891, 12) (418, 11)\n"
    },
    {
     "output_type": "execute_result",
     "data": {
      "text/plain": "('After', (891, 10), (418, 9), (891, 10), (418, 9))"
     },
     "metadata": {},
     "execution_count": 48
    }
   ],
   "source": [
    "print(\"Before\", train_df.shape, test_df.shape, combine[0].shape, combine[1].shape)\n",
    "\n",
    "train_df = train_df.drop(['Ticket', 'Cabin'], axis=1)\n",
    "test_df = test_df.drop(['Ticket', 'Cabin'], axis=1)\n",
    "combine = [train_df, test_df]\n",
    "\n",
    "\"After\", train_df.shape, test_df.shape, combine[0].shape, combine[1].shape"
   ]
  },
  {
   "cell_type": "markdown",
   "metadata": {
    "_cell_guid": "6b3a1216-64b6-7fe2-50bc-e89cc964a41c",
    "_uuid": "21d5c47ee69f8fbef967f6f41d736b5d4eb6596f"
   },
   "source": [
    "### Creating new feature extracting from existing\n",
    "\n",
    "We want to analyze if Name feature can be engineered to extract titles and test correlation between titles and survival, before dropping Name and PassengerId features.\n",
    "\n",
    "In the following code we extract Title feature using regular expressions. The RegEx pattern `(\\w+\\.)` matches the first word which ends with a dot character within Name feature. The `expand=False` flag returns a DataFrame.\n",
    "\n",
    "**Observations.**\n",
    "\n",
    "When we plot Title, Age, and Survived, we note the following observations.\n",
    "\n",
    "- Most titles band Age groups accurately. For example: Master title has Age mean of 5 years.\n",
    "- Survival among Title Age bands varies slightly.\n",
    "- Certain titles mostly survived (Mme, Lady, Sir) or did not (Don, Rev, Jonkheer).\n",
    "\n",
    "**Decision.**\n",
    "\n",
    "- We decide to retain the new Title feature for model training."
   ]
  },
  {
   "cell_type": "code",
   "execution_count": 49,
   "metadata": {
    "_cell_guid": "df7f0cd4-992c-4a79-fb19-bf6f0c024d4b",
    "_uuid": "c916644bd151f3dc8fca900f656d415b4c55e2bc",
    "collapsed": true
   },
   "outputs": [
    {
     "output_type": "execute_result",
     "data": {
      "text/plain": "Sex       female  male\nTitle                 \nCapt           0     1\nCol            0     2\nCountess       1     0\nDon            0     1\nDr             1     6\nJonkheer       0     1\nLady           1     0\nMajor          0     2\nMaster         0    40\nMiss         182     0\nMlle           2     0\nMme            1     0\nMr             0   517\nMrs          125     0\nMs             1     0\nRev            0     6\nSir            0     1",
      "text/html": "<div>\n<style scoped>\n    .dataframe tbody tr th:only-of-type {\n        vertical-align: middle;\n    }\n\n    .dataframe tbody tr th {\n        vertical-align: top;\n    }\n\n    .dataframe thead th {\n        text-align: right;\n    }\n</style>\n<table border=\"1\" class=\"dataframe\">\n  <thead>\n    <tr style=\"text-align: right;\">\n      <th>Sex</th>\n      <th>female</th>\n      <th>male</th>\n    </tr>\n    <tr>\n      <th>Title</th>\n      <th></th>\n      <th></th>\n    </tr>\n  </thead>\n  <tbody>\n    <tr>\n      <th>Capt</th>\n      <td>0</td>\n      <td>1</td>\n    </tr>\n    <tr>\n      <th>Col</th>\n      <td>0</td>\n      <td>2</td>\n    </tr>\n    <tr>\n      <th>Countess</th>\n      <td>1</td>\n      <td>0</td>\n    </tr>\n    <tr>\n      <th>Don</th>\n      <td>0</td>\n      <td>1</td>\n    </tr>\n    <tr>\n      <th>Dr</th>\n      <td>1</td>\n      <td>6</td>\n    </tr>\n    <tr>\n      <th>Jonkheer</th>\n      <td>0</td>\n      <td>1</td>\n    </tr>\n    <tr>\n      <th>Lady</th>\n      <td>1</td>\n      <td>0</td>\n    </tr>\n    <tr>\n      <th>Major</th>\n      <td>0</td>\n      <td>2</td>\n    </tr>\n    <tr>\n      <th>Master</th>\n      <td>0</td>\n      <td>40</td>\n    </tr>\n    <tr>\n      <th>Miss</th>\n      <td>182</td>\n      <td>0</td>\n    </tr>\n    <tr>\n      <th>Mlle</th>\n      <td>2</td>\n      <td>0</td>\n    </tr>\n    <tr>\n      <th>Mme</th>\n      <td>1</td>\n      <td>0</td>\n    </tr>\n    <tr>\n      <th>Mr</th>\n      <td>0</td>\n      <td>517</td>\n    </tr>\n    <tr>\n      <th>Mrs</th>\n      <td>125</td>\n      <td>0</td>\n    </tr>\n    <tr>\n      <th>Ms</th>\n      <td>1</td>\n      <td>0</td>\n    </tr>\n    <tr>\n      <th>Rev</th>\n      <td>0</td>\n      <td>6</td>\n    </tr>\n    <tr>\n      <th>Sir</th>\n      <td>0</td>\n      <td>1</td>\n    </tr>\n  </tbody>\n</table>\n</div>"
     },
     "metadata": {},
     "execution_count": 49
    }
   ],
   "source": [
    "for dataset in combine:\n",
    "    dataset['Title'] = dataset.Name.str.extract(' ([A-Za-z]+)\\.', expand=False)\n",
    "\n",
    "pd.crosstab(train_df['Title'], train_df['Sex'])"
   ]
  },
  {
   "cell_type": "markdown",
   "metadata": {
    "_cell_guid": "908c08a6-3395-19a5-0cd7-13341054012a",
    "_uuid": "f766d512ea5bfe60b5eb7a816f482f2ab688fd2f"
   },
   "source": [
    "We can replace many titles with a more common name or classify them as `Rare`."
   ]
  },
  {
   "cell_type": "code",
   "execution_count": 50,
   "metadata": {
    "_cell_guid": "553f56d7-002a-ee63-21a4-c0efad10cfe9",
    "_uuid": "b8cd938fba61fb4e226c77521b012f4bb8aa01d0",
    "collapsed": true
   },
   "outputs": [
    {
     "output_type": "execute_result",
     "data": {
      "text/plain": "    Title  Survived\n0  Master  0.575000\n1    Miss  0.702703\n2      Mr  0.156673\n3     Mrs  0.793651\n4    Rare  0.347826",
      "text/html": "<div>\n<style scoped>\n    .dataframe tbody tr th:only-of-type {\n        vertical-align: middle;\n    }\n\n    .dataframe tbody tr th {\n        vertical-align: top;\n    }\n\n    .dataframe thead th {\n        text-align: right;\n    }\n</style>\n<table border=\"1\" class=\"dataframe\">\n  <thead>\n    <tr style=\"text-align: right;\">\n      <th></th>\n      <th>Title</th>\n      <th>Survived</th>\n    </tr>\n  </thead>\n  <tbody>\n    <tr>\n      <th>0</th>\n      <td>Master</td>\n      <td>0.575000</td>\n    </tr>\n    <tr>\n      <th>1</th>\n      <td>Miss</td>\n      <td>0.702703</td>\n    </tr>\n    <tr>\n      <th>2</th>\n      <td>Mr</td>\n      <td>0.156673</td>\n    </tr>\n    <tr>\n      <th>3</th>\n      <td>Mrs</td>\n      <td>0.793651</td>\n    </tr>\n    <tr>\n      <th>4</th>\n      <td>Rare</td>\n      <td>0.347826</td>\n    </tr>\n  </tbody>\n</table>\n</div>"
     },
     "metadata": {},
     "execution_count": 50
    }
   ],
   "source": [
    "for dataset in combine:\n",
    "    dataset['Title'] = dataset['Title'].replace(['Lady', 'Countess','Capt', 'Col',\\\n",
    " \t'Don', 'Dr', 'Major', 'Rev', 'Sir', 'Jonkheer', 'Dona'], 'Rare')\n",
    "\n",
    "    dataset['Title'] = dataset['Title'].replace('Mlle', 'Miss')\n",
    "    dataset['Title'] = dataset['Title'].replace('Ms', 'Miss')\n",
    "    dataset['Title'] = dataset['Title'].replace('Mme', 'Mrs')\n",
    "    \n",
    "train_df[['Title', 'Survived']].groupby(['Title'], as_index=False).mean()"
   ]
  },
  {
   "cell_type": "markdown",
   "metadata": {
    "_cell_guid": "6d46be9a-812a-f334-73b9-56ed912c9eca",
    "_uuid": "de245fe76474d46995a5acc31b905b8aaa5893f6"
   },
   "source": [
    "We can convert the categorical titles to ordinal."
   ]
  },
  {
   "cell_type": "code",
   "execution_count": 51,
   "metadata": {
    "_cell_guid": "67444ebc-4d11-bac1-74a6-059133b6e2e8",
    "_uuid": "e805ad52f0514497b67c3726104ba46d361eb92c",
    "collapsed": true
   },
   "outputs": [
    {
     "output_type": "execute_result",
     "data": {
      "text/plain": "   PassengerId  Survived  Pclass  \\\n0            1         0       3   \n1            2         1       1   \n2            3         1       3   \n3            4         1       1   \n4            5         0       3   \n\n                                                Name     Sex   Age  SibSp  \\\n0                            Braund, Mr. Owen Harris    male  22.0      1   \n1  Cumings, Mrs. John Bradley (Florence Briggs Th...  female  38.0      1   \n2                             Heikkinen, Miss. Laina  female  26.0      0   \n3       Futrelle, Mrs. Jacques Heath (Lily May Peel)  female  35.0      1   \n4                           Allen, Mr. William Henry    male  35.0      0   \n\n   Parch     Fare Embarked  Title  \n0      0   7.2500        S      1  \n1      0  71.2833        C      3  \n2      0   7.9250        S      2  \n3      0  53.1000        S      3  \n4      0   8.0500        S      1  ",
      "text/html": "<div>\n<style scoped>\n    .dataframe tbody tr th:only-of-type {\n        vertical-align: middle;\n    }\n\n    .dataframe tbody tr th {\n        vertical-align: top;\n    }\n\n    .dataframe thead th {\n        text-align: right;\n    }\n</style>\n<table border=\"1\" class=\"dataframe\">\n  <thead>\n    <tr style=\"text-align: right;\">\n      <th></th>\n      <th>PassengerId</th>\n      <th>Survived</th>\n      <th>Pclass</th>\n      <th>Name</th>\n      <th>Sex</th>\n      <th>Age</th>\n      <th>SibSp</th>\n      <th>Parch</th>\n      <th>Fare</th>\n      <th>Embarked</th>\n      <th>Title</th>\n    </tr>\n  </thead>\n  <tbody>\n    <tr>\n      <th>0</th>\n      <td>1</td>\n      <td>0</td>\n      <td>3</td>\n      <td>Braund, Mr. Owen Harris</td>\n      <td>male</td>\n      <td>22.0</td>\n      <td>1</td>\n      <td>0</td>\n      <td>7.2500</td>\n      <td>S</td>\n      <td>1</td>\n    </tr>\n    <tr>\n      <th>1</th>\n      <td>2</td>\n      <td>1</td>\n      <td>1</td>\n      <td>Cumings, Mrs. John Bradley (Florence Briggs Th...</td>\n      <td>female</td>\n      <td>38.0</td>\n      <td>1</td>\n      <td>0</td>\n      <td>71.2833</td>\n      <td>C</td>\n      <td>3</td>\n    </tr>\n    <tr>\n      <th>2</th>\n      <td>3</td>\n      <td>1</td>\n      <td>3</td>\n      <td>Heikkinen, Miss. Laina</td>\n      <td>female</td>\n      <td>26.0</td>\n      <td>0</td>\n      <td>0</td>\n      <td>7.9250</td>\n      <td>S</td>\n      <td>2</td>\n    </tr>\n    <tr>\n      <th>3</th>\n      <td>4</td>\n      <td>1</td>\n      <td>1</td>\n      <td>Futrelle, Mrs. Jacques Heath (Lily May Peel)</td>\n      <td>female</td>\n      <td>35.0</td>\n      <td>1</td>\n      <td>0</td>\n      <td>53.1000</td>\n      <td>S</td>\n      <td>3</td>\n    </tr>\n    <tr>\n      <th>4</th>\n      <td>5</td>\n      <td>0</td>\n      <td>3</td>\n      <td>Allen, Mr. William Henry</td>\n      <td>male</td>\n      <td>35.0</td>\n      <td>0</td>\n      <td>0</td>\n      <td>8.0500</td>\n      <td>S</td>\n      <td>1</td>\n    </tr>\n  </tbody>\n</table>\n</div>"
     },
     "metadata": {},
     "execution_count": 51
    }
   ],
   "source": [
    "title_mapping = {\"Mr\": 1, \"Miss\": 2, \"Mrs\": 3, \"Master\": 4, \"Rare\": 5}\n",
    "for dataset in combine:\n",
    "    dataset['Title'] = dataset['Title'].map(title_mapping)\n",
    "    dataset['Title'] = dataset['Title'].fillna(0)\n",
    "\n",
    "train_df.head()"
   ]
  },
  {
   "cell_type": "markdown",
   "metadata": {
    "_cell_guid": "f27bb974-a3d7-07a1-f7e4-876f6da87e62",
    "_uuid": "5fefaa1b37c537dda164c87a757fe705a99815d9"
   },
   "source": [
    "Now we can safely drop the Name feature from training and testing datasets. We also do not need the PassengerId feature in the training dataset."
   ]
  },
  {
   "cell_type": "code",
   "execution_count": 52,
   "metadata": {
    "_cell_guid": "9d61dded-5ff0-5018-7580-aecb4ea17506",
    "_uuid": "1da299cf2ffd399fd5b37d74fb40665d16ba5347",
    "collapsed": true
   },
   "outputs": [
    {
     "output_type": "execute_result",
     "data": {
      "text/plain": "((891, 9), (418, 9))"
     },
     "metadata": {},
     "execution_count": 52
    }
   ],
   "source": [
    "train_df = train_df.drop(['Name', 'PassengerId'], axis=1)\n",
    "test_df = test_df.drop(['Name'], axis=1)\n",
    "combine = [train_df, test_df]\n",
    "train_df.shape, test_df.shape"
   ]
  },
  {
   "cell_type": "markdown",
   "metadata": {
    "_cell_guid": "2c8e84bb-196d-bd4a-4df9-f5213561b5d3",
    "_uuid": "a1ac66c79b279d94860e66996d3d8dba801a6d9a"
   },
   "source": [
    "### Converting a categorical feature\n",
    "\n",
    "Now we can convert features which contain strings to numerical values. This is required by most model algorithms. Doing so will also help us in achieving the feature completing goal.\n",
    "\n",
    "Let us start by converting Sex feature to a new feature called Gender where female=1 and male=0."
   ]
  },
  {
   "cell_type": "code",
   "execution_count": 53,
   "metadata": {
    "_cell_guid": "c20c1df2-157c-e5a0-3e24-15a828095c96",
    "_uuid": "840498eaee7baaca228499b0a5652da9d4edaf37",
    "collapsed": true
   },
   "outputs": [
    {
     "output_type": "execute_result",
     "data": {
      "text/plain": "   Survived  Pclass  Sex   Age  SibSp  Parch     Fare Embarked  Title\n0         0       3    0  22.0      1      0   7.2500        S      1\n1         1       1    1  38.0      1      0  71.2833        C      3\n2         1       3    1  26.0      0      0   7.9250        S      2\n3         1       1    1  35.0      1      0  53.1000        S      3\n4         0       3    0  35.0      0      0   8.0500        S      1",
      "text/html": "<div>\n<style scoped>\n    .dataframe tbody tr th:only-of-type {\n        vertical-align: middle;\n    }\n\n    .dataframe tbody tr th {\n        vertical-align: top;\n    }\n\n    .dataframe thead th {\n        text-align: right;\n    }\n</style>\n<table border=\"1\" class=\"dataframe\">\n  <thead>\n    <tr style=\"text-align: right;\">\n      <th></th>\n      <th>Survived</th>\n      <th>Pclass</th>\n      <th>Sex</th>\n      <th>Age</th>\n      <th>SibSp</th>\n      <th>Parch</th>\n      <th>Fare</th>\n      <th>Embarked</th>\n      <th>Title</th>\n    </tr>\n  </thead>\n  <tbody>\n    <tr>\n      <th>0</th>\n      <td>0</td>\n      <td>3</td>\n      <td>0</td>\n      <td>22.0</td>\n      <td>1</td>\n      <td>0</td>\n      <td>7.2500</td>\n      <td>S</td>\n      <td>1</td>\n    </tr>\n    <tr>\n      <th>1</th>\n      <td>1</td>\n      <td>1</td>\n      <td>1</td>\n      <td>38.0</td>\n      <td>1</td>\n      <td>0</td>\n      <td>71.2833</td>\n      <td>C</td>\n      <td>3</td>\n    </tr>\n    <tr>\n      <th>2</th>\n      <td>1</td>\n      <td>3</td>\n      <td>1</td>\n      <td>26.0</td>\n      <td>0</td>\n      <td>0</td>\n      <td>7.9250</td>\n      <td>S</td>\n      <td>2</td>\n    </tr>\n    <tr>\n      <th>3</th>\n      <td>1</td>\n      <td>1</td>\n      <td>1</td>\n      <td>35.0</td>\n      <td>1</td>\n      <td>0</td>\n      <td>53.1000</td>\n      <td>S</td>\n      <td>3</td>\n    </tr>\n    <tr>\n      <th>4</th>\n      <td>0</td>\n      <td>3</td>\n      <td>0</td>\n      <td>35.0</td>\n      <td>0</td>\n      <td>0</td>\n      <td>8.0500</td>\n      <td>S</td>\n      <td>1</td>\n    </tr>\n  </tbody>\n</table>\n</div>"
     },
     "metadata": {},
     "execution_count": 53
    }
   ],
   "source": [
    "for dataset in combine:\n",
    "    dataset['Sex'] = dataset['Sex'].map( {'female': 1, 'male': 0} ).astype(int)\n",
    "\n",
    "train_df.head()"
   ]
  },
  {
   "cell_type": "markdown",
   "metadata": {
    "_cell_guid": "d72cb29e-5034-1597-b459-83a9640d3d3a",
    "_uuid": "6da8bfe6c832f4bd2aa1312bdd6b8b4af48a012e"
   },
   "source": [
    "### Completing a numerical continuous feature\n",
    "\n",
    "Now we should start estimating and completing features with missing or null values. We will first do this for the Age feature.\n",
    "\n",
    "We can consider three methods to complete a numerical continuous feature.\n",
    "\n",
    "1. A simple way is to generate random numbers between mean and [standard deviation](https://en.wikipedia.org/wiki/Standard_deviation).\n",
    "\n",
    "2. More accurate way of guessing missing values is to use other correlated features. In our case we note correlation among Age, Gender, and Pclass. Guess Age values using [median](https://en.wikipedia.org/wiki/Median) values for Age across sets of Pclass and Gender feature combinations. So, median Age for Pclass=1 and Gender=0, Pclass=1 and Gender=1, and so on...\n",
    "\n",
    "3. Combine methods 1 and 2. So instead of guessing age values based on median, use random numbers between mean and standard deviation, based on sets of Pclass and Gender combinations.\n",
    "\n",
    "Method 1 and 3 will introduce random noise into our models. The results from multiple executions might vary. We will prefer method 2."
   ]
  },
  {
   "cell_type": "code",
   "execution_count": 54,
   "metadata": {
    "_cell_guid": "c311c43d-6554-3b52-8ef8-533ca08b2f68",
    "_uuid": "345038c8dd1bac9a9bc5e2cfee13fcc1f833eee0",
    "collapsed": true
   },
   "outputs": [
    {
     "output_type": "execute_result",
     "data": {
      "text/plain": "<seaborn.axisgrid.FacetGrid at 0x19b444208b0>"
     },
     "metadata": {},
     "execution_count": 54
    },
    {
     "output_type": "display_data",
     "data": {
      "text/plain": "<Figure size 514.88x475.2 with 6 Axes>",
      "image/svg+xml": "<?xml version=\"1.0\" encoding=\"utf-8\" standalone=\"no\"?>\r\n<!DOCTYPE svg PUBLIC \"-//W3C//DTD SVG 1.1//EN\"\r\n  \"http://www.w3.org/Graphics/SVG/1.1/DTD/svg11.dtd\">\r\n<!-- Created with matplotlib (https://matplotlib.org/) -->\r\n<svg height=\"466.998438pt\" version=\"1.1\" viewBox=\"0 0 512.972835 466.998438\" width=\"512.972835pt\" xmlns=\"http://www.w3.org/2000/svg\" xmlns:xlink=\"http://www.w3.org/1999/xlink\">\r\n <defs>\r\n  <style type=\"text/css\">\r\n*{stroke-linecap:butt;stroke-linejoin:round;}\r\n  </style>\r\n </defs>\r\n <g id=\"figure_1\">\r\n  <g id=\"patch_1\">\r\n   <path d=\"M 0 466.998438 \r\nL 512.972835 466.998438 \r\nL 512.972835 0 \r\nL 0 0 \r\nz\r\n\" style=\"fill:none;\"/>\r\n  </g>\r\n  <g id=\"axes_1\">\r\n   <g id=\"patch_2\">\r\n    <path d=\"M 26.925 136.508854 \r\nL 255.045127 136.508854 \r\nL 255.045127 20.842187 \r\nL 26.925 20.842187 \r\nz\r\n\" style=\"fill:#ffffff;\"/>\r\n   </g>\r\n   <g id=\"patch_3\">\r\n    <path clip-path=\"url(#pb28e3002e0)\" d=\"M 38.597074 136.508854 \r\nL 48.901022 136.508854 \r\nL 48.901022 132.351921 \r\nL 38.597074 132.351921 \r\nz\r\n\" style=\"fill:#1f77b4;opacity:0.5;\"/>\r\n   </g>\r\n   <g id=\"patch_4\">\r\n    <path clip-path=\"url(#pb28e3002e0)\" d=\"M 48.901022 136.508854 \r\nL 59.20497 136.508854 \r\nL 59.20497 136.508854 \r\nL 48.901022 136.508854 \r\nz\r\n\" style=\"fill:#1f77b4;opacity:0.5;\"/>\r\n   </g>\r\n   <g id=\"patch_5\">\r\n    <path clip-path=\"url(#pb28e3002e0)\" d=\"M 59.20497 136.508854 \r\nL 69.508918 136.508854 \r\nL 69.508918 134.430388 \r\nL 59.20497 134.430388 \r\nz\r\n\" style=\"fill:#1f77b4;opacity:0.5;\"/>\r\n   </g>\r\n   <g id=\"patch_6\">\r\n    <path clip-path=\"url(#pb28e3002e0)\" d=\"M 69.508918 136.508854 \r\nL 79.812866 136.508854 \r\nL 79.812866 136.508854 \r\nL 69.508918 136.508854 \r\nz\r\n\" style=\"fill:#1f77b4;opacity:0.5;\"/>\r\n   </g>\r\n   <g id=\"patch_7\">\r\n    <path clip-path=\"url(#pb28e3002e0)\" d=\"M 79.812866 136.508854 \r\nL 90.116813 136.508854 \r\nL 90.116813 128.194988 \r\nL 79.812866 128.194988 \r\nz\r\n\" style=\"fill:#1f77b4;opacity:0.5;\"/>\r\n   </g>\r\n   <g id=\"patch_8\">\r\n    <path clip-path=\"url(#pb28e3002e0)\" d=\"M 90.116813 136.508854 \r\nL 100.420761 136.508854 \r\nL 100.420761 126.116521 \r\nL 90.116813 126.116521 \r\nz\r\n\" style=\"fill:#1f77b4;opacity:0.5;\"/>\r\n   </g>\r\n   <g id=\"patch_9\">\r\n    <path clip-path=\"url(#pb28e3002e0)\" d=\"M 100.420761 136.508854 \r\nL 110.724709 136.508854 \r\nL 110.724709 113.645721 \r\nL 100.420761 113.645721 \r\nz\r\n\" style=\"fill:#1f77b4;opacity:0.5;\"/>\r\n   </g>\r\n   <g id=\"patch_10\">\r\n    <path clip-path=\"url(#pb28e3002e0)\" d=\"M 110.724709 136.508854 \r\nL 121.028657 136.508854 \r\nL 121.028657 121.959588 \r\nL 110.724709 121.959588 \r\nz\r\n\" style=\"fill:#1f77b4;opacity:0.5;\"/>\r\n   </g>\r\n   <g id=\"patch_11\">\r\n    <path clip-path=\"url(#pb28e3002e0)\" d=\"M 121.028657 136.508854 \r\nL 131.332605 136.508854 \r\nL 131.332605 113.645721 \r\nL 121.028657 113.645721 \r\nz\r\n\" style=\"fill:#1f77b4;opacity:0.5;\"/>\r\n   </g>\r\n   <g id=\"patch_12\">\r\n    <path clip-path=\"url(#pb28e3002e0)\" d=\"M 131.332605 136.508854 \r\nL 141.636552 136.508854 \r\nL 141.636552 115.724188 \r\nL 131.332605 115.724188 \r\nz\r\n\" style=\"fill:#1f77b4;opacity:0.5;\"/>\r\n   </g>\r\n   <g id=\"patch_13\">\r\n    <path clip-path=\"url(#pb28e3002e0)\" d=\"M 141.636552 136.508854 \r\nL 151.9405 136.508854 \r\nL 151.9405 128.194988 \r\nL 141.636552 128.194988 \r\nz\r\n\" style=\"fill:#1f77b4;opacity:0.5;\"/>\r\n   </g>\r\n   <g id=\"patch_14\">\r\n    <path clip-path=\"url(#pb28e3002e0)\" d=\"M 151.9405 136.508854 \r\nL 162.244448 136.508854 \r\nL 162.244448 107.410322 \r\nL 151.9405 107.410322 \r\nz\r\n\" style=\"fill:#1f77b4;opacity:0.5;\"/>\r\n   </g>\r\n   <g id=\"patch_15\">\r\n    <path clip-path=\"url(#pb28e3002e0)\" d=\"M 162.244448 136.508854 \r\nL 172.548396 136.508854 \r\nL 172.548396 115.724188 \r\nL 162.244448 115.724188 \r\nz\r\n\" style=\"fill:#1f77b4;opacity:0.5;\"/>\r\n   </g>\r\n   <g id=\"patch_16\">\r\n    <path clip-path=\"url(#pb28e3002e0)\" d=\"M 172.548396 136.508854 \r\nL 182.852343 136.508854 \r\nL 182.852343 124.038055 \r\nL 172.548396 124.038055 \r\nz\r\n\" style=\"fill:#1f77b4;opacity:0.5;\"/>\r\n   </g>\r\n   <g id=\"patch_17\">\r\n    <path clip-path=\"url(#pb28e3002e0)\" d=\"M 182.852343 136.508854 \r\nL 193.156291 136.508854 \r\nL 193.156291 128.194988 \r\nL 182.852343 128.194988 \r\nz\r\n\" style=\"fill:#1f77b4;opacity:0.5;\"/>\r\n   </g>\r\n   <g id=\"patch_18\">\r\n    <path clip-path=\"url(#pb28e3002e0)\" d=\"M 193.156291 136.508854 \r\nL 203.460239 136.508854 \r\nL 203.460239 124.038055 \r\nL 193.156291 124.038055 \r\nz\r\n\" style=\"fill:#1f77b4;opacity:0.5;\"/>\r\n   </g>\r\n   <g id=\"patch_19\">\r\n    <path clip-path=\"url(#pb28e3002e0)\" d=\"M 203.460239 136.508854 \r\nL 213.764187 136.508854 \r\nL 213.764187 132.351921 \r\nL 203.460239 132.351921 \r\nz\r\n\" style=\"fill:#1f77b4;opacity:0.5;\"/>\r\n   </g>\r\n   <g id=\"patch_20\">\r\n    <path clip-path=\"url(#pb28e3002e0)\" d=\"M 213.764187 136.508854 \r\nL 224.068135 136.508854 \r\nL 224.068135 130.273454 \r\nL 213.764187 130.273454 \r\nz\r\n\" style=\"fill:#1f77b4;opacity:0.5;\"/>\r\n   </g>\r\n   <g id=\"patch_21\">\r\n    <path clip-path=\"url(#pb28e3002e0)\" d=\"M 224.068135 136.508854 \r\nL 234.372082 136.508854 \r\nL 234.372082 136.508854 \r\nL 224.068135 136.508854 \r\nz\r\n\" style=\"fill:#1f77b4;opacity:0.5;\"/>\r\n   </g>\r\n   <g id=\"patch_22\">\r\n    <path clip-path=\"url(#pb28e3002e0)\" d=\"M 234.372082 136.508854 \r\nL 244.67603 136.508854 \r\nL 244.67603 134.430388 \r\nL 234.372082 134.430388 \r\nz\r\n\" style=\"fill:#1f77b4;opacity:0.5;\"/>\r\n   </g>\r\n   <g id=\"matplotlib.axis_1\">\r\n    <g id=\"xtick_1\">\r\n     <g id=\"line2d_1\">\r\n      <defs>\r\n       <path d=\"M 0 0 \r\nL 0 3.5 \r\n\" id=\"me427235e41\" style=\"stroke:#000000;stroke-width:0.8;\"/>\r\n      </defs>\r\n      <g>\r\n       <use style=\"stroke:#000000;stroke-width:0.8;\" x=\"36.199595\" xlink:href=\"#me427235e41\" y=\"136.508854\"/>\r\n      </g>\r\n     </g>\r\n    </g>\r\n    <g id=\"xtick_2\">\r\n     <g id=\"line2d_2\">\r\n      <g>\r\n       <use style=\"stroke:#000000;stroke-width:0.8;\" x=\"88.318704\" xlink:href=\"#me427235e41\" y=\"136.508854\"/>\r\n      </g>\r\n     </g>\r\n    </g>\r\n    <g id=\"xtick_3\">\r\n     <g id=\"line2d_3\">\r\n      <g>\r\n       <use style=\"stroke:#000000;stroke-width:0.8;\" x=\"140.437813\" xlink:href=\"#me427235e41\" y=\"136.508854\"/>\r\n      </g>\r\n     </g>\r\n    </g>\r\n    <g id=\"xtick_4\">\r\n     <g id=\"line2d_4\">\r\n      <g>\r\n       <use style=\"stroke:#000000;stroke-width:0.8;\" x=\"192.556922\" xlink:href=\"#me427235e41\" y=\"136.508854\"/>\r\n      </g>\r\n     </g>\r\n    </g>\r\n    <g id=\"xtick_5\">\r\n     <g id=\"line2d_5\">\r\n      <g>\r\n       <use style=\"stroke:#000000;stroke-width:0.8;\" x=\"244.67603\" xlink:href=\"#me427235e41\" y=\"136.508854\"/>\r\n      </g>\r\n     </g>\r\n    </g>\r\n   </g>\r\n   <g id=\"matplotlib.axis_2\">\r\n    <g id=\"ytick_1\">\r\n     <g id=\"line2d_6\">\r\n      <defs>\r\n       <path d=\"M 0 0 \r\nL -3.5 0 \r\n\" id=\"m76a3c9faa2\" style=\"stroke:#000000;stroke-width:0.8;\"/>\r\n      </defs>\r\n      <g>\r\n       <use style=\"stroke:#000000;stroke-width:0.8;\" x=\"26.925\" xlink:href=\"#m76a3c9faa2\" y=\"136.508854\"/>\r\n      </g>\r\n     </g>\r\n     <g id=\"text_1\">\r\n      <!-- 0 -->\r\n      <defs>\r\n       <path d=\"M 31.78125 66.40625 \r\nQ 24.171875 66.40625 20.328125 58.90625 \r\nQ 16.5 51.421875 16.5 36.375 \r\nQ 16.5 21.390625 20.328125 13.890625 \r\nQ 24.171875 6.390625 31.78125 6.390625 \r\nQ 39.453125 6.390625 43.28125 13.890625 \r\nQ 47.125 21.390625 47.125 36.375 \r\nQ 47.125 51.421875 43.28125 58.90625 \r\nQ 39.453125 66.40625 31.78125 66.40625 \r\nz\r\nM 31.78125 74.21875 \r\nQ 44.046875 74.21875 50.515625 64.515625 \r\nQ 56.984375 54.828125 56.984375 36.375 \r\nQ 56.984375 17.96875 50.515625 8.265625 \r\nQ 44.046875 -1.421875 31.78125 -1.421875 \r\nQ 19.53125 -1.421875 13.0625 8.265625 \r\nQ 6.59375 17.96875 6.59375 36.375 \r\nQ 6.59375 54.828125 13.0625 64.515625 \r\nQ 19.53125 74.21875 31.78125 74.21875 \r\nz\r\n\" id=\"DejaVuSans-48\"/>\r\n      </defs>\r\n      <g transform=\"translate(13.5625 140.308073)scale(0.1 -0.1)\">\r\n       <use xlink:href=\"#DejaVuSans-48\"/>\r\n      </g>\r\n     </g>\r\n    </g>\r\n    <g id=\"ytick_2\">\r\n     <g id=\"line2d_7\">\r\n      <g>\r\n       <use style=\"stroke:#000000;stroke-width:0.8;\" x=\"26.925\" xlink:href=\"#m76a3c9faa2\" y=\"94.939522\"/>\r\n      </g>\r\n     </g>\r\n     <g id=\"text_2\">\r\n      <!-- 20 -->\r\n      <defs>\r\n       <path d=\"M 19.1875 8.296875 \r\nL 53.609375 8.296875 \r\nL 53.609375 0 \r\nL 7.328125 0 \r\nL 7.328125 8.296875 \r\nQ 12.9375 14.109375 22.625 23.890625 \r\nQ 32.328125 33.6875 34.8125 36.53125 \r\nQ 39.546875 41.84375 41.421875 45.53125 \r\nQ 43.3125 49.21875 43.3125 52.78125 \r\nQ 43.3125 58.59375 39.234375 62.25 \r\nQ 35.15625 65.921875 28.609375 65.921875 \r\nQ 23.96875 65.921875 18.8125 64.3125 \r\nQ 13.671875 62.703125 7.8125 59.421875 \r\nL 7.8125 69.390625 \r\nQ 13.765625 71.78125 18.9375 73 \r\nQ 24.125 74.21875 28.421875 74.21875 \r\nQ 39.75 74.21875 46.484375 68.546875 \r\nQ 53.21875 62.890625 53.21875 53.421875 \r\nQ 53.21875 48.921875 51.53125 44.890625 \r\nQ 49.859375 40.875 45.40625 35.40625 \r\nQ 44.1875 33.984375 37.640625 27.21875 \r\nQ 31.109375 20.453125 19.1875 8.296875 \r\nz\r\n\" id=\"DejaVuSans-50\"/>\r\n      </defs>\r\n      <g transform=\"translate(7.2 98.738741)scale(0.1 -0.1)\">\r\n       <use xlink:href=\"#DejaVuSans-50\"/>\r\n       <use x=\"63.623047\" xlink:href=\"#DejaVuSans-48\"/>\r\n      </g>\r\n     </g>\r\n    </g>\r\n    <g id=\"ytick_3\">\r\n     <g id=\"line2d_8\">\r\n      <g>\r\n       <use style=\"stroke:#000000;stroke-width:0.8;\" x=\"26.925\" xlink:href=\"#m76a3c9faa2\" y=\"53.37019\"/>\r\n      </g>\r\n     </g>\r\n     <g id=\"text_3\">\r\n      <!-- 40 -->\r\n      <defs>\r\n       <path d=\"M 37.796875 64.3125 \r\nL 12.890625 25.390625 \r\nL 37.796875 25.390625 \r\nz\r\nM 35.203125 72.90625 \r\nL 47.609375 72.90625 \r\nL 47.609375 25.390625 \r\nL 58.015625 25.390625 \r\nL 58.015625 17.1875 \r\nL 47.609375 17.1875 \r\nL 47.609375 0 \r\nL 37.796875 0 \r\nL 37.796875 17.1875 \r\nL 4.890625 17.1875 \r\nL 4.890625 26.703125 \r\nz\r\n\" id=\"DejaVuSans-52\"/>\r\n      </defs>\r\n      <g transform=\"translate(7.2 57.169409)scale(0.1 -0.1)\">\r\n       <use xlink:href=\"#DejaVuSans-52\"/>\r\n       <use x=\"63.623047\" xlink:href=\"#DejaVuSans-48\"/>\r\n      </g>\r\n     </g>\r\n    </g>\r\n   </g>\r\n   <g id=\"patch_23\">\r\n    <path d=\"M 26.925 136.508854 \r\nL 26.925 20.842187 \r\n\" style=\"fill:none;stroke:#000000;stroke-linecap:square;stroke-linejoin:miter;stroke-width:0.8;\"/>\r\n   </g>\r\n   <g id=\"patch_24\">\r\n    <path d=\"M 26.925 136.508854 \r\nL 255.045127 136.508854 \r\n\" style=\"fill:none;stroke:#000000;stroke-linecap:square;stroke-linejoin:miter;stroke-width:0.8;\"/>\r\n   </g>\r\n   <g id=\"text_4\">\r\n    <!-- Pclass = 1 | Sex = 0 -->\r\n    <defs>\r\n     <path d=\"M 19.671875 64.796875 \r\nL 19.671875 37.40625 \r\nL 32.078125 37.40625 \r\nQ 38.96875 37.40625 42.71875 40.96875 \r\nQ 46.484375 44.53125 46.484375 51.125 \r\nQ 46.484375 57.671875 42.71875 61.234375 \r\nQ 38.96875 64.796875 32.078125 64.796875 \r\nz\r\nM 9.8125 72.90625 \r\nL 32.078125 72.90625 \r\nQ 44.34375 72.90625 50.609375 67.359375 \r\nQ 56.890625 61.8125 56.890625 51.125 \r\nQ 56.890625 40.328125 50.609375 34.8125 \r\nQ 44.34375 29.296875 32.078125 29.296875 \r\nL 19.671875 29.296875 \r\nL 19.671875 0 \r\nL 9.8125 0 \r\nz\r\n\" id=\"DejaVuSans-80\"/>\r\n     <path d=\"M 48.78125 52.59375 \r\nL 48.78125 44.1875 \r\nQ 44.96875 46.296875 41.140625 47.34375 \r\nQ 37.3125 48.390625 33.40625 48.390625 \r\nQ 24.65625 48.390625 19.8125 42.84375 \r\nQ 14.984375 37.3125 14.984375 27.296875 \r\nQ 14.984375 17.28125 19.8125 11.734375 \r\nQ 24.65625 6.203125 33.40625 6.203125 \r\nQ 37.3125 6.203125 41.140625 7.25 \r\nQ 44.96875 8.296875 48.78125 10.40625 \r\nL 48.78125 2.09375 \r\nQ 45.015625 0.34375 40.984375 -0.53125 \r\nQ 36.96875 -1.421875 32.421875 -1.421875 \r\nQ 20.0625 -1.421875 12.78125 6.34375 \r\nQ 5.515625 14.109375 5.515625 27.296875 \r\nQ 5.515625 40.671875 12.859375 48.328125 \r\nQ 20.21875 56 33.015625 56 \r\nQ 37.15625 56 41.109375 55.140625 \r\nQ 45.0625 54.296875 48.78125 52.59375 \r\nz\r\n\" id=\"DejaVuSans-99\"/>\r\n     <path d=\"M 9.421875 75.984375 \r\nL 18.40625 75.984375 \r\nL 18.40625 0 \r\nL 9.421875 0 \r\nz\r\n\" id=\"DejaVuSans-108\"/>\r\n     <path d=\"M 34.28125 27.484375 \r\nQ 23.390625 27.484375 19.1875 25 \r\nQ 14.984375 22.515625 14.984375 16.5 \r\nQ 14.984375 11.71875 18.140625 8.90625 \r\nQ 21.296875 6.109375 26.703125 6.109375 \r\nQ 34.1875 6.109375 38.703125 11.40625 \r\nQ 43.21875 16.703125 43.21875 25.484375 \r\nL 43.21875 27.484375 \r\nz\r\nM 52.203125 31.203125 \r\nL 52.203125 0 \r\nL 43.21875 0 \r\nL 43.21875 8.296875 \r\nQ 40.140625 3.328125 35.546875 0.953125 \r\nQ 30.953125 -1.421875 24.3125 -1.421875 \r\nQ 15.921875 -1.421875 10.953125 3.296875 \r\nQ 6 8.015625 6 15.921875 \r\nQ 6 25.140625 12.171875 29.828125 \r\nQ 18.359375 34.515625 30.609375 34.515625 \r\nL 43.21875 34.515625 \r\nL 43.21875 35.40625 \r\nQ 43.21875 41.609375 39.140625 45 \r\nQ 35.0625 48.390625 27.6875 48.390625 \r\nQ 23 48.390625 18.546875 47.265625 \r\nQ 14.109375 46.140625 10.015625 43.890625 \r\nL 10.015625 52.203125 \r\nQ 14.9375 54.109375 19.578125 55.046875 \r\nQ 24.21875 56 28.609375 56 \r\nQ 40.484375 56 46.34375 49.84375 \r\nQ 52.203125 43.703125 52.203125 31.203125 \r\nz\r\n\" id=\"DejaVuSans-97\"/>\r\n     <path d=\"M 44.28125 53.078125 \r\nL 44.28125 44.578125 \r\nQ 40.484375 46.53125 36.375 47.5 \r\nQ 32.28125 48.484375 27.875 48.484375 \r\nQ 21.1875 48.484375 17.84375 46.4375 \r\nQ 14.5 44.390625 14.5 40.28125 \r\nQ 14.5 37.15625 16.890625 35.375 \r\nQ 19.28125 33.59375 26.515625 31.984375 \r\nL 29.59375 31.296875 \r\nQ 39.15625 29.25 43.1875 25.515625 \r\nQ 47.21875 21.78125 47.21875 15.09375 \r\nQ 47.21875 7.46875 41.1875 3.015625 \r\nQ 35.15625 -1.421875 24.609375 -1.421875 \r\nQ 20.21875 -1.421875 15.453125 -0.5625 \r\nQ 10.6875 0.296875 5.421875 2 \r\nL 5.421875 11.28125 \r\nQ 10.40625 8.6875 15.234375 7.390625 \r\nQ 20.0625 6.109375 24.8125 6.109375 \r\nQ 31.15625 6.109375 34.5625 8.28125 \r\nQ 37.984375 10.453125 37.984375 14.40625 \r\nQ 37.984375 18.0625 35.515625 20.015625 \r\nQ 33.0625 21.96875 24.703125 23.78125 \r\nL 21.578125 24.515625 \r\nQ 13.234375 26.265625 9.515625 29.90625 \r\nQ 5.8125 33.546875 5.8125 39.890625 \r\nQ 5.8125 47.609375 11.28125 51.796875 \r\nQ 16.75 56 26.8125 56 \r\nQ 31.78125 56 36.171875 55.265625 \r\nQ 40.578125 54.546875 44.28125 53.078125 \r\nz\r\n\" id=\"DejaVuSans-115\"/>\r\n     <path id=\"DejaVuSans-32\"/>\r\n     <path d=\"M 10.59375 45.40625 \r\nL 73.1875 45.40625 \r\nL 73.1875 37.203125 \r\nL 10.59375 37.203125 \r\nz\r\nM 10.59375 25.484375 \r\nL 73.1875 25.484375 \r\nL 73.1875 17.1875 \r\nL 10.59375 17.1875 \r\nz\r\n\" id=\"DejaVuSans-61\"/>\r\n     <path d=\"M 12.40625 8.296875 \r\nL 28.515625 8.296875 \r\nL 28.515625 63.921875 \r\nL 10.984375 60.40625 \r\nL 10.984375 69.390625 \r\nL 28.421875 72.90625 \r\nL 38.28125 72.90625 \r\nL 38.28125 8.296875 \r\nL 54.390625 8.296875 \r\nL 54.390625 0 \r\nL 12.40625 0 \r\nz\r\n\" id=\"DejaVuSans-49\"/>\r\n     <path d=\"M 21 76.421875 \r\nL 21 -23.578125 \r\nL 12.703125 -23.578125 \r\nL 12.703125 76.421875 \r\nz\r\n\" id=\"DejaVuSans-124\"/>\r\n     <path d=\"M 53.515625 70.515625 \r\nL 53.515625 60.890625 \r\nQ 47.90625 63.578125 42.921875 64.890625 \r\nQ 37.9375 66.21875 33.296875 66.21875 \r\nQ 25.25 66.21875 20.875 63.09375 \r\nQ 16.5 59.96875 16.5 54.203125 \r\nQ 16.5 49.359375 19.40625 46.890625 \r\nQ 22.3125 44.4375 30.421875 42.921875 \r\nL 36.375 41.703125 \r\nQ 47.40625 39.59375 52.65625 34.296875 \r\nQ 57.90625 29 57.90625 20.125 \r\nQ 57.90625 9.515625 50.796875 4.046875 \r\nQ 43.703125 -1.421875 29.984375 -1.421875 \r\nQ 24.8125 -1.421875 18.96875 -0.25 \r\nQ 13.140625 0.921875 6.890625 3.21875 \r\nL 6.890625 13.375 \r\nQ 12.890625 10.015625 18.65625 8.296875 \r\nQ 24.421875 6.59375 29.984375 6.59375 \r\nQ 38.421875 6.59375 43.015625 9.90625 \r\nQ 47.609375 13.234375 47.609375 19.390625 \r\nQ 47.609375 24.75 44.3125 27.78125 \r\nQ 41.015625 30.8125 33.5 32.328125 \r\nL 27.484375 33.5 \r\nQ 16.453125 35.6875 11.515625 40.375 \r\nQ 6.59375 45.0625 6.59375 53.421875 \r\nQ 6.59375 63.09375 13.40625 68.65625 \r\nQ 20.21875 74.21875 32.171875 74.21875 \r\nQ 37.3125 74.21875 42.625 73.28125 \r\nQ 47.953125 72.359375 53.515625 70.515625 \r\nz\r\n\" id=\"DejaVuSans-83\"/>\r\n     <path d=\"M 56.203125 29.59375 \r\nL 56.203125 25.203125 \r\nL 14.890625 25.203125 \r\nQ 15.484375 15.921875 20.484375 11.0625 \r\nQ 25.484375 6.203125 34.421875 6.203125 \r\nQ 39.59375 6.203125 44.453125 7.46875 \r\nQ 49.3125 8.734375 54.109375 11.28125 \r\nL 54.109375 2.78125 \r\nQ 49.265625 0.734375 44.1875 -0.34375 \r\nQ 39.109375 -1.421875 33.890625 -1.421875 \r\nQ 20.796875 -1.421875 13.15625 6.1875 \r\nQ 5.515625 13.8125 5.515625 26.8125 \r\nQ 5.515625 40.234375 12.765625 48.109375 \r\nQ 20.015625 56 32.328125 56 \r\nQ 43.359375 56 49.78125 48.890625 \r\nQ 56.203125 41.796875 56.203125 29.59375 \r\nz\r\nM 47.21875 32.234375 \r\nQ 47.125 39.59375 43.09375 43.984375 \r\nQ 39.0625 48.390625 32.421875 48.390625 \r\nQ 24.90625 48.390625 20.390625 44.140625 \r\nQ 15.875 39.890625 15.1875 32.171875 \r\nz\r\n\" id=\"DejaVuSans-101\"/>\r\n     <path d=\"M 54.890625 54.6875 \r\nL 35.109375 28.078125 \r\nL 55.90625 0 \r\nL 45.3125 0 \r\nL 29.390625 21.484375 \r\nL 13.484375 0 \r\nL 2.875 0 \r\nL 24.125 28.609375 \r\nL 4.6875 54.6875 \r\nL 15.28125 54.6875 \r\nL 29.78125 35.203125 \r\nL 44.28125 54.6875 \r\nz\r\n\" id=\"DejaVuSans-120\"/>\r\n    </defs>\r\n    <g transform=\"translate(90.474907 14.842187)scale(0.1 -0.1)\">\r\n     <use xlink:href=\"#DejaVuSans-80\"/>\r\n     <use x=\"60.302734\" xlink:href=\"#DejaVuSans-99\"/>\r\n     <use x=\"115.283203\" xlink:href=\"#DejaVuSans-108\"/>\r\n     <use x=\"143.066406\" xlink:href=\"#DejaVuSans-97\"/>\r\n     <use x=\"204.345703\" xlink:href=\"#DejaVuSans-115\"/>\r\n     <use x=\"256.445312\" xlink:href=\"#DejaVuSans-115\"/>\r\n     <use x=\"308.544922\" xlink:href=\"#DejaVuSans-32\"/>\r\n     <use x=\"340.332031\" xlink:href=\"#DejaVuSans-61\"/>\r\n     <use x=\"424.121094\" xlink:href=\"#DejaVuSans-32\"/>\r\n     <use x=\"455.908203\" xlink:href=\"#DejaVuSans-49\"/>\r\n     <use x=\"519.53125\" xlink:href=\"#DejaVuSans-32\"/>\r\n     <use x=\"551.318359\" xlink:href=\"#DejaVuSans-124\"/>\r\n     <use x=\"585.009766\" xlink:href=\"#DejaVuSans-32\"/>\r\n     <use x=\"616.796875\" xlink:href=\"#DejaVuSans-83\"/>\r\n     <use x=\"680.273438\" xlink:href=\"#DejaVuSans-101\"/>\r\n     <use x=\"740.046875\" xlink:href=\"#DejaVuSans-120\"/>\r\n     <use x=\"799.226562\" xlink:href=\"#DejaVuSans-32\"/>\r\n     <use x=\"831.013672\" xlink:href=\"#DejaVuSans-61\"/>\r\n     <use x=\"914.802734\" xlink:href=\"#DejaVuSans-32\"/>\r\n     <use x=\"946.589844\" xlink:href=\"#DejaVuSans-48\"/>\r\n    </g>\r\n   </g>\r\n  </g>\r\n  <g id=\"axes_2\">\r\n   <g id=\"patch_25\">\r\n    <path d=\"M 269.503908 136.508854 \r\nL 497.624035 136.508854 \r\nL 497.624035 20.842187 \r\nL 269.503908 20.842187 \r\nz\r\n\" style=\"fill:#ffffff;\"/>\r\n   </g>\r\n   <g id=\"patch_26\">\r\n    <path clip-path=\"url(#p8d0126f454)\" d=\"M 283.990414 136.508854 \r\nL 291.938578 136.508854 \r\nL 291.938578 134.430388 \r\nL 283.990414 134.430388 \r\nz\r\n\" style=\"fill:#1f77b4;opacity:0.5;\"/>\r\n   </g>\r\n   <g id=\"patch_27\">\r\n    <path clip-path=\"url(#p8d0126f454)\" d=\"M 291.938578 136.508854 \r\nL 299.886742 136.508854 \r\nL 299.886742 136.508854 \r\nL 291.938578 136.508854 \r\nz\r\n\" style=\"fill:#1f77b4;opacity:0.5;\"/>\r\n   </g>\r\n   <g id=\"patch_28\">\r\n    <path clip-path=\"url(#p8d0126f454)\" d=\"M 299.886742 136.508854 \r\nL 307.834906 136.508854 \r\nL 307.834906 136.508854 \r\nL 299.886742 136.508854 \r\nz\r\n\" style=\"fill:#1f77b4;opacity:0.5;\"/>\r\n   </g>\r\n   <g id=\"patch_29\">\r\n    <path clip-path=\"url(#p8d0126f454)\" d=\"M 307.834906 136.508854 \r\nL 315.78307 136.508854 \r\nL 315.78307 134.430388 \r\nL 307.834906 134.430388 \r\nz\r\n\" style=\"fill:#1f77b4;opacity:0.5;\"/>\r\n   </g>\r\n   <g id=\"patch_30\">\r\n    <path clip-path=\"url(#p8d0126f454)\" d=\"M 315.78307 136.508854 \r\nL 323.731234 136.508854 \r\nL 323.731234 124.038055 \r\nL 315.78307 124.038055 \r\nz\r\n\" style=\"fill:#1f77b4;opacity:0.5;\"/>\r\n   </g>\r\n   <g id=\"patch_31\">\r\n    <path clip-path=\"url(#p8d0126f454)\" d=\"M 323.731234 136.508854 \r\nL 331.679398 136.508854 \r\nL 331.679398 124.038055 \r\nL 323.731234 124.038055 \r\nz\r\n\" style=\"fill:#1f77b4;opacity:0.5;\"/>\r\n   </g>\r\n   <g id=\"patch_32\">\r\n    <path clip-path=\"url(#p8d0126f454)\" d=\"M 331.679398 136.508854 \r\nL 339.627562 136.508854 \r\nL 339.627562 119.881121 \r\nL 331.679398 119.881121 \r\nz\r\n\" style=\"fill:#1f77b4;opacity:0.5;\"/>\r\n   </g>\r\n   <g id=\"patch_33\">\r\n    <path clip-path=\"url(#p8d0126f454)\" d=\"M 339.627562 136.508854 \r\nL 347.575727 136.508854 \r\nL 347.575727 121.959588 \r\nL 339.627562 121.959588 \r\nz\r\n\" style=\"fill:#1f77b4;opacity:0.5;\"/>\r\n   </g>\r\n   <g id=\"patch_34\">\r\n    <path clip-path=\"url(#p8d0126f454)\" d=\"M 347.575727 136.508854 \r\nL 355.523891 136.508854 \r\nL 355.523891 134.430388 \r\nL 347.575727 134.430388 \r\nz\r\n\" style=\"fill:#1f77b4;opacity:0.5;\"/>\r\n   </g>\r\n   <g id=\"patch_35\">\r\n    <path clip-path=\"url(#p8d0126f454)\" d=\"M 355.523891 136.508854 \r\nL 363.472055 136.508854 \r\nL 363.472055 119.881121 \r\nL 355.523891 119.881121 \r\nz\r\n\" style=\"fill:#1f77b4;opacity:0.5;\"/>\r\n   </g>\r\n   <g id=\"patch_36\">\r\n    <path clip-path=\"url(#p8d0126f454)\" d=\"M 363.472055 136.508854 \r\nL 371.420219 136.508854 \r\nL 371.420219 117.802655 \r\nL 363.472055 117.802655 \r\nz\r\n\" style=\"fill:#1f77b4;opacity:0.5;\"/>\r\n   </g>\r\n   <g id=\"patch_37\">\r\n    <path clip-path=\"url(#p8d0126f454)\" d=\"M 371.420219 136.508854 \r\nL 379.368383 136.508854 \r\nL 379.368383 124.038055 \r\nL 371.420219 124.038055 \r\nz\r\n\" style=\"fill:#1f77b4;opacity:0.5;\"/>\r\n   </g>\r\n   <g id=\"patch_38\">\r\n    <path clip-path=\"url(#p8d0126f454)\" d=\"M 379.368383 136.508854 \r\nL 387.316547 136.508854 \r\nL 387.316547 121.959588 \r\nL 379.368383 121.959588 \r\nz\r\n\" style=\"fill:#1f77b4;opacity:0.5;\"/>\r\n   </g>\r\n   <g id=\"patch_39\">\r\n    <path clip-path=\"url(#p8d0126f454)\" d=\"M 387.316547 136.508854 \r\nL 395.264711 136.508854 \r\nL 395.264711 128.194988 \r\nL 387.316547 128.194988 \r\nz\r\n\" style=\"fill:#1f77b4;opacity:0.5;\"/>\r\n   </g>\r\n   <g id=\"patch_40\">\r\n    <path clip-path=\"url(#p8d0126f454)\" d=\"M 395.264711 136.508854 \r\nL 403.212875 136.508854 \r\nL 403.212875 132.351921 \r\nL 395.264711 132.351921 \r\nz\r\n\" style=\"fill:#1f77b4;opacity:0.5;\"/>\r\n   </g>\r\n   <g id=\"patch_41\">\r\n    <path clip-path=\"url(#p8d0126f454)\" d=\"M 403.212875 136.508854 \r\nL 411.161039 136.508854 \r\nL 411.161039 124.038055 \r\nL 403.212875 124.038055 \r\nz\r\n\" style=\"fill:#1f77b4;opacity:0.5;\"/>\r\n   </g>\r\n   <g id=\"patch_42\">\r\n    <path clip-path=\"url(#p8d0126f454)\" d=\"M 411.161039 136.508854 \r\nL 419.109203 136.508854 \r\nL 419.109203 128.194988 \r\nL 411.161039 128.194988 \r\nz\r\n\" style=\"fill:#1f77b4;opacity:0.5;\"/>\r\n   </g>\r\n   <g id=\"patch_43\">\r\n    <path clip-path=\"url(#p8d0126f454)\" d=\"M 419.109203 136.508854 \r\nL 427.057367 136.508854 \r\nL 427.057367 130.273454 \r\nL 419.109203 130.273454 \r\nz\r\n\" style=\"fill:#1f77b4;opacity:0.5;\"/>\r\n   </g>\r\n   <g id=\"patch_44\">\r\n    <path clip-path=\"url(#p8d0126f454)\" d=\"M 427.057367 136.508854 \r\nL 435.005531 136.508854 \r\nL 435.005531 130.273454 \r\nL 427.057367 130.273454 \r\nz\r\n\" style=\"fill:#1f77b4;opacity:0.5;\"/>\r\n   </g>\r\n   <g id=\"patch_45\">\r\n    <path clip-path=\"url(#p8d0126f454)\" d=\"M 435.005531 136.508854 \r\nL 442.953696 136.508854 \r\nL 442.953696 130.273454 \r\nL 435.005531 130.273454 \r\nz\r\n\" style=\"fill:#1f77b4;opacity:0.5;\"/>\r\n   </g>\r\n   <g id=\"matplotlib.axis_3\">\r\n    <g id=\"xtick_6\">\r\n     <g id=\"line2d_9\">\r\n      <g>\r\n       <use style=\"stroke:#000000;stroke-width:0.8;\" x=\"278.778503\" xlink:href=\"#me427235e41\" y=\"136.508854\"/>\r\n      </g>\r\n     </g>\r\n    </g>\r\n    <g id=\"xtick_7\">\r\n     <g id=\"line2d_10\">\r\n      <g>\r\n       <use style=\"stroke:#000000;stroke-width:0.8;\" x=\"330.897612\" xlink:href=\"#me427235e41\" y=\"136.508854\"/>\r\n      </g>\r\n     </g>\r\n    </g>\r\n    <g id=\"xtick_8\">\r\n     <g id=\"line2d_11\">\r\n      <g>\r\n       <use style=\"stroke:#000000;stroke-width:0.8;\" x=\"383.01672\" xlink:href=\"#me427235e41\" y=\"136.508854\"/>\r\n      </g>\r\n     </g>\r\n    </g>\r\n    <g id=\"xtick_9\">\r\n     <g id=\"line2d_12\">\r\n      <g>\r\n       <use style=\"stroke:#000000;stroke-width:0.8;\" x=\"435.135829\" xlink:href=\"#me427235e41\" y=\"136.508854\"/>\r\n      </g>\r\n     </g>\r\n    </g>\r\n    <g id=\"xtick_10\">\r\n     <g id=\"line2d_13\">\r\n      <g>\r\n       <use style=\"stroke:#000000;stroke-width:0.8;\" x=\"487.254938\" xlink:href=\"#me427235e41\" y=\"136.508854\"/>\r\n      </g>\r\n     </g>\r\n    </g>\r\n   </g>\r\n   <g id=\"matplotlib.axis_4\">\r\n    <g id=\"ytick_4\">\r\n     <g id=\"line2d_14\">\r\n      <g>\r\n       <use style=\"stroke:#000000;stroke-width:0.8;\" x=\"269.503908\" xlink:href=\"#m76a3c9faa2\" y=\"136.508854\"/>\r\n      </g>\r\n     </g>\r\n    </g>\r\n    <g id=\"ytick_5\">\r\n     <g id=\"line2d_15\">\r\n      <g>\r\n       <use style=\"stroke:#000000;stroke-width:0.8;\" x=\"269.503908\" xlink:href=\"#m76a3c9faa2\" y=\"94.939522\"/>\r\n      </g>\r\n     </g>\r\n    </g>\r\n    <g id=\"ytick_6\">\r\n     <g id=\"line2d_16\">\r\n      <g>\r\n       <use style=\"stroke:#000000;stroke-width:0.8;\" x=\"269.503908\" xlink:href=\"#m76a3c9faa2\" y=\"53.37019\"/>\r\n      </g>\r\n     </g>\r\n    </g>\r\n   </g>\r\n   <g id=\"patch_46\">\r\n    <path d=\"M 269.503908 136.508854 \r\nL 269.503908 20.842187 \r\n\" style=\"fill:none;stroke:#000000;stroke-linecap:square;stroke-linejoin:miter;stroke-width:0.8;\"/>\r\n   </g>\r\n   <g id=\"patch_47\">\r\n    <path d=\"M 269.503908 136.508854 \r\nL 497.624035 136.508854 \r\n\" style=\"fill:none;stroke:#000000;stroke-linecap:square;stroke-linejoin:miter;stroke-width:0.8;\"/>\r\n   </g>\r\n   <g id=\"text_5\">\r\n    <!-- Pclass = 1 | Sex = 1 -->\r\n    <g transform=\"translate(333.053815 14.842187)scale(0.1 -0.1)\">\r\n     <use xlink:href=\"#DejaVuSans-80\"/>\r\n     <use x=\"60.302734\" xlink:href=\"#DejaVuSans-99\"/>\r\n     <use x=\"115.283203\" xlink:href=\"#DejaVuSans-108\"/>\r\n     <use x=\"143.066406\" xlink:href=\"#DejaVuSans-97\"/>\r\n     <use x=\"204.345703\" xlink:href=\"#DejaVuSans-115\"/>\r\n     <use x=\"256.445312\" xlink:href=\"#DejaVuSans-115\"/>\r\n     <use x=\"308.544922\" xlink:href=\"#DejaVuSans-32\"/>\r\n     <use x=\"340.332031\" xlink:href=\"#DejaVuSans-61\"/>\r\n     <use x=\"424.121094\" xlink:href=\"#DejaVuSans-32\"/>\r\n     <use x=\"455.908203\" xlink:href=\"#DejaVuSans-49\"/>\r\n     <use x=\"519.53125\" xlink:href=\"#DejaVuSans-32\"/>\r\n     <use x=\"551.318359\" xlink:href=\"#DejaVuSans-124\"/>\r\n     <use x=\"585.009766\" xlink:href=\"#DejaVuSans-32\"/>\r\n     <use x=\"616.796875\" xlink:href=\"#DejaVuSans-83\"/>\r\n     <use x=\"680.273438\" xlink:href=\"#DejaVuSans-101\"/>\r\n     <use x=\"740.046875\" xlink:href=\"#DejaVuSans-120\"/>\r\n     <use x=\"799.226562\" xlink:href=\"#DejaVuSans-32\"/>\r\n     <use x=\"831.013672\" xlink:href=\"#DejaVuSans-61\"/>\r\n     <use x=\"914.802734\" xlink:href=\"#DejaVuSans-32\"/>\r\n     <use x=\"946.589844\" xlink:href=\"#DejaVuSans-49\"/>\r\n    </g>\r\n   </g>\r\n  </g>\r\n  <g id=\"axes_3\">\r\n   <g id=\"patch_48\">\r\n    <path d=\"M 26.925 282.975521 \r\nL 255.045127 282.975521 \r\nL 255.045127 167.308854 \r\nL 26.925 167.308854 \r\nz\r\n\" style=\"fill:#ffffff;\"/>\r\n   </g>\r\n   <g id=\"patch_49\">\r\n    <path clip-path=\"url(#pb48e215f2d)\" d=\"M 37.945586 282.975521 \r\nL 46.97913 282.975521 \r\nL 46.97913 266.347788 \r\nL 37.945586 266.347788 \r\nz\r\n\" style=\"fill:#1f77b4;opacity:0.5;\"/>\r\n   </g>\r\n   <g id=\"patch_50\">\r\n    <path clip-path=\"url(#pb48e215f2d)\" d=\"M 46.97913 282.975521 \r\nL 56.012675 282.975521 \r\nL 56.012675 282.975521 \r\nL 46.97913 282.975521 \r\nz\r\n\" style=\"fill:#1f77b4;opacity:0.5;\"/>\r\n   </g>\r\n   <g id=\"patch_51\">\r\n    <path clip-path=\"url(#pb48e215f2d)\" d=\"M 56.012675 282.975521 \r\nL 65.046219 282.975521 \r\nL 65.046219 280.897054 \r\nL 56.012675 280.897054 \r\nz\r\n\" style=\"fill:#1f77b4;opacity:0.5;\"/>\r\n   </g>\r\n   <g id=\"patch_52\">\r\n    <path clip-path=\"url(#pb48e215f2d)\" d=\"M 65.046219 282.975521 \r\nL 74.079764 282.975521 \r\nL 74.079764 282.975521 \r\nL 65.046219 282.975521 \r\nz\r\n\" style=\"fill:#1f77b4;opacity:0.5;\"/>\r\n   </g>\r\n   <g id=\"patch_53\">\r\n    <path clip-path=\"url(#pb48e215f2d)\" d=\"M 74.079764 282.975521 \r\nL 83.113308 282.975521 \r\nL 83.113308 270.504721 \r\nL 74.079764 270.504721 \r\nz\r\n\" style=\"fill:#1f77b4;opacity:0.5;\"/>\r\n   </g>\r\n   <g id=\"patch_54\">\r\n    <path clip-path=\"url(#pb48e215f2d)\" d=\"M 83.113308 282.975521 \r\nL 92.146853 282.975521 \r\nL 92.146853 268.426255 \r\nL 83.113308 268.426255 \r\nz\r\n\" style=\"fill:#1f77b4;opacity:0.5;\"/>\r\n   </g>\r\n   <g id=\"patch_55\">\r\n    <path clip-path=\"url(#pb48e215f2d)\" d=\"M 92.146853 282.975521 \r\nL 101.180397 282.975521 \r\nL 101.180397 264.269321 \r\nL 92.146853 264.269321 \r\nz\r\n\" style=\"fill:#1f77b4;opacity:0.5;\"/>\r\n   </g>\r\n   <g id=\"patch_56\">\r\n    <path clip-path=\"url(#pb48e215f2d)\" d=\"M 101.180397 282.975521 \r\nL 110.213942 282.975521 \r\nL 110.213942 255.955455 \r\nL 101.180397 255.955455 \r\nz\r\n\" style=\"fill:#1f77b4;opacity:0.5;\"/>\r\n   </g>\r\n   <g id=\"patch_57\">\r\n    <path clip-path=\"url(#pb48e215f2d)\" d=\"M 110.213942 282.975521 \r\nL 119.247486 282.975521 \r\nL 119.247486 258.033922 \r\nL 110.213942 258.033922 \r\nz\r\n\" style=\"fill:#1f77b4;opacity:0.5;\"/>\r\n   </g>\r\n   <g id=\"patch_58\">\r\n    <path clip-path=\"url(#pb48e215f2d)\" d=\"M 119.247486 282.975521 \r\nL 128.281031 282.975521 \r\nL 128.281031 255.955455 \r\nL 119.247486 255.955455 \r\nz\r\n\" style=\"fill:#1f77b4;opacity:0.5;\"/>\r\n   </g>\r\n   <g id=\"patch_59\">\r\n    <path clip-path=\"url(#pb48e215f2d)\" d=\"M 128.281031 282.975521 \r\nL 137.314575 282.975521 \r\nL 137.314575 270.504721 \r\nL 128.281031 270.504721 \r\nz\r\n\" style=\"fill:#1f77b4;opacity:0.5;\"/>\r\n   </g>\r\n   <g id=\"patch_60\">\r\n    <path clip-path=\"url(#pb48e215f2d)\" d=\"M 137.314575 282.975521 \r\nL 146.34812 282.975521 \r\nL 146.34812 270.504721 \r\nL 137.314575 270.504721 \r\nz\r\n\" style=\"fill:#1f77b4;opacity:0.5;\"/>\r\n   </g>\r\n   <g id=\"patch_61\">\r\n    <path clip-path=\"url(#pb48e215f2d)\" d=\"M 146.34812 282.975521 \r\nL 155.381664 282.975521 \r\nL 155.381664 278.818588 \r\nL 146.34812 278.818588 \r\nz\r\n\" style=\"fill:#1f77b4;opacity:0.5;\"/>\r\n   </g>\r\n   <g id=\"patch_62\">\r\n    <path clip-path=\"url(#pb48e215f2d)\" d=\"M 155.381664 282.975521 \r\nL 164.415209 282.975521 \r\nL 164.415209 276.740121 \r\nL 155.381664 276.740121 \r\nz\r\n\" style=\"fill:#1f77b4;opacity:0.5;\"/>\r\n   </g>\r\n   <g id=\"patch_63\">\r\n    <path clip-path=\"url(#pb48e215f2d)\" d=\"M 164.415209 282.975521 \r\nL 173.448753 282.975521 \r\nL 173.448753 274.661654 \r\nL 164.415209 274.661654 \r\nz\r\n\" style=\"fill:#1f77b4;opacity:0.5;\"/>\r\n   </g>\r\n   <g id=\"patch_64\">\r\n    <path clip-path=\"url(#pb48e215f2d)\" d=\"M 173.448753 282.975521 \r\nL 182.482298 282.975521 \r\nL 182.482298 276.740121 \r\nL 173.448753 276.740121 \r\nz\r\n\" style=\"fill:#1f77b4;opacity:0.5;\"/>\r\n   </g>\r\n   <g id=\"patch_65\">\r\n    <path clip-path=\"url(#pb48e215f2d)\" d=\"M 182.482298 282.975521 \r\nL 191.515842 282.975521 \r\nL 191.515842 278.818588 \r\nL 182.482298 278.818588 \r\nz\r\n\" style=\"fill:#1f77b4;opacity:0.5;\"/>\r\n   </g>\r\n   <g id=\"patch_66\">\r\n    <path clip-path=\"url(#pb48e215f2d)\" d=\"M 191.515842 282.975521 \r\nL 200.549387 282.975521 \r\nL 200.549387 278.818588 \r\nL 191.515842 278.818588 \r\nz\r\n\" style=\"fill:#1f77b4;opacity:0.5;\"/>\r\n   </g>\r\n   <g id=\"patch_67\">\r\n    <path clip-path=\"url(#pb48e215f2d)\" d=\"M 200.549387 282.975521 \r\nL 209.582931 282.975521 \r\nL 209.582931 280.897054 \r\nL 200.549387 280.897054 \r\nz\r\n\" style=\"fill:#1f77b4;opacity:0.5;\"/>\r\n   </g>\r\n   <g id=\"patch_68\">\r\n    <path clip-path=\"url(#pb48e215f2d)\" d=\"M 209.582931 282.975521 \r\nL 218.616476 282.975521 \r\nL 218.616476 280.897054 \r\nL 209.582931 280.897054 \r\nz\r\n\" style=\"fill:#1f77b4;opacity:0.5;\"/>\r\n   </g>\r\n   <g id=\"matplotlib.axis_5\">\r\n    <g id=\"xtick_11\">\r\n     <g id=\"line2d_17\">\r\n      <g>\r\n       <use style=\"stroke:#000000;stroke-width:0.8;\" x=\"36.199595\" xlink:href=\"#me427235e41\" y=\"282.975521\"/>\r\n      </g>\r\n     </g>\r\n    </g>\r\n    <g id=\"xtick_12\">\r\n     <g id=\"line2d_18\">\r\n      <g>\r\n       <use style=\"stroke:#000000;stroke-width:0.8;\" x=\"88.318704\" xlink:href=\"#me427235e41\" y=\"282.975521\"/>\r\n      </g>\r\n     </g>\r\n    </g>\r\n    <g id=\"xtick_13\">\r\n     <g id=\"line2d_19\">\r\n      <g>\r\n       <use style=\"stroke:#000000;stroke-width:0.8;\" x=\"140.437813\" xlink:href=\"#me427235e41\" y=\"282.975521\"/>\r\n      </g>\r\n     </g>\r\n    </g>\r\n    <g id=\"xtick_14\">\r\n     <g id=\"line2d_20\">\r\n      <g>\r\n       <use style=\"stroke:#000000;stroke-width:0.8;\" x=\"192.556922\" xlink:href=\"#me427235e41\" y=\"282.975521\"/>\r\n      </g>\r\n     </g>\r\n    </g>\r\n    <g id=\"xtick_15\">\r\n     <g id=\"line2d_21\">\r\n      <g>\r\n       <use style=\"stroke:#000000;stroke-width:0.8;\" x=\"244.67603\" xlink:href=\"#me427235e41\" y=\"282.975521\"/>\r\n      </g>\r\n     </g>\r\n    </g>\r\n   </g>\r\n   <g id=\"matplotlib.axis_6\">\r\n    <g id=\"ytick_7\">\r\n     <g id=\"line2d_22\">\r\n      <g>\r\n       <use style=\"stroke:#000000;stroke-width:0.8;\" x=\"26.925\" xlink:href=\"#m76a3c9faa2\" y=\"282.975521\"/>\r\n      </g>\r\n     </g>\r\n     <g id=\"text_6\">\r\n      <!-- 0 -->\r\n      <g transform=\"translate(13.5625 286.77474)scale(0.1 -0.1)\">\r\n       <use xlink:href=\"#DejaVuSans-48\"/>\r\n      </g>\r\n     </g>\r\n    </g>\r\n    <g id=\"ytick_8\">\r\n     <g id=\"line2d_23\">\r\n      <g>\r\n       <use style=\"stroke:#000000;stroke-width:0.8;\" x=\"26.925\" xlink:href=\"#m76a3c9faa2\" y=\"241.406189\"/>\r\n      </g>\r\n     </g>\r\n     <g id=\"text_7\">\r\n      <!-- 20 -->\r\n      <g transform=\"translate(7.2 245.205407)scale(0.1 -0.1)\">\r\n       <use xlink:href=\"#DejaVuSans-50\"/>\r\n       <use x=\"63.623047\" xlink:href=\"#DejaVuSans-48\"/>\r\n      </g>\r\n     </g>\r\n    </g>\r\n    <g id=\"ytick_9\">\r\n     <g id=\"line2d_24\">\r\n      <g>\r\n       <use style=\"stroke:#000000;stroke-width:0.8;\" x=\"26.925\" xlink:href=\"#m76a3c9faa2\" y=\"199.836857\"/>\r\n      </g>\r\n     </g>\r\n     <g id=\"text_8\">\r\n      <!-- 40 -->\r\n      <g transform=\"translate(7.2 203.636075)scale(0.1 -0.1)\">\r\n       <use xlink:href=\"#DejaVuSans-52\"/>\r\n       <use x=\"63.623047\" xlink:href=\"#DejaVuSans-48\"/>\r\n      </g>\r\n     </g>\r\n    </g>\r\n   </g>\r\n   <g id=\"patch_69\">\r\n    <path d=\"M 26.925 282.975521 \r\nL 26.925 167.308854 \r\n\" style=\"fill:none;stroke:#000000;stroke-linecap:square;stroke-linejoin:miter;stroke-width:0.8;\"/>\r\n   </g>\r\n   <g id=\"patch_70\">\r\n    <path d=\"M 26.925 282.975521 \r\nL 255.045127 282.975521 \r\n\" style=\"fill:none;stroke:#000000;stroke-linecap:square;stroke-linejoin:miter;stroke-width:0.8;\"/>\r\n   </g>\r\n   <g id=\"text_9\">\r\n    <!-- Pclass = 2 | Sex = 0 -->\r\n    <g transform=\"translate(90.474907 161.308854)scale(0.1 -0.1)\">\r\n     <use xlink:href=\"#DejaVuSans-80\"/>\r\n     <use x=\"60.302734\" xlink:href=\"#DejaVuSans-99\"/>\r\n     <use x=\"115.283203\" xlink:href=\"#DejaVuSans-108\"/>\r\n     <use x=\"143.066406\" xlink:href=\"#DejaVuSans-97\"/>\r\n     <use x=\"204.345703\" xlink:href=\"#DejaVuSans-115\"/>\r\n     <use x=\"256.445312\" xlink:href=\"#DejaVuSans-115\"/>\r\n     <use x=\"308.544922\" xlink:href=\"#DejaVuSans-32\"/>\r\n     <use x=\"340.332031\" xlink:href=\"#DejaVuSans-61\"/>\r\n     <use x=\"424.121094\" xlink:href=\"#DejaVuSans-32\"/>\r\n     <use x=\"455.908203\" xlink:href=\"#DejaVuSans-50\"/>\r\n     <use x=\"519.53125\" xlink:href=\"#DejaVuSans-32\"/>\r\n     <use x=\"551.318359\" xlink:href=\"#DejaVuSans-124\"/>\r\n     <use x=\"585.009766\" xlink:href=\"#DejaVuSans-32\"/>\r\n     <use x=\"616.796875\" xlink:href=\"#DejaVuSans-83\"/>\r\n     <use x=\"680.273438\" xlink:href=\"#DejaVuSans-101\"/>\r\n     <use x=\"740.046875\" xlink:href=\"#DejaVuSans-120\"/>\r\n     <use x=\"799.226562\" xlink:href=\"#DejaVuSans-32\"/>\r\n     <use x=\"831.013672\" xlink:href=\"#DejaVuSans-61\"/>\r\n     <use x=\"914.802734\" xlink:href=\"#DejaVuSans-32\"/>\r\n     <use x=\"946.589844\" xlink:href=\"#DejaVuSans-48\"/>\r\n    </g>\r\n   </g>\r\n  </g>\r\n  <g id=\"axes_4\">\r\n   <g id=\"patch_71\">\r\n    <path d=\"M 269.503908 282.975521 \r\nL 497.624035 282.975521 \r\nL 497.624035 167.308854 \r\nL 269.503908 167.308854 \r\nz\r\n\" style=\"fill:#ffffff;\"/>\r\n   </g>\r\n   <g id=\"patch_72\">\r\n    <path clip-path=\"url(#p5d50ede246)\" d=\"M 283.990414 282.975521 \r\nL 291.156791 282.975521 \r\nL 291.156791 274.661654 \r\nL 283.990414 274.661654 \r\nz\r\n\" style=\"fill:#1f77b4;opacity:0.5;\"/>\r\n   </g>\r\n   <g id=\"patch_73\">\r\n    <path clip-path=\"url(#p5d50ede246)\" d=\"M 291.156791 282.975521 \r\nL 298.323169 282.975521 \r\nL 298.323169 276.740121 \r\nL 291.156791 276.740121 \r\nz\r\n\" style=\"fill:#1f77b4;opacity:0.5;\"/>\r\n   </g>\r\n   <g id=\"patch_74\">\r\n    <path clip-path=\"url(#p5d50ede246)\" d=\"M 298.323169 282.975521 \r\nL 305.489546 282.975521 \r\nL 305.489546 280.897054 \r\nL 298.323169 280.897054 \r\nz\r\n\" style=\"fill:#1f77b4;opacity:0.5;\"/>\r\n   </g>\r\n   <g id=\"patch_75\">\r\n    <path clip-path=\"url(#p5d50ede246)\" d=\"M 305.489546 282.975521 \r\nL 312.655924 282.975521 \r\nL 312.655924 282.975521 \r\nL 305.489546 282.975521 \r\nz\r\n\" style=\"fill:#1f77b4;opacity:0.5;\"/>\r\n   </g>\r\n   <g id=\"patch_76\">\r\n    <path clip-path=\"url(#p5d50ede246)\" d=\"M 312.655924 282.975521 \r\nL 319.822301 282.975521 \r\nL 319.822301 278.818588 \r\nL 312.655924 278.818588 \r\nz\r\n\" style=\"fill:#1f77b4;opacity:0.5;\"/>\r\n   </g>\r\n   <g id=\"patch_77\">\r\n    <path clip-path=\"url(#p5d50ede246)\" d=\"M 319.822301 282.975521 \r\nL 326.988679 282.975521 \r\nL 326.988679 274.661654 \r\nL 319.822301 274.661654 \r\nz\r\n\" style=\"fill:#1f77b4;opacity:0.5;\"/>\r\n   </g>\r\n   <g id=\"patch_78\">\r\n    <path clip-path=\"url(#p5d50ede246)\" d=\"M 326.988679 282.975521 \r\nL 334.155056 282.975521 \r\nL 334.155056 276.740121 \r\nL 326.988679 276.740121 \r\nz\r\n\" style=\"fill:#1f77b4;opacity:0.5;\"/>\r\n   </g>\r\n   <g id=\"patch_79\">\r\n    <path clip-path=\"url(#p5d50ede246)\" d=\"M 334.155056 282.975521 \r\nL 341.321434 282.975521 \r\nL 341.321434 276.740121 \r\nL 334.155056 276.740121 \r\nz\r\n\" style=\"fill:#1f77b4;opacity:0.5;\"/>\r\n   </g>\r\n   <g id=\"patch_80\">\r\n    <path clip-path=\"url(#p5d50ede246)\" d=\"M 341.321434 282.975521 \r\nL 348.487811 282.975521 \r\nL 348.487811 262.190855 \r\nL 341.321434 262.190855 \r\nz\r\n\" style=\"fill:#1f77b4;opacity:0.5;\"/>\r\n   </g>\r\n   <g id=\"patch_81\">\r\n    <path clip-path=\"url(#p5d50ede246)\" d=\"M 348.487811 282.975521 \r\nL 355.654188 282.975521 \r\nL 355.654188 260.112388 \r\nL 348.487811 260.112388 \r\nz\r\n\" style=\"fill:#1f77b4;opacity:0.5;\"/>\r\n   </g>\r\n   <g id=\"patch_82\">\r\n    <path clip-path=\"url(#p5d50ede246)\" d=\"M 355.654188 282.975521 \r\nL 362.820566 282.975521 \r\nL 362.820566 272.583188 \r\nL 355.654188 272.583188 \r\nz\r\n\" style=\"fill:#1f77b4;opacity:0.5;\"/>\r\n   </g>\r\n   <g id=\"patch_83\">\r\n    <path clip-path=\"url(#p5d50ede246)\" d=\"M 362.820566 282.975521 \r\nL 369.986943 282.975521 \r\nL 369.986943 268.426255 \r\nL 362.820566 268.426255 \r\nz\r\n\" style=\"fill:#1f77b4;opacity:0.5;\"/>\r\n   </g>\r\n   <g id=\"patch_84\">\r\n    <path clip-path=\"url(#p5d50ede246)\" d=\"M 369.986943 282.975521 \r\nL 377.153321 282.975521 \r\nL 377.153321 274.661654 \r\nL 369.986943 274.661654 \r\nz\r\n\" style=\"fill:#1f77b4;opacity:0.5;\"/>\r\n   </g>\r\n   <g id=\"patch_85\">\r\n    <path clip-path=\"url(#p5d50ede246)\" d=\"M 377.153321 282.975521 \r\nL 384.319698 282.975521 \r\nL 384.319698 274.661654 \r\nL 377.153321 274.661654 \r\nz\r\n\" style=\"fill:#1f77b4;opacity:0.5;\"/>\r\n   </g>\r\n   <g id=\"patch_86\">\r\n    <path clip-path=\"url(#p5d50ede246)\" d=\"M 384.319698 282.975521 \r\nL 391.486076 282.975521 \r\nL 391.486076 276.740121 \r\nL 384.319698 276.740121 \r\nz\r\n\" style=\"fill:#1f77b4;opacity:0.5;\"/>\r\n   </g>\r\n   <g id=\"patch_87\">\r\n    <path clip-path=\"url(#p5d50ede246)\" d=\"M 391.486076 282.975521 \r\nL 398.652453 282.975521 \r\nL 398.652453 276.740121 \r\nL 391.486076 276.740121 \r\nz\r\n\" style=\"fill:#1f77b4;opacity:0.5;\"/>\r\n   </g>\r\n   <g id=\"patch_88\">\r\n    <path clip-path=\"url(#p5d50ede246)\" d=\"M 398.652453 282.975521 \r\nL 405.818831 282.975521 \r\nL 405.818831 280.897054 \r\nL 398.652453 280.897054 \r\nz\r\n\" style=\"fill:#1f77b4;opacity:0.5;\"/>\r\n   </g>\r\n   <g id=\"patch_89\">\r\n    <path clip-path=\"url(#p5d50ede246)\" d=\"M 405.818831 282.975521 \r\nL 412.985208 282.975521 \r\nL 412.985208 276.740121 \r\nL 405.818831 276.740121 \r\nz\r\n\" style=\"fill:#1f77b4;opacity:0.5;\"/>\r\n   </g>\r\n   <g id=\"patch_90\">\r\n    <path clip-path=\"url(#p5d50ede246)\" d=\"M 412.985208 282.975521 \r\nL 420.151585 282.975521 \r\nL 420.151585 280.897054 \r\nL 412.985208 280.897054 \r\nz\r\n\" style=\"fill:#1f77b4;opacity:0.5;\"/>\r\n   </g>\r\n   <g id=\"patch_91\">\r\n    <path clip-path=\"url(#p5d50ede246)\" d=\"M 420.151585 282.975521 \r\nL 427.317963 282.975521 \r\nL 427.317963 278.818588 \r\nL 420.151585 278.818588 \r\nz\r\n\" style=\"fill:#1f77b4;opacity:0.5;\"/>\r\n   </g>\r\n   <g id=\"matplotlib.axis_7\">\r\n    <g id=\"xtick_16\">\r\n     <g id=\"line2d_25\">\r\n      <g>\r\n       <use style=\"stroke:#000000;stroke-width:0.8;\" x=\"278.778503\" xlink:href=\"#me427235e41\" y=\"282.975521\"/>\r\n      </g>\r\n     </g>\r\n    </g>\r\n    <g id=\"xtick_17\">\r\n     <g id=\"line2d_26\">\r\n      <g>\r\n       <use style=\"stroke:#000000;stroke-width:0.8;\" x=\"330.897612\" xlink:href=\"#me427235e41\" y=\"282.975521\"/>\r\n      </g>\r\n     </g>\r\n    </g>\r\n    <g id=\"xtick_18\">\r\n     <g id=\"line2d_27\">\r\n      <g>\r\n       <use style=\"stroke:#000000;stroke-width:0.8;\" x=\"383.01672\" xlink:href=\"#me427235e41\" y=\"282.975521\"/>\r\n      </g>\r\n     </g>\r\n    </g>\r\n    <g id=\"xtick_19\">\r\n     <g id=\"line2d_28\">\r\n      <g>\r\n       <use style=\"stroke:#000000;stroke-width:0.8;\" x=\"435.135829\" xlink:href=\"#me427235e41\" y=\"282.975521\"/>\r\n      </g>\r\n     </g>\r\n    </g>\r\n    <g id=\"xtick_20\">\r\n     <g id=\"line2d_29\">\r\n      <g>\r\n       <use style=\"stroke:#000000;stroke-width:0.8;\" x=\"487.254938\" xlink:href=\"#me427235e41\" y=\"282.975521\"/>\r\n      </g>\r\n     </g>\r\n    </g>\r\n   </g>\r\n   <g id=\"matplotlib.axis_8\">\r\n    <g id=\"ytick_10\">\r\n     <g id=\"line2d_30\">\r\n      <g>\r\n       <use style=\"stroke:#000000;stroke-width:0.8;\" x=\"269.503908\" xlink:href=\"#m76a3c9faa2\" y=\"282.975521\"/>\r\n      </g>\r\n     </g>\r\n    </g>\r\n    <g id=\"ytick_11\">\r\n     <g id=\"line2d_31\">\r\n      <g>\r\n       <use style=\"stroke:#000000;stroke-width:0.8;\" x=\"269.503908\" xlink:href=\"#m76a3c9faa2\" y=\"241.406189\"/>\r\n      </g>\r\n     </g>\r\n    </g>\r\n    <g id=\"ytick_12\">\r\n     <g id=\"line2d_32\">\r\n      <g>\r\n       <use style=\"stroke:#000000;stroke-width:0.8;\" x=\"269.503908\" xlink:href=\"#m76a3c9faa2\" y=\"199.836857\"/>\r\n      </g>\r\n     </g>\r\n    </g>\r\n   </g>\r\n   <g id=\"patch_92\">\r\n    <path d=\"M 269.503908 282.975521 \r\nL 269.503908 167.308854 \r\n\" style=\"fill:none;stroke:#000000;stroke-linecap:square;stroke-linejoin:miter;stroke-width:0.8;\"/>\r\n   </g>\r\n   <g id=\"patch_93\">\r\n    <path d=\"M 269.503908 282.975521 \r\nL 497.624035 282.975521 \r\n\" style=\"fill:none;stroke:#000000;stroke-linecap:square;stroke-linejoin:miter;stroke-width:0.8;\"/>\r\n   </g>\r\n   <g id=\"text_10\">\r\n    <!-- Pclass = 2 | Sex = 1 -->\r\n    <g transform=\"translate(333.053815 161.308854)scale(0.1 -0.1)\">\r\n     <use xlink:href=\"#DejaVuSans-80\"/>\r\n     <use x=\"60.302734\" xlink:href=\"#DejaVuSans-99\"/>\r\n     <use x=\"115.283203\" xlink:href=\"#DejaVuSans-108\"/>\r\n     <use x=\"143.066406\" xlink:href=\"#DejaVuSans-97\"/>\r\n     <use x=\"204.345703\" xlink:href=\"#DejaVuSans-115\"/>\r\n     <use x=\"256.445312\" xlink:href=\"#DejaVuSans-115\"/>\r\n     <use x=\"308.544922\" xlink:href=\"#DejaVuSans-32\"/>\r\n     <use x=\"340.332031\" xlink:href=\"#DejaVuSans-61\"/>\r\n     <use x=\"424.121094\" xlink:href=\"#DejaVuSans-32\"/>\r\n     <use x=\"455.908203\" xlink:href=\"#DejaVuSans-50\"/>\r\n     <use x=\"519.53125\" xlink:href=\"#DejaVuSans-32\"/>\r\n     <use x=\"551.318359\" xlink:href=\"#DejaVuSans-124\"/>\r\n     <use x=\"585.009766\" xlink:href=\"#DejaVuSans-32\"/>\r\n     <use x=\"616.796875\" xlink:href=\"#DejaVuSans-83\"/>\r\n     <use x=\"680.273438\" xlink:href=\"#DejaVuSans-101\"/>\r\n     <use x=\"740.046875\" xlink:href=\"#DejaVuSans-120\"/>\r\n     <use x=\"799.226562\" xlink:href=\"#DejaVuSans-32\"/>\r\n     <use x=\"831.013672\" xlink:href=\"#DejaVuSans-61\"/>\r\n     <use x=\"914.802734\" xlink:href=\"#DejaVuSans-32\"/>\r\n     <use x=\"946.589844\" xlink:href=\"#DejaVuSans-49\"/>\r\n    </g>\r\n   </g>\r\n  </g>\r\n  <g id=\"axes_5\">\r\n   <g id=\"patch_94\">\r\n    <path d=\"M 26.925 429.442188 \r\nL 255.045127 429.442188 \r\nL 255.045127 313.775521 \r\nL 26.925 313.775521 \r\nz\r\n\" style=\"fill:#ffffff;\"/>\r\n   </g>\r\n   <g id=\"patch_95\">\r\n    <path clip-path=\"url(#pfd0c7b3b02)\" d=\"M 37.294097 429.442188 \r\nL 46.881407 429.442188 \r\nL 46.881407 402.422122 \r\nL 37.294097 402.422122 \r\nz\r\n\" style=\"fill:#1f77b4;opacity:0.5;\"/>\r\n   </g>\r\n   <g id=\"patch_96\">\r\n    <path clip-path=\"url(#pfd0c7b3b02)\" d=\"M 46.881407 429.442188 \r\nL 56.468717 429.442188 \r\nL 56.468717 423.206788 \r\nL 46.881407 423.206788 \r\nz\r\n\" style=\"fill:#1f77b4;opacity:0.5;\"/>\r\n   </g>\r\n   <g id=\"patch_97\">\r\n    <path clip-path=\"url(#pfd0c7b3b02)\" d=\"M 56.468717 429.442188 \r\nL 66.056027 429.442188 \r\nL 66.056027 412.814455 \r\nL 56.468717 412.814455 \r\nz\r\n\" style=\"fill:#1f77b4;opacity:0.5;\"/>\r\n   </g>\r\n   <g id=\"patch_98\">\r\n    <path clip-path=\"url(#pfd0c7b3b02)\" d=\"M 66.056027 429.442188 \r\nL 75.643337 429.442188 \r\nL 75.643337 421.128321 \r\nL 66.056027 421.128321 \r\nz\r\n\" style=\"fill:#1f77b4;opacity:0.5;\"/>\r\n   </g>\r\n   <g id=\"patch_99\">\r\n    <path clip-path=\"url(#pfd0c7b3b02)\" d=\"M 75.643337 429.442188 \r\nL 85.230647 429.442188 \r\nL 85.230647 381.637456 \r\nL 75.643337 381.637456 \r\nz\r\n\" style=\"fill:#1f77b4;opacity:0.5;\"/>\r\n   </g>\r\n   <g id=\"patch_100\">\r\n    <path clip-path=\"url(#pfd0c7b3b02)\" d=\"M 85.230647 429.442188 \r\nL 94.817957 429.442188 \r\nL 94.817957 319.283457 \r\nL 85.230647 319.283457 \r\nz\r\n\" style=\"fill:#1f77b4;opacity:0.5;\"/>\r\n   </g>\r\n   <g id=\"patch_101\">\r\n    <path clip-path=\"url(#pfd0c7b3b02)\" d=\"M 94.817957 429.442188 \r\nL 104.405267 429.442188 \r\nL 104.405267 354.61739 \r\nL 94.817957 354.61739 \r\nz\r\n\" style=\"fill:#1f77b4;opacity:0.5;\"/>\r\n   </g>\r\n   <g id=\"patch_102\">\r\n    <path clip-path=\"url(#pfd0c7b3b02)\" d=\"M 104.405267 429.442188 \r\nL 113.992577 429.442188 \r\nL 113.992577 377.480522 \r\nL 104.405267 377.480522 \r\nz\r\n\" style=\"fill:#1f77b4;opacity:0.5;\"/>\r\n   </g>\r\n   <g id=\"patch_103\">\r\n    <path clip-path=\"url(#pfd0c7b3b02)\" d=\"M 113.992577 429.442188 \r\nL 123.579887 429.442188 \r\nL 123.579887 367.088189 \r\nL 113.992577 367.088189 \r\nz\r\n\" style=\"fill:#1f77b4;opacity:0.5;\"/>\r\n   </g>\r\n   <g id=\"patch_104\">\r\n    <path clip-path=\"url(#pfd0c7b3b02)\" d=\"M 123.579887 429.442188 \r\nL 133.167197 429.442188 \r\nL 133.167197 396.186722 \r\nL 123.579887 396.186722 \r\nz\r\n\" style=\"fill:#1f77b4;opacity:0.5;\"/>\r\n   </g>\r\n   <g id=\"patch_105\">\r\n    <path clip-path=\"url(#pfd0c7b3b02)\" d=\"M 133.167197 429.442188 \r\nL 142.754507 429.442188 \r\nL 142.754507 402.422122 \r\nL 133.167197 402.422122 \r\nz\r\n\" style=\"fill:#1f77b4;opacity:0.5;\"/>\r\n   </g>\r\n   <g id=\"patch_106\">\r\n    <path clip-path=\"url(#pfd0c7b3b02)\" d=\"M 142.754507 429.442188 \r\nL 152.341817 429.442188 \r\nL 152.341817 404.500588 \r\nL 142.754507 404.500588 \r\nz\r\n\" style=\"fill:#1f77b4;opacity:0.5;\"/>\r\n   </g>\r\n   <g id=\"patch_107\">\r\n    <path clip-path=\"url(#pfd0c7b3b02)\" d=\"M 152.341817 429.442188 \r\nL 161.929127 429.442188 \r\nL 161.929127 416.971388 \r\nL 152.341817 416.971388 \r\nz\r\n\" style=\"fill:#1f77b4;opacity:0.5;\"/>\r\n   </g>\r\n   <g id=\"patch_108\">\r\n    <path clip-path=\"url(#pfd0c7b3b02)\" d=\"M 161.929127 429.442188 \r\nL 171.516437 429.442188 \r\nL 171.516437 419.049854 \r\nL 161.929127 419.049854 \r\nz\r\n\" style=\"fill:#1f77b4;opacity:0.5;\"/>\r\n   </g>\r\n   <g id=\"patch_109\">\r\n    <path clip-path=\"url(#pfd0c7b3b02)\" d=\"M 171.516437 429.442188 \r\nL 181.103747 429.442188 \r\nL 181.103747 427.363721 \r\nL 171.516437 427.363721 \r\nz\r\n\" style=\"fill:#1f77b4;opacity:0.5;\"/>\r\n   </g>\r\n   <g id=\"patch_110\">\r\n    <path clip-path=\"url(#pfd0c7b3b02)\" d=\"M 181.103747 429.442188 \r\nL 190.691057 429.442188 \r\nL 190.691057 427.363721 \r\nL 181.103747 427.363721 \r\nz\r\n\" style=\"fill:#1f77b4;opacity:0.5;\"/>\r\n   </g>\r\n   <g id=\"patch_111\">\r\n    <path clip-path=\"url(#pfd0c7b3b02)\" d=\"M 190.691057 429.442188 \r\nL 200.278367 429.442188 \r\nL 200.278367 427.363721 \r\nL 190.691057 427.363721 \r\nz\r\n\" style=\"fill:#1f77b4;opacity:0.5;\"/>\r\n   </g>\r\n   <g id=\"patch_112\">\r\n    <path clip-path=\"url(#pfd0c7b3b02)\" d=\"M 200.278367 429.442188 \r\nL 209.865678 429.442188 \r\nL 209.865678 427.363721 \r\nL 200.278367 427.363721 \r\nz\r\n\" style=\"fill:#1f77b4;opacity:0.5;\"/>\r\n   </g>\r\n   <g id=\"patch_113\">\r\n    <path clip-path=\"url(#pfd0c7b3b02)\" d=\"M 209.865678 429.442188 \r\nL 219.452988 429.442188 \r\nL 219.452988 429.442188 \r\nL 209.865678 429.442188 \r\nz\r\n\" style=\"fill:#1f77b4;opacity:0.5;\"/>\r\n   </g>\r\n   <g id=\"patch_114\">\r\n    <path clip-path=\"url(#pfd0c7b3b02)\" d=\"M 219.452988 429.442188 \r\nL 229.040298 429.442188 \r\nL 229.040298 425.285254 \r\nL 219.452988 425.285254 \r\nz\r\n\" style=\"fill:#1f77b4;opacity:0.5;\"/>\r\n   </g>\r\n   <g id=\"matplotlib.axis_9\">\r\n    <g id=\"xtick_21\">\r\n     <g id=\"line2d_33\">\r\n      <g>\r\n       <use style=\"stroke:#000000;stroke-width:0.8;\" x=\"36.199595\" xlink:href=\"#me427235e41\" y=\"429.442188\"/>\r\n      </g>\r\n     </g>\r\n     <g id=\"text_11\">\r\n      <!-- 0 -->\r\n      <g transform=\"translate(33.018345 444.040625)scale(0.1 -0.1)\">\r\n       <use xlink:href=\"#DejaVuSans-48\"/>\r\n      </g>\r\n     </g>\r\n    </g>\r\n    <g id=\"xtick_22\">\r\n     <g id=\"line2d_34\">\r\n      <g>\r\n       <use style=\"stroke:#000000;stroke-width:0.8;\" x=\"88.318704\" xlink:href=\"#me427235e41\" y=\"429.442188\"/>\r\n      </g>\r\n     </g>\r\n     <g id=\"text_12\">\r\n      <!-- 20 -->\r\n      <g transform=\"translate(81.956204 444.040625)scale(0.1 -0.1)\">\r\n       <use xlink:href=\"#DejaVuSans-50\"/>\r\n       <use x=\"63.623047\" xlink:href=\"#DejaVuSans-48\"/>\r\n      </g>\r\n     </g>\r\n    </g>\r\n    <g id=\"xtick_23\">\r\n     <g id=\"line2d_35\">\r\n      <g>\r\n       <use style=\"stroke:#000000;stroke-width:0.8;\" x=\"140.437813\" xlink:href=\"#me427235e41\" y=\"429.442188\"/>\r\n      </g>\r\n     </g>\r\n     <g id=\"text_13\">\r\n      <!-- 40 -->\r\n      <g transform=\"translate(134.075313 444.040625)scale(0.1 -0.1)\">\r\n       <use xlink:href=\"#DejaVuSans-52\"/>\r\n       <use x=\"63.623047\" xlink:href=\"#DejaVuSans-48\"/>\r\n      </g>\r\n     </g>\r\n    </g>\r\n    <g id=\"xtick_24\">\r\n     <g id=\"line2d_36\">\r\n      <g>\r\n       <use style=\"stroke:#000000;stroke-width:0.8;\" x=\"192.556922\" xlink:href=\"#me427235e41\" y=\"429.442188\"/>\r\n      </g>\r\n     </g>\r\n     <g id=\"text_14\">\r\n      <!-- 60 -->\r\n      <defs>\r\n       <path d=\"M 33.015625 40.375 \r\nQ 26.375 40.375 22.484375 35.828125 \r\nQ 18.609375 31.296875 18.609375 23.390625 \r\nQ 18.609375 15.53125 22.484375 10.953125 \r\nQ 26.375 6.390625 33.015625 6.390625 \r\nQ 39.65625 6.390625 43.53125 10.953125 \r\nQ 47.40625 15.53125 47.40625 23.390625 \r\nQ 47.40625 31.296875 43.53125 35.828125 \r\nQ 39.65625 40.375 33.015625 40.375 \r\nz\r\nM 52.59375 71.296875 \r\nL 52.59375 62.3125 \r\nQ 48.875 64.0625 45.09375 64.984375 \r\nQ 41.3125 65.921875 37.59375 65.921875 \r\nQ 27.828125 65.921875 22.671875 59.328125 \r\nQ 17.53125 52.734375 16.796875 39.40625 \r\nQ 19.671875 43.65625 24.015625 45.921875 \r\nQ 28.375 48.1875 33.59375 48.1875 \r\nQ 44.578125 48.1875 50.953125 41.515625 \r\nQ 57.328125 34.859375 57.328125 23.390625 \r\nQ 57.328125 12.15625 50.6875 5.359375 \r\nQ 44.046875 -1.421875 33.015625 -1.421875 \r\nQ 20.359375 -1.421875 13.671875 8.265625 \r\nQ 6.984375 17.96875 6.984375 36.375 \r\nQ 6.984375 53.65625 15.1875 63.9375 \r\nQ 23.390625 74.21875 37.203125 74.21875 \r\nQ 40.921875 74.21875 44.703125 73.484375 \r\nQ 48.484375 72.75 52.59375 71.296875 \r\nz\r\n\" id=\"DejaVuSans-54\"/>\r\n      </defs>\r\n      <g transform=\"translate(186.194422 444.040625)scale(0.1 -0.1)\">\r\n       <use xlink:href=\"#DejaVuSans-54\"/>\r\n       <use x=\"63.623047\" xlink:href=\"#DejaVuSans-48\"/>\r\n      </g>\r\n     </g>\r\n    </g>\r\n    <g id=\"xtick_25\">\r\n     <g id=\"line2d_37\">\r\n      <g>\r\n       <use style=\"stroke:#000000;stroke-width:0.8;\" x=\"244.67603\" xlink:href=\"#me427235e41\" y=\"429.442188\"/>\r\n      </g>\r\n     </g>\r\n     <g id=\"text_15\">\r\n      <!-- 80 -->\r\n      <defs>\r\n       <path d=\"M 31.78125 34.625 \r\nQ 24.75 34.625 20.71875 30.859375 \r\nQ 16.703125 27.09375 16.703125 20.515625 \r\nQ 16.703125 13.921875 20.71875 10.15625 \r\nQ 24.75 6.390625 31.78125 6.390625 \r\nQ 38.8125 6.390625 42.859375 10.171875 \r\nQ 46.921875 13.96875 46.921875 20.515625 \r\nQ 46.921875 27.09375 42.890625 30.859375 \r\nQ 38.875 34.625 31.78125 34.625 \r\nz\r\nM 21.921875 38.8125 \r\nQ 15.578125 40.375 12.03125 44.71875 \r\nQ 8.5 49.078125 8.5 55.328125 \r\nQ 8.5 64.0625 14.71875 69.140625 \r\nQ 20.953125 74.21875 31.78125 74.21875 \r\nQ 42.671875 74.21875 48.875 69.140625 \r\nQ 55.078125 64.0625 55.078125 55.328125 \r\nQ 55.078125 49.078125 51.53125 44.71875 \r\nQ 48 40.375 41.703125 38.8125 \r\nQ 48.828125 37.15625 52.796875 32.3125 \r\nQ 56.78125 27.484375 56.78125 20.515625 \r\nQ 56.78125 9.90625 50.3125 4.234375 \r\nQ 43.84375 -1.421875 31.78125 -1.421875 \r\nQ 19.734375 -1.421875 13.25 4.234375 \r\nQ 6.78125 9.90625 6.78125 20.515625 \r\nQ 6.78125 27.484375 10.78125 32.3125 \r\nQ 14.796875 37.15625 21.921875 38.8125 \r\nz\r\nM 18.3125 54.390625 \r\nQ 18.3125 48.734375 21.84375 45.5625 \r\nQ 25.390625 42.390625 31.78125 42.390625 \r\nQ 38.140625 42.390625 41.71875 45.5625 \r\nQ 45.3125 48.734375 45.3125 54.390625 \r\nQ 45.3125 60.0625 41.71875 63.234375 \r\nQ 38.140625 66.40625 31.78125 66.40625 \r\nQ 25.390625 66.40625 21.84375 63.234375 \r\nQ 18.3125 60.0625 18.3125 54.390625 \r\nz\r\n\" id=\"DejaVuSans-56\"/>\r\n      </defs>\r\n      <g transform=\"translate(238.31353 444.040625)scale(0.1 -0.1)\">\r\n       <use xlink:href=\"#DejaVuSans-56\"/>\r\n       <use x=\"63.623047\" xlink:href=\"#DejaVuSans-48\"/>\r\n      </g>\r\n     </g>\r\n    </g>\r\n    <g id=\"text_16\">\r\n     <!-- Age -->\r\n     <defs>\r\n      <path d=\"M 34.1875 63.1875 \r\nL 20.796875 26.90625 \r\nL 47.609375 26.90625 \r\nz\r\nM 28.609375 72.90625 \r\nL 39.796875 72.90625 \r\nL 67.578125 0 \r\nL 57.328125 0 \r\nL 50.6875 18.703125 \r\nL 17.828125 18.703125 \r\nL 11.1875 0 \r\nL 0.78125 0 \r\nz\r\n\" id=\"DejaVuSans-65\"/>\r\n      <path d=\"M 45.40625 27.984375 \r\nQ 45.40625 37.75 41.375 43.109375 \r\nQ 37.359375 48.484375 30.078125 48.484375 \r\nQ 22.859375 48.484375 18.828125 43.109375 \r\nQ 14.796875 37.75 14.796875 27.984375 \r\nQ 14.796875 18.265625 18.828125 12.890625 \r\nQ 22.859375 7.515625 30.078125 7.515625 \r\nQ 37.359375 7.515625 41.375 12.890625 \r\nQ 45.40625 18.265625 45.40625 27.984375 \r\nz\r\nM 54.390625 6.78125 \r\nQ 54.390625 -7.171875 48.1875 -13.984375 \r\nQ 42 -20.796875 29.203125 -20.796875 \r\nQ 24.46875 -20.796875 20.265625 -20.09375 \r\nQ 16.0625 -19.390625 12.109375 -17.921875 \r\nL 12.109375 -9.1875 \r\nQ 16.0625 -11.328125 19.921875 -12.34375 \r\nQ 23.78125 -13.375 27.78125 -13.375 \r\nQ 36.625 -13.375 41.015625 -8.765625 \r\nQ 45.40625 -4.15625 45.40625 5.171875 \r\nL 45.40625 9.625 \r\nQ 42.625 4.78125 38.28125 2.390625 \r\nQ 33.9375 0 27.875 0 \r\nQ 17.828125 0 11.671875 7.65625 \r\nQ 5.515625 15.328125 5.515625 27.984375 \r\nQ 5.515625 40.671875 11.671875 48.328125 \r\nQ 17.828125 56 27.875 56 \r\nQ 33.9375 56 38.28125 53.609375 \r\nQ 42.625 51.21875 45.40625 46.390625 \r\nL 45.40625 54.6875 \r\nL 54.390625 54.6875 \r\nz\r\n\" id=\"DejaVuSans-103\"/>\r\n     </defs>\r\n     <g transform=\"translate(131.31397 457.71875)scale(0.1 -0.1)\">\r\n      <use xlink:href=\"#DejaVuSans-65\"/>\r\n      <use x=\"68.408203\" xlink:href=\"#DejaVuSans-103\"/>\r\n      <use x=\"131.884766\" xlink:href=\"#DejaVuSans-101\"/>\r\n     </g>\r\n    </g>\r\n   </g>\r\n   <g id=\"matplotlib.axis_10\">\r\n    <g id=\"ytick_13\">\r\n     <g id=\"line2d_38\">\r\n      <g>\r\n       <use style=\"stroke:#000000;stroke-width:0.8;\" x=\"26.925\" xlink:href=\"#m76a3c9faa2\" y=\"429.442188\"/>\r\n      </g>\r\n     </g>\r\n     <g id=\"text_17\">\r\n      <!-- 0 -->\r\n      <g transform=\"translate(13.5625 433.241406)scale(0.1 -0.1)\">\r\n       <use xlink:href=\"#DejaVuSans-48\"/>\r\n      </g>\r\n     </g>\r\n    </g>\r\n    <g id=\"ytick_14\">\r\n     <g id=\"line2d_39\">\r\n      <g>\r\n       <use style=\"stroke:#000000;stroke-width:0.8;\" x=\"26.925\" xlink:href=\"#m76a3c9faa2\" y=\"387.872855\"/>\r\n      </g>\r\n     </g>\r\n     <g id=\"text_18\">\r\n      <!-- 20 -->\r\n      <g transform=\"translate(7.2 391.672074)scale(0.1 -0.1)\">\r\n       <use xlink:href=\"#DejaVuSans-50\"/>\r\n       <use x=\"63.623047\" xlink:href=\"#DejaVuSans-48\"/>\r\n      </g>\r\n     </g>\r\n    </g>\r\n    <g id=\"ytick_15\">\r\n     <g id=\"line2d_40\">\r\n      <g>\r\n       <use style=\"stroke:#000000;stroke-width:0.8;\" x=\"26.925\" xlink:href=\"#m76a3c9faa2\" y=\"346.303523\"/>\r\n      </g>\r\n     </g>\r\n     <g id=\"text_19\">\r\n      <!-- 40 -->\r\n      <g transform=\"translate(7.2 350.102742)scale(0.1 -0.1)\">\r\n       <use xlink:href=\"#DejaVuSans-52\"/>\r\n       <use x=\"63.623047\" xlink:href=\"#DejaVuSans-48\"/>\r\n      </g>\r\n     </g>\r\n    </g>\r\n   </g>\r\n   <g id=\"patch_115\">\r\n    <path d=\"M 26.925 429.442188 \r\nL 26.925 313.775521 \r\n\" style=\"fill:none;stroke:#000000;stroke-linecap:square;stroke-linejoin:miter;stroke-width:0.8;\"/>\r\n   </g>\r\n   <g id=\"patch_116\">\r\n    <path d=\"M 26.925 429.442188 \r\nL 255.045127 429.442188 \r\n\" style=\"fill:none;stroke:#000000;stroke-linecap:square;stroke-linejoin:miter;stroke-width:0.8;\"/>\r\n   </g>\r\n   <g id=\"text_20\">\r\n    <!-- Pclass = 3 | Sex = 0 -->\r\n    <defs>\r\n     <path d=\"M 40.578125 39.3125 \r\nQ 47.65625 37.796875 51.625 33 \r\nQ 55.609375 28.21875 55.609375 21.1875 \r\nQ 55.609375 10.40625 48.1875 4.484375 \r\nQ 40.765625 -1.421875 27.09375 -1.421875 \r\nQ 22.515625 -1.421875 17.65625 -0.515625 \r\nQ 12.796875 0.390625 7.625 2.203125 \r\nL 7.625 11.71875 \r\nQ 11.71875 9.328125 16.59375 8.109375 \r\nQ 21.484375 6.890625 26.8125 6.890625 \r\nQ 36.078125 6.890625 40.9375 10.546875 \r\nQ 45.796875 14.203125 45.796875 21.1875 \r\nQ 45.796875 27.640625 41.28125 31.265625 \r\nQ 36.765625 34.90625 28.71875 34.90625 \r\nL 20.21875 34.90625 \r\nL 20.21875 43.015625 \r\nL 29.109375 43.015625 \r\nQ 36.375 43.015625 40.234375 45.921875 \r\nQ 44.09375 48.828125 44.09375 54.296875 \r\nQ 44.09375 59.90625 40.109375 62.90625 \r\nQ 36.140625 65.921875 28.71875 65.921875 \r\nQ 24.65625 65.921875 20.015625 65.03125 \r\nQ 15.375 64.15625 9.8125 62.3125 \r\nL 9.8125 71.09375 \r\nQ 15.4375 72.65625 20.34375 73.4375 \r\nQ 25.25 74.21875 29.59375 74.21875 \r\nQ 40.828125 74.21875 47.359375 69.109375 \r\nQ 53.90625 64.015625 53.90625 55.328125 \r\nQ 53.90625 49.265625 50.4375 45.09375 \r\nQ 46.96875 40.921875 40.578125 39.3125 \r\nz\r\n\" id=\"DejaVuSans-51\"/>\r\n    </defs>\r\n    <g transform=\"translate(90.474907 307.775521)scale(0.1 -0.1)\">\r\n     <use xlink:href=\"#DejaVuSans-80\"/>\r\n     <use x=\"60.302734\" xlink:href=\"#DejaVuSans-99\"/>\r\n     <use x=\"115.283203\" xlink:href=\"#DejaVuSans-108\"/>\r\n     <use x=\"143.066406\" xlink:href=\"#DejaVuSans-97\"/>\r\n     <use x=\"204.345703\" xlink:href=\"#DejaVuSans-115\"/>\r\n     <use x=\"256.445312\" xlink:href=\"#DejaVuSans-115\"/>\r\n     <use x=\"308.544922\" xlink:href=\"#DejaVuSans-32\"/>\r\n     <use x=\"340.332031\" xlink:href=\"#DejaVuSans-61\"/>\r\n     <use x=\"424.121094\" xlink:href=\"#DejaVuSans-32\"/>\r\n     <use x=\"455.908203\" xlink:href=\"#DejaVuSans-51\"/>\r\n     <use x=\"519.53125\" xlink:href=\"#DejaVuSans-32\"/>\r\n     <use x=\"551.318359\" xlink:href=\"#DejaVuSans-124\"/>\r\n     <use x=\"585.009766\" xlink:href=\"#DejaVuSans-32\"/>\r\n     <use x=\"616.796875\" xlink:href=\"#DejaVuSans-83\"/>\r\n     <use x=\"680.273438\" xlink:href=\"#DejaVuSans-101\"/>\r\n     <use x=\"740.046875\" xlink:href=\"#DejaVuSans-120\"/>\r\n     <use x=\"799.226562\" xlink:href=\"#DejaVuSans-32\"/>\r\n     <use x=\"831.013672\" xlink:href=\"#DejaVuSans-61\"/>\r\n     <use x=\"914.802734\" xlink:href=\"#DejaVuSans-32\"/>\r\n     <use x=\"946.589844\" xlink:href=\"#DejaVuSans-48\"/>\r\n    </g>\r\n   </g>\r\n  </g>\r\n  <g id=\"axes_6\">\r\n   <g id=\"patch_117\">\r\n    <path d=\"M 269.503908 429.442188 \r\nL 497.624035 429.442188 \r\nL 497.624035 313.775521 \r\nL 269.503908 313.775521 \r\nz\r\n\" style=\"fill:#ffffff;\"/>\r\n   </g>\r\n   <g id=\"patch_118\">\r\n    <path clip-path=\"url(#p8663d8e9dc)\" d=\"M 280.73297 429.442188 \r\nL 288.844006 429.442188 \r\nL 288.844006 410.735988 \r\nL 280.73297 410.735988 \r\nz\r\n\" style=\"fill:#1f77b4;opacity:0.5;\"/>\r\n   </g>\r\n   <g id=\"patch_119\">\r\n    <path clip-path=\"url(#p8663d8e9dc)\" d=\"M 288.844006 429.442188 \r\nL 296.955042 429.442188 \r\nL 296.955042 414.892921 \r\nL 288.844006 414.892921 \r\nz\r\n\" style=\"fill:#1f77b4;opacity:0.5;\"/>\r\n   </g>\r\n   <g id=\"patch_120\">\r\n    <path clip-path=\"url(#p8663d8e9dc)\" d=\"M 296.955042 429.442188 \r\nL 305.066079 429.442188 \r\nL 305.066079 416.971388 \r\nL 296.955042 416.971388 \r\nz\r\n\" style=\"fill:#1f77b4;opacity:0.5;\"/>\r\n   </g>\r\n   <g id=\"patch_121\">\r\n    <path clip-path=\"url(#p8663d8e9dc)\" d=\"M 305.066079 429.442188 \r\nL 313.177115 429.442188 \r\nL 313.177115 425.285254 \r\nL 305.066079 425.285254 \r\nz\r\n\" style=\"fill:#1f77b4;opacity:0.5;\"/>\r\n   </g>\r\n   <g id=\"patch_122\">\r\n    <path clip-path=\"url(#p8663d8e9dc)\" d=\"M 313.177115 429.442188 \r\nL 321.288151 429.442188 \r\nL 321.288151 410.735988 \r\nL 313.177115 410.735988 \r\nz\r\n\" style=\"fill:#1f77b4;opacity:0.5;\"/>\r\n   </g>\r\n   <g id=\"patch_123\">\r\n    <path clip-path=\"url(#p8663d8e9dc)\" d=\"M 321.288151 429.442188 \r\nL 329.399187 429.442188 \r\nL 329.399187 404.500588 \r\nL 321.288151 404.500588 \r\nz\r\n\" style=\"fill:#1f77b4;opacity:0.5;\"/>\r\n   </g>\r\n   <g id=\"patch_124\">\r\n    <path clip-path=\"url(#p8663d8e9dc)\" d=\"M 329.399187 429.442188 \r\nL 337.510224 429.442188 \r\nL 337.510224 404.500588 \r\nL 329.399187 404.500588 \r\nz\r\n\" style=\"fill:#1f77b4;opacity:0.5;\"/>\r\n   </g>\r\n   <g id=\"patch_125\">\r\n    <path clip-path=\"url(#p8663d8e9dc)\" d=\"M 337.510224 429.442188 \r\nL 345.62126 429.442188 \r\nL 345.62126 412.814455 \r\nL 337.510224 412.814455 \r\nz\r\n\" style=\"fill:#1f77b4;opacity:0.5;\"/>\r\n   </g>\r\n   <g id=\"patch_126\">\r\n    <path clip-path=\"url(#p8663d8e9dc)\" d=\"M 345.62126 429.442188 \r\nL 353.732296 429.442188 \r\nL 353.732296 412.814455 \r\nL 345.62126 412.814455 \r\nz\r\n\" style=\"fill:#1f77b4;opacity:0.5;\"/>\r\n   </g>\r\n   <g id=\"patch_127\">\r\n    <path clip-path=\"url(#p8663d8e9dc)\" d=\"M 353.732296 429.442188 \r\nL 361.843333 429.442188 \r\nL 361.843333 406.579055 \r\nL 353.732296 406.579055 \r\nz\r\n\" style=\"fill:#1f77b4;opacity:0.5;\"/>\r\n   </g>\r\n   <g id=\"patch_128\">\r\n    <path clip-path=\"url(#p8663d8e9dc)\" d=\"M 361.843333 429.442188 \r\nL 369.954369 429.442188 \r\nL 369.954369 425.285254 \r\nL 361.843333 425.285254 \r\nz\r\n\" style=\"fill:#1f77b4;opacity:0.5;\"/>\r\n   </g>\r\n   <g id=\"patch_129\">\r\n    <path clip-path=\"url(#p8663d8e9dc)\" d=\"M 369.954369 429.442188 \r\nL 378.065405 429.442188 \r\nL 378.065405 421.128321 \r\nL 369.954369 421.128321 \r\nz\r\n\" style=\"fill:#1f77b4;opacity:0.5;\"/>\r\n   </g>\r\n   <g id=\"patch_130\">\r\n    <path clip-path=\"url(#p8663d8e9dc)\" d=\"M 378.065405 429.442188 \r\nL 386.176441 429.442188 \r\nL 386.176441 419.049854 \r\nL 378.065405 419.049854 \r\nz\r\n\" style=\"fill:#1f77b4;opacity:0.5;\"/>\r\n   </g>\r\n   <g id=\"patch_131\">\r\n    <path clip-path=\"url(#p8663d8e9dc)\" d=\"M 386.176441 429.442188 \r\nL 394.287478 429.442188 \r\nL 394.287478 427.363721 \r\nL 386.176441 427.363721 \r\nz\r\n\" style=\"fill:#1f77b4;opacity:0.5;\"/>\r\n   </g>\r\n   <g id=\"patch_132\">\r\n    <path clip-path=\"url(#p8663d8e9dc)\" d=\"M 394.287478 429.442188 \r\nL 402.398514 429.442188 \r\nL 402.398514 421.128321 \r\nL 394.287478 421.128321 \r\nz\r\n\" style=\"fill:#1f77b4;opacity:0.5;\"/>\r\n   </g>\r\n   <g id=\"patch_133\">\r\n    <path clip-path=\"url(#p8663d8e9dc)\" d=\"M 402.398514 429.442188 \r\nL 410.50955 429.442188 \r\nL 410.50955 427.363721 \r\nL 402.398514 427.363721 \r\nz\r\n\" style=\"fill:#1f77b4;opacity:0.5;\"/>\r\n   </g>\r\n   <g id=\"patch_134\">\r\n    <path clip-path=\"url(#p8663d8e9dc)\" d=\"M 410.50955 429.442188 \r\nL 418.620587 429.442188 \r\nL 418.620587 429.442188 \r\nL 410.50955 429.442188 \r\nz\r\n\" style=\"fill:#1f77b4;opacity:0.5;\"/>\r\n   </g>\r\n   <g id=\"patch_135\">\r\n    <path clip-path=\"url(#p8663d8e9dc)\" d=\"M 418.620587 429.442188 \r\nL 426.731623 429.442188 \r\nL 426.731623 429.442188 \r\nL 418.620587 429.442188 \r\nz\r\n\" style=\"fill:#1f77b4;opacity:0.5;\"/>\r\n   </g>\r\n   <g id=\"patch_136\">\r\n    <path clip-path=\"url(#p8663d8e9dc)\" d=\"M 426.731623 429.442188 \r\nL 434.842659 429.442188 \r\nL 434.842659 429.442188 \r\nL 426.731623 429.442188 \r\nz\r\n\" style=\"fill:#1f77b4;opacity:0.5;\"/>\r\n   </g>\r\n   <g id=\"patch_137\">\r\n    <path clip-path=\"url(#p8663d8e9dc)\" d=\"M 434.842659 429.442188 \r\nL 442.953696 429.442188 \r\nL 442.953696 427.363721 \r\nL 434.842659 427.363721 \r\nz\r\n\" style=\"fill:#1f77b4;opacity:0.5;\"/>\r\n   </g>\r\n   <g id=\"matplotlib.axis_11\">\r\n    <g id=\"xtick_26\">\r\n     <g id=\"line2d_41\">\r\n      <g>\r\n       <use style=\"stroke:#000000;stroke-width:0.8;\" x=\"278.778503\" xlink:href=\"#me427235e41\" y=\"429.442188\"/>\r\n      </g>\r\n     </g>\r\n     <g id=\"text_21\">\r\n      <!-- 0 -->\r\n      <g transform=\"translate(275.597253 444.040625)scale(0.1 -0.1)\">\r\n       <use xlink:href=\"#DejaVuSans-48\"/>\r\n      </g>\r\n     </g>\r\n    </g>\r\n    <g id=\"xtick_27\">\r\n     <g id=\"line2d_42\">\r\n      <g>\r\n       <use style=\"stroke:#000000;stroke-width:0.8;\" x=\"330.897612\" xlink:href=\"#me427235e41\" y=\"429.442188\"/>\r\n      </g>\r\n     </g>\r\n     <g id=\"text_22\">\r\n      <!-- 20 -->\r\n      <g transform=\"translate(324.535112 444.040625)scale(0.1 -0.1)\">\r\n       <use xlink:href=\"#DejaVuSans-50\"/>\r\n       <use x=\"63.623047\" xlink:href=\"#DejaVuSans-48\"/>\r\n      </g>\r\n     </g>\r\n    </g>\r\n    <g id=\"xtick_28\">\r\n     <g id=\"line2d_43\">\r\n      <g>\r\n       <use style=\"stroke:#000000;stroke-width:0.8;\" x=\"383.01672\" xlink:href=\"#me427235e41\" y=\"429.442188\"/>\r\n      </g>\r\n     </g>\r\n     <g id=\"text_23\">\r\n      <!-- 40 -->\r\n      <g transform=\"translate(376.65422 444.040625)scale(0.1 -0.1)\">\r\n       <use xlink:href=\"#DejaVuSans-52\"/>\r\n       <use x=\"63.623047\" xlink:href=\"#DejaVuSans-48\"/>\r\n      </g>\r\n     </g>\r\n    </g>\r\n    <g id=\"xtick_29\">\r\n     <g id=\"line2d_44\">\r\n      <g>\r\n       <use style=\"stroke:#000000;stroke-width:0.8;\" x=\"435.135829\" xlink:href=\"#me427235e41\" y=\"429.442188\"/>\r\n      </g>\r\n     </g>\r\n     <g id=\"text_24\">\r\n      <!-- 60 -->\r\n      <g transform=\"translate(428.773329 444.040625)scale(0.1 -0.1)\">\r\n       <use xlink:href=\"#DejaVuSans-54\"/>\r\n       <use x=\"63.623047\" xlink:href=\"#DejaVuSans-48\"/>\r\n      </g>\r\n     </g>\r\n    </g>\r\n    <g id=\"xtick_30\">\r\n     <g id=\"line2d_45\">\r\n      <g>\r\n       <use style=\"stroke:#000000;stroke-width:0.8;\" x=\"487.254938\" xlink:href=\"#me427235e41\" y=\"429.442188\"/>\r\n      </g>\r\n     </g>\r\n     <g id=\"text_25\">\r\n      <!-- 80 -->\r\n      <g transform=\"translate(480.892438 444.040625)scale(0.1 -0.1)\">\r\n       <use xlink:href=\"#DejaVuSans-56\"/>\r\n       <use x=\"63.623047\" xlink:href=\"#DejaVuSans-48\"/>\r\n      </g>\r\n     </g>\r\n    </g>\r\n    <g id=\"text_26\">\r\n     <!-- Age -->\r\n     <g transform=\"translate(373.892877 457.71875)scale(0.1 -0.1)\">\r\n      <use xlink:href=\"#DejaVuSans-65\"/>\r\n      <use x=\"68.408203\" xlink:href=\"#DejaVuSans-103\"/>\r\n      <use x=\"131.884766\" xlink:href=\"#DejaVuSans-101\"/>\r\n     </g>\r\n    </g>\r\n   </g>\r\n   <g id=\"matplotlib.axis_12\">\r\n    <g id=\"ytick_16\">\r\n     <g id=\"line2d_46\">\r\n      <g>\r\n       <use style=\"stroke:#000000;stroke-width:0.8;\" x=\"269.503908\" xlink:href=\"#m76a3c9faa2\" y=\"429.442188\"/>\r\n      </g>\r\n     </g>\r\n    </g>\r\n    <g id=\"ytick_17\">\r\n     <g id=\"line2d_47\">\r\n      <g>\r\n       <use style=\"stroke:#000000;stroke-width:0.8;\" x=\"269.503908\" xlink:href=\"#m76a3c9faa2\" y=\"387.872855\"/>\r\n      </g>\r\n     </g>\r\n    </g>\r\n    <g id=\"ytick_18\">\r\n     <g id=\"line2d_48\">\r\n      <g>\r\n       <use style=\"stroke:#000000;stroke-width:0.8;\" x=\"269.503908\" xlink:href=\"#m76a3c9faa2\" y=\"346.303523\"/>\r\n      </g>\r\n     </g>\r\n    </g>\r\n   </g>\r\n   <g id=\"patch_138\">\r\n    <path d=\"M 269.503908 429.442188 \r\nL 269.503908 313.775521 \r\n\" style=\"fill:none;stroke:#000000;stroke-linecap:square;stroke-linejoin:miter;stroke-width:0.8;\"/>\r\n   </g>\r\n   <g id=\"patch_139\">\r\n    <path d=\"M 269.503908 429.442188 \r\nL 497.624035 429.442188 \r\n\" style=\"fill:none;stroke:#000000;stroke-linecap:square;stroke-linejoin:miter;stroke-width:0.8;\"/>\r\n   </g>\r\n   <g id=\"text_27\">\r\n    <!-- Pclass = 3 | Sex = 1 -->\r\n    <g transform=\"translate(333.053815 307.775521)scale(0.1 -0.1)\">\r\n     <use xlink:href=\"#DejaVuSans-80\"/>\r\n     <use x=\"60.302734\" xlink:href=\"#DejaVuSans-99\"/>\r\n     <use x=\"115.283203\" xlink:href=\"#DejaVuSans-108\"/>\r\n     <use x=\"143.066406\" xlink:href=\"#DejaVuSans-97\"/>\r\n     <use x=\"204.345703\" xlink:href=\"#DejaVuSans-115\"/>\r\n     <use x=\"256.445312\" xlink:href=\"#DejaVuSans-115\"/>\r\n     <use x=\"308.544922\" xlink:href=\"#DejaVuSans-32\"/>\r\n     <use x=\"340.332031\" xlink:href=\"#DejaVuSans-61\"/>\r\n     <use x=\"424.121094\" xlink:href=\"#DejaVuSans-32\"/>\r\n     <use x=\"455.908203\" xlink:href=\"#DejaVuSans-51\"/>\r\n     <use x=\"519.53125\" xlink:href=\"#DejaVuSans-32\"/>\r\n     <use x=\"551.318359\" xlink:href=\"#DejaVuSans-124\"/>\r\n     <use x=\"585.009766\" xlink:href=\"#DejaVuSans-32\"/>\r\n     <use x=\"616.796875\" xlink:href=\"#DejaVuSans-83\"/>\r\n     <use x=\"680.273438\" xlink:href=\"#DejaVuSans-101\"/>\r\n     <use x=\"740.046875\" xlink:href=\"#DejaVuSans-120\"/>\r\n     <use x=\"799.226562\" xlink:href=\"#DejaVuSans-32\"/>\r\n     <use x=\"831.013672\" xlink:href=\"#DejaVuSans-61\"/>\r\n     <use x=\"914.802734\" xlink:href=\"#DejaVuSans-32\"/>\r\n     <use x=\"946.589844\" xlink:href=\"#DejaVuSans-49\"/>\r\n    </g>\r\n   </g>\r\n  </g>\r\n  <g id=\"legend_1\"/>\r\n </g>\r\n <defs>\r\n  <clipPath id=\"pb28e3002e0\">\r\n   <rect height=\"115.666667\" width=\"228.120127\" x=\"26.925\" y=\"20.842187\"/>\r\n  </clipPath>\r\n  <clipPath id=\"p8d0126f454\">\r\n   <rect height=\"115.666667\" width=\"228.120127\" x=\"269.503908\" y=\"20.842187\"/>\r\n  </clipPath>\r\n  <clipPath id=\"pb48e215f2d\">\r\n   <rect height=\"115.666667\" width=\"228.120127\" x=\"26.925\" y=\"167.308854\"/>\r\n  </clipPath>\r\n  <clipPath id=\"p5d50ede246\">\r\n   <rect height=\"115.666667\" width=\"228.120127\" x=\"269.503908\" y=\"167.308854\"/>\r\n  </clipPath>\r\n  <clipPath id=\"pfd0c7b3b02\">\r\n   <rect height=\"115.666667\" width=\"228.120127\" x=\"26.925\" y=\"313.775521\"/>\r\n  </clipPath>\r\n  <clipPath id=\"p8663d8e9dc\">\r\n   <rect height=\"115.666667\" width=\"228.120127\" x=\"269.503908\" y=\"313.775521\"/>\r\n  </clipPath>\r\n </defs>\r\n</svg>\r\n",
      "image/png": "[encoded data removed]"
     },
     "metadata": {
      "needs_background": "light"
     }
    }
   ],
   "source": [
    "# grid = sns.FacetGrid(train_df, col='Pclass', hue='Gender')\n",
    "grid = sns.FacetGrid(train_df, row='Pclass', col='Sex', size=2.2, aspect=1.6)\n",
    "grid.map(plt.hist, 'Age', alpha=.5, bins=20)\n",
    "grid.add_legend()"
   ]
  },
  {
   "cell_type": "markdown",
   "metadata": {
    "_cell_guid": "a4f166f9-f5f9-1819-66c3-d89dd5b0d8ff",
    "_uuid": "6b22ac53d95c7979d5f4580bd5fd29d27155c347"
   },
   "source": [
    "Let us start by preparing an empty array to contain guessed Age values based on Pclass x Gender combinations."
   ]
  },
  {
   "cell_type": "code",
   "execution_count": 55,
   "metadata": {
    "_cell_guid": "9299523c-dcf1-fb00-e52f-e2fb860a3920",
    "_uuid": "24a0971daa4cbc3aa700bae42e68c17ce9f3a6e2",
    "collapsed": true
   },
   "outputs": [
    {
     "output_type": "execute_result",
     "data": {
      "text/plain": "array([[0., 0., 0.],\n       [0., 0., 0.]])"
     },
     "metadata": {},
     "execution_count": 55
    }
   ],
   "source": [
    "guess_ages = np.zeros((2,3))\n",
    "guess_ages"
   ]
  },
  {
   "cell_type": "markdown",
   "metadata": {
    "_cell_guid": "ec9fed37-16b1-5518-4fa8-0a7f579dbc82",
    "_uuid": "8acd90569767b544f055d573bbbb8f6012853385"
   },
   "source": [
    "Now we iterate over Sex (0 or 1) and Pclass (1, 2, 3) to calculate guessed values of Age for the six combinations."
   ]
  },
  {
   "cell_type": "code",
   "execution_count": 56,
   "metadata": {
    "_cell_guid": "a4015dfa-a0ab-65bc-0cbe-efecf1eb2569",
    "_uuid": "31198f0ad0dbbb74290ebe135abffa994b8f58f3",
    "collapsed": true
   },
   "outputs": [
    {
     "output_type": "execute_result",
     "data": {
      "text/plain": "   Survived  Pclass  Sex  Age  SibSp  Parch     Fare Embarked  Title\n0         0       3    0   22      1      0   7.2500        S      1\n1         1       1    1   38      1      0  71.2833        C      3\n2         1       3    1   26      0      0   7.9250        S      2\n3         1       1    1   35      1      0  53.1000        S      3\n4         0       3    0   35      0      0   8.0500        S      1",
      "text/html": "<div>\n<style scoped>\n    .dataframe tbody tr th:only-of-type {\n        vertical-align: middle;\n    }\n\n    .dataframe tbody tr th {\n        vertical-align: top;\n    }\n\n    .dataframe thead th {\n        text-align: right;\n    }\n</style>\n<table border=\"1\" class=\"dataframe\">\n  <thead>\n    <tr style=\"text-align: right;\">\n      <th></th>\n      <th>Survived</th>\n      <th>Pclass</th>\n      <th>Sex</th>\n      <th>Age</th>\n      <th>SibSp</th>\n      <th>Parch</th>\n      <th>Fare</th>\n      <th>Embarked</th>\n      <th>Title</th>\n    </tr>\n  </thead>\n  <tbody>\n    <tr>\n      <th>0</th>\n      <td>0</td>\n      <td>3</td>\n      <td>0</td>\n      <td>22</td>\n      <td>1</td>\n      <td>0</td>\n      <td>7.2500</td>\n      <td>S</td>\n      <td>1</td>\n    </tr>\n    <tr>\n      <th>1</th>\n      <td>1</td>\n      <td>1</td>\n      <td>1</td>\n      <td>38</td>\n      <td>1</td>\n      <td>0</td>\n      <td>71.2833</td>\n      <td>C</td>\n      <td>3</td>\n    </tr>\n    <tr>\n      <th>2</th>\n      <td>1</td>\n      <td>3</td>\n      <td>1</td>\n      <td>26</td>\n      <td>0</td>\n      <td>0</td>\n      <td>7.9250</td>\n      <td>S</td>\n      <td>2</td>\n    </tr>\n    <tr>\n      <th>3</th>\n      <td>1</td>\n      <td>1</td>\n      <td>1</td>\n      <td>35</td>\n      <td>1</td>\n      <td>0</td>\n      <td>53.1000</td>\n      <td>S</td>\n      <td>3</td>\n    </tr>\n    <tr>\n      <th>4</th>\n      <td>0</td>\n      <td>3</td>\n      <td>0</td>\n      <td>35</td>\n      <td>0</td>\n      <td>0</td>\n      <td>8.0500</td>\n      <td>S</td>\n      <td>1</td>\n    </tr>\n  </tbody>\n</table>\n</div>"
     },
     "metadata": {},
     "execution_count": 56
    }
   ],
   "source": [
    "for dataset in combine:\n",
    "    for i in range(0, 2):\n",
    "        for j in range(0, 3):\n",
    "            guess_df = dataset[(dataset['Sex'] == i) & \\\n",
    "(dataset['Pclass'] == j+1)]['Age'].dropna()\n",
    "\n",
    "            # age_mean = guess_df.mean()\n",
    "            # age_std = guess_df.std()\n",
    "            # age_guess = rnd.uniform(age_mean - age_std, age_mean + age_std)\n",
    "\n",
    "            age_guess = guess_df.median()\n",
    "\n",
    "            # Convert random age float to nearest .5 age\n",
    "            guess_ages[i,j] = int( age_guess/0.5 + 0.5 ) * 0.5\n",
    "            \n",
    "    for i in range(0, 2):\n",
    "        for j in range(0, 3):\n",
    "            dataset.loc[ (dataset.Age.isnull()) & (dataset.Sex == i) & (dataset.Pclass == j+1),\\\n",
    "                    'Age'] = guess_ages[i,j]\n",
    "\n",
    "    dataset['Age'] = dataset['Age'].astype(int)\n",
    "\n",
    "train_df.head()"
   ]
  },
  {
   "cell_type": "markdown",
   "metadata": {
    "_cell_guid": "dbe0a8bf-40bc-c581-e10e-76f07b3b71d4",
    "_uuid": "e7c52b44b703f28e4b6f4ddba67ab65f40274550"
   },
   "source": [
    "Let us create Age bands and determine correlations with Survived."
   ]
  },
  {
   "cell_type": "code",
   "execution_count": 57,
   "metadata": {
    "_cell_guid": "725d1c84-6323-9d70-5812-baf9994d3aa1",
    "_uuid": "5c8b4cbb302f439ef0d6278dcfbdafd952675353",
    "collapsed": true
   },
   "outputs": [
    {
     "output_type": "execute_result",
     "data": {
      "text/plain": "         AgeBand  Survived\n0  (-0.08, 16.0]  0.550000\n1   (16.0, 32.0]  0.337374\n2   (32.0, 48.0]  0.412037\n3   (48.0, 64.0]  0.434783\n4   (64.0, 80.0]  0.090909",
      "text/html": "<div>\n<style scoped>\n    .dataframe tbody tr th:only-of-type {\n        vertical-align: middle;\n    }\n\n    .dataframe tbody tr th {\n        vertical-align: top;\n    }\n\n    .dataframe thead th {\n        text-align: right;\n    }\n</style>\n<table border=\"1\" class=\"dataframe\">\n  <thead>\n    <tr style=\"text-align: right;\">\n      <th></th>\n      <th>AgeBand</th>\n      <th>Survived</th>\n    </tr>\n  </thead>\n  <tbody>\n    <tr>\n      <th>0</th>\n      <td>(-0.08, 16.0]</td>\n      <td>0.550000</td>\n    </tr>\n    <tr>\n      <th>1</th>\n      <td>(16.0, 32.0]</td>\n      <td>0.337374</td>\n    </tr>\n    <tr>\n      <th>2</th>\n      <td>(32.0, 48.0]</td>\n      <td>0.412037</td>\n    </tr>\n    <tr>\n      <th>3</th>\n      <td>(48.0, 64.0]</td>\n      <td>0.434783</td>\n    </tr>\n    <tr>\n      <th>4</th>\n      <td>(64.0, 80.0]</td>\n      <td>0.090909</td>\n    </tr>\n  </tbody>\n</table>\n</div>"
     },
     "metadata": {},
     "execution_count": 57
    }
   ],
   "source": [
    "train_df['AgeBand'] = pd.cut(train_df['Age'], 5)\n",
    "train_df[['AgeBand', 'Survived']].groupby(['AgeBand'], as_index=False).mean().sort_values(by='AgeBand', ascending=True)"
   ]
  },
  {
   "cell_type": "markdown",
   "metadata": {
    "_cell_guid": "ba4be3a0-e524-9c57-fbec-c8ecc5cde5c6",
    "_uuid": "856392dd415ac14ab74a885a37d068fc7a58f3a5"
   },
   "source": [
    "Let us replace Age with ordinals based on these bands."
   ]
  },
  {
   "cell_type": "code",
   "execution_count": 58,
   "metadata": {
    "_cell_guid": "797b986d-2c45-a9ee-e5b5-088de817c8b2",
    "_uuid": "ee13831345f389db407c178f66c19cc8331445b0",
    "collapsed": true
   },
   "outputs": [
    {
     "output_type": "execute_result",
     "data": {
      "text/plain": "   Survived  Pclass  Sex  Age  SibSp  Parch     Fare Embarked  Title  \\\n0         0       3    0    1      1      0   7.2500        S      1   \n1         1       1    1    2      1      0  71.2833        C      3   \n2         1       3    1    1      0      0   7.9250        S      2   \n3         1       1    1    2      1      0  53.1000        S      3   \n4         0       3    0    2      0      0   8.0500        S      1   \n\n        AgeBand  \n0  (16.0, 32.0]  \n1  (32.0, 48.0]  \n2  (16.0, 32.0]  \n3  (32.0, 48.0]  \n4  (32.0, 48.0]  ",
      "text/html": "<div>\n<style scoped>\n    .dataframe tbody tr th:only-of-type {\n        vertical-align: middle;\n    }\n\n    .dataframe tbody tr th {\n        vertical-align: top;\n    }\n\n    .dataframe thead th {\n        text-align: right;\n    }\n</style>\n<table border=\"1\" class=\"dataframe\">\n  <thead>\n    <tr style=\"text-align: right;\">\n      <th></th>\n      <th>Survived</th>\n      <th>Pclass</th>\n      <th>Sex</th>\n      <th>Age</th>\n      <th>SibSp</th>\n      <th>Parch</th>\n      <th>Fare</th>\n      <th>Embarked</th>\n      <th>Title</th>\n      <th>AgeBand</th>\n    </tr>\n  </thead>\n  <tbody>\n    <tr>\n      <th>0</th>\n      <td>0</td>\n      <td>3</td>\n      <td>0</td>\n      <td>1</td>\n      <td>1</td>\n      <td>0</td>\n      <td>7.2500</td>\n      <td>S</td>\n      <td>1</td>\n      <td>(16.0, 32.0]</td>\n    </tr>\n    <tr>\n      <th>1</th>\n      <td>1</td>\n      <td>1</td>\n      <td>1</td>\n      <td>2</td>\n      <td>1</td>\n      <td>0</td>\n      <td>71.2833</td>\n      <td>C</td>\n      <td>3</td>\n      <td>(32.0, 48.0]</td>\n    </tr>\n    <tr>\n      <th>2</th>\n      <td>1</td>\n      <td>3</td>\n      <td>1</td>\n      <td>1</td>\n      <td>0</td>\n      <td>0</td>\n      <td>7.9250</td>\n      <td>S</td>\n      <td>2</td>\n      <td>(16.0, 32.0]</td>\n    </tr>\n    <tr>\n      <th>3</th>\n      <td>1</td>\n      <td>1</td>\n      <td>1</td>\n      <td>2</td>\n      <td>1</td>\n      <td>0</td>\n      <td>53.1000</td>\n      <td>S</td>\n      <td>3</td>\n      <td>(32.0, 48.0]</td>\n    </tr>\n    <tr>\n      <th>4</th>\n      <td>0</td>\n      <td>3</td>\n      <td>0</td>\n      <td>2</td>\n      <td>0</td>\n      <td>0</td>\n      <td>8.0500</td>\n      <td>S</td>\n      <td>1</td>\n      <td>(32.0, 48.0]</td>\n    </tr>\n  </tbody>\n</table>\n</div>"
     },
     "metadata": {},
     "execution_count": 58
    }
   ],
   "source": [
    "for dataset in combine:    \n",
    "    dataset.loc[ dataset['Age'] <= 16, 'Age'] = 0\n",
    "    dataset.loc[(dataset['Age'] > 16) & (dataset['Age'] <= 32), 'Age'] = 1\n",
    "    dataset.loc[(dataset['Age'] > 32) & (dataset['Age'] <= 48), 'Age'] = 2\n",
    "    dataset.loc[(dataset['Age'] > 48) & (dataset['Age'] <= 64), 'Age'] = 3\n",
    "    dataset.loc[ dataset['Age'] > 64, 'Age']\n",
    "train_df.head()"
   ]
  },
  {
   "cell_type": "markdown",
   "metadata": {
    "_cell_guid": "004568b6-dd9a-ff89-43d5-13d4e9370b1d",
    "_uuid": "8e3fbc95e0fd6600e28347567416d3f0d77a24cc"
   },
   "source": [
    "We can not remove the AgeBand feature."
   ]
  },
  {
   "cell_type": "code",
   "execution_count": 59,
   "metadata": {
    "_cell_guid": "875e55d4-51b0-5061-b72c-8a23946133a3",
    "_uuid": "1ea01ccc4a24e8951556d97c990aa0136da19721",
    "collapsed": true
   },
   "outputs": [
    {
     "output_type": "execute_result",
     "data": {
      "text/plain": "   Survived  Pclass  Sex  Age  SibSp  Parch     Fare Embarked  Title\n0         0       3    0    1      1      0   7.2500        S      1\n1         1       1    1    2      1      0  71.2833        C      3\n2         1       3    1    1      0      0   7.9250        S      2\n3         1       1    1    2      1      0  53.1000        S      3\n4         0       3    0    2      0      0   8.0500        S      1",
      "text/html": "<div>\n<style scoped>\n    .dataframe tbody tr th:only-of-type {\n        vertical-align: middle;\n    }\n\n    .dataframe tbody tr th {\n        vertical-align: top;\n    }\n\n    .dataframe thead th {\n        text-align: right;\n    }\n</style>\n<table border=\"1\" class=\"dataframe\">\n  <thead>\n    <tr style=\"text-align: right;\">\n      <th></th>\n      <th>Survived</th>\n      <th>Pclass</th>\n      <th>Sex</th>\n      <th>Age</th>\n      <th>SibSp</th>\n      <th>Parch</th>\n      <th>Fare</th>\n      <th>Embarked</th>\n      <th>Title</th>\n    </tr>\n  </thead>\n  <tbody>\n    <tr>\n      <th>0</th>\n      <td>0</td>\n      <td>3</td>\n      <td>0</td>\n      <td>1</td>\n      <td>1</td>\n      <td>0</td>\n      <td>7.2500</td>\n      <td>S</td>\n      <td>1</td>\n    </tr>\n    <tr>\n      <th>1</th>\n      <td>1</td>\n      <td>1</td>\n      <td>1</td>\n      <td>2</td>\n      <td>1</td>\n      <td>0</td>\n      <td>71.2833</td>\n      <td>C</td>\n      <td>3</td>\n    </tr>\n    <tr>\n      <th>2</th>\n      <td>1</td>\n      <td>3</td>\n      <td>1</td>\n      <td>1</td>\n      <td>0</td>\n      <td>0</td>\n      <td>7.9250</td>\n      <td>S</td>\n      <td>2</td>\n    </tr>\n    <tr>\n      <th>3</th>\n      <td>1</td>\n      <td>1</td>\n      <td>1</td>\n      <td>2</td>\n      <td>1</td>\n      <td>0</td>\n      <td>53.1000</td>\n      <td>S</td>\n      <td>3</td>\n    </tr>\n    <tr>\n      <th>4</th>\n      <td>0</td>\n      <td>3</td>\n      <td>0</td>\n      <td>2</td>\n      <td>0</td>\n      <td>0</td>\n      <td>8.0500</td>\n      <td>S</td>\n      <td>1</td>\n    </tr>\n  </tbody>\n</table>\n</div>"
     },
     "metadata": {},
     "execution_count": 59
    }
   ],
   "source": [
    "train_df = train_df.drop(['AgeBand'], axis=1)\n",
    "combine = [train_df, test_df]\n",
    "train_df.head()"
   ]
  },
  {
   "cell_type": "markdown",
   "metadata": {
    "_cell_guid": "1c237b76-d7ac-098f-0156-480a838a64a9",
    "_uuid": "e3d4a2040c053fbd0486c8cfc4fec3224bd3ebb3"
   },
   "source": [
    "### Create new feature combining existing features\n",
    "\n",
    "We can create a new feature for FamilySize which combines Parch and SibSp. This will enable us to drop Parch and SibSp from our datasets."
   ]
  },
  {
   "cell_type": "code",
   "execution_count": 60,
   "metadata": {
    "_cell_guid": "7e6c04ed-cfaa-3139-4378-574fd095d6ba",
    "_uuid": "33d1236ce4a8ab888b9fac2d5af1c78d174b32c7",
    "collapsed": true
   },
   "outputs": [
    {
     "output_type": "execute_result",
     "data": {
      "text/plain": "   FamilySize  Survived\n3           4  0.724138\n2           3  0.578431\n1           2  0.552795\n6           7  0.333333\n0           1  0.303538\n4           5  0.200000\n5           6  0.136364\n7           8  0.000000\n8          11  0.000000",
      "text/html": "<div>\n<style scoped>\n    .dataframe tbody tr th:only-of-type {\n        vertical-align: middle;\n    }\n\n    .dataframe tbody tr th {\n        vertical-align: top;\n    }\n\n    .dataframe thead th {\n        text-align: right;\n    }\n</style>\n<table border=\"1\" class=\"dataframe\">\n  <thead>\n    <tr style=\"text-align: right;\">\n      <th></th>\n      <th>FamilySize</th>\n      <th>Survived</th>\n    </tr>\n  </thead>\n  <tbody>\n    <tr>\n      <th>3</th>\n      <td>4</td>\n      <td>0.724138</td>\n    </tr>\n    <tr>\n      <th>2</th>\n      <td>3</td>\n      <td>0.578431</td>\n    </tr>\n    <tr>\n      <th>1</th>\n      <td>2</td>\n      <td>0.552795</td>\n    </tr>\n    <tr>\n      <th>6</th>\n      <td>7</td>\n      <td>0.333333</td>\n    </tr>\n    <tr>\n      <th>0</th>\n      <td>1</td>\n      <td>0.303538</td>\n    </tr>\n    <tr>\n      <th>4</th>\n      <td>5</td>\n      <td>0.200000</td>\n    </tr>\n    <tr>\n      <th>5</th>\n      <td>6</td>\n      <td>0.136364</td>\n    </tr>\n    <tr>\n      <th>7</th>\n      <td>8</td>\n      <td>0.000000</td>\n    </tr>\n    <tr>\n      <th>8</th>\n      <td>11</td>\n      <td>0.000000</td>\n    </tr>\n  </tbody>\n</table>\n</div>"
     },
     "metadata": {},
     "execution_count": 60
    }
   ],
   "source": [
    "#Question: why plus 1?\n",
    "for dataset in combine:\n",
    "    dataset['FamilySize'] = dataset['SibSp'] + dataset['Parch'] + 1\n",
    "\n",
    "train_df[['FamilySize', 'Survived']].groupby(['FamilySize'], as_index=False).mean().sort_values(by='Survived', ascending=False)"
   ]
  },
  {
   "cell_type": "markdown",
   "metadata": {
    "_cell_guid": "842188e6-acf8-2476-ccec-9e3451e4fa86",
    "_uuid": "67f8e4474cd1ecf4261c153ce8b40ea23cf659e4"
   },
   "source": [
    "We can create another feature called IsAlone."
   ]
  },
  {
   "cell_type": "code",
   "execution_count": 61,
   "metadata": {
    "_cell_guid": "5c778c69-a9ae-1b6b-44fe-a0898d07be7a",
    "_uuid": "3b8db81cc3513b088c6bcd9cd1938156fe77992f",
    "collapsed": true
   },
   "outputs": [
    {
     "output_type": "execute_result",
     "data": {
      "text/plain": "   IsAlone  Survived\n0        0  0.505650\n1        1  0.303538",
      "text/html": "<div>\n<style scoped>\n    .dataframe tbody tr th:only-of-type {\n        vertical-align: middle;\n    }\n\n    .dataframe tbody tr th {\n        vertical-align: top;\n    }\n\n    .dataframe thead th {\n        text-align: right;\n    }\n</style>\n<table border=\"1\" class=\"dataframe\">\n  <thead>\n    <tr style=\"text-align: right;\">\n      <th></th>\n      <th>IsAlone</th>\n      <th>Survived</th>\n    </tr>\n  </thead>\n  <tbody>\n    <tr>\n      <th>0</th>\n      <td>0</td>\n      <td>0.505650</td>\n    </tr>\n    <tr>\n      <th>1</th>\n      <td>1</td>\n      <td>0.303538</td>\n    </tr>\n  </tbody>\n</table>\n</div>"
     },
     "metadata": {},
     "execution_count": 61
    }
   ],
   "source": [
    "#Question - not sure what is happening?\n",
    "for dataset in combine:\n",
    "    dataset['IsAlone'] = 0\n",
    "    dataset.loc[dataset['FamilySize'] == 1, 'IsAlone'] = 1\n",
    "\n",
    "train_df[['IsAlone', 'Survived']].groupby(['IsAlone'], as_index=False).mean()"
   ]
  },
  {
   "cell_type": "markdown",
   "metadata": {
    "_cell_guid": "e6b87c09-e7b2-f098-5b04-4360080d26bc",
    "_uuid": "3da4204b2c78faa54a94bbad78a8aa85fbf90c87"
   },
   "source": [
    "Let us drop Parch, SibSp, and FamilySize features in favor of IsAlone."
   ]
  },
  {
   "cell_type": "code",
   "execution_count": 62,
   "metadata": {
    "_cell_guid": "74ee56a6-7357-f3bc-b605-6c41f8aa6566",
    "_uuid": "1e3479690ef7cd8ee10538d4f39d7117246887f0",
    "collapsed": true
   },
   "outputs": [
    {
     "output_type": "execute_result",
     "data": {
      "text/plain": "   Survived  Pclass  Sex  Age     Fare Embarked  Title  IsAlone\n0         0       3    0    1   7.2500        S      1        0\n1         1       1    1    2  71.2833        C      3        0\n2         1       3    1    1   7.9250        S      2        1\n3         1       1    1    2  53.1000        S      3        0\n4         0       3    0    2   8.0500        S      1        1",
      "text/html": "<div>\n<style scoped>\n    .dataframe tbody tr th:only-of-type {\n        vertical-align: middle;\n    }\n\n    .dataframe tbody tr th {\n        vertical-align: top;\n    }\n\n    .dataframe thead th {\n        text-align: right;\n    }\n</style>\n<table border=\"1\" class=\"dataframe\">\n  <thead>\n    <tr style=\"text-align: right;\">\n      <th></th>\n      <th>Survived</th>\n      <th>Pclass</th>\n      <th>Sex</th>\n      <th>Age</th>\n      <th>Fare</th>\n      <th>Embarked</th>\n      <th>Title</th>\n      <th>IsAlone</th>\n    </tr>\n  </thead>\n  <tbody>\n    <tr>\n      <th>0</th>\n      <td>0</td>\n      <td>3</td>\n      <td>0</td>\n      <td>1</td>\n      <td>7.2500</td>\n      <td>S</td>\n      <td>1</td>\n      <td>0</td>\n    </tr>\n    <tr>\n      <th>1</th>\n      <td>1</td>\n      <td>1</td>\n      <td>1</td>\n      <td>2</td>\n      <td>71.2833</td>\n      <td>C</td>\n      <td>3</td>\n      <td>0</td>\n    </tr>\n    <tr>\n      <th>2</th>\n      <td>1</td>\n      <td>3</td>\n      <td>1</td>\n      <td>1</td>\n      <td>7.9250</td>\n      <td>S</td>\n      <td>2</td>\n      <td>1</td>\n    </tr>\n    <tr>\n      <th>3</th>\n      <td>1</td>\n      <td>1</td>\n      <td>1</td>\n      <td>2</td>\n      <td>53.1000</td>\n      <td>S</td>\n      <td>3</td>\n      <td>0</td>\n    </tr>\n    <tr>\n      <th>4</th>\n      <td>0</td>\n      <td>3</td>\n      <td>0</td>\n      <td>2</td>\n      <td>8.0500</td>\n      <td>S</td>\n      <td>1</td>\n      <td>1</td>\n    </tr>\n  </tbody>\n</table>\n</div>"
     },
     "metadata": {},
     "execution_count": 62
    }
   ],
   "source": [
    "train_df = train_df.drop(['Parch', 'SibSp', 'FamilySize'], axis=1)\n",
    "test_df = test_df.drop(['Parch', 'SibSp', 'FamilySize'], axis=1)\n",
    "combine = [train_df, test_df]\n",
    "\n",
    "train_df.head()"
   ]
  },
  {
   "cell_type": "markdown",
   "metadata": {
    "_cell_guid": "f890b730-b1fe-919e-fb07-352fbd7edd44",
    "_uuid": "71b800ed96407eba05220f76a1288366a22ec887"
   },
   "source": [
    "We can also create an artificial feature combining Pclass and Age."
   ]
  },
  {
   "cell_type": "code",
   "execution_count": 63,
   "metadata": {
    "_cell_guid": "305402aa-1ea1-c245-c367-056eef8fe453",
    "_uuid": "aac2c5340c06210a8b0199e15461e9049fbf2cff",
    "collapsed": true
   },
   "outputs": [
    {
     "output_type": "execute_result",
     "data": {
      "text/plain": "   Age*Class  Age  Pclass\n0          3    1       3\n1          2    2       1\n2          3    1       3\n3          2    2       1\n4          6    2       3\n5          3    1       3\n6          3    3       1\n7          0    0       3\n8          3    1       3\n9          0    0       2",
      "text/html": "<div>\n<style scoped>\n    .dataframe tbody tr th:only-of-type {\n        vertical-align: middle;\n    }\n\n    .dataframe tbody tr th {\n        vertical-align: top;\n    }\n\n    .dataframe thead th {\n        text-align: right;\n    }\n</style>\n<table border=\"1\" class=\"dataframe\">\n  <thead>\n    <tr style=\"text-align: right;\">\n      <th></th>\n      <th>Age*Class</th>\n      <th>Age</th>\n      <th>Pclass</th>\n    </tr>\n  </thead>\n  <tbody>\n    <tr>\n      <th>0</th>\n      <td>3</td>\n      <td>1</td>\n      <td>3</td>\n    </tr>\n    <tr>\n      <th>1</th>\n      <td>2</td>\n      <td>2</td>\n      <td>1</td>\n    </tr>\n    <tr>\n      <th>2</th>\n      <td>3</td>\n      <td>1</td>\n      <td>3</td>\n    </tr>\n    <tr>\n      <th>3</th>\n      <td>2</td>\n      <td>2</td>\n      <td>1</td>\n    </tr>\n    <tr>\n      <th>4</th>\n      <td>6</td>\n      <td>2</td>\n      <td>3</td>\n    </tr>\n    <tr>\n      <th>5</th>\n      <td>3</td>\n      <td>1</td>\n      <td>3</td>\n    </tr>\n    <tr>\n      <th>6</th>\n      <td>3</td>\n      <td>3</td>\n      <td>1</td>\n    </tr>\n    <tr>\n      <th>7</th>\n      <td>0</td>\n      <td>0</td>\n      <td>3</td>\n    </tr>\n    <tr>\n      <th>8</th>\n      <td>3</td>\n      <td>1</td>\n      <td>3</td>\n    </tr>\n    <tr>\n      <th>9</th>\n      <td>0</td>\n      <td>0</td>\n      <td>2</td>\n    </tr>\n  </tbody>\n</table>\n</div>"
     },
     "metadata": {},
     "execution_count": 63
    }
   ],
   "source": [
    "for dataset in combine:\n",
    "    dataset['Age*Class'] = dataset.Age * dataset.Pclass\n",
    "\n",
    "train_df.loc[:, ['Age*Class', 'Age', 'Pclass']].head(10)"
   ]
  },
  {
   "cell_type": "markdown",
   "metadata": {
    "_cell_guid": "13292c1b-020d-d9aa-525c-941331bb996a",
    "_uuid": "8264cc5676db8cd3e0b3e3f078cbaa74fd585a3c"
   },
   "source": [
    "### Completing a categorical feature\n",
    "\n",
    "Embarked feature takes S, Q, C values based on port of embarkation. Our training dataset has two missing values. We simply fill these with the most common occurance."
   ]
  },
  {
   "cell_type": "code",
   "execution_count": 64,
   "metadata": {
    "_cell_guid": "bf351113-9b7f-ef56-7211-e8dd00665b18",
    "_uuid": "1e3f8af166f60a1b3125a6b046eff5fff02d63cf",
    "collapsed": true
   },
   "outputs": [
    {
     "output_type": "execute_result",
     "data": {
      "text/plain": "'S'"
     },
     "metadata": {},
     "execution_count": 64
    }
   ],
   "source": [
    "freq_port = train_df.Embarked.dropna().mode()[0]\n",
    "freq_port"
   ]
  },
  {
   "cell_type": "code",
   "execution_count": 65,
   "metadata": {
    "_cell_guid": "51c21fcc-f066-cd80-18c8-3d140be6cbae",
    "_uuid": "d85b5575fb45f25749298641f6a0a38803e1ff22",
    "collapsed": true
   },
   "outputs": [
    {
     "output_type": "execute_result",
     "data": {
      "text/plain": "  Embarked  Survived\n0        C  0.553571\n1        Q  0.389610\n2        S  0.339009",
      "text/html": "<div>\n<style scoped>\n    .dataframe tbody tr th:only-of-type {\n        vertical-align: middle;\n    }\n\n    .dataframe tbody tr th {\n        vertical-align: top;\n    }\n\n    .dataframe thead th {\n        text-align: right;\n    }\n</style>\n<table border=\"1\" class=\"dataframe\">\n  <thead>\n    <tr style=\"text-align: right;\">\n      <th></th>\n      <th>Embarked</th>\n      <th>Survived</th>\n    </tr>\n  </thead>\n  <tbody>\n    <tr>\n      <th>0</th>\n      <td>C</td>\n      <td>0.553571</td>\n    </tr>\n    <tr>\n      <th>1</th>\n      <td>Q</td>\n      <td>0.389610</td>\n    </tr>\n    <tr>\n      <th>2</th>\n      <td>S</td>\n      <td>0.339009</td>\n    </tr>\n  </tbody>\n</table>\n</div>"
     },
     "metadata": {},
     "execution_count": 65
    }
   ],
   "source": [
    "for dataset in combine:\n",
    "    dataset['Embarked'] = dataset['Embarked'].fillna(freq_port)\n",
    "    \n",
    "train_df[['Embarked', 'Survived']].groupby(['Embarked'], as_index=False).mean().sort_values(by='Survived', ascending=False)"
   ]
  },
  {
   "cell_type": "markdown",
   "metadata": {
    "_cell_guid": "f6acf7b2-0db3-e583-de50-7e14b495de34",
    "_uuid": "d8830e997995145314328b6218b5606df04499b0"
   },
   "source": [
    "### Converting categorical feature to numeric\n",
    "\n",
    "We can now convert the EmbarkedFill feature by creating a new numeric Port feature."
   ]
  },
  {
   "cell_type": "code",
   "execution_count": 66,
   "metadata": {
    "_cell_guid": "89a91d76-2cc0-9bbb-c5c5-3c9ecae33c66",
    "_uuid": "e480a1ef145de0b023821134896391d568a6f4f9",
    "collapsed": true
   },
   "outputs": [
    {
     "output_type": "execute_result",
     "data": {
      "text/plain": "   Survived  Pclass  Sex  Age     Fare  Embarked  Title  IsAlone  Age*Class\n0         0       3    0    1   7.2500         0      1        0          3\n1         1       1    1    2  71.2833         1      3        0          2\n2         1       3    1    1   7.9250         0      2        1          3\n3         1       1    1    2  53.1000         0      3        0          2\n4         0       3    0    2   8.0500         0      1        1          6",
      "text/html": "<div>\n<style scoped>\n    .dataframe tbody tr th:only-of-type {\n        vertical-align: middle;\n    }\n\n    .dataframe tbody tr th {\n        vertical-align: top;\n    }\n\n    .dataframe thead th {\n        text-align: right;\n    }\n</style>\n<table border=\"1\" class=\"dataframe\">\n  <thead>\n    <tr style=\"text-align: right;\">\n      <th></th>\n      <th>Survived</th>\n      <th>Pclass</th>\n      <th>Sex</th>\n      <th>Age</th>\n      <th>Fare</th>\n      <th>Embarked</th>\n      <th>Title</th>\n      <th>IsAlone</th>\n      <th>Age*Class</th>\n    </tr>\n  </thead>\n  <tbody>\n    <tr>\n      <th>0</th>\n      <td>0</td>\n      <td>3</td>\n      <td>0</td>\n      <td>1</td>\n      <td>7.2500</td>\n      <td>0</td>\n      <td>1</td>\n      <td>0</td>\n      <td>3</td>\n    </tr>\n    <tr>\n      <th>1</th>\n      <td>1</td>\n      <td>1</td>\n      <td>1</td>\n      <td>2</td>\n      <td>71.2833</td>\n      <td>1</td>\n      <td>3</td>\n      <td>0</td>\n      <td>2</td>\n    </tr>\n    <tr>\n      <th>2</th>\n      <td>1</td>\n      <td>3</td>\n      <td>1</td>\n      <td>1</td>\n      <td>7.9250</td>\n      <td>0</td>\n      <td>2</td>\n      <td>1</td>\n      <td>3</td>\n    </tr>\n    <tr>\n      <th>3</th>\n      <td>1</td>\n      <td>1</td>\n      <td>1</td>\n      <td>2</td>\n      <td>53.1000</td>\n      <td>0</td>\n      <td>3</td>\n      <td>0</td>\n      <td>2</td>\n    </tr>\n    <tr>\n      <th>4</th>\n      <td>0</td>\n      <td>3</td>\n      <td>0</td>\n      <td>2</td>\n      <td>8.0500</td>\n      <td>0</td>\n      <td>1</td>\n      <td>1</td>\n      <td>6</td>\n    </tr>\n  </tbody>\n</table>\n</div>"
     },
     "metadata": {},
     "execution_count": 66
    }
   ],
   "source": [
    "for dataset in combine:\n",
    "    dataset['Embarked'] = dataset['Embarked'].map( {'S': 0, 'C': 1, 'Q': 2} ).astype(int)\n",
    "\n",
    "train_df.head()"
   ]
  },
  {
   "cell_type": "markdown",
   "metadata": {
    "_cell_guid": "e3dfc817-e1c1-a274-a111-62c1c814cecf",
    "_uuid": "d79834ebc4ab9d48ed404584711475dbf8611b91"
   },
   "source": [
    "### Quick completing and converting a numeric feature\n",
    "\n",
    "We can now complete the Fare feature for single missing value in test dataset using mode to get the value that occurs most frequently for this feature. We do this in a single line of code.\n",
    "\n",
    "Note that we are not creating an intermediate new feature or doing any further analysis for correlation to guess missing feature as we are replacing only a single value. The completion goal achieves desired requirement for model algorithm to operate on non-null values.\n",
    "\n",
    "We may also want round off the fare to two decimals as it represents currency."
   ]
  },
  {
   "cell_type": "code",
   "execution_count": 67,
   "metadata": {
    "_cell_guid": "3600cb86-cf5f-d87b-1b33-638dc8db1564",
    "_uuid": "aacb62f3526072a84795a178bd59222378bab180",
    "collapsed": true
   },
   "outputs": [
    {
     "output_type": "execute_result",
     "data": {
      "text/plain": "   PassengerId  Pclass  Sex  Age     Fare  Embarked  Title  IsAlone  Age*Class\n0          892       3    0    2   7.8292         2      1        1          6\n1          893       3    1    2   7.0000         0      3        0          6\n2          894       2    0    3   9.6875         2      1        1          6\n3          895       3    0    1   8.6625         0      1        1          3\n4          896       3    1    1  12.2875         0      3        0          3",
      "text/html": "<div>\n<style scoped>\n    .dataframe tbody tr th:only-of-type {\n        vertical-align: middle;\n    }\n\n    .dataframe tbody tr th {\n        vertical-align: top;\n    }\n\n    .dataframe thead th {\n        text-align: right;\n    }\n</style>\n<table border=\"1\" class=\"dataframe\">\n  <thead>\n    <tr style=\"text-align: right;\">\n      <th></th>\n      <th>PassengerId</th>\n      <th>Pclass</th>\n      <th>Sex</th>\n      <th>Age</th>\n      <th>Fare</th>\n      <th>Embarked</th>\n      <th>Title</th>\n      <th>IsAlone</th>\n      <th>Age*Class</th>\n    </tr>\n  </thead>\n  <tbody>\n    <tr>\n      <th>0</th>\n      <td>892</td>\n      <td>3</td>\n      <td>0</td>\n      <td>2</td>\n      <td>7.8292</td>\n      <td>2</td>\n      <td>1</td>\n      <td>1</td>\n      <td>6</td>\n    </tr>\n    <tr>\n      <th>1</th>\n      <td>893</td>\n      <td>3</td>\n      <td>1</td>\n      <td>2</td>\n      <td>7.0000</td>\n      <td>0</td>\n      <td>3</td>\n      <td>0</td>\n      <td>6</td>\n    </tr>\n    <tr>\n      <th>2</th>\n      <td>894</td>\n      <td>2</td>\n      <td>0</td>\n      <td>3</td>\n      <td>9.6875</td>\n      <td>2</td>\n      <td>1</td>\n      <td>1</td>\n      <td>6</td>\n    </tr>\n    <tr>\n      <th>3</th>\n      <td>895</td>\n      <td>3</td>\n      <td>0</td>\n      <td>1</td>\n      <td>8.6625</td>\n      <td>0</td>\n      <td>1</td>\n      <td>1</td>\n      <td>3</td>\n    </tr>\n    <tr>\n      <th>4</th>\n      <td>896</td>\n      <td>3</td>\n      <td>1</td>\n      <td>1</td>\n      <td>12.2875</td>\n      <td>0</td>\n      <td>3</td>\n      <td>0</td>\n      <td>3</td>\n    </tr>\n  </tbody>\n</table>\n</div>"
     },
     "metadata": {},
     "execution_count": 67
    }
   ],
   "source": [
    "test_df['Fare'].fillna(test_df['Fare'].dropna().median(), inplace=True)\n",
    "test_df.head()"
   ]
  },
  {
   "cell_type": "markdown",
   "metadata": {
    "_cell_guid": "4b816bc7-d1fb-c02b-ed1d-ee34b819497d",
    "_uuid": "3466d98e83899d8b38a36ede794c68c5656f48e6"
   },
   "source": [
    "#Question, what do they mean with band?\n",
    "\n",
    "\n",
    "We can not create FareBand."
   ]
  },
  {
   "cell_type": "code",
   "execution_count": 23,
   "metadata": {
    "_cell_guid": "0e9018b1-ced5-9999-8ce1-258a0952cbf2",
    "_uuid": "b9a78f6b4c72520d4ad99d2c89c84c591216098d",
    "collapsed": true
   },
   "outputs": [
    {
     "output_type": "execute_result",
     "data": {
      "text/plain": "          FareBand  Survived\n0   (-0.001, 7.91]  0.197309\n1   (7.91, 14.454]  0.303571\n2   (14.454, 31.0]  0.454955\n3  (31.0, 512.329]  0.581081",
      "text/html": "<div>\n<style scoped>\n    .dataframe tbody tr th:only-of-type {\n        vertical-align: middle;\n    }\n\n    .dataframe tbody tr th {\n        vertical-align: top;\n    }\n\n    .dataframe thead th {\n        text-align: right;\n    }\n</style>\n<table border=\"1\" class=\"dataframe\">\n  <thead>\n    <tr style=\"text-align: right;\">\n      <th></th>\n      <th>FareBand</th>\n      <th>Survived</th>\n    </tr>\n  </thead>\n  <tbody>\n    <tr>\n      <th>0</th>\n      <td>(-0.001, 7.91]</td>\n      <td>0.197309</td>\n    </tr>\n    <tr>\n      <th>1</th>\n      <td>(7.91, 14.454]</td>\n      <td>0.303571</td>\n    </tr>\n    <tr>\n      <th>2</th>\n      <td>(14.454, 31.0]</td>\n      <td>0.454955</td>\n    </tr>\n    <tr>\n      <th>3</th>\n      <td>(31.0, 512.329]</td>\n      <td>0.581081</td>\n    </tr>\n  </tbody>\n</table>\n</div>"
     },
     "metadata": {},
     "execution_count": 23
    }
   ],
   "source": [
    "train_df['FareBand'] = pd.qcut(train_df['Fare'], 4)\n",
    "train_df[['FareBand', 'Survived']].groupby(['FareBand'], as_index=False).mean().sort_values(by='FareBand', ascending=True)"
   ]
  },
  {
   "cell_type": "markdown",
   "metadata": {
    "_cell_guid": "d65901a5-3684-6869-e904-5f1a7cce8a6d",
    "_uuid": "89400fba71af02d09ff07adf399fb36ac4913db6"
   },
   "source": [
    "Convert the Fare feature to ordinal values based on the FareBand."
   ]
  },
  {
   "cell_type": "code",
   "execution_count": 24,
   "metadata": {
    "_cell_guid": "385f217a-4e00-76dc-1570-1de4eec0c29c",
    "_uuid": "640f305061ec4221a45ba250f8d54bb391035a57",
    "collapsed": true
   },
   "outputs": [
    {
     "output_type": "execute_result",
     "data": {
      "text/plain": "   Survived  Pclass  Sex  Age  Fare  Embarked  Title  IsAlone  Age*Class\n0         0       3    0    1     0         0      1        0          3\n1         1       1    1    2     3         1      3        0          2\n2         1       3    1    1     1         0      2        1          3\n3         1       1    1    2     3         0      3        0          2\n4         0       3    0    2     1         0      1        1          6\n5         0       3    0    1     1         2      1        1          3\n6         0       1    0    3     3         0      1        1          3\n7         0       3    0    0     2         0      4        0          0\n8         1       3    1    1     1         0      3        0          3\n9         1       2    1    0     2         1      3        0          0",
      "text/html": "<div>\n<style scoped>\n    .dataframe tbody tr th:only-of-type {\n        vertical-align: middle;\n    }\n\n    .dataframe tbody tr th {\n        vertical-align: top;\n    }\n\n    .dataframe thead th {\n        text-align: right;\n    }\n</style>\n<table border=\"1\" class=\"dataframe\">\n  <thead>\n    <tr style=\"text-align: right;\">\n      <th></th>\n      <th>Survived</th>\n      <th>Pclass</th>\n      <th>Sex</th>\n      <th>Age</th>\n      <th>Fare</th>\n      <th>Embarked</th>\n      <th>Title</th>\n      <th>IsAlone</th>\n      <th>Age*Class</th>\n    </tr>\n  </thead>\n  <tbody>\n    <tr>\n      <th>0</th>\n      <td>0</td>\n      <td>3</td>\n      <td>0</td>\n      <td>1</td>\n      <td>0</td>\n      <td>0</td>\n      <td>1</td>\n      <td>0</td>\n      <td>3</td>\n    </tr>\n    <tr>\n      <th>1</th>\n      <td>1</td>\n      <td>1</td>\n      <td>1</td>\n      <td>2</td>\n      <td>3</td>\n      <td>1</td>\n      <td>3</td>\n      <td>0</td>\n      <td>2</td>\n    </tr>\n    <tr>\n      <th>2</th>\n      <td>1</td>\n      <td>3</td>\n      <td>1</td>\n      <td>1</td>\n      <td>1</td>\n      <td>0</td>\n      <td>2</td>\n      <td>1</td>\n      <td>3</td>\n    </tr>\n    <tr>\n      <th>3</th>\n      <td>1</td>\n      <td>1</td>\n      <td>1</td>\n      <td>2</td>\n      <td>3</td>\n      <td>0</td>\n      <td>3</td>\n      <td>0</td>\n      <td>2</td>\n    </tr>\n    <tr>\n      <th>4</th>\n      <td>0</td>\n      <td>3</td>\n      <td>0</td>\n      <td>2</td>\n      <td>1</td>\n      <td>0</td>\n      <td>1</td>\n      <td>1</td>\n      <td>6</td>\n    </tr>\n    <tr>\n      <th>5</th>\n      <td>0</td>\n      <td>3</td>\n      <td>0</td>\n      <td>1</td>\n      <td>1</td>\n      <td>2</td>\n      <td>1</td>\n      <td>1</td>\n      <td>3</td>\n    </tr>\n    <tr>\n      <th>6</th>\n      <td>0</td>\n      <td>1</td>\n      <td>0</td>\n      <td>3</td>\n      <td>3</td>\n      <td>0</td>\n      <td>1</td>\n      <td>1</td>\n      <td>3</td>\n    </tr>\n    <tr>\n      <th>7</th>\n      <td>0</td>\n      <td>3</td>\n      <td>0</td>\n      <td>0</td>\n      <td>2</td>\n      <td>0</td>\n      <td>4</td>\n      <td>0</td>\n      <td>0</td>\n    </tr>\n    <tr>\n      <th>8</th>\n      <td>1</td>\n      <td>3</td>\n      <td>1</td>\n      <td>1</td>\n      <td>1</td>\n      <td>0</td>\n      <td>3</td>\n      <td>0</td>\n      <td>3</td>\n    </tr>\n    <tr>\n      <th>9</th>\n      <td>1</td>\n      <td>2</td>\n      <td>1</td>\n      <td>0</td>\n      <td>2</td>\n      <td>1</td>\n      <td>3</td>\n      <td>0</td>\n      <td>0</td>\n    </tr>\n  </tbody>\n</table>\n</div>"
     },
     "metadata": {},
     "execution_count": 24
    }
   ],
   "source": [
    "for dataset in combine:\n",
    "    dataset.loc[ dataset['Fare'] <= 7.91, 'Fare'] = 0\n",
    "    dataset.loc[(dataset['Fare'] > 7.91) & (dataset['Fare'] <= 14.454), 'Fare'] = 1\n",
    "    dataset.loc[(dataset['Fare'] > 14.454) & (dataset['Fare'] <= 31), 'Fare']   = 2\n",
    "    dataset.loc[ dataset['Fare'] > 31, 'Fare'] = 3\n",
    "    dataset['Fare'] = dataset['Fare'].astype(int)\n",
    "\n",
    "train_df = train_df.drop(['FareBand'], axis=1)\n",
    "combine = [train_df, test_df]\n",
    "    \n",
    "train_df.head(10)"
   ]
  },
  {
   "cell_type": "markdown",
   "metadata": {
    "_cell_guid": "27272bb9-3c64-4f9a-4a3b-54f02e1c8289",
    "_uuid": "531994ed95a3002d1759ceb74d9396db706a41e2"
   },
   "source": [
    "And the test dataset."
   ]
  },
  {
   "cell_type": "code",
   "execution_count": 507,
   "metadata": {
    "_cell_guid": "d2334d33-4fe5-964d-beac-6aa620066e15",
    "_uuid": "8453cecad81fcc44de3f4e4e4c3ce6afa977740d",
    "collapsed": true
   },
   "outputs": [],
   "source": [
    "test_df.drop(\"PassengerId\", axis=1, inplace=True)"
   ]
  },
  {
   "cell_type": "code",
   "execution_count": 512,
   "metadata": {},
   "outputs": [
    {
     "output_type": "execute_result",
     "data": {
      "text/plain": "     Pclass  Sex  Age  Fare  Embarked  Title  IsAlone  Age*Class\n0         3    0    2     0         2      1        1          6\n1         3    1    2     0         0      3        0          6\n2         2    0    3     1         2      1        1          6\n3         3    0    1     1         0      1        1          3\n4         3    1    1     1         0      3        0          3\n..      ...  ...  ...   ...       ...    ...      ...        ...\n413       3    0    1     1         0      1        1          3\n414       1    1    2     3         1      5        1          2\n415       3    0    2     0         0      1        1          6\n416       3    0    1     1         0      1        1          3\n417       3    0    1     2         1      4        0          3\n\n[418 rows x 8 columns]",
      "text/html": "<div>\n<style scoped>\n    .dataframe tbody tr th:only-of-type {\n        vertical-align: middle;\n    }\n\n    .dataframe tbody tr th {\n        vertical-align: top;\n    }\n\n    .dataframe thead th {\n        text-align: right;\n    }\n</style>\n<table border=\"1\" class=\"dataframe\">\n  <thead>\n    <tr style=\"text-align: right;\">\n      <th></th>\n      <th>Pclass</th>\n      <th>Sex</th>\n      <th>Age</th>\n      <th>Fare</th>\n      <th>Embarked</th>\n      <th>Title</th>\n      <th>IsAlone</th>\n      <th>Age*Class</th>\n    </tr>\n  </thead>\n  <tbody>\n    <tr>\n      <th>0</th>\n      <td>3</td>\n      <td>0</td>\n      <td>2</td>\n      <td>0</td>\n      <td>2</td>\n      <td>1</td>\n      <td>1</td>\n      <td>6</td>\n    </tr>\n    <tr>\n      <th>1</th>\n      <td>3</td>\n      <td>1</td>\n      <td>2</td>\n      <td>0</td>\n      <td>0</td>\n      <td>3</td>\n      <td>0</td>\n      <td>6</td>\n    </tr>\n    <tr>\n      <th>2</th>\n      <td>2</td>\n      <td>0</td>\n      <td>3</td>\n      <td>1</td>\n      <td>2</td>\n      <td>1</td>\n      <td>1</td>\n      <td>6</td>\n    </tr>\n    <tr>\n      <th>3</th>\n      <td>3</td>\n      <td>0</td>\n      <td>1</td>\n      <td>1</td>\n      <td>0</td>\n      <td>1</td>\n      <td>1</td>\n      <td>3</td>\n    </tr>\n    <tr>\n      <th>4</th>\n      <td>3</td>\n      <td>1</td>\n      <td>1</td>\n      <td>1</td>\n      <td>0</td>\n      <td>3</td>\n      <td>0</td>\n      <td>3</td>\n    </tr>\n    <tr>\n      <th>...</th>\n      <td>...</td>\n      <td>...</td>\n      <td>...</td>\n      <td>...</td>\n      <td>...</td>\n      <td>...</td>\n      <td>...</td>\n      <td>...</td>\n    </tr>\n    <tr>\n      <th>413</th>\n      <td>3</td>\n      <td>0</td>\n      <td>1</td>\n      <td>1</td>\n      <td>0</td>\n      <td>1</td>\n      <td>1</td>\n      <td>3</td>\n    </tr>\n    <tr>\n      <th>414</th>\n      <td>1</td>\n      <td>1</td>\n      <td>2</td>\n      <td>3</td>\n      <td>1</td>\n      <td>5</td>\n      <td>1</td>\n      <td>2</td>\n    </tr>\n    <tr>\n      <th>415</th>\n      <td>3</td>\n      <td>0</td>\n      <td>2</td>\n      <td>0</td>\n      <td>0</td>\n      <td>1</td>\n      <td>1</td>\n      <td>6</td>\n    </tr>\n    <tr>\n      <th>416</th>\n      <td>3</td>\n      <td>0</td>\n      <td>1</td>\n      <td>1</td>\n      <td>0</td>\n      <td>1</td>\n      <td>1</td>\n      <td>3</td>\n    </tr>\n    <tr>\n      <th>417</th>\n      <td>3</td>\n      <td>0</td>\n      <td>1</td>\n      <td>2</td>\n      <td>1</td>\n      <td>4</td>\n      <td>0</td>\n      <td>3</td>\n    </tr>\n  </tbody>\n</table>\n<p>418 rows × 8 columns</p>\n</div>"
     },
     "metadata": {},
     "execution_count": 512
    }
   ],
   "source": [
    "test_df"
   ]
  },
  {
   "cell_type": "code",
   "execution_count": 29,
   "metadata": {},
   "outputs": [],
   "source": [
    "train_df.drop(\"mean_fare\", axis=1, inplace=True)"
   ]
  },
  {
   "cell_type": "markdown",
   "metadata": {
    "_cell_guid": "69783c08-c8cc-a6ca-2a9a-5e75581c6d31",
    "_uuid": "a55f20dd6654610ff2d66c1bf3e4c6c73dcef9e5"
   },
   "source": [
    "## Model, predict and solve\n",
    "\n",
    "Now we are ready to train a model and predict the required solution. There are 60+ predictive modelling algorithms to choose from. We must understand the type of problem and solution requirement to narrow down to a select few models which we can evaluate. Our problem is a classification and regression problem. We want to identify relationship between output (Survived or not) with other variables or features (Gender, Age, Port...). We are also perfoming a category of machine learning which is called supervised learning as we are training our model with a given dataset. With these two criteria - Supervised Learning plus Classification and Regression, we can narrow down our choice of models to a few. These include:\n",
    "\n",
    "- Logistic Regression\n",
    "- KNN or k-Nearest Neighbors\n",
    "- Support Vector Machines\n",
    "- Naive Bayes classifier\n",
    "- Decision Tree\n",
    "- Random Forrest\n",
    "- Perceptron\n",
    "- Artificial neural network\n",
    "- RVM or Relevance Vector Machine"
   ]
  },
  {
   "source": [
    "hich features are categorical?\n",
    "\n",
    "These values classify the samples into sets of similar samples. Within categorical features are the values nominal, ordinal, ratio, or interval based? Among other things this helps us select the appropriate plots for visualization.\n",
    "\n",
    "Categorical: Survived, Sex, and Embarked. Ordinal: Pclass.\n",
    "Which features are numerical?\n",
    "\n",
    "Which features are numerical? These values change from sample to sample. Within numerical features are the values discrete, continuous, or timeseries based? Among other things this helps us select the appropriate plots for visualization.\n",
    "\n",
    "Continous: Age, Fare. Discrete: SibSp, Parch."
   ],
   "cell_type": "markdown",
   "metadata": {}
  },
  {
   "source": [
    "------------------------"
   ],
   "cell_type": "markdown",
   "metadata": {}
  },
  {
   "source": [
    "## Starting exercises 1 - 4\n",
    "\n",
    "See result in titanic_answers.ipynb\n",
    "\n",
    "Code below was used when necessary for the exercise."
   ],
   "cell_type": "markdown",
   "metadata": {}
  },
  {
   "cell_type": "code",
   "execution_count": 68,
   "metadata": {},
   "outputs": [],
   "source": [
    "# creating column with mean value of fare column\n",
    "train_df[\"mean_fare\"] = train_df.Fare.mean()\n",
    "test_df[\"mean_fare\"] = test_df.Fare.mean()\n"
   ]
  },
  {
   "cell_type": "code",
   "execution_count": 69,
   "metadata": {},
   "outputs": [],
   "source": [
    "# creating column with median value of fare column\n",
    "train_df[\"median_fare\"] = train_df.Fare.median()\n",
    "test_df[\"median_fare\"] = test_df.Fare.median()"
   ]
  },
  {
   "cell_type": "code",
   "execution_count": 70,
   "metadata": {},
   "outputs": [],
   "source": [
    "# creating column with variance of fare column\n",
    "train_df[\"variance_fare\"] = train_df.var()['Fare'] \n",
    "test_df[\"variance_fare\"] = test_df.var()['Fare'] "
   ]
  },
  {
   "cell_type": "code",
   "execution_count": 430,
   "metadata": {},
   "outputs": [],
   "source": [
    "# tried to make column of covariance, but gives nan values --> to ask\n",
    "#train_df[\"covariance_fare\"] = train_df.cov()['Fare'] \n",
    "#test_df[\"covariance_fare\"] = test_df.cov()['Fare'] "
   ]
  },
  {
   "cell_type": "code",
   "execution_count": 346,
   "metadata": {},
   "outputs": [
    {
     "output_type": "execute_result",
     "data": {
      "text/plain": "     Survived  Pclass  Sex  Age      Fare  Embarked  Title  IsAlone  Age*Class\n0           0       3    0    1  0.014151         0      1        0          3\n1           1       1    1    2  0.139136         1      3        0          2\n2           1       3    1    1  0.015469         0      2        1          3\n3           1       1    1    2  0.103644         0      3        0          2\n4           0       3    0    2  0.015713         0      1        1          6\n..        ...     ...  ...  ...       ...       ...    ...      ...        ...\n886         0       2    0    1  0.025374         0      5        1          2\n887         1       1    1    1  0.058556         0      2        1          1\n888         0       3    1    1  0.045771         0      2        0          3\n889         1       1    0    1  0.058556         1      1        1          1\n890         0       3    0    1  0.015127         2      1        1          3\n\n[891 rows x 9 columns]",
      "text/html": "<div>\n<style scoped>\n    .dataframe tbody tr th:only-of-type {\n        vertical-align: middle;\n    }\n\n    .dataframe tbody tr th {\n        vertical-align: top;\n    }\n\n    .dataframe thead th {\n        text-align: right;\n    }\n</style>\n<table border=\"1\" class=\"dataframe\">\n  <thead>\n    <tr style=\"text-align: right;\">\n      <th></th>\n      <th>Survived</th>\n      <th>Pclass</th>\n      <th>Sex</th>\n      <th>Age</th>\n      <th>Fare</th>\n      <th>Embarked</th>\n      <th>Title</th>\n      <th>IsAlone</th>\n      <th>Age*Class</th>\n    </tr>\n  </thead>\n  <tbody>\n    <tr>\n      <th>0</th>\n      <td>0</td>\n      <td>3</td>\n      <td>0</td>\n      <td>1</td>\n      <td>0.014151</td>\n      <td>0</td>\n      <td>1</td>\n      <td>0</td>\n      <td>3</td>\n    </tr>\n    <tr>\n      <th>1</th>\n      <td>1</td>\n      <td>1</td>\n      <td>1</td>\n      <td>2</td>\n      <td>0.139136</td>\n      <td>1</td>\n      <td>3</td>\n      <td>0</td>\n      <td>2</td>\n    </tr>\n    <tr>\n      <th>2</th>\n      <td>1</td>\n      <td>3</td>\n      <td>1</td>\n      <td>1</td>\n      <td>0.015469</td>\n      <td>0</td>\n      <td>2</td>\n      <td>1</td>\n      <td>3</td>\n    </tr>\n    <tr>\n      <th>3</th>\n      <td>1</td>\n      <td>1</td>\n      <td>1</td>\n      <td>2</td>\n      <td>0.103644</td>\n      <td>0</td>\n      <td>3</td>\n      <td>0</td>\n      <td>2</td>\n    </tr>\n    <tr>\n      <th>4</th>\n      <td>0</td>\n      <td>3</td>\n      <td>0</td>\n      <td>2</td>\n      <td>0.015713</td>\n      <td>0</td>\n      <td>1</td>\n      <td>1</td>\n      <td>6</td>\n    </tr>\n    <tr>\n      <th>...</th>\n      <td>...</td>\n      <td>...</td>\n      <td>...</td>\n      <td>...</td>\n      <td>...</td>\n      <td>...</td>\n      <td>...</td>\n      <td>...</td>\n      <td>...</td>\n    </tr>\n    <tr>\n      <th>886</th>\n      <td>0</td>\n      <td>2</td>\n      <td>0</td>\n      <td>1</td>\n      <td>0.025374</td>\n      <td>0</td>\n      <td>5</td>\n      <td>1</td>\n      <td>2</td>\n    </tr>\n    <tr>\n      <th>887</th>\n      <td>1</td>\n      <td>1</td>\n      <td>1</td>\n      <td>1</td>\n      <td>0.058556</td>\n      <td>0</td>\n      <td>2</td>\n      <td>1</td>\n      <td>1</td>\n    </tr>\n    <tr>\n      <th>888</th>\n      <td>0</td>\n      <td>3</td>\n      <td>1</td>\n      <td>1</td>\n      <td>0.045771</td>\n      <td>0</td>\n      <td>2</td>\n      <td>0</td>\n      <td>3</td>\n    </tr>\n    <tr>\n      <th>889</th>\n      <td>1</td>\n      <td>1</td>\n      <td>0</td>\n      <td>1</td>\n      <td>0.058556</td>\n      <td>1</td>\n      <td>1</td>\n      <td>1</td>\n      <td>1</td>\n    </tr>\n    <tr>\n      <th>890</th>\n      <td>0</td>\n      <td>3</td>\n      <td>0</td>\n      <td>1</td>\n      <td>0.015127</td>\n      <td>2</td>\n      <td>1</td>\n      <td>1</td>\n      <td>3</td>\n    </tr>\n  </tbody>\n</table>\n<p>891 rows × 9 columns</p>\n</div>"
     },
     "metadata": {},
     "execution_count": 346
    }
   ],
   "source": [
    "#Calling function in cleaning_function.py to normalize the fare column\n",
    "normalize_dataframe(df=test_df, column=\"Fare\")"
   ]
  },
  {
   "cell_type": "code",
   "execution_count": 71,
   "metadata": {},
   "outputs": [],
   "source": [
    "#defining X, y\n",
    "X = train_df.drop(\"Survived\", axis=1).values\n",
    "y = train_df[\"Survived\"].values\n"
   ]
  },
  {
   "cell_type": "code",
   "execution_count": 26,
   "metadata": {
    "tags": []
   },
   "outputs": [],
   "source": [
    "import sys\n",
    "sys.path.append(\"../../../../../\")\n",
    "\n",
    "from Utils.cleaning_function import pca_df\n",
    "from Utils.cleaning_function import normalize_dataframe\n",
    "from Utils.gridsearch_model import grid\n",
    "from sklearn.model_selection import GridSearchCV"
   ]
  },
  {
   "cell_type": "code",
   "execution_count": 96,
   "metadata": {},
   "outputs": [
    {
     "output_type": "execute_result",
     "data": {
      "text/plain": "(891, 2)"
     },
     "metadata": {},
     "execution_count": 96
    }
   ],
   "source": [
    "X = pca_df(X, n=2)\n",
    "X.shape"
   ]
  },
  {
   "cell_type": "code",
   "execution_count": 72,
   "metadata": {},
   "outputs": [
    {
     "output_type": "execute_result",
     "data": {
      "text/plain": "(891, 11)"
     },
     "metadata": {},
     "execution_count": 72
    }
   ],
   "source": [
    "X.shape"
   ]
  },
  {
   "cell_type": "code",
   "execution_count": 73,
   "metadata": {},
   "outputs": [],
   "source": [
    "#dividing train and test set.\n",
    "from sklearn.model_selection import train_test_split \n",
    "X_train, X_test, y_train, y_test = train_test_split(X, y, test_size=0.20, random_state=10)"
   ]
  },
  {
   "cell_type": "code",
   "execution_count": 624,
   "metadata": {},
   "outputs": [
    {
     "output_type": "execute_result",
     "data": {
      "text/plain": "(712, 1)"
     },
     "metadata": {},
     "execution_count": 624
    }
   ],
   "source": [
    "X_train.shape"
   ]
  },
  {
   "cell_type": "code",
   "execution_count": 74,
   "metadata": {},
   "outputs": [
    {
     "output_type": "execute_result",
     "data": {
      "text/plain": "[]"
     },
     "metadata": {},
     "execution_count": 74
    }
   ],
   "source": [
    "#creating empty list to append the scores of the model. This will be used in the answer file to create the dataframes comparing the scores. \n",
    "scores = []\n",
    "scores"
   ]
  },
  {
   "cell_type": "markdown",
   "metadata": {
    "_cell_guid": "579bc004-926a-bcfe-e9bb-c8df83356876",
    "_uuid": "782903c09ec9ee4b6f3e03f7c8b5a62c00461deb"
   },
   "source": [
    "Logistic Regression is a useful model to run early in the workflow. Logistic regression measures the relationship between the categorical dependent variable (feature) and one or more independent variables (features) by estimating probabilities using a logistic function, which is the cumulative logistic distribution. Reference [Wikipedia](https://en.wikipedia.org/wiki/Logistic_regression).\n",
    "\n",
    "Note the confidence score generated by the model based on our training dataset."
   ]
  },
  {
   "cell_type": "code",
   "execution_count": 76,
   "metadata": {
    "tags": []
   },
   "outputs": [
    {
     "output_type": "execute_result",
     "data": {
      "text/plain": "LogisticRegression(solver='newton-cg')"
     },
     "metadata": {},
     "execution_count": 76
    }
   ],
   "source": [
    "#using gridsearch to find best parameters\n",
    "from sklearn.model_selection import GridSearchCV\n",
    "\n",
    "new_model = LogisticRegression()\n",
    "\n",
    "param_grid = [\n",
    "{'penalty' : ['l1', 'l2', 'elasticnet', 'none'],\n",
    "    'C' : np.logspace(0, 4, 10),\n",
    "    'solver' : ['newton-cg', 'lbfgs', 'liblinear', 'sag', 'saga'],\n",
    "}\n",
    "]\n",
    "\n",
    "clf = GridSearchCV(new_model, param_grid=param_grid, cv=3, n_jobs=-1)\n",
    "best_clf = clf.fit(X, y)\n",
    "best_clf.best_estimator_"
   ]
  },
  {
   "cell_type": "code",
   "execution_count": 77,
   "metadata": {
    "_cell_guid": "0edd9322-db0b-9c37-172d-a3a4f8dec229",
    "_uuid": "a649b9c53f4c7b40694f60f5c8dc14ec5ef519ec",
    "collapsed": true
   },
   "outputs": [
    {
     "output_type": "execute_result",
     "data": {
      "text/plain": "82.12"
     },
     "metadata": {},
     "execution_count": 77
    }
   ],
   "source": [
    "# Logistic Regression\n",
    "\n",
    "logreg = LogisticRegression(solver='newton-cg')\n",
    "logreg.fit(X_train, y_train)\n",
    "Y_pred = logreg.predict(X_test)\n",
    "acc_log = round(logreg.score(X_test, y_test) * 100, 2)\n",
    "scores.append(acc_log)\n",
    "acc_log"
   ]
  },
  {
   "cell_type": "markdown",
   "metadata": {
    "_cell_guid": "3af439ae-1f04-9236-cdc2-ec8170a0d4ee",
    "_uuid": "180e27c96c821656a84889f73986c6ddfff51ed3"
   },
   "source": [
    "We can use Logistic Regression to validate our assumptions and decisions for feature creating and completing goals. This can be done by calculating the coefficient of the features in the decision function.\n",
    "\n",
    "Positive coefficients increase the log-odds of the response (and thus increase the probability), and negative coefficients decrease the log-odds of the response (and thus decrease the probability).\n",
    "\n",
    "- Sex is highest positivie coefficient, implying as the Sex value increases (male: 0 to female: 1), the probability of Survived=1 increases the most.\n",
    "- Inversely as Pclass increases, probability of Survived=1 decreases the most.\n",
    "- This way Age*Class is a good artificial feature to model as it has second highest negative correlation with Survived.\n",
    "- So is Title as second highest positive correlation."
   ]
  },
  {
   "cell_type": "code",
   "execution_count": 474,
   "metadata": {
    "_cell_guid": "e545d5aa-4767-7a41-5799-a4c5e529ce72",
    "_uuid": "6e6f58053fae405fc93d312fc999f3904e708dbe",
    "collapsed": true
   },
   "outputs": [
    {
     "output_type": "execute_result",
     "data": {
      "text/plain": "          Feature   Correlation\n1             Sex  2.102385e+00\n4        Embarked  4.020509e-01\n5           Title  3.507510e-01\n6         IsAlone  2.985911e-01\n2             Age  2.688737e-01\n3            Fare  2.496329e-04\n9     median_fare -4.568435e-07\n8       mean_fare -1.017856e-06\n10  variance_fare -7.804967e-05\n7       Age*Class -2.906624e-01\n0          Pclass -7.186113e-01",
      "text/html": "<div>\n<style scoped>\n    .dataframe tbody tr th:only-of-type {\n        vertical-align: middle;\n    }\n\n    .dataframe tbody tr th {\n        vertical-align: top;\n    }\n\n    .dataframe thead th {\n        text-align: right;\n    }\n</style>\n<table border=\"1\" class=\"dataframe\">\n  <thead>\n    <tr style=\"text-align: right;\">\n      <th></th>\n      <th>Feature</th>\n      <th>Correlation</th>\n    </tr>\n  </thead>\n  <tbody>\n    <tr>\n      <th>1</th>\n      <td>Sex</td>\n      <td>2.102385e+00</td>\n    </tr>\n    <tr>\n      <th>4</th>\n      <td>Embarked</td>\n      <td>4.020509e-01</td>\n    </tr>\n    <tr>\n      <th>5</th>\n      <td>Title</td>\n      <td>3.507510e-01</td>\n    </tr>\n    <tr>\n      <th>6</th>\n      <td>IsAlone</td>\n      <td>2.985911e-01</td>\n    </tr>\n    <tr>\n      <th>2</th>\n      <td>Age</td>\n      <td>2.688737e-01</td>\n    </tr>\n    <tr>\n      <th>3</th>\n      <td>Fare</td>\n      <td>2.496329e-04</td>\n    </tr>\n    <tr>\n      <th>9</th>\n      <td>median_fare</td>\n      <td>-4.568435e-07</td>\n    </tr>\n    <tr>\n      <th>8</th>\n      <td>mean_fare</td>\n      <td>-1.017856e-06</td>\n    </tr>\n    <tr>\n      <th>10</th>\n      <td>variance_fare</td>\n      <td>-7.804967e-05</td>\n    </tr>\n    <tr>\n      <th>7</th>\n      <td>Age*Class</td>\n      <td>-2.906624e-01</td>\n    </tr>\n    <tr>\n      <th>0</th>\n      <td>Pclass</td>\n      <td>-7.186113e-01</td>\n    </tr>\n  </tbody>\n</table>\n</div>"
     },
     "metadata": {},
     "execution_count": 474
    }
   ],
   "source": [
    "coeff_df = pd.DataFrame(train_df.columns.delete(0))\n",
    "coeff_df.columns = ['Feature']\n",
    "coeff_df[\"Correlation\"] = pd.Series(logreg.coef_[0])\n",
    "\n",
    "coeff_df.sort_values(by='Correlation', ascending=False)"
   ]
  },
  {
   "cell_type": "markdown",
   "metadata": {
    "_cell_guid": "ac041064-1693-8584-156b-66674117e4d0",
    "_uuid": "ccba9ac0a9c3c648ef9bc778977ab99066ab3945"
   },
   "source": [
    "Next we model using Support Vector Machines which are supervised learning models with associated learning algorithms that analyze data used for classification and regression analysis. Given a set of training samples, each marked as belonging to one or the other of **two categories**, an SVM training algorithm builds a model that assigns new test samples to one category or the other, making it a non-probabilistic binary linear classifier. Reference [Wikipedia](https://en.wikipedia.org/wiki/Support_vector_machine).\n",
    "\n",
    "Note that the model generates a confidence score which is higher than Logistics Regression model."
   ]
  },
  {
   "cell_type": "code",
   "execution_count": 93,
   "metadata": {
    "tags": []
   },
   "outputs": [
    {
     "output_type": "stream",
     "name": "stdout",
     "text": "Fitting 3 folds for each of 12 candidates, totalling 36 fits\n[Parallel(n_jobs=-1)]: Using backend LokyBackend with 8 concurrent workers.\n[Parallel(n_jobs=-1)]: Done  21 out of  36 | elapsed:    0.5s remaining:    0.4s\n[Parallel(n_jobs=-1)]: Done  36 out of  36 | elapsed:    2.7s finished\n"
    },
    {
     "output_type": "execute_result",
     "data": {
      "text/plain": "SVC(C=1, kernel='linear', probability=True)"
     },
     "metadata": {},
     "execution_count": 93
    }
   ],
   "source": [
    "#using gridsearch to find best parameters\n",
    "new_model = SVC()\n",
    "\n",
    "param_grid = [\n",
    "{\n",
    "    'kernel' : ['linear', 'poly'],\n",
    "    'C' : [-1, 1, 3],\n",
    "    'probability': [True, False]}\n",
    "]\n",
    "\n",
    "clf = GridSearchCV(new_model, param_grid=param_grid, cv=3, n_jobs=-1, verbose=True)\n",
    "best_clf = clf.fit(X, y)\n",
    "best_clf.best_estimator_"
   ]
  },
  {
   "cell_type": "code",
   "execution_count": 94,
   "metadata": {},
   "outputs": [
    {
     "output_type": "execute_result",
     "data": {
      "text/plain": "81.56"
     },
     "metadata": {},
     "execution_count": 94
    }
   ],
   "source": [
    "# Support Vector Machines\n",
    "\n",
    "svc = SVC(C=1, kernel='linear', probability=True)\n",
    "svc.fit(X_train, y_train)\n",
    "Y_pred = svc.predict(X_test)\n",
    "acc_svc = round(svc.score(X_test, y_test) * 100, 2)\n",
    "scores.append(acc_svc)\n",
    "acc_svc"
   ]
  },
  {
   "cell_type": "markdown",
   "metadata": {
    "_cell_guid": "172a6286-d495-5ac4-1a9c-5b77b74ca6d2",
    "_uuid": "bb3ed027c45664148b61e3aa5e2ca8111aac8793"
   },
   "source": [
    "In pattern recognition, the k-Nearest Neighbors algorithm (or k-NN for short) is a non-parametric method used for classification and regression. A sample is classified by a majority vote of its neighbors, with the sample being assigned to the class most common among its k nearest neighbors (k is a positive integer, typically small). If k = 1, then the object is simply assigned to the class of that single nearest neighbor. Reference [Wikipedia](https://en.wikipedia.org/wiki/K-nearest_neighbors_algorithm).\n",
    "\n",
    "KNN confidence score is better than Logistics Regression but worse than SVM."
   ]
  },
  {
   "cell_type": "code",
   "execution_count": 79,
   "metadata": {},
   "outputs": [
    {
     "output_type": "execute_result",
     "data": {
      "text/plain": "KNeighborsClassifier(n_neighbors=11, weights='distance')"
     },
     "metadata": {},
     "execution_count": 79
    }
   ],
   "source": [
    "#using grid function from gridsearch_model.py to find best parameters\n",
    "grid(X, y, verbose=True)"
   ]
  },
  {
   "cell_type": "code",
   "execution_count": 80,
   "metadata": {
    "_cell_guid": "ca14ae53-f05e-eb73-201c-064d7c3ed610",
    "_uuid": "54d86cd45703d459d452f89572771deaa8877999",
    "collapsed": true
   },
   "outputs": [
    {
     "output_type": "execute_result",
     "data": {
      "text/plain": "77.09"
     },
     "metadata": {},
     "execution_count": 80
    }
   ],
   "source": [
    "knn = KNeighborsClassifier(n_neighbors=11, weights='distance')\n",
    "knn.fit(X_train, y_train)\n",
    "Y_pred = knn.predict(X_test)\n",
    "acc_knn = round(knn.score(X_test, y_test) * 100, 2)\n",
    "scores.append(acc_knn)\n",
    "acc_knn"
   ]
  },
  {
   "cell_type": "markdown",
   "metadata": {
    "_cell_guid": "810f723d-2313-8dfd-e3e2-26673b9caa90",
    "_uuid": "1535f18113f851e480cd53e0c612dc05835690f3"
   },
   "source": [
    "In machine learning, naive Bayes classifiers are a family of simple probabilistic classifiers based on applying Bayes' theorem with strong (naive) independence assumptions between the features. Naive Bayes classifiers are highly scalable, requiring a number of parameters linear in the number of variables (features) in a learning problem. Reference [Wikipedia](https://en.wikipedia.org/wiki/Naive_Bayes_classifier).\n",
    "\n",
    "The model generated confidence score is the lowest among the models evaluated so far."
   ]
  },
  {
   "cell_type": "code",
   "execution_count": 81,
   "metadata": {
    "_cell_guid": "50378071-7043-ed8d-a782-70c947520dae",
    "_uuid": "723c835c29e8727bc9bad4b564731f2ca98025d0",
    "collapsed": true
   },
   "outputs": [
    {
     "output_type": "execute_result",
     "data": {
      "text/plain": "82.68"
     },
     "metadata": {},
     "execution_count": 81
    }
   ],
   "source": [
    "# Gaussian Naive Bayes\n",
    "gaussian = GaussianNB()\n",
    "gaussian.fit(X_train, y_train)\n",
    "Y_pred = gaussian.predict(X_test)\n",
    "acc_gaussian = round(gaussian.score(X_test, y_test) * 100, 2)\n",
    "scores.append(acc_gaussian)\n",
    "acc_gaussian"
   ]
  },
  {
   "cell_type": "markdown",
   "metadata": {
    "_cell_guid": "1e286e19-b714-385a-fcfa-8cf5ec19956a",
    "_uuid": "df148bf93e11c9ec2c97162d5c0c0605b75d9334"
   },
   "source": [
    "The perceptron is an algorithm for supervised learning of binary classifiers (functions that can decide whether an input, represented by a vector of numbers, belongs to some specific class or not). It is a type of linear classifier, i.e. a classification algorithm that makes its predictions based on a linear predictor function combining a set of weights with the feature vector. The algorithm allows for online learning, in that it processes elements in the training set one at a time. Reference [Wikipedia](https://en.wikipedia.org/wiki/Perceptron)."
   ]
  },
  {
   "cell_type": "code",
   "execution_count": 82,
   "metadata": {},
   "outputs": [
    {
     "output_type": "execute_result",
     "data": {
      "text/plain": "Perceptron(shuffle=False)"
     },
     "metadata": {},
     "execution_count": 82
    }
   ],
   "source": [
    "#using gridsearch to find best parameters\n",
    "new_model = Perceptron()\n",
    "\n",
    "param_grid = [\n",
    "{'penalty' : [None, 'l2','l1','elasticnet'],\n",
    "'fit_intercept':[True, False],\n",
    "'shuffle': [True, False]}\n",
    "]\n",
    "\n",
    "clf = GridSearchCV(new_model, param_grid=param_grid, cv=3, n_jobs=-1)\n",
    "best_clf = clf.fit(X, y)\n",
    "best_clf.best_estimator_"
   ]
  },
  {
   "cell_type": "code",
   "execution_count": 83,
   "metadata": {
    "_cell_guid": "ccc22a86-b7cb-c2dd-74bd-53b218d6ed0d",
    "_uuid": "c19d08949f9c3a26931e28adedc848b4deaa8ab6",
    "collapsed": true
   },
   "outputs": [
    {
     "output_type": "execute_result",
     "data": {
      "text/plain": "65.92"
     },
     "metadata": {},
     "execution_count": 83
    }
   ],
   "source": [
    "# Perceptron\n",
    "\n",
    "perceptron = Perceptron(shuffle=False)\n",
    "perceptron.fit(X_train, y_train)\n",
    "Y_pred = perceptron.predict(X_test)\n",
    "acc_perceptron = round(perceptron.score(X_test, y_test) * 100, 2)\n",
    "scores.append(acc_perceptron)\n",
    "acc_perceptron"
   ]
  },
  {
   "cell_type": "code",
   "execution_count": 84,
   "metadata": {},
   "outputs": [
    {
     "output_type": "execute_result",
     "data": {
      "text/plain": "LinearSVC(C=1, loss='hinge')"
     },
     "metadata": {},
     "execution_count": 84
    }
   ],
   "source": [
    "#using gridsearch to find best parameters  \n",
    "new_model = LinearSVC()\n",
    "\n",
    "param_grid = [\n",
    "{'penalty' : ['l1', 'l2'],\n",
    "'loss':['hinge', 'squared_hinge'],\n",
    "'C': [1, 3, 5, 8]}\n",
    "]\n",
    "\n",
    "clf = GridSearchCV(new_model, param_grid=param_grid, cv=3, n_jobs=-1)\n",
    "best_clf = clf.fit(X, y)\n",
    "best_clf.best_estimator_"
   ]
  },
  {
   "cell_type": "code",
   "execution_count": 86,
   "metadata": {
    "_cell_guid": "a4d56857-9432-55bb-14c0-52ebeb64d198",
    "_uuid": "52ea4f44dd626448dd2199cb284b592670b1394b",
    "collapsed": true
   },
   "outputs": [
    {
     "output_type": "execute_result",
     "data": {
      "text/plain": "65.92"
     },
     "metadata": {},
     "execution_count": 86
    }
   ],
   "source": [
    "# Linear SVC\n",
    "\n",
    "linear_svc = LinearSVC(C=1, loss='hinge')\n",
    "\n",
    "linear_svc.fit(X_train, y_train)\n",
    "Y_pred = linear_svc.predict(X_test)\n",
    "acc_linear_svc = round(linear_svc.score(X_test, y_test) * 100, 2)\n",
    "scores.append(acc_linear_svc)\n",
    "acc_linear_svc"
   ]
  },
  {
   "cell_type": "code",
   "execution_count": 87,
   "metadata": {},
   "outputs": [
    {
     "output_type": "execute_result",
     "data": {
      "text/plain": "SGDClassifier(penalty='l1')"
     },
     "metadata": {},
     "execution_count": 87
    }
   ],
   "source": [
    "#using gridsearch to find best parameters\n",
    "\n",
    "new_model = SGDClassifier()\n",
    "\n",
    "param_grid = [\n",
    "{'penalty' : ['l2', 'l1', 'elasticnet'],\n",
    "'early_stopping':[True, False],\n",
    "    'loss': ['hinge', 'log', 'modified_huber']}\n",
    "]\n",
    "\n",
    "clf = GridSearchCV(new_model, param_grid=param_grid, cv=3, n_jobs=-1)\n",
    "best_clf = clf.fit(X, y)\n",
    "best_clf.best_estimator_"
   ]
  },
  {
   "cell_type": "code",
   "execution_count": 88,
   "metadata": {
    "_cell_guid": "dc98ed72-3aeb-861f-804d-b6e3d178bf4b",
    "_uuid": "3a016c1f24da59c85648204302d61ea15920e740",
    "collapsed": true
   },
   "outputs": [
    {
     "output_type": "execute_result",
     "data": {
      "text/plain": "81.01"
     },
     "metadata": {},
     "execution_count": 88
    }
   ],
   "source": [
    "# Stochastic Gradient Descent\n",
    "\n",
    "sgd = SGDClassifier(penalty='l1')\n",
    "sgd.fit(X_train, y_train)\n",
    "Y_pred = sgd.predict(X_test)\n",
    "acc_sgd = round(sgd.score(X_test, y_test) * 100, 2)\n",
    "scores.append(acc_sgd)\n",
    "acc_sgd"
   ]
  },
  {
   "cell_type": "markdown",
   "metadata": {
    "_cell_guid": "bae7f8d7-9da0-f4fd-bdb1-d97e719a18d7",
    "_uuid": "1c70e99920ae34adce03aaef38d61e2b83ff6a9c"
   },
   "source": [
    "This model uses a decision tree as a predictive model which maps features (tree branches) to conclusions about the target value (tree leaves). Tree models where the target variable can take a finite set of values are called classification trees; in these tree structures, leaves represent class labels and branches represent conjunctions of features that lead to those class labels. Decision trees where the target variable can take continuous values (typically real numbers) are called regression trees. Reference [Wikipedia](https://en.wikipedia.org/wiki/Decision_tree_learning).\n",
    "\n",
    "The model confidence score is the highest among models evaluated so far."
   ]
  },
  {
   "cell_type": "code",
   "execution_count": 89,
   "metadata": {},
   "outputs": [
    {
     "output_type": "execute_result",
     "data": {
      "text/plain": "DecisionTreeClassifier(min_samples_split=5, splitter='random')"
     },
     "metadata": {},
     "execution_count": 89
    }
   ],
   "source": [
    "#using gridsearch to find best parameters\n",
    "\n",
    "new_model = DecisionTreeClassifier()\n",
    "\n",
    "param_grid = [\n",
    "{'criterion' : ['gini', 'entropy'],\n",
    "    'splitter':['best', 'random'],\n",
    "    'min_samples_split': [1, 2, 5, 10]}\n",
    "]\n",
    "\n",
    "clf = GridSearchCV(new_model, param_grid=param_grid, cv=3, n_jobs=-1)\n",
    "best_clf = clf.fit(X, y)\n",
    "best_clf.best_estimator_\n",
    "        "
   ]
  },
  {
   "cell_type": "code",
   "execution_count": 90,
   "metadata": {
    "_cell_guid": "dd85f2b7-ace2-0306-b4ec-79c68cd3fea0",
    "_uuid": "1f94308b23b934123c03067e84027b507b989e52",
    "collapsed": true
   },
   "outputs": [
    {
     "output_type": "execute_result",
     "data": {
      "text/plain": "79.89"
     },
     "metadata": {},
     "execution_count": 90
    }
   ],
   "source": [
    "# Decision Tree\n",
    "\n",
    "decision_tree = DecisionTreeClassifier(min_samples_split=5, splitter='random')\n",
    "\n",
    "\n",
    "\n",
    "\n",
    "decision_tree.fit(X_train, y_train)\n",
    "Y_pred = decision_tree.predict(X_test)\n",
    "acc_decision_tree = round(decision_tree.score(X_test, y_test) * 100, 2)\n",
    "scores.append(acc_decision_tree)\n",
    "acc_decision_tree"
   ]
  },
  {
   "cell_type": "markdown",
   "metadata": {
    "_cell_guid": "85693668-0cd5-4319-7768-eddb62d2b7d0",
    "_uuid": "24f4e46f202a858076be91752170cad52aa9aefa"
   },
   "source": [
    "The next model Random Forests is one of the most popular. Random forests or random decision forests are an ensemble learning method for classification, regression and other tasks, that operate by constructing a multitude of decision trees (n_estimators=100) at training time and outputting the class that is the mode of the classes (classification) or mean prediction (regression) of the individual trees. Reference [Wikipedia](https://en.wikipedia.org/wiki/Random_forest).\n",
    "\n",
    "The model confidence score is the highest among models evaluated so far. We decide to use this model's output (Y_pred) for creating our competition submission of results."
   ]
  },
  {
   "cell_type": "code",
   "execution_count": 91,
   "metadata": {},
   "outputs": [
    {
     "output_type": "execute_result",
     "data": {
      "text/plain": "RandomForestClassifier(n_estimators=50, warm_start=True)"
     },
     "metadata": {},
     "execution_count": 91
    }
   ],
   "source": [
    "#using grid function to find best parameters\n",
    "grid(X, y)"
   ]
  },
  {
   "cell_type": "code",
   "execution_count": 92,
   "metadata": {
    "_cell_guid": "f0694a8e-b618-8ed9-6f0d-8c6fba2c4567",
    "_uuid": "483c647d2759a2703d20785a44f51b6dee47d0db",
    "collapsed": true
   },
   "outputs": [
    {
     "output_type": "execute_result",
     "data": {
      "text/plain": "83.8"
     },
     "metadata": {},
     "execution_count": 92
    }
   ],
   "source": [
    "# Random Forest\n",
    "\n",
    "random_forest = RandomForestClassifier(n_estimators=50, warm_start=True)\n",
    "random_forest.fit(X_train, y_train)\n",
    "Y_pred = random_forest.predict(X_test)\n",
    "random_forest.score(X_train, y_train)\n",
    "acc_random_forest = round(random_forest.score(X_test, y_test) * 100, 2)\n",
    "scores.append(acc_random_forest)\n",
    "acc_random_forest"
   ]
  },
  {
   "cell_type": "code",
   "execution_count": 95,
   "metadata": {},
   "outputs": [
    {
     "output_type": "execute_result",
     "data": {
      "text/plain": "[82.12, 77.09, 82.68, 65.92, 65.92, 81.01, 79.89, 83.8, 81.56]"
     },
     "metadata": {},
     "execution_count": 95
    }
   ],
   "source": [
    "# scores of the models using the instructions of each exercise. Values are displayed and analysed in the titanic_answers.ipynb file.\n",
    "scores"
   ]
  },
  {
   "source": [
    "------------"
   ],
   "cell_type": "markdown",
   "metadata": {}
  },
  {
   "source": [
    "#original model evaluation:"
   ],
   "cell_type": "markdown",
   "metadata": {}
  },
  {
   "cell_type": "markdown",
   "metadata": {
    "_cell_guid": "f6c9eef8-83dd-581c-2d8e-ce932fe3a44d",
    "_uuid": "2c1428d022430ea594af983a433757e11b47c50c"
   },
   "source": [
    "### Model evaluation\n",
    "\n",
    "We can now rank our evaluation of all the models to choose the best one for our problem. While both Decision Tree and Random Forest score the same, we choose to use Random Forest as they correct for decision trees' habit of overfitting to their training set. "
   ]
  },
  {
   "cell_type": "code",
   "execution_count": 51,
   "metadata": {
    "_cell_guid": "1f3cebe0-31af-70b2-1ce4-0fd406bcdfc6",
    "_uuid": "06a52babe50e0dd837b553c78fc73872168e1c7d",
    "collapsed": true
   },
   "outputs": [
    {
     "output_type": "execute_result",
     "data": {
      "text/plain": "                        Model  Score\n3               Random Forest  86.76\n8               Decision Tree  86.76\n1                         KNN  84.74\n2         Logistic Regression  80.36\n7                  Linear SVC  79.01\n5                  Perceptron  78.34\n0     Support Vector Machines  78.23\n6  Stochastic Gradient Decent  74.86\n4                 Naive Bayes  72.28",
      "text/html": "<div>\n<style scoped>\n    .dataframe tbody tr th:only-of-type {\n        vertical-align: middle;\n    }\n\n    .dataframe tbody tr th {\n        vertical-align: top;\n    }\n\n    .dataframe thead th {\n        text-align: right;\n    }\n</style>\n<table border=\"1\" class=\"dataframe\">\n  <thead>\n    <tr style=\"text-align: right;\">\n      <th></th>\n      <th>Model</th>\n      <th>Score</th>\n    </tr>\n  </thead>\n  <tbody>\n    <tr>\n      <th>3</th>\n      <td>Random Forest</td>\n      <td>86.76</td>\n    </tr>\n    <tr>\n      <th>8</th>\n      <td>Decision Tree</td>\n      <td>86.76</td>\n    </tr>\n    <tr>\n      <th>1</th>\n      <td>KNN</td>\n      <td>84.74</td>\n    </tr>\n    <tr>\n      <th>2</th>\n      <td>Logistic Regression</td>\n      <td>80.36</td>\n    </tr>\n    <tr>\n      <th>7</th>\n      <td>Linear SVC</td>\n      <td>79.01</td>\n    </tr>\n    <tr>\n      <th>5</th>\n      <td>Perceptron</td>\n      <td>78.34</td>\n    </tr>\n    <tr>\n      <th>0</th>\n      <td>Support Vector Machines</td>\n      <td>78.23</td>\n    </tr>\n    <tr>\n      <th>6</th>\n      <td>Stochastic Gradient Decent</td>\n      <td>74.86</td>\n    </tr>\n    <tr>\n      <th>4</th>\n      <td>Naive Bayes</td>\n      <td>72.28</td>\n    </tr>\n  </tbody>\n</table>\n</div>"
     },
     "metadata": {},
     "execution_count": 51
    }
   ],
   "source": [
    "models = pd.DataFrame({\n",
    "    'Model': ['Support Vector Machines', 'KNN', 'Logistic Regression', \n",
    "              'Random Forest', 'Naive Bayes', 'Perceptron', \n",
    "              'Stochastic Gradient Decent', 'Linear SVC', \n",
    "              'Decision Tree'],\n",
    "    'Score': [acc_svc, acc_knn, acc_log, \n",
    "              acc_random_forest, acc_gaussian, acc_perceptron, \n",
    "              acc_sgd, acc_linear_svc, acc_decision_tree]})\n",
    "models.sort_values(by='Score', ascending=False)"
   ]
  },
  {
   "cell_type": "code",
   "execution_count": 52,
   "metadata": {
    "_cell_guid": "28854d36-051f-3ef0-5535-fa5ba6a9bef7",
    "_uuid": "82b31ea933b3026bd038a8370d651efdcdb3e4d7",
    "collapsed": true
   },
   "outputs": [],
   "source": [
    "submission = pd.DataFrame({\n",
    "        \"PassengerId\": test_df[\"PassengerId\"],\n",
    "        \"Survived\": Y_pred\n",
    "    })\n",
    "# submission.to_csv('../output/submission.csv', index=False)"
   ]
  },
  {
   "cell_type": "markdown",
   "metadata": {
    "_cell_guid": "fcfc8d9f-e955-cf70-5843-1fb764c54699",
    "_uuid": "0523a03b329df58c33ed672e5fb6cd2c9af1cae3"
   },
   "source": [
    "Our submission to the competition site Kaggle results in scoring 3,883 of 6,082 competition entries. This result is indicative while the competition is running. This result only accounts for part of the submission dataset. Not bad for our first attempt. Any suggestions to improve our score are most welcome."
   ]
  },
  {
   "cell_type": "markdown",
   "metadata": {
    "_cell_guid": "aeec9210-f9d8-cd7c-c4cf-a87376d5f693",
    "_uuid": "cdae56d6adbfb15ff9c491c645ae46e2c91d75ce"
   },
   "source": [
    "## References\n",
    "\n",
    "This notebook has been created based on great work done solving the Titanic competition and other sources.\n",
    "\n",
    "- [A journey through Titanic](https://www.kaggle.com/omarelgabry/titanic/a-journey-through-titanic)\n",
    "- [Getting Started with Pandas: Kaggle's Titanic Competition](https://www.kaggle.com/c/titanic/details/getting-started-with-random-forests)\n",
    "- [Titanic Best Working Classifier](https://www.kaggle.com/sinakhorami/titanic/titanic-best-working-classifier)"
   ]
  }
 ],
 "metadata": {
  "_change_revision": 0,
  "_is_fork": false,
  "kernelspec": {
   "display_name": "Python 3.8.3 64-bit",
   "language": "python",
   "name": "python_defaultSpec_1600887750368"
  },
  "language_info": {
   "codemirror_mode": {
    "name": "ipython",
    "version": 3
   },
   "file_extension": ".py",
   "mimetype": "text/x-python",
   "name": "python",
   "nbconvert_exporter": "python",
   "pygments_lexer": "ipython3",
   "version": "3.8.3-final"
  }
 },
 "nbformat": 4,
 "nbformat_minor": 1
}