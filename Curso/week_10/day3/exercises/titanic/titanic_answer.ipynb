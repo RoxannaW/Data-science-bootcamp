{
 "metadata": {
  "language_info": {
   "codemirror_mode": {
    "name": "ipython",
    "version": 3
   },
   "file_extension": ".py",
   "mimetype": "text/x-python",
   "name": "python",
   "nbconvert_exporter": "python",
   "pygments_lexer": "ipython3",
   "version": 3
  },
  "orig_nbformat": 2
 },
 "nbformat": 4,
 "nbformat_minor": 2,
 "cells": [
  {
   "source": [
    "1. Realizar una reducción de dimensionalidad/PCA para intentar aumentar el porcentaje de acierto. ¿Aumenta? ¿Cómo cambia el acierto según diferentes valores de PCA? Prueba, como mínimo, con valores para \"n_components\" 2,4,5 y 0.45 y 0.95. ¿Ha habido algún problema con algún valor?"
   ],
   "cell_type": "markdown",
   "metadata": {}
  }
 ]
}