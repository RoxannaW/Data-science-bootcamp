{
 "metadata": {
  "language_info": {
   "codemirror_mode": {
    "name": "ipython",
    "version": 3
   },
   "file_extension": ".py",
   "mimetype": "text/x-python",
   "name": "python",
   "nbconvert_exporter": "python",
   "pygments_lexer": "ipython3",
   "version": "3.8.3-final"
  },
  "orig_nbformat": 2,
  "kernelspec": {
   "name": "Python 3.8.3 64-bit",
   "display_name": "Python 3.8.3 64-bit",
   "metadata": {
    "interpreter": {
     "hash": "1baa965d5efe3ac65b79dfc60c0d706280b1da80fedb7760faf2759126c4f253"
    }
   }
  }
 },
 "nbformat": 4,
 "nbformat_minor": 2,
 "cells": [
  {
   "cell_type": "code",
   "execution_count": 69,
   "metadata": {},
   "outputs": [],
   "source": [
    "from sklearn.preprocessing import MinMaxScaler\n",
    "from tensorflow.keras.preprocessing.sequence import TimeseriesGenerator # Generates batches for sequence data\n",
    "from tensorflow.keras.models import Sequential\n",
    "from tensorflow.keras.layers import Dense,SimpleRNN,LSTM\n",
    "from tensorflow.keras.callbacks import EarlyStopping\n",
    "\n",
    "import tensorflow as tf\n",
    "from tensorflow.keras import regularizers\n",
    "from tensorflow.keras import layers, losses\n",
    "\n",
    "from sklearn.preprocessing import MinMaxScaler\n",
    "\n",
    "import pandas as pd\n",
    "import numpy as np\n",
    "import matplotlib.pyplot as plt"
   ]
  },
  {
   "cell_type": "code",
   "execution_count": 59,
   "metadata": {},
   "outputs": [],
   "source": [
    "df = pd.read_csv(\"../data/US_Crime_Rates_1960_2014.csv\")"
   ]
  },
  {
   "source": [
    "----------------------"
   ],
   "cell_type": "markdown",
   "metadata": {}
  },
  {
   "source": [
    "## Preprocessing the Dataset"
   ],
   "cell_type": "markdown",
   "metadata": {}
  },
  {
   "cell_type": "code",
   "execution_count": 60,
   "metadata": {},
   "outputs": [],
   "source": [
    "df\n",
    "df['Year'] = pd.to_datetime(df.Year, format='%Y')\n",
    "df.set_index(\"Year\", inplace=True)"
   ]
  },
  {
   "cell_type": "code",
   "execution_count": 62,
   "metadata": {},
   "outputs": [
    {
     "output_type": "execute_result",
     "data": {
      "text/plain": "            Murder\nYear              \n1960-01-01    9110\n1961-01-01    8740\n1962-01-01    8530\n1963-01-01    8640\n1964-01-01    9360",
      "text/html": "<div>\n<style scoped>\n    .dataframe tbody tr th:only-of-type {\n        vertical-align: middle;\n    }\n\n    .dataframe tbody tr th {\n        vertical-align: top;\n    }\n\n    .dataframe thead th {\n        text-align: right;\n    }\n</style>\n<table border=\"1\" class=\"dataframe\">\n  <thead>\n    <tr style=\"text-align: right;\">\n      <th></th>\n      <th>Murder</th>\n    </tr>\n    <tr>\n      <th>Year</th>\n      <th></th>\n    </tr>\n  </thead>\n  <tbody>\n    <tr>\n      <th>1960-01-01</th>\n      <td>9110</td>\n    </tr>\n    <tr>\n      <th>1961-01-01</th>\n      <td>8740</td>\n    </tr>\n    <tr>\n      <th>1962-01-01</th>\n      <td>8530</td>\n    </tr>\n    <tr>\n      <th>1963-01-01</th>\n      <td>8640</td>\n    </tr>\n    <tr>\n      <th>1964-01-01</th>\n      <td>9360</td>\n    </tr>\n  </tbody>\n</table>\n</div>"
     },
     "metadata": {},
     "execution_count": 62
    }
   ],
   "source": [
    "df = df[[\"Murder\"]]\n",
    "df.head()"
   ]
  },
  {
   "cell_type": "code",
   "execution_count": 63,
   "metadata": {
    "tags": []
   },
   "outputs": [
    {
     "output_type": "stream",
     "name": "stdout",
     "text": "&lt;class &#39;pandas.core.frame.DataFrame&#39;&gt;\nDatetimeIndex: 55 entries, 1960-01-01 to 2014-01-01\nData columns (total 1 columns):\n #   Column  Non-Null Count  Dtype\n---  ------  --------------  -----\n 0   Murder  55 non-null     int64\ndtypes: int64(1)\nmemory usage: 880.0 bytes\n"
    }
   ],
   "source": [
    "df.info()"
   ]
  },
  {
   "cell_type": "code",
   "execution_count": 64,
   "metadata": {},
   "outputs": [
    {
     "output_type": "execute_result",
     "data": {
      "text/plain": "             Murder\ncount     55.000000\nmean   17317.236364\nstd     4267.442664\nmin     8530.000000\n25%    14819.000000\n50%    17030.000000\n75%    20561.500000\nmax    24700.000000",
      "text/html": "<div>\n<style scoped>\n    .dataframe tbody tr th:only-of-type {\n        vertical-align: middle;\n    }\n\n    .dataframe tbody tr th {\n        vertical-align: top;\n    }\n\n    .dataframe thead th {\n        text-align: right;\n    }\n</style>\n<table border=\"1\" class=\"dataframe\">\n  <thead>\n    <tr style=\"text-align: right;\">\n      <th></th>\n      <th>Murder</th>\n    </tr>\n  </thead>\n  <tbody>\n    <tr>\n      <th>count</th>\n      <td>55.000000</td>\n    </tr>\n    <tr>\n      <th>mean</th>\n      <td>17317.236364</td>\n    </tr>\n    <tr>\n      <th>std</th>\n      <td>4267.442664</td>\n    </tr>\n    <tr>\n      <th>min</th>\n      <td>8530.000000</td>\n    </tr>\n    <tr>\n      <th>25%</th>\n      <td>14819.000000</td>\n    </tr>\n    <tr>\n      <th>50%</th>\n      <td>17030.000000</td>\n    </tr>\n    <tr>\n      <th>75%</th>\n      <td>20561.500000</td>\n    </tr>\n    <tr>\n      <th>max</th>\n      <td>24700.000000</td>\n    </tr>\n  </tbody>\n</table>\n</div>"
     },
     "metadata": {},
     "execution_count": 64
    }
   ],
   "source": [
    "df.describe()"
   ]
  },
  {
   "cell_type": "code",
   "execution_count": 65,
   "metadata": {},
   "outputs": [
    {
     "output_type": "execute_result",
     "data": {
      "text/plain": "Murder    0\ndtype: int64"
     },
     "metadata": {},
     "execution_count": 65
    }
   ],
   "source": [
    "df.isnull().sum()"
   ]
  },
  {
   "cell_type": "code",
   "execution_count": 83,
   "metadata": {},
   "outputs": [],
   "source": [
    "scalar = MinMaxScaler()\n",
    "#I have 55 rows\n",
    "train = df.head(45)\n",
    "test = df.tail(10)\n",
    "\n",
    "train_scalar = scalar.fit_transform(train)\n",
    "test_scalar = scalar.fit_transform(test)"
   ]
  },
  {
   "cell_type": "code",
   "execution_count": 74,
   "metadata": {
    "tags": []
   },
   "outputs": [
    {
     "output_type": "stream",
     "name": "stdout",
     "text": "(45, 1)\n(10, 1)\n"
    }
   ],
   "source": [
    "print(train.shape)\n",
    "print(test.shape)"
   ]
  },
  {
   "source": [
    "--------"
   ],
   "cell_type": "markdown",
   "metadata": {}
  },
  {
   "cell_type": "code",
   "execution_count": 80,
   "metadata": {},
   "outputs": [
    {
     "output_type": "execute_result",
     "data": {
      "text/plain": "array([[0.03586889],\n       [0.01298701],\n       [0.        ],\n       [0.00680272],\n       [0.05132962],\n       [0.08843537],\n       [0.15522573],\n       [0.22943723],\n       [0.32591218],\n       [0.38528139],\n       [0.4619666 ],\n       [0.572047  ],\n       [0.6270872 ],\n       [0.68707483],\n       [0.75324675],\n       [0.74087817],\n       [0.63388992],\n       [0.65491651],\n       [0.6821274 ],\n       [0.79962894],\n       [0.89734075],\n       [0.86518244],\n       [0.77179963],\n       [0.66666667],\n       [0.62832406],\n       [0.6462585 ],\n       [0.74724799],\n       [0.7152752 ],\n       [0.75139147],\n       [0.80210266],\n       [0.92207792],\n       [1.        ],\n       [0.94186766],\n       [0.9894867 ],\n       [0.9152752 ],\n       [0.80890538],\n       [0.68769326],\n       [0.59851577],\n       [0.51849103],\n       [0.43240569],\n       [0.43636364],\n       [0.46425479],\n       [0.47612863],\n       [0.49461967],\n       [0.47111936]])"
     },
     "metadata": {},
     "execution_count": 80
    }
   ],
   "source": []
  },
  {
   "cell_type": "code",
   "execution_count": null,
   "metadata": {},
   "outputs": [],
   "source": []
  }
 ]
}