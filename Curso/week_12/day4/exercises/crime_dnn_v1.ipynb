{
 "metadata": {
  "language_info": {
   "codemirror_mode": {
    "name": "ipython",
    "version": 3
   },
   "file_extension": ".py",
   "mimetype": "text/x-python",
   "name": "python",
   "nbconvert_exporter": "python",
   "pygments_lexer": "ipython3",
   "version": "3.8.3-final"
  },
  "orig_nbformat": 2,
  "kernelspec": {
   "name": "Python 3.8.3 64-bit",
   "display_name": "Python 3.8.3 64-bit",
   "metadata": {
    "interpreter": {
     "hash": "1baa965d5efe3ac65b79dfc60c0d706280b1da80fedb7760faf2759126c4f253"
    }
   }
  }
 },
 "nbformat": 4,
 "nbformat_minor": 2,
 "cells": [
  {
   "source": [
    "# 1 \n",
    "\n",
    "A partir del fichero \"US_Crime_Rates_1960_2014\", se pide:\n",
    "\n",
    "1. Tratar el dataset como una serie temporal a partir de la columna Year. Siempre el eje X será el nuevo índice Year.\n",
    "2. Crea una red neuronal no convolucional de 3 capas y 32, 32, 64 neuronas respectivamente. Entrénala con los datos desde 1960 hasta 2010. Usa los datos desde 2010 hasta 2014 para predecir la columna \"Murder\" (y). ¿Se aproxima al número real?\n",
    "3. Ahora, prueba 3 optimizadores diferentes, ¿se modifica el resultado? ¿cuál te ha dado mejores resultados? \n",
    "4. Con el mejor optimizador modifica la función de activación a otra diferente. ¿Cuál ha dado mejor resultado?\n",
    "5. Ahora, haz que la red tenga 7 capas con 17,9,4,16,4,4,4 neuronas respectivamente. Utiliza la mejor función de activación y el mejor optimizador. ¿Esta red da mejor resultado? (Si da problema de memoria, prueba a quitar capas.)\n",
    "6. Por último, genera una red convolucional con 2 capas convolucionales sin MaxPool, ¿es mejor esta red que las anteriores? Prueba a cambiar la función de activación y el optimizador. ¿Se ha mejorado el resultado? ¿Cuál es mejor?\n",
    "7. ¿Qué crees que pasaría si entrenamos la red hasta el año 2000 y predecimos desde el 2000 hasta el 2014? (Bonus: realiza el mismo proceso de los ejercicios 2-6 pero entrenando solo hasta el año 2000)"
   ],
   "cell_type": "markdown",
   "metadata": {}
  },
  {
   "cell_type": "code",
   "execution_count": 1,
   "metadata": {},
   "outputs": [],
   "source": [
    "\n",
    "import pandas as pd\n",
    "import numpy as np\n",
    "\n",
    "import matplotlib.pyplot as plt\n",
    "import os\n",
    "import re\n",
    "import shutil\n",
    "import string\n",
    "import tensorflow as tf\n",
    "from tensorflow.keras import regularizers\n",
    "from tensorflow.keras import layers, losses\n",
    "#from tensorflow.Keras import losses\n",
    "from collections import Counter\n",
    "\n",
    "from sklearn.preprocessing import LabelEncoder\n",
    "from sklearn.model_selection import train_test_split\n",
    "from sklearn.metrics import classification_report\n",
    "\n",
    "from tensorflow.keras import preprocessing\n",
    "from tensorflow.keras.preprocessing.text import Tokenizer\n",
    "from tensorflow.keras.preprocessing.sequence import pad_sequences\n",
    "\n",
    "from datetime import timedelta\n",
    "from sklearn.preprocessing import MinMaxScaler\n",
    "\n",
    "from tensorflow.keras.models import Sequential\n",
    "from tensorflow.keras.layers import Dense, LSTM, Dropout\n",
    "from tensorflow.keras.callbacks import EarlyStopping\n",
    "\n",
    "import seaborn as sns\n",
    "import os\n",
    "\n",
    "import math \n",
    "\n",
    "#import pydot\n",
    "\n"
   ]
  },
  {
   "cell_type": "code",
   "execution_count": 3,
   "metadata": {},
   "outputs": [],
   "source": [
    "df = pd.read_csv(\"../data/US_Crime_Rates_1960_2014.csv\")\n",
    "#df.set_index(\"Year\", inplace=True)\n",
    "df.set_index(\"Year\", inplace=True)\n"
   ]
  },
  {
   "cell_type": "code",
   "execution_count": 4,
   "metadata": {},
   "outputs": [],
   "source": [
    "import plotly.express as px"
   ]
  },
  {
   "cell_type": "code",
   "execution_count": 5,
   "metadata": {},
   "outputs": [
    {
     "output_type": "display_data",
     "data": {
      "application/vnd.plotly.v1+json": {
       "config": {
        "plotlyServerURL": "https://plot.ly"
       },
       "data": [
        {
         "hovertemplate": "x=%{x}<br>y=%{y}<extra></extra>",
         "legendgroup": "",
         "line": {
          "color": "#636efa",
          "dash": "solid"
         },
         "mode": "lines",
         "name": "",
         "orientation": "v",
         "showlegend": false,
         "type": "scatter",
         "x": [
          1960,
          1961,
          1962,
          1963,
          1964,
          1965,
          1966,
          1967,
          1968,
          1969,
          1970,
          1971,
          1972,
          1973,
          1974,
          1975,
          1976,
          1977,
          1978,
          1979,
          1980,
          1981,
          1982,
          1983,
          1984,
          1985,
          1986,
          1987,
          1988,
          1989,
          1990,
          1991,
          1992,
          1993,
          1994,
          1995,
          1996,
          1997,
          1998,
          1999,
          2000,
          2001,
          2002,
          2003,
          2004,
          2005,
          2006,
          2007,
          2008,
          2009,
          2010,
          2011,
          2012,
          2013,
          2014
         ],
         "xaxis": "x",
         "y": [
          9110,
          8740,
          8530,
          8640,
          9360,
          9960,
          11040,
          12240,
          13800,
          14760,
          16000,
          17780,
          18670,
          19640,
          20710,
          20510,
          18780,
          19120,
          19560,
          21460,
          23040,
          22520,
          21010,
          19310,
          18690,
          18980,
          20613,
          20096,
          20680,
          21500,
          23440,
          24700,
          23760,
          24530,
          23330,
          21610,
          19650,
          18208,
          16914,
          15522,
          15586,
          16037,
          16229,
          16528,
          16148,
          16740,
          17030,
          16929,
          16442,
          15399,
          14772,
          14661,
          14866,
          14319,
          14249
         ],
         "yaxis": "y"
        }
       ],
       "layout": {
        "legend": {
         "tracegroupgap": 0
        },
        "margin": {
         "t": 60
        },
        "template": {
         "data": {
          "bar": [
           {
            "error_x": {
             "color": "#2a3f5f"
            },
            "error_y": {
             "color": "#2a3f5f"
            },
            "marker": {
             "line": {
              "color": "#E5ECF6",
              "width": 0.5
             }
            },
            "type": "bar"
           }
          ],
          "barpolar": [
           {
            "marker": {
             "line": {
              "color": "#E5ECF6",
              "width": 0.5
             }
            },
            "type": "barpolar"
           }
          ],
          "carpet": [
           {
            "aaxis": {
             "endlinecolor": "#2a3f5f",
             "gridcolor": "white",
             "linecolor": "white",
             "minorgridcolor": "white",
             "startlinecolor": "#2a3f5f"
            },
            "baxis": {
             "endlinecolor": "#2a3f5f",
             "gridcolor": "white",
             "linecolor": "white",
             "minorgridcolor": "white",
             "startlinecolor": "#2a3f5f"
            },
            "type": "carpet"
           }
          ],
          "choropleth": [
           {
            "colorbar": {
             "outlinewidth": 0,
             "ticks": ""
            },
            "type": "choropleth"
           }
          ],
          "contour": [
           {
            "colorbar": {
             "outlinewidth": 0,
             "ticks": ""
            },
            "colorscale": [
             [
              0,
              "#0d0887"
             ],
             [
              0.1111111111111111,
              "#46039f"
             ],
             [
              0.2222222222222222,
              "#7201a8"
             ],
             [
              0.3333333333333333,
              "#9c179e"
             ],
             [
              0.4444444444444444,
              "#bd3786"
             ],
             [
              0.5555555555555556,
              "#d8576b"
             ],
             [
              0.6666666666666666,
              "#ed7953"
             ],
             [
              0.7777777777777778,
              "#fb9f3a"
             ],
             [
              0.8888888888888888,
              "#fdca26"
             ],
             [
              1,
              "#f0f921"
             ]
            ],
            "type": "contour"
           }
          ],
          "contourcarpet": [
           {
            "colorbar": {
             "outlinewidth": 0,
             "ticks": ""
            },
            "type": "contourcarpet"
           }
          ],
          "heatmap": [
           {
            "colorbar": {
             "outlinewidth": 0,
             "ticks": ""
            },
            "colorscale": [
             [
              0,
              "#0d0887"
             ],
             [
              0.1111111111111111,
              "#46039f"
             ],
             [
              0.2222222222222222,
              "#7201a8"
             ],
             [
              0.3333333333333333,
              "#9c179e"
             ],
             [
              0.4444444444444444,
              "#bd3786"
             ],
             [
              0.5555555555555556,
              "#d8576b"
             ],
             [
              0.6666666666666666,
              "#ed7953"
             ],
             [
              0.7777777777777778,
              "#fb9f3a"
             ],
             [
              0.8888888888888888,
              "#fdca26"
             ],
             [
              1,
              "#f0f921"
             ]
            ],
            "type": "heatmap"
           }
          ],
          "heatmapgl": [
           {
            "colorbar": {
             "outlinewidth": 0,
             "ticks": ""
            },
            "colorscale": [
             [
              0,
              "#0d0887"
             ],
             [
              0.1111111111111111,
              "#46039f"
             ],
             [
              0.2222222222222222,
              "#7201a8"
             ],
             [
              0.3333333333333333,
              "#9c179e"
             ],
             [
              0.4444444444444444,
              "#bd3786"
             ],
             [
              0.5555555555555556,
              "#d8576b"
             ],
             [
              0.6666666666666666,
              "#ed7953"
             ],
             [
              0.7777777777777778,
              "#fb9f3a"
             ],
             [
              0.8888888888888888,
              "#fdca26"
             ],
             [
              1,
              "#f0f921"
             ]
            ],
            "type": "heatmapgl"
           }
          ],
          "histogram": [
           {
            "marker": {
             "colorbar": {
              "outlinewidth": 0,
              "ticks": ""
             }
            },
            "type": "histogram"
           }
          ],
          "histogram2d": [
           {
            "colorbar": {
             "outlinewidth": 0,
             "ticks": ""
            },
            "colorscale": [
             [
              0,
              "#0d0887"
             ],
             [
              0.1111111111111111,
              "#46039f"
             ],
             [
              0.2222222222222222,
              "#7201a8"
             ],
             [
              0.3333333333333333,
              "#9c179e"
             ],
             [
              0.4444444444444444,
              "#bd3786"
             ],
             [
              0.5555555555555556,
              "#d8576b"
             ],
             [
              0.6666666666666666,
              "#ed7953"
             ],
             [
              0.7777777777777778,
              "#fb9f3a"
             ],
             [
              0.8888888888888888,
              "#fdca26"
             ],
             [
              1,
              "#f0f921"
             ]
            ],
            "type": "histogram2d"
           }
          ],
          "histogram2dcontour": [
           {
            "colorbar": {
             "outlinewidth": 0,
             "ticks": ""
            },
            "colorscale": [
             [
              0,
              "#0d0887"
             ],
             [
              0.1111111111111111,
              "#46039f"
             ],
             [
              0.2222222222222222,
              "#7201a8"
             ],
             [
              0.3333333333333333,
              "#9c179e"
             ],
             [
              0.4444444444444444,
              "#bd3786"
             ],
             [
              0.5555555555555556,
              "#d8576b"
             ],
             [
              0.6666666666666666,
              "#ed7953"
             ],
             [
              0.7777777777777778,
              "#fb9f3a"
             ],
             [
              0.8888888888888888,
              "#fdca26"
             ],
             [
              1,
              "#f0f921"
             ]
            ],
            "type": "histogram2dcontour"
           }
          ],
          "mesh3d": [
           {
            "colorbar": {
             "outlinewidth": 0,
             "ticks": ""
            },
            "type": "mesh3d"
           }
          ],
          "parcoords": [
           {
            "line": {
             "colorbar": {
              "outlinewidth": 0,
              "ticks": ""
             }
            },
            "type": "parcoords"
           }
          ],
          "pie": [
           {
            "automargin": true,
            "type": "pie"
           }
          ],
          "scatter": [
           {
            "marker": {
             "colorbar": {
              "outlinewidth": 0,
              "ticks": ""
             }
            },
            "type": "scatter"
           }
          ],
          "scatter3d": [
           {
            "line": {
             "colorbar": {
              "outlinewidth": 0,
              "ticks": ""
             }
            },
            "marker": {
             "colorbar": {
              "outlinewidth": 0,
              "ticks": ""
             }
            },
            "type": "scatter3d"
           }
          ],
          "scattercarpet": [
           {
            "marker": {
             "colorbar": {
              "outlinewidth": 0,
              "ticks": ""
             }
            },
            "type": "scattercarpet"
           }
          ],
          "scattergeo": [
           {
            "marker": {
             "colorbar": {
              "outlinewidth": 0,
              "ticks": ""
             }
            },
            "type": "scattergeo"
           }
          ],
          "scattergl": [
           {
            "marker": {
             "colorbar": {
              "outlinewidth": 0,
              "ticks": ""
             }
            },
            "type": "scattergl"
           }
          ],
          "scattermapbox": [
           {
            "marker": {
             "colorbar": {
              "outlinewidth": 0,
              "ticks": ""
             }
            },
            "type": "scattermapbox"
           }
          ],
          "scatterpolar": [
           {
            "marker": {
             "colorbar": {
              "outlinewidth": 0,
              "ticks": ""
             }
            },
            "type": "scatterpolar"
           }
          ],
          "scatterpolargl": [
           {
            "marker": {
             "colorbar": {
              "outlinewidth": 0,
              "ticks": ""
             }
            },
            "type": "scatterpolargl"
           }
          ],
          "scatterternary": [
           {
            "marker": {
             "colorbar": {
              "outlinewidth": 0,
              "ticks": ""
             }
            },
            "type": "scatterternary"
           }
          ],
          "surface": [
           {
            "colorbar": {
             "outlinewidth": 0,
             "ticks": ""
            },
            "colorscale": [
             [
              0,
              "#0d0887"
             ],
             [
              0.1111111111111111,
              "#46039f"
             ],
             [
              0.2222222222222222,
              "#7201a8"
             ],
             [
              0.3333333333333333,
              "#9c179e"
             ],
             [
              0.4444444444444444,
              "#bd3786"
             ],
             [
              0.5555555555555556,
              "#d8576b"
             ],
             [
              0.6666666666666666,
              "#ed7953"
             ],
             [
              0.7777777777777778,
              "#fb9f3a"
             ],
             [
              0.8888888888888888,
              "#fdca26"
             ],
             [
              1,
              "#f0f921"
             ]
            ],
            "type": "surface"
           }
          ],
          "table": [
           {
            "cells": {
             "fill": {
              "color": "#EBF0F8"
             },
             "line": {
              "color": "white"
             }
            },
            "header": {
             "fill": {
              "color": "#C8D4E3"
             },
             "line": {
              "color": "white"
             }
            },
            "type": "table"
           }
          ]
         },
         "layout": {
          "annotationdefaults": {
           "arrowcolor": "#2a3f5f",
           "arrowhead": 0,
           "arrowwidth": 1
          },
          "coloraxis": {
           "colorbar": {
            "outlinewidth": 0,
            "ticks": ""
           }
          },
          "colorscale": {
           "diverging": [
            [
             0,
             "#8e0152"
            ],
            [
             0.1,
             "#c51b7d"
            ],
            [
             0.2,
             "#de77ae"
            ],
            [
             0.3,
             "#f1b6da"
            ],
            [
             0.4,
             "#fde0ef"
            ],
            [
             0.5,
             "#f7f7f7"
            ],
            [
             0.6,
             "#e6f5d0"
            ],
            [
             0.7,
             "#b8e186"
            ],
            [
             0.8,
             "#7fbc41"
            ],
            [
             0.9,
             "#4d9221"
            ],
            [
             1,
             "#276419"
            ]
           ],
           "sequential": [
            [
             0,
             "#0d0887"
            ],
            [
             0.1111111111111111,
             "#46039f"
            ],
            [
             0.2222222222222222,
             "#7201a8"
            ],
            [
             0.3333333333333333,
             "#9c179e"
            ],
            [
             0.4444444444444444,
             "#bd3786"
            ],
            [
             0.5555555555555556,
             "#d8576b"
            ],
            [
             0.6666666666666666,
             "#ed7953"
            ],
            [
             0.7777777777777778,
             "#fb9f3a"
            ],
            [
             0.8888888888888888,
             "#fdca26"
            ],
            [
             1,
             "#f0f921"
            ]
           ],
           "sequentialminus": [
            [
             0,
             "#0d0887"
            ],
            [
             0.1111111111111111,
             "#46039f"
            ],
            [
             0.2222222222222222,
             "#7201a8"
            ],
            [
             0.3333333333333333,
             "#9c179e"
            ],
            [
             0.4444444444444444,
             "#bd3786"
            ],
            [
             0.5555555555555556,
             "#d8576b"
            ],
            [
             0.6666666666666666,
             "#ed7953"
            ],
            [
             0.7777777777777778,
             "#fb9f3a"
            ],
            [
             0.8888888888888888,
             "#fdca26"
            ],
            [
             1,
             "#f0f921"
            ]
           ]
          },
          "colorway": [
           "#636efa",
           "#EF553B",
           "#00cc96",
           "#ab63fa",
           "#FFA15A",
           "#19d3f3",
           "#FF6692",
           "#B6E880",
           "#FF97FF",
           "#FECB52"
          ],
          "font": {
           "color": "#2a3f5f"
          },
          "geo": {
           "bgcolor": "white",
           "lakecolor": "white",
           "landcolor": "#E5ECF6",
           "showlakes": true,
           "showland": true,
           "subunitcolor": "white"
          },
          "hoverlabel": {
           "align": "left"
          },
          "hovermode": "closest",
          "mapbox": {
           "style": "light"
          },
          "paper_bgcolor": "white",
          "plot_bgcolor": "#E5ECF6",
          "polar": {
           "angularaxis": {
            "gridcolor": "white",
            "linecolor": "white",
            "ticks": ""
           },
           "bgcolor": "#E5ECF6",
           "radialaxis": {
            "gridcolor": "white",
            "linecolor": "white",
            "ticks": ""
           }
          },
          "scene": {
           "xaxis": {
            "backgroundcolor": "#E5ECF6",
            "gridcolor": "white",
            "gridwidth": 2,
            "linecolor": "white",
            "showbackground": true,
            "ticks": "",
            "zerolinecolor": "white"
           },
           "yaxis": {
            "backgroundcolor": "#E5ECF6",
            "gridcolor": "white",
            "gridwidth": 2,
            "linecolor": "white",
            "showbackground": true,
            "ticks": "",
            "zerolinecolor": "white"
           },
           "zaxis": {
            "backgroundcolor": "#E5ECF6",
            "gridcolor": "white",
            "gridwidth": 2,
            "linecolor": "white",
            "showbackground": true,
            "ticks": "",
            "zerolinecolor": "white"
           }
          },
          "shapedefaults": {
           "line": {
            "color": "#2a3f5f"
           }
          },
          "ternary": {
           "aaxis": {
            "gridcolor": "white",
            "linecolor": "white",
            "ticks": ""
           },
           "baxis": {
            "gridcolor": "white",
            "linecolor": "white",
            "ticks": ""
           },
           "bgcolor": "#E5ECF6",
           "caxis": {
            "gridcolor": "white",
            "linecolor": "white",
            "ticks": ""
           }
          },
          "title": {
           "x": 0.05
          },
          "xaxis": {
           "automargin": true,
           "gridcolor": "white",
           "linecolor": "white",
           "ticks": "",
           "title": {
            "standoff": 15
           },
           "zerolinecolor": "white",
           "zerolinewidth": 2
          },
          "yaxis": {
           "automargin": true,
           "gridcolor": "white",
           "linecolor": "white",
           "ticks": "",
           "title": {
            "standoff": 15
           },
           "zerolinecolor": "white",
           "zerolinewidth": 2
          }
         }
        },
        "xaxis": {
         "anchor": "y",
         "domain": [
          0,
          1
         ],
         "title": {
          "text": "x"
         }
        },
        "yaxis": {
         "anchor": "x",
         "domain": [
          0,
          1
         ],
         "title": {
          "text": "y"
         }
        }
       }
      }
     },
     "metadata": {}
    }
   ],
   "source": [
    "px.line(x=df.index, y=df[\"Murder\"])"
   ]
  },
  {
   "cell_type": "code",
   "execution_count": 6,
   "metadata": {},
   "outputs": [],
   "source": [
    "X = df.drop(\"Murder\", axis=1)\n",
    "y = df[[\"Murder\"]]\n",
    "\n",
    "#Test values: \n",
    "X_train =  X.loc[1960:2010].values\n",
    "y_train = y.loc[1960:2010].values\n",
    "X_test = X.loc[2011:].values\n",
    "y_test = y.loc[2011:].values\n"
   ]
  },
  {
   "cell_type": "code",
   "execution_count": 24,
   "metadata": {},
   "outputs": [
    {
     "output_type": "execute_result",
     "data": {
      "text/plain": "(51, 10)"
     },
     "metadata": {},
     "execution_count": 24
    }
   ],
   "source": [
    "X_train.shape"
   ]
  },
  {
   "source": [
    "Preguntas: 2, 3, 4:"
   ],
   "cell_type": "markdown",
   "metadata": {}
  },
  {
   "cell_type": "code",
   "execution_count": 6,
   "metadata": {
    "tags": []
   },
   "outputs": [
    {
     "output_type": "stream",
     "name": "stdout",
     "text": "Model: &quot;sequential&quot;\n_________________________________________________________________\nLayer (type)                 Output Shape              Param #   \n=================================================================\ndense (Dense)                (None, 32)                352       \n_________________________________________________________________\ndense_1 (Dense)              (None, 32)                1056      \n_________________________________________________________________\ndense_2 (Dense)              (None, 64)                2112      \n_________________________________________________________________\ndense_3 (Dense)              (None, 1)                 65        \n=================================================================\nTotal params: 3,585\nTrainable params: 3,585\nNon-trainable params: 0\n_________________________________________________________________\n"
    }
   ],
   "source": [
    "#Trying different activators with the optimizer that gave the best results (see below)\n",
    "activator = 'relu'  #--> mse: 19507367936.0  \n",
    "#activator = 'linear' #--> mse: 2368057901056.0\n",
    "#activator = 'sigmoid' #--> mse:  326032448.0 * Gives best results * \n",
    "\n",
    "model_no_convolucional = tf.keras.Sequential([\n",
    "layers.Dense(32, activation=activator, input_dim=X_train.shape[1]),\n",
    "layers.Dense(32, activation=activator),\n",
    "layers.Dense(64, activation=activator),\n",
    "layers.Dense(1)])\n",
    "\n",
    "#optimizer1 -->  mse: 326013696.0   * Gives best results *\n",
    "#optimizer = tf.keras.optimizers.RMSprop()\n",
    "#optimizet2 -->  mse: 326056544.0\n",
    "optimizer = tf.keras.optimizers.Adam()\n",
    "#optimizer3 --> mse: 326102752.0\n",
    "#optimizer = tf.keras.optimizers.Adadelta()\n",
    "\n",
    "\n",
    "model_no_convolucional.compile(loss='mse',\n",
    "            optimizer=optimizer,\n",
    "            metrics=['mse'])\n",
    "\n",
    "model_no_convolucional.summary()"
   ]
  },
  {
   "cell_type": "code",
   "execution_count": 10,
   "metadata": {
    "tags": [
     "outputPrepend"
    ]
   },
   "outputs": [
    {
     "output_type": "stream",
     "name": "stdout",
     "text": "ep - loss: 21732354048.0000 - mse: 21732354048.0000\nEpoch 21/200\n2/2 [==============================] - 0s 5ms/step - loss: 25004734464.0000 - mse: 25004734464.0000\nEpoch 22/200\n2/2 [==============================] - 0s 3ms/step - loss: 20428111872.0000 - mse: 20428111872.0000\nEpoch 23/200\n2/2 [==============================] - 0s 5ms/step - loss: 22114662400.0000 - mse: 22114662400.0000\nEpoch 24/200\n2/2 [==============================] - 0s 3ms/step - loss: 19973062656.0000 - mse: 19973062656.0000\nEpoch 25/200\n2/2 [==============================] - 0s 2ms/step - loss: 19591929856.0000 - mse: 19591929856.0000\nEpoch 26/200\n2/2 [==============================] - 0s 3ms/step - loss: 19393679360.0000 - mse: 19393677312.0000\nEpoch 27/200\n2/2 [==============================] - 0s 3ms/step - loss: 18969255936.0000 - mse: 18969255936.0000\nEpoch 28/200\n2/2 [==============================] - 0s 7ms/step - loss: 18275002368.0000 - mse: 18275002368.0000\nEpoch 29/200\n2/2 [==============================] - 0s 4ms/step - loss: 16649837568.0000 - mse: 16649837568.0000\nEpoch 30/200\n2/2 [==============================] - 0s 5ms/step - loss: 17949806592.0000 - mse: 17949806592.0000\nEpoch 31/200\n2/2 [==============================] - 0s 4ms/step - loss: 16009775104.0000 - mse: 16009775104.0000\nEpoch 32/200\n2/2 [==============================] - 0s 4ms/step - loss: 17103977472.0000 - mse: 17103977472.0000\nEpoch 33/200\n2/2 [==============================] - 0s 6ms/step - loss: 15889730560.0000 - mse: 15889730560.0000\nEpoch 34/200\n2/2 [==============================] - 0s 5ms/step - loss: 16081430528.0000 - mse: 16081430528.0000\nEpoch 35/200\n2/2 [==============================] - 0s 3ms/step - loss: 14542412800.0000 - mse: 14542412800.0000\nEpoch 36/200\n2/2 [==============================] - 0s 3ms/step - loss: 15430333440.0000 - mse: 15430333440.0000\nEpoch 37/200\n2/2 [==============================] - 0s 5ms/step - loss: 13696419840.0000 - mse: 13696419840.0000\nEpoch 38/200\n2/2 [==============================] - 0s 4ms/step - loss: 15175793664.0000 - mse: 15175793664.0000\nEpoch 39/200\n2/2 [==============================] - 0s 4ms/step - loss: 12721725440.0000 - mse: 12721725440.0000\nEpoch 40/200\n2/2 [==============================] - 0s 4ms/step - loss: 15466079232.0000 - mse: 15466079232.0000\nEpoch 41/200\n2/2 [==============================] - 0s 2ms/step - loss: 12705055744.0000 - mse: 12705055744.0000\nEpoch 42/200\n2/2 [==============================] - 0s 3ms/step - loss: 14356678656.0000 - mse: 14356678656.0000\nEpoch 43/200\n2/2 [==============================] - 0s 4ms/step - loss: 11218804736.0000 - mse: 11218804736.0000\nEpoch 44/200\n2/2 [==============================] - 0s 6ms/step - loss: 13214098432.0000 - mse: 13214098432.0000\nEpoch 45/200\n2/2 [==============================] - 0s 3ms/step - loss: 11117375488.0000 - mse: 11117375488.0000\nEpoch 46/200\n2/2 [==============================] - 0s 5ms/step - loss: 11950046208.0000 - mse: 11950046208.0000\nEpoch 47/200\n2/2 [==============================] - 0s 10ms/step - loss: 9517965312.0000 - mse: 9517965312.0000\nEpoch 48/200\n2/2 [==============================] - 0s 9ms/step - loss: 11186247680.0000 - mse: 11186245632.0000\nEpoch 49/200\n2/2 [==============================] - 0s 3ms/step - loss: 9488928768.0000 - mse: 9488928768.0000\nEpoch 50/200\n2/2 [==============================] - 0s 4ms/step - loss: 10074393600.0000 - mse: 10074393600.0000\nEpoch 51/200\n2/2 [==============================] - 0s 4ms/step - loss: 8745394176.0000 - mse: 8745394176.0000\nEpoch 52/200\n2/2 [==============================] - 0s 6ms/step - loss: 9317427200.0000 - mse: 9317426176.0000\nEpoch 53/200\n2/2 [==============================] - 0s 3ms/step - loss: 8418088960.0000 - mse: 8418088960.0000\nEpoch 54/200\n2/2 [==============================] - 0s 4ms/step - loss: 8484045312.0000 - mse: 8484045312.0000\nEpoch 55/200\n2/2 [==============================] - 0s 5ms/step - loss: 7430587392.0000 - mse: 7430587392.0000\nEpoch 56/200\n2/2 [==============================] - 0s 8ms/step - loss: 8166645760.0000 - mse: 8166645760.0000\nEpoch 57/200\n2/2 [==============================] - 0s 5ms/step - loss: 6939556352.0000 - mse: 6939556352.0000\nEpoch 58/200\n2/2 [==============================] - 0s 5ms/step - loss: 7866135040.0000 - mse: 7866135040.0000\nEpoch 59/200\n2/2 [==============================] - 0s 3ms/step - loss: 6358623232.0000 - mse: 6358623232.0000\nEpoch 60/200\n2/2 [==============================] - 0s 3ms/step - loss: 7984008192.0000 - mse: 7984008192.0000\nEpoch 61/200\n2/2 [==============================] - 0s 3ms/step - loss: 6408089600.0000 - mse: 6408089600.0000\nEpoch 62/200\n2/2 [==============================] - 0s 4ms/step - loss: 6786663424.0000 - mse: 6786663424.0000\nEpoch 63/200\n2/2 [==============================] - 0s 3ms/step - loss: 6022270976.0000 - mse: 6022270976.0000\nEpoch 64/200\n2/2 [==============================] - 0s 3ms/step - loss: 6234327040.0000 - mse: 6234327040.0000\nEpoch 65/200\n2/2 [==============================] - 0s 6ms/step - loss: 6513270272.0000 - mse: 6513270272.0000\nEpoch 66/200\n2/2 [==============================] - 0s 4ms/step - loss: 5817778688.0000 - mse: 5817778688.0000\nEpoch 67/200\n2/2 [==============================] - 0s 4ms/step - loss: 5996055552.0000 - mse: 5996055552.0000\nEpoch 68/200\n2/2 [==============================] - 0s 3ms/step - loss: 5722196992.0000 - mse: 5722196992.0000\nEpoch 69/200\n2/2 [==============================] - 0s 4ms/step - loss: 4884362752.0000 - mse: 4884362752.0000\nEpoch 70/200\n2/2 [==============================] - 0s 3ms/step - loss: 4577316352.0000 - mse: 4577316352.0000\nEpoch 71/200\n2/2 [==============================] - 0s 2ms/step - loss: 4288538112.0000 - mse: 4288538112.0000\nEpoch 72/200\n2/2 [==============================] - 0s 3ms/step - loss: 4185794304.0000 - mse: 4185794304.0000\nEpoch 73/200\n2/2 [==============================] - 0s 4ms/step - loss: 4004397312.0000 - mse: 4004397312.0000\nEpoch 74/200\n2/2 [==============================] - 0s 4ms/step - loss: 4082383360.0000 - mse: 4082383360.0000\nEpoch 75/200\n2/2 [==============================] - 0s 3ms/step - loss: 3801940224.0000 - mse: 3801940224.0000\nEpoch 76/200\n2/2 [==============================] - 0s 5ms/step - loss: 3813250816.0000 - mse: 3813250816.0000\nEpoch 77/200\n2/2 [==============================] - 0s 5ms/step - loss: 3547965184.0000 - mse: 3547965184.0000\nEpoch 78/200\n2/2 [==============================] - 0s 3ms/step - loss: 3502995456.0000 - mse: 3502995456.0000\nEpoch 79/200\n2/2 [==============================] - 0s 4ms/step - loss: 3087000576.0000 - mse: 3087000576.0000\nEpoch 80/200\n2/2 [==============================] - 0s 3ms/step - loss: 3049784576.0000 - mse: 3049784576.0000\nEpoch 81/200\n2/2 [==============================] - 0s 3ms/step - loss: 2984875264.0000 - mse: 2984875264.0000\nEpoch 82/200\n2/2 [==============================] - 0s 3ms/step - loss: 2844997376.0000 - mse: 2844997376.0000\nEpoch 83/200\n2/2 [==============================] - 0s 3ms/step - loss: 2708947968.0000 - mse: 2708947968.0000\nEpoch 84/200\n2/2 [==============================] - 0s 3ms/step - loss: 2592322048.0000 - mse: 2592322048.0000\nEpoch 85/200\n2/2 [==============================] - 0s 3ms/step - loss: 2443635968.0000 - mse: 2443635968.0000\nEpoch 86/200\n2/2 [==============================] - 0s 4ms/step - loss: 2391738368.0000 - mse: 2391738368.0000\nEpoch 87/200\n2/2 [==============================] - 0s 4ms/step - loss: 2240919808.0000 - mse: 2240919808.0000\nEpoch 88/200\n2/2 [==============================] - 0s 3ms/step - loss: 2173980160.0000 - mse: 2173980160.0000\nEpoch 89/200\n2/2 [==============================] - 0s 4ms/step - loss: 2159593216.0000 - mse: 2159593216.0000\nEpoch 90/200\n2/2 [==============================] - 0s 3ms/step - loss: 2078238976.0000 - mse: 2078238976.0000\nEpoch 91/200\n2/2 [==============================] - 0s 2ms/step - loss: 1859545984.0000 - mse: 1859545984.0000\nEpoch 92/200\n2/2 [==============================] - 0s 4ms/step - loss: 1809636864.0000 - mse: 1809636864.0000\nEpoch 93/200\n2/2 [==============================] - 0s 4ms/step - loss: 1704335360.0000 - mse: 1704335360.0000\nEpoch 94/200\n2/2 [==============================] - 0s 4ms/step - loss: 1659128064.0000 - mse: 1659128064.0000\nEpoch 95/200\n2/2 [==============================] - 0s 4ms/step - loss: 1585581952.0000 - mse: 1585581952.0000\nEpoch 96/200\n2/2 [==============================] - 0s 3ms/step - loss: 1510314368.0000 - mse: 1510314368.0000\nEpoch 97/200\n2/2 [==============================] - 0s 4ms/step - loss: 1445629568.0000 - mse: 1445629568.0000\nEpoch 98/200\n2/2 [==============================] - 0s 4ms/step - loss: 1411586816.0000 - mse: 1411586816.0000\nEpoch 99/200\n2/2 [==============================] - 0s 2ms/step - loss: 1309559296.0000 - mse: 1309559296.0000\nEpoch 100/200\n2/2 [==============================] - 0s 2ms/step - loss: 1321612672.0000 - mse: 1321612672.0000\nEpoch 101/200\n2/2 [==============================] - 0s 3ms/step - loss: 1271077760.0000 - mse: 1271077760.0000\nEpoch 102/200\n2/2 [==============================] - 0s 4ms/step - loss: 1170496256.0000 - mse: 1170496256.0000\nEpoch 103/200\n2/2 [==============================] - 0s 2ms/step - loss: 1150148352.0000 - mse: 1150148352.0000\nEpoch 104/200\n2/2 [==============================] - 0s 2ms/step - loss: 1067329920.0000 - mse: 1067329920.0000\nEpoch 105/200\n2/2 [==============================] - 0s 2ms/step - loss: 1011753600.0000 - mse: 1011753600.0000\nEpoch 106/200\n2/2 [==============================] - 0s 3ms/step - loss: 996840768.0000 - mse: 996840768.0000\nEpoch 107/200\n2/2 [==============================] - 0s 4ms/step - loss: 939863168.0000 - mse: 939863168.0000\nEpoch 108/200\n2/2 [==============================] - 0s 2ms/step - loss: 934516288.0000 - mse: 934516288.0000\nEpoch 109/200\n2/2 [==============================] - 0s 3ms/step - loss: 864080256.0000 - mse: 864080256.0000\nEpoch 110/200\n2/2 [==============================] - 0s 2ms/step - loss: 815051776.0000 - mse: 815051776.0000\nEpoch 111/200\n2/2 [==============================] - 0s 2ms/step - loss: 830353344.0000 - mse: 830353344.0000\nEpoch 112/200\n2/2 [==============================] - 0s 2ms/step - loss: 755189952.0000 - mse: 755189952.0000\nEpoch 113/200\n2/2 [==============================] - 0s 2ms/step - loss: 733381760.0000 - mse: 733381760.0000\nEpoch 114/200\n2/2 [==============================] - 0s 3ms/step - loss: 702374848.0000 - mse: 702374848.0000\nEpoch 115/200\n2/2 [==============================] - 0s 2ms/step - loss: 685899136.0000 - mse: 685899136.0000\nEpoch 116/200\n2/2 [==============================] - 0s 3ms/step - loss: 629490560.0000 - mse: 629490560.0000\nEpoch 117/200\n2/2 [==============================] - 0s 2ms/step - loss: 644422208.0000 - mse: 644422208.0000\nEpoch 118/200\n2/2 [==============================] - 0s 2ms/step - loss: 581741440.0000 - mse: 581741440.0000\nEpoch 119/200\n2/2 [==============================] - 0s 2ms/step - loss: 567747392.0000 - mse: 567747392.0000\nEpoch 120/200\n2/2 [==============================] - 0s 4ms/step - loss: 521385376.0000 - mse: 521385376.0000\nEpoch 121/200\n2/2 [==============================] - 0s 3ms/step - loss: 556859328.0000 - mse: 556859328.0000\nEpoch 122/200\n2/2 [==============================] - 0s 4ms/step - loss: 499272832.0000 - mse: 499272832.0000\nEpoch 123/200\n2/2 [==============================] - 0s 4ms/step - loss: 540217856.0000 - mse: 540217856.0000\nEpoch 124/200\n2/2 [==============================] - 0s 5ms/step - loss: 461468864.0000 - mse: 461468864.0000\nEpoch 125/200\n2/2 [==============================] - 0s 3ms/step - loss: 428156096.0000 - mse: 428156096.0000\nEpoch 126/200\n2/2 [==============================] - 0s 3ms/step - loss: 427281984.0000 - mse: 427281984.0000\nEpoch 127/200\n2/2 [==============================] - 0s 3ms/step - loss: 393574208.0000 - mse: 393574208.0000\nEpoch 128/200\n2/2 [==============================] - 0s 2ms/step - loss: 378049920.0000 - mse: 378049920.0000\nEpoch 129/200\n2/2 [==============================] - 0s 3ms/step - loss: 363856000.0000 - mse: 363856000.0000\nEpoch 130/200\n2/2 [==============================] - 0s 3ms/step - loss: 348834304.0000 - mse: 348834304.0000\nEpoch 131/200\n2/2 [==============================] - 0s 3ms/step - loss: 336400224.0000 - mse: 336400224.0000\nEpoch 132/200\n2/2 [==============================] - 0s 3ms/step - loss: 323748960.0000 - mse: 323748960.0000\nEpoch 133/200\n2/2 [==============================] - 0s 2ms/step - loss: 313603168.0000 - mse: 313603168.0000\nEpoch 134/200\n2/2 [==============================] - 0s 2ms/step - loss: 329666688.0000 - mse: 329666688.0000\nEpoch 135/200\n2/2 [==============================] - 0s 2ms/step - loss: 300317120.0000 - mse: 300317120.0000\nEpoch 136/200\n2/2 [==============================] - 0s 1ms/step - loss: 301610848.0000 - mse: 301610848.0000\nEpoch 137/200\n2/2 [==============================] - 0s 3ms/step - loss: 288097248.0000 - mse: 288097248.0000\nEpoch 138/200\n2/2 [==============================] - 0s 2ms/step - loss: 264502016.0000 - mse: 264502016.0000\nEpoch 139/200\n2/2 [==============================] - 0s 2ms/step - loss: 267702432.0000 - mse: 267702432.0000\nEpoch 140/200\n2/2 [==============================] - 0s 2ms/step - loss: 245922640.0000 - mse: 245922640.0000\nEpoch 141/200\n2/2 [==============================] - 0s 3ms/step - loss: 246333264.0000 - mse: 246333264.0000\nEpoch 142/200\n2/2 [==============================] - 0s 3ms/step - loss: 253119792.0000 - mse: 253119808.0000\nEpoch 143/200\n2/2 [==============================] - 0s 3ms/step - loss: 247623808.0000 - mse: 247623808.0000\nEpoch 144/200\n2/2 [==============================] - 0s 2ms/step - loss: 212401296.0000 - mse: 212401296.0000\nEpoch 145/200\n2/2 [==============================] - 0s 3ms/step - loss: 243800944.0000 - mse: 243800944.0000\nEpoch 146/200\n2/2 [==============================] - 0s 3ms/step - loss: 213029632.0000 - mse: 213029632.0000\nEpoch 147/200\n2/2 [==============================] - 0s 2ms/step - loss: 225339600.0000 - mse: 225339600.0000\nEpoch 148/200\n2/2 [==============================] - 0s 2ms/step - loss: 212698896.0000 - mse: 212698896.0000\nEpoch 149/200\n2/2 [==============================] - 0s 3ms/step - loss: 210013136.0000 - mse: 210013136.0000\nEpoch 150/200\n2/2 [==============================] - 0s 3ms/step - loss: 187842800.0000 - mse: 187842800.0000\nEpoch 151/200\n2/2 [==============================] - 0s 4ms/step - loss: 204514256.0000 - mse: 204514256.0000\nEpoch 152/200\n2/2 [==============================] - 0s 4ms/step - loss: 202579104.0000 - mse: 202579104.0000\nEpoch 153/200\n2/2 [==============================] - 0s 2ms/step - loss: 179226688.0000 - mse: 179226688.0000\nEpoch 154/200\n2/2 [==============================] - 0s 3ms/step - loss: 187546224.0000 - mse: 187546224.0000\nEpoch 155/200\n2/2 [==============================] - 0s 3ms/step - loss: 179315232.0000 - mse: 179315232.0000\nEpoch 156/200\n2/2 [==============================] - 0s 3ms/step - loss: 155023728.0000 - mse: 155023728.0000\nEpoch 157/200\n2/2 [==============================] - 0s 2ms/step - loss: 166177664.0000 - mse: 166177664.0000\nEpoch 158/200\n2/2 [==============================] - 0s 2ms/step - loss: 177441328.0000 - mse: 177441328.0000\nEpoch 159/200\n2/2 [==============================] - 0s 3ms/step - loss: 191144176.0000 - mse: 191144176.0000\nEpoch 160/200\n2/2 [==============================] - 0s 3ms/step - loss: 152852128.0000 - mse: 152852128.0000\nEpoch 161/200\n2/2 [==============================] - 0s 3ms/step - loss: 170217232.0000 - mse: 170217232.0000\nEpoch 162/200\n2/2 [==============================] - 0s 2ms/step - loss: 176067200.0000 - mse: 176067200.0000\nEpoch 163/200\n2/2 [==============================] - 0s 2ms/step - loss: 143115632.0000 - mse: 143115632.0000\nEpoch 164/200\n2/2 [==============================] - 0s 3ms/step - loss: 168366608.0000 - mse: 168366608.0000\nEpoch 165/200\n2/2 [==============================] - 0s 3ms/step - loss: 188300976.0000 - mse: 188300976.0000\nEpoch 166/200\n2/2 [==============================] - 0s 3ms/step - loss: 135272112.0000 - mse: 135272112.0000\nEpoch 167/200\n2/2 [==============================] - 0s 3ms/step - loss: 159090272.0000 - mse: 159090272.0000\nEpoch 168/200\n2/2 [==============================] - 0s 3ms/step - loss: 187300992.0000 - mse: 187300992.0000\nEpoch 169/200\n2/2 [==============================] - 0s 2ms/step - loss: 156912816.0000 - mse: 156912816.0000\nEpoch 170/200\n2/2 [==============================] - 0s 3ms/step - loss: 139071776.0000 - mse: 139071776.0000\nEpoch 171/200\n2/2 [==============================] - 0s 2ms/step - loss: 162543760.0000 - mse: 162543760.0000\nEpoch 172/200\n2/2 [==============================] - 0s 2ms/step - loss: 150153536.0000 - mse: 150153536.0000\nEpoch 173/200\n2/2 [==============================] - 0s 2ms/step - loss: 138375344.0000 - mse: 138375344.0000\nEpoch 174/200\n2/2 [==============================] - 0s 3ms/step - loss: 137397744.0000 - mse: 137397744.0000\nEpoch 175/200\n2/2 [==============================] - 0s 1ms/step - loss: 145852496.0000 - mse: 145852496.0000\nEpoch 176/200\n2/2 [==============================] - 0s 2ms/step - loss: 119113176.0000 - mse: 119113176.0000\nEpoch 177/200\n2/2 [==============================] - 0s 2ms/step - loss: 114739776.0000 - mse: 114739776.0000\nEpoch 178/200\n2/2 [==============================] - 0s 3ms/step - loss: 122017568.0000 - mse: 122017568.0000\nEpoch 179/200\n2/2 [==============================] - 0s 2ms/step - loss: 112719112.0000 - mse: 112719112.0000\nEpoch 180/200\n2/2 [==============================] - 0s 2ms/step - loss: 112731008.0000 - mse: 112731008.0000\nEpoch 181/200\n2/2 [==============================] - 0s 2ms/step - loss: 123410112.0000 - mse: 123410112.0000\nEpoch 182/200\n2/2 [==============================] - 0s 4ms/step - loss: 121751448.0000 - mse: 121751448.0000\nEpoch 183/200\n2/2 [==============================] - 0s 4ms/step - loss: 109199944.0000 - mse: 109199944.0000\nEpoch 184/200\n2/2 [==============================] - 0s 2ms/step - loss: 123786264.0000 - mse: 123786264.0000\nEpoch 185/200\n2/2 [==============================] - 0s 2ms/step - loss: 119034968.0000 - mse: 119034968.0000\nEpoch 186/200\n2/2 [==============================] - 0s 2ms/step - loss: 106186920.0000 - mse: 106186920.0000\nEpoch 187/200\n2/2 [==============================] - 0s 3ms/step - loss: 112608416.0000 - mse: 112608416.0000\nEpoch 188/200\n2/2 [==============================] - 0s 2ms/step - loss: 124239088.0000 - mse: 124239088.0000\nEpoch 189/200\n2/2 [==============================] - 0s 2ms/step - loss: 139839088.0000 - mse: 139839088.0000\nEpoch 190/200\n2/2 [==============================] - 0s 3ms/step - loss: 118183632.0000 - mse: 118183632.0000\nEpoch 191/200\n2/2 [==============================] - 0s 3ms/step - loss: 104051360.0000 - mse: 104051360.0000\nEpoch 192/200\n2/2 [==============================] - 0s 2ms/step - loss: 146802736.0000 - mse: 146802736.0000\nEpoch 193/200\n2/2 [==============================] - 0s 2ms/step - loss: 124785360.0000 - mse: 124785360.0000\nEpoch 194/200\n2/2 [==============================] - 0s 3ms/step - loss: 130065968.0000 - mse: 130065968.0000\nEpoch 195/200\n2/2 [==============================] - 0s 2ms/step - loss: 112627736.0000 - mse: 112627736.0000\nEpoch 196/200\n2/2 [==============================] - 0s 2ms/step - loss: 139513056.0000 - mse: 139513056.0000\nEpoch 197/200\n2/2 [==============================] - 0s 3ms/step - loss: 121714096.0000 - mse: 121714096.0000\nEpoch 198/200\n2/2 [==============================] - 0s 2ms/step - loss: 104905168.0000 - mse: 104905152.0000\nEpoch 199/200\n2/2 [==============================] - 0s 2ms/step - loss: 128237912.0000 - mse: 128237912.0000\nEpoch 200/200\n2/2 [==============================] - 0s 3ms/step - loss: 131333088.0000 - mse: 131333088.0000\n"
    }
   ],
   "source": [
    "history = model_no_convolucional.fit(x = X_train, y = y_train, epochs=200, verbose=1)"
   ]
  },
  {
   "cell_type": "code",
   "execution_count": 11,
   "metadata": {},
   "outputs": [
    {
     "output_type": "execute_result",
     "data": {
      "text/plain": "104051360.0"
     },
     "metadata": {},
     "execution_count": 11
    }
   ],
   "source": [
    "#Getting the smallest mse \n",
    "min(history.history['mse'])"
   ]
  },
  {
   "cell_type": "code",
   "execution_count": 12,
   "metadata": {
    "tags": []
   },
   "outputs": [
    {
     "output_type": "stream",
     "name": "stdout",
     "text": "dict_keys([&#39;loss&#39;, &#39;mse&#39;])\n"
    },
    {
     "output_type": "display_data",
     "data": {
      "text/plain": "&lt;Figure size 432x288 with 1 Axes&gt;",
      "image/svg+xml": "<?xml version=\"1.0\" encoding=\"utf-8\" standalone=\"no\"?>\r\n<!DOCTYPE svg PUBLIC \"-//W3C//DTD SVG 1.1//EN\"\r\n  \"http://www.w3.org/Graphics/SVG/1.1/DTD/svg11.dtd\">\r\n<!-- Created with matplotlib (https://matplotlib.org/) -->\r\n<svg height=\"277.314375pt\" version=\"1.1\" viewBox=\"0 0 385.78125 277.314375\" width=\"385.78125pt\" xmlns=\"http://www.w3.org/2000/svg\" xmlns:xlink=\"http://www.w3.org/1999/xlink\">\r\n <defs>\r\n  <style type=\"text/css\">\r\n*{stroke-linecap:butt;stroke-linejoin:round;}\r\n  </style>\r\n </defs>\r\n <g id=\"figure_1\">\r\n  <g id=\"patch_1\">\r\n   <path d=\"M 0 277.314375 \r\nL 385.78125 277.314375 \r\nL 385.78125 0 \r\nL 0 0 \r\nz\r\n\" style=\"fill:none;\"/>\r\n  </g>\r\n  <g id=\"axes_1\">\r\n   <g id=\"patch_2\">\r\n    <path d=\"M 43.78125 239.758125 \r\nL 378.58125 239.758125 \r\nL 378.58125 22.318125 \r\nL 43.78125 22.318125 \r\nz\r\n\" style=\"fill:#ffffff;\"/>\r\n   </g>\r\n   <g id=\"matplotlib.axis_1\">\r\n    <g id=\"xtick_1\">\r\n     <g id=\"line2d_1\">\r\n      <defs>\r\n       <path d=\"M 0 0 \r\nL 0 3.5 \r\n\" id=\"m6ee10f719b\" style=\"stroke:#000000;stroke-width:0.8;\"/>\r\n      </defs>\r\n      <g>\r\n       <use style=\"stroke:#000000;stroke-width:0.8;\" x=\"58.999432\" xlink:href=\"#m6ee10f719b\" y=\"239.758125\"/>\r\n      </g>\r\n     </g>\r\n     <g id=\"text_1\">\r\n      <!-- 0 -->\r\n      <defs>\r\n       <path d=\"M 31.78125 66.40625 \r\nQ 24.171875 66.40625 20.328125 58.90625 \r\nQ 16.5 51.421875 16.5 36.375 \r\nQ 16.5 21.390625 20.328125 13.890625 \r\nQ 24.171875 6.390625 31.78125 6.390625 \r\nQ 39.453125 6.390625 43.28125 13.890625 \r\nQ 47.125 21.390625 47.125 36.375 \r\nQ 47.125 51.421875 43.28125 58.90625 \r\nQ 39.453125 66.40625 31.78125 66.40625 \r\nz\r\nM 31.78125 74.21875 \r\nQ 44.046875 74.21875 50.515625 64.515625 \r\nQ 56.984375 54.828125 56.984375 36.375 \r\nQ 56.984375 17.96875 50.515625 8.265625 \r\nQ 44.046875 -1.421875 31.78125 -1.421875 \r\nQ 19.53125 -1.421875 13.0625 8.265625 \r\nQ 6.59375 17.96875 6.59375 36.375 \r\nQ 6.59375 54.828125 13.0625 64.515625 \r\nQ 19.53125 74.21875 31.78125 74.21875 \r\nz\r\n\" id=\"DejaVuSans-48\"/>\r\n      </defs>\r\n      <g transform=\"translate(55.818182 254.356562)scale(0.1 -0.1)\">\r\n       <use xlink:href=\"#DejaVuSans-48\"/>\r\n      </g>\r\n     </g>\r\n    </g>\r\n    <g id=\"xtick_2\">\r\n     <g id=\"line2d_2\">\r\n      <g>\r\n       <use style=\"stroke:#000000;stroke-width:0.8;\" x=\"97.23607\" xlink:href=\"#m6ee10f719b\" y=\"239.758125\"/>\r\n      </g>\r\n     </g>\r\n     <g id=\"text_2\">\r\n      <!-- 25 -->\r\n      <defs>\r\n       <path d=\"M 19.1875 8.296875 \r\nL 53.609375 8.296875 \r\nL 53.609375 0 \r\nL 7.328125 0 \r\nL 7.328125 8.296875 \r\nQ 12.9375 14.109375 22.625 23.890625 \r\nQ 32.328125 33.6875 34.8125 36.53125 \r\nQ 39.546875 41.84375 41.421875 45.53125 \r\nQ 43.3125 49.21875 43.3125 52.78125 \r\nQ 43.3125 58.59375 39.234375 62.25 \r\nQ 35.15625 65.921875 28.609375 65.921875 \r\nQ 23.96875 65.921875 18.8125 64.3125 \r\nQ 13.671875 62.703125 7.8125 59.421875 \r\nL 7.8125 69.390625 \r\nQ 13.765625 71.78125 18.9375 73 \r\nQ 24.125 74.21875 28.421875 74.21875 \r\nQ 39.75 74.21875 46.484375 68.546875 \r\nQ 53.21875 62.890625 53.21875 53.421875 \r\nQ 53.21875 48.921875 51.53125 44.890625 \r\nQ 49.859375 40.875 45.40625 35.40625 \r\nQ 44.1875 33.984375 37.640625 27.21875 \r\nQ 31.109375 20.453125 19.1875 8.296875 \r\nz\r\n\" id=\"DejaVuSans-50\"/>\r\n       <path d=\"M 10.796875 72.90625 \r\nL 49.515625 72.90625 \r\nL 49.515625 64.59375 \r\nL 19.828125 64.59375 \r\nL 19.828125 46.734375 \r\nQ 21.96875 47.46875 24.109375 47.828125 \r\nQ 26.265625 48.1875 28.421875 48.1875 \r\nQ 40.625 48.1875 47.75 41.5 \r\nQ 54.890625 34.8125 54.890625 23.390625 \r\nQ 54.890625 11.625 47.5625 5.09375 \r\nQ 40.234375 -1.421875 26.90625 -1.421875 \r\nQ 22.3125 -1.421875 17.546875 -0.640625 \r\nQ 12.796875 0.140625 7.71875 1.703125 \r\nL 7.71875 11.625 \r\nQ 12.109375 9.234375 16.796875 8.0625 \r\nQ 21.484375 6.890625 26.703125 6.890625 \r\nQ 35.15625 6.890625 40.078125 11.328125 \r\nQ 45.015625 15.765625 45.015625 23.390625 \r\nQ 45.015625 31 40.078125 35.4375 \r\nQ 35.15625 39.890625 26.703125 39.890625 \r\nQ 22.75 39.890625 18.8125 39.015625 \r\nQ 14.890625 38.140625 10.796875 36.28125 \r\nz\r\n\" id=\"DejaVuSans-53\"/>\r\n      </defs>\r\n      <g transform=\"translate(90.87357 254.356562)scale(0.1 -0.1)\">\r\n       <use xlink:href=\"#DejaVuSans-50\"/>\r\n       <use x=\"63.623047\" xlink:href=\"#DejaVuSans-53\"/>\r\n      </g>\r\n     </g>\r\n    </g>\r\n    <g id=\"xtick_3\">\r\n     <g id=\"line2d_3\">\r\n      <g>\r\n       <use style=\"stroke:#000000;stroke-width:0.8;\" x=\"135.472707\" xlink:href=\"#m6ee10f719b\" y=\"239.758125\"/>\r\n      </g>\r\n     </g>\r\n     <g id=\"text_3\">\r\n      <!-- 50 -->\r\n      <g transform=\"translate(129.110207 254.356562)scale(0.1 -0.1)\">\r\n       <use xlink:href=\"#DejaVuSans-53\"/>\r\n       <use x=\"63.623047\" xlink:href=\"#DejaVuSans-48\"/>\r\n      </g>\r\n     </g>\r\n    </g>\r\n    <g id=\"xtick_4\">\r\n     <g id=\"line2d_4\">\r\n      <g>\r\n       <use style=\"stroke:#000000;stroke-width:0.8;\" x=\"173.709345\" xlink:href=\"#m6ee10f719b\" y=\"239.758125\"/>\r\n      </g>\r\n     </g>\r\n     <g id=\"text_4\">\r\n      <!-- 75 -->\r\n      <defs>\r\n       <path d=\"M 8.203125 72.90625 \r\nL 55.078125 72.90625 \r\nL 55.078125 68.703125 \r\nL 28.609375 0 \r\nL 18.3125 0 \r\nL 43.21875 64.59375 \r\nL 8.203125 64.59375 \r\nz\r\n\" id=\"DejaVuSans-55\"/>\r\n      </defs>\r\n      <g transform=\"translate(167.346845 254.356562)scale(0.1 -0.1)\">\r\n       <use xlink:href=\"#DejaVuSans-55\"/>\r\n       <use x=\"63.623047\" xlink:href=\"#DejaVuSans-53\"/>\r\n      </g>\r\n     </g>\r\n    </g>\r\n    <g id=\"xtick_5\">\r\n     <g id=\"line2d_5\">\r\n      <g>\r\n       <use style=\"stroke:#000000;stroke-width:0.8;\" x=\"211.945983\" xlink:href=\"#m6ee10f719b\" y=\"239.758125\"/>\r\n      </g>\r\n     </g>\r\n     <g id=\"text_5\">\r\n      <!-- 100 -->\r\n      <defs>\r\n       <path d=\"M 12.40625 8.296875 \r\nL 28.515625 8.296875 \r\nL 28.515625 63.921875 \r\nL 10.984375 60.40625 \r\nL 10.984375 69.390625 \r\nL 28.421875 72.90625 \r\nL 38.28125 72.90625 \r\nL 38.28125 8.296875 \r\nL 54.390625 8.296875 \r\nL 54.390625 0 \r\nL 12.40625 0 \r\nz\r\n\" id=\"DejaVuSans-49\"/>\r\n      </defs>\r\n      <g transform=\"translate(202.402233 254.356562)scale(0.1 -0.1)\">\r\n       <use xlink:href=\"#DejaVuSans-49\"/>\r\n       <use x=\"63.623047\" xlink:href=\"#DejaVuSans-48\"/>\r\n       <use x=\"127.246094\" xlink:href=\"#DejaVuSans-48\"/>\r\n      </g>\r\n     </g>\r\n    </g>\r\n    <g id=\"xtick_6\">\r\n     <g id=\"line2d_6\">\r\n      <g>\r\n       <use style=\"stroke:#000000;stroke-width:0.8;\" x=\"250.18262\" xlink:href=\"#m6ee10f719b\" y=\"239.758125\"/>\r\n      </g>\r\n     </g>\r\n     <g id=\"text_6\">\r\n      <!-- 125 -->\r\n      <g transform=\"translate(240.63887 254.356562)scale(0.1 -0.1)\">\r\n       <use xlink:href=\"#DejaVuSans-49\"/>\r\n       <use x=\"63.623047\" xlink:href=\"#DejaVuSans-50\"/>\r\n       <use x=\"127.246094\" xlink:href=\"#DejaVuSans-53\"/>\r\n      </g>\r\n     </g>\r\n    </g>\r\n    <g id=\"xtick_7\">\r\n     <g id=\"line2d_7\">\r\n      <g>\r\n       <use style=\"stroke:#000000;stroke-width:0.8;\" x=\"288.419258\" xlink:href=\"#m6ee10f719b\" y=\"239.758125\"/>\r\n      </g>\r\n     </g>\r\n     <g id=\"text_7\">\r\n      <!-- 150 -->\r\n      <g transform=\"translate(278.875508 254.356562)scale(0.1 -0.1)\">\r\n       <use xlink:href=\"#DejaVuSans-49\"/>\r\n       <use x=\"63.623047\" xlink:href=\"#DejaVuSans-53\"/>\r\n       <use x=\"127.246094\" xlink:href=\"#DejaVuSans-48\"/>\r\n      </g>\r\n     </g>\r\n    </g>\r\n    <g id=\"xtick_8\">\r\n     <g id=\"line2d_8\">\r\n      <g>\r\n       <use style=\"stroke:#000000;stroke-width:0.8;\" x=\"326.655896\" xlink:href=\"#m6ee10f719b\" y=\"239.758125\"/>\r\n      </g>\r\n     </g>\r\n     <g id=\"text_8\">\r\n      <!-- 175 -->\r\n      <g transform=\"translate(317.112146 254.356562)scale(0.1 -0.1)\">\r\n       <use xlink:href=\"#DejaVuSans-49\"/>\r\n       <use x=\"63.623047\" xlink:href=\"#DejaVuSans-55\"/>\r\n       <use x=\"127.246094\" xlink:href=\"#DejaVuSans-53\"/>\r\n      </g>\r\n     </g>\r\n    </g>\r\n    <g id=\"xtick_9\">\r\n     <g id=\"line2d_9\">\r\n      <g>\r\n       <use style=\"stroke:#000000;stroke-width:0.8;\" x=\"364.892534\" xlink:href=\"#m6ee10f719b\" y=\"239.758125\"/>\r\n      </g>\r\n     </g>\r\n     <g id=\"text_9\">\r\n      <!-- 200 -->\r\n      <g transform=\"translate(355.348784 254.356562)scale(0.1 -0.1)\">\r\n       <use xlink:href=\"#DejaVuSans-50\"/>\r\n       <use x=\"63.623047\" xlink:href=\"#DejaVuSans-48\"/>\r\n       <use x=\"127.246094\" xlink:href=\"#DejaVuSans-48\"/>\r\n      </g>\r\n     </g>\r\n    </g>\r\n    <g id=\"text_10\">\r\n     <!-- epoch -->\r\n     <defs>\r\n      <path d=\"M 56.203125 29.59375 \r\nL 56.203125 25.203125 \r\nL 14.890625 25.203125 \r\nQ 15.484375 15.921875 20.484375 11.0625 \r\nQ 25.484375 6.203125 34.421875 6.203125 \r\nQ 39.59375 6.203125 44.453125 7.46875 \r\nQ 49.3125 8.734375 54.109375 11.28125 \r\nL 54.109375 2.78125 \r\nQ 49.265625 0.734375 44.1875 -0.34375 \r\nQ 39.109375 -1.421875 33.890625 -1.421875 \r\nQ 20.796875 -1.421875 13.15625 6.1875 \r\nQ 5.515625 13.8125 5.515625 26.8125 \r\nQ 5.515625 40.234375 12.765625 48.109375 \r\nQ 20.015625 56 32.328125 56 \r\nQ 43.359375 56 49.78125 48.890625 \r\nQ 56.203125 41.796875 56.203125 29.59375 \r\nz\r\nM 47.21875 32.234375 \r\nQ 47.125 39.59375 43.09375 43.984375 \r\nQ 39.0625 48.390625 32.421875 48.390625 \r\nQ 24.90625 48.390625 20.390625 44.140625 \r\nQ 15.875 39.890625 15.1875 32.171875 \r\nz\r\n\" id=\"DejaVuSans-101\"/>\r\n      <path d=\"M 18.109375 8.203125 \r\nL 18.109375 -20.796875 \r\nL 9.078125 -20.796875 \r\nL 9.078125 54.6875 \r\nL 18.109375 54.6875 \r\nL 18.109375 46.390625 \r\nQ 20.953125 51.265625 25.265625 53.625 \r\nQ 29.59375 56 35.59375 56 \r\nQ 45.5625 56 51.78125 48.09375 \r\nQ 58.015625 40.1875 58.015625 27.296875 \r\nQ 58.015625 14.40625 51.78125 6.484375 \r\nQ 45.5625 -1.421875 35.59375 -1.421875 \r\nQ 29.59375 -1.421875 25.265625 0.953125 \r\nQ 20.953125 3.328125 18.109375 8.203125 \r\nz\r\nM 48.6875 27.296875 \r\nQ 48.6875 37.203125 44.609375 42.84375 \r\nQ 40.53125 48.484375 33.40625 48.484375 \r\nQ 26.265625 48.484375 22.1875 42.84375 \r\nQ 18.109375 37.203125 18.109375 27.296875 \r\nQ 18.109375 17.390625 22.1875 11.75 \r\nQ 26.265625 6.109375 33.40625 6.109375 \r\nQ 40.53125 6.109375 44.609375 11.75 \r\nQ 48.6875 17.390625 48.6875 27.296875 \r\nz\r\n\" id=\"DejaVuSans-112\"/>\r\n      <path d=\"M 30.609375 48.390625 \r\nQ 23.390625 48.390625 19.1875 42.75 \r\nQ 14.984375 37.109375 14.984375 27.296875 \r\nQ 14.984375 17.484375 19.15625 11.84375 \r\nQ 23.34375 6.203125 30.609375 6.203125 \r\nQ 37.796875 6.203125 41.984375 11.859375 \r\nQ 46.1875 17.53125 46.1875 27.296875 \r\nQ 46.1875 37.015625 41.984375 42.703125 \r\nQ 37.796875 48.390625 30.609375 48.390625 \r\nz\r\nM 30.609375 56 \r\nQ 42.328125 56 49.015625 48.375 \r\nQ 55.71875 40.765625 55.71875 27.296875 \r\nQ 55.71875 13.875 49.015625 6.21875 \r\nQ 42.328125 -1.421875 30.609375 -1.421875 \r\nQ 18.84375 -1.421875 12.171875 6.21875 \r\nQ 5.515625 13.875 5.515625 27.296875 \r\nQ 5.515625 40.765625 12.171875 48.375 \r\nQ 18.84375 56 30.609375 56 \r\nz\r\n\" id=\"DejaVuSans-111\"/>\r\n      <path d=\"M 48.78125 52.59375 \r\nL 48.78125 44.1875 \r\nQ 44.96875 46.296875 41.140625 47.34375 \r\nQ 37.3125 48.390625 33.40625 48.390625 \r\nQ 24.65625 48.390625 19.8125 42.84375 \r\nQ 14.984375 37.3125 14.984375 27.296875 \r\nQ 14.984375 17.28125 19.8125 11.734375 \r\nQ 24.65625 6.203125 33.40625 6.203125 \r\nQ 37.3125 6.203125 41.140625 7.25 \r\nQ 44.96875 8.296875 48.78125 10.40625 \r\nL 48.78125 2.09375 \r\nQ 45.015625 0.34375 40.984375 -0.53125 \r\nQ 36.96875 -1.421875 32.421875 -1.421875 \r\nQ 20.0625 -1.421875 12.78125 6.34375 \r\nQ 5.515625 14.109375 5.515625 27.296875 \r\nQ 5.515625 40.671875 12.859375 48.328125 \r\nQ 20.21875 56 33.015625 56 \r\nQ 37.15625 56 41.109375 55.140625 \r\nQ 45.0625 54.296875 48.78125 52.59375 \r\nz\r\n\" id=\"DejaVuSans-99\"/>\r\n      <path d=\"M 54.890625 33.015625 \r\nL 54.890625 0 \r\nL 45.90625 0 \r\nL 45.90625 32.71875 \r\nQ 45.90625 40.484375 42.875 44.328125 \r\nQ 39.84375 48.1875 33.796875 48.1875 \r\nQ 26.515625 48.1875 22.3125 43.546875 \r\nQ 18.109375 38.921875 18.109375 30.90625 \r\nL 18.109375 0 \r\nL 9.078125 0 \r\nL 9.078125 75.984375 \r\nL 18.109375 75.984375 \r\nL 18.109375 46.1875 \r\nQ 21.34375 51.125 25.703125 53.5625 \r\nQ 30.078125 56 35.796875 56 \r\nQ 45.21875 56 50.046875 50.171875 \r\nQ 54.890625 44.34375 54.890625 33.015625 \r\nz\r\n\" id=\"DejaVuSans-104\"/>\r\n     </defs>\r\n     <g transform=\"translate(195.953125 268.034687)scale(0.1 -0.1)\">\r\n      <use xlink:href=\"#DejaVuSans-101\"/>\r\n      <use x=\"61.523438\" xlink:href=\"#DejaVuSans-112\"/>\r\n      <use x=\"125\" xlink:href=\"#DejaVuSans-111\"/>\r\n      <use x=\"186.181641\" xlink:href=\"#DejaVuSans-99\"/>\r\n      <use x=\"241.162109\" xlink:href=\"#DejaVuSans-104\"/>\r\n     </g>\r\n    </g>\r\n   </g>\r\n   <g id=\"matplotlib.axis_2\">\r\n    <g id=\"ytick_1\">\r\n     <g id=\"line2d_10\">\r\n      <defs>\r\n       <path d=\"M 0 0 \r\nL -3.5 0 \r\n\" id=\"ma72948b5d2\" style=\"stroke:#000000;stroke-width:0.8;\"/>\r\n      </defs>\r\n      <g>\r\n       <use style=\"stroke:#000000;stroke-width:0.8;\" x=\"43.78125\" xlink:href=\"#ma72948b5d2\" y=\"230.024938\"/>\r\n      </g>\r\n     </g>\r\n     <g id=\"text_11\">\r\n      <!-- 0.0 -->\r\n      <defs>\r\n       <path d=\"M 10.6875 12.40625 \r\nL 21 12.40625 \r\nL 21 0 \r\nL 10.6875 0 \r\nz\r\n\" id=\"DejaVuSans-46\"/>\r\n      </defs>\r\n      <g transform=\"translate(20.878125 233.824157)scale(0.1 -0.1)\">\r\n       <use xlink:href=\"#DejaVuSans-48\"/>\r\n       <use x=\"63.623047\" xlink:href=\"#DejaVuSans-46\"/>\r\n       <use x=\"95.410156\" xlink:href=\"#DejaVuSans-48\"/>\r\n      </g>\r\n     </g>\r\n    </g>\r\n    <g id=\"ytick_2\">\r\n     <g id=\"line2d_11\">\r\n      <g>\r\n       <use style=\"stroke:#000000;stroke-width:0.8;\" x=\"43.78125\" xlink:href=\"#ma72948b5d2\" y=\"201.106637\"/>\r\n      </g>\r\n     </g>\r\n     <g id=\"text_12\">\r\n      <!-- 0.2 -->\r\n      <g transform=\"translate(20.878125 204.905856)scale(0.1 -0.1)\">\r\n       <use xlink:href=\"#DejaVuSans-48\"/>\r\n       <use x=\"63.623047\" xlink:href=\"#DejaVuSans-46\"/>\r\n       <use x=\"95.410156\" xlink:href=\"#DejaVuSans-50\"/>\r\n      </g>\r\n     </g>\r\n    </g>\r\n    <g id=\"ytick_3\">\r\n     <g id=\"line2d_12\">\r\n      <g>\r\n       <use style=\"stroke:#000000;stroke-width:0.8;\" x=\"43.78125\" xlink:href=\"#ma72948b5d2\" y=\"172.188336\"/>\r\n      </g>\r\n     </g>\r\n     <g id=\"text_13\">\r\n      <!-- 0.4 -->\r\n      <defs>\r\n       <path d=\"M 37.796875 64.3125 \r\nL 12.890625 25.390625 \r\nL 37.796875 25.390625 \r\nz\r\nM 35.203125 72.90625 \r\nL 47.609375 72.90625 \r\nL 47.609375 25.390625 \r\nL 58.015625 25.390625 \r\nL 58.015625 17.1875 \r\nL 47.609375 17.1875 \r\nL 47.609375 0 \r\nL 37.796875 0 \r\nL 37.796875 17.1875 \r\nL 4.890625 17.1875 \r\nL 4.890625 26.703125 \r\nz\r\n\" id=\"DejaVuSans-52\"/>\r\n      </defs>\r\n      <g transform=\"translate(20.878125 175.987555)scale(0.1 -0.1)\">\r\n       <use xlink:href=\"#DejaVuSans-48\"/>\r\n       <use x=\"63.623047\" xlink:href=\"#DejaVuSans-46\"/>\r\n       <use x=\"95.410156\" xlink:href=\"#DejaVuSans-52\"/>\r\n      </g>\r\n     </g>\r\n    </g>\r\n    <g id=\"ytick_4\">\r\n     <g id=\"line2d_13\">\r\n      <g>\r\n       <use style=\"stroke:#000000;stroke-width:0.8;\" x=\"43.78125\" xlink:href=\"#ma72948b5d2\" y=\"143.270036\"/>\r\n      </g>\r\n     </g>\r\n     <g id=\"text_14\">\r\n      <!-- 0.6 -->\r\n      <defs>\r\n       <path d=\"M 33.015625 40.375 \r\nQ 26.375 40.375 22.484375 35.828125 \r\nQ 18.609375 31.296875 18.609375 23.390625 \r\nQ 18.609375 15.53125 22.484375 10.953125 \r\nQ 26.375 6.390625 33.015625 6.390625 \r\nQ 39.65625 6.390625 43.53125 10.953125 \r\nQ 47.40625 15.53125 47.40625 23.390625 \r\nQ 47.40625 31.296875 43.53125 35.828125 \r\nQ 39.65625 40.375 33.015625 40.375 \r\nz\r\nM 52.59375 71.296875 \r\nL 52.59375 62.3125 \r\nQ 48.875 64.0625 45.09375 64.984375 \r\nQ 41.3125 65.921875 37.59375 65.921875 \r\nQ 27.828125 65.921875 22.671875 59.328125 \r\nQ 17.53125 52.734375 16.796875 39.40625 \r\nQ 19.671875 43.65625 24.015625 45.921875 \r\nQ 28.375 48.1875 33.59375 48.1875 \r\nQ 44.578125 48.1875 50.953125 41.515625 \r\nQ 57.328125 34.859375 57.328125 23.390625 \r\nQ 57.328125 12.15625 50.6875 5.359375 \r\nQ 44.046875 -1.421875 33.015625 -1.421875 \r\nQ 20.359375 -1.421875 13.671875 8.265625 \r\nQ 6.984375 17.96875 6.984375 36.375 \r\nQ 6.984375 53.65625 15.1875 63.9375 \r\nQ 23.390625 74.21875 37.203125 74.21875 \r\nQ 40.921875 74.21875 44.703125 73.484375 \r\nQ 48.484375 72.75 52.59375 71.296875 \r\nz\r\n\" id=\"DejaVuSans-54\"/>\r\n      </defs>\r\n      <g transform=\"translate(20.878125 147.069254)scale(0.1 -0.1)\">\r\n       <use xlink:href=\"#DejaVuSans-48\"/>\r\n       <use x=\"63.623047\" xlink:href=\"#DejaVuSans-46\"/>\r\n       <use x=\"95.410156\" xlink:href=\"#DejaVuSans-54\"/>\r\n      </g>\r\n     </g>\r\n    </g>\r\n    <g id=\"ytick_5\">\r\n     <g id=\"line2d_14\">\r\n      <g>\r\n       <use style=\"stroke:#000000;stroke-width:0.8;\" x=\"43.78125\" xlink:href=\"#ma72948b5d2\" y=\"114.351735\"/>\r\n      </g>\r\n     </g>\r\n     <g id=\"text_15\">\r\n      <!-- 0.8 -->\r\n      <defs>\r\n       <path d=\"M 31.78125 34.625 \r\nQ 24.75 34.625 20.71875 30.859375 \r\nQ 16.703125 27.09375 16.703125 20.515625 \r\nQ 16.703125 13.921875 20.71875 10.15625 \r\nQ 24.75 6.390625 31.78125 6.390625 \r\nQ 38.8125 6.390625 42.859375 10.171875 \r\nQ 46.921875 13.96875 46.921875 20.515625 \r\nQ 46.921875 27.09375 42.890625 30.859375 \r\nQ 38.875 34.625 31.78125 34.625 \r\nz\r\nM 21.921875 38.8125 \r\nQ 15.578125 40.375 12.03125 44.71875 \r\nQ 8.5 49.078125 8.5 55.328125 \r\nQ 8.5 64.0625 14.71875 69.140625 \r\nQ 20.953125 74.21875 31.78125 74.21875 \r\nQ 42.671875 74.21875 48.875 69.140625 \r\nQ 55.078125 64.0625 55.078125 55.328125 \r\nQ 55.078125 49.078125 51.53125 44.71875 \r\nQ 48 40.375 41.703125 38.8125 \r\nQ 48.828125 37.15625 52.796875 32.3125 \r\nQ 56.78125 27.484375 56.78125 20.515625 \r\nQ 56.78125 9.90625 50.3125 4.234375 \r\nQ 43.84375 -1.421875 31.78125 -1.421875 \r\nQ 19.734375 -1.421875 13.25 4.234375 \r\nQ 6.78125 9.90625 6.78125 20.515625 \r\nQ 6.78125 27.484375 10.78125 32.3125 \r\nQ 14.796875 37.15625 21.921875 38.8125 \r\nz\r\nM 18.3125 54.390625 \r\nQ 18.3125 48.734375 21.84375 45.5625 \r\nQ 25.390625 42.390625 31.78125 42.390625 \r\nQ 38.140625 42.390625 41.71875 45.5625 \r\nQ 45.3125 48.734375 45.3125 54.390625 \r\nQ 45.3125 60.0625 41.71875 63.234375 \r\nQ 38.140625 66.40625 31.78125 66.40625 \r\nQ 25.390625 66.40625 21.84375 63.234375 \r\nQ 18.3125 60.0625 18.3125 54.390625 \r\nz\r\n\" id=\"DejaVuSans-56\"/>\r\n      </defs>\r\n      <g transform=\"translate(20.878125 118.150953)scale(0.1 -0.1)\">\r\n       <use xlink:href=\"#DejaVuSans-48\"/>\r\n       <use x=\"63.623047\" xlink:href=\"#DejaVuSans-46\"/>\r\n       <use x=\"95.410156\" xlink:href=\"#DejaVuSans-56\"/>\r\n      </g>\r\n     </g>\r\n    </g>\r\n    <g id=\"ytick_6\">\r\n     <g id=\"line2d_15\">\r\n      <g>\r\n       <use style=\"stroke:#000000;stroke-width:0.8;\" x=\"43.78125\" xlink:href=\"#ma72948b5d2\" y=\"85.433434\"/>\r\n      </g>\r\n     </g>\r\n     <g id=\"text_16\">\r\n      <!-- 1.0 -->\r\n      <g transform=\"translate(20.878125 89.232653)scale(0.1 -0.1)\">\r\n       <use xlink:href=\"#DejaVuSans-49\"/>\r\n       <use x=\"63.623047\" xlink:href=\"#DejaVuSans-46\"/>\r\n       <use x=\"95.410156\" xlink:href=\"#DejaVuSans-48\"/>\r\n      </g>\r\n     </g>\r\n    </g>\r\n    <g id=\"ytick_7\">\r\n     <g id=\"line2d_16\">\r\n      <g>\r\n       <use style=\"stroke:#000000;stroke-width:0.8;\" x=\"43.78125\" xlink:href=\"#ma72948b5d2\" y=\"56.515133\"/>\r\n      </g>\r\n     </g>\r\n     <g id=\"text_17\">\r\n      <!-- 1.2 -->\r\n      <g transform=\"translate(20.878125 60.314352)scale(0.1 -0.1)\">\r\n       <use xlink:href=\"#DejaVuSans-49\"/>\r\n       <use x=\"63.623047\" xlink:href=\"#DejaVuSans-46\"/>\r\n       <use x=\"95.410156\" xlink:href=\"#DejaVuSans-50\"/>\r\n      </g>\r\n     </g>\r\n    </g>\r\n    <g id=\"ytick_8\">\r\n     <g id=\"line2d_17\">\r\n      <g>\r\n       <use style=\"stroke:#000000;stroke-width:0.8;\" x=\"43.78125\" xlink:href=\"#ma72948b5d2\" y=\"27.596832\"/>\r\n      </g>\r\n     </g>\r\n     <g id=\"text_18\">\r\n      <!-- 1.4 -->\r\n      <g transform=\"translate(20.878125 31.396051)scale(0.1 -0.1)\">\r\n       <use xlink:href=\"#DejaVuSans-49\"/>\r\n       <use x=\"63.623047\" xlink:href=\"#DejaVuSans-46\"/>\r\n       <use x=\"95.410156\" xlink:href=\"#DejaVuSans-52\"/>\r\n      </g>\r\n     </g>\r\n    </g>\r\n    <g id=\"text_19\">\r\n     <!-- loss -->\r\n     <defs>\r\n      <path d=\"M 9.421875 75.984375 \r\nL 18.40625 75.984375 \r\nL 18.40625 0 \r\nL 9.421875 0 \r\nz\r\n\" id=\"DejaVuSans-108\"/>\r\n      <path d=\"M 44.28125 53.078125 \r\nL 44.28125 44.578125 \r\nQ 40.484375 46.53125 36.375 47.5 \r\nQ 32.28125 48.484375 27.875 48.484375 \r\nQ 21.1875 48.484375 17.84375 46.4375 \r\nQ 14.5 44.390625 14.5 40.28125 \r\nQ 14.5 37.15625 16.890625 35.375 \r\nQ 19.28125 33.59375 26.515625 31.984375 \r\nL 29.59375 31.296875 \r\nQ 39.15625 29.25 43.1875 25.515625 \r\nQ 47.21875 21.78125 47.21875 15.09375 \r\nQ 47.21875 7.46875 41.1875 3.015625 \r\nQ 35.15625 -1.421875 24.609375 -1.421875 \r\nQ 20.21875 -1.421875 15.453125 -0.5625 \r\nQ 10.6875 0.296875 5.421875 2 \r\nL 5.421875 11.28125 \r\nQ 10.40625 8.6875 15.234375 7.390625 \r\nQ 20.0625 6.109375 24.8125 6.109375 \r\nQ 31.15625 6.109375 34.5625 8.28125 \r\nQ 37.984375 10.453125 37.984375 14.40625 \r\nQ 37.984375 18.0625 35.515625 20.015625 \r\nQ 33.0625 21.96875 24.703125 23.78125 \r\nL 21.578125 24.515625 \r\nQ 13.234375 26.265625 9.515625 29.90625 \r\nQ 5.8125 33.546875 5.8125 39.890625 \r\nQ 5.8125 47.609375 11.28125 51.796875 \r\nQ 16.75 56 26.8125 56 \r\nQ 31.78125 56 36.171875 55.265625 \r\nQ 40.578125 54.546875 44.28125 53.078125 \r\nz\r\n\" id=\"DejaVuSans-115\"/>\r\n     </defs>\r\n     <g transform=\"translate(14.798438 140.695937)rotate(-90)scale(0.1 -0.1)\">\r\n      <use xlink:href=\"#DejaVuSans-108\"/>\r\n      <use x=\"27.783203\" xlink:href=\"#DejaVuSans-111\"/>\r\n      <use x=\"88.964844\" xlink:href=\"#DejaVuSans-115\"/>\r\n      <use x=\"141.064453\" xlink:href=\"#DejaVuSans-115\"/>\r\n     </g>\r\n    </g>\r\n    <g id=\"text_20\">\r\n     <!-- 1e11 -->\r\n     <g transform=\"translate(43.78125 19.318125)scale(0.1 -0.1)\">\r\n      <use xlink:href=\"#DejaVuSans-49\"/>\r\n      <use x=\"63.623047\" xlink:href=\"#DejaVuSans-101\"/>\r\n      <use x=\"125.146484\" xlink:href=\"#DejaVuSans-49\"/>\r\n      <use x=\"188.769531\" xlink:href=\"#DejaVuSans-49\"/>\r\n     </g>\r\n    </g>\r\n   </g>\r\n   <g id=\"line2d_18\">\r\n    <path clip-path=\"url(#p10a79e69ae)\" d=\"M 58.999432 65.96388 \r\nL 60.528897 32.201761 \r\nL 62.058363 178.283527 \r\nL 63.587828 82.601384 \r\nL 65.117294 144.661487 \r\nL 66.646759 166.8429 \r\nL 68.176225 129.279446 \r\nL 69.70569 186.547698 \r\nL 71.235156 153.739061 \r\nL 72.764621 177.278064 \r\nL 74.294087 180.248371 \r\nL 75.823552 166.595507 \r\nL 77.353018 187.897046 \r\nL 78.882483 169.010405 \r\nL 80.411949 191.770533 \r\nL 81.941414 189.373808 \r\nL 83.47088 189.708622 \r\nL 85.000345 193.298814 \r\nL 86.529811 187.455215 \r\nL 88.059276 198.6018 \r\nL 89.588742 193.870216 \r\nL 91.118208 200.487624 \r\nL 92.647673 198.049015 \r\nL 94.177139 201.145586 \r\nL 95.706604 201.696672 \r\nL 97.23607 201.983325 \r\nL 98.765535 202.597006 \r\nL 100.295001 203.600837 \r\nL 101.824466 205.950687 \r\nL 103.353932 204.071043 \r\nL 104.883397 206.876163 \r\nL 106.412863 205.29404 \r\nL 107.942328 207.049738 \r\nL 109.471794 206.772556 \r\nL 111.001259 208.997845 \r\nL 112.530725 207.713987 \r\nL 114.06019 210.221079 \r\nL 115.589656 208.08203 \r\nL 117.119121 211.630404 \r\nL 118.648587 207.662301 \r\nL 120.178052 211.654507 \r\nL 121.707518 209.2664 \r\nL 123.236983 213.8035 \r\nL 124.766449 210.918474 \r\nL 126.295914 213.950158 \r\nL 127.82538 212.746187 \r\nL 129.354845 216.262769 \r\nL 130.884311 213.850574 \r\nL 132.413776 216.304753 \r\nL 133.943242 215.458221 \r\nL 135.472707 217.379841 \r\nL 137.002173 216.55273 \r\nL 138.531638 217.853097 \r\nL 140.061104 217.757729 \r\nL 141.590569 219.28094 \r\nL 143.120035 218.216662 \r\nL 144.6495 219.990929 \r\nL 146.178966 218.651175 \r\nL 147.708431 220.830909 \r\nL 149.237897 218.480741 \r\nL 150.767362 220.759385 \r\nL 152.296828 220.211999 \r\nL 153.826293 221.317246 \r\nL 156.885224 220.607303 \r\nL 158.41469 221.612924 \r\nL 159.944155 221.355151 \r\nL 161.473621 221.751127 \r\nL 163.003086 222.962564 \r\nL 166.062017 223.824076 \r\nL 167.591483 223.972635 \r\nL 169.120948 224.23492 \r\nL 170.650414 224.122159 \r\nL 172.17988 224.527656 \r\nL 173.709345 224.511301 \r\nL 175.238811 224.894882 \r\nL 176.768276 224.959904 \r\nL 178.297742 225.561397 \r\nL 181.356673 225.709062 \r\nL 187.474535 226.491648 \r\nL 189.004 226.566688 \r\nL 190.533466 226.784758 \r\nL 195.121862 227.019981 \r\nL 196.651328 227.336193 \r\nL 202.76919 227.732321 \r\nL 208.887052 228.131427 \r\nL 211.945983 228.187068 \r\nL 213.475448 228.3325 \r\nL 216.534379 228.48167 \r\nL 221.122776 228.665976 \r\nL 224.181707 228.775551 \r\nL 230.299569 228.96453 \r\nL 244.064758 229.303032 \r\nL 245.594224 229.243829 \r\nL 248.653155 229.405861 \r\nL 256.300483 229.520553 \r\nL 277.713 229.717824 \r\nL 280.771931 229.716915 \r\nL 288.419258 229.729228 \r\nL 363.363068 229.835042 \r\nL 363.363068 229.835042 \r\n\" style=\"fill:none;stroke:#1f77b4;stroke-linecap:square;stroke-width:1.5;\"/>\r\n   </g>\r\n   <g id=\"patch_3\">\r\n    <path d=\"M 43.78125 239.758125 \r\nL 43.78125 22.318125 \r\n\" style=\"fill:none;stroke:#000000;stroke-linecap:square;stroke-linejoin:miter;stroke-width:0.8;\"/>\r\n   </g>\r\n   <g id=\"patch_4\">\r\n    <path d=\"M 378.58125 239.758125 \r\nL 378.58125 22.318125 \r\n\" style=\"fill:none;stroke:#000000;stroke-linecap:square;stroke-linejoin:miter;stroke-width:0.8;\"/>\r\n   </g>\r\n   <g id=\"patch_5\">\r\n    <path d=\"M 43.78125 239.758125 \r\nL 378.58125 239.758125 \r\n\" style=\"fill:none;stroke:#000000;stroke-linecap:square;stroke-linejoin:miter;stroke-width:0.8;\"/>\r\n   </g>\r\n   <g id=\"patch_6\">\r\n    <path d=\"M 43.78125 22.318125 \r\nL 378.58125 22.318125 \r\n\" style=\"fill:none;stroke:#000000;stroke-linecap:square;stroke-linejoin:miter;stroke-width:0.8;\"/>\r\n   </g>\r\n   <g id=\"text_21\">\r\n    <!-- model loss -->\r\n    <defs>\r\n     <path d=\"M 52 44.1875 \r\nQ 55.375 50.25 60.0625 53.125 \r\nQ 64.75 56 71.09375 56 \r\nQ 79.640625 56 84.28125 50.015625 \r\nQ 88.921875 44.046875 88.921875 33.015625 \r\nL 88.921875 0 \r\nL 79.890625 0 \r\nL 79.890625 32.71875 \r\nQ 79.890625 40.578125 77.09375 44.375 \r\nQ 74.3125 48.1875 68.609375 48.1875 \r\nQ 61.625 48.1875 57.5625 43.546875 \r\nQ 53.515625 38.921875 53.515625 30.90625 \r\nL 53.515625 0 \r\nL 44.484375 0 \r\nL 44.484375 32.71875 \r\nQ 44.484375 40.625 41.703125 44.40625 \r\nQ 38.921875 48.1875 33.109375 48.1875 \r\nQ 26.21875 48.1875 22.15625 43.53125 \r\nQ 18.109375 38.875 18.109375 30.90625 \r\nL 18.109375 0 \r\nL 9.078125 0 \r\nL 9.078125 54.6875 \r\nL 18.109375 54.6875 \r\nL 18.109375 46.1875 \r\nQ 21.1875 51.21875 25.484375 53.609375 \r\nQ 29.78125 56 35.6875 56 \r\nQ 41.65625 56 45.828125 52.96875 \r\nQ 50 49.953125 52 44.1875 \r\nz\r\n\" id=\"DejaVuSans-109\"/>\r\n     <path d=\"M 45.40625 46.390625 \r\nL 45.40625 75.984375 \r\nL 54.390625 75.984375 \r\nL 54.390625 0 \r\nL 45.40625 0 \r\nL 45.40625 8.203125 \r\nQ 42.578125 3.328125 38.25 0.953125 \r\nQ 33.9375 -1.421875 27.875 -1.421875 \r\nQ 17.96875 -1.421875 11.734375 6.484375 \r\nQ 5.515625 14.40625 5.515625 27.296875 \r\nQ 5.515625 40.1875 11.734375 48.09375 \r\nQ 17.96875 56 27.875 56 \r\nQ 33.9375 56 38.25 53.625 \r\nQ 42.578125 51.265625 45.40625 46.390625 \r\nz\r\nM 14.796875 27.296875 \r\nQ 14.796875 17.390625 18.875 11.75 \r\nQ 22.953125 6.109375 30.078125 6.109375 \r\nQ 37.203125 6.109375 41.296875 11.75 \r\nQ 45.40625 17.390625 45.40625 27.296875 \r\nQ 45.40625 37.203125 41.296875 42.84375 \r\nQ 37.203125 48.484375 30.078125 48.484375 \r\nQ 22.953125 48.484375 18.875 42.84375 \r\nQ 14.796875 37.203125 14.796875 27.296875 \r\nz\r\n\" id=\"DejaVuSans-100\"/>\r\n     <path id=\"DejaVuSans-32\"/>\r\n    </defs>\r\n    <g transform=\"translate(179.001563 16.318125)scale(0.12 -0.12)\">\r\n     <use xlink:href=\"#DejaVuSans-109\"/>\r\n     <use x=\"97.412109\" xlink:href=\"#DejaVuSans-111\"/>\r\n     <use x=\"158.59375\" xlink:href=\"#DejaVuSans-100\"/>\r\n     <use x=\"222.070312\" xlink:href=\"#DejaVuSans-101\"/>\r\n     <use x=\"283.59375\" xlink:href=\"#DejaVuSans-108\"/>\r\n     <use x=\"311.376953\" xlink:href=\"#DejaVuSans-32\"/>\r\n     <use x=\"343.164062\" xlink:href=\"#DejaVuSans-108\"/>\r\n     <use x=\"370.947266\" xlink:href=\"#DejaVuSans-111\"/>\r\n     <use x=\"432.128906\" xlink:href=\"#DejaVuSans-115\"/>\r\n     <use x=\"484.228516\" xlink:href=\"#DejaVuSans-115\"/>\r\n    </g>\r\n   </g>\r\n  </g>\r\n </g>\r\n <defs>\r\n  <clipPath id=\"p10a79e69ae\">\r\n   <rect height=\"217.44\" width=\"334.8\" x=\"43.78125\" y=\"22.318125\"/>\r\n  </clipPath>\r\n </defs>\r\n</svg>\r\n",
      "image/png": "[encoded data removed]"
     },
     "metadata": {
      "needs_background": "light"
     }
    }
   ],
   "source": [
    "print(history.history.keys())\n",
    "# \"Loss\"\n",
    "plt.plot(history.history['loss'])\n",
    "plt.title('model loss')\n",
    "plt.ylabel('loss')\n",
    "plt.xlabel('epoch')\n",
    "plt.show()"
   ]
  },
  {
   "cell_type": "code",
   "execution_count": 67,
   "metadata": {},
   "outputs": [
    {
     "output_type": "execute_result",
     "data": {
      "text/plain": "array([[14661],\n       [14866],\n       [14319],\n       [14249]], dtype=int64)"
     },
     "metadata": {},
     "execution_count": 67
    }
   ],
   "source": [
    "y_test"
   ]
  },
  {
   "cell_type": "code",
   "execution_count": 9,
   "metadata": {
    "tags": []
   },
   "outputs": [
    {
     "output_type": "stream",
     "name": "stdout",
     "text": "[[-487768. ]\n [-498772.5]\n [-532224. ]\n [-568230. ]]\n"
    }
   ],
   "source": [
    "y_pred = model_no_convolucional.predict(X_test)\n",
    "print(y_pred)"
   ]
  },
  {
   "source": [
    "¿Se aproxima al número real? \n",
    "\n",
    "No"
   ],
   "cell_type": "markdown",
   "metadata": {}
  },
  {
   "source": [
    "Pregunta 5: Ahora, haz que la red tenga 7 capas con 17,9,4,16,4,4,4 neuronas respectivamente. Utiliza la mejor función de activación y el mejor optimizador. ¿Esta red da mejor resultado? (Si da problema de memoria, prueba a quitar capas.)"
   ],
   "cell_type": "markdown",
   "metadata": {}
  },
  {
   "cell_type": "code",
   "execution_count": 69,
   "metadata": {
    "tags": []
   },
   "outputs": [
    {
     "output_type": "stream",
     "name": "stdout",
     "text": "Model: &quot;sequential_7&quot;\n_________________________________________________________________\nLayer (type)                 Output Shape              Param #   \n=================================================================\ndense_28 (Dense)             (None, 17)                187       \n_________________________________________________________________\ndense_29 (Dense)             (None, 9)                 162       \n_________________________________________________________________\ndense_30 (Dense)             (None, 4)                 40        \n_________________________________________________________________\ndense_31 (Dense)             (None, 16)                80        \n_________________________________________________________________\ndense_32 (Dense)             (None, 4)                 68        \n_________________________________________________________________\ndense_33 (Dense)             (None, 4)                 20        \n_________________________________________________________________\ndense_34 (Dense)             (None, 4)                 20        \n_________________________________________________________________\ndense_35 (Dense)             (None, 1)                 5         \n=================================================================\nTotal params: 582\nTrainable params: 582\nNon-trainable params: 0\n_________________________________________________________________\n"
    }
   ],
   "source": [
    "activator = 'sigmoid'\n",
    "optimizer = 'RMSprop()'\n",
    "\n",
    "model_no_convolucional_1 = tf.keras.Sequential([\n",
    "layers.Dense(17, activation=activator, input_dim=X_train.shape[1]),\n",
    "layers.Dense(9, activation=activator),\n",
    "layers.Dense(4, activation=activator),\n",
    "layers.Dense(16, activation=activator),\n",
    "layers.Dense(4, activation=activator),\n",
    "layers.Dense(4, activation=activator),\n",
    "layers.Dense(4, activation=activator),\n",
    "layers.Dense(1)])\n",
    "\n",
    "optimizer = tf.keras.optimizers.RMSprop()\n",
    "\n",
    "\n",
    "\n",
    "model_no_convolucional_1.compile(loss='mse',\n",
    "            optimizer=optimizer,\n",
    "            metrics=['mse'])\n",
    "\n",
    "model_no_convolucional_1.summary()"
   ]
  },
  {
   "cell_type": "code",
   "execution_count": 70,
   "metadata": {
    "tags": []
   },
   "outputs": [
    {
     "output_type": "stream",
     "name": "stdout",
     "text": "Epoch 1/15\n2/2 [==============================] - 0s 2ms/step - loss: 326148000.0000 - mse: 326148000.0000\nEpoch 2/15\n2/2 [==============================] - 0s 2ms/step - loss: 326147072.0000 - mse: 326147072.0000\nEpoch 3/15\n2/2 [==============================] - 0s 4ms/step - loss: 326146400.0000 - mse: 326146400.0000\nEpoch 4/15\n2/2 [==============================] - 0s 4ms/step - loss: 326145856.0000 - mse: 326145856.0000\nEpoch 5/15\n2/2 [==============================] - 0s 4ms/step - loss: 326145312.0000 - mse: 326145312.0000\nEpoch 6/15\n2/2 [==============================] - 0s 2ms/step - loss: 326144896.0000 - mse: 326144864.0000\nEpoch 7/15\n2/2 [==============================] - 0s 2ms/step - loss: 326144416.0000 - mse: 326144416.0000\nEpoch 8/15\n2/2 [==============================] - 0s 3ms/step - loss: 326143968.0000 - mse: 326143968.0000\nEpoch 9/15\n2/2 [==============================] - 0s 3ms/step - loss: 326143552.0000 - mse: 326143552.0000\nEpoch 10/15\n2/2 [==============================] - 0s 2ms/step - loss: 326143168.0000 - mse: 326143168.0000\nEpoch 11/15\n2/2 [==============================] - 0s 3ms/step - loss: 326142752.0000 - mse: 326142752.0000\nEpoch 12/15\n2/2 [==============================] - 0s 2ms/step - loss: 326142304.0000 - mse: 326142304.0000\nEpoch 13/15\n2/2 [==============================] - 0s 3ms/step - loss: 326141920.0000 - mse: 326141920.0000\nEpoch 14/15\n2/2 [==============================] - 0s 4ms/step - loss: 326141536.0000 - mse: 326141536.0000\nEpoch 15/15\n2/2 [==============================] - 0s 4ms/step - loss: 326141152.0000 - mse: 326141152.0000\n"
    }
   ],
   "source": [
    "history = model_no_convolucional_1.fit(x = X_train, y = y_train, epochs=15, verbose=1)"
   ]
  },
  {
   "cell_type": "code",
   "execution_count": 71,
   "metadata": {},
   "outputs": [
    {
     "output_type": "execute_result",
     "data": {
      "text/plain": "326141152.0"
     },
     "metadata": {},
     "execution_count": 71
    }
   ],
   "source": [
    "min(history.history['mse'])"
   ]
  },
  {
   "cell_type": "code",
   "execution_count": null,
   "metadata": {},
   "outputs": [],
   "source": [
    "new model: mse: 326141152.0\n",
    "previous model:  mse: 326013696.0\n",
    "\n",
    "So no improvement. "
   ]
  },
  {
   "source": [
    "Pregunta 6: Por último, genera una red convolucional con 2 capas convolucionales sin MaxPool, ¿es mejor esta red que las anteriores? Prueba a cambiar la función de activación y el optimizador. ¿Se ha mejorado el resultado? ¿Cuál es mejor?"
   ],
   "cell_type": "markdown",
   "metadata": {}
  },
  {
   "cell_type": "code",
   "execution_count": 101,
   "metadata": {},
   "outputs": [
    {
     "output_type": "execute_result",
     "data": {
      "text/plain": "(51, 10)"
     },
     "metadata": {},
     "execution_count": 101
    }
   ],
   "source": [
    "X_train.shape"
   ]
  },
  {
   "cell_type": "code",
   "execution_count": 104,
   "metadata": {},
   "outputs": [
    {
     "output_type": "execute_result",
     "data": {
      "text/plain": "(51, 10, 1)"
     },
     "metadata": {},
     "execution_count": 104
    }
   ],
   "source": [
    "X_train_1 = X_train.reshape(51, 10, 1)\n",
    "X_train_1.shape"
   ]
  },
  {
   "cell_type": "code",
   "execution_count": 123,
   "metadata": {
    "tags": []
   },
   "outputs": [
    {
     "output_type": "stream",
     "name": "stdout",
     "text": "Model: &quot;sequential_29&quot;\n_________________________________________________________________\nLayer (type)                 Output Shape              Param #   \n=================================================================\ndense_75 (Dense)             (None, 10, 32)            64        \n_________________________________________________________________\nconv1d_38 (Conv1D)           (None, 10, 50)            1650      \n_________________________________________________________________\ndense_76 (Dense)             (None, 10, 32)            1632      \n_________________________________________________________________\nconv1d_39 (Conv1D)           (None, 10, 100)           3300      \n_________________________________________________________________\ndense_77 (Dense)             (None, 10, 17)            1717      \n_________________________________________________________________\ndense_78 (Dense)             (None, 10, 1)             18        \n=================================================================\nTotal params: 8,381\nTrainable params: 8,381\nNon-trainable params: 0\n_________________________________________________________________\n"
    }
   ],
   "source": [
    "#Trying different activators with the optimizer that gave the best results (see below)\n",
    "#activator = 'relu'  #-->  mse: 344030624.0  \n",
    "#activator = 'linear' #--> mse: 323865248.0  * Gives best results * \n",
    "activator = 'sigmoid' #--> mse:  326020544.0\n",
    "\n",
    "#model_convolucional2 = tf.keras.Sequential([\n",
    "#layers.Conv1D(50, 5, activation='relu', batch_input_shape=(None, 10, 1)),\n",
    "#layers.Conv1D(100, 5, activation='relu'),\n",
    "#layers.Dense(1)])\n",
    "\n",
    "\n",
    "model_convolucional2 = tf.keras.Sequential([\n",
    "layers.Dense(32, activation=activator,batch_input_shape=(None, 10, 1)),\n",
    "layers.Conv1D(50, 1, activation='relu'),\n",
    "layers.Dense(32, activation=activator),\n",
    "layers.Conv1D(100, 1, activation='relu'),\n",
    "layers.Dense(17, activation=activator),\n",
    "layers.Dense(1)])\n",
    "\n",
    "\n",
    "#optimizer1 --> mse: 326079392.0   * Gives best results *\n",
    "#optimizer = tf.keras.optimizers.RMSprop()\n",
    "#optimizet2 --> mse: 326083296.0\n",
    "#optimizer = tf.keras.optimizers.Adam()\n",
    "#optimizer3 --> mse: 326104352.0\n",
    "optimizer = tf.keras.optimizers.Adadelta()\n",
    "\n",
    "\n",
    "model_convolucional2.compile(loss='mse',\n",
    "            optimizer=optimizer,\n",
    "            metrics=['mse'])\n",
    "\n",
    "model_convolucional2.summary()\n",
    "# batch_input_shape=(None, 51, 10)"
   ]
  },
  {
   "cell_type": "code",
   "execution_count": 124,
   "metadata": {
    "tags": []
   },
   "outputs": [
    {
     "output_type": "stream",
     "name": "stdout",
     "text": "Epoch 1/15\n2/2 [==============================] - 0s 3ms/step - loss: 326104512.0000 - mse: 326104512.0000\nEpoch 2/15\n2/2 [==============================] - 0s 4ms/step - loss: 326104480.0000 - mse: 326104480.0000\nEpoch 3/15\n2/2 [==============================] - 0s 6ms/step - loss: 326104448.0000 - mse: 326104448.0000\nEpoch 4/15\n2/2 [==============================] - 0s 3ms/step - loss: 326104480.0000 - mse: 326104480.0000\nEpoch 5/15\n2/2 [==============================] - 0s 3ms/step - loss: 326104448.0000 - mse: 326104448.0000\nEpoch 6/15\n2/2 [==============================] - 0s 4ms/step - loss: 326104480.0000 - mse: 326104480.0000\nEpoch 7/15\n2/2 [==============================] - 0s 4ms/step - loss: 326104448.0000 - mse: 326104448.0000\nEpoch 8/15\n2/2 [==============================] - 0s 4ms/step - loss: 326104448.0000 - mse: 326104448.0000\nEpoch 9/15\n2/2 [==============================] - 0s 4ms/step - loss: 326104480.0000 - mse: 326104480.0000\nEpoch 10/15\n2/2 [==============================] - 0s 5ms/step - loss: 326104448.0000 - mse: 326104448.0000\nEpoch 11/15\n2/2 [==============================] - 0s 4ms/step - loss: 326104448.0000 - mse: 326104448.0000\nEpoch 12/15\n2/2 [==============================] - 0s 6ms/step - loss: 326104448.0000 - mse: 326104448.0000\nEpoch 13/15\n2/2 [==============================] - 0s 5ms/step - loss: 326104448.0000 - mse: 326104448.0000\nEpoch 14/15\n2/2 [==============================] - 0s 4ms/step - loss: 326104416.0000 - mse: 326104416.0000\nEpoch 15/15\n2/2 [==============================] - 0s 5ms/step - loss: 326104352.0000 - mse: 326104352.0000\n"
    }
   ],
   "source": [
    "history = model_convolucional2.fit(x = X_train_1, y = y_train, epochs=15, verbose=1)"
   ]
  },
  {
   "cell_type": "code",
   "execution_count": 125,
   "metadata": {},
   "outputs": [
    {
     "output_type": "execute_result",
     "data": {
      "text/plain": "326104352.0"
     },
     "metadata": {},
     "execution_count": 125
    }
   ],
   "source": [
    "min(history.history['mse'])"
   ]
  },
  {
   "source": [
    "¿es mejor esta red que las anteriores? Prueba a cambiar la función de activación y el optimizador. ¿Se ha mejorado el resultado? ¿Cuál es mejor?\n",
    "\n",
    "\n",
    "- The lowest mse with the first model: 326013696\n",
    "- The lowest mse with the second model:326141152.0\n",
    "- The lowest mse with the convential model is: 326020544. \n",
    "\n",
    "\n",
    "The first model had the lowest mse."
   ],
   "cell_type": "markdown",
   "metadata": {}
  },
  {
   "source": [
    "pregunta 7: ¿Qué crees que pasaría si entrenamos la red hasta el año 2000 y predecimos desde el 2000 hasta el 2014? \n",
    "\n",
    "\n",
    "The model will probably give higher mse scores, as it has less data to learn. "
   ],
   "cell_type": "markdown",
   "metadata": {}
  },
  {
   "source": [
    "----------------------"
   ],
   "cell_type": "markdown",
   "metadata": {}
  }
 ]
}