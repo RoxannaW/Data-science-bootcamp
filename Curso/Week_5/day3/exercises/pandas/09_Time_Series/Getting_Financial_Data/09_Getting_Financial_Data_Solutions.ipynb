{
 "cells": [
  {
   "cell_type": "markdown",
   "metadata": {},
   "source": [
    "# Getting Financial Data - Google Finance"
   ]
  },
  {
   "cell_type": "markdown",
   "metadata": {},
   "source": [
    "### Introduction:\n",
    "\n",
    "This time you will get data from a website.\n",
    "\n",
    "\n",
    "### Step 1. Import the necessary libraries"
   ]
  },
  {
   "cell_type": "code",
   "execution_count": 82,
   "metadata": {},
   "outputs": [],
   "source": [
    "import pandas as pd\n",
    "\n",
    "# package to extract data from various Internet sources into a DataFrame\n",
    "# make sure you have it installed\n",
    "from pandas_datareader import data, wb\n",
    "\n",
    "# package for dates\n",
    "import datetime as dt"
   ]
  },
  {
   "cell_type": "markdown",
   "metadata": {},
   "source": [
    "### Step 2. Create your time range (start and end variables). The start date should be 01/01/2015 and the end should today (whatever your today is)"
   ]
  },
  {
   "cell_type": "code",
   "execution_count": 83,
   "metadata": {
    "collapsed": false
   },
   "outputs": [
    {
     "output_type": "execute_result",
     "data": {
      "text/plain": "DatetimeIndex(['2015-01-01', '2015-01-02', '2015-01-03', '2015-01-04',\n               '2015-01-05', '2015-01-06', '2015-01-07', '2015-01-08',\n               '2015-01-09', '2015-01-10',\n               ...\n               '2020-07-19', '2020-07-20', '2020-07-21', '2020-07-22',\n               '2020-07-23', '2020-07-24', '2020-07-25', '2020-07-26',\n               '2020-07-27', '2020-07-28'],\n              dtype='datetime64[ns]', length=2036, freq='D')"
     },
     "metadata": {},
     "execution_count": 83
    }
   ],
   "source": [
    "time = pd.date_range(start='1/1/2015', end='28/07/2020')\n",
    "time"
   ]
  },
  {
   "cell_type": "markdown",
   "metadata": {},
   "source": [
    "### Step 3. Select the Apple, Tesla, Twitter, IBM, LinkedIn stocks symbols and assign them to a variable called stocks"
   ]
  },
  {
   "cell_type": "code",
   "execution_count": 84,
   "metadata": {},
   "outputs": [],
   "source": [
    "stock_symbols = ['AAPL', 'TSLA', 'IBM', 'LNKD']"
   ]
  },
  {
   "cell_type": "code",
   "execution_count": 85,
   "metadata": {},
   "outputs": [
    {
     "output_type": "execute_result",
     "data": {
      "text/plain": "['AAPL', 'TSLA', 'IBM', 'LNKD']"
     },
     "metadata": {},
     "execution_count": 85
    }
   ],
   "source": [
    "stock_symbols"
   ]
  },
  {
   "cell_type": "code",
   "execution_count": 1,
   "metadata": {
    "collapsed": false
   },
   "outputs": [
    {
     "data": {
      "text/plain": [
       "['AAPL', 'TSLA', 'IBM', 'LNKD']"
      ]
     },
     "execution_count": 1,
     "metadata": {},
     "output_type": "execute_result"
    }
   ],
   "source": []
  },
  {
   "cell_type": "markdown",
   "metadata": {},
   "source": [
    "### Step 4. Read the data from google, assign to df and print it"
   ]
  },
  {
   "cell_type": "code",
   "execution_count": 86,
   "metadata": {},
   "outputs": [
    {
     "output_type": "execute_result",
     "data": {
      "text/plain": "      Attributes           Adj Close         Adj Close.1         Adj Close.2  \\\n0        Symbols                AAPL                TSLA                 IBM   \n1           Date                 NaN                 NaN                 NaN   \n2     2015-01-02   100.2164535522461  219.30999755859375  129.24151611328125   \n3     2015-01-05   97.39318084716797  210.08999633789062  127.20793151855469   \n4     2015-01-06   97.40237426757812  211.27999877929688    124.464599609375   \n...          ...                 ...                 ...                 ...   \n1307  2020-03-11  275.42999267578125     634.22998046875  117.97000122070312   \n1308  2020-03-12  248.22999572753906   560.5499877929688  102.80999755859375   \n1309  2020-03-13   277.9700012207031   546.6199951171875  107.94999694824219   \n1310  2020-03-16   242.2100067138672  445.07000732421875   99.08000183105469   \n1311  2020-03-17  252.86000061035156  430.20001220703125   106.6500015258789   \n\n                   Close             Close.1             Close.2  \\\n0                   AAPL                TSLA                 IBM   \n1                    NaN                 NaN                 NaN   \n2     109.33000183105469  219.30999755859375  162.05999755859375   \n3                 106.25  210.08999633789062  159.50999450683594   \n4     106.26000213623047  211.27999877929688  156.07000732421875   \n...                  ...                 ...                 ...   \n1307  275.42999267578125     634.22998046875  117.97000122070312   \n1308  248.22999572753906   560.5499877929688  102.80999755859375   \n1309   277.9700012207031   546.6199951171875  107.94999694824219   \n1310   242.2100067138672  445.07000732421875   99.08000183105469   \n1311  252.86000061035156  430.20001220703125   106.6500015258789   \n\n                    High             High.1              High.2  \\\n0                   AAPL               TSLA                 IBM   \n1                    NaN                NaN                 NaN   \n2     111.44000244140625             223.25  163.30999755859375   \n3      108.6500015258789              216.5  161.27000427246094   \n4     107.43000030517578  214.1999969482422   159.9600067138672   \n...                  ...                ...                 ...   \n1307   281.2200012207031  653.5800170898438  122.58000183105469   \n1308               270.0              594.5  109.80000305175781   \n1309   279.9200134277344  607.5700073242188  109.16000366210938   \n1310   259.0799865722656  494.8699951171875  107.41000366210938   \n1311   257.6099853515625  471.8500061035156   107.4000015258789   \n\n                     Low               Low.1               Low.2  \\\n0                   AAPL                TSLA                 IBM   \n1                    NaN                 NaN                 NaN   \n2      107.3499984741211  213.25999450683594               161.0   \n3     105.41000366210938  207.16000366210938  159.19000244140625   \n4     104.62999725341797   204.2100067138672   155.1699981689453   \n...                  ...                 ...                 ...   \n1307   271.8599853515625               613.0  116.37999725341797   \n1308               248.0              546.25  102.27999877929688   \n1309   252.9499969482422               502.0  100.80999755859375   \n1310               240.0   442.1700134277344                95.0   \n1311  238.39999389648438               396.0    97.0999984741211   \n\n                    Open              Open.1              Open.2       Volume  \\\n0                   AAPL                TSLA                 IBM         AAPL   \n1                    NaN                 NaN                 NaN          NaN   \n2     111.38999938964844   222.8699951171875  161.30999755859375   53204600.0   \n3     108.29000091552734   214.5500030517578  161.27000427246094   64285500.0   \n4     106.54000091552734  210.05999755859375   159.6699981689453   65797100.0   \n...                  ...                 ...                 ...          ...   \n1307   277.3900146484375   640.2000122070312  121.01000213623047   63899700.0   \n1308  255.94000244140625   580.8900146484375   109.6500015258789  104618500.0   \n1309   264.8900146484375               595.0  108.68000030517578   92683000.0   \n1310   241.9499969482422               469.5                98.0   80605900.0   \n1311  247.50999450683594    440.010009765625  100.61000061035156   80876700.0   \n\n        Volume.1    Volume.2  \n0           TSLA         IBM  \n1            NaN         NaN  \n2      4764400.0   5525500.0  \n3      5368500.0   4880400.0  \n4      6261900.0   6146700.0  \n...          ...         ...  \n1307  13322500.0   8446500.0  \n1308  18909100.0  12512700.0  \n1309  22640300.0  12502100.0  \n1310  20489500.0  10568000.0  \n1311  23914500.0   8888000.0  \n\n[1312 rows x 19 columns]",
      "text/html": "<div>\n<style scoped>\n    .dataframe tbody tr th:only-of-type {\n        vertical-align: middle;\n    }\n\n    .dataframe tbody tr th {\n        vertical-align: top;\n    }\n\n    .dataframe thead th {\n        text-align: right;\n    }\n</style>\n<table border=\"1\" class=\"dataframe\">\n  <thead>\n    <tr style=\"text-align: right;\">\n      <th></th>\n      <th>Attributes</th>\n      <th>Adj Close</th>\n      <th>Adj Close.1</th>\n      <th>Adj Close.2</th>\n      <th>Close</th>\n      <th>Close.1</th>\n      <th>Close.2</th>\n      <th>High</th>\n      <th>High.1</th>\n      <th>High.2</th>\n      <th>Low</th>\n      <th>Low.1</th>\n      <th>Low.2</th>\n      <th>Open</th>\n      <th>Open.1</th>\n      <th>Open.2</th>\n      <th>Volume</th>\n      <th>Volume.1</th>\n      <th>Volume.2</th>\n    </tr>\n  </thead>\n  <tbody>\n    <tr>\n      <th>0</th>\n      <td>Symbols</td>\n      <td>AAPL</td>\n      <td>TSLA</td>\n      <td>IBM</td>\n      <td>AAPL</td>\n      <td>TSLA</td>\n      <td>IBM</td>\n      <td>AAPL</td>\n      <td>TSLA</td>\n      <td>IBM</td>\n      <td>AAPL</td>\n      <td>TSLA</td>\n      <td>IBM</td>\n      <td>AAPL</td>\n      <td>TSLA</td>\n      <td>IBM</td>\n      <td>AAPL</td>\n      <td>TSLA</td>\n      <td>IBM</td>\n    </tr>\n    <tr>\n      <th>1</th>\n      <td>Date</td>\n      <td>NaN</td>\n      <td>NaN</td>\n      <td>NaN</td>\n      <td>NaN</td>\n      <td>NaN</td>\n      <td>NaN</td>\n      <td>NaN</td>\n      <td>NaN</td>\n      <td>NaN</td>\n      <td>NaN</td>\n      <td>NaN</td>\n      <td>NaN</td>\n      <td>NaN</td>\n      <td>NaN</td>\n      <td>NaN</td>\n      <td>NaN</td>\n      <td>NaN</td>\n      <td>NaN</td>\n    </tr>\n    <tr>\n      <th>2</th>\n      <td>2015-01-02</td>\n      <td>100.2164535522461</td>\n      <td>219.30999755859375</td>\n      <td>129.24151611328125</td>\n      <td>109.33000183105469</td>\n      <td>219.30999755859375</td>\n      <td>162.05999755859375</td>\n      <td>111.44000244140625</td>\n      <td>223.25</td>\n      <td>163.30999755859375</td>\n      <td>107.3499984741211</td>\n      <td>213.25999450683594</td>\n      <td>161.0</td>\n      <td>111.38999938964844</td>\n      <td>222.8699951171875</td>\n      <td>161.30999755859375</td>\n      <td>53204600.0</td>\n      <td>4764400.0</td>\n      <td>5525500.0</td>\n    </tr>\n    <tr>\n      <th>3</th>\n      <td>2015-01-05</td>\n      <td>97.39318084716797</td>\n      <td>210.08999633789062</td>\n      <td>127.20793151855469</td>\n      <td>106.25</td>\n      <td>210.08999633789062</td>\n      <td>159.50999450683594</td>\n      <td>108.6500015258789</td>\n      <td>216.5</td>\n      <td>161.27000427246094</td>\n      <td>105.41000366210938</td>\n      <td>207.16000366210938</td>\n      <td>159.19000244140625</td>\n      <td>108.29000091552734</td>\n      <td>214.5500030517578</td>\n      <td>161.27000427246094</td>\n      <td>64285500.0</td>\n      <td>5368500.0</td>\n      <td>4880400.0</td>\n    </tr>\n    <tr>\n      <th>4</th>\n      <td>2015-01-06</td>\n      <td>97.40237426757812</td>\n      <td>211.27999877929688</td>\n      <td>124.464599609375</td>\n      <td>106.26000213623047</td>\n      <td>211.27999877929688</td>\n      <td>156.07000732421875</td>\n      <td>107.43000030517578</td>\n      <td>214.1999969482422</td>\n      <td>159.9600067138672</td>\n      <td>104.62999725341797</td>\n      <td>204.2100067138672</td>\n      <td>155.1699981689453</td>\n      <td>106.54000091552734</td>\n      <td>210.05999755859375</td>\n      <td>159.6699981689453</td>\n      <td>65797100.0</td>\n      <td>6261900.0</td>\n      <td>6146700.0</td>\n    </tr>\n    <tr>\n      <th>...</th>\n      <td>...</td>\n      <td>...</td>\n      <td>...</td>\n      <td>...</td>\n      <td>...</td>\n      <td>...</td>\n      <td>...</td>\n      <td>...</td>\n      <td>...</td>\n      <td>...</td>\n      <td>...</td>\n      <td>...</td>\n      <td>...</td>\n      <td>...</td>\n      <td>...</td>\n      <td>...</td>\n      <td>...</td>\n      <td>...</td>\n      <td>...</td>\n    </tr>\n    <tr>\n      <th>1307</th>\n      <td>2020-03-11</td>\n      <td>275.42999267578125</td>\n      <td>634.22998046875</td>\n      <td>117.97000122070312</td>\n      <td>275.42999267578125</td>\n      <td>634.22998046875</td>\n      <td>117.97000122070312</td>\n      <td>281.2200012207031</td>\n      <td>653.5800170898438</td>\n      <td>122.58000183105469</td>\n      <td>271.8599853515625</td>\n      <td>613.0</td>\n      <td>116.37999725341797</td>\n      <td>277.3900146484375</td>\n      <td>640.2000122070312</td>\n      <td>121.01000213623047</td>\n      <td>63899700.0</td>\n      <td>13322500.0</td>\n      <td>8446500.0</td>\n    </tr>\n    <tr>\n      <th>1308</th>\n      <td>2020-03-12</td>\n      <td>248.22999572753906</td>\n      <td>560.5499877929688</td>\n      <td>102.80999755859375</td>\n      <td>248.22999572753906</td>\n      <td>560.5499877929688</td>\n      <td>102.80999755859375</td>\n      <td>270.0</td>\n      <td>594.5</td>\n      <td>109.80000305175781</td>\n      <td>248.0</td>\n      <td>546.25</td>\n      <td>102.27999877929688</td>\n      <td>255.94000244140625</td>\n      <td>580.8900146484375</td>\n      <td>109.6500015258789</td>\n      <td>104618500.0</td>\n      <td>18909100.0</td>\n      <td>12512700.0</td>\n    </tr>\n    <tr>\n      <th>1309</th>\n      <td>2020-03-13</td>\n      <td>277.9700012207031</td>\n      <td>546.6199951171875</td>\n      <td>107.94999694824219</td>\n      <td>277.9700012207031</td>\n      <td>546.6199951171875</td>\n      <td>107.94999694824219</td>\n      <td>279.9200134277344</td>\n      <td>607.5700073242188</td>\n      <td>109.16000366210938</td>\n      <td>252.9499969482422</td>\n      <td>502.0</td>\n      <td>100.80999755859375</td>\n      <td>264.8900146484375</td>\n      <td>595.0</td>\n      <td>108.68000030517578</td>\n      <td>92683000.0</td>\n      <td>22640300.0</td>\n      <td>12502100.0</td>\n    </tr>\n    <tr>\n      <th>1310</th>\n      <td>2020-03-16</td>\n      <td>242.2100067138672</td>\n      <td>445.07000732421875</td>\n      <td>99.08000183105469</td>\n      <td>242.2100067138672</td>\n      <td>445.07000732421875</td>\n      <td>99.08000183105469</td>\n      <td>259.0799865722656</td>\n      <td>494.8699951171875</td>\n      <td>107.41000366210938</td>\n      <td>240.0</td>\n      <td>442.1700134277344</td>\n      <td>95.0</td>\n      <td>241.9499969482422</td>\n      <td>469.5</td>\n      <td>98.0</td>\n      <td>80605900.0</td>\n      <td>20489500.0</td>\n      <td>10568000.0</td>\n    </tr>\n    <tr>\n      <th>1311</th>\n      <td>2020-03-17</td>\n      <td>252.86000061035156</td>\n      <td>430.20001220703125</td>\n      <td>106.6500015258789</td>\n      <td>252.86000061035156</td>\n      <td>430.20001220703125</td>\n      <td>106.6500015258789</td>\n      <td>257.6099853515625</td>\n      <td>471.8500061035156</td>\n      <td>107.4000015258789</td>\n      <td>238.39999389648438</td>\n      <td>396.0</td>\n      <td>97.0999984741211</td>\n      <td>247.50999450683594</td>\n      <td>440.010009765625</td>\n      <td>100.61000061035156</td>\n      <td>80876700.0</td>\n      <td>23914500.0</td>\n      <td>8888000.0</td>\n    </tr>\n  </tbody>\n</table>\n<p>1312 rows × 19 columns</p>\n</div>"
     },
     "metadata": {},
     "execution_count": 86
    }
   ],
   "source": [
    "df = pd.read_csv(\"file.csv\")\n",
    "df"
   ]
  },
  {
   "cell_type": "code",
   "execution_count": 77,
   "metadata": {
    "collapsed": false
   },
   "outputs": [
    {
     "data": {
      "text/plain": [
       "<class 'pandas.core.panel.Panel'>\n",
       "Dimensions: 5 (items) x 399 (major_axis) x 4 (minor_axis)\n",
       "Items axis: Open to Volume\n",
       "Major_axis axis: 2015-01-02 00:00:00 to 2016-08-02 00:00:00\n",
       "Minor_axis axis: AAPL to TSLA"
      ]
     },
     "execution_count": 77,
     "metadata": {},
     "output_type": "execute_result"
    }
   ],
   "source": []
  },
  {
   "cell_type": "markdown",
   "metadata": {},
   "source": [
    "### Step 5.  What is the type of structure of df ?"
   ]
  },
  {
   "cell_type": "code",
   "execution_count": 87,
   "metadata": {
    "collapsed": false
   },
   "outputs": [],
   "source": [
    "# 'pandas.core.panel.Panel'"
   ]
  },
  {
   "cell_type": "markdown",
   "metadata": {},
   "source": [
    "### Step 6. Print all the Items axis values\n",
    "#### To learn more about the Panel structure go to [documentation](http://pandas.pydata.org/pandas-docs/stable/dsintro.html#panel) "
   ]
  },
  {
   "cell_type": "code",
   "execution_count": null,
   "metadata": {},
   "outputs": [],
   "source": []
  },
  {
   "cell_type": "markdown",
   "metadata": {},
   "source": [
    "### Step 7. Good, now we know  the data avaiable. Create a dataFrame called vol, with the Volume values."
   ]
  },
  {
   "cell_type": "code",
   "execution_count": 88,
   "metadata": {},
   "outputs": [],
   "source": [
    "df = df.set_index(\"Attributes\")"
   ]
  },
  {
   "cell_type": "code",
   "execution_count": 89,
   "metadata": {},
   "outputs": [],
   "source": [
    "df.drop(\"Date\", inplace=True)"
   ]
  },
  {
   "cell_type": "code",
   "execution_count": 90,
   "metadata": {},
   "outputs": [],
   "source": [
    "new_df = df.loc[:, \"Volume\":\"Volume.2\"]\n",
    "new_df.rename(columns={'Volume':'AAPL', 'Volume.1':'TSLA', 'Volume.2':'IBM'}, inplace=True)"
   ]
  },
  {
   "cell_type": "code",
   "execution_count": 91,
   "metadata": {},
   "outputs": [],
   "source": [
    "new_df.drop(\"Symbols\", inplace=True)"
   ]
  },
  {
   "cell_type": "code",
   "execution_count": 92,
   "metadata": {},
   "outputs": [
    {
     "output_type": "execute_result",
     "data": {
      "text/plain": "                   AAPL        TSLA         IBM\nAttributes                                     \n2015-01-02   53204600.0   4764400.0   5525500.0\n2015-01-05   64285500.0   5368500.0   4880400.0\n2015-01-06   65797100.0   6261900.0   6146700.0\n2015-01-07   40105900.0   2968400.0   4701800.0\n2015-01-08   59364500.0   3442500.0   4236800.0\n...                 ...         ...         ...\n2020-03-11   63899700.0  13322500.0   8446500.0\n2020-03-12  104618500.0  18909100.0  12512700.0\n2020-03-13   92683000.0  22640300.0  12502100.0\n2020-03-16   80605900.0  20489500.0  10568000.0\n2020-03-17   80876700.0  23914500.0   8888000.0\n\n[1310 rows x 3 columns]",
      "text/html": "<div>\n<style scoped>\n    .dataframe tbody tr th:only-of-type {\n        vertical-align: middle;\n    }\n\n    .dataframe tbody tr th {\n        vertical-align: top;\n    }\n\n    .dataframe thead th {\n        text-align: right;\n    }\n</style>\n<table border=\"1\" class=\"dataframe\">\n  <thead>\n    <tr style=\"text-align: right;\">\n      <th></th>\n      <th>AAPL</th>\n      <th>TSLA</th>\n      <th>IBM</th>\n    </tr>\n    <tr>\n      <th>Attributes</th>\n      <th></th>\n      <th></th>\n      <th></th>\n    </tr>\n  </thead>\n  <tbody>\n    <tr>\n      <th>2015-01-02</th>\n      <td>53204600.0</td>\n      <td>4764400.0</td>\n      <td>5525500.0</td>\n    </tr>\n    <tr>\n      <th>2015-01-05</th>\n      <td>64285500.0</td>\n      <td>5368500.0</td>\n      <td>4880400.0</td>\n    </tr>\n    <tr>\n      <th>2015-01-06</th>\n      <td>65797100.0</td>\n      <td>6261900.0</td>\n      <td>6146700.0</td>\n    </tr>\n    <tr>\n      <th>2015-01-07</th>\n      <td>40105900.0</td>\n      <td>2968400.0</td>\n      <td>4701800.0</td>\n    </tr>\n    <tr>\n      <th>2015-01-08</th>\n      <td>59364500.0</td>\n      <td>3442500.0</td>\n      <td>4236800.0</td>\n    </tr>\n    <tr>\n      <th>...</th>\n      <td>...</td>\n      <td>...</td>\n      <td>...</td>\n    </tr>\n    <tr>\n      <th>2020-03-11</th>\n      <td>63899700.0</td>\n      <td>13322500.0</td>\n      <td>8446500.0</td>\n    </tr>\n    <tr>\n      <th>2020-03-12</th>\n      <td>104618500.0</td>\n      <td>18909100.0</td>\n      <td>12512700.0</td>\n    </tr>\n    <tr>\n      <th>2020-03-13</th>\n      <td>92683000.0</td>\n      <td>22640300.0</td>\n      <td>12502100.0</td>\n    </tr>\n    <tr>\n      <th>2020-03-16</th>\n      <td>80605900.0</td>\n      <td>20489500.0</td>\n      <td>10568000.0</td>\n    </tr>\n    <tr>\n      <th>2020-03-17</th>\n      <td>80876700.0</td>\n      <td>23914500.0</td>\n      <td>8888000.0</td>\n    </tr>\n  </tbody>\n</table>\n<p>1310 rows × 3 columns</p>\n</div>"
     },
     "metadata": {},
     "execution_count": 92
    }
   ],
   "source": [
    "new_df"
   ]
  },
  {
   "cell_type": "code",
   "execution_count": 93,
   "metadata": {
    "tags": []
   },
   "outputs": [],
   "source": [
    "new_df.index = pd.to_datetime(new_df.index)"
   ]
  },
  {
   "cell_type": "code",
   "execution_count": 94,
   "metadata": {},
   "outputs": [],
   "source": [
    "\n",
    "new_df[\"week\"] = new_df.index.week\n",
    "new_df[\"year\"] = new_df.index.year\n",
    "new_df\n",
    "\n",
    "new_df = new_df.groupby([\"week\", \"year\"]).sum()\n",
    "#new_df.set_index([\"week\", \"year\"])"
   ]
  },
  {
   "cell_type": "code",
   "execution_count": 122,
   "metadata": {
    "collapsed": false
   },
   "outputs": [
    {
     "data": {
      "text/html": [
       "<div>\n",
       "<table border=\"1\" class=\"dataframe\">\n",
       "  <thead>\n",
       "    <tr style=\"text-align: right;\">\n",
       "      <th></th>\n",
       "      <th>AAPL</th>\n",
       "      <th>IBM</th>\n",
       "      <th>LNKD</th>\n",
       "      <th>TSLA</th>\n",
       "    </tr>\n",
       "    <tr>\n",
       "      <th>Date</th>\n",
       "      <th></th>\n",
       "      <th></th>\n",
       "      <th></th>\n",
       "      <th></th>\n",
       "    </tr>\n",
       "  </thead>\n",
       "  <tbody>\n",
       "    <tr>\n",
       "      <th>2015-01-02</th>\n",
       "      <td>53204626.0</td>\n",
       "      <td>5525466.0</td>\n",
       "      <td>1203743.0</td>\n",
       "      <td>4764443.0</td>\n",
       "    </tr>\n",
       "    <tr>\n",
       "      <th>2015-01-05</th>\n",
       "      <td>64285491.0</td>\n",
       "      <td>4880389.0</td>\n",
       "      <td>1400562.0</td>\n",
       "      <td>5368477.0</td>\n",
       "    </tr>\n",
       "    <tr>\n",
       "      <th>2015-01-06</th>\n",
       "      <td>65797116.0</td>\n",
       "      <td>6146712.0</td>\n",
       "      <td>2006546.0</td>\n",
       "      <td>6261936.0</td>\n",
       "    </tr>\n",
       "    <tr>\n",
       "      <th>2015-01-07</th>\n",
       "      <td>40105934.0</td>\n",
       "      <td>4701839.0</td>\n",
       "      <td>985016.0</td>\n",
       "      <td>2968390.0</td>\n",
       "    </tr>\n",
       "    <tr>\n",
       "      <th>2015-01-08</th>\n",
       "      <td>59364547.0</td>\n",
       "      <td>4241113.0</td>\n",
       "      <td>1293955.0</td>\n",
       "      <td>3442509.0</td>\n",
       "    </tr>\n",
       "  </tbody>\n",
       "</table>\n",
       "</div>"
      ],
      "text/plain": [
       "                  AAPL        IBM       LNKD       TSLA\n",
       "Date                                                   \n",
       "2015-01-02  53204626.0  5525466.0  1203743.0  4764443.0\n",
       "2015-01-05  64285491.0  4880389.0  1400562.0  5368477.0\n",
       "2015-01-06  65797116.0  6146712.0  2006546.0  6261936.0\n",
       "2015-01-07  40105934.0  4701839.0   985016.0  2968390.0\n",
       "2015-01-08  59364547.0  4241113.0  1293955.0  3442509.0"
      ]
     },
     "execution_count": 122,
     "metadata": {},
     "output_type": "execute_result"
    }
   ],
   "source": []
  },
  {
   "cell_type": "markdown",
   "metadata": {},
   "source": [
    "### Step 8. Aggregate the data of Volume to weekly\n",
    "#### Hint: Be careful to not sum data from the same week of 2015 and other years."
   ]
  },
  {
   "cell_type": "code",
   "execution_count": 95,
   "metadata": {},
   "outputs": [
    {
     "output_type": "execute_result",
     "data": {
      "text/plain": "                                                        AAPL  \\\nweek year                                                      \n1    2015                                         53204600.0   \n     2016  67649400.055791000.068457400.081094400.0707980...   \n     2017           28781900.021118100.022193600.031751900.0   \n     2018  25555900.029517900.022434600.023660000.0350035...   \n     2019  37039700.091312200.058607100.036028600.0252014...   \n     2020                               33870100.036580700.0   \n2    2015  64285500.065797100.040105900.059364500.0536995...   \n     2016  49739400.049154200.062439600.063170100.0798339...   \n     2017  33561900.024462100.027588600.027086200.0261119...   \n     2018  20567800.021584000.023959900.018667700.0254181...   \n\n                                                       TSLA  \\\nweek year                                                     \n1    2015                                         4764400.0   \n     2016     6827100.03186800.03779100.03554300.03628100.0   \n     2017             5923300.011213500.05911700.05527900.0   \n     2018     4352200.04521500.09946300.04591200.06302300.0   \n     2019  11658600.06965200.07394100.012586400.010285700.0   \n     2020                               9532100.017778500.0   \n2    2015     5368500.06261900.02968400.03442500.04668300.0   \n     2016     4091400.03091900.04126400.06490700.05578600.0   \n     2017     3979500.03660000.03650800.03790200.06093000.0   \n     2018     9859400.07146600.04309900.06645500.04825100.0   \n\n                                                     IBM  \nweek year                                                 \n1    2015                                      5525500.0  \n     2016  5229400.03924800.04310900.07025800.04762700.0  \n     2017           2934300.03381400.02682300.02945500.0  \n     2018  4202500.09441600.07556200.05195800.04982800.0  \n     2019  4239900.04346700.04477800.04118900.03777500.0  \n     2020                             3148600.02373700.0  \n2    2015  4880400.06146700.04701800.04236800.04488300.0  \n     2016  4974400.05078700.04700100.05709600.09008500.0  \n     2017  3189900.04118700.03599500.02927500.02875400.0  \n     2018  5237500.04341800.04174100.03794500.05031900.0  ",
      "text/html": "<div>\n<style scoped>\n    .dataframe tbody tr th:only-of-type {\n        vertical-align: middle;\n    }\n\n    .dataframe tbody tr th {\n        vertical-align: top;\n    }\n\n    .dataframe thead th {\n        text-align: right;\n    }\n</style>\n<table border=\"1\" class=\"dataframe\">\n  <thead>\n    <tr style=\"text-align: right;\">\n      <th></th>\n      <th></th>\n      <th>AAPL</th>\n      <th>TSLA</th>\n      <th>IBM</th>\n    </tr>\n    <tr>\n      <th>week</th>\n      <th>year</th>\n      <th></th>\n      <th></th>\n      <th></th>\n    </tr>\n  </thead>\n  <tbody>\n    <tr>\n      <th rowspan=\"6\" valign=\"top\">1</th>\n      <th>2015</th>\n      <td>53204600.0</td>\n      <td>4764400.0</td>\n      <td>5525500.0</td>\n    </tr>\n    <tr>\n      <th>2016</th>\n      <td>67649400.055791000.068457400.081094400.0707980...</td>\n      <td>6827100.03186800.03779100.03554300.03628100.0</td>\n      <td>5229400.03924800.04310900.07025800.04762700.0</td>\n    </tr>\n    <tr>\n      <th>2017</th>\n      <td>28781900.021118100.022193600.031751900.0</td>\n      <td>5923300.011213500.05911700.05527900.0</td>\n      <td>2934300.03381400.02682300.02945500.0</td>\n    </tr>\n    <tr>\n      <th>2018</th>\n      <td>25555900.029517900.022434600.023660000.0350035...</td>\n      <td>4352200.04521500.09946300.04591200.06302300.0</td>\n      <td>4202500.09441600.07556200.05195800.04982800.0</td>\n    </tr>\n    <tr>\n      <th>2019</th>\n      <td>37039700.091312200.058607100.036028600.0252014...</td>\n      <td>11658600.06965200.07394100.012586400.010285700.0</td>\n      <td>4239900.04346700.04477800.04118900.03777500.0</td>\n    </tr>\n    <tr>\n      <th>2020</th>\n      <td>33870100.036580700.0</td>\n      <td>9532100.017778500.0</td>\n      <td>3148600.02373700.0</td>\n    </tr>\n    <tr>\n      <th rowspan=\"4\" valign=\"top\">2</th>\n      <th>2015</th>\n      <td>64285500.065797100.040105900.059364500.0536995...</td>\n      <td>5368500.06261900.02968400.03442500.04668300.0</td>\n      <td>4880400.06146700.04701800.04236800.04488300.0</td>\n    </tr>\n    <tr>\n      <th>2016</th>\n      <td>49739400.049154200.062439600.063170100.0798339...</td>\n      <td>4091400.03091900.04126400.06490700.05578600.0</td>\n      <td>4974400.05078700.04700100.05709600.09008500.0</td>\n    </tr>\n    <tr>\n      <th>2017</th>\n      <td>33561900.024462100.027588600.027086200.0261119...</td>\n      <td>3979500.03660000.03650800.03790200.06093000.0</td>\n      <td>3189900.04118700.03599500.02927500.02875400.0</td>\n    </tr>\n    <tr>\n      <th>2018</th>\n      <td>20567800.021584000.023959900.018667700.0254181...</td>\n      <td>9859400.07146600.04309900.06645500.04825100.0</td>\n      <td>5237500.04341800.04174100.03794500.05031900.0</td>\n    </tr>\n  </tbody>\n</table>\n</div>"
     },
     "metadata": {},
     "execution_count": 95
    }
   ],
   "source": [
    "new_df.head(10)"
   ]
  },
  {
   "cell_type": "code",
   "execution_count": 96,
   "metadata": {},
   "outputs": [],
   "source": [
    "new_df.reset_index(inplace=True)"
   ]
  },
  {
   "cell_type": "code",
   "execution_count": 100,
   "metadata": {},
   "outputs": [],
   "source": [
    "del new_df[\"week\"]"
   ]
  },
  {
   "cell_type": "code",
   "execution_count": 102,
   "metadata": {},
   "outputs": [
    {
     "output_type": "execute_result",
     "data": {
      "text/plain": "                                                   AAPL  \\\nyear                                                      \n2015  53204600.064285500.065797100.040105900.0593645...   \n2016  67649400.055791000.068457400.081094400.0707980...   \n2017  28781900.021118100.022193600.031751900.0335619...   \n2018  25555900.029517900.022434600.023660000.0350035...   \n2019  37039700.091312200.058607100.036028600.0252014...   \n2020  33870100.036580700.029596800.027218000.0330198...   \n\n                                                   TSLA  \\\nyear                                                      \n2015  4764400.05368500.06261900.02968400.03442500.04...   \n2016  6827100.03186800.03779100.03554300.03628100.04...   \n2017  5923300.011213500.05911700.05527900.03979500.0...   \n2018  4352200.04521500.09946300.04591200.06302300.09...   \n2019  11658600.06965200.07394100.012586400.010285700...   \n2020  9532100.017778500.010133000.017882100.03114430...   \n\n                                                    IBM  \nyear                                                     \n2015  5525500.04880400.06146700.04701800.04236800.04...  \n2016  5229400.03924800.04310900.07025800.04762700.04...  \n2017  2934300.03381400.02682300.02945500.03189900.04...  \n2018  4202500.09441600.07556200.05195800.04982800.05...  \n2019  4239900.04346700.04477800.04118900.03777500.03...  \n2020  3148600.02373700.02425500.03090800.04346000.03...  ",
      "text/html": "<div>\n<style scoped>\n    .dataframe tbody tr th:only-of-type {\n        vertical-align: middle;\n    }\n\n    .dataframe tbody tr th {\n        vertical-align: top;\n    }\n\n    .dataframe thead th {\n        text-align: right;\n    }\n</style>\n<table border=\"1\" class=\"dataframe\">\n  <thead>\n    <tr style=\"text-align: right;\">\n      <th></th>\n      <th>AAPL</th>\n      <th>TSLA</th>\n      <th>IBM</th>\n    </tr>\n    <tr>\n      <th>year</th>\n      <th></th>\n      <th></th>\n      <th></th>\n    </tr>\n  </thead>\n  <tbody>\n    <tr>\n      <th>2015</th>\n      <td>53204600.064285500.065797100.040105900.0593645...</td>\n      <td>4764400.05368500.06261900.02968400.03442500.04...</td>\n      <td>5525500.04880400.06146700.04701800.04236800.04...</td>\n    </tr>\n    <tr>\n      <th>2016</th>\n      <td>67649400.055791000.068457400.081094400.0707980...</td>\n      <td>6827100.03186800.03779100.03554300.03628100.04...</td>\n      <td>5229400.03924800.04310900.07025800.04762700.04...</td>\n    </tr>\n    <tr>\n      <th>2017</th>\n      <td>28781900.021118100.022193600.031751900.0335619...</td>\n      <td>5923300.011213500.05911700.05527900.03979500.0...</td>\n      <td>2934300.03381400.02682300.02945500.03189900.04...</td>\n    </tr>\n    <tr>\n      <th>2018</th>\n      <td>25555900.029517900.022434600.023660000.0350035...</td>\n      <td>4352200.04521500.09946300.04591200.06302300.09...</td>\n      <td>4202500.09441600.07556200.05195800.04982800.05...</td>\n    </tr>\n    <tr>\n      <th>2019</th>\n      <td>37039700.091312200.058607100.036028600.0252014...</td>\n      <td>11658600.06965200.07394100.012586400.010285700...</td>\n      <td>4239900.04346700.04477800.04118900.03777500.03...</td>\n    </tr>\n    <tr>\n      <th>2020</th>\n      <td>33870100.036580700.029596800.027218000.0330198...</td>\n      <td>9532100.017778500.010133000.017882100.03114430...</td>\n      <td>3148600.02373700.02425500.03090800.04346000.03...</td>\n    </tr>\n  </tbody>\n</table>\n</div>"
     },
     "metadata": {},
     "execution_count": 102
    }
   ],
   "source": [
    "new_df.groupby(\"year\").sum()"
   ]
  },
  {
   "cell_type": "code",
   "execution_count": 97,
   "metadata": {},
   "outputs": [
    {
     "output_type": "execute_result",
     "data": {
      "text/plain": "      week\nyear      \n2015  1431\n2016  1378\n2017  1378\n2018  1378\n2019  1378\n2020    78",
      "text/html": "<div>\n<style scoped>\n    .dataframe tbody tr th:only-of-type {\n        vertical-align: middle;\n    }\n\n    .dataframe tbody tr th {\n        vertical-align: top;\n    }\n\n    .dataframe thead th {\n        text-align: right;\n    }\n</style>\n<table border=\"1\" class=\"dataframe\">\n  <thead>\n    <tr style=\"text-align: right;\">\n      <th></th>\n      <th>week</th>\n    </tr>\n    <tr>\n      <th>year</th>\n      <th></th>\n    </tr>\n  </thead>\n  <tbody>\n    <tr>\n      <th>2015</th>\n      <td>1431</td>\n    </tr>\n    <tr>\n      <th>2016</th>\n      <td>1378</td>\n    </tr>\n    <tr>\n      <th>2017</th>\n      <td>1378</td>\n    </tr>\n    <tr>\n      <th>2018</th>\n      <td>1378</td>\n    </tr>\n    <tr>\n      <th>2019</th>\n      <td>1378</td>\n    </tr>\n    <tr>\n      <th>2020</th>\n      <td>78</td>\n    </tr>\n  </tbody>\n</table>\n</div>"
     },
     "metadata": {},
     "execution_count": 97
    }
   ],
   "source": [
    "new_df.groupby(\"year\").sum()"
   ]
  },
  {
   "cell_type": "code",
   "execution_count": 132,
   "metadata": {
    "collapsed": false,
    "scrolled": true
   },
   "outputs": [
    {
     "data": {
      "text/html": [
       "<div>\n",
       "<table border=\"1\" class=\"dataframe\">\n",
       "  <thead>\n",
       "    <tr style=\"text-align: right;\">\n",
       "      <th></th>\n",
       "      <th></th>\n",
       "      <th>AAPL</th>\n",
       "      <th>IBM</th>\n",
       "      <th>LNKD</th>\n",
       "      <th>TSLA</th>\n",
       "    </tr>\n",
       "    <tr>\n",
       "      <th>week</th>\n",
       "      <th>year</th>\n",
       "      <th></th>\n",
       "      <th></th>\n",
       "      <th></th>\n",
       "      <th></th>\n",
       "    </tr>\n",
       "  </thead>\n",
       "  <tbody>\n",
       "    <tr>\n",
       "      <th rowspan=\"2\" valign=\"top\">1</th>\n",
       "      <th>2015</th>\n",
       "      <td>53204626.0</td>\n",
       "      <td>5525466.0</td>\n",
       "      <td>1203743.0</td>\n",
       "      <td>4764443.0</td>\n",
       "    </tr>\n",
       "    <tr>\n",
       "      <th>2016</th>\n",
       "      <td>343422014.0</td>\n",
       "      <td>25233098.0</td>\n",
       "      <td>6630485.0</td>\n",
       "      <td>20967926.0</td>\n",
       "    </tr>\n",
       "    <tr>\n",
       "      <th rowspan=\"2\" valign=\"top\">2</th>\n",
       "      <th>2015</th>\n",
       "      <td>283252615.0</td>\n",
       "      <td>24458400.0</td>\n",
       "      <td>7203125.0</td>\n",
       "      <td>22709607.0</td>\n",
       "    </tr>\n",
       "    <tr>\n",
       "      <th>2016</th>\n",
       "      <td>302072797.0</td>\n",
       "      <td>29379214.0</td>\n",
       "      <td>9160521.0</td>\n",
       "      <td>22997290.0</td>\n",
       "    </tr>\n",
       "    <tr>\n",
       "      <th>3</th>\n",
       "      <th>2015</th>\n",
       "      <td>304226647.0</td>\n",
       "      <td>23263206.0</td>\n",
       "      <td>7084168.0</td>\n",
       "      <td>30799137.0</td>\n",
       "    </tr>\n",
       "  </tbody>\n",
       "</table>\n",
       "</div>"
      ],
      "text/plain": [
       "                  AAPL         IBM       LNKD        TSLA\n",
       "week year                                                \n",
       "1    2015   53204626.0   5525466.0  1203743.0   4764443.0\n",
       "     2016  343422014.0  25233098.0  6630485.0  20967926.0\n",
       "2    2015  283252615.0  24458400.0  7203125.0  22709607.0\n",
       "     2016  302072797.0  29379214.0  9160521.0  22997290.0\n",
       "3    2015  304226647.0  23263206.0  7084168.0  30799137.0"
      ]
     },
     "execution_count": 132,
     "metadata": {},
     "output_type": "execute_result"
    }
   ],
   "source": []
  },
  {
   "cell_type": "markdown",
   "metadata": {},
   "source": [
    "### Step 9. Find all the volume traded in the year of 2015"
   ]
  },
  {
   "cell_type": "code",
   "execution_count": 131,
   "metadata": {
    "collapsed": false
   },
   "outputs": [
    {
     "data": {
      "text/html": [
       "<div>\n",
       "<table border=\"1\" class=\"dataframe\">\n",
       "  <thead>\n",
       "    <tr style=\"text-align: right;\">\n",
       "      <th></th>\n",
       "      <th>AAPL</th>\n",
       "      <th>IBM</th>\n",
       "      <th>LNKD</th>\n",
       "      <th>TSLA</th>\n",
       "    </tr>\n",
       "    <tr>\n",
       "      <th>year</th>\n",
       "      <th></th>\n",
       "      <th></th>\n",
       "      <th></th>\n",
       "      <th></th>\n",
       "    </tr>\n",
       "  </thead>\n",
       "  <tbody>\n",
       "    <tr>\n",
       "      <th>2015</th>\n",
       "      <td>1.301994e+10</td>\n",
       "      <td>1.100959e+09</td>\n",
       "      <td>440376163.0</td>\n",
       "      <td>1.085839e+09</td>\n",
       "    </tr>\n",
       "    <tr>\n",
       "      <th>2016</th>\n",
       "      <td>6.081474e+09</td>\n",
       "      <td>6.585250e+08</td>\n",
       "      <td>453233878.0</td>\n",
       "      <td>7.540962e+08</td>\n",
       "    </tr>\n",
       "  </tbody>\n",
       "</table>\n",
       "</div>"
      ],
      "text/plain": [
       "              AAPL           IBM         LNKD          TSLA\n",
       "year                                                       \n",
       "2015  1.301994e+10  1.100959e+09  440376163.0  1.085839e+09\n",
       "2016  6.081474e+09  6.585250e+08  453233878.0  7.540962e+08"
      ]
     },
     "execution_count": 131,
     "metadata": {},
     "output_type": "execute_result"
    }
   ],
   "source": []
  },
  {
   "cell_type": "code",
   "execution_count": null,
   "metadata": {
    "collapsed": true
   },
   "outputs": [],
   "source": []
  }
 ],
 "metadata": {
  "kernelspec": {
   "display_name": "Python 3.8.3 32-bit",
   "language": "python",
   "name": "python_defaultSpec_1596017878705"
  },
  "language_info": {
   "codemirror_mode": {
    "name": "ipython",
    "version": 2
   },
   "file_extension": ".py",
   "mimetype": "text/x-python",
   "name": "python",
   "nbconvert_exporter": "python",
   "pygments_lexer": "ipython2",
   "version": "3.6.4-final"
  }
 },
 "nbformat": 4,
 "nbformat_minor": 0
}