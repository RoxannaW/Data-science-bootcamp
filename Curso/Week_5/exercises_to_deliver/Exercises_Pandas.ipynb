{
 "cells": [
  {
   "cell_type": "code",
   "execution_count": 1,
   "metadata": {},
   "outputs": [],
   "source": [
    "import pandas as pd \n",
    "import numpy as np"
   ]
  },
  {
   "cell_type": "code",
   "execution_count": null,
   "metadata": {},
   "outputs": [],
   "source": [
    "#1Write a Python program to create and display a one-dimensional array-like object containing an array of data using Pandas module."
   ]
  },
  {
   "cell_type": "code",
   "execution_count": 4,
   "metadata": {},
   "outputs": [
    {
     "output_type": "execute_result",
     "data": {
      "text/plain": "0    a\n1    b\n2    c\n3    d\ndtype: object"
     },
     "metadata": {},
     "execution_count": 4
    }
   ],
   "source": [
    "mini_data = np.array(['a', 'b', 'c', 'd'])\n",
    "mini_df = pd.Series(mini_data)\n",
    "mini_df"
   ]
  },
  {
   "cell_type": "code",
   "execution_count": null,
   "metadata": {},
   "outputs": [],
   "source": [
    "#2Write a Python program to convert a Panda module Series to Python list and it's type."
   ]
  },
  {
   "cell_type": "code",
   "execution_count": 16,
   "metadata": {
    "tags": []
   },
   "outputs": [
    {
     "output_type": "stream",
     "name": "stdout",
     "text": "<class 'pandas.core.series.Series'>\n0    a\n1    b\n2    c\n3    d\ndtype: object\n['a', 'b', 'c', 'd']\n"
    },
    {
     "output_type": "execute_result",
     "data": {
      "text/plain": "list"
     },
     "metadata": {},
     "execution_count": 16
    }
   ],
   "source": [
    "print(type(mini_df))\n",
    "print(mini_df)\n",
    "list_df = mini_df.tolist()\n",
    "print(list_df)\n",
    "type(list_df)"
   ]
  },
  {
   "cell_type": "code",
   "execution_count": 19,
   "metadata": {
    "tags": []
   },
   "outputs": [
    {
     "output_type": "stream",
     "name": "stdout",
     "text": "0     3\n1     7\n2    11\n3    15\n4    19\ndtype: int64\n0    1\n1    1\n2    1\n3    1\n4    1\ndtype: int64\n0     2\n1    12\n2    30\n3    56\n4    90\ndtype: int64\n0    2\n1    1\n2    1\n3    1\n4    1\ndtype: int64\n"
    }
   ],
   "source": [
    "##Write a Python program to add, subtract, multiple and divide two Pandas Series. \n",
    "\n",
    "l1 = pd.Series([2, 4, 6, 8, 10])\n",
    "l2 = pd.Series([1, 3, 5, 7, 9])\n",
    "\n",
    "print(l1 + l2)\n",
    "print(l1 - l2)\n",
    "print(l1 * l2)\n",
    "print(l1 // l2)\n"
   ]
  },
  {
   "cell_type": "code",
   "execution_count": 20,
   "metadata": {},
   "outputs": [
    {
     "output_type": "execute_result",
     "data": {
      "text/plain": "0    False\n1    False\n2    False\n3    False\n4    False\ndtype: bool"
     },
     "metadata": {},
     "execution_count": 20
    }
   ],
   "source": [
    "## Write a Python program to get the largest integer smaller or equal to the division of the inputs. Go to the editor\n",
    "\n",
    "l1 < l1"
   ]
  },
  {
   "cell_type": "code",
   "execution_count": 27,
   "metadata": {},
   "outputs": [],
   "source": [
    "# dictionary to serie\n",
    "\n",
    "Original_dictionary = {'a': 100, 'b': 200, 'c': 300, 'd': 400, 'e': 800}\n"
   ]
  },
  {
   "cell_type": "code",
   "execution_count": 28,
   "metadata": {},
   "outputs": [
    {
     "output_type": "execute_result",
     "data": {
      "text/plain": "a    100\nb    200\nc    300\nd    400\ne    800\ndtype: int64"
     },
     "metadata": {},
     "execution_count": 28
    }
   ],
   "source": [
    "pd.Series(Original_dictionary)"
   ]
  },
  {
   "cell_type": "code",
   "execution_count": 33,
   "metadata": {},
   "outputs": [
    {
     "output_type": "execute_result",
     "data": {
      "text/plain": "0    10\n1    20\n2    30\n3    40\n4    50\ndtype: int64"
     },
     "metadata": {},
     "execution_count": 33
    }
   ],
   "source": [
    "#Write a Python program to convert a NumPy array to a Pandas series\n",
    "NumP_array = [10, 20, 30, 40, 50]\n",
    "pd.Series(NumP_array)"
   ]
  },
  {
   "cell_type": "code",
   "execution_count": null,
   "metadata": {},
   "outputs": [],
   "source": []
  }
 ],
 "metadata": {
  "language_info": {
   "codemirror_mode": {
    "name": "ipython",
    "version": 3
   },
   "file_extension": ".py",
   "mimetype": "text/x-python",
   "name": "python",
   "nbconvert_exporter": "python",
   "pygments_lexer": "ipython3",
   "version": 3
  },
  "orig_nbformat": 2,
  "kernelspec": {
   "name": "python_defaultSpec_1594839850871",
   "display_name": "Python 3.8.3 32-bit"
  }
 },
 "nbformat": 4,
 "nbformat_minor": 2
}