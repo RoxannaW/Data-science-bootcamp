{
 "cells": [
  {
   "cell_type": "markdown",
   "metadata": {},
   "source": [
    "# Examen Pandas - Unidad 1"
   ]
  },
  {
   "cell_type": "markdown",
   "metadata": {},
   "source": [
    "### Data Science The Bridge - 2020"
   ]
  },
  {
   "cell_type": "markdown",
   "metadata": {},
   "source": [
    "Primero de todo, importa la que seguro es ya tu librería favorita y que vas a necesitar, seguro, para realizar este examen. "
   ]
  },
  {
   "cell_type": "code",
   "execution_count": 1,
   "metadata": {},
   "outputs": [],
   "source": [
    "# no borres esto y ejecútalo junto con tu librería favorita\n",
    "import warnings\n",
    "warnings.simplefilter(action='ignore')\n",
    "\n",
    "# aquí tu librería favorita\n",
    "import pandas as pd\n",
    "import numpy as np\n",
    "import matplotlib.pyplot as plt"
   ]
  },
  {
   "cell_type": "markdown",
   "metadata": {},
   "source": [
    "Para trabajar con **pandas** lo primero que necesitarás, son datos, en la vida real deberías entrar en este enlace de **kaggle** y descargar el dataset: https://www.kaggle.com/neuromusic/avocado-prices. Con el fin de poder leer el `.csv` sin problema, habría que copiarlo en la misma carpeta donde se encuentra este archivo `.ipynb`. \n",
    "\n",
    "Pero como esto es un examen, ya lo tienes en esta carpeta, por lo que solo tienes que leerlo. Asígnalo a la variable `avocado` y muestra las primeras 5 filas. \n",
    "\n",
    "**AVISO**: Al llamar a la función que lee el `.csv` no uses ningún argumento, solo el nombre del archivo `\"avocado_kaggle.csv\"`. "
   ]
  },
  {
   "cell_type": "code",
   "execution_count": 2,
   "metadata": {},
   "outputs": [],
   "source": [
    "avocado = pd.read_csv(\"avocado_kaggle.csv\")"
   ]
  },
  {
   "cell_type": "code",
   "execution_count": 3,
   "metadata": {},
   "outputs": [
    {
     "output_type": "execute_result",
     "data": {
      "text/plain": "   Unnamed: 0        Date  AveragePrice  Total Volume     4046       4225  \\\n0           0  2015-12-27          1.33      64236.62  1036.74   54454.85   \n1           1  2015-12-20          1.35      54876.98   674.28   44638.81   \n2           2  2015-12-13          0.93     118220.22   794.70  109149.67   \n3           3  2015-12-06          1.08      78992.15  1132.00   71976.41   \n4           4  2015-11-29          1.28      51039.60   941.48   43838.39   \n\n     4770  Total Bags  Small Bags  Large Bags  XLarge Bags          type  \\\n0   48.16     8696.87     8603.62       93.25          0.0  conventional   \n1   58.33     9505.56     9408.07       97.49          0.0  conventional   \n2  130.50     8145.35     8042.21      103.14          0.0  conventional   \n3   72.58     5811.16     5677.40      133.76          0.0  conventional   \n4   75.78     6183.95     5986.26      197.69          0.0  conventional   \n\n   year  region  \n0  2015  Albany  \n1  2015  Albany  \n2  2015  Albany  \n3  2015  Albany  \n4  2015  Albany  ",
      "text/html": "<div>\n<style scoped>\n    .dataframe tbody tr th:only-of-type {\n        vertical-align: middle;\n    }\n\n    .dataframe tbody tr th {\n        vertical-align: top;\n    }\n\n    .dataframe thead th {\n        text-align: right;\n    }\n</style>\n<table border=\"1\" class=\"dataframe\">\n  <thead>\n    <tr style=\"text-align: right;\">\n      <th></th>\n      <th>Unnamed: 0</th>\n      <th>Date</th>\n      <th>AveragePrice</th>\n      <th>Total Volume</th>\n      <th>4046</th>\n      <th>4225</th>\n      <th>4770</th>\n      <th>Total Bags</th>\n      <th>Small Bags</th>\n      <th>Large Bags</th>\n      <th>XLarge Bags</th>\n      <th>type</th>\n      <th>year</th>\n      <th>region</th>\n    </tr>\n  </thead>\n  <tbody>\n    <tr>\n      <th>0</th>\n      <td>0</td>\n      <td>2015-12-27</td>\n      <td>1.33</td>\n      <td>64236.62</td>\n      <td>1036.74</td>\n      <td>54454.85</td>\n      <td>48.16</td>\n      <td>8696.87</td>\n      <td>8603.62</td>\n      <td>93.25</td>\n      <td>0.0</td>\n      <td>conventional</td>\n      <td>2015</td>\n      <td>Albany</td>\n    </tr>\n    <tr>\n      <th>1</th>\n      <td>1</td>\n      <td>2015-12-20</td>\n      <td>1.35</td>\n      <td>54876.98</td>\n      <td>674.28</td>\n      <td>44638.81</td>\n      <td>58.33</td>\n      <td>9505.56</td>\n      <td>9408.07</td>\n      <td>97.49</td>\n      <td>0.0</td>\n      <td>conventional</td>\n      <td>2015</td>\n      <td>Albany</td>\n    </tr>\n    <tr>\n      <th>2</th>\n      <td>2</td>\n      <td>2015-12-13</td>\n      <td>0.93</td>\n      <td>118220.22</td>\n      <td>794.70</td>\n      <td>109149.67</td>\n      <td>130.50</td>\n      <td>8145.35</td>\n      <td>8042.21</td>\n      <td>103.14</td>\n      <td>0.0</td>\n      <td>conventional</td>\n      <td>2015</td>\n      <td>Albany</td>\n    </tr>\n    <tr>\n      <th>3</th>\n      <td>3</td>\n      <td>2015-12-06</td>\n      <td>1.08</td>\n      <td>78992.15</td>\n      <td>1132.00</td>\n      <td>71976.41</td>\n      <td>72.58</td>\n      <td>5811.16</td>\n      <td>5677.40</td>\n      <td>133.76</td>\n      <td>0.0</td>\n      <td>conventional</td>\n      <td>2015</td>\n      <td>Albany</td>\n    </tr>\n    <tr>\n      <th>4</th>\n      <td>4</td>\n      <td>2015-11-29</td>\n      <td>1.28</td>\n      <td>51039.60</td>\n      <td>941.48</td>\n      <td>43838.39</td>\n      <td>75.78</td>\n      <td>6183.95</td>\n      <td>5986.26</td>\n      <td>197.69</td>\n      <td>0.0</td>\n      <td>conventional</td>\n      <td>2015</td>\n      <td>Albany</td>\n    </tr>\n  </tbody>\n</table>\n</div>"
     },
     "metadata": {},
     "execution_count": 3
    }
   ],
   "source": [
    "avocado.head(5)"
   ]
  },
  {
   "cell_type": "markdown",
   "metadata": {},
   "source": [
    "Lo primero que debe hacer un Data Scientist es conocer los datos con los que está trabajando, por esto, explora el dataset:\n",
    "- sacando los nombres de las distintas columnas, \n",
    "- qué tipo de datos contienen estas columnas, \n",
    "- cuántas filas y columnas tiene el dataframe,\n",
    "- además de un marco de datos de estadísticas descriptivas de dicho dataframe.\n",
    "\n",
    "Utiliza la función/funciones que te parezcan mejor para hacer dicha exploración. "
   ]
  },
  {
   "cell_type": "code",
   "execution_count": 4,
   "metadata": {},
   "outputs": [
    {
     "output_type": "execute_result",
     "data": {
      "text/plain": "Index(['Unnamed: 0', 'Date', 'AveragePrice', 'Total Volume', '4046', '4225',\n       '4770', 'Total Bags', 'Small Bags', 'Large Bags', 'XLarge Bags', 'type',\n       'year', 'region'],\n      dtype='object')"
     },
     "metadata": {},
     "execution_count": 4
    }
   ],
   "source": [
    "#1 sacando los nombres de las distintas columnas:\n",
    "avocado.columns"
   ]
  },
  {
   "cell_type": "code",
   "execution_count": 5,
   "metadata": {},
   "outputs": [
    {
     "output_type": "execute_result",
     "data": {
      "text/plain": "Unnamed: 0        int64\nDate             object\nAveragePrice    float64\nTotal Volume    float64\n4046            float64\n4225            float64\n4770            float64\nTotal Bags      float64\nSmall Bags      float64\nLarge Bags      float64\nXLarge Bags     float64\ntype             object\nyear              int64\nregion           object\ndtype: object"
     },
     "metadata": {},
     "execution_count": 5
    }
   ],
   "source": [
    "#2 qué tipo de datos contienen estas columnas, \n",
    "avocado.dtypes"
   ]
  },
  {
   "cell_type": "code",
   "execution_count": 6,
   "metadata": {},
   "outputs": [
    {
     "output_type": "execute_result",
     "data": {
      "text/plain": "(18249, 14)"
     },
     "metadata": {},
     "execution_count": 6
    }
   ],
   "source": [
    "#3 cuántas filas y columnas tiene el dataframe:\n",
    "avocado.shape"
   ]
  },
  {
   "cell_type": "code",
   "execution_count": 7,
   "metadata": {},
   "outputs": [
    {
     "output_type": "execute_result",
     "data": {
      "text/plain": "         Unnamed: 0  AveragePrice  Total Volume          4046          4225  \\\ncount  18249.000000  18249.000000  1.824900e+04  1.824900e+04  1.824900e+04   \nmean      24.232232      1.405978  8.506440e+05  2.930084e+05  2.951546e+05   \nstd       15.481045      0.402677  3.453545e+06  1.264989e+06  1.204120e+06   \nmin        0.000000      0.440000  8.456000e+01  0.000000e+00  0.000000e+00   \n25%       10.000000      1.100000  1.083858e+04  8.540700e+02  3.008780e+03   \n50%       24.000000      1.370000  1.073768e+05  8.645300e+03  2.906102e+04   \n75%       38.000000      1.660000  4.329623e+05  1.110202e+05  1.502069e+05   \nmax       52.000000      3.250000  6.250565e+07  2.274362e+07  2.047057e+07   \n\n               4770    Total Bags    Small Bags    Large Bags    XLarge Bags  \\\ncount  1.824900e+04  1.824900e+04  1.824900e+04  1.824900e+04   18249.000000   \nmean   2.283974e+04  2.396392e+05  1.821947e+05  5.433809e+04    3106.426507   \nstd    1.074641e+05  9.862424e+05  7.461785e+05  2.439660e+05   17692.894652   \nmin    0.000000e+00  0.000000e+00  0.000000e+00  0.000000e+00       0.000000   \n25%    0.000000e+00  5.088640e+03  2.849420e+03  1.274700e+02       0.000000   \n50%    1.849900e+02  3.974383e+04  2.636282e+04  2.647710e+03       0.000000   \n75%    6.243420e+03  1.107834e+05  8.333767e+04  2.202925e+04     132.500000   \nmax    2.546439e+06  1.937313e+07  1.338459e+07  5.719097e+06  551693.650000   \n\n               year  \ncount  18249.000000  \nmean    2016.147899  \nstd        0.939938  \nmin     2015.000000  \n25%     2015.000000  \n50%     2016.000000  \n75%     2017.000000  \nmax     2018.000000  ",
      "text/html": "<div>\n<style scoped>\n    .dataframe tbody tr th:only-of-type {\n        vertical-align: middle;\n    }\n\n    .dataframe tbody tr th {\n        vertical-align: top;\n    }\n\n    .dataframe thead th {\n        text-align: right;\n    }\n</style>\n<table border=\"1\" class=\"dataframe\">\n  <thead>\n    <tr style=\"text-align: right;\">\n      <th></th>\n      <th>Unnamed: 0</th>\n      <th>AveragePrice</th>\n      <th>Total Volume</th>\n      <th>4046</th>\n      <th>4225</th>\n      <th>4770</th>\n      <th>Total Bags</th>\n      <th>Small Bags</th>\n      <th>Large Bags</th>\n      <th>XLarge Bags</th>\n      <th>year</th>\n    </tr>\n  </thead>\n  <tbody>\n    <tr>\n      <th>count</th>\n      <td>18249.000000</td>\n      <td>18249.000000</td>\n      <td>1.824900e+04</td>\n      <td>1.824900e+04</td>\n      <td>1.824900e+04</td>\n      <td>1.824900e+04</td>\n      <td>1.824900e+04</td>\n      <td>1.824900e+04</td>\n      <td>1.824900e+04</td>\n      <td>18249.000000</td>\n      <td>18249.000000</td>\n    </tr>\n    <tr>\n      <th>mean</th>\n      <td>24.232232</td>\n      <td>1.405978</td>\n      <td>8.506440e+05</td>\n      <td>2.930084e+05</td>\n      <td>2.951546e+05</td>\n      <td>2.283974e+04</td>\n      <td>2.396392e+05</td>\n      <td>1.821947e+05</td>\n      <td>5.433809e+04</td>\n      <td>3106.426507</td>\n      <td>2016.147899</td>\n    </tr>\n    <tr>\n      <th>std</th>\n      <td>15.481045</td>\n      <td>0.402677</td>\n      <td>3.453545e+06</td>\n      <td>1.264989e+06</td>\n      <td>1.204120e+06</td>\n      <td>1.074641e+05</td>\n      <td>9.862424e+05</td>\n      <td>7.461785e+05</td>\n      <td>2.439660e+05</td>\n      <td>17692.894652</td>\n      <td>0.939938</td>\n    </tr>\n    <tr>\n      <th>min</th>\n      <td>0.000000</td>\n      <td>0.440000</td>\n      <td>8.456000e+01</td>\n      <td>0.000000e+00</td>\n      <td>0.000000e+00</td>\n      <td>0.000000e+00</td>\n      <td>0.000000e+00</td>\n      <td>0.000000e+00</td>\n      <td>0.000000e+00</td>\n      <td>0.000000</td>\n      <td>2015.000000</td>\n    </tr>\n    <tr>\n      <th>25%</th>\n      <td>10.000000</td>\n      <td>1.100000</td>\n      <td>1.083858e+04</td>\n      <td>8.540700e+02</td>\n      <td>3.008780e+03</td>\n      <td>0.000000e+00</td>\n      <td>5.088640e+03</td>\n      <td>2.849420e+03</td>\n      <td>1.274700e+02</td>\n      <td>0.000000</td>\n      <td>2015.000000</td>\n    </tr>\n    <tr>\n      <th>50%</th>\n      <td>24.000000</td>\n      <td>1.370000</td>\n      <td>1.073768e+05</td>\n      <td>8.645300e+03</td>\n      <td>2.906102e+04</td>\n      <td>1.849900e+02</td>\n      <td>3.974383e+04</td>\n      <td>2.636282e+04</td>\n      <td>2.647710e+03</td>\n      <td>0.000000</td>\n      <td>2016.000000</td>\n    </tr>\n    <tr>\n      <th>75%</th>\n      <td>38.000000</td>\n      <td>1.660000</td>\n      <td>4.329623e+05</td>\n      <td>1.110202e+05</td>\n      <td>1.502069e+05</td>\n      <td>6.243420e+03</td>\n      <td>1.107834e+05</td>\n      <td>8.333767e+04</td>\n      <td>2.202925e+04</td>\n      <td>132.500000</td>\n      <td>2017.000000</td>\n    </tr>\n    <tr>\n      <th>max</th>\n      <td>52.000000</td>\n      <td>3.250000</td>\n      <td>6.250565e+07</td>\n      <td>2.274362e+07</td>\n      <td>2.047057e+07</td>\n      <td>2.546439e+06</td>\n      <td>1.937313e+07</td>\n      <td>1.338459e+07</td>\n      <td>5.719097e+06</td>\n      <td>551693.650000</td>\n      <td>2018.000000</td>\n    </tr>\n  </tbody>\n</table>\n</div>"
     },
     "metadata": {},
     "execution_count": 7
    }
   ],
   "source": [
    "#4 además de un marco de datos de estadísticas descriptivas de dicho dataframe. # not sure if this is what is meant with: de un marco de datos de estadísticas descriptivas\n",
    "avocado.describe()"
   ]
  },
  {
   "cell_type": "markdown",
   "metadata": {},
   "source": [
    "Muestra el index número **2904** de la columna `Date`. "
   ]
  },
  {
   "cell_type": "code",
   "execution_count": 8,
   "metadata": {},
   "outputs": [
    {
     "output_type": "execute_result",
     "data": {
      "text/plain": "'2016-02-21'"
     },
     "metadata": {},
     "execution_count": 8
    }
   ],
   "source": [
    "avocado.loc[2904, \"Date\"]"
   ]
  },
  {
   "cell_type": "markdown",
   "metadata": {},
   "source": [
    "¿De qué tipo es este valor? "
   ]
  },
  {
   "cell_type": "code",
   "execution_count": 9,
   "metadata": {},
   "outputs": [
    {
     "output_type": "execute_result",
     "data": {
      "text/plain": "str"
     },
     "metadata": {},
     "execution_count": 9
    }
   ],
   "source": [
    "type(avocado.loc[2904, \"Date\"])"
   ]
  },
  {
   "cell_type": "markdown",
   "metadata": {},
   "source": [
    "Esta columna contiene fechas, por lo que para poder trabajarla como tal, pásala a tipo `datetime64[ns]`.\n",
    "\n",
    "Existe una forma de importar el archivo `.csv` estableciendo la columna `Date` como el index, si has hecho esto al importar el archivo, a pesar del AVISO, vuelve a importarlo sin incluir argumentos. "
   ]
  },
  {
   "cell_type": "code",
   "execution_count": 10,
   "metadata": {},
   "outputs": [],
   "source": [
    "avocado.Date = pd.to_datetime(avocado.Date)"
   ]
  },
  {
   "cell_type": "code",
   "execution_count": 11,
   "metadata": {},
   "outputs": [
    {
     "output_type": "execute_result",
     "data": {
      "text/plain": "0       2015-12-27\n1       2015-12-20\n2       2015-12-13\n3       2015-12-06\n4       2015-11-29\n           ...    \n18244   2018-02-04\n18245   2018-01-28\n18246   2018-01-21\n18247   2018-01-14\n18248   2018-01-07\nName: Date, Length: 18249, dtype: datetime64[ns]"
     },
     "metadata": {},
     "execution_count": 11
    }
   ],
   "source": [
    "avocado.Date #Confirming the change to datetime"
   ]
  },
  {
   "cell_type": "markdown",
   "metadata": {},
   "source": [
    "Establece esta columna como el index de `avocado`. "
   ]
  },
  {
   "cell_type": "code",
   "execution_count": 12,
   "metadata": {},
   "outputs": [],
   "source": [
    "avocado.set_index(\"Date\", inplace=True)"
   ]
  },
  {
   "cell_type": "code",
   "execution_count": 13,
   "metadata": {},
   "outputs": [
    {
     "output_type": "execute_result",
     "data": {
      "text/plain": "            Unnamed: 0  AveragePrice  Total Volume     4046       4225  \\\nDate                                                                     \n2015-12-27           0          1.33      64236.62  1036.74   54454.85   \n2015-12-20           1          1.35      54876.98   674.28   44638.81   \n2015-12-13           2          0.93     118220.22   794.70  109149.67   \n2015-12-06           3          1.08      78992.15  1132.00   71976.41   \n2015-11-29           4          1.28      51039.60   941.48   43838.39   \n\n              4770  Total Bags  Small Bags  Large Bags  XLarge Bags  \\\nDate                                                                  \n2015-12-27   48.16     8696.87     8603.62       93.25          0.0   \n2015-12-20   58.33     9505.56     9408.07       97.49          0.0   \n2015-12-13  130.50     8145.35     8042.21      103.14          0.0   \n2015-12-06   72.58     5811.16     5677.40      133.76          0.0   \n2015-11-29   75.78     6183.95     5986.26      197.69          0.0   \n\n                    type  year  region  \nDate                                    \n2015-12-27  conventional  2015  Albany  \n2015-12-20  conventional  2015  Albany  \n2015-12-13  conventional  2015  Albany  \n2015-12-06  conventional  2015  Albany  \n2015-11-29  conventional  2015  Albany  ",
      "text/html": "<div>\n<style scoped>\n    .dataframe tbody tr th:only-of-type {\n        vertical-align: middle;\n    }\n\n    .dataframe tbody tr th {\n        vertical-align: top;\n    }\n\n    .dataframe thead th {\n        text-align: right;\n    }\n</style>\n<table border=\"1\" class=\"dataframe\">\n  <thead>\n    <tr style=\"text-align: right;\">\n      <th></th>\n      <th>Unnamed: 0</th>\n      <th>AveragePrice</th>\n      <th>Total Volume</th>\n      <th>4046</th>\n      <th>4225</th>\n      <th>4770</th>\n      <th>Total Bags</th>\n      <th>Small Bags</th>\n      <th>Large Bags</th>\n      <th>XLarge Bags</th>\n      <th>type</th>\n      <th>year</th>\n      <th>region</th>\n    </tr>\n    <tr>\n      <th>Date</th>\n      <th></th>\n      <th></th>\n      <th></th>\n      <th></th>\n      <th></th>\n      <th></th>\n      <th></th>\n      <th></th>\n      <th></th>\n      <th></th>\n      <th></th>\n      <th></th>\n      <th></th>\n    </tr>\n  </thead>\n  <tbody>\n    <tr>\n      <th>2015-12-27</th>\n      <td>0</td>\n      <td>1.33</td>\n      <td>64236.62</td>\n      <td>1036.74</td>\n      <td>54454.85</td>\n      <td>48.16</td>\n      <td>8696.87</td>\n      <td>8603.62</td>\n      <td>93.25</td>\n      <td>0.0</td>\n      <td>conventional</td>\n      <td>2015</td>\n      <td>Albany</td>\n    </tr>\n    <tr>\n      <th>2015-12-20</th>\n      <td>1</td>\n      <td>1.35</td>\n      <td>54876.98</td>\n      <td>674.28</td>\n      <td>44638.81</td>\n      <td>58.33</td>\n      <td>9505.56</td>\n      <td>9408.07</td>\n      <td>97.49</td>\n      <td>0.0</td>\n      <td>conventional</td>\n      <td>2015</td>\n      <td>Albany</td>\n    </tr>\n    <tr>\n      <th>2015-12-13</th>\n      <td>2</td>\n      <td>0.93</td>\n      <td>118220.22</td>\n      <td>794.70</td>\n      <td>109149.67</td>\n      <td>130.50</td>\n      <td>8145.35</td>\n      <td>8042.21</td>\n      <td>103.14</td>\n      <td>0.0</td>\n      <td>conventional</td>\n      <td>2015</td>\n      <td>Albany</td>\n    </tr>\n    <tr>\n      <th>2015-12-06</th>\n      <td>3</td>\n      <td>1.08</td>\n      <td>78992.15</td>\n      <td>1132.00</td>\n      <td>71976.41</td>\n      <td>72.58</td>\n      <td>5811.16</td>\n      <td>5677.40</td>\n      <td>133.76</td>\n      <td>0.0</td>\n      <td>conventional</td>\n      <td>2015</td>\n      <td>Albany</td>\n    </tr>\n    <tr>\n      <th>2015-11-29</th>\n      <td>4</td>\n      <td>1.28</td>\n      <td>51039.60</td>\n      <td>941.48</td>\n      <td>43838.39</td>\n      <td>75.78</td>\n      <td>6183.95</td>\n      <td>5986.26</td>\n      <td>197.69</td>\n      <td>0.0</td>\n      <td>conventional</td>\n      <td>2015</td>\n      <td>Albany</td>\n    </tr>\n  </tbody>\n</table>\n</div>"
     },
     "metadata": {},
     "execution_count": 13
    }
   ],
   "source": [
    "avocado.head()"
   ]
  },
  {
   "cell_type": "markdown",
   "metadata": {},
   "source": [
    "Muestra los 7 últimos valores del dataframe y observa que efectivamente se ha actualizado el index. "
   ]
  },
  {
   "cell_type": "code",
   "execution_count": 14,
   "metadata": {},
   "outputs": [
    {
     "output_type": "execute_result",
     "data": {
      "text/plain": "            Unnamed: 0  AveragePrice  Total Volume     4046     4225    4770  \\\nDate                                                                           \n2018-02-18           5          1.56      17597.12  1892.05  1928.36    0.00   \n2018-02-11           6          1.57      15986.17  1924.28  1368.32    0.00   \n2018-02-04           7          1.63      17074.83  2046.96  1529.20    0.00   \n2018-01-28           8          1.71      13888.04  1191.70  3431.50    0.00   \n2018-01-21           9          1.87      13766.76  1191.92  2452.79  727.94   \n2018-01-14          10          1.93      16205.22  1527.63  2981.04  727.01   \n2018-01-07          11          1.62      17489.58  2894.77  2356.13  224.53   \n\n            Total Bags  Small Bags  Large Bags  XLarge Bags     type  year  \\\nDate                                                                         \n2018-02-18    13776.71    13553.53      223.18          0.0  organic  2018   \n2018-02-11    12693.57    12437.35      256.22          0.0  organic  2018   \n2018-02-04    13498.67    13066.82      431.85          0.0  organic  2018   \n2018-01-28     9264.84     8940.04      324.80          0.0  organic  2018   \n2018-01-21     9394.11     9351.80       42.31          0.0  organic  2018   \n2018-01-14    10969.54    10919.54       50.00          0.0  organic  2018   \n2018-01-07    12014.15    11988.14       26.01          0.0  organic  2018   \n\n                      region  \nDate                          \n2018-02-18  WestTexNewMexico  \n2018-02-11  WestTexNewMexico  \n2018-02-04  WestTexNewMexico  \n2018-01-28  WestTexNewMexico  \n2018-01-21  WestTexNewMexico  \n2018-01-14  WestTexNewMexico  \n2018-01-07  WestTexNewMexico  ",
      "text/html": "<div>\n<style scoped>\n    .dataframe tbody tr th:only-of-type {\n        vertical-align: middle;\n    }\n\n    .dataframe tbody tr th {\n        vertical-align: top;\n    }\n\n    .dataframe thead th {\n        text-align: right;\n    }\n</style>\n<table border=\"1\" class=\"dataframe\">\n  <thead>\n    <tr style=\"text-align: right;\">\n      <th></th>\n      <th>Unnamed: 0</th>\n      <th>AveragePrice</th>\n      <th>Total Volume</th>\n      <th>4046</th>\n      <th>4225</th>\n      <th>4770</th>\n      <th>Total Bags</th>\n      <th>Small Bags</th>\n      <th>Large Bags</th>\n      <th>XLarge Bags</th>\n      <th>type</th>\n      <th>year</th>\n      <th>region</th>\n    </tr>\n    <tr>\n      <th>Date</th>\n      <th></th>\n      <th></th>\n      <th></th>\n      <th></th>\n      <th></th>\n      <th></th>\n      <th></th>\n      <th></th>\n      <th></th>\n      <th></th>\n      <th></th>\n      <th></th>\n      <th></th>\n    </tr>\n  </thead>\n  <tbody>\n    <tr>\n      <th>2018-02-18</th>\n      <td>5</td>\n      <td>1.56</td>\n      <td>17597.12</td>\n      <td>1892.05</td>\n      <td>1928.36</td>\n      <td>0.00</td>\n      <td>13776.71</td>\n      <td>13553.53</td>\n      <td>223.18</td>\n      <td>0.0</td>\n      <td>organic</td>\n      <td>2018</td>\n      <td>WestTexNewMexico</td>\n    </tr>\n    <tr>\n      <th>2018-02-11</th>\n      <td>6</td>\n      <td>1.57</td>\n      <td>15986.17</td>\n      <td>1924.28</td>\n      <td>1368.32</td>\n      <td>0.00</td>\n      <td>12693.57</td>\n      <td>12437.35</td>\n      <td>256.22</td>\n      <td>0.0</td>\n      <td>organic</td>\n      <td>2018</td>\n      <td>WestTexNewMexico</td>\n    </tr>\n    <tr>\n      <th>2018-02-04</th>\n      <td>7</td>\n      <td>1.63</td>\n      <td>17074.83</td>\n      <td>2046.96</td>\n      <td>1529.20</td>\n      <td>0.00</td>\n      <td>13498.67</td>\n      <td>13066.82</td>\n      <td>431.85</td>\n      <td>0.0</td>\n      <td>organic</td>\n      <td>2018</td>\n      <td>WestTexNewMexico</td>\n    </tr>\n    <tr>\n      <th>2018-01-28</th>\n      <td>8</td>\n      <td>1.71</td>\n      <td>13888.04</td>\n      <td>1191.70</td>\n      <td>3431.50</td>\n      <td>0.00</td>\n      <td>9264.84</td>\n      <td>8940.04</td>\n      <td>324.80</td>\n      <td>0.0</td>\n      <td>organic</td>\n      <td>2018</td>\n      <td>WestTexNewMexico</td>\n    </tr>\n    <tr>\n      <th>2018-01-21</th>\n      <td>9</td>\n      <td>1.87</td>\n      <td>13766.76</td>\n      <td>1191.92</td>\n      <td>2452.79</td>\n      <td>727.94</td>\n      <td>9394.11</td>\n      <td>9351.80</td>\n      <td>42.31</td>\n      <td>0.0</td>\n      <td>organic</td>\n      <td>2018</td>\n      <td>WestTexNewMexico</td>\n    </tr>\n    <tr>\n      <th>2018-01-14</th>\n      <td>10</td>\n      <td>1.93</td>\n      <td>16205.22</td>\n      <td>1527.63</td>\n      <td>2981.04</td>\n      <td>727.01</td>\n      <td>10969.54</td>\n      <td>10919.54</td>\n      <td>50.00</td>\n      <td>0.0</td>\n      <td>organic</td>\n      <td>2018</td>\n      <td>WestTexNewMexico</td>\n    </tr>\n    <tr>\n      <th>2018-01-07</th>\n      <td>11</td>\n      <td>1.62</td>\n      <td>17489.58</td>\n      <td>2894.77</td>\n      <td>2356.13</td>\n      <td>224.53</td>\n      <td>12014.15</td>\n      <td>11988.14</td>\n      <td>26.01</td>\n      <td>0.0</td>\n      <td>organic</td>\n      <td>2018</td>\n      <td>WestTexNewMexico</td>\n    </tr>\n  </tbody>\n</table>\n</div>"
     },
     "metadata": {},
     "execution_count": 14
    }
   ],
   "source": [
    "avocado.tail(7) #Date is now index"
   ]
  },
  {
   "cell_type": "code",
   "execution_count": 15,
   "metadata": {},
   "outputs": [
    {
     "output_type": "execute_result",
     "data": {
      "text/plain": "DatetimeIndex(['2015-12-27', '2015-12-20', '2015-12-13', '2015-12-06',\n               '2015-11-29', '2015-11-22', '2015-11-15', '2015-11-08',\n               '2015-11-01', '2015-10-25',\n               ...\n               '2018-03-11', '2018-03-04', '2018-02-25', '2018-02-18',\n               '2018-02-11', '2018-02-04', '2018-01-28', '2018-01-21',\n               '2018-01-14', '2018-01-07'],\n              dtype='datetime64[ns]', name='Date', length=18249, freq=None)"
     },
     "metadata": {},
     "execution_count": 15
    }
   ],
   "source": [
    "#extra way to confirm\n",
    "avocado.index "
   ]
  },
  {
   "cell_type": "markdown",
   "metadata": {},
   "source": [
    "Además si al leer el archivo `.csv` no eliminaste esta columna, el dataframe seguirá teniendo una columna llamada `Unnamed: 0` que contendría el valor de los index. Si es así, elimínala."
   ]
  },
  {
   "cell_type": "code",
   "execution_count": 16,
   "metadata": {},
   "outputs": [
    {
     "output_type": "execute_result",
     "data": {
      "text/plain": "Date\n2015-12-27     0\n2015-12-20     1\n2015-12-13     2\n2015-12-06     3\n2015-11-29     4\n              ..\n2018-02-04     7\n2018-01-28     8\n2018-01-21     9\n2018-01-14    10\n2018-01-07    11\nName: Unnamed: 0, Length: 18249, dtype: int64"
     },
     "metadata": {},
     "execution_count": 16
    }
   ],
   "source": [
    "avocado[\"Unnamed: 0\"] #Column still exists"
   ]
  },
  {
   "cell_type": "code",
   "execution_count": 17,
   "metadata": {},
   "outputs": [],
   "source": [
    "#deleting column:\n",
    "del avocado[\"Unnamed: 0\"]"
   ]
  },
  {
   "cell_type": "code",
   "execution_count": 18,
   "metadata": {},
   "outputs": [
    {
     "output_type": "execute_result",
     "data": {
      "text/plain": "            AveragePrice  Total Volume     4046       4225    4770  \\\nDate                                                                 \n2015-12-27          1.33      64236.62  1036.74   54454.85   48.16   \n2015-12-20          1.35      54876.98   674.28   44638.81   58.33   \n2015-12-13          0.93     118220.22   794.70  109149.67  130.50   \n2015-12-06          1.08      78992.15  1132.00   71976.41   72.58   \n2015-11-29          1.28      51039.60   941.48   43838.39   75.78   \n\n            Total Bags  Small Bags  Large Bags  XLarge Bags          type  \\\nDate                                                                        \n2015-12-27     8696.87     8603.62       93.25          0.0  conventional   \n2015-12-20     9505.56     9408.07       97.49          0.0  conventional   \n2015-12-13     8145.35     8042.21      103.14          0.0  conventional   \n2015-12-06     5811.16     5677.40      133.76          0.0  conventional   \n2015-11-29     6183.95     5986.26      197.69          0.0  conventional   \n\n            year  region  \nDate                      \n2015-12-27  2015  Albany  \n2015-12-20  2015  Albany  \n2015-12-13  2015  Albany  \n2015-12-06  2015  Albany  \n2015-11-29  2015  Albany  ",
      "text/html": "<div>\n<style scoped>\n    .dataframe tbody tr th:only-of-type {\n        vertical-align: middle;\n    }\n\n    .dataframe tbody tr th {\n        vertical-align: top;\n    }\n\n    .dataframe thead th {\n        text-align: right;\n    }\n</style>\n<table border=\"1\" class=\"dataframe\">\n  <thead>\n    <tr style=\"text-align: right;\">\n      <th></th>\n      <th>AveragePrice</th>\n      <th>Total Volume</th>\n      <th>4046</th>\n      <th>4225</th>\n      <th>4770</th>\n      <th>Total Bags</th>\n      <th>Small Bags</th>\n      <th>Large Bags</th>\n      <th>XLarge Bags</th>\n      <th>type</th>\n      <th>year</th>\n      <th>region</th>\n    </tr>\n    <tr>\n      <th>Date</th>\n      <th></th>\n      <th></th>\n      <th></th>\n      <th></th>\n      <th></th>\n      <th></th>\n      <th></th>\n      <th></th>\n      <th></th>\n      <th></th>\n      <th></th>\n      <th></th>\n    </tr>\n  </thead>\n  <tbody>\n    <tr>\n      <th>2015-12-27</th>\n      <td>1.33</td>\n      <td>64236.62</td>\n      <td>1036.74</td>\n      <td>54454.85</td>\n      <td>48.16</td>\n      <td>8696.87</td>\n      <td>8603.62</td>\n      <td>93.25</td>\n      <td>0.0</td>\n      <td>conventional</td>\n      <td>2015</td>\n      <td>Albany</td>\n    </tr>\n    <tr>\n      <th>2015-12-20</th>\n      <td>1.35</td>\n      <td>54876.98</td>\n      <td>674.28</td>\n      <td>44638.81</td>\n      <td>58.33</td>\n      <td>9505.56</td>\n      <td>9408.07</td>\n      <td>97.49</td>\n      <td>0.0</td>\n      <td>conventional</td>\n      <td>2015</td>\n      <td>Albany</td>\n    </tr>\n    <tr>\n      <th>2015-12-13</th>\n      <td>0.93</td>\n      <td>118220.22</td>\n      <td>794.70</td>\n      <td>109149.67</td>\n      <td>130.50</td>\n      <td>8145.35</td>\n      <td>8042.21</td>\n      <td>103.14</td>\n      <td>0.0</td>\n      <td>conventional</td>\n      <td>2015</td>\n      <td>Albany</td>\n    </tr>\n    <tr>\n      <th>2015-12-06</th>\n      <td>1.08</td>\n      <td>78992.15</td>\n      <td>1132.00</td>\n      <td>71976.41</td>\n      <td>72.58</td>\n      <td>5811.16</td>\n      <td>5677.40</td>\n      <td>133.76</td>\n      <td>0.0</td>\n      <td>conventional</td>\n      <td>2015</td>\n      <td>Albany</td>\n    </tr>\n    <tr>\n      <th>2015-11-29</th>\n      <td>1.28</td>\n      <td>51039.60</td>\n      <td>941.48</td>\n      <td>43838.39</td>\n      <td>75.78</td>\n      <td>6183.95</td>\n      <td>5986.26</td>\n      <td>197.69</td>\n      <td>0.0</td>\n      <td>conventional</td>\n      <td>2015</td>\n      <td>Albany</td>\n    </tr>\n  </tbody>\n</table>\n</div>"
     },
     "metadata": {},
     "execution_count": 18
    }
   ],
   "source": [
    "avocado.head() #confirming columns has been deleted. "
   ]
  },
  {
   "cell_type": "markdown",
   "metadata": {},
   "source": [
    "¿Qué columnas continúan siendo de tipo **object**? Usa al menos una función de **pandas** para ello. "
   ]
  },
  {
   "cell_type": "code",
   "execution_count": 19,
   "metadata": {},
   "outputs": [
    {
     "output_type": "execute_result",
     "data": {
      "text/plain": "AveragePrice    float64\nTotal Volume    float64\n4046            float64\n4225            float64\n4770            float64\nTotal Bags      float64\nSmall Bags      float64\nLarge Bags      float64\nXLarge Bags     float64\ntype             object\nyear              int64\nregion           object\ndtype: object"
     },
     "metadata": {},
     "execution_count": 19
    }
   ],
   "source": [
    "avocado.dtypes # columns: type and region are still type object."
   ]
  },
  {
   "cell_type": "code",
   "execution_count": 20,
   "metadata": {},
   "outputs": [
    {
     "output_type": "execute_result",
     "data": {
      "text/plain": "Index(['type', 'region'], dtype='object')"
     },
     "metadata": {},
     "execution_count": 20
    }
   ],
   "source": [
    "avocado.columns[avocado.dtypes == \"object\"] #Another way to find the columns with object type"
   ]
  },
  {
   "cell_type": "markdown",
   "metadata": {},
   "source": [
    "¿Cuántos valores únicos encontramos en estas columnas que continúan siendo de tipo **object**? "
   ]
  },
  {
   "cell_type": "code",
   "execution_count": 21,
   "metadata": {},
   "outputs": [
    {
     "output_type": "execute_result",
     "data": {
      "text/plain": "2"
     },
     "metadata": {},
     "execution_count": 21
    }
   ],
   "source": [
    "avocado.type.nunique() # 2 unique values in column type"
   ]
  },
  {
   "cell_type": "code",
   "execution_count": 22,
   "metadata": {},
   "outputs": [
    {
     "output_type": "execute_result",
     "data": {
      "text/plain": "54"
     },
     "metadata": {},
     "execution_count": 22
    }
   ],
   "source": [
    "avocado.region.nunique() # 54 unique values in region column"
   ]
  },
  {
   "cell_type": "code",
   "execution_count": 23,
   "metadata": {},
   "outputs": [
    {
     "output_type": "execute_result",
     "data": {
      "text/plain": "type       2\nregion    54\ndtype: int64"
     },
     "metadata": {},
     "execution_count": 23
    }
   ],
   "source": [
    "avocado[[\"type\", \"region\"]].nunique() #see both at once"
   ]
  },
  {
   "cell_type": "markdown",
   "metadata": {},
   "source": [
    "¿Qué número de ocurrencias tiene cada uno de estos valores únicos en la columna en que se encuentra? "
   ]
  },
  {
   "cell_type": "code",
   "execution_count": 24,
   "metadata": {},
   "outputs": [
    {
     "output_type": "execute_result",
     "data": {
      "text/plain": "conventional    9126\norganic         9123\nName: type, dtype: int64"
     },
     "metadata": {},
     "execution_count": 24
    }
   ],
   "source": [
    "avocado.type.value_counts() #number of occurences of each unique value in column type"
   ]
  },
  {
   "cell_type": "code",
   "execution_count": 25,
   "metadata": {},
   "outputs": [
    {
     "output_type": "execute_result",
     "data": {
      "text/plain": "Southeast              338\nSanDiego               338\nDetroit                338\nSouthCarolina          338\nDallasFtWorth          338\nStLouis                338\nBoston                 338\nPhiladelphia           338\nJacksonville           338\nDenver                 338\nPlains                 338\nTotalUS                338\nPhoenixTucson          338\nMiamiFtLauderdale      338\nHarrisburgScranton     338\nBuffaloRochester       338\nHartfordSpringfield    338\nSyracuse               338\nHouston                338\nCalifornia             338\nLouisville             338\nAtlanta                338\nGreatLakes             338\nOrlando                338\nMidsouth               338\nLasVegas               338\nSanFrancisco           338\nRoanoke                338\nPortland               338\nNortheast              338\nPittsburgh             338\nLosAngeles             338\nTampa                  338\nAlbany                 338\nGrandRapids            338\nRaleighGreensboro      338\nNewYork                338\nNorthernNewEngland     338\nNewOrleansMobile       338\nBoise                  338\nIndianapolis           338\nSacramento             338\nSeattle                338\nCincinnatiDayton       338\nRichmondNorfolk        338\nSpokane                338\nColumbus               338\nChicago                338\nSouthCentral           338\nWest                   338\nBaltimoreWashington    338\nNashville              338\nCharlotte              338\nWestTexNewMexico       335\nName: region, dtype: int64"
     },
     "metadata": {},
     "execution_count": 25
    }
   ],
   "source": [
    "avocado.region.value_counts() #number of occurences of each unique value in column region"
   ]
  },
  {
   "cell_type": "markdown",
   "metadata": {},
   "source": [
    "Ahora que hemos explorado el dataframe, podemos empezar a trabajar con ello. En este caso, ordena el `index` de manera que la fecha **2015-01-04** quede arriba. "
   ]
  },
  {
   "cell_type": "code",
   "execution_count": 26,
   "metadata": {},
   "outputs": [],
   "source": [
    "avocado.sort_values(by='Date', inplace=True)"
   ]
  },
  {
   "cell_type": "code",
   "execution_count": 27,
   "metadata": {},
   "outputs": [
    {
     "output_type": "execute_result",
     "data": {
      "text/plain": "            AveragePrice  Total Volume     4046      4225     4770  \\\nDate                                                                 \n2015-01-04          1.75      27365.89  9307.34   3844.81   615.28   \n2015-01-04          1.49      17723.17  1189.35  15628.27     0.00   \n2015-01-04          1.68       2896.72   161.68    206.96     0.00   \n2015-01-04          1.52      54956.80  3013.04  35456.88  1561.70   \n2015-01-04          1.64       1505.12     1.27   1129.50     0.00   \n\n            Total Bags  Small Bags  Large Bags  XLarge Bags          type  \\\nDate                                                                        \n2015-01-04    13598.46    13061.10      537.36          0.0       organic   \n2015-01-04      905.55      905.55        0.00          0.0       organic   \n2015-01-04     2528.08     2528.08        0.00          0.0       organic   \n2015-01-04    14925.18    11264.80     3660.38          0.0  conventional   \n2015-01-04      374.35      186.67      187.68          0.0       organic   \n\n            year              region  \nDate                                  \n2015-01-04  2015           Southeast  \n2015-01-04  2015             Chicago  \n2015-01-04  2015  HarrisburgScranton  \n2015-01-04  2015          Pittsburgh  \n2015-01-04  2015               Boise  ",
      "text/html": "<div>\n<style scoped>\n    .dataframe tbody tr th:only-of-type {\n        vertical-align: middle;\n    }\n\n    .dataframe tbody tr th {\n        vertical-align: top;\n    }\n\n    .dataframe thead th {\n        text-align: right;\n    }\n</style>\n<table border=\"1\" class=\"dataframe\">\n  <thead>\n    <tr style=\"text-align: right;\">\n      <th></th>\n      <th>AveragePrice</th>\n      <th>Total Volume</th>\n      <th>4046</th>\n      <th>4225</th>\n      <th>4770</th>\n      <th>Total Bags</th>\n      <th>Small Bags</th>\n      <th>Large Bags</th>\n      <th>XLarge Bags</th>\n      <th>type</th>\n      <th>year</th>\n      <th>region</th>\n    </tr>\n    <tr>\n      <th>Date</th>\n      <th></th>\n      <th></th>\n      <th></th>\n      <th></th>\n      <th></th>\n      <th></th>\n      <th></th>\n      <th></th>\n      <th></th>\n      <th></th>\n      <th></th>\n      <th></th>\n    </tr>\n  </thead>\n  <tbody>\n    <tr>\n      <th>2015-01-04</th>\n      <td>1.75</td>\n      <td>27365.89</td>\n      <td>9307.34</td>\n      <td>3844.81</td>\n      <td>615.28</td>\n      <td>13598.46</td>\n      <td>13061.10</td>\n      <td>537.36</td>\n      <td>0.0</td>\n      <td>organic</td>\n      <td>2015</td>\n      <td>Southeast</td>\n    </tr>\n    <tr>\n      <th>2015-01-04</th>\n      <td>1.49</td>\n      <td>17723.17</td>\n      <td>1189.35</td>\n      <td>15628.27</td>\n      <td>0.00</td>\n      <td>905.55</td>\n      <td>905.55</td>\n      <td>0.00</td>\n      <td>0.0</td>\n      <td>organic</td>\n      <td>2015</td>\n      <td>Chicago</td>\n    </tr>\n    <tr>\n      <th>2015-01-04</th>\n      <td>1.68</td>\n      <td>2896.72</td>\n      <td>161.68</td>\n      <td>206.96</td>\n      <td>0.00</td>\n      <td>2528.08</td>\n      <td>2528.08</td>\n      <td>0.00</td>\n      <td>0.0</td>\n      <td>organic</td>\n      <td>2015</td>\n      <td>HarrisburgScranton</td>\n    </tr>\n    <tr>\n      <th>2015-01-04</th>\n      <td>1.52</td>\n      <td>54956.80</td>\n      <td>3013.04</td>\n      <td>35456.88</td>\n      <td>1561.70</td>\n      <td>14925.18</td>\n      <td>11264.80</td>\n      <td>3660.38</td>\n      <td>0.0</td>\n      <td>conventional</td>\n      <td>2015</td>\n      <td>Pittsburgh</td>\n    </tr>\n    <tr>\n      <th>2015-01-04</th>\n      <td>1.64</td>\n      <td>1505.12</td>\n      <td>1.27</td>\n      <td>1129.50</td>\n      <td>0.00</td>\n      <td>374.35</td>\n      <td>186.67</td>\n      <td>187.68</td>\n      <td>0.0</td>\n      <td>organic</td>\n      <td>2015</td>\n      <td>Boise</td>\n    </tr>\n  </tbody>\n</table>\n</div>"
     },
     "metadata": {},
     "execution_count": 27
    }
   ],
   "source": [
    "avocado.head() #Sorted by date so first day of 2015 is at the top."
   ]
  },
  {
   "cell_type": "markdown",
   "metadata": {},
   "source": [
    "Agrupa el dataframe `avocado` por tipo y quédate con el mínimo del resto de las columnas. "
   ]
  },
  {
   "cell_type": "code",
   "execution_count": 28,
   "metadata": {},
   "outputs": [
    {
     "output_type": "execute_result",
     "data": {
      "text/plain": "              AveragePrice  Total Volume   4046    4225  4770  Total Bags  \\\ntype                                                                        \nconventional          0.46      33699.68  72.06  1518.0   0.0     3047.17   \norganic               0.44         84.56   0.00     0.0   0.0        0.00   \n\n              Small Bags  Large Bags  XLarge Bags  year  region  \ntype                                                             \nconventional     1119.18         0.0          0.0  2015  Albany  \norganic             0.00         0.0          0.0  2015  Albany  ",
      "text/html": "<div>\n<style scoped>\n    .dataframe tbody tr th:only-of-type {\n        vertical-align: middle;\n    }\n\n    .dataframe tbody tr th {\n        vertical-align: top;\n    }\n\n    .dataframe thead th {\n        text-align: right;\n    }\n</style>\n<table border=\"1\" class=\"dataframe\">\n  <thead>\n    <tr style=\"text-align: right;\">\n      <th></th>\n      <th>AveragePrice</th>\n      <th>Total Volume</th>\n      <th>4046</th>\n      <th>4225</th>\n      <th>4770</th>\n      <th>Total Bags</th>\n      <th>Small Bags</th>\n      <th>Large Bags</th>\n      <th>XLarge Bags</th>\n      <th>year</th>\n      <th>region</th>\n    </tr>\n    <tr>\n      <th>type</th>\n      <th></th>\n      <th></th>\n      <th></th>\n      <th></th>\n      <th></th>\n      <th></th>\n      <th></th>\n      <th></th>\n      <th></th>\n      <th></th>\n      <th></th>\n    </tr>\n  </thead>\n  <tbody>\n    <tr>\n      <th>conventional</th>\n      <td>0.46</td>\n      <td>33699.68</td>\n      <td>72.06</td>\n      <td>1518.0</td>\n      <td>0.0</td>\n      <td>3047.17</td>\n      <td>1119.18</td>\n      <td>0.0</td>\n      <td>0.0</td>\n      <td>2015</td>\n      <td>Albany</td>\n    </tr>\n    <tr>\n      <th>organic</th>\n      <td>0.44</td>\n      <td>84.56</td>\n      <td>0.00</td>\n      <td>0.0</td>\n      <td>0.0</td>\n      <td>0.00</td>\n      <td>0.00</td>\n      <td>0.0</td>\n      <td>0.0</td>\n      <td>2015</td>\n      <td>Albany</td>\n    </tr>\n  </tbody>\n</table>\n</div>"
     },
     "metadata": {},
     "execution_count": 28
    }
   ],
   "source": [
    "avocado.groupby(\"type\").min()"
   ]
  },
  {
   "cell_type": "markdown",
   "metadata": {},
   "source": [
    "Además, queremos conocer el máximo de bolsas pequeñas, bolsas grandes y bolsas extragrandes de aguacates que se vendieron por año, por cada región. Crea un dataframe que se llame `group_bags` que muestre dicha información. "
   ]
  },
  {
   "cell_type": "code",
   "execution_count": 29,
   "metadata": {},
   "outputs": [
    {
     "output_type": "execute_result",
     "data": {
      "text/plain": "                       Small Bags  Large Bags  XLarge Bags\nregion           year                                     \nAlbany           2015    29663.19      778.26       104.17\n                 2016    23926.35     2157.76      2900.00\n                 2017    13277.29    27205.98      2585.00\n                 2018    30126.31    10707.93       500.00\nAtlanta          2015    55484.76    52442.25       134.72\n...                           ...         ...          ...\nWest             2018  1435608.59  2838239.39     26564.17\nWestTexNewMexico 2015   165202.22    48325.74     25716.67\n                 2016   243993.80   219187.07     38120.00\n                 2017   192156.83   287509.52      5516.66\n                 2018   164965.35   229786.03      9317.43\n\n[216 rows x 3 columns]",
      "text/html": "<div>\n<style scoped>\n    .dataframe tbody tr th:only-of-type {\n        vertical-align: middle;\n    }\n\n    .dataframe tbody tr th {\n        vertical-align: top;\n    }\n\n    .dataframe thead th {\n        text-align: right;\n    }\n</style>\n<table border=\"1\" class=\"dataframe\">\n  <thead>\n    <tr style=\"text-align: right;\">\n      <th></th>\n      <th></th>\n      <th>Small Bags</th>\n      <th>Large Bags</th>\n      <th>XLarge Bags</th>\n    </tr>\n    <tr>\n      <th>region</th>\n      <th>year</th>\n      <th></th>\n      <th></th>\n      <th></th>\n    </tr>\n  </thead>\n  <tbody>\n    <tr>\n      <th rowspan=\"4\" valign=\"top\">Albany</th>\n      <th>2015</th>\n      <td>29663.19</td>\n      <td>778.26</td>\n      <td>104.17</td>\n    </tr>\n    <tr>\n      <th>2016</th>\n      <td>23926.35</td>\n      <td>2157.76</td>\n      <td>2900.00</td>\n    </tr>\n    <tr>\n      <th>2017</th>\n      <td>13277.29</td>\n      <td>27205.98</td>\n      <td>2585.00</td>\n    </tr>\n    <tr>\n      <th>2018</th>\n      <td>30126.31</td>\n      <td>10707.93</td>\n      <td>500.00</td>\n    </tr>\n    <tr>\n      <th>Atlanta</th>\n      <th>2015</th>\n      <td>55484.76</td>\n      <td>52442.25</td>\n      <td>134.72</td>\n    </tr>\n    <tr>\n      <th>...</th>\n      <th>...</th>\n      <td>...</td>\n      <td>...</td>\n      <td>...</td>\n    </tr>\n    <tr>\n      <th>West</th>\n      <th>2018</th>\n      <td>1435608.59</td>\n      <td>2838239.39</td>\n      <td>26564.17</td>\n    </tr>\n    <tr>\n      <th rowspan=\"4\" valign=\"top\">WestTexNewMexico</th>\n      <th>2015</th>\n      <td>165202.22</td>\n      <td>48325.74</td>\n      <td>25716.67</td>\n    </tr>\n    <tr>\n      <th>2016</th>\n      <td>243993.80</td>\n      <td>219187.07</td>\n      <td>38120.00</td>\n    </tr>\n    <tr>\n      <th>2017</th>\n      <td>192156.83</td>\n      <td>287509.52</td>\n      <td>5516.66</td>\n    </tr>\n    <tr>\n      <th>2018</th>\n      <td>164965.35</td>\n      <td>229786.03</td>\n      <td>9317.43</td>\n    </tr>\n  </tbody>\n</table>\n<p>216 rows × 3 columns</p>\n</div>"
     },
     "metadata": {},
     "execution_count": 29
    }
   ],
   "source": [
    "group_bags_1 = avocado.groupby([\"region\", \"year\"])[[\"Small Bags\", \"Large Bags\", \"XLarge Bags\"]].max()\n",
    "group_bags_1"
   ]
  },
  {
   "cell_type": "markdown",
   "metadata": {},
   "source": [
    "A partir del dataframe `group_bags` muestra en qué año y en qué región se vendió el máximo número de bolsas pequeñas de aguacates. "
   ]
  },
  {
   "cell_type": "code",
   "execution_count": 30,
   "metadata": {},
   "outputs": [
    {
     "output_type": "execute_result",
     "data": {
      "text/plain": "              Small Bags  Large Bags  XLarge Bags\nregion  year                                     \nTotalUS 2018  13384586.8  5719096.61    309467.53",
      "text/html": "<div>\n<style scoped>\n    .dataframe tbody tr th:only-of-type {\n        vertical-align: middle;\n    }\n\n    .dataframe tbody tr th {\n        vertical-align: top;\n    }\n\n    .dataframe thead th {\n        text-align: right;\n    }\n</style>\n<table border=\"1\" class=\"dataframe\">\n  <thead>\n    <tr style=\"text-align: right;\">\n      <th></th>\n      <th></th>\n      <th>Small Bags</th>\n      <th>Large Bags</th>\n      <th>XLarge Bags</th>\n    </tr>\n    <tr>\n      <th>region</th>\n      <th>year</th>\n      <th></th>\n      <th></th>\n      <th></th>\n    </tr>\n  </thead>\n  <tbody>\n    <tr>\n      <th>TotalUS</th>\n      <th>2018</th>\n      <td>13384586.8</td>\n      <td>5719096.61</td>\n      <td>309467.53</td>\n    </tr>\n  </tbody>\n</table>\n</div>"
     },
     "metadata": {},
     "execution_count": 30
    }
   ],
   "source": [
    "group_bags_1[group_bags_1[\"Small Bags\"] == group_bags_1[\"Small Bags\"].max()]"
   ]
  },
  {
   "cell_type": "code",
   "execution_count": 31,
   "metadata": {},
   "outputs": [],
   "source": [
    "## As TotalUS is not a region but the total of all regions (in my understanding of the Df), it will ofcourse always be the maximum small bags that are sold as it is the sum of all regions in the US. Therefore to really show the region with maximum sold small bags I looked for the second highest which is California:"
   ]
  },
  {
   "cell_type": "code",
   "execution_count": 32,
   "metadata": {},
   "outputs": [
    {
     "output_type": "execute_result",
     "data": {
      "text/plain": "region        year\nTotalUS       2018    13384586.80\n              2017    12567155.58\n              2016     9967538.34\n              2015     5893641.72\nCalifornia    2017     3403581.49\nSouthCentral  2018     3398569.92\nWest          2017     2780258.77\nCalifornia    2016     2693843.02\nLosAngeles    2017     2656630.42\nWest          2016     2543800.78\nName: Small Bags, dtype: float64"
     },
     "metadata": {},
     "execution_count": 32
    }
   ],
   "source": [
    "group_bags_1[\"Small Bags\"].sort_values(ascending=False).head(10) #After totalUS the region with the maximum sold small bags is California with: 3403581.49 "
   ]
  },
  {
   "cell_type": "code",
   "execution_count": 33,
   "metadata": {},
   "outputs": [
    {
     "output_type": "execute_result",
     "data": {
      "text/plain": "                 Small Bags  Large Bags  XLarge Bags\nregion     year                                     \nCalifornia 2017  3403581.49   151333.95     81066.26",
      "text/html": "<div>\n<style scoped>\n    .dataframe tbody tr th:only-of-type {\n        vertical-align: middle;\n    }\n\n    .dataframe tbody tr th {\n        vertical-align: top;\n    }\n\n    .dataframe thead th {\n        text-align: right;\n    }\n</style>\n<table border=\"1\" class=\"dataframe\">\n  <thead>\n    <tr style=\"text-align: right;\">\n      <th></th>\n      <th></th>\n      <th>Small Bags</th>\n      <th>Large Bags</th>\n      <th>XLarge Bags</th>\n    </tr>\n    <tr>\n      <th>region</th>\n      <th>year</th>\n      <th></th>\n      <th></th>\n      <th></th>\n    </tr>\n  </thead>\n  <tbody>\n    <tr>\n      <th>California</th>\n      <th>2017</th>\n      <td>3403581.49</td>\n      <td>151333.95</td>\n      <td>81066.26</td>\n    </tr>\n  </tbody>\n</table>\n</div>"
     },
     "metadata": {},
     "execution_count": 33
    }
   ],
   "source": [
    "group_bags_1[group_bags_1[\"Small Bags\"] == 3403581.49] #Filtering the dataframe with this information"
   ]
  },
  {
   "cell_type": "markdown",
   "metadata": {},
   "source": [
    "Asigna a la variable `avocado_months` el dataframe `avocado` agrupado por **meses** y por la media de los valores de cada columna. Hay dos maneras diferentes de resolver este ejercicio, sin embargo, con uno sería suficiente. \n",
    "\n",
    "Muestra solo los primeros 15 valores. "
   ]
  },
  {
   "cell_type": "code",
   "execution_count": 34,
   "metadata": {},
   "outputs": [],
   "source": [
    "avocado_months = avocado.resample('M').mean()"
   ]
  },
  {
   "cell_type": "code",
   "execution_count": 35,
   "metadata": {},
   "outputs": [
    {
     "output_type": "execute_result",
     "data": {
      "text/plain": "            AveragePrice   Total Volume           4046           4225  \\\nDate                                                                    \n2015-01-31      1.365046  736308.355532  296829.313565  301506.093912   \n2015-02-28      1.326944  839438.887106  354552.080000  334110.463727   \n2015-03-31      1.361981  775153.832907  324630.507778  299831.998981   \n2015-04-30      1.383449  796630.544329  348567.729491  291150.142593   \n2015-05-31      1.344685  895896.379241  394883.681407  330662.679722   \n2015-06-30      1.399074  883858.203032  374715.185903  317095.642338   \n2015-07-31      1.409444  825698.779236  326456.573750  321060.962685   \n2015-08-31      1.444481  776379.286704  300310.837796  321335.405667   \n2015-09-30      1.449144  762080.632060  247781.252500  356497.374190   \n2015-10-31      1.391968  707815.071806  214976.447894  331744.578704   \n2015-11-30      1.330611  684148.215537  230572.546722  292348.258463   \n2015-12-31      1.305244  686835.108794  230718.662738  268747.887401   \n2016-01-31      1.240185  880381.047370  248846.960093  354846.291574   \n2016-02-29      1.237106  992235.652731  303715.019931  372600.768704   \n2016-03-31      1.224213  905584.278426  276501.768171  330062.790810   \n\n                    4770     Total Bags     Small Bags    Large Bags  \\\nDate                                                                   \n2015-01-31  20635.684028  117337.264028   96502.584213  20513.634144   \n2015-02-28  24220.692431  126555.650949  106004.821690  20017.510602   \n2015-03-31  23068.926037  127622.400111  109589.476796  17325.542056   \n2015-04-30  22056.120440  134856.551806  114351.516134  19976.716250   \n2015-05-31  23923.426833  146426.591278  123510.636407  22365.188204   \n2015-06-30  28241.728264  163805.646528  140095.819745  22889.726667   \n2015-07-31  27713.835718  150467.386250  126518.964097  23135.342292   \n2015-08-31  25399.461870  129333.573963  109437.493519  18895.924852   \n2015-09-30  27756.865671  130045.139699  100038.074236  28664.317685   \n2015-10-31  32360.636991  128733.408218   99441.142894  28159.288125   \n2015-11-30  24339.130463  136888.279889  106598.555463  29190.574759   \n2015-12-31  26654.108329  160714.450325  125089.361833  32706.897680   \n2016-01-31  36216.326611  240471.469093  176353.023167  61009.767944   \n2016-02-29  44169.501713  271750.362384  199309.627477  69751.625301   \n2016-03-31  42992.560046  256027.159398  193483.747222  60488.572407   \n\n            XLarge Bags  year  \nDate                           \n2015-01-31   321.045671  2015  \n2015-02-28   533.318657  2015  \n2015-03-31   707.381259  2015  \n2015-04-30   528.319421  2015  \n2015-05-31   550.766667  2015  \n2015-06-30   820.100116  2015  \n2015-07-31   813.075231  2015  \n2015-08-31  1000.153741  2015  \n2015-09-30  1342.747778  2015  \n2015-10-31  1132.977199  2015  \n2015-11-30  1099.149667  2015  \n2015-12-31  2918.190812  2015  \n2016-01-31  3108.677981  2016  \n2016-02-29  2689.109606  2016  \n2016-03-31  2054.839769  2016  ",
      "text/html": "<div>\n<style scoped>\n    .dataframe tbody tr th:only-of-type {\n        vertical-align: middle;\n    }\n\n    .dataframe tbody tr th {\n        vertical-align: top;\n    }\n\n    .dataframe thead th {\n        text-align: right;\n    }\n</style>\n<table border=\"1\" class=\"dataframe\">\n  <thead>\n    <tr style=\"text-align: right;\">\n      <th></th>\n      <th>AveragePrice</th>\n      <th>Total Volume</th>\n      <th>4046</th>\n      <th>4225</th>\n      <th>4770</th>\n      <th>Total Bags</th>\n      <th>Small Bags</th>\n      <th>Large Bags</th>\n      <th>XLarge Bags</th>\n      <th>year</th>\n    </tr>\n    <tr>\n      <th>Date</th>\n      <th></th>\n      <th></th>\n      <th></th>\n      <th></th>\n      <th></th>\n      <th></th>\n      <th></th>\n      <th></th>\n      <th></th>\n      <th></th>\n    </tr>\n  </thead>\n  <tbody>\n    <tr>\n      <th>2015-01-31</th>\n      <td>1.365046</td>\n      <td>736308.355532</td>\n      <td>296829.313565</td>\n      <td>301506.093912</td>\n      <td>20635.684028</td>\n      <td>117337.264028</td>\n      <td>96502.584213</td>\n      <td>20513.634144</td>\n      <td>321.045671</td>\n      <td>2015</td>\n    </tr>\n    <tr>\n      <th>2015-02-28</th>\n      <td>1.326944</td>\n      <td>839438.887106</td>\n      <td>354552.080000</td>\n      <td>334110.463727</td>\n      <td>24220.692431</td>\n      <td>126555.650949</td>\n      <td>106004.821690</td>\n      <td>20017.510602</td>\n      <td>533.318657</td>\n      <td>2015</td>\n    </tr>\n    <tr>\n      <th>2015-03-31</th>\n      <td>1.361981</td>\n      <td>775153.832907</td>\n      <td>324630.507778</td>\n      <td>299831.998981</td>\n      <td>23068.926037</td>\n      <td>127622.400111</td>\n      <td>109589.476796</td>\n      <td>17325.542056</td>\n      <td>707.381259</td>\n      <td>2015</td>\n    </tr>\n    <tr>\n      <th>2015-04-30</th>\n      <td>1.383449</td>\n      <td>796630.544329</td>\n      <td>348567.729491</td>\n      <td>291150.142593</td>\n      <td>22056.120440</td>\n      <td>134856.551806</td>\n      <td>114351.516134</td>\n      <td>19976.716250</td>\n      <td>528.319421</td>\n      <td>2015</td>\n    </tr>\n    <tr>\n      <th>2015-05-31</th>\n      <td>1.344685</td>\n      <td>895896.379241</td>\n      <td>394883.681407</td>\n      <td>330662.679722</td>\n      <td>23923.426833</td>\n      <td>146426.591278</td>\n      <td>123510.636407</td>\n      <td>22365.188204</td>\n      <td>550.766667</td>\n      <td>2015</td>\n    </tr>\n    <tr>\n      <th>2015-06-30</th>\n      <td>1.399074</td>\n      <td>883858.203032</td>\n      <td>374715.185903</td>\n      <td>317095.642338</td>\n      <td>28241.728264</td>\n      <td>163805.646528</td>\n      <td>140095.819745</td>\n      <td>22889.726667</td>\n      <td>820.100116</td>\n      <td>2015</td>\n    </tr>\n    <tr>\n      <th>2015-07-31</th>\n      <td>1.409444</td>\n      <td>825698.779236</td>\n      <td>326456.573750</td>\n      <td>321060.962685</td>\n      <td>27713.835718</td>\n      <td>150467.386250</td>\n      <td>126518.964097</td>\n      <td>23135.342292</td>\n      <td>813.075231</td>\n      <td>2015</td>\n    </tr>\n    <tr>\n      <th>2015-08-31</th>\n      <td>1.444481</td>\n      <td>776379.286704</td>\n      <td>300310.837796</td>\n      <td>321335.405667</td>\n      <td>25399.461870</td>\n      <td>129333.573963</td>\n      <td>109437.493519</td>\n      <td>18895.924852</td>\n      <td>1000.153741</td>\n      <td>2015</td>\n    </tr>\n    <tr>\n      <th>2015-09-30</th>\n      <td>1.449144</td>\n      <td>762080.632060</td>\n      <td>247781.252500</td>\n      <td>356497.374190</td>\n      <td>27756.865671</td>\n      <td>130045.139699</td>\n      <td>100038.074236</td>\n      <td>28664.317685</td>\n      <td>1342.747778</td>\n      <td>2015</td>\n    </tr>\n    <tr>\n      <th>2015-10-31</th>\n      <td>1.391968</td>\n      <td>707815.071806</td>\n      <td>214976.447894</td>\n      <td>331744.578704</td>\n      <td>32360.636991</td>\n      <td>128733.408218</td>\n      <td>99441.142894</td>\n      <td>28159.288125</td>\n      <td>1132.977199</td>\n      <td>2015</td>\n    </tr>\n    <tr>\n      <th>2015-11-30</th>\n      <td>1.330611</td>\n      <td>684148.215537</td>\n      <td>230572.546722</td>\n      <td>292348.258463</td>\n      <td>24339.130463</td>\n      <td>136888.279889</td>\n      <td>106598.555463</td>\n      <td>29190.574759</td>\n      <td>1099.149667</td>\n      <td>2015</td>\n    </tr>\n    <tr>\n      <th>2015-12-31</th>\n      <td>1.305244</td>\n      <td>686835.108794</td>\n      <td>230718.662738</td>\n      <td>268747.887401</td>\n      <td>26654.108329</td>\n      <td>160714.450325</td>\n      <td>125089.361833</td>\n      <td>32706.897680</td>\n      <td>2918.190812</td>\n      <td>2015</td>\n    </tr>\n    <tr>\n      <th>2016-01-31</th>\n      <td>1.240185</td>\n      <td>880381.047370</td>\n      <td>248846.960093</td>\n      <td>354846.291574</td>\n      <td>36216.326611</td>\n      <td>240471.469093</td>\n      <td>176353.023167</td>\n      <td>61009.767944</td>\n      <td>3108.677981</td>\n      <td>2016</td>\n    </tr>\n    <tr>\n      <th>2016-02-29</th>\n      <td>1.237106</td>\n      <td>992235.652731</td>\n      <td>303715.019931</td>\n      <td>372600.768704</td>\n      <td>44169.501713</td>\n      <td>271750.362384</td>\n      <td>199309.627477</td>\n      <td>69751.625301</td>\n      <td>2689.109606</td>\n      <td>2016</td>\n    </tr>\n    <tr>\n      <th>2016-03-31</th>\n      <td>1.224213</td>\n      <td>905584.278426</td>\n      <td>276501.768171</td>\n      <td>330062.790810</td>\n      <td>42992.560046</td>\n      <td>256027.159398</td>\n      <td>193483.747222</td>\n      <td>60488.572407</td>\n      <td>2054.839769</td>\n      <td>2016</td>\n    </tr>\n  </tbody>\n</table>\n</div>"
     },
     "metadata": {},
     "execution_count": 35
    }
   ],
   "source": [
    "avocado_months.head(15)"
   ]
  },
  {
   "cell_type": "markdown",
   "metadata": {},
   "source": [
    "A partir de `avocado_months` calcula el precio máximo de los aguacates de los meses de enero. "
   ]
  },
  {
   "cell_type": "code",
   "execution_count": 36,
   "metadata": {},
   "outputs": [
    {
     "output_type": "execute_result",
     "data": {
      "text/plain": "Date\n2015-01-31    1.365046\n2016-01-31    1.240185\n2017-01-31    1.277500\n2018-01-31    1.387431\nName: AveragePrice, dtype: float64"
     },
     "metadata": {},
     "execution_count": 36
    }
   ],
   "source": [
    "test_1 = avocado_months.index[avocado_months.index.month == 1]\n",
    "avocado_months.loc[test_1].AveragePrice # getting the prices of the months of January of all the years"
   ]
  },
  {
   "cell_type": "code",
   "execution_count": 37,
   "metadata": {},
   "outputs": [
    {
     "output_type": "execute_result",
     "data": {
      "text/plain": "1.3874305555555553"
     },
     "metadata": {},
     "execution_count": 37
    }
   ],
   "source": [
    "avocado_months.loc[test_1].AveragePrice.max() #getting the maximum price of all the months of January. "
   ]
  },
  {
   "cell_type": "markdown",
   "metadata": {},
   "source": [
    "Asigna a la variable `avocado_tri` el dataframe `avocado` agrupado por **trimestre** y el sumatorio de los valores de cada columna. "
   ]
  },
  {
   "cell_type": "code",
   "execution_count": 38,
   "metadata": {},
   "outputs": [
    {
     "output_type": "execute_result",
     "data": {
      "text/plain": "            AveragePrice  Total Volume          4046          4225  \\\nDate                                                                 \n2015-01-31        589.70  3.180852e+08  1.282303e+08  1.302506e+08   \n2015-04-30       1906.36  1.125365e+09  4.790482e+08  4.320219e+08   \n2015-07-31       1939.41  1.222313e+09  5.161434e+08  4.542415e+08   \n2015-10-31       2007.38  1.054240e+09  3.620792e+08  4.708416e+08   \n2016-01-31       1950.79  1.140872e+09  3.583263e+08  4.653154e+08   \n2016-04-30       1583.86  1.221691e+09  3.789142e+08  4.426324e+08   \n2016-07-31       1958.85  1.438834e+09  4.524051e+08  4.996697e+08   \n2016-10-31       2067.27  1.093302e+09  3.729149e+08  3.435200e+08   \n2017-01-31       1927.97  1.124990e+09  3.577250e+08  3.770866e+08   \n2017-04-30       1940.54  1.320185e+09  4.441203e+08  4.047387e+08   \n\n                   4770    Total Bags    Small Bags    Large Bags  \\\nDate                                                                \n2015-01-31   8914615.50  5.068970e+07  4.168912e+07  8.861890e+06   \n2015-04-30  32448803.22  1.818462e+08  1.543723e+08  2.663330e+07   \n2015-07-31  37091454.13  2.148363e+08  1.818733e+08  3.196003e+07   \n2015-10-31  39686470.56  1.816325e+08  1.452713e+08  3.475160e+07   \n2016-01-31  44187867.51  2.730422e+08  2.067074e+08  6.280486e+07   \n2016-04-30  55729221.10  3.444151e+08  2.562105e+08  8.523846e+07   \n2016-07-31  55377336.27  4.313819e+08  3.317238e+08  8.910153e+07   \n2016-10-31  19328474.45  3.575387e+08  2.757354e+08  7.827453e+07   \n2017-01-31  19386635.03  3.707919e+08  2.774222e+08  9.098627e+07   \n2017-04-30  27792463.56  4.435336e+08  3.367129e+08  1.012248e+08   \n\n            XLarge Bags     year  \nDate                              \n2015-01-31    138691.73   870480  \n2015-04-30    840613.53  2829060  \n2015-07-31   1002945.75  2829060  \n2015-10-31   1609596.21  2829060  \n2016-01-31   3529967.17  3045205  \n2016-04-30   2966173.31  2612736  \n2016-07-31  10556589.98  3048192  \n2016-10-31   3528767.26  2830464  \n2017-01-31   2383444.94  2831004  \n2017-04-30   5595881.34  2831868  ",
      "text/html": "<div>\n<style scoped>\n    .dataframe tbody tr th:only-of-type {\n        vertical-align: middle;\n    }\n\n    .dataframe tbody tr th {\n        vertical-align: top;\n    }\n\n    .dataframe thead th {\n        text-align: right;\n    }\n</style>\n<table border=\"1\" class=\"dataframe\">\n  <thead>\n    <tr style=\"text-align: right;\">\n      <th></th>\n      <th>AveragePrice</th>\n      <th>Total Volume</th>\n      <th>4046</th>\n      <th>4225</th>\n      <th>4770</th>\n      <th>Total Bags</th>\n      <th>Small Bags</th>\n      <th>Large Bags</th>\n      <th>XLarge Bags</th>\n      <th>year</th>\n    </tr>\n    <tr>\n      <th>Date</th>\n      <th></th>\n      <th></th>\n      <th></th>\n      <th></th>\n      <th></th>\n      <th></th>\n      <th></th>\n      <th></th>\n      <th></th>\n      <th></th>\n    </tr>\n  </thead>\n  <tbody>\n    <tr>\n      <th>2015-01-31</th>\n      <td>589.70</td>\n      <td>3.180852e+08</td>\n      <td>1.282303e+08</td>\n      <td>1.302506e+08</td>\n      <td>8914615.50</td>\n      <td>5.068970e+07</td>\n      <td>4.168912e+07</td>\n      <td>8.861890e+06</td>\n      <td>138691.73</td>\n      <td>870480</td>\n    </tr>\n    <tr>\n      <th>2015-04-30</th>\n      <td>1906.36</td>\n      <td>1.125365e+09</td>\n      <td>4.790482e+08</td>\n      <td>4.320219e+08</td>\n      <td>32448803.22</td>\n      <td>1.818462e+08</td>\n      <td>1.543723e+08</td>\n      <td>2.663330e+07</td>\n      <td>840613.53</td>\n      <td>2829060</td>\n    </tr>\n    <tr>\n      <th>2015-07-31</th>\n      <td>1939.41</td>\n      <td>1.222313e+09</td>\n      <td>5.161434e+08</td>\n      <td>4.542415e+08</td>\n      <td>37091454.13</td>\n      <td>2.148363e+08</td>\n      <td>1.818733e+08</td>\n      <td>3.196003e+07</td>\n      <td>1002945.75</td>\n      <td>2829060</td>\n    </tr>\n    <tr>\n      <th>2015-10-31</th>\n      <td>2007.38</td>\n      <td>1.054240e+09</td>\n      <td>3.620792e+08</td>\n      <td>4.708416e+08</td>\n      <td>39686470.56</td>\n      <td>1.816325e+08</td>\n      <td>1.452713e+08</td>\n      <td>3.475160e+07</td>\n      <td>1609596.21</td>\n      <td>2829060</td>\n    </tr>\n    <tr>\n      <th>2016-01-31</th>\n      <td>1950.79</td>\n      <td>1.140872e+09</td>\n      <td>3.583263e+08</td>\n      <td>4.653154e+08</td>\n      <td>44187867.51</td>\n      <td>2.730422e+08</td>\n      <td>2.067074e+08</td>\n      <td>6.280486e+07</td>\n      <td>3529967.17</td>\n      <td>3045205</td>\n    </tr>\n    <tr>\n      <th>2016-04-30</th>\n      <td>1583.86</td>\n      <td>1.221691e+09</td>\n      <td>3.789142e+08</td>\n      <td>4.426324e+08</td>\n      <td>55729221.10</td>\n      <td>3.444151e+08</td>\n      <td>2.562105e+08</td>\n      <td>8.523846e+07</td>\n      <td>2966173.31</td>\n      <td>2612736</td>\n    </tr>\n    <tr>\n      <th>2016-07-31</th>\n      <td>1958.85</td>\n      <td>1.438834e+09</td>\n      <td>4.524051e+08</td>\n      <td>4.996697e+08</td>\n      <td>55377336.27</td>\n      <td>4.313819e+08</td>\n      <td>3.317238e+08</td>\n      <td>8.910153e+07</td>\n      <td>10556589.98</td>\n      <td>3048192</td>\n    </tr>\n    <tr>\n      <th>2016-10-31</th>\n      <td>2067.27</td>\n      <td>1.093302e+09</td>\n      <td>3.729149e+08</td>\n      <td>3.435200e+08</td>\n      <td>19328474.45</td>\n      <td>3.575387e+08</td>\n      <td>2.757354e+08</td>\n      <td>7.827453e+07</td>\n      <td>3528767.26</td>\n      <td>2830464</td>\n    </tr>\n    <tr>\n      <th>2017-01-31</th>\n      <td>1927.97</td>\n      <td>1.124990e+09</td>\n      <td>3.577250e+08</td>\n      <td>3.770866e+08</td>\n      <td>19386635.03</td>\n      <td>3.707919e+08</td>\n      <td>2.774222e+08</td>\n      <td>9.098627e+07</td>\n      <td>2383444.94</td>\n      <td>2831004</td>\n    </tr>\n    <tr>\n      <th>2017-04-30</th>\n      <td>1940.54</td>\n      <td>1.320185e+09</td>\n      <td>4.441203e+08</td>\n      <td>4.047387e+08</td>\n      <td>27792463.56</td>\n      <td>4.435336e+08</td>\n      <td>3.367129e+08</td>\n      <td>1.012248e+08</td>\n      <td>5595881.34</td>\n      <td>2831868</td>\n    </tr>\n  </tbody>\n</table>\n</div>"
     },
     "metadata": {},
     "execution_count": 38
    }
   ],
   "source": [
    "avocado_tri = avocado.resample('3M').sum() #resampled per 3 months: trimester.\n",
    "avocado_tri.head(10)"
   ]
  },
  {
   "cell_type": "code",
   "execution_count": null,
   "metadata": {},
   "outputs": [],
   "source": []
  },
  {
   "cell_type": "markdown",
   "metadata": {},
   "source": [
    "Crea un subset de `avocado` en el que solo se incluyan las siguientes columnas: `\"AveragePrice\"`,`\"Total Volume\"`,`\"type\"`,`\"year\"` y `\"region\"`, llámalo `avo_subset`."
   ]
  },
  {
   "cell_type": "code",
   "execution_count": 39,
   "metadata": {},
   "outputs": [
    {
     "output_type": "execute_result",
     "data": {
      "text/plain": "            AveragePrice  Total Volume          type  year              region\nDate                                                                          \n2015-01-04          1.75      27365.89       organic  2015           Southeast\n2015-01-04          1.49      17723.17       organic  2015             Chicago\n2015-01-04          1.68       2896.72       organic  2015  HarrisburgScranton\n2015-01-04          1.52      54956.80  conventional  2015          Pittsburgh\n2015-01-04          1.64       1505.12       organic  2015               Boise",
      "text/html": "<div>\n<style scoped>\n    .dataframe tbody tr th:only-of-type {\n        vertical-align: middle;\n    }\n\n    .dataframe tbody tr th {\n        vertical-align: top;\n    }\n\n    .dataframe thead th {\n        text-align: right;\n    }\n</style>\n<table border=\"1\" class=\"dataframe\">\n  <thead>\n    <tr style=\"text-align: right;\">\n      <th></th>\n      <th>AveragePrice</th>\n      <th>Total Volume</th>\n      <th>type</th>\n      <th>year</th>\n      <th>region</th>\n    </tr>\n    <tr>\n      <th>Date</th>\n      <th></th>\n      <th></th>\n      <th></th>\n      <th></th>\n      <th></th>\n    </tr>\n  </thead>\n  <tbody>\n    <tr>\n      <th>2015-01-04</th>\n      <td>1.75</td>\n      <td>27365.89</td>\n      <td>organic</td>\n      <td>2015</td>\n      <td>Southeast</td>\n    </tr>\n    <tr>\n      <th>2015-01-04</th>\n      <td>1.49</td>\n      <td>17723.17</td>\n      <td>organic</td>\n      <td>2015</td>\n      <td>Chicago</td>\n    </tr>\n    <tr>\n      <th>2015-01-04</th>\n      <td>1.68</td>\n      <td>2896.72</td>\n      <td>organic</td>\n      <td>2015</td>\n      <td>HarrisburgScranton</td>\n    </tr>\n    <tr>\n      <th>2015-01-04</th>\n      <td>1.52</td>\n      <td>54956.80</td>\n      <td>conventional</td>\n      <td>2015</td>\n      <td>Pittsburgh</td>\n    </tr>\n    <tr>\n      <th>2015-01-04</th>\n      <td>1.64</td>\n      <td>1505.12</td>\n      <td>organic</td>\n      <td>2015</td>\n      <td>Boise</td>\n    </tr>\n  </tbody>\n</table>\n</div>"
     },
     "metadata": {},
     "execution_count": 39
    }
   ],
   "source": [
    "avo_subset = avocado[[\"AveragePrice\", \"Total Volume\", \"type\", \"year\", \"region\"]]\n",
    "avo_subset.head()"
   ]
  },
  {
   "cell_type": "markdown",
   "metadata": {},
   "source": [
    "Filtra el dataframe `avo_subset` de modo que muestre solo aquellos datos de los aguacates tipo organic en la region de California durante el año 2017. Llama a la variable `org_Cal`. "
   ]
  },
  {
   "cell_type": "code",
   "execution_count": 40,
   "metadata": {},
   "outputs": [
    {
     "output_type": "execute_result",
     "data": {
      "text/plain": "            AveragePrice  Total Volume     type  year      region\nDate                                                             \n2017-01-01          1.46     164137.04  organic  2017  California\n2017-01-08          1.50     177777.40  organic  2017  California\n2017-01-15          1.66     142739.21  organic  2017  California\n2017-01-22          1.53     136422.97  organic  2017  California\n2017-01-29          1.44     165225.54  organic  2017  California",
      "text/html": "<div>\n<style scoped>\n    .dataframe tbody tr th:only-of-type {\n        vertical-align: middle;\n    }\n\n    .dataframe tbody tr th {\n        vertical-align: top;\n    }\n\n    .dataframe thead th {\n        text-align: right;\n    }\n</style>\n<table border=\"1\" class=\"dataframe\">\n  <thead>\n    <tr style=\"text-align: right;\">\n      <th></th>\n      <th>AveragePrice</th>\n      <th>Total Volume</th>\n      <th>type</th>\n      <th>year</th>\n      <th>region</th>\n    </tr>\n    <tr>\n      <th>Date</th>\n      <th></th>\n      <th></th>\n      <th></th>\n      <th></th>\n      <th></th>\n    </tr>\n  </thead>\n  <tbody>\n    <tr>\n      <th>2017-01-01</th>\n      <td>1.46</td>\n      <td>164137.04</td>\n      <td>organic</td>\n      <td>2017</td>\n      <td>California</td>\n    </tr>\n    <tr>\n      <th>2017-01-08</th>\n      <td>1.50</td>\n      <td>177777.40</td>\n      <td>organic</td>\n      <td>2017</td>\n      <td>California</td>\n    </tr>\n    <tr>\n      <th>2017-01-15</th>\n      <td>1.66</td>\n      <td>142739.21</td>\n      <td>organic</td>\n      <td>2017</td>\n      <td>California</td>\n    </tr>\n    <tr>\n      <th>2017-01-22</th>\n      <td>1.53</td>\n      <td>136422.97</td>\n      <td>organic</td>\n      <td>2017</td>\n      <td>California</td>\n    </tr>\n    <tr>\n      <th>2017-01-29</th>\n      <td>1.44</td>\n      <td>165225.54</td>\n      <td>organic</td>\n      <td>2017</td>\n      <td>California</td>\n    </tr>\n  </tbody>\n</table>\n</div>"
     },
     "metadata": {},
     "execution_count": 40
    }
   ],
   "source": [
    "org_Cal = avo_subset[(avo_subset.type == \"organic\") & (avo_subset.region == \"California\") & (avo_subset.year == 2017)]\n",
    "org_Cal.head()"
   ]
  },
  {
   "cell_type": "markdown",
   "metadata": {},
   "source": [
    "Usando `org_Cal` saca la mediana del volumen total. "
   ]
  },
  {
   "cell_type": "code",
   "execution_count": 41,
   "metadata": {},
   "outputs": [
    {
     "output_type": "execute_result",
     "data": {
      "text/plain": "152064.59"
     },
     "metadata": {},
     "execution_count": 41
    }
   ],
   "source": [
    "org_Cal[\"Total Volume\"].median()"
   ]
  },
  {
   "cell_type": "markdown",
   "metadata": {},
   "source": [
    "¿Qué precio medio había el día que el volumen total fue igual a la mediana de la mencionada columna, `\"Total Volume\"`? "
   ]
  },
  {
   "cell_type": "code",
   "execution_count": 42,
   "metadata": {},
   "outputs": [
    {
     "output_type": "execute_result",
     "data": {
      "text/plain": "            AveragePrice  Total Volume     type  year      region\nDate                                                             \n2017-09-17          2.18     152064.59  organic  2017  California",
      "text/html": "<div>\n<style scoped>\n    .dataframe tbody tr th:only-of-type {\n        vertical-align: middle;\n    }\n\n    .dataframe tbody tr th {\n        vertical-align: top;\n    }\n\n    .dataframe thead th {\n        text-align: right;\n    }\n</style>\n<table border=\"1\" class=\"dataframe\">\n  <thead>\n    <tr style=\"text-align: right;\">\n      <th></th>\n      <th>AveragePrice</th>\n      <th>Total Volume</th>\n      <th>type</th>\n      <th>year</th>\n      <th>region</th>\n    </tr>\n    <tr>\n      <th>Date</th>\n      <th></th>\n      <th></th>\n      <th></th>\n      <th></th>\n      <th></th>\n    </tr>\n  </thead>\n  <tbody>\n    <tr>\n      <th>2017-09-17</th>\n      <td>2.18</td>\n      <td>152064.59</td>\n      <td>organic</td>\n      <td>2017</td>\n      <td>California</td>\n    </tr>\n  </tbody>\n</table>\n</div>"
     },
     "metadata": {},
     "execution_count": 42
    }
   ],
   "source": [
    "org_Cal[org_Cal[\"Total Volume\"] == org_Cal[\"Total Volume\"].median()]"
   ]
  },
  {
   "cell_type": "code",
   "execution_count": 43,
   "metadata": {},
   "outputs": [
    {
     "output_type": "execute_result",
     "data": {
      "text/plain": "Date\n2017-09-17    2.18\nName: AveragePrice, dtype: float64"
     },
     "metadata": {},
     "execution_count": 43
    }
   ],
   "source": [
    "org_Cal[org_Cal[\"Total Volume\"] == org_Cal[\"Total Volume\"].median()].AveragePrice  #getting only the price information."
   ]
  },
  {
   "cell_type": "markdown",
   "metadata": {},
   "source": [
    "Muestra la evolución del precio medio, `\"AveragePrice\"`, de los aguacates de tipo orgánicos de California durante el año 2017 con un gráfico de una línea, usando `org_Cal`. "
   ]
  },
  {
   "cell_type": "code",
   "execution_count": 44,
   "metadata": {},
   "outputs": [
    {
     "output_type": "execute_result",
     "data": {
      "text/plain": "<matplotlib.axes._subplots.AxesSubplot at 0xf5f6940>"
     },
     "metadata": {},
     "execution_count": 44
    },
    {
     "output_type": "display_data",
     "data": {
      "text/plain": "<Figure size 432x288 with 1 Axes>",
      "image/svg+xml": "<?xml version=\"1.0\" encoding=\"utf-8\" standalone=\"no\"?>\r\n<!DOCTYPE svg PUBLIC \"-//W3C//DTD SVG 1.1//EN\"\r\n  \"http://www.w3.org/Graphics/SVG/1.1/DTD/svg11.dtd\">\r\n<!-- Created with matplotlib (https://matplotlib.org/) -->\r\n<svg height=\"277.193281pt\" version=\"1.1\" viewBox=\"0 0 372.103125 277.193281\" width=\"372.103125pt\" xmlns=\"http://www.w3.org/2000/svg\" xmlns:xlink=\"http://www.w3.org/1999/xlink\">\r\n <defs>\r\n  <style type=\"text/css\">\r\n*{stroke-linecap:butt;stroke-linejoin:round;}\r\n  </style>\r\n </defs>\r\n <g id=\"figure_1\">\r\n  <g id=\"patch_1\">\r\n   <path d=\"M 0 277.193281 \r\nL 372.103125 277.193281 \r\nL 372.103125 0 \r\nL 0 0 \r\nz\r\n\" style=\"fill:none;\"/>\r\n  </g>\r\n  <g id=\"axes_1\">\r\n   <g id=\"patch_2\">\r\n    <path d=\"M 30.103125 228.439219 \r\nL 364.903125 228.439219 \r\nL 364.903125 10.999219 \r\nL 30.103125 10.999219 \r\nz\r\n\" style=\"fill:#ffffff;\"/>\r\n   </g>\r\n   <g id=\"matplotlib.axis_1\">\r\n    <g id=\"xtick_1\">\r\n     <g id=\"line2d_1\">\r\n      <defs>\r\n       <path d=\"M 0 0 \r\nL 0 3.5 \r\n\" id=\"m554f7fbbc0\" style=\"stroke:#000000;stroke-width:0.8;\"/>\r\n      </defs>\r\n      <g>\r\n       <use style=\"stroke:#000000;stroke-width:0.8;\" x=\"30.103125\" xlink:href=\"#m554f7fbbc0\" y=\"228.439219\"/>\r\n      </g>\r\n     </g>\r\n     <g id=\"text_1\">\r\n      <!-- Jan -->\r\n      <defs>\r\n       <path d=\"M 9.8125 72.90625 \r\nL 19.671875 72.90625 \r\nL 19.671875 5.078125 \r\nQ 19.671875 -8.109375 14.671875 -14.0625 \r\nQ 9.671875 -20.015625 -1.421875 -20.015625 \r\nL -5.171875 -20.015625 \r\nL -5.171875 -11.71875 \r\nL -2.09375 -11.71875 \r\nQ 4.4375 -11.71875 7.125 -8.046875 \r\nQ 9.8125 -4.390625 9.8125 5.078125 \r\nz\r\n\" id=\"DejaVuSans-74\"/>\r\n       <path d=\"M 34.28125 27.484375 \r\nQ 23.390625 27.484375 19.1875 25 \r\nQ 14.984375 22.515625 14.984375 16.5 \r\nQ 14.984375 11.71875 18.140625 8.90625 \r\nQ 21.296875 6.109375 26.703125 6.109375 \r\nQ 34.1875 6.109375 38.703125 11.40625 \r\nQ 43.21875 16.703125 43.21875 25.484375 \r\nL 43.21875 27.484375 \r\nz\r\nM 52.203125 31.203125 \r\nL 52.203125 0 \r\nL 43.21875 0 \r\nL 43.21875 8.296875 \r\nQ 40.140625 3.328125 35.546875 0.953125 \r\nQ 30.953125 -1.421875 24.3125 -1.421875 \r\nQ 15.921875 -1.421875 10.953125 3.296875 \r\nQ 6 8.015625 6 15.921875 \r\nQ 6 25.140625 12.171875 29.828125 \r\nQ 18.359375 34.515625 30.609375 34.515625 \r\nL 43.21875 34.515625 \r\nL 43.21875 35.40625 \r\nQ 43.21875 41.609375 39.140625 45 \r\nQ 35.0625 48.390625 27.6875 48.390625 \r\nQ 23 48.390625 18.546875 47.265625 \r\nQ 14.109375 46.140625 10.015625 43.890625 \r\nL 10.015625 52.203125 \r\nQ 14.9375 54.109375 19.578125 55.046875 \r\nQ 24.21875 56 28.609375 56 \r\nQ 40.484375 56 46.34375 49.84375 \r\nQ 52.203125 43.703125 52.203125 31.203125 \r\nz\r\n\" id=\"DejaVuSans-97\"/>\r\n       <path d=\"M 54.890625 33.015625 \r\nL 54.890625 0 \r\nL 45.90625 0 \r\nL 45.90625 32.71875 \r\nQ 45.90625 40.484375 42.875 44.328125 \r\nQ 39.84375 48.1875 33.796875 48.1875 \r\nQ 26.515625 48.1875 22.3125 43.546875 \r\nQ 18.109375 38.921875 18.109375 30.90625 \r\nL 18.109375 0 \r\nL 9.078125 0 \r\nL 9.078125 54.6875 \r\nL 18.109375 54.6875 \r\nL 18.109375 46.1875 \r\nQ 21.34375 51.125 25.703125 53.5625 \r\nQ 30.078125 56 35.796875 56 \r\nQ 45.21875 56 50.046875 50.171875 \r\nQ 54.890625 44.34375 54.890625 33.015625 \r\nz\r\n\" id=\"DejaVuSans-110\"/>\r\n      </defs>\r\n      <g transform=\"translate(22.395312 243.037656)scale(0.1 -0.1)\">\r\n       <use xlink:href=\"#DejaVuSans-74\"/>\r\n       <use x=\"29.492188\" xlink:href=\"#DejaVuSans-97\"/>\r\n       <use x=\"90.771484\" xlink:href=\"#DejaVuSans-110\"/>\r\n      </g>\r\n      <!-- 2017 -->\r\n      <defs>\r\n       <path d=\"M 19.1875 8.296875 \r\nL 53.609375 8.296875 \r\nL 53.609375 0 \r\nL 7.328125 0 \r\nL 7.328125 8.296875 \r\nQ 12.9375 14.109375 22.625 23.890625 \r\nQ 32.328125 33.6875 34.8125 36.53125 \r\nQ 39.546875 41.84375 41.421875 45.53125 \r\nQ 43.3125 49.21875 43.3125 52.78125 \r\nQ 43.3125 58.59375 39.234375 62.25 \r\nQ 35.15625 65.921875 28.609375 65.921875 \r\nQ 23.96875 65.921875 18.8125 64.3125 \r\nQ 13.671875 62.703125 7.8125 59.421875 \r\nL 7.8125 69.390625 \r\nQ 13.765625 71.78125 18.9375 73 \r\nQ 24.125 74.21875 28.421875 74.21875 \r\nQ 39.75 74.21875 46.484375 68.546875 \r\nQ 53.21875 62.890625 53.21875 53.421875 \r\nQ 53.21875 48.921875 51.53125 44.890625 \r\nQ 49.859375 40.875 45.40625 35.40625 \r\nQ 44.1875 33.984375 37.640625 27.21875 \r\nQ 31.109375 20.453125 19.1875 8.296875 \r\nz\r\n\" id=\"DejaVuSans-50\"/>\r\n       <path d=\"M 31.78125 66.40625 \r\nQ 24.171875 66.40625 20.328125 58.90625 \r\nQ 16.5 51.421875 16.5 36.375 \r\nQ 16.5 21.390625 20.328125 13.890625 \r\nQ 24.171875 6.390625 31.78125 6.390625 \r\nQ 39.453125 6.390625 43.28125 13.890625 \r\nQ 47.125 21.390625 47.125 36.375 \r\nQ 47.125 51.421875 43.28125 58.90625 \r\nQ 39.453125 66.40625 31.78125 66.40625 \r\nz\r\nM 31.78125 74.21875 \r\nQ 44.046875 74.21875 50.515625 64.515625 \r\nQ 56.984375 54.828125 56.984375 36.375 \r\nQ 56.984375 17.96875 50.515625 8.265625 \r\nQ 44.046875 -1.421875 31.78125 -1.421875 \r\nQ 19.53125 -1.421875 13.0625 8.265625 \r\nQ 6.59375 17.96875 6.59375 36.375 \r\nQ 6.59375 54.828125 13.0625 64.515625 \r\nQ 19.53125 74.21875 31.78125 74.21875 \r\nz\r\n\" id=\"DejaVuSans-48\"/>\r\n       <path d=\"M 12.40625 8.296875 \r\nL 28.515625 8.296875 \r\nL 28.515625 63.921875 \r\nL 10.984375 60.40625 \r\nL 10.984375 69.390625 \r\nL 28.421875 72.90625 \r\nL 38.28125 72.90625 \r\nL 38.28125 8.296875 \r\nL 54.390625 8.296875 \r\nL 54.390625 0 \r\nL 12.40625 0 \r\nz\r\n\" id=\"DejaVuSans-49\"/>\r\n       <path d=\"M 8.203125 72.90625 \r\nL 55.078125 72.90625 \r\nL 55.078125 68.703125 \r\nL 28.609375 0 \r\nL 18.3125 0 \r\nL 43.21875 64.59375 \r\nL 8.203125 64.59375 \r\nz\r\n\" id=\"DejaVuSans-55\"/>\r\n      </defs>\r\n      <g transform=\"translate(17.378125 254.235469)scale(0.1 -0.1)\">\r\n       <use xlink:href=\"#DejaVuSans-50\"/>\r\n       <use x=\"63.623047\" xlink:href=\"#DejaVuSans-48\"/>\r\n       <use x=\"127.246094\" xlink:href=\"#DejaVuSans-49\"/>\r\n       <use x=\"190.869141\" xlink:href=\"#DejaVuSans-55\"/>\r\n      </g>\r\n     </g>\r\n    </g>\r\n    <g id=\"xtick_2\">\r\n     <g id=\"line2d_2\">\r\n      <g>\r\n       <use style=\"stroke:#000000;stroke-width:0.8;\" x=\"62.295433\" xlink:href=\"#m554f7fbbc0\" y=\"228.439219\"/>\r\n      </g>\r\n     </g>\r\n     <g id=\"text_2\">\r\n      <!-- Feb -->\r\n      <defs>\r\n       <path d=\"M 9.8125 72.90625 \r\nL 51.703125 72.90625 \r\nL 51.703125 64.59375 \r\nL 19.671875 64.59375 \r\nL 19.671875 43.109375 \r\nL 48.578125 43.109375 \r\nL 48.578125 34.8125 \r\nL 19.671875 34.8125 \r\nL 19.671875 0 \r\nL 9.8125 0 \r\nz\r\n\" id=\"DejaVuSans-70\"/>\r\n       <path d=\"M 56.203125 29.59375 \r\nL 56.203125 25.203125 \r\nL 14.890625 25.203125 \r\nQ 15.484375 15.921875 20.484375 11.0625 \r\nQ 25.484375 6.203125 34.421875 6.203125 \r\nQ 39.59375 6.203125 44.453125 7.46875 \r\nQ 49.3125 8.734375 54.109375 11.28125 \r\nL 54.109375 2.78125 \r\nQ 49.265625 0.734375 44.1875 -0.34375 \r\nQ 39.109375 -1.421875 33.890625 -1.421875 \r\nQ 20.796875 -1.421875 13.15625 6.1875 \r\nQ 5.515625 13.8125 5.515625 26.8125 \r\nQ 5.515625 40.234375 12.765625 48.109375 \r\nQ 20.015625 56 32.328125 56 \r\nQ 43.359375 56 49.78125 48.890625 \r\nQ 56.203125 41.796875 56.203125 29.59375 \r\nz\r\nM 47.21875 32.234375 \r\nQ 47.125 39.59375 43.09375 43.984375 \r\nQ 39.0625 48.390625 32.421875 48.390625 \r\nQ 24.90625 48.390625 20.390625 44.140625 \r\nQ 15.875 39.890625 15.1875 32.171875 \r\nz\r\n\" id=\"DejaVuSans-101\"/>\r\n       <path d=\"M 48.6875 27.296875 \r\nQ 48.6875 37.203125 44.609375 42.84375 \r\nQ 40.53125 48.484375 33.40625 48.484375 \r\nQ 26.265625 48.484375 22.1875 42.84375 \r\nQ 18.109375 37.203125 18.109375 27.296875 \r\nQ 18.109375 17.390625 22.1875 11.75 \r\nQ 26.265625 6.109375 33.40625 6.109375 \r\nQ 40.53125 6.109375 44.609375 11.75 \r\nQ 48.6875 17.390625 48.6875 27.296875 \r\nz\r\nM 18.109375 46.390625 \r\nQ 20.953125 51.265625 25.265625 53.625 \r\nQ 29.59375 56 35.59375 56 \r\nQ 45.5625 56 51.78125 48.09375 \r\nQ 58.015625 40.1875 58.015625 27.296875 \r\nQ 58.015625 14.40625 51.78125 6.484375 \r\nQ 45.5625 -1.421875 35.59375 -1.421875 \r\nQ 29.59375 -1.421875 25.265625 0.953125 \r\nQ 20.953125 3.328125 18.109375 8.203125 \r\nL 18.109375 0 \r\nL 9.078125 0 \r\nL 9.078125 75.984375 \r\nL 18.109375 75.984375 \r\nz\r\n\" id=\"DejaVuSans-98\"/>\r\n      </defs>\r\n      <g transform=\"translate(53.44387 243.037656)scale(0.1 -0.1)\">\r\n       <use xlink:href=\"#DejaVuSans-70\"/>\r\n       <use x=\"52.019531\" xlink:href=\"#DejaVuSans-101\"/>\r\n       <use x=\"113.542969\" xlink:href=\"#DejaVuSans-98\"/>\r\n      </g>\r\n     </g>\r\n    </g>\r\n    <g id=\"xtick_3\">\r\n     <g id=\"line2d_3\">\r\n      <g>\r\n       <use style=\"stroke:#000000;stroke-width:0.8;\" x=\"88.049279\" xlink:href=\"#m554f7fbbc0\" y=\"228.439219\"/>\r\n      </g>\r\n     </g>\r\n     <g id=\"text_3\">\r\n      <!-- Mar -->\r\n      <defs>\r\n       <path d=\"M 9.8125 72.90625 \r\nL 24.515625 72.90625 \r\nL 43.109375 23.296875 \r\nL 61.8125 72.90625 \r\nL 76.515625 72.90625 \r\nL 76.515625 0 \r\nL 66.890625 0 \r\nL 66.890625 64.015625 \r\nL 48.09375 14.015625 \r\nL 38.1875 14.015625 \r\nL 19.390625 64.015625 \r\nL 19.390625 0 \r\nL 9.8125 0 \r\nz\r\n\" id=\"DejaVuSans-77\"/>\r\n       <path d=\"M 41.109375 46.296875 \r\nQ 39.59375 47.171875 37.8125 47.578125 \r\nQ 36.03125 48 33.890625 48 \r\nQ 26.265625 48 22.1875 43.046875 \r\nQ 18.109375 38.09375 18.109375 28.8125 \r\nL 18.109375 0 \r\nL 9.078125 0 \r\nL 9.078125 54.6875 \r\nL 18.109375 54.6875 \r\nL 18.109375 46.1875 \r\nQ 20.953125 51.171875 25.484375 53.578125 \r\nQ 30.03125 56 36.53125 56 \r\nQ 37.453125 56 38.578125 55.875 \r\nQ 39.703125 55.765625 41.0625 55.515625 \r\nz\r\n\" id=\"DejaVuSans-114\"/>\r\n      </defs>\r\n      <g transform=\"translate(78.615685 243.037656)scale(0.1 -0.1)\">\r\n       <use xlink:href=\"#DejaVuSans-77\"/>\r\n       <use x=\"86.279297\" xlink:href=\"#DejaVuSans-97\"/>\r\n       <use x=\"147.558594\" xlink:href=\"#DejaVuSans-114\"/>\r\n      </g>\r\n     </g>\r\n    </g>\r\n    <g id=\"xtick_4\">\r\n     <g id=\"line2d_4\">\r\n      <g>\r\n       <use style=\"stroke:#000000;stroke-width:0.8;\" x=\"113.803125\" xlink:href=\"#m554f7fbbc0\" y=\"228.439219\"/>\r\n      </g>\r\n     </g>\r\n     <g id=\"text_4\">\r\n      <!-- Apr -->\r\n      <defs>\r\n       <path d=\"M 34.1875 63.1875 \r\nL 20.796875 26.90625 \r\nL 47.609375 26.90625 \r\nz\r\nM 28.609375 72.90625 \r\nL 39.796875 72.90625 \r\nL 67.578125 0 \r\nL 57.328125 0 \r\nL 50.6875 18.703125 \r\nL 17.828125 18.703125 \r\nL 11.1875 0 \r\nL 0.78125 0 \r\nz\r\n\" id=\"DejaVuSans-65\"/>\r\n       <path d=\"M 18.109375 8.203125 \r\nL 18.109375 -20.796875 \r\nL 9.078125 -20.796875 \r\nL 9.078125 54.6875 \r\nL 18.109375 54.6875 \r\nL 18.109375 46.390625 \r\nQ 20.953125 51.265625 25.265625 53.625 \r\nQ 29.59375 56 35.59375 56 \r\nQ 45.5625 56 51.78125 48.09375 \r\nQ 58.015625 40.1875 58.015625 27.296875 \r\nQ 58.015625 14.40625 51.78125 6.484375 \r\nQ 45.5625 -1.421875 35.59375 -1.421875 \r\nQ 29.59375 -1.421875 25.265625 0.953125 \r\nQ 20.953125 3.328125 18.109375 8.203125 \r\nz\r\nM 48.6875 27.296875 \r\nQ 48.6875 37.203125 44.609375 42.84375 \r\nQ 40.53125 48.484375 33.40625 48.484375 \r\nQ 26.265625 48.484375 22.1875 42.84375 \r\nQ 18.109375 37.203125 18.109375 27.296875 \r\nQ 18.109375 17.390625 22.1875 11.75 \r\nQ 26.265625 6.109375 33.40625 6.109375 \r\nQ 40.53125 6.109375 44.609375 11.75 \r\nQ 48.6875 17.390625 48.6875 27.296875 \r\nz\r\n\" id=\"DejaVuSans-112\"/>\r\n      </defs>\r\n      <g transform=\"translate(105.153125 243.037656)scale(0.1 -0.1)\">\r\n       <use xlink:href=\"#DejaVuSans-65\"/>\r\n       <use x=\"68.408203\" xlink:href=\"#DejaVuSans-112\"/>\r\n       <use x=\"131.884766\" xlink:href=\"#DejaVuSans-114\"/>\r\n      </g>\r\n     </g>\r\n    </g>\r\n    <g id=\"xtick_5\">\r\n     <g id=\"line2d_5\">\r\n      <g>\r\n       <use style=\"stroke:#000000;stroke-width:0.8;\" x=\"145.995433\" xlink:href=\"#m554f7fbbc0\" y=\"228.439219\"/>\r\n      </g>\r\n     </g>\r\n     <g id=\"text_5\">\r\n      <!-- May -->\r\n      <defs>\r\n       <path d=\"M 32.171875 -5.078125 \r\nQ 28.375 -14.84375 24.75 -17.8125 \r\nQ 21.140625 -20.796875 15.09375 -20.796875 \r\nL 7.90625 -20.796875 \r\nL 7.90625 -13.28125 \r\nL 13.1875 -13.28125 \r\nQ 16.890625 -13.28125 18.9375 -11.515625 \r\nQ 21 -9.765625 23.484375 -3.21875 \r\nL 25.09375 0.875 \r\nL 2.984375 54.6875 \r\nL 12.5 54.6875 \r\nL 29.59375 11.921875 \r\nL 46.6875 54.6875 \r\nL 56.203125 54.6875 \r\nz\r\n\" id=\"DejaVuSans-121\"/>\r\n      </defs>\r\n      <g transform=\"translate(135.657933 243.037656)scale(0.1 -0.1)\">\r\n       <use xlink:href=\"#DejaVuSans-77\"/>\r\n       <use x=\"86.279297\" xlink:href=\"#DejaVuSans-97\"/>\r\n       <use x=\"147.558594\" xlink:href=\"#DejaVuSans-121\"/>\r\n      </g>\r\n     </g>\r\n    </g>\r\n    <g id=\"xtick_6\">\r\n     <g id=\"line2d_6\">\r\n      <g>\r\n       <use style=\"stroke:#000000;stroke-width:0.8;\" x=\"171.749279\" xlink:href=\"#m554f7fbbc0\" y=\"228.439219\"/>\r\n      </g>\r\n     </g>\r\n     <g id=\"text_6\">\r\n      <!-- Jun -->\r\n      <defs>\r\n       <path d=\"M 8.5 21.578125 \r\nL 8.5 54.6875 \r\nL 17.484375 54.6875 \r\nL 17.484375 21.921875 \r\nQ 17.484375 14.15625 20.5 10.265625 \r\nQ 23.53125 6.390625 29.59375 6.390625 \r\nQ 36.859375 6.390625 41.078125 11.03125 \r\nQ 45.3125 15.671875 45.3125 23.6875 \r\nL 45.3125 54.6875 \r\nL 54.296875 54.6875 \r\nL 54.296875 0 \r\nL 45.3125 0 \r\nL 45.3125 8.40625 \r\nQ 42.046875 3.421875 37.71875 1 \r\nQ 33.40625 -1.421875 27.6875 -1.421875 \r\nQ 18.265625 -1.421875 13.375 4.4375 \r\nQ 8.5 10.296875 8.5 21.578125 \r\nz\r\nM 31.109375 56 \r\nz\r\n\" id=\"DejaVuSans-117\"/>\r\n      </defs>\r\n      <g transform=\"translate(163.936779 243.037656)scale(0.1 -0.1)\">\r\n       <use xlink:href=\"#DejaVuSans-74\"/>\r\n       <use x=\"29.492188\" xlink:href=\"#DejaVuSans-117\"/>\r\n       <use x=\"92.871094\" xlink:href=\"#DejaVuSans-110\"/>\r\n      </g>\r\n     </g>\r\n    </g>\r\n    <g id=\"xtick_7\">\r\n     <g id=\"line2d_7\">\r\n      <g>\r\n       <use style=\"stroke:#000000;stroke-width:0.8;\" x=\"197.503125\" xlink:href=\"#m554f7fbbc0\" y=\"228.439219\"/>\r\n      </g>\r\n     </g>\r\n     <g id=\"text_7\">\r\n      <!-- Jul -->\r\n      <defs>\r\n       <path d=\"M 9.421875 75.984375 \r\nL 18.40625 75.984375 \r\nL 18.40625 0 \r\nL 9.421875 0 \r\nz\r\n\" id=\"DejaVuSans-108\"/>\r\n      </defs>\r\n      <g transform=\"translate(191.470312 243.037656)scale(0.1 -0.1)\">\r\n       <use xlink:href=\"#DejaVuSans-74\"/>\r\n       <use x=\"29.492188\" xlink:href=\"#DejaVuSans-117\"/>\r\n       <use x=\"92.871094\" xlink:href=\"#DejaVuSans-108\"/>\r\n      </g>\r\n     </g>\r\n    </g>\r\n    <g id=\"xtick_8\">\r\n     <g id=\"line2d_8\">\r\n      <g>\r\n       <use style=\"stroke:#000000;stroke-width:0.8;\" x=\"229.695433\" xlink:href=\"#m554f7fbbc0\" y=\"228.439219\"/>\r\n      </g>\r\n     </g>\r\n     <g id=\"text_8\">\r\n      <!-- Aug -->\r\n      <defs>\r\n       <path d=\"M 45.40625 27.984375 \r\nQ 45.40625 37.75 41.375 43.109375 \r\nQ 37.359375 48.484375 30.078125 48.484375 \r\nQ 22.859375 48.484375 18.828125 43.109375 \r\nQ 14.796875 37.75 14.796875 27.984375 \r\nQ 14.796875 18.265625 18.828125 12.890625 \r\nQ 22.859375 7.515625 30.078125 7.515625 \r\nQ 37.359375 7.515625 41.375 12.890625 \r\nQ 45.40625 18.265625 45.40625 27.984375 \r\nz\r\nM 54.390625 6.78125 \r\nQ 54.390625 -7.171875 48.1875 -13.984375 \r\nQ 42 -20.796875 29.203125 -20.796875 \r\nQ 24.46875 -20.796875 20.265625 -20.09375 \r\nQ 16.0625 -19.390625 12.109375 -17.921875 \r\nL 12.109375 -9.1875 \r\nQ 16.0625 -11.328125 19.921875 -12.34375 \r\nQ 23.78125 -13.375 27.78125 -13.375 \r\nQ 36.625 -13.375 41.015625 -8.765625 \r\nQ 45.40625 -4.15625 45.40625 5.171875 \r\nL 45.40625 9.625 \r\nQ 42.625 4.78125 38.28125 2.390625 \r\nQ 33.9375 0 27.875 0 \r\nQ 17.828125 0 11.671875 7.65625 \r\nQ 5.515625 15.328125 5.515625 27.984375 \r\nQ 5.515625 40.671875 11.671875 48.328125 \r\nQ 17.828125 56 27.875 56 \r\nQ 33.9375 56 38.28125 53.609375 \r\nQ 42.625 51.21875 45.40625 46.390625 \r\nL 45.40625 54.6875 \r\nL 54.390625 54.6875 \r\nz\r\n\" id=\"DejaVuSans-103\"/>\r\n      </defs>\r\n      <g transform=\"translate(219.932151 243.037656)scale(0.1 -0.1)\">\r\n       <use xlink:href=\"#DejaVuSans-65\"/>\r\n       <use x=\"68.408203\" xlink:href=\"#DejaVuSans-117\"/>\r\n       <use x=\"131.787109\" xlink:href=\"#DejaVuSans-103\"/>\r\n      </g>\r\n     </g>\r\n    </g>\r\n    <g id=\"xtick_9\">\r\n     <g id=\"line2d_9\">\r\n      <g>\r\n       <use style=\"stroke:#000000;stroke-width:0.8;\" x=\"255.449279\" xlink:href=\"#m554f7fbbc0\" y=\"228.439219\"/>\r\n      </g>\r\n     </g>\r\n     <g id=\"text_9\">\r\n      <!-- Sep -->\r\n      <defs>\r\n       <path d=\"M 53.515625 70.515625 \r\nL 53.515625 60.890625 \r\nQ 47.90625 63.578125 42.921875 64.890625 \r\nQ 37.9375 66.21875 33.296875 66.21875 \r\nQ 25.25 66.21875 20.875 63.09375 \r\nQ 16.5 59.96875 16.5 54.203125 \r\nQ 16.5 49.359375 19.40625 46.890625 \r\nQ 22.3125 44.4375 30.421875 42.921875 \r\nL 36.375 41.703125 \r\nQ 47.40625 39.59375 52.65625 34.296875 \r\nQ 57.90625 29 57.90625 20.125 \r\nQ 57.90625 9.515625 50.796875 4.046875 \r\nQ 43.703125 -1.421875 29.984375 -1.421875 \r\nQ 24.8125 -1.421875 18.96875 -0.25 \r\nQ 13.140625 0.921875 6.890625 3.21875 \r\nL 6.890625 13.375 \r\nQ 12.890625 10.015625 18.65625 8.296875 \r\nQ 24.421875 6.59375 29.984375 6.59375 \r\nQ 38.421875 6.59375 43.015625 9.90625 \r\nQ 47.609375 13.234375 47.609375 19.390625 \r\nQ 47.609375 24.75 44.3125 27.78125 \r\nQ 41.015625 30.8125 33.5 32.328125 \r\nL 27.484375 33.5 \r\nQ 16.453125 35.6875 11.515625 40.375 \r\nQ 6.59375 45.0625 6.59375 53.421875 \r\nQ 6.59375 63.09375 13.40625 68.65625 \r\nQ 20.21875 74.21875 32.171875 74.21875 \r\nQ 37.3125 74.21875 42.625 73.28125 \r\nQ 47.953125 72.359375 53.515625 70.515625 \r\nz\r\n\" id=\"DejaVuSans-83\"/>\r\n      </defs>\r\n      <g transform=\"translate(246.024279 243.037656)scale(0.1 -0.1)\">\r\n       <use xlink:href=\"#DejaVuSans-83\"/>\r\n       <use x=\"63.476562\" xlink:href=\"#DejaVuSans-101\"/>\r\n       <use x=\"125\" xlink:href=\"#DejaVuSans-112\"/>\r\n      </g>\r\n     </g>\r\n    </g>\r\n    <g id=\"xtick_10\">\r\n     <g id=\"line2d_10\">\r\n      <g>\r\n       <use style=\"stroke:#000000;stroke-width:0.8;\" x=\"281.203125\" xlink:href=\"#m554f7fbbc0\" y=\"228.439219\"/>\r\n      </g>\r\n     </g>\r\n     <g id=\"text_10\">\r\n      <!-- Oct -->\r\n      <defs>\r\n       <path d=\"M 39.40625 66.21875 \r\nQ 28.65625 66.21875 22.328125 58.203125 \r\nQ 16.015625 50.203125 16.015625 36.375 \r\nQ 16.015625 22.609375 22.328125 14.59375 \r\nQ 28.65625 6.59375 39.40625 6.59375 \r\nQ 50.140625 6.59375 56.421875 14.59375 \r\nQ 62.703125 22.609375 62.703125 36.375 \r\nQ 62.703125 50.203125 56.421875 58.203125 \r\nQ 50.140625 66.21875 39.40625 66.21875 \r\nz\r\nM 39.40625 74.21875 \r\nQ 54.734375 74.21875 63.90625 63.9375 \r\nQ 73.09375 53.65625 73.09375 36.375 \r\nQ 73.09375 19.140625 63.90625 8.859375 \r\nQ 54.734375 -1.421875 39.40625 -1.421875 \r\nQ 24.03125 -1.421875 14.8125 8.828125 \r\nQ 5.609375 19.09375 5.609375 36.375 \r\nQ 5.609375 53.65625 14.8125 63.9375 \r\nQ 24.03125 74.21875 39.40625 74.21875 \r\nz\r\n\" id=\"DejaVuSans-79\"/>\r\n       <path d=\"M 48.78125 52.59375 \r\nL 48.78125 44.1875 \r\nQ 44.96875 46.296875 41.140625 47.34375 \r\nQ 37.3125 48.390625 33.40625 48.390625 \r\nQ 24.65625 48.390625 19.8125 42.84375 \r\nQ 14.984375 37.3125 14.984375 27.296875 \r\nQ 14.984375 17.28125 19.8125 11.734375 \r\nQ 24.65625 6.203125 33.40625 6.203125 \r\nQ 37.3125 6.203125 41.140625 7.25 \r\nQ 44.96875 8.296875 48.78125 10.40625 \r\nL 48.78125 2.09375 \r\nQ 45.015625 0.34375 40.984375 -0.53125 \r\nQ 36.96875 -1.421875 32.421875 -1.421875 \r\nQ 20.0625 -1.421875 12.78125 6.34375 \r\nQ 5.515625 14.109375 5.515625 27.296875 \r\nQ 5.515625 40.671875 12.859375 48.328125 \r\nQ 20.21875 56 33.015625 56 \r\nQ 37.15625 56 41.109375 55.140625 \r\nQ 45.0625 54.296875 48.78125 52.59375 \r\nz\r\n\" id=\"DejaVuSans-99\"/>\r\n       <path d=\"M 18.3125 70.21875 \r\nL 18.3125 54.6875 \r\nL 36.8125 54.6875 \r\nL 36.8125 47.703125 \r\nL 18.3125 47.703125 \r\nL 18.3125 18.015625 \r\nQ 18.3125 11.328125 20.140625 9.421875 \r\nQ 21.96875 7.515625 27.59375 7.515625 \r\nL 36.8125 7.515625 \r\nL 36.8125 0 \r\nL 27.59375 0 \r\nQ 17.1875 0 13.234375 3.875 \r\nQ 9.28125 7.765625 9.28125 18.015625 \r\nL 9.28125 47.703125 \r\nL 2.6875 47.703125 \r\nL 2.6875 54.6875 \r\nL 9.28125 54.6875 \r\nL 9.28125 70.21875 \r\nz\r\n\" id=\"DejaVuSans-116\"/>\r\n      </defs>\r\n      <g transform=\"translate(272.557813 243.037656)scale(0.1 -0.1)\">\r\n       <use xlink:href=\"#DejaVuSans-79\"/>\r\n       <use x=\"78.710938\" xlink:href=\"#DejaVuSans-99\"/>\r\n       <use x=\"133.691406\" xlink:href=\"#DejaVuSans-116\"/>\r\n      </g>\r\n     </g>\r\n    </g>\r\n    <g id=\"xtick_11\">\r\n     <g id=\"line2d_11\">\r\n      <g>\r\n       <use style=\"stroke:#000000;stroke-width:0.8;\" x=\"313.395433\" xlink:href=\"#m554f7fbbc0\" y=\"228.439219\"/>\r\n      </g>\r\n     </g>\r\n     <g id=\"text_11\">\r\n      <!-- Nov -->\r\n      <defs>\r\n       <path d=\"M 9.8125 72.90625 \r\nL 23.09375 72.90625 \r\nL 55.421875 11.921875 \r\nL 55.421875 72.90625 \r\nL 64.984375 72.90625 \r\nL 64.984375 0 \r\nL 51.703125 0 \r\nL 19.390625 60.984375 \r\nL 19.390625 0 \r\nL 9.8125 0 \r\nz\r\n\" id=\"DejaVuSans-78\"/>\r\n       <path d=\"M 30.609375 48.390625 \r\nQ 23.390625 48.390625 19.1875 42.75 \r\nQ 14.984375 37.109375 14.984375 27.296875 \r\nQ 14.984375 17.484375 19.15625 11.84375 \r\nQ 23.34375 6.203125 30.609375 6.203125 \r\nQ 37.796875 6.203125 41.984375 11.859375 \r\nQ 46.1875 17.53125 46.1875 27.296875 \r\nQ 46.1875 37.015625 41.984375 42.703125 \r\nQ 37.796875 48.390625 30.609375 48.390625 \r\nz\r\nM 30.609375 56 \r\nQ 42.328125 56 49.015625 48.375 \r\nQ 55.71875 40.765625 55.71875 27.296875 \r\nQ 55.71875 13.875 49.015625 6.21875 \r\nQ 42.328125 -1.421875 30.609375 -1.421875 \r\nQ 18.84375 -1.421875 12.171875 6.21875 \r\nQ 5.515625 13.875 5.515625 27.296875 \r\nQ 5.515625 40.765625 12.171875 48.375 \r\nQ 18.84375 56 30.609375 56 \r\nz\r\n\" id=\"DejaVuSans-111\"/>\r\n       <path d=\"M 2.984375 54.6875 \r\nL 12.5 54.6875 \r\nL 29.59375 8.796875 \r\nL 46.6875 54.6875 \r\nL 56.203125 54.6875 \r\nL 35.6875 0 \r\nL 23.484375 0 \r\nz\r\n\" id=\"DejaVuSans-118\"/>\r\n      </defs>\r\n      <g transform=\"translate(303.636058 243.037656)scale(0.1 -0.1)\">\r\n       <use xlink:href=\"#DejaVuSans-78\"/>\r\n       <use x=\"74.804688\" xlink:href=\"#DejaVuSans-111\"/>\r\n       <use x=\"135.986328\" xlink:href=\"#DejaVuSans-118\"/>\r\n      </g>\r\n     </g>\r\n    </g>\r\n    <g id=\"xtick_12\">\r\n     <g id=\"line2d_12\">\r\n      <g>\r\n       <use style=\"stroke:#000000;stroke-width:0.8;\" x=\"339.149279\" xlink:href=\"#m554f7fbbc0\" y=\"228.439219\"/>\r\n      </g>\r\n     </g>\r\n     <g id=\"text_12\">\r\n      <!-- Dec -->\r\n      <defs>\r\n       <path d=\"M 19.671875 64.796875 \r\nL 19.671875 8.109375 \r\nL 31.59375 8.109375 \r\nQ 46.6875 8.109375 53.6875 14.9375 \r\nQ 60.6875 21.78125 60.6875 36.53125 \r\nQ 60.6875 51.171875 53.6875 57.984375 \r\nQ 46.6875 64.796875 31.59375 64.796875 \r\nz\r\nM 9.8125 72.90625 \r\nL 30.078125 72.90625 \r\nQ 51.265625 72.90625 61.171875 64.09375 \r\nQ 71.09375 55.28125 71.09375 36.53125 \r\nQ 71.09375 17.671875 61.125 8.828125 \r\nQ 51.171875 0 30.078125 0 \r\nL 9.8125 0 \r\nz\r\n\" id=\"DejaVuSans-68\"/>\r\n      </defs>\r\n      <g transform=\"translate(329.473498 243.037656)scale(0.1 -0.1)\">\r\n       <use xlink:href=\"#DejaVuSans-68\"/>\r\n       <use x=\"77.001953\" xlink:href=\"#DejaVuSans-101\"/>\r\n       <use x=\"138.525391\" xlink:href=\"#DejaVuSans-99\"/>\r\n      </g>\r\n     </g>\r\n    </g>\r\n    <g id=\"xtick_13\">\r\n     <g id=\"line2d_13\">\r\n      <g>\r\n       <use style=\"stroke:#000000;stroke-width:0.8;\" x=\"364.903125\" xlink:href=\"#m554f7fbbc0\" y=\"228.439219\"/>\r\n      </g>\r\n     </g>\r\n    </g>\r\n    <g id=\"xtick_14\">\r\n     <g id=\"line2d_14\">\r\n      <defs>\r\n       <path d=\"M 0 0 \r\nL 0 2 \r\n\" id=\"m674660dc70\" style=\"stroke:#000000;stroke-width:0.6;\"/>\r\n      </defs>\r\n      <g>\r\n       <use style=\"stroke:#000000;stroke-width:0.6;\" x=\"36.541587\" xlink:href=\"#m674660dc70\" y=\"228.439219\"/>\r\n      </g>\r\n     </g>\r\n    </g>\r\n    <g id=\"xtick_15\">\r\n     <g id=\"line2d_15\">\r\n      <g>\r\n       <use style=\"stroke:#000000;stroke-width:0.6;\" x=\"42.980048\" xlink:href=\"#m674660dc70\" y=\"228.439219\"/>\r\n      </g>\r\n     </g>\r\n    </g>\r\n    <g id=\"xtick_16\">\r\n     <g id=\"line2d_16\">\r\n      <g>\r\n       <use style=\"stroke:#000000;stroke-width:0.6;\" x=\"49.41851\" xlink:href=\"#m674660dc70\" y=\"228.439219\"/>\r\n      </g>\r\n     </g>\r\n    </g>\r\n    <g id=\"xtick_17\">\r\n     <g id=\"line2d_17\">\r\n      <g>\r\n       <use style=\"stroke:#000000;stroke-width:0.6;\" x=\"55.856971\" xlink:href=\"#m674660dc70\" y=\"228.439219\"/>\r\n      </g>\r\n     </g>\r\n    </g>\r\n    <g id=\"xtick_18\">\r\n     <g id=\"line2d_18\">\r\n      <g>\r\n       <use style=\"stroke:#000000;stroke-width:0.6;\" x=\"68.733894\" xlink:href=\"#m674660dc70\" y=\"228.439219\"/>\r\n      </g>\r\n     </g>\r\n    </g>\r\n    <g id=\"xtick_19\">\r\n     <g id=\"line2d_19\">\r\n      <g>\r\n       <use style=\"stroke:#000000;stroke-width:0.6;\" x=\"75.172356\" xlink:href=\"#m674660dc70\" y=\"228.439219\"/>\r\n      </g>\r\n     </g>\r\n    </g>\r\n    <g id=\"xtick_20\">\r\n     <g id=\"line2d_20\">\r\n      <g>\r\n       <use style=\"stroke:#000000;stroke-width:0.6;\" x=\"81.610817\" xlink:href=\"#m674660dc70\" y=\"228.439219\"/>\r\n      </g>\r\n     </g>\r\n    </g>\r\n    <g id=\"xtick_21\">\r\n     <g id=\"line2d_21\">\r\n      <g>\r\n       <use style=\"stroke:#000000;stroke-width:0.6;\" x=\"94.48774\" xlink:href=\"#m674660dc70\" y=\"228.439219\"/>\r\n      </g>\r\n     </g>\r\n    </g>\r\n    <g id=\"xtick_22\">\r\n     <g id=\"line2d_22\">\r\n      <g>\r\n       <use style=\"stroke:#000000;stroke-width:0.6;\" x=\"100.926202\" xlink:href=\"#m674660dc70\" y=\"228.439219\"/>\r\n      </g>\r\n     </g>\r\n    </g>\r\n    <g id=\"xtick_23\">\r\n     <g id=\"line2d_23\">\r\n      <g>\r\n       <use style=\"stroke:#000000;stroke-width:0.6;\" x=\"107.364663\" xlink:href=\"#m674660dc70\" y=\"228.439219\"/>\r\n      </g>\r\n     </g>\r\n    </g>\r\n    <g id=\"xtick_24\">\r\n     <g id=\"line2d_24\">\r\n      <g>\r\n       <use style=\"stroke:#000000;stroke-width:0.6;\" x=\"120.241587\" xlink:href=\"#m674660dc70\" y=\"228.439219\"/>\r\n      </g>\r\n     </g>\r\n    </g>\r\n    <g id=\"xtick_25\">\r\n     <g id=\"line2d_25\">\r\n      <g>\r\n       <use style=\"stroke:#000000;stroke-width:0.6;\" x=\"126.680048\" xlink:href=\"#m674660dc70\" y=\"228.439219\"/>\r\n      </g>\r\n     </g>\r\n    </g>\r\n    <g id=\"xtick_26\">\r\n     <g id=\"line2d_26\">\r\n      <g>\r\n       <use style=\"stroke:#000000;stroke-width:0.6;\" x=\"133.11851\" xlink:href=\"#m674660dc70\" y=\"228.439219\"/>\r\n      </g>\r\n     </g>\r\n    </g>\r\n    <g id=\"xtick_27\">\r\n     <g id=\"line2d_27\">\r\n      <g>\r\n       <use style=\"stroke:#000000;stroke-width:0.6;\" x=\"139.556971\" xlink:href=\"#m674660dc70\" y=\"228.439219\"/>\r\n      </g>\r\n     </g>\r\n    </g>\r\n    <g id=\"xtick_28\">\r\n     <g id=\"line2d_28\">\r\n      <g>\r\n       <use style=\"stroke:#000000;stroke-width:0.6;\" x=\"152.433894\" xlink:href=\"#m674660dc70\" y=\"228.439219\"/>\r\n      </g>\r\n     </g>\r\n    </g>\r\n    <g id=\"xtick_29\">\r\n     <g id=\"line2d_29\">\r\n      <g>\r\n       <use style=\"stroke:#000000;stroke-width:0.6;\" x=\"158.872356\" xlink:href=\"#m674660dc70\" y=\"228.439219\"/>\r\n      </g>\r\n     </g>\r\n    </g>\r\n    <g id=\"xtick_30\">\r\n     <g id=\"line2d_30\">\r\n      <g>\r\n       <use style=\"stroke:#000000;stroke-width:0.6;\" x=\"165.310817\" xlink:href=\"#m674660dc70\" y=\"228.439219\"/>\r\n      </g>\r\n     </g>\r\n    </g>\r\n    <g id=\"xtick_31\">\r\n     <g id=\"line2d_31\">\r\n      <g>\r\n       <use style=\"stroke:#000000;stroke-width:0.6;\" x=\"178.18774\" xlink:href=\"#m674660dc70\" y=\"228.439219\"/>\r\n      </g>\r\n     </g>\r\n    </g>\r\n    <g id=\"xtick_32\">\r\n     <g id=\"line2d_32\">\r\n      <g>\r\n       <use style=\"stroke:#000000;stroke-width:0.6;\" x=\"184.626202\" xlink:href=\"#m674660dc70\" y=\"228.439219\"/>\r\n      </g>\r\n     </g>\r\n    </g>\r\n    <g id=\"xtick_33\">\r\n     <g id=\"line2d_33\">\r\n      <g>\r\n       <use style=\"stroke:#000000;stroke-width:0.6;\" x=\"191.064663\" xlink:href=\"#m674660dc70\" y=\"228.439219\"/>\r\n      </g>\r\n     </g>\r\n    </g>\r\n    <g id=\"xtick_34\">\r\n     <g id=\"line2d_34\">\r\n      <g>\r\n       <use style=\"stroke:#000000;stroke-width:0.6;\" x=\"203.941587\" xlink:href=\"#m674660dc70\" y=\"228.439219\"/>\r\n      </g>\r\n     </g>\r\n    </g>\r\n    <g id=\"xtick_35\">\r\n     <g id=\"line2d_35\">\r\n      <g>\r\n       <use style=\"stroke:#000000;stroke-width:0.6;\" x=\"210.380048\" xlink:href=\"#m674660dc70\" y=\"228.439219\"/>\r\n      </g>\r\n     </g>\r\n    </g>\r\n    <g id=\"xtick_36\">\r\n     <g id=\"line2d_36\">\r\n      <g>\r\n       <use style=\"stroke:#000000;stroke-width:0.6;\" x=\"216.81851\" xlink:href=\"#m674660dc70\" y=\"228.439219\"/>\r\n      </g>\r\n     </g>\r\n    </g>\r\n    <g id=\"xtick_37\">\r\n     <g id=\"line2d_37\">\r\n      <g>\r\n       <use style=\"stroke:#000000;stroke-width:0.6;\" x=\"223.256971\" xlink:href=\"#m674660dc70\" y=\"228.439219\"/>\r\n      </g>\r\n     </g>\r\n    </g>\r\n    <g id=\"xtick_38\">\r\n     <g id=\"line2d_38\">\r\n      <g>\r\n       <use style=\"stroke:#000000;stroke-width:0.6;\" x=\"236.133894\" xlink:href=\"#m674660dc70\" y=\"228.439219\"/>\r\n      </g>\r\n     </g>\r\n    </g>\r\n    <g id=\"xtick_39\">\r\n     <g id=\"line2d_39\">\r\n      <g>\r\n       <use style=\"stroke:#000000;stroke-width:0.6;\" x=\"242.572356\" xlink:href=\"#m674660dc70\" y=\"228.439219\"/>\r\n      </g>\r\n     </g>\r\n    </g>\r\n    <g id=\"xtick_40\">\r\n     <g id=\"line2d_40\">\r\n      <g>\r\n       <use style=\"stroke:#000000;stroke-width:0.6;\" x=\"249.010817\" xlink:href=\"#m674660dc70\" y=\"228.439219\"/>\r\n      </g>\r\n     </g>\r\n    </g>\r\n    <g id=\"xtick_41\">\r\n     <g id=\"line2d_41\">\r\n      <g>\r\n       <use style=\"stroke:#000000;stroke-width:0.6;\" x=\"261.88774\" xlink:href=\"#m674660dc70\" y=\"228.439219\"/>\r\n      </g>\r\n     </g>\r\n    </g>\r\n    <g id=\"xtick_42\">\r\n     <g id=\"line2d_42\">\r\n      <g>\r\n       <use style=\"stroke:#000000;stroke-width:0.6;\" x=\"268.326202\" xlink:href=\"#m674660dc70\" y=\"228.439219\"/>\r\n      </g>\r\n     </g>\r\n    </g>\r\n    <g id=\"xtick_43\">\r\n     <g id=\"line2d_43\">\r\n      <g>\r\n       <use style=\"stroke:#000000;stroke-width:0.6;\" x=\"274.764663\" xlink:href=\"#m674660dc70\" y=\"228.439219\"/>\r\n      </g>\r\n     </g>\r\n    </g>\r\n    <g id=\"xtick_44\">\r\n     <g id=\"line2d_44\">\r\n      <g>\r\n       <use style=\"stroke:#000000;stroke-width:0.6;\" x=\"287.641587\" xlink:href=\"#m674660dc70\" y=\"228.439219\"/>\r\n      </g>\r\n     </g>\r\n    </g>\r\n    <g id=\"xtick_45\">\r\n     <g id=\"line2d_45\">\r\n      <g>\r\n       <use style=\"stroke:#000000;stroke-width:0.6;\" x=\"294.080048\" xlink:href=\"#m674660dc70\" y=\"228.439219\"/>\r\n      </g>\r\n     </g>\r\n    </g>\r\n    <g id=\"xtick_46\">\r\n     <g id=\"line2d_46\">\r\n      <g>\r\n       <use style=\"stroke:#000000;stroke-width:0.6;\" x=\"300.51851\" xlink:href=\"#m674660dc70\" y=\"228.439219\"/>\r\n      </g>\r\n     </g>\r\n    </g>\r\n    <g id=\"xtick_47\">\r\n     <g id=\"line2d_47\">\r\n      <g>\r\n       <use style=\"stroke:#000000;stroke-width:0.6;\" x=\"306.956971\" xlink:href=\"#m674660dc70\" y=\"228.439219\"/>\r\n      </g>\r\n     </g>\r\n    </g>\r\n    <g id=\"xtick_48\">\r\n     <g id=\"line2d_48\">\r\n      <g>\r\n       <use style=\"stroke:#000000;stroke-width:0.6;\" x=\"319.833894\" xlink:href=\"#m674660dc70\" y=\"228.439219\"/>\r\n      </g>\r\n     </g>\r\n    </g>\r\n    <g id=\"xtick_49\">\r\n     <g id=\"line2d_49\">\r\n      <g>\r\n       <use style=\"stroke:#000000;stroke-width:0.6;\" x=\"326.272356\" xlink:href=\"#m674660dc70\" y=\"228.439219\"/>\r\n      </g>\r\n     </g>\r\n    </g>\r\n    <g id=\"xtick_50\">\r\n     <g id=\"line2d_50\">\r\n      <g>\r\n       <use style=\"stroke:#000000;stroke-width:0.6;\" x=\"332.710817\" xlink:href=\"#m674660dc70\" y=\"228.439219\"/>\r\n      </g>\r\n     </g>\r\n    </g>\r\n    <g id=\"xtick_51\">\r\n     <g id=\"line2d_51\">\r\n      <g>\r\n       <use style=\"stroke:#000000;stroke-width:0.6;\" x=\"345.58774\" xlink:href=\"#m674660dc70\" y=\"228.439219\"/>\r\n      </g>\r\n     </g>\r\n    </g>\r\n    <g id=\"xtick_52\">\r\n     <g id=\"line2d_52\">\r\n      <g>\r\n       <use style=\"stroke:#000000;stroke-width:0.6;\" x=\"352.026202\" xlink:href=\"#m674660dc70\" y=\"228.439219\"/>\r\n      </g>\r\n     </g>\r\n    </g>\r\n    <g id=\"xtick_53\">\r\n     <g id=\"line2d_53\">\r\n      <g>\r\n       <use style=\"stroke:#000000;stroke-width:0.6;\" x=\"358.464663\" xlink:href=\"#m674660dc70\" y=\"228.439219\"/>\r\n      </g>\r\n     </g>\r\n    </g>\r\n    <g id=\"text_13\">\r\n     <!-- Date -->\r\n     <g transform=\"translate(185.552344 267.913594)scale(0.1 -0.1)\">\r\n      <use xlink:href=\"#DejaVuSans-68\"/>\r\n      <use x=\"77.001953\" xlink:href=\"#DejaVuSans-97\"/>\r\n      <use x=\"138.28125\" xlink:href=\"#DejaVuSans-116\"/>\r\n      <use x=\"177.490234\" xlink:href=\"#DejaVuSans-101\"/>\r\n     </g>\r\n    </g>\r\n   </g>\r\n   <g id=\"matplotlib.axis_2\">\r\n    <g id=\"ytick_1\">\r\n     <g id=\"line2d_54\">\r\n      <defs>\r\n       <path d=\"M 0 0 \r\nL -3.5 0 \r\n\" id=\"mf4173fe21d\" style=\"stroke:#000000;stroke-width:0.8;\"/>\r\n      </defs>\r\n      <g>\r\n       <use style=\"stroke:#000000;stroke-width:0.8;\" x=\"30.103125\" xlink:href=\"#mf4173fe21d\" y=\"208.671946\"/>\r\n      </g>\r\n     </g>\r\n     <g id=\"text_14\">\r\n      <!-- 1.4 -->\r\n      <defs>\r\n       <path d=\"M 10.6875 12.40625 \r\nL 21 12.40625 \r\nL 21 0 \r\nL 10.6875 0 \r\nz\r\n\" id=\"DejaVuSans-46\"/>\r\n       <path d=\"M 37.796875 64.3125 \r\nL 12.890625 25.390625 \r\nL 37.796875 25.390625 \r\nz\r\nM 35.203125 72.90625 \r\nL 47.609375 72.90625 \r\nL 47.609375 25.390625 \r\nL 58.015625 25.390625 \r\nL 58.015625 17.1875 \r\nL 47.609375 17.1875 \r\nL 47.609375 0 \r\nL 37.796875 0 \r\nL 37.796875 17.1875 \r\nL 4.890625 17.1875 \r\nL 4.890625 26.703125 \r\nz\r\n\" id=\"DejaVuSans-52\"/>\r\n      </defs>\r\n      <g transform=\"translate(7.2 212.471165)scale(0.1 -0.1)\">\r\n       <use xlink:href=\"#DejaVuSans-49\"/>\r\n       <use x=\"63.623047\" xlink:href=\"#DejaVuSans-46\"/>\r\n       <use x=\"95.410156\" xlink:href=\"#DejaVuSans-52\"/>\r\n      </g>\r\n     </g>\r\n    </g>\r\n    <g id=\"ytick_2\">\r\n     <g id=\"line2d_55\">\r\n      <g>\r\n       <use style=\"stroke:#000000;stroke-width:0.8;\" x=\"30.103125\" xlink:href=\"#mf4173fe21d\" y=\"175.726491\"/>\r\n      </g>\r\n     </g>\r\n     <g id=\"text_15\">\r\n      <!-- 1.6 -->\r\n      <defs>\r\n       <path d=\"M 33.015625 40.375 \r\nQ 26.375 40.375 22.484375 35.828125 \r\nQ 18.609375 31.296875 18.609375 23.390625 \r\nQ 18.609375 15.53125 22.484375 10.953125 \r\nQ 26.375 6.390625 33.015625 6.390625 \r\nQ 39.65625 6.390625 43.53125 10.953125 \r\nQ 47.40625 15.53125 47.40625 23.390625 \r\nQ 47.40625 31.296875 43.53125 35.828125 \r\nQ 39.65625 40.375 33.015625 40.375 \r\nz\r\nM 52.59375 71.296875 \r\nL 52.59375 62.3125 \r\nQ 48.875 64.0625 45.09375 64.984375 \r\nQ 41.3125 65.921875 37.59375 65.921875 \r\nQ 27.828125 65.921875 22.671875 59.328125 \r\nQ 17.53125 52.734375 16.796875 39.40625 \r\nQ 19.671875 43.65625 24.015625 45.921875 \r\nQ 28.375 48.1875 33.59375 48.1875 \r\nQ 44.578125 48.1875 50.953125 41.515625 \r\nQ 57.328125 34.859375 57.328125 23.390625 \r\nQ 57.328125 12.15625 50.6875 5.359375 \r\nQ 44.046875 -1.421875 33.015625 -1.421875 \r\nQ 20.359375 -1.421875 13.671875 8.265625 \r\nQ 6.984375 17.96875 6.984375 36.375 \r\nQ 6.984375 53.65625 15.1875 63.9375 \r\nQ 23.390625 74.21875 37.203125 74.21875 \r\nQ 40.921875 74.21875 44.703125 73.484375 \r\nQ 48.484375 72.75 52.59375 71.296875 \r\nz\r\n\" id=\"DejaVuSans-54\"/>\r\n      </defs>\r\n      <g transform=\"translate(7.2 179.52571)scale(0.1 -0.1)\">\r\n       <use xlink:href=\"#DejaVuSans-49\"/>\r\n       <use x=\"63.623047\" xlink:href=\"#DejaVuSans-46\"/>\r\n       <use x=\"95.410156\" xlink:href=\"#DejaVuSans-54\"/>\r\n      </g>\r\n     </g>\r\n    </g>\r\n    <g id=\"ytick_3\">\r\n     <g id=\"line2d_56\">\r\n      <g>\r\n       <use style=\"stroke:#000000;stroke-width:0.8;\" x=\"30.103125\" xlink:href=\"#mf4173fe21d\" y=\"142.781037\"/>\r\n      </g>\r\n     </g>\r\n     <g id=\"text_16\">\r\n      <!-- 1.8 -->\r\n      <defs>\r\n       <path d=\"M 31.78125 34.625 \r\nQ 24.75 34.625 20.71875 30.859375 \r\nQ 16.703125 27.09375 16.703125 20.515625 \r\nQ 16.703125 13.921875 20.71875 10.15625 \r\nQ 24.75 6.390625 31.78125 6.390625 \r\nQ 38.8125 6.390625 42.859375 10.171875 \r\nQ 46.921875 13.96875 46.921875 20.515625 \r\nQ 46.921875 27.09375 42.890625 30.859375 \r\nQ 38.875 34.625 31.78125 34.625 \r\nz\r\nM 21.921875 38.8125 \r\nQ 15.578125 40.375 12.03125 44.71875 \r\nQ 8.5 49.078125 8.5 55.328125 \r\nQ 8.5 64.0625 14.71875 69.140625 \r\nQ 20.953125 74.21875 31.78125 74.21875 \r\nQ 42.671875 74.21875 48.875 69.140625 \r\nQ 55.078125 64.0625 55.078125 55.328125 \r\nQ 55.078125 49.078125 51.53125 44.71875 \r\nQ 48 40.375 41.703125 38.8125 \r\nQ 48.828125 37.15625 52.796875 32.3125 \r\nQ 56.78125 27.484375 56.78125 20.515625 \r\nQ 56.78125 9.90625 50.3125 4.234375 \r\nQ 43.84375 -1.421875 31.78125 -1.421875 \r\nQ 19.734375 -1.421875 13.25 4.234375 \r\nQ 6.78125 9.90625 6.78125 20.515625 \r\nQ 6.78125 27.484375 10.78125 32.3125 \r\nQ 14.796875 37.15625 21.921875 38.8125 \r\nz\r\nM 18.3125 54.390625 \r\nQ 18.3125 48.734375 21.84375 45.5625 \r\nQ 25.390625 42.390625 31.78125 42.390625 \r\nQ 38.140625 42.390625 41.71875 45.5625 \r\nQ 45.3125 48.734375 45.3125 54.390625 \r\nQ 45.3125 60.0625 41.71875 63.234375 \r\nQ 38.140625 66.40625 31.78125 66.40625 \r\nQ 25.390625 66.40625 21.84375 63.234375 \r\nQ 18.3125 60.0625 18.3125 54.390625 \r\nz\r\n\" id=\"DejaVuSans-56\"/>\r\n      </defs>\r\n      <g transform=\"translate(7.2 146.580256)scale(0.1 -0.1)\">\r\n       <use xlink:href=\"#DejaVuSans-49\"/>\r\n       <use x=\"63.623047\" xlink:href=\"#DejaVuSans-46\"/>\r\n       <use x=\"95.410156\" xlink:href=\"#DejaVuSans-56\"/>\r\n      </g>\r\n     </g>\r\n    </g>\r\n    <g id=\"ytick_4\">\r\n     <g id=\"line2d_57\">\r\n      <g>\r\n       <use style=\"stroke:#000000;stroke-width:0.8;\" x=\"30.103125\" xlink:href=\"#mf4173fe21d\" y=\"109.835582\"/>\r\n      </g>\r\n     </g>\r\n     <g id=\"text_17\">\r\n      <!-- 2.0 -->\r\n      <g transform=\"translate(7.2 113.634801)scale(0.1 -0.1)\">\r\n       <use xlink:href=\"#DejaVuSans-50\"/>\r\n       <use x=\"63.623047\" xlink:href=\"#DejaVuSans-46\"/>\r\n       <use x=\"95.410156\" xlink:href=\"#DejaVuSans-48\"/>\r\n      </g>\r\n     </g>\r\n    </g>\r\n    <g id=\"ytick_5\">\r\n     <g id=\"line2d_58\">\r\n      <g>\r\n       <use style=\"stroke:#000000;stroke-width:0.8;\" x=\"30.103125\" xlink:href=\"#mf4173fe21d\" y=\"76.890128\"/>\r\n      </g>\r\n     </g>\r\n     <g id=\"text_18\">\r\n      <!-- 2.2 -->\r\n      <g transform=\"translate(7.2 80.689347)scale(0.1 -0.1)\">\r\n       <use xlink:href=\"#DejaVuSans-50\"/>\r\n       <use x=\"63.623047\" xlink:href=\"#DejaVuSans-46\"/>\r\n       <use x=\"95.410156\" xlink:href=\"#DejaVuSans-50\"/>\r\n      </g>\r\n     </g>\r\n    </g>\r\n    <g id=\"ytick_6\">\r\n     <g id=\"line2d_59\">\r\n      <g>\r\n       <use style=\"stroke:#000000;stroke-width:0.8;\" x=\"30.103125\" xlink:href=\"#mf4173fe21d\" y=\"43.944673\"/>\r\n      </g>\r\n     </g>\r\n     <g id=\"text_19\">\r\n      <!-- 2.4 -->\r\n      <g transform=\"translate(7.2 47.743892)scale(0.1 -0.1)\">\r\n       <use xlink:href=\"#DejaVuSans-50\"/>\r\n       <use x=\"63.623047\" xlink:href=\"#DejaVuSans-46\"/>\r\n       <use x=\"95.410156\" xlink:href=\"#DejaVuSans-52\"/>\r\n      </g>\r\n     </g>\r\n    </g>\r\n    <g id=\"ytick_7\">\r\n     <g id=\"line2d_60\">\r\n      <g>\r\n       <use style=\"stroke:#000000;stroke-width:0.8;\" x=\"30.103125\" xlink:href=\"#mf4173fe21d\" y=\"10.999219\"/>\r\n      </g>\r\n     </g>\r\n     <g id=\"text_20\">\r\n      <!-- 2.6 -->\r\n      <g transform=\"translate(7.2 14.798437)scale(0.1 -0.1)\">\r\n       <use xlink:href=\"#DejaVuSans-50\"/>\r\n       <use x=\"63.623047\" xlink:href=\"#DejaVuSans-46\"/>\r\n       <use x=\"95.410156\" xlink:href=\"#DejaVuSans-54\"/>\r\n      </g>\r\n     </g>\r\n    </g>\r\n   </g>\r\n   <g id=\"line2d_61\">\r\n    <path clip-path=\"url(#p63e1c816ca)\" d=\"M 30.103125 198.78831 \r\nL 36.541587 192.199219 \r\nL 42.980048 165.842855 \r\nL 49.41851 187.257401 \r\nL 55.856971 202.082855 \r\nL 62.295433 215.261037 \r\nL 68.733894 185.610128 \r\nL 75.172356 192.199219 \r\nL 81.610817 218.555582 \r\nL 88.049279 200.435582 \r\nL 94.48774 187.257401 \r\nL 100.926202 180.66831 \r\nL 107.364663 159.253764 \r\nL 113.803125 169.137401 \r\nL 120.241587 170.784673 \r\nL 126.680048 164.195582 \r\nL 133.11851 175.726491 \r\nL 139.556971 174.079219 \r\nL 145.995433 177.373764 \r\nL 152.433894 149.370128 \r\nL 158.872356 146.075582 \r\nL 165.310817 149.370128 \r\nL 171.749279 169.137401 \r\nL 178.18774 144.42831 \r\nL 184.626202 146.075582 \r\nL 191.064663 165.842855 \r\nL 197.503125 154.311946 \r\nL 203.941587 172.431946 \r\nL 210.380048 86.773764 \r\nL 216.81851 81.831946 \r\nL 223.256971 86.773764 \r\nL 229.695433 80.184673 \r\nL 236.133894 75.242855 \r\nL 242.572356 48.886491 \r\nL 249.010817 20.882855 \r\nL 255.449279 95.010128 \r\nL 261.88774 76.890128 \r\nL 268.326202 80.184673 \r\nL 274.764663 101.599219 \r\nL 281.203125 96.657401 \r\nL 287.641587 81.831946 \r\nL 294.080048 93.362855 \r\nL 300.51851 109.835582 \r\nL 306.956971 108.18831 \r\nL 313.395433 149.370128 \r\nL 319.833894 111.482855 \r\nL 326.272356 113.130128 \r\nL 332.710817 109.835582 \r\nL 339.149279 141.133764 \r\nL 345.58774 127.955582 \r\nL 352.026202 151.017401 \r\nL 358.464663 139.486491 \r\nL 364.903125 157.606491 \r\n\" style=\"fill:none;stroke:#1f77b4;stroke-linecap:square;stroke-width:1.5;\"/>\r\n   </g>\r\n   <g id=\"patch_3\">\r\n    <path d=\"M 30.103125 228.439219 \r\nL 30.103125 10.999219 \r\n\" style=\"fill:none;stroke:#000000;stroke-linecap:square;stroke-linejoin:miter;stroke-width:0.8;\"/>\r\n   </g>\r\n   <g id=\"patch_4\">\r\n    <path d=\"M 364.903125 228.439219 \r\nL 364.903125 10.999219 \r\n\" style=\"fill:none;stroke:#000000;stroke-linecap:square;stroke-linejoin:miter;stroke-width:0.8;\"/>\r\n   </g>\r\n   <g id=\"patch_5\">\r\n    <path d=\"M 30.103125 228.439219 \r\nL 364.903125 228.439219 \r\n\" style=\"fill:none;stroke:#000000;stroke-linecap:square;stroke-linejoin:miter;stroke-width:0.8;\"/>\r\n   </g>\r\n   <g id=\"patch_6\">\r\n    <path d=\"M 30.103125 10.999219 \r\nL 364.903125 10.999219 \r\n\" style=\"fill:none;stroke:#000000;stroke-linecap:square;stroke-linejoin:miter;stroke-width:0.8;\"/>\r\n   </g>\r\n  </g>\r\n </g>\r\n <defs>\r\n  <clipPath id=\"p63e1c816ca\">\r\n   <rect height=\"217.44\" width=\"334.8\" x=\"30.103125\" y=\"10.999219\"/>\r\n  </clipPath>\r\n </defs>\r\n</svg>\r\n",
      "image/png": "[encoded data removed]"
     },
     "metadata": {
      "needs_background": "light"
     }
    }
   ],
   "source": [
    "org_Cal.AveragePrice.plot()"
   ]
  },
  {
   "cell_type": "markdown",
   "metadata": {},
   "source": [
    "A partir del subset `avo_subset` trata de sacar un gráfico en el que se pueda observar la cantidad de aguacates de tipo **conventional**, a lo largo de todos los periodos. \n",
    "\n",
    "Haz un gráfico simple usando la librería **pandas**. "
   ]
  },
  {
   "cell_type": "code",
   "execution_count": 45,
   "metadata": {},
   "outputs": [
    {
     "output_type": "execute_result",
     "data": {
      "text/plain": "<matplotlib.axes._subplots.AxesSubplot at 0xf70d4f0>"
     },
     "metadata": {},
     "execution_count": 45
    },
    {
     "output_type": "display_data",
     "data": {
      "text/plain": "<Figure size 432x288 with 1 Axes>",
      "image/svg+xml": "<?xml version=\"1.0\" encoding=\"utf-8\" standalone=\"no\"?>\r\n<!DOCTYPE svg PUBLIC \"-//W3C//DTD SVG 1.1//EN\"\r\n  \"http://www.w3.org/Graphics/SVG/1.1/DTD/svg11.dtd\">\r\n<!-- Created with matplotlib (https://matplotlib.org/) -->\r\n<svg height=\"270.789471pt\" version=\"1.1\" viewBox=\"0 0 375.782296 270.789471\" width=\"375.782296pt\" xmlns=\"http://www.w3.org/2000/svg\" xmlns:xlink=\"http://www.w3.org/1999/xlink\">\r\n <defs>\r\n  <style type=\"text/css\">\r\n*{stroke-linecap:butt;stroke-linejoin:round;}\r\n  </style>\r\n </defs>\r\n <g id=\"figure_1\">\r\n  <g id=\"patch_1\">\r\n   <path d=\"M 0 270.789471 \r\nL 375.782296 270.789471 \r\nL 375.782296 0 \r\nL 0 0 \r\nz\r\n\" style=\"fill:none;\"/>\r\n  </g>\r\n  <g id=\"axes_1\">\r\n   <g id=\"patch_2\">\r\n    <path d=\"M 33.782296 213.638437 \r\nL 368.582296 213.638437 \r\nL 368.582296 17.798437 \r\nL 33.782296 17.798437 \r\nz\r\n\" style=\"fill:#ffffff;\"/>\r\n   </g>\r\n   <g id=\"matplotlib.axis_1\">\r\n    <g id=\"xtick_1\">\r\n     <g id=\"line2d_1\">\r\n      <defs>\r\n       <path d=\"M 0 0 \r\nL 0 3.5 \r\n\" id=\"m2b9c2de22d\" style=\"stroke:#000000;stroke-width:0.8;\"/>\r\n      </defs>\r\n      <g>\r\n       <use style=\"stroke:#000000;stroke-width:0.8;\" x=\"48.22404\" xlink:href=\"#m2b9c2de22d\" y=\"213.638437\"/>\r\n      </g>\r\n     </g>\r\n     <g id=\"text_1\">\r\n      <!-- 2015-01 -->\r\n      <defs>\r\n       <path d=\"M 19.1875 8.296875 \r\nL 53.609375 8.296875 \r\nL 53.609375 0 \r\nL 7.328125 0 \r\nL 7.328125 8.296875 \r\nQ 12.9375 14.109375 22.625 23.890625 \r\nQ 32.328125 33.6875 34.8125 36.53125 \r\nQ 39.546875 41.84375 41.421875 45.53125 \r\nQ 43.3125 49.21875 43.3125 52.78125 \r\nQ 43.3125 58.59375 39.234375 62.25 \r\nQ 35.15625 65.921875 28.609375 65.921875 \r\nQ 23.96875 65.921875 18.8125 64.3125 \r\nQ 13.671875 62.703125 7.8125 59.421875 \r\nL 7.8125 69.390625 \r\nQ 13.765625 71.78125 18.9375 73 \r\nQ 24.125 74.21875 28.421875 74.21875 \r\nQ 39.75 74.21875 46.484375 68.546875 \r\nQ 53.21875 62.890625 53.21875 53.421875 \r\nQ 53.21875 48.921875 51.53125 44.890625 \r\nQ 49.859375 40.875 45.40625 35.40625 \r\nQ 44.1875 33.984375 37.640625 27.21875 \r\nQ 31.109375 20.453125 19.1875 8.296875 \r\nz\r\n\" id=\"DejaVuSans-50\"/>\r\n       <path d=\"M 31.78125 66.40625 \r\nQ 24.171875 66.40625 20.328125 58.90625 \r\nQ 16.5 51.421875 16.5 36.375 \r\nQ 16.5 21.390625 20.328125 13.890625 \r\nQ 24.171875 6.390625 31.78125 6.390625 \r\nQ 39.453125 6.390625 43.28125 13.890625 \r\nQ 47.125 21.390625 47.125 36.375 \r\nQ 47.125 51.421875 43.28125 58.90625 \r\nQ 39.453125 66.40625 31.78125 66.40625 \r\nz\r\nM 31.78125 74.21875 \r\nQ 44.046875 74.21875 50.515625 64.515625 \r\nQ 56.984375 54.828125 56.984375 36.375 \r\nQ 56.984375 17.96875 50.515625 8.265625 \r\nQ 44.046875 -1.421875 31.78125 -1.421875 \r\nQ 19.53125 -1.421875 13.0625 8.265625 \r\nQ 6.59375 17.96875 6.59375 36.375 \r\nQ 6.59375 54.828125 13.0625 64.515625 \r\nQ 19.53125 74.21875 31.78125 74.21875 \r\nz\r\n\" id=\"DejaVuSans-48\"/>\r\n       <path d=\"M 12.40625 8.296875 \r\nL 28.515625 8.296875 \r\nL 28.515625 63.921875 \r\nL 10.984375 60.40625 \r\nL 10.984375 69.390625 \r\nL 28.421875 72.90625 \r\nL 38.28125 72.90625 \r\nL 38.28125 8.296875 \r\nL 54.390625 8.296875 \r\nL 54.390625 0 \r\nL 12.40625 0 \r\nz\r\n\" id=\"DejaVuSans-49\"/>\r\n       <path d=\"M 10.796875 72.90625 \r\nL 49.515625 72.90625 \r\nL 49.515625 64.59375 \r\nL 19.828125 64.59375 \r\nL 19.828125 46.734375 \r\nQ 21.96875 47.46875 24.109375 47.828125 \r\nQ 26.265625 48.1875 28.421875 48.1875 \r\nQ 40.625 48.1875 47.75 41.5 \r\nQ 54.890625 34.8125 54.890625 23.390625 \r\nQ 54.890625 11.625 47.5625 5.09375 \r\nQ 40.234375 -1.421875 26.90625 -1.421875 \r\nQ 22.3125 -1.421875 17.546875 -0.640625 \r\nQ 12.796875 0.140625 7.71875 1.703125 \r\nL 7.71875 11.625 \r\nQ 12.109375 9.234375 16.796875 8.0625 \r\nQ 21.484375 6.890625 26.703125 6.890625 \r\nQ 35.15625 6.890625 40.078125 11.328125 \r\nQ 45.015625 15.765625 45.015625 23.390625 \r\nQ 45.015625 31 40.078125 35.4375 \r\nQ 35.15625 39.890625 26.703125 39.890625 \r\nQ 22.75 39.890625 18.8125 39.015625 \r\nQ 14.890625 38.140625 10.796875 36.28125 \r\nz\r\n\" id=\"DejaVuSans-53\"/>\r\n       <path d=\"M 4.890625 31.390625 \r\nL 31.203125 31.390625 \r\nL 31.203125 23.390625 \r\nL 4.890625 23.390625 \r\nz\r\n\" id=\"DejaVuSans-45\"/>\r\n      </defs>\r\n      <g transform=\"translate(10.999219 248.110284)rotate(-30)scale(0.1 -0.1)\">\r\n       <use xlink:href=\"#DejaVuSans-50\"/>\r\n       <use x=\"63.623047\" xlink:href=\"#DejaVuSans-48\"/>\r\n       <use x=\"127.246094\" xlink:href=\"#DejaVuSans-49\"/>\r\n       <use x=\"190.869141\" xlink:href=\"#DejaVuSans-53\"/>\r\n       <use x=\"254.492188\" xlink:href=\"#DejaVuSans-45\"/>\r\n       <use x=\"290.576172\" xlink:href=\"#DejaVuSans-48\"/>\r\n       <use x=\"354.199219\" xlink:href=\"#DejaVuSans-49\"/>\r\n      </g>\r\n     </g>\r\n    </g>\r\n    <g id=\"xtick_2\">\r\n     <g id=\"line2d_2\">\r\n      <g>\r\n       <use style=\"stroke:#000000;stroke-width:0.8;\" x=\"79.281553\" xlink:href=\"#m2b9c2de22d\" y=\"213.638437\"/>\r\n      </g>\r\n     </g>\r\n     <g id=\"text_2\">\r\n      <!-- 2015-05 -->\r\n      <g transform=\"translate(42.056733 248.110284)rotate(-30)scale(0.1 -0.1)\">\r\n       <use xlink:href=\"#DejaVuSans-50\"/>\r\n       <use x=\"63.623047\" xlink:href=\"#DejaVuSans-48\"/>\r\n       <use x=\"127.246094\" xlink:href=\"#DejaVuSans-49\"/>\r\n       <use x=\"190.869141\" xlink:href=\"#DejaVuSans-53\"/>\r\n       <use x=\"254.492188\" xlink:href=\"#DejaVuSans-45\"/>\r\n       <use x=\"290.576172\" xlink:href=\"#DejaVuSans-48\"/>\r\n       <use x=\"354.199219\" xlink:href=\"#DejaVuSans-53\"/>\r\n      </g>\r\n     </g>\r\n    </g>\r\n    <g id=\"xtick_3\">\r\n     <g id=\"line2d_3\">\r\n      <g>\r\n       <use style=\"stroke:#000000;stroke-width:0.8;\" x=\"111.115505\" xlink:href=\"#m2b9c2de22d\" y=\"213.638437\"/>\r\n      </g>\r\n     </g>\r\n     <g id=\"text_3\">\r\n      <!-- 2015-09 -->\r\n      <defs>\r\n       <path d=\"M 10.984375 1.515625 \r\nL 10.984375 10.5 \r\nQ 14.703125 8.734375 18.5 7.8125 \r\nQ 22.3125 6.890625 25.984375 6.890625 \r\nQ 35.75 6.890625 40.890625 13.453125 \r\nQ 46.046875 20.015625 46.78125 33.40625 \r\nQ 43.953125 29.203125 39.59375 26.953125 \r\nQ 35.25 24.703125 29.984375 24.703125 \r\nQ 19.046875 24.703125 12.671875 31.3125 \r\nQ 6.296875 37.9375 6.296875 49.421875 \r\nQ 6.296875 60.640625 12.9375 67.421875 \r\nQ 19.578125 74.21875 30.609375 74.21875 \r\nQ 43.265625 74.21875 49.921875 64.515625 \r\nQ 56.59375 54.828125 56.59375 36.375 \r\nQ 56.59375 19.140625 48.40625 8.859375 \r\nQ 40.234375 -1.421875 26.421875 -1.421875 \r\nQ 22.703125 -1.421875 18.890625 -0.6875 \r\nQ 15.09375 0.046875 10.984375 1.515625 \r\nz\r\nM 30.609375 32.421875 \r\nQ 37.25 32.421875 41.125 36.953125 \r\nQ 45.015625 41.5 45.015625 49.421875 \r\nQ 45.015625 57.28125 41.125 61.84375 \r\nQ 37.25 66.40625 30.609375 66.40625 \r\nQ 23.96875 66.40625 20.09375 61.84375 \r\nQ 16.21875 57.28125 16.21875 49.421875 \r\nQ 16.21875 41.5 20.09375 36.953125 \r\nQ 23.96875 32.421875 30.609375 32.421875 \r\nz\r\n\" id=\"DejaVuSans-57\"/>\r\n      </defs>\r\n      <g transform=\"translate(73.890684 248.110284)rotate(-30)scale(0.1 -0.1)\">\r\n       <use xlink:href=\"#DejaVuSans-50\"/>\r\n       <use x=\"63.623047\" xlink:href=\"#DejaVuSans-48\"/>\r\n       <use x=\"127.246094\" xlink:href=\"#DejaVuSans-49\"/>\r\n       <use x=\"190.869141\" xlink:href=\"#DejaVuSans-53\"/>\r\n       <use x=\"254.492188\" xlink:href=\"#DejaVuSans-45\"/>\r\n       <use x=\"290.576172\" xlink:href=\"#DejaVuSans-48\"/>\r\n       <use x=\"354.199219\" xlink:href=\"#DejaVuSans-57\"/>\r\n      </g>\r\n     </g>\r\n    </g>\r\n    <g id=\"xtick_4\">\r\n     <g id=\"line2d_4\">\r\n      <g>\r\n       <use style=\"stroke:#000000;stroke-width:0.8;\" x=\"142.690644\" xlink:href=\"#m2b9c2de22d\" y=\"213.638437\"/>\r\n      </g>\r\n     </g>\r\n     <g id=\"text_4\">\r\n      <!-- 2016-01 -->\r\n      <defs>\r\n       <path d=\"M 33.015625 40.375 \r\nQ 26.375 40.375 22.484375 35.828125 \r\nQ 18.609375 31.296875 18.609375 23.390625 \r\nQ 18.609375 15.53125 22.484375 10.953125 \r\nQ 26.375 6.390625 33.015625 6.390625 \r\nQ 39.65625 6.390625 43.53125 10.953125 \r\nQ 47.40625 15.53125 47.40625 23.390625 \r\nQ 47.40625 31.296875 43.53125 35.828125 \r\nQ 39.65625 40.375 33.015625 40.375 \r\nz\r\nM 52.59375 71.296875 \r\nL 52.59375 62.3125 \r\nQ 48.875 64.0625 45.09375 64.984375 \r\nQ 41.3125 65.921875 37.59375 65.921875 \r\nQ 27.828125 65.921875 22.671875 59.328125 \r\nQ 17.53125 52.734375 16.796875 39.40625 \r\nQ 19.671875 43.65625 24.015625 45.921875 \r\nQ 28.375 48.1875 33.59375 48.1875 \r\nQ 44.578125 48.1875 50.953125 41.515625 \r\nQ 57.328125 34.859375 57.328125 23.390625 \r\nQ 57.328125 12.15625 50.6875 5.359375 \r\nQ 44.046875 -1.421875 33.015625 -1.421875 \r\nQ 20.359375 -1.421875 13.671875 8.265625 \r\nQ 6.984375 17.96875 6.984375 36.375 \r\nQ 6.984375 53.65625 15.1875 63.9375 \r\nQ 23.390625 74.21875 37.203125 74.21875 \r\nQ 40.921875 74.21875 44.703125 73.484375 \r\nQ 48.484375 72.75 52.59375 71.296875 \r\nz\r\n\" id=\"DejaVuSans-54\"/>\r\n      </defs>\r\n      <g transform=\"translate(105.465824 248.110284)rotate(-30)scale(0.1 -0.1)\">\r\n       <use xlink:href=\"#DejaVuSans-50\"/>\r\n       <use x=\"63.623047\" xlink:href=\"#DejaVuSans-48\"/>\r\n       <use x=\"127.246094\" xlink:href=\"#DejaVuSans-49\"/>\r\n       <use x=\"190.869141\" xlink:href=\"#DejaVuSans-54\"/>\r\n       <use x=\"254.492188\" xlink:href=\"#DejaVuSans-45\"/>\r\n       <use x=\"290.576172\" xlink:href=\"#DejaVuSans-48\"/>\r\n       <use x=\"354.199219\" xlink:href=\"#DejaVuSans-49\"/>\r\n      </g>\r\n     </g>\r\n    </g>\r\n    <g id=\"xtick_5\">\r\n     <g id=\"line2d_5\">\r\n      <g>\r\n       <use style=\"stroke:#000000;stroke-width:0.8;\" x=\"174.006971\" xlink:href=\"#m2b9c2de22d\" y=\"213.638437\"/>\r\n      </g>\r\n     </g>\r\n     <g id=\"text_5\">\r\n      <!-- 2016-05 -->\r\n      <g transform=\"translate(136.78215 248.110284)rotate(-30)scale(0.1 -0.1)\">\r\n       <use xlink:href=\"#DejaVuSans-50\"/>\r\n       <use x=\"63.623047\" xlink:href=\"#DejaVuSans-48\"/>\r\n       <use x=\"127.246094\" xlink:href=\"#DejaVuSans-49\"/>\r\n       <use x=\"190.869141\" xlink:href=\"#DejaVuSans-54\"/>\r\n       <use x=\"254.492188\" xlink:href=\"#DejaVuSans-45\"/>\r\n       <use x=\"290.576172\" xlink:href=\"#DejaVuSans-48\"/>\r\n       <use x=\"354.199219\" xlink:href=\"#DejaVuSans-53\"/>\r\n      </g>\r\n     </g>\r\n    </g>\r\n    <g id=\"xtick_6\">\r\n     <g id=\"line2d_6\">\r\n      <g>\r\n       <use style=\"stroke:#000000;stroke-width:0.8;\" x=\"205.840923\" xlink:href=\"#m2b9c2de22d\" y=\"213.638437\"/>\r\n      </g>\r\n     </g>\r\n     <g id=\"text_6\">\r\n      <!-- 2016-09 -->\r\n      <g transform=\"translate(168.616102 248.110284)rotate(-30)scale(0.1 -0.1)\">\r\n       <use xlink:href=\"#DejaVuSans-50\"/>\r\n       <use x=\"63.623047\" xlink:href=\"#DejaVuSans-48\"/>\r\n       <use x=\"127.246094\" xlink:href=\"#DejaVuSans-49\"/>\r\n       <use x=\"190.869141\" xlink:href=\"#DejaVuSans-54\"/>\r\n       <use x=\"254.492188\" xlink:href=\"#DejaVuSans-45\"/>\r\n       <use x=\"290.576172\" xlink:href=\"#DejaVuSans-48\"/>\r\n       <use x=\"354.199219\" xlink:href=\"#DejaVuSans-57\"/>\r\n      </g>\r\n     </g>\r\n    </g>\r\n    <g id=\"xtick_7\">\r\n     <g id=\"line2d_7\">\r\n      <g>\r\n       <use style=\"stroke:#000000;stroke-width:0.8;\" x=\"237.416062\" xlink:href=\"#m2b9c2de22d\" y=\"213.638437\"/>\r\n      </g>\r\n     </g>\r\n     <g id=\"text_7\">\r\n      <!-- 2017-01 -->\r\n      <defs>\r\n       <path d=\"M 8.203125 72.90625 \r\nL 55.078125 72.90625 \r\nL 55.078125 68.703125 \r\nL 28.609375 0 \r\nL 18.3125 0 \r\nL 43.21875 64.59375 \r\nL 8.203125 64.59375 \r\nz\r\n\" id=\"DejaVuSans-55\"/>\r\n      </defs>\r\n      <g transform=\"translate(200.191241 248.110284)rotate(-30)scale(0.1 -0.1)\">\r\n       <use xlink:href=\"#DejaVuSans-50\"/>\r\n       <use x=\"63.623047\" xlink:href=\"#DejaVuSans-48\"/>\r\n       <use x=\"127.246094\" xlink:href=\"#DejaVuSans-49\"/>\r\n       <use x=\"190.869141\" xlink:href=\"#DejaVuSans-55\"/>\r\n       <use x=\"254.492188\" xlink:href=\"#DejaVuSans-45\"/>\r\n       <use x=\"290.576172\" xlink:href=\"#DejaVuSans-48\"/>\r\n       <use x=\"354.199219\" xlink:href=\"#DejaVuSans-49\"/>\r\n      </g>\r\n     </g>\r\n    </g>\r\n    <g id=\"xtick_8\">\r\n     <g id=\"line2d_8\">\r\n      <g>\r\n       <use style=\"stroke:#000000;stroke-width:0.8;\" x=\"268.473576\" xlink:href=\"#m2b9c2de22d\" y=\"213.638437\"/>\r\n      </g>\r\n     </g>\r\n     <g id=\"text_8\">\r\n      <!-- 2017-05 -->\r\n      <g transform=\"translate(231.248755 248.110284)rotate(-30)scale(0.1 -0.1)\">\r\n       <use xlink:href=\"#DejaVuSans-50\"/>\r\n       <use x=\"63.623047\" xlink:href=\"#DejaVuSans-48\"/>\r\n       <use x=\"127.246094\" xlink:href=\"#DejaVuSans-49\"/>\r\n       <use x=\"190.869141\" xlink:href=\"#DejaVuSans-55\"/>\r\n       <use x=\"254.492188\" xlink:href=\"#DejaVuSans-45\"/>\r\n       <use x=\"290.576172\" xlink:href=\"#DejaVuSans-48\"/>\r\n       <use x=\"354.199219\" xlink:href=\"#DejaVuSans-53\"/>\r\n      </g>\r\n     </g>\r\n    </g>\r\n    <g id=\"xtick_9\">\r\n     <g id=\"line2d_9\">\r\n      <g>\r\n       <use style=\"stroke:#000000;stroke-width:0.8;\" x=\"300.307528\" xlink:href=\"#m2b9c2de22d\" y=\"213.638437\"/>\r\n      </g>\r\n     </g>\r\n     <g id=\"text_9\">\r\n      <!-- 2017-09 -->\r\n      <g transform=\"translate(263.082707 248.110284)rotate(-30)scale(0.1 -0.1)\">\r\n       <use xlink:href=\"#DejaVuSans-50\"/>\r\n       <use x=\"63.623047\" xlink:href=\"#DejaVuSans-48\"/>\r\n       <use x=\"127.246094\" xlink:href=\"#DejaVuSans-49\"/>\r\n       <use x=\"190.869141\" xlink:href=\"#DejaVuSans-55\"/>\r\n       <use x=\"254.492188\" xlink:href=\"#DejaVuSans-45\"/>\r\n       <use x=\"290.576172\" xlink:href=\"#DejaVuSans-48\"/>\r\n       <use x=\"354.199219\" xlink:href=\"#DejaVuSans-57\"/>\r\n      </g>\r\n     </g>\r\n    </g>\r\n    <g id=\"xtick_10\">\r\n     <g id=\"line2d_10\">\r\n      <g>\r\n       <use style=\"stroke:#000000;stroke-width:0.8;\" x=\"331.882667\" xlink:href=\"#m2b9c2de22d\" y=\"213.638437\"/>\r\n      </g>\r\n     </g>\r\n     <g id=\"text_10\">\r\n      <!-- 2018-01 -->\r\n      <defs>\r\n       <path d=\"M 31.78125 34.625 \r\nQ 24.75 34.625 20.71875 30.859375 \r\nQ 16.703125 27.09375 16.703125 20.515625 \r\nQ 16.703125 13.921875 20.71875 10.15625 \r\nQ 24.75 6.390625 31.78125 6.390625 \r\nQ 38.8125 6.390625 42.859375 10.171875 \r\nQ 46.921875 13.96875 46.921875 20.515625 \r\nQ 46.921875 27.09375 42.890625 30.859375 \r\nQ 38.875 34.625 31.78125 34.625 \r\nz\r\nM 21.921875 38.8125 \r\nQ 15.578125 40.375 12.03125 44.71875 \r\nQ 8.5 49.078125 8.5 55.328125 \r\nQ 8.5 64.0625 14.71875 69.140625 \r\nQ 20.953125 74.21875 31.78125 74.21875 \r\nQ 42.671875 74.21875 48.875 69.140625 \r\nQ 55.078125 64.0625 55.078125 55.328125 \r\nQ 55.078125 49.078125 51.53125 44.71875 \r\nQ 48 40.375 41.703125 38.8125 \r\nQ 48.828125 37.15625 52.796875 32.3125 \r\nQ 56.78125 27.484375 56.78125 20.515625 \r\nQ 56.78125 9.90625 50.3125 4.234375 \r\nQ 43.84375 -1.421875 31.78125 -1.421875 \r\nQ 19.734375 -1.421875 13.25 4.234375 \r\nQ 6.78125 9.90625 6.78125 20.515625 \r\nQ 6.78125 27.484375 10.78125 32.3125 \r\nQ 14.796875 37.15625 21.921875 38.8125 \r\nz\r\nM 18.3125 54.390625 \r\nQ 18.3125 48.734375 21.84375 45.5625 \r\nQ 25.390625 42.390625 31.78125 42.390625 \r\nQ 38.140625 42.390625 41.71875 45.5625 \r\nQ 45.3125 48.734375 45.3125 54.390625 \r\nQ 45.3125 60.0625 41.71875 63.234375 \r\nQ 38.140625 66.40625 31.78125 66.40625 \r\nQ 25.390625 66.40625 21.84375 63.234375 \r\nQ 18.3125 60.0625 18.3125 54.390625 \r\nz\r\n\" id=\"DejaVuSans-56\"/>\r\n      </defs>\r\n      <g transform=\"translate(294.657846 248.110284)rotate(-30)scale(0.1 -0.1)\">\r\n       <use xlink:href=\"#DejaVuSans-50\"/>\r\n       <use x=\"63.623047\" xlink:href=\"#DejaVuSans-48\"/>\r\n       <use x=\"127.246094\" xlink:href=\"#DejaVuSans-49\"/>\r\n       <use x=\"190.869141\" xlink:href=\"#DejaVuSans-56\"/>\r\n       <use x=\"254.492188\" xlink:href=\"#DejaVuSans-45\"/>\r\n       <use x=\"290.576172\" xlink:href=\"#DejaVuSans-48\"/>\r\n       <use x=\"354.199219\" xlink:href=\"#DejaVuSans-49\"/>\r\n      </g>\r\n     </g>\r\n    </g>\r\n    <g id=\"xtick_11\">\r\n     <g id=\"line2d_11\">\r\n      <g>\r\n       <use style=\"stroke:#000000;stroke-width:0.8;\" x=\"362.940181\" xlink:href=\"#m2b9c2de22d\" y=\"213.638437\"/>\r\n      </g>\r\n     </g>\r\n     <g id=\"text_11\">\r\n      <!-- 2018-05 -->\r\n      <g transform=\"translate(325.71536 248.110284)rotate(-30)scale(0.1 -0.1)\">\r\n       <use xlink:href=\"#DejaVuSans-50\"/>\r\n       <use x=\"63.623047\" xlink:href=\"#DejaVuSans-48\"/>\r\n       <use x=\"127.246094\" xlink:href=\"#DejaVuSans-49\"/>\r\n       <use x=\"190.869141\" xlink:href=\"#DejaVuSans-56\"/>\r\n       <use x=\"254.492188\" xlink:href=\"#DejaVuSans-45\"/>\r\n       <use x=\"290.576172\" xlink:href=\"#DejaVuSans-48\"/>\r\n       <use x=\"354.199219\" xlink:href=\"#DejaVuSans-53\"/>\r\n      </g>\r\n     </g>\r\n    </g>\r\n    <g id=\"text_12\">\r\n     <!-- Date -->\r\n     <defs>\r\n      <path d=\"M 19.671875 64.796875 \r\nL 19.671875 8.109375 \r\nL 31.59375 8.109375 \r\nQ 46.6875 8.109375 53.6875 14.9375 \r\nQ 60.6875 21.78125 60.6875 36.53125 \r\nQ 60.6875 51.171875 53.6875 57.984375 \r\nQ 46.6875 64.796875 31.59375 64.796875 \r\nz\r\nM 9.8125 72.90625 \r\nL 30.078125 72.90625 \r\nQ 51.265625 72.90625 61.171875 64.09375 \r\nQ 71.09375 55.28125 71.09375 36.53125 \r\nQ 71.09375 17.671875 61.125 8.828125 \r\nQ 51.171875 0 30.078125 0 \r\nL 9.8125 0 \r\nz\r\n\" id=\"DejaVuSans-68\"/>\r\n      <path d=\"M 34.28125 27.484375 \r\nQ 23.390625 27.484375 19.1875 25 \r\nQ 14.984375 22.515625 14.984375 16.5 \r\nQ 14.984375 11.71875 18.140625 8.90625 \r\nQ 21.296875 6.109375 26.703125 6.109375 \r\nQ 34.1875 6.109375 38.703125 11.40625 \r\nQ 43.21875 16.703125 43.21875 25.484375 \r\nL 43.21875 27.484375 \r\nz\r\nM 52.203125 31.203125 \r\nL 52.203125 0 \r\nL 43.21875 0 \r\nL 43.21875 8.296875 \r\nQ 40.140625 3.328125 35.546875 0.953125 \r\nQ 30.953125 -1.421875 24.3125 -1.421875 \r\nQ 15.921875 -1.421875 10.953125 3.296875 \r\nQ 6 8.015625 6 15.921875 \r\nQ 6 25.140625 12.171875 29.828125 \r\nQ 18.359375 34.515625 30.609375 34.515625 \r\nL 43.21875 34.515625 \r\nL 43.21875 35.40625 \r\nQ 43.21875 41.609375 39.140625 45 \r\nQ 35.0625 48.390625 27.6875 48.390625 \r\nQ 23 48.390625 18.546875 47.265625 \r\nQ 14.109375 46.140625 10.015625 43.890625 \r\nL 10.015625 52.203125 \r\nQ 14.9375 54.109375 19.578125 55.046875 \r\nQ 24.21875 56 28.609375 56 \r\nQ 40.484375 56 46.34375 49.84375 \r\nQ 52.203125 43.703125 52.203125 31.203125 \r\nz\r\n\" id=\"DejaVuSans-97\"/>\r\n      <path d=\"M 18.3125 70.21875 \r\nL 18.3125 54.6875 \r\nL 36.8125 54.6875 \r\nL 36.8125 47.703125 \r\nL 18.3125 47.703125 \r\nL 18.3125 18.015625 \r\nQ 18.3125 11.328125 20.140625 9.421875 \r\nQ 21.96875 7.515625 27.59375 7.515625 \r\nL 36.8125 7.515625 \r\nL 36.8125 0 \r\nL 27.59375 0 \r\nQ 17.1875 0 13.234375 3.875 \r\nQ 9.28125 7.765625 9.28125 18.015625 \r\nL 9.28125 47.703125 \r\nL 2.6875 47.703125 \r\nL 2.6875 54.6875 \r\nL 9.28125 54.6875 \r\nL 9.28125 70.21875 \r\nz\r\n\" id=\"DejaVuSans-116\"/>\r\n      <path d=\"M 56.203125 29.59375 \r\nL 56.203125 25.203125 \r\nL 14.890625 25.203125 \r\nQ 15.484375 15.921875 20.484375 11.0625 \r\nQ 25.484375 6.203125 34.421875 6.203125 \r\nQ 39.59375 6.203125 44.453125 7.46875 \r\nQ 49.3125 8.734375 54.109375 11.28125 \r\nL 54.109375 2.78125 \r\nQ 49.265625 0.734375 44.1875 -0.34375 \r\nQ 39.109375 -1.421875 33.890625 -1.421875 \r\nQ 20.796875 -1.421875 13.15625 6.1875 \r\nQ 5.515625 13.8125 5.515625 26.8125 \r\nQ 5.515625 40.234375 12.765625 48.109375 \r\nQ 20.015625 56 32.328125 56 \r\nQ 43.359375 56 49.78125 48.890625 \r\nQ 56.203125 41.796875 56.203125 29.59375 \r\nz\r\nM 47.21875 32.234375 \r\nQ 47.125 39.59375 43.09375 43.984375 \r\nQ 39.0625 48.390625 32.421875 48.390625 \r\nQ 24.90625 48.390625 20.390625 44.140625 \r\nQ 15.875 39.890625 15.1875 32.171875 \r\nz\r\n\" id=\"DejaVuSans-101\"/>\r\n     </defs>\r\n     <g transform=\"translate(189.231514 261.509783)scale(0.1 -0.1)\">\r\n      <use xlink:href=\"#DejaVuSans-68\"/>\r\n      <use x=\"77.001953\" xlink:href=\"#DejaVuSans-97\"/>\r\n      <use x=\"138.28125\" xlink:href=\"#DejaVuSans-116\"/>\r\n      <use x=\"177.490234\" xlink:href=\"#DejaVuSans-101\"/>\r\n     </g>\r\n    </g>\r\n   </g>\r\n   <g id=\"matplotlib.axis_2\">\r\n    <g id=\"ytick_1\">\r\n     <g id=\"line2d_12\">\r\n      <defs>\r\n       <path d=\"M 0 0 \r\nL -3.5 0 \r\n\" id=\"m7615f7d2ed\" style=\"stroke:#000000;stroke-width:0.8;\"/>\r\n      </defs>\r\n      <g>\r\n       <use style=\"stroke:#000000;stroke-width:0.8;\" x=\"33.782296\" xlink:href=\"#m7615f7d2ed\" y=\"204.832659\"/>\r\n      </g>\r\n     </g>\r\n     <g id=\"text_13\">\r\n      <!-- 0 -->\r\n      <g transform=\"translate(20.419796 208.631877)scale(0.1 -0.1)\">\r\n       <use xlink:href=\"#DejaVuSans-48\"/>\r\n      </g>\r\n     </g>\r\n    </g>\r\n    <g id=\"ytick_2\">\r\n     <g id=\"line2d_13\">\r\n      <g>\r\n       <use style=\"stroke:#000000;stroke-width:0.8;\" x=\"33.782296\" xlink:href=\"#m7615f7d2ed\" y=\"176.334049\"/>\r\n      </g>\r\n     </g>\r\n     <g id=\"text_14\">\r\n      <!-- 1 -->\r\n      <g transform=\"translate(20.419796 180.133268)scale(0.1 -0.1)\">\r\n       <use xlink:href=\"#DejaVuSans-49\"/>\r\n      </g>\r\n     </g>\r\n    </g>\r\n    <g id=\"ytick_3\">\r\n     <g id=\"line2d_14\">\r\n      <g>\r\n       <use style=\"stroke:#000000;stroke-width:0.8;\" x=\"33.782296\" xlink:href=\"#m7615f7d2ed\" y=\"147.835439\"/>\r\n      </g>\r\n     </g>\r\n     <g id=\"text_15\">\r\n      <!-- 2 -->\r\n      <g transform=\"translate(20.419796 151.634658)scale(0.1 -0.1)\">\r\n       <use xlink:href=\"#DejaVuSans-50\"/>\r\n      </g>\r\n     </g>\r\n    </g>\r\n    <g id=\"ytick_4\">\r\n     <g id=\"line2d_15\">\r\n      <g>\r\n       <use style=\"stroke:#000000;stroke-width:0.8;\" x=\"33.782296\" xlink:href=\"#m7615f7d2ed\" y=\"119.336829\"/>\r\n      </g>\r\n     </g>\r\n     <g id=\"text_16\">\r\n      <!-- 3 -->\r\n      <defs>\r\n       <path d=\"M 40.578125 39.3125 \r\nQ 47.65625 37.796875 51.625 33 \r\nQ 55.609375 28.21875 55.609375 21.1875 \r\nQ 55.609375 10.40625 48.1875 4.484375 \r\nQ 40.765625 -1.421875 27.09375 -1.421875 \r\nQ 22.515625 -1.421875 17.65625 -0.515625 \r\nQ 12.796875 0.390625 7.625 2.203125 \r\nL 7.625 11.71875 \r\nQ 11.71875 9.328125 16.59375 8.109375 \r\nQ 21.484375 6.890625 26.8125 6.890625 \r\nQ 36.078125 6.890625 40.9375 10.546875 \r\nQ 45.796875 14.203125 45.796875 21.1875 \r\nQ 45.796875 27.640625 41.28125 31.265625 \r\nQ 36.765625 34.90625 28.71875 34.90625 \r\nL 20.21875 34.90625 \r\nL 20.21875 43.015625 \r\nL 29.109375 43.015625 \r\nQ 36.375 43.015625 40.234375 45.921875 \r\nQ 44.09375 48.828125 44.09375 54.296875 \r\nQ 44.09375 59.90625 40.109375 62.90625 \r\nQ 36.140625 65.921875 28.71875 65.921875 \r\nQ 24.65625 65.921875 20.015625 65.03125 \r\nQ 15.375 64.15625 9.8125 62.3125 \r\nL 9.8125 71.09375 \r\nQ 15.4375 72.65625 20.34375 73.4375 \r\nQ 25.25 74.21875 29.59375 74.21875 \r\nQ 40.828125 74.21875 47.359375 69.109375 \r\nQ 53.90625 64.015625 53.90625 55.328125 \r\nQ 53.90625 49.265625 50.4375 45.09375 \r\nQ 46.96875 40.921875 40.578125 39.3125 \r\nz\r\n\" id=\"DejaVuSans-51\"/>\r\n      </defs>\r\n      <g transform=\"translate(20.419796 123.136048)scale(0.1 -0.1)\">\r\n       <use xlink:href=\"#DejaVuSans-51\"/>\r\n      </g>\r\n     </g>\r\n    </g>\r\n    <g id=\"ytick_5\">\r\n     <g id=\"line2d_16\">\r\n      <g>\r\n       <use style=\"stroke:#000000;stroke-width:0.8;\" x=\"33.782296\" xlink:href=\"#m7615f7d2ed\" y=\"90.83822\"/>\r\n      </g>\r\n     </g>\r\n     <g id=\"text_17\">\r\n      <!-- 4 -->\r\n      <defs>\r\n       <path d=\"M 37.796875 64.3125 \r\nL 12.890625 25.390625 \r\nL 37.796875 25.390625 \r\nz\r\nM 35.203125 72.90625 \r\nL 47.609375 72.90625 \r\nL 47.609375 25.390625 \r\nL 58.015625 25.390625 \r\nL 58.015625 17.1875 \r\nL 47.609375 17.1875 \r\nL 47.609375 0 \r\nL 37.796875 0 \r\nL 37.796875 17.1875 \r\nL 4.890625 17.1875 \r\nL 4.890625 26.703125 \r\nz\r\n\" id=\"DejaVuSans-52\"/>\r\n      </defs>\r\n      <g transform=\"translate(20.419796 94.637438)scale(0.1 -0.1)\">\r\n       <use xlink:href=\"#DejaVuSans-52\"/>\r\n      </g>\r\n     </g>\r\n    </g>\r\n    <g id=\"ytick_6\">\r\n     <g id=\"line2d_17\">\r\n      <g>\r\n       <use style=\"stroke:#000000;stroke-width:0.8;\" x=\"33.782296\" xlink:href=\"#m7615f7d2ed\" y=\"62.33961\"/>\r\n      </g>\r\n     </g>\r\n     <g id=\"text_18\">\r\n      <!-- 5 -->\r\n      <g transform=\"translate(20.419796 66.138828)scale(0.1 -0.1)\">\r\n       <use xlink:href=\"#DejaVuSans-53\"/>\r\n      </g>\r\n     </g>\r\n    </g>\r\n    <g id=\"ytick_7\">\r\n     <g id=\"line2d_18\">\r\n      <g>\r\n       <use style=\"stroke:#000000;stroke-width:0.8;\" x=\"33.782296\" xlink:href=\"#m7615f7d2ed\" y=\"33.841\"/>\r\n      </g>\r\n     </g>\r\n     <g id=\"text_19\">\r\n      <!-- 6 -->\r\n      <g transform=\"translate(20.419796 37.640219)scale(0.1 -0.1)\">\r\n       <use xlink:href=\"#DejaVuSans-54\"/>\r\n      </g>\r\n     </g>\r\n    </g>\r\n    <g id=\"text_20\">\r\n     <!-- 1e7 -->\r\n     <g transform=\"translate(33.782296 14.798437)scale(0.1 -0.1)\">\r\n      <use xlink:href=\"#DejaVuSans-49\"/>\r\n      <use x=\"63.623047\" xlink:href=\"#DejaVuSans-101\"/>\r\n      <use x=\"125.146484\" xlink:href=\"#DejaVuSans-55\"/>\r\n     </g>\r\n    </g>\r\n   </g>\r\n   <g id=\"line2d_19\">\r\n    <path clip-path=\"url(#paed89ea809)\" d=\"M 49.000477 204.676039 \r\nL 49.000477 115.562822 \r\nL 49.000477 204.716176 \r\nL 49.000477 188.319394 \r\nL 50.812166 204.669203 \r\nL 50.812166 122.005602 \r\nL 50.812166 204.715258 \r\nL 50.812166 201.930857 \r\nL 52.623854 204.249848 \r\nL 52.623854 122.062839 \r\nL 52.623854 204.717548 \r\nL 52.623854 204.168111 \r\nL 54.435542 200.526983 \r\nL 54.435542 204.705789 \r\nL 54.435542 123.696231 \r\nL 56.247231 200.746633 \r\nL 56.247231 77.570801 \r\nL 56.247231 204.669008 \r\nL 56.247231 197.533237 \r\nL 58.058919 204.467653 \r\nL 58.058919 204.158854 \r\nL 58.058919 113.245727 \r\nL 58.058919 204.686592 \r\nL 58.058919 203.556771 \r\nL 59.870607 201.989744 \r\nL 59.870607 204.722224 \r\nL 59.870607 125.000868 \r\nL 59.870607 197.541108 \r\nL 61.682296 202.620209 \r\nL 61.682296 204.711076 \r\nL 61.682296 119.517141 \r\nL 61.682296 204.079957 \r\nL 63.493984 202.00751 \r\nL 63.493984 204.696179 \r\nL 63.493984 110.804305 \r\nL 63.493984 203.448378 \r\nL 65.305672 204.47436 \r\nL 65.305672 204.377433 \r\nL 65.305672 119.066951 \r\nL 65.305672 204.717218 \r\nL 65.305672 196.859472 \r\nL 67.117361 203.51287 \r\nL 67.117361 204.712741 \r\nL 67.117361 120.555927 \r\nL 67.117361 195.895518 \r\nL 68.929049 201.433537 \r\nL 68.929049 112.17356 \r\nL 68.929049 204.700577 \r\nL 68.929049 197.802806 \r\nL 70.740737 197.540078 \r\nL 70.740737 204.68327 \r\nL 70.740737 119.386279 \r\nL 72.552425 203.990851 \r\nL 72.552425 115.06013 \r\nL 72.552425 204.697683 \r\nL 72.552425 197.414144 \r\nL 74.364114 203.876845 \r\nL 74.364114 203.762924 \r\nL 74.364114 113.504869 \r\nL 74.364114 204.699203 \r\nL 76.175802 201.590053 \r\nL 76.175802 204.692831 \r\nL 76.175802 110.527179 \r\nL 76.175802 202.561259 \r\nL 77.98749 204.22145 \r\nL 77.98749 204.693554 \r\nL 77.98749 116.788604 \r\nL 77.98749 204.380957 \r\nL 79.799179 204.442878 \r\nL 79.799179 87.157042 \r\nL 79.799179 204.68848 \r\nL 79.799179 193.715196 \r\nL 81.610867 194.705272 \r\nL 81.610867 204.608351 \r\nL 81.610867 101.095192 \r\nL 81.610867 203.906211 \r\nL 83.422555 203.546657 \r\nL 83.422555 204.634166 \r\nL 83.422555 113.558206 \r\nL 83.422555 203.628637 \r\nL 85.234244 202.836585 \r\nL 85.234244 104.10665 \r\nL 85.234244 204.657152 \r\nL 85.234244 204.427198 \r\nL 87.045932 204.277988 \r\nL 87.045932 108.734893 \r\nL 87.045932 204.647875 \r\nL 87.045932 203.912463 \r\nL 88.85762 201.492115 \r\nL 88.85762 204.633805 \r\nL 88.85762 100.670252 \r\nL 88.85762 204.602529 \r\nL 90.669309 194.31912 \r\nL 90.669309 99.313462 \r\nL 90.669309 204.646892 \r\nL 90.669309 202.882366 \r\nL 92.480997 196.341732 \r\nL 92.480997 102.993977 \r\nL 92.480997 204.660612 \r\nL 92.480997 203.995555 \r\nL 94.292685 204.61812 \r\nL 94.292685 112.472353 \r\nL 94.292685 204.650442 \r\nL 94.292685 188.822846 \r\nL 96.104374 204.432499 \r\nL 96.104374 96.698473 \r\nL 96.104374 204.636239 \r\nL 96.104374 202.732559 \r\nL 97.916062 204.16682 \r\nL 97.916062 204.636455 \r\nL 97.916062 114.60597 \r\nL 97.916062 203.772333 \r\nL 99.72775 196.992142 \r\nL 99.72775 112.711907 \r\nL 99.72775 204.663298 \r\nL 99.72775 204.178187 \r\nL 101.539438 204.149143 \r\nL 101.539438 117.478118 \r\nL 101.539438 204.661817 \r\nL 101.539438 204.377119 \r\nL 103.351127 204.1615 \r\nL 103.351127 118.315246 \r\nL 103.351127 204.715813 \r\nL 103.351127 197.210326 \r\nL 105.162815 204.515923 \r\nL 105.162815 110.060783 \r\nL 105.162815 204.687045 \r\nL 105.162815 204.127104 \r\nL 106.974503 202.508202 \r\nL 106.974503 204.706565 \r\nL 106.974503 113.817058 \r\nL 106.974503 204.29885 \r\nL 108.786192 204.068986 \r\nL 108.786192 120.192228 \r\nL 108.786192 204.710303 \r\nL 108.786192 203.771013 \r\nL 110.59788 203.757608 \r\nL 110.59788 204.679622 \r\nL 110.59788 120.016127 \r\nL 110.59788 201.693021 \r\nL 112.409568 204.031118 \r\nL 112.409568 204.694843 \r\nL 112.409568 109.286851 \r\nL 112.409568 203.945998 \r\nL 114.221257 204.26235 \r\nL 114.221257 115.786371 \r\nL 114.221257 204.709942 \r\nL 114.221257 204.179412 \r\nL 116.032945 195.329535 \r\nL 116.032945 204.727083 \r\nL 116.032945 120.564873 \r\nL 116.032945 202.811342 \r\nL 117.844633 190.619315 \r\nL 117.844633 204.678211 \r\nL 117.844633 125.739019 \r\nL 117.844633 202.071177 \r\nL 119.656322 203.207191 \r\nL 119.656322 124.342594 \r\nL 119.656322 204.713238 \r\nL 121.46801 204.703929 \r\nL 121.46801 121.570556 \r\nL 121.46801 204.465458 \r\nL 123.279698 190.963505 \r\nL 123.279698 204.693998 \r\nL 123.279698 121.11764 \r\nL 123.279698 204.212583 \r\nL 125.091387 204.310346 \r\nL 125.091387 130.052101 \r\nL 125.091387 204.693096 \r\nL 125.091387 204.23343 \r\nL 126.903075 204.369386 \r\nL 126.903075 116.351645 \r\nL 126.903075 204.679947 \r\nL 126.903075 204.675644 \r\nL 128.714763 204.364364 \r\nL 128.714763 204.67432 \r\nL 128.714763 123.652328 \r\nL 128.714763 202.80599 \r\nL 130.526451 204.048326 \r\nL 130.526451 204.685247 \r\nL 130.526451 123.333029 \r\nL 130.526451 204.66504 \r\nL 132.33814 204.369757 \r\nL 132.33814 133.2606 \r\nL 132.33814 204.721228 \r\nL 132.33814 204.410187 \r\nL 134.149828 204.687203 \r\nL 134.149828 140.374505 \r\nL 134.149828 204.730484 \r\nL 134.149828 203.824326 \r\nL 135.961516 204.656337 \r\nL 135.961516 122.755532 \r\nL 135.961516 204.688362 \r\nL 135.961516 204.148848 \r\nL 137.773205 197.398944 \r\nL 137.773205 204.68907 \r\nL 137.773205 124.918751 \r\nL 137.773205 204.047272 \r\nL 139.584893 204.676267 \r\nL 139.584893 133.347751 \r\nL 139.584893 204.720474 \r\nL 139.584893 203.436789 \r\nL 141.396581 204.649593 \r\nL 141.396581 127.0372 \r\nL 141.396581 204.711984 \r\nL 141.396581 204.551705 \r\nL 143.20827 202.505005 \r\nL 143.20827 204.635446 \r\nL 143.20827 96.13301 \r\nL 143.20827 204.574684 \r\nL 145.019958 202.650121 \r\nL 145.019958 104.334204 \r\nL 145.019958 204.668288 \r\nL 145.019958 203.241442 \r\nL 146.831646 204.594161 \r\nL 146.831646 106.72237 \r\nL 146.831646 204.632784 \r\nL 146.831646 195.807315 \r\nL 148.643335 204.558818 \r\nL 148.643335 204.284932 \r\nL 148.643335 111.394041 \r\nL 148.643335 204.666129 \r\nL 148.643335 204.225024 \r\nL 150.455023 204.541864 \r\nL 150.455023 105.881923 \r\nL 150.455023 204.63267 \r\nL 150.455023 202.700658 \r\nL 152.266711 177.136459 \r\nL 152.266711 204.573506 \r\nL 152.266711 55.817139 \r\nL 152.266711 200.941008 \r\nL 154.078399 202.253122 \r\nL 154.078399 100.87987 \r\nL 154.078399 204.645236 \r\nL 154.078399 204.377369 \r\nL 155.890088 204.564911 \r\nL 155.890088 204.51326 \r\nL 155.890088 111.34373 \r\nL 155.890088 204.646298 \r\nL 155.890088 201.965183 \r\nL 157.701776 203.249645 \r\nL 157.701776 99.952595 \r\nL 157.701776 204.649308 \r\nL 157.701776 202.484167 \r\nL 159.513464 199.889817 \r\nL 159.513464 204.647798 \r\nL 159.513464 104.903691 \r\nL 159.513464 202.496609 \r\nL 161.325153 191.47108 \r\nL 161.325153 204.62968 \r\nL 161.325153 101.170345 \r\nL 161.325153 203.155069 \r\nL 163.136841 199.308924 \r\nL 163.136841 204.625871 \r\nL 163.136841 101.281581 \r\nL 163.136841 202.993828 \r\nL 164.948529 199.871516 \r\nL 164.948529 204.626251 \r\nL 164.948529 102.436595 \r\nL 164.948529 202.163477 \r\nL 166.760218 202.802959 \r\nL 166.760218 108.882255 \r\nL 166.760218 204.664909 \r\nL 166.760218 204.554369 \r\nL 168.571906 204.205404 \r\nL 168.571906 100.573261 \r\nL 168.571906 204.653424 \r\nL 168.571906 202.63638 \r\nL 170.383594 203.695353 \r\nL 170.383594 98.054395 \r\nL 170.383594 204.631621 \r\nL 172.195283 200.862681 \r\nL 172.195283 204.636534 \r\nL 172.195283 91.956233 \r\nL 172.195283 203.055808 \r\nL 174.006971 204.594958 \r\nL 174.006971 82.665934 \r\nL 174.006971 204.597301 \r\nL 174.006971 201.103289 \r\nL 175.818659 203.599418 \r\nL 175.818659 72.814189 \r\nL 175.818659 204.588643 \r\nL 175.818659 203.425886 \r\nL 177.630348 203.996166 \r\nL 177.630348 91.080467 \r\nL 177.630348 204.629065 \r\nL 177.630348 201.073885 \r\nL 179.442036 204.250921 \r\nL 179.442036 204.625656 \r\nL 179.442036 99.507395 \r\nL 179.442036 204.50818 \r\nL 181.253724 201.616309 \r\nL 181.253724 204.598475 \r\nL 181.253724 90.783858 \r\nL 181.253724 193.646099 \r\nL 183.065412 203.954761 \r\nL 183.065412 203.948218 \r\nL 183.065412 90.179162 \r\nL 183.065412 204.604627 \r\nL 183.065412 204.338363 \r\nL 184.877101 204.288559 \r\nL 184.877101 103.432268 \r\nL 184.877101 204.636812 \r\nL 184.877101 195.019636 \r\nL 186.688789 203.447781 \r\nL 186.688789 95.141692 \r\nL 186.688789 204.609766 \r\nL 186.688789 201.545107 \r\nL 188.500477 204.157528 \r\nL 188.500477 204.5923 \r\nL 188.500477 100.479231 \r\nL 188.500477 204.516973 \r\nL 190.312166 202.056101 \r\nL 190.312166 204.589835 \r\nL 190.312166 90.857638 \r\nL 190.312166 204.555181 \r\nL 192.123854 204.346009 \r\nL 192.123854 103.470033 \r\nL 192.123854 204.59217 \r\nL 192.123854 204.072283 \r\nL 193.935542 204.641982 \r\nL 193.935542 111.767246 \r\nL 193.935542 204.036286 \r\nL 195.747231 204.404818 \r\nL 195.747231 112.66993 \r\nL 195.747231 204.670353 \r\nL 195.747231 204.338678 \r\nL 197.558919 193.963835 \r\nL 197.558919 204.637982 \r\nL 197.558919 115.912464 \r\nL 197.558919 203.382223 \r\nL 199.370607 203.067998 \r\nL 199.370607 108.450619 \r\nL 199.370607 204.660175 \r\nL 199.370607 202.995438 \r\nL 201.182296 204.358263 \r\nL 201.182296 204.661062 \r\nL 201.182296 106.836834 \r\nL 202.993984 204.58401 \r\nL 202.993984 109.09985 \r\nL 202.993984 204.665948 \r\nL 202.993984 204.453927 \r\nL 204.805672 203.198723 \r\nL 204.805672 204.62829 \r\nL 204.805672 107.95468 \r\nL 204.805672 203.061589 \r\nL 206.617361 204.369961 \r\nL 206.617361 99.015357 \r\nL 206.617361 204.685056 \r\nL 206.617361 203.997928 \r\nL 208.429049 201.948487 \r\nL 208.429049 204.658836 \r\nL 208.429049 107.57622 \r\nL 208.429049 204.316864 \r\nL 210.240737 203.290797 \r\nL 210.240737 115.500656 \r\nL 210.240737 204.673288 \r\nL 210.240737 204.355483 \r\nL 212.052425 204.142138 \r\nL 212.052425 204.657813 \r\nL 212.052425 118.4673 \r\nL 212.052425 195.524553 \r\nL 213.864114 204.22082 \r\nL 213.864114 120.434002 \r\nL 213.864114 204.679346 \r\nL 213.864114 204.324213 \r\nL 215.675802 201.520167 \r\nL 215.675802 204.634327 \r\nL 215.675802 122.592562 \r\nL 215.675802 203.819055 \r\nL 217.48749 204.100973 \r\nL 217.48749 125.871427 \r\nL 217.48749 204.675764 \r\nL 217.48749 201.922869 \r\nL 219.299179 204.63131 \r\nL 219.299179 134.288585 \r\nL 219.299179 204.671846 \r\nL 219.299179 196.520814 \r\nL 221.110867 203.343473 \r\nL 221.110867 204.736619 \r\nL 221.110867 144.957848 \r\nL 221.110867 204.527685 \r\nL 222.922555 204.337863 \r\nL 222.922555 204.721888 \r\nL 222.922555 140.611901 \r\nL 222.922555 204.158106 \r\nL 224.734244 136.221895 \r\nL 224.734244 204.720741 \r\nL 224.734244 198.138865 \r\nL 226.545932 199.13566 \r\nL 226.545932 204.722657 \r\nL 226.545932 133.61548 \r\nL 226.545932 204.457601 \r\nL 228.35762 204.690843 \r\nL 228.35762 139.505117 \r\nL 228.35762 204.736453 \r\nL 228.35762 203.714683 \r\nL 230.169309 203.139139 \r\nL 230.169309 114.716572 \r\nL 230.169309 204.687796 \r\nL 230.169309 203.483454 \r\nL 231.980997 119.070251 \r\nL 231.980997 204.713218 \r\nL 231.980997 204.532772 \r\nL 233.792685 203.523653 \r\nL 233.792685 120.522706 \r\nL 233.792685 204.71288 \r\nL 233.792685 201.560303 \r\nL 235.604374 203.904646 \r\nL 235.604374 118.516486 \r\nL 235.604374 204.701462 \r\nL 235.604374 203.612213 \r\nL 237.416062 204.12283 \r\nL 237.416062 94.030871 \r\nL 237.416062 204.649458 \r\nL 237.416062 198.042174 \r\nL 239.22775 200.793813 \r\nL 239.22775 204.640711 \r\nL 239.22775 96.396011 \r\nL 239.22775 204.187964 \r\nL 241.039438 204.087953 \r\nL 241.039438 204.637163 \r\nL 241.039438 95.695841 \r\nL 241.039438 193.880245 \r\nL 242.851127 203.900761 \r\nL 242.851127 203.545266 \r\nL 242.851127 84.738396 \r\nL 242.851127 204.60507 \r\nL 242.851127 199.925435 \r\nL 244.662815 204.153273 \r\nL 244.662815 92.623432 \r\nL 244.662815 204.628011 \r\nL 244.662815 204.512924 \r\nL 246.474503 202.287323 \r\nL 246.474503 30.892941 \r\nL 246.474503 204.536196 \r\nL 246.474503 202.894084 \r\nL 248.286192 199.260054 \r\nL 248.286192 204.639154 \r\nL 248.286192 87.767578 \r\nL 248.286192 204.517771 \r\nL 250.09788 204.015183 \r\nL 250.09788 204.657084 \r\nL 250.09788 108.205687 \r\nL 250.09788 203.924691 \r\nL 251.909568 193.864355 \r\nL 251.909568 204.660466 \r\nL 251.909568 99.36558 \r\nL 251.909568 204.484137 \r\nL 253.721257 202.54401 \r\nL 253.721257 108.837443 \r\nL 253.721257 204.625337 \r\nL 253.721257 204.404319 \r\nL 255.532945 204.454198 \r\nL 255.532945 113.578474 \r\nL 255.532945 204.622226 \r\nL 255.532945 203.933684 \r\nL 257.344633 204.516462 \r\nL 257.344633 114.790944 \r\nL 257.344633 204.637594 \r\nL 257.344633 203.520708 \r\nL 259.156322 204.107086 \r\nL 259.156322 204.06206 \r\nL 259.156322 204.581077 \r\nL 259.156322 112.055094 \r\nL 259.156322 202.960656 \r\nL 260.96801 203.425936 \r\nL 260.96801 106.603601 \r\nL 260.96801 204.618197 \r\nL 260.96801 203.202817 \r\nL 262.779698 204.576382 \r\nL 262.779698 105.698214 \r\nL 262.779698 204.605297 \r\nL 262.779698 203.96458 \r\nL 264.591387 196.8826 \r\nL 264.591387 204.618472 \r\nL 264.591387 104.567936 \r\nL 264.591387 204.086391 \r\nL 266.403075 203.96341 \r\nL 266.403075 204.651826 \r\nL 266.403075 103.009936 \r\nL 266.403075 204.247293 \r\nL 268.214763 204.16095 \r\nL 268.214763 95.638809 \r\nL 268.214763 204.565731 \r\nL 268.214763 204.020081 \r\nL 270.026451 203.432361 \r\nL 270.026451 70.051557 \r\nL 270.026451 204.57872 \r\nL 270.026451 204.105994 \r\nL 271.83814 203.726981 \r\nL 271.83814 204.619057 \r\nL 271.83814 100.430085 \r\nL 271.83814 202.746696 \r\nL 273.649828 202.693265 \r\nL 273.649828 204.645876 \r\nL 273.649828 106.804135 \r\nL 273.649828 202.694276 \r\nL 275.461516 203.599401 \r\nL 275.461516 204.583766 \r\nL 275.461516 99.29976 \r\nL 275.461516 185.009058 \r\nL 277.273205 204.552061 \r\nL 277.273205 203.708938 \r\nL 277.273205 98.383624 \r\nL 277.273205 204.649539 \r\nL 277.273205 204.590868 \r\nL 279.084893 204.209849 \r\nL 279.084893 99.274225 \r\nL 279.084893 204.665822 \r\nL 279.084893 203.934266 \r\nL 280.896581 203.635463 \r\nL 280.896581 204.657482 \r\nL 280.896581 95.832118 \r\nL 280.896581 203.553269 \r\nL 282.70827 204.561719 \r\nL 282.70827 98.517718 \r\nL 282.70827 204.666868 \r\nL 282.70827 203.276951 \r\nL 284.519958 203.791068 \r\nL 284.519958 96.508228 \r\nL 284.519958 204.628123 \r\nL 284.519958 204.421398 \r\nL 286.331646 192.275197 \r\nL 286.331646 204.61171 \r\nL 286.331646 92.641223 \r\nL 286.331646 203.854939 \r\nL 288.143335 203.320897 \r\nL 288.143335 204.634335 \r\nL 288.143335 112.340286 \r\nL 288.143335 204.540657 \r\nL 289.955023 201.419086 \r\nL 289.955023 204.63878 \r\nL 289.955023 111.903533 \r\nL 289.955023 204.430406 \r\nL 291.766711 204.345924 \r\nL 291.766711 204.648958 \r\nL 291.766711 114.332196 \r\nL 291.766711 203.916648 \r\nL 293.578399 204.145889 \r\nL 293.578399 204.6351 \r\nL 293.578399 112.126908 \r\nL 293.578399 202.349774 \r\nL 295.390088 203.020418 \r\nL 295.390088 111.308047 \r\nL 295.390088 204.638467 \r\nL 297.201776 201.819817 \r\nL 297.201776 204.659793 \r\nL 297.201776 119.582646 \r\nL 297.201776 204.225824 \r\nL 299.013464 204.513408 \r\nL 299.013464 122.798613 \r\nL 299.013464 204.652979 \r\nL 299.013464 198.799142 \r\nL 300.825153 204.503482 \r\nL 300.825153 128.432415 \r\nL 300.825153 204.662855 \r\nL 300.825153 204.185261 \r\nL 302.636841 203.803633 \r\nL 302.636841 204.668809 \r\nL 302.636841 129.638845 \r\nL 302.636841 204.29739 \r\nL 304.448529 203.964358 \r\nL 304.448529 132.460716 \r\nL 304.448529 204.654961 \r\nL 304.448529 192.916744 \r\nL 306.260218 202.135595 \r\nL 306.260218 204.679141 \r\nL 306.260218 134.620211 \r\nL 306.260218 203.408407 \r\nL 308.071906 203.69318 \r\nL 308.071906 204.698618 \r\nL 308.071906 134.695741 \r\nL 308.071906 204.555049 \r\nL 309.883594 204.583927 \r\nL 309.883594 135.304127 \r\nL 309.883594 204.703126 \r\nL 309.883594 191.338133 \r\nL 311.695283 204.708076 \r\nL 311.695283 204.622981 \r\nL 311.695283 133.49611 \r\nL 311.695283 204.66719 \r\nL 311.695283 201.479081 \r\nL 313.506971 204.353206 \r\nL 313.506971 128.721503 \r\nL 313.506971 204.707253 \r\nL 313.506971 203.496918 \r\nL 315.318659 202.364288 \r\nL 315.318659 204.679845 \r\nL 315.318659 118.658815 \r\nL 315.318659 201.779472 \r\nL 317.130348 201.389926 \r\nL 317.130348 113.490071 \r\nL 317.130348 204.684386 \r\nL 317.130348 203.916331 \r\nL 318.942036 204.599463 \r\nL 318.942036 204.545361 \r\nL 318.942036 112.678913 \r\nL 318.942036 204.655112 \r\nL 318.942036 201.827973 \r\nL 320.753724 202.966011 \r\nL 320.753724 204.659951 \r\nL 320.753724 121.464296 \r\nL 320.753724 201.027245 \r\nL 322.565412 204.676825 \r\nL 322.565412 134.479067 \r\nL 322.565412 204.704985 \r\nL 322.565412 203.03457 \r\nL 324.377101 204.358043 \r\nL 324.377101 108.43824 \r\nL 324.377101 204.603348 \r\nL 324.377101 202.966744 \r\nL 326.188789 197.980961 \r\nL 326.188789 204.661766 \r\nL 326.188789 103.278111 \r\nL 326.188789 188.543674 \r\nL 328.000477 197.754124 \r\nL 328.000477 204.692389 \r\nL 328.000477 117.177299 \r\nL 328.000477 201.891922 \r\nL 329.812166 203.565092 \r\nL 329.812166 204.667982 \r\nL 329.812166 121.895009 \r\nL 329.812166 190.250272 \r\nL 331.623854 204.402708 \r\nL 331.623854 204.285001 \r\nL 331.623854 95.776055 \r\nL 331.623854 204.664297 \r\nL 331.623854 192.29644 \r\nL 333.435542 188.427057 \r\nL 333.435542 204.636195 \r\nL 333.435542 100.233765 \r\nL 333.435542 202.798098 \r\nL 335.247231 204.00457 \r\nL 335.247231 204.002435 \r\nL 335.247231 98.533 \r\nL 335.247231 204.606472 \r\nL 335.247231 204.54044 \r\nL 337.058919 187.340917 \r\nL 337.058919 204.590435 \r\nL 337.058919 82.460137 \r\nL 337.058919 203.888429 \r\nL 338.870607 90.349067 \r\nL 338.870607 204.623706 \r\nL 338.870607 203.269262 \r\nL 340.682296 203.613059 \r\nL 340.682296 26.700256 \r\nL 340.682296 204.510558 \r\nL 340.682296 190.382209 \r\nL 342.493984 203.252131 \r\nL 342.493984 204.609734 \r\nL 342.493984 81.810413 \r\nL 342.493984 200.405673 \r\nL 344.305672 204.340068 \r\nL 344.305672 204.64526 \r\nL 344.305672 100.214583 \r\nL 344.305672 204.422644 \r\nL 346.117361 204.535478 \r\nL 346.117361 90.776866 \r\nL 346.117361 204.636337 \r\nL 346.117361 192.570958 \r\nL 347.929049 204.35334 \r\nL 347.929049 88.725863 \r\nL 347.929049 204.577025 \r\nL 347.929049 203.311685 \r\nL 349.740737 189.901671 \r\nL 349.740737 204.602929 \r\nL 349.740737 89.556913 \r\nL 349.740737 204.287518 \r\nL 351.552425 203.382138 \r\nL 351.552425 86.887417 \r\nL 351.552425 204.628231 \r\nL 351.552425 203.611208 \r\nL 353.364114 182.982591 \r\nL 353.364114 204.588027 \r\nL 353.364114 81.120662 \r\nL 353.364114 199.774792 \r\n\" style=\"fill:none;stroke:#1f77b4;stroke-linecap:square;stroke-width:1.5;\"/>\r\n   </g>\r\n   <g id=\"patch_3\">\r\n    <path d=\"M 33.782296 213.638437 \r\nL 33.782296 17.798438 \r\n\" style=\"fill:none;stroke:#000000;stroke-linecap:square;stroke-linejoin:miter;stroke-width:0.8;\"/>\r\n   </g>\r\n   <g id=\"patch_4\">\r\n    <path d=\"M 368.582296 213.638437 \r\nL 368.582296 17.798438 \r\n\" style=\"fill:none;stroke:#000000;stroke-linecap:square;stroke-linejoin:miter;stroke-width:0.8;\"/>\r\n   </g>\r\n   <g id=\"patch_5\">\r\n    <path d=\"M 33.782296 213.638437 \r\nL 368.582296 213.638437 \r\n\" style=\"fill:none;stroke:#000000;stroke-linecap:square;stroke-linejoin:miter;stroke-width:0.8;\"/>\r\n   </g>\r\n   <g id=\"patch_6\">\r\n    <path d=\"M 33.782296 17.798437 \r\nL 368.582296 17.798437 \r\n\" style=\"fill:none;stroke:#000000;stroke-linecap:square;stroke-linejoin:miter;stroke-width:0.8;\"/>\r\n   </g>\r\n  </g>\r\n </g>\r\n <defs>\r\n  <clipPath id=\"paed89ea809\">\r\n   <rect height=\"195.84\" width=\"334.8\" x=\"33.782296\" y=\"17.798437\"/>\r\n  </clipPath>\r\n </defs>\r\n</svg>\r\n",
      "image/png": "[encoded data removed]"
     },
     "metadata": {
      "needs_background": "light"
     }
    }
   ],
   "source": [
    "avo_subset[avo_subset.type == \"conventional\"][\"Total Volume\"].plot()  "
   ]
  },
  {
   "cell_type": "markdown",
   "metadata": {},
   "source": [
    "Crea una función **lambda** que quite los dos primeros dígitos de cada año de la columna `\"year\"` y lo convierta a string. \n",
    "Después aplica esta función a toda la columna del dataframe `avo_subset`. \n",
    "\n",
    "Ejemplo: `2015` --> `\"15\"` "
   ]
  },
  {
   "cell_type": "code",
   "execution_count": 46,
   "metadata": {},
   "outputs": [
    {
     "output_type": "execute_result",
     "data": {
      "text/plain": "<function __main__.<lambda>(x)>"
     },
     "metadata": {},
     "execution_count": 46
    }
   ],
   "source": [
    "#lambda function to remove first two digits and convert to string:\n",
    "lambda x: str(x%100)"
   ]
  },
  {
   "cell_type": "code",
   "execution_count": 47,
   "metadata": {},
   "outputs": [
    {
     "output_type": "execute_result",
     "data": {
      "text/plain": "Date\n2015-01-04    2015\n2015-01-04    2015\n2015-01-04    2015\n2015-01-04    2015\n2015-01-04    2015\n              ... \n2018-03-25    2018\n2018-03-25    2018\n2018-03-25    2018\n2018-03-25    2018\n2018-03-25    2018\nName: year, Length: 18249, dtype: int64"
     },
     "metadata": {},
     "execution_count": 47
    }
   ],
   "source": [
    "avo_subset.year #before using"
   ]
  },
  {
   "cell_type": "code",
   "execution_count": 48,
   "metadata": {},
   "outputs": [
    {
     "output_type": "execute_result",
     "data": {
      "text/plain": "Date\n2015-01-04    15\n2015-01-04    15\n2015-01-04    15\n2015-01-04    15\n2015-01-04    15\n              ..\n2018-03-25    18\n2018-03-25    18\n2018-03-25    18\n2018-03-25    18\n2018-03-25    18\nName: year, Length: 18249, dtype: object"
     },
     "metadata": {},
     "execution_count": 48
    }
   ],
   "source": [
    "avo_subset.year.apply(lambda x: str(x%100))"
   ]
  },
  {
   "cell_type": "markdown",
   "metadata": {},
   "source": [
    "# ¡Ya tienes un 10!"
   ]
  },
  {
   "cell_type": "markdown",
   "metadata": {},
   "source": [
    "**No te conformes y si te sobra tiempo, ve a por el 11 o si no, recupera algún puntito si algún ejercicio se te ha quedado atascado. ¡Otra oportunidad!**"
   ]
  },
  {
   "cell_type": "markdown",
   "metadata": {},
   "source": [
    "En esta misma carpeta encontrarás un archivo llamado `supermarket_region.csv`, asígnalo a la variable `supermarket` y muestra los primeros 5 filas. \n",
    "\n"
   ]
  },
  {
   "cell_type": "code",
   "execution_count": 49,
   "metadata": {},
   "outputs": [],
   "source": [
    "supermarket = pd.read_csv(\"supermarket_region.csv\")"
   ]
  },
  {
   "cell_type": "code",
   "execution_count": 50,
   "metadata": {},
   "outputs": [
    {
     "output_type": "execute_result",
     "data": {
      "text/plain": "                region                                            Address  \\\n0             Midsouth                                                  0   \n1        DallasFtWorth  2025 Fort Worth Ave, Dallas, TX 75208, Estados...   \n2              Detroit    575 Brush St, Detroit, MI 48226, Estados Unidos   \n3  HartfordSpringfield  1106 Union St, West Springfield, MA 01089, Est...   \n4                Tampa  8401 N Armenia Ave, Tampa, FL 33604, Estados U...   \n\n                 Supermarket Name  \n0                               0  \n1   Elrod's Cost Plus Supermarket  \n2                     City Market  \n3  Price Rite of West Springfield  \n4              Quadro Supermarket  ",
      "text/html": "<div>\n<style scoped>\n    .dataframe tbody tr th:only-of-type {\n        vertical-align: middle;\n    }\n\n    .dataframe tbody tr th {\n        vertical-align: top;\n    }\n\n    .dataframe thead th {\n        text-align: right;\n    }\n</style>\n<table border=\"1\" class=\"dataframe\">\n  <thead>\n    <tr style=\"text-align: right;\">\n      <th></th>\n      <th>region</th>\n      <th>Address</th>\n      <th>Supermarket Name</th>\n    </tr>\n  </thead>\n  <tbody>\n    <tr>\n      <th>0</th>\n      <td>Midsouth</td>\n      <td>0</td>\n      <td>0</td>\n    </tr>\n    <tr>\n      <th>1</th>\n      <td>DallasFtWorth</td>\n      <td>2025 Fort Worth Ave, Dallas, TX 75208, Estados...</td>\n      <td>Elrod's Cost Plus Supermarket</td>\n    </tr>\n    <tr>\n      <th>2</th>\n      <td>Detroit</td>\n      <td>575 Brush St, Detroit, MI 48226, Estados Unidos</td>\n      <td>City Market</td>\n    </tr>\n    <tr>\n      <th>3</th>\n      <td>HartfordSpringfield</td>\n      <td>1106 Union St, West Springfield, MA 01089, Est...</td>\n      <td>Price Rite of West Springfield</td>\n    </tr>\n    <tr>\n      <th>4</th>\n      <td>Tampa</td>\n      <td>8401 N Armenia Ave, Tampa, FL 33604, Estados U...</td>\n      <td>Quadro Supermarket</td>\n    </tr>\n  </tbody>\n</table>\n</div>"
     },
     "metadata": {},
     "execution_count": 50
    }
   ],
   "source": [
    "supermarket.head()"
   ]
  },
  {
   "cell_type": "markdown",
   "metadata": {},
   "source": [
    "El dataframe `supermarket` y `avo_subset` tienen una columna en común que es `region`, sabiendo esto, utiliza el método adecuado para unir ambos dataframes en uno llamado `avo_merged`. \n",
    "\n",
    "Si lo has hecho bien, no debería salir ningún **null**. "
   ]
  },
  {
   "cell_type": "code",
   "execution_count": 51,
   "metadata": {},
   "outputs": [],
   "source": [
    "avo_merged = pd.merge(avo_subset, supermarket, on=\"region\")"
   ]
  },
  {
   "cell_type": "code",
   "execution_count": 52,
   "metadata": {
    "tags": []
   },
   "outputs": [
    {
     "output_type": "execute_result",
     "data": {
      "text/plain": "       AveragePrice  Total Volume          type  year      region  \\\n0              1.75      27365.89       organic  2015   Southeast   \n1              0.98    3204112.16  conventional  2015   Southeast   \n2              1.18    2433295.61  conventional  2015   Southeast   \n3              1.83      23690.65       organic  2015   Southeast   \n4              1.79      25740.00       organic  2015   Southeast   \n...             ...           ...           ...   ...         ...   \n18244          1.11    6488605.43  conventional  2018  California   \n18245          1.75     202790.74       organic  2018  California   \n18246          1.02    6802084.11  conventional  2018  California   \n18247          1.04    6687009.44  conventional  2018  California   \n18248          1.70     190257.38       organic  2018  California   \n\n                                                 Address  \\\n0                                                      0   \n1                                                      0   \n2                                                      0   \n3                                                      0   \n4                                                      0   \n...                                                  ...   \n18244  601 Imperial Ave, Calexico, CA 92231, Estados ...   \n18245  601 Imperial Ave, Calexico, CA 92231, Estados ...   \n18246  601 Imperial Ave, Calexico, CA 92231, Estados ...   \n18247  601 Imperial Ave, Calexico, CA 92231, Estados ...   \n18248  601 Imperial Ave, Calexico, CA 92231, Estados ...   \n\n              Supermarket Name  \n0                            0  \n1                            0  \n2                            0  \n3                            0  \n4                            0  \n...                        ...  \n18244  California Super Market  \n18245  California Super Market  \n18246  California Super Market  \n18247  California Super Market  \n18248  California Super Market  \n\n[18249 rows x 7 columns]",
      "text/html": "<div>\n<style scoped>\n    .dataframe tbody tr th:only-of-type {\n        vertical-align: middle;\n    }\n\n    .dataframe tbody tr th {\n        vertical-align: top;\n    }\n\n    .dataframe thead th {\n        text-align: right;\n    }\n</style>\n<table border=\"1\" class=\"dataframe\">\n  <thead>\n    <tr style=\"text-align: right;\">\n      <th></th>\n      <th>AveragePrice</th>\n      <th>Total Volume</th>\n      <th>type</th>\n      <th>year</th>\n      <th>region</th>\n      <th>Address</th>\n      <th>Supermarket Name</th>\n    </tr>\n  </thead>\n  <tbody>\n    <tr>\n      <th>0</th>\n      <td>1.75</td>\n      <td>27365.89</td>\n      <td>organic</td>\n      <td>2015</td>\n      <td>Southeast</td>\n      <td>0</td>\n      <td>0</td>\n    </tr>\n    <tr>\n      <th>1</th>\n      <td>0.98</td>\n      <td>3204112.16</td>\n      <td>conventional</td>\n      <td>2015</td>\n      <td>Southeast</td>\n      <td>0</td>\n      <td>0</td>\n    </tr>\n    <tr>\n      <th>2</th>\n      <td>1.18</td>\n      <td>2433295.61</td>\n      <td>conventional</td>\n      <td>2015</td>\n      <td>Southeast</td>\n      <td>0</td>\n      <td>0</td>\n    </tr>\n    <tr>\n      <th>3</th>\n      <td>1.83</td>\n      <td>23690.65</td>\n      <td>organic</td>\n      <td>2015</td>\n      <td>Southeast</td>\n      <td>0</td>\n      <td>0</td>\n    </tr>\n    <tr>\n      <th>4</th>\n      <td>1.79</td>\n      <td>25740.00</td>\n      <td>organic</td>\n      <td>2015</td>\n      <td>Southeast</td>\n      <td>0</td>\n      <td>0</td>\n    </tr>\n    <tr>\n      <th>...</th>\n      <td>...</td>\n      <td>...</td>\n      <td>...</td>\n      <td>...</td>\n      <td>...</td>\n      <td>...</td>\n      <td>...</td>\n    </tr>\n    <tr>\n      <th>18244</th>\n      <td>1.11</td>\n      <td>6488605.43</td>\n      <td>conventional</td>\n      <td>2018</td>\n      <td>California</td>\n      <td>601 Imperial Ave, Calexico, CA 92231, Estados ...</td>\n      <td>California Super Market</td>\n    </tr>\n    <tr>\n      <th>18245</th>\n      <td>1.75</td>\n      <td>202790.74</td>\n      <td>organic</td>\n      <td>2018</td>\n      <td>California</td>\n      <td>601 Imperial Ave, Calexico, CA 92231, Estados ...</td>\n      <td>California Super Market</td>\n    </tr>\n    <tr>\n      <th>18246</th>\n      <td>1.02</td>\n      <td>6802084.11</td>\n      <td>conventional</td>\n      <td>2018</td>\n      <td>California</td>\n      <td>601 Imperial Ave, Calexico, CA 92231, Estados ...</td>\n      <td>California Super Market</td>\n    </tr>\n    <tr>\n      <th>18247</th>\n      <td>1.04</td>\n      <td>6687009.44</td>\n      <td>conventional</td>\n      <td>2018</td>\n      <td>California</td>\n      <td>601 Imperial Ave, Calexico, CA 92231, Estados ...</td>\n      <td>California Super Market</td>\n    </tr>\n    <tr>\n      <th>18248</th>\n      <td>1.70</td>\n      <td>190257.38</td>\n      <td>organic</td>\n      <td>2018</td>\n      <td>California</td>\n      <td>601 Imperial Ave, Calexico, CA 92231, Estados ...</td>\n      <td>California Super Market</td>\n    </tr>\n  </tbody>\n</table>\n<p>18249 rows × 7 columns</p>\n</div>"
     },
     "metadata": {},
     "execution_count": 52
    }
   ],
   "source": [
    "avo_merged"
   ]
  },
  {
   "cell_type": "markdown",
   "metadata": {},
   "source": [
    "Guarda `avo_merged` como un `.json` usando la función de **pandas** correspondiente, el nombre del archivo deberá ser `\"avo_merged.json\"`. "
   ]
  },
  {
   "cell_type": "code",
   "execution_count": 53,
   "metadata": {},
   "outputs": [],
   "source": [
    "with open('avo_merged.json', 'w') as f:\n",
    "    f.write(avo_merged.to_json(orient='index'))"
   ]
  },
  {
   "cell_type": "code",
   "execution_count": null,
   "metadata": {},
   "outputs": [],
   "source": []
  }
 ],
 "metadata": {
  "kernelspec": {
   "display_name": "Python 3.8.3 32-bit",
   "language": "python",
   "name": "python_defaultSpec_1596102717893"
  },
  "language_info": {
   "codemirror_mode": {
    "name": "ipython",
    "version": 3
   },
   "file_extension": ".py",
   "mimetype": "text/x-python",
   "name": "python",
   "nbconvert_exporter": "python",
   "pygments_lexer": "ipython3",
   "version": "3.8.3"
  }
 },
 "nbformat": 4,
 "nbformat_minor": 4
}