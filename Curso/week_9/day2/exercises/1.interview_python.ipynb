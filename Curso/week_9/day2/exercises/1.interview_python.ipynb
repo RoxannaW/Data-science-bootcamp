{
 "metadata": {
  "language_info": {
   "codemirror_mode": {
    "name": "ipython",
    "version": 3
   },
   "file_extension": ".py",
   "mimetype": "text/x-python",
   "name": "python",
   "nbconvert_exporter": "python",
   "pygments_lexer": "ipython3",
   "version": "3.8.3-final"
  },
  "orig_nbformat": 2,
  "kernelspec": {
   "name": "python_defaultSpec_1600178140363",
   "display_name": "Python 3.6.4 64-bit"
  }
 },
 "nbformat": 4,
 "nbformat_minor": 2,
 "cells": [
  {
   "cell_type": "markdown",
   "metadata": {},
   "source": [
    "Here's your coding interview problem for today.\n",
    "\n",
    "This problem was asked by Google.\n",
    "\n",
    "You are given an M by N matrix consisting of booleans that represents a board. Each True boolean represents a wall. Each False boolean represents a tile you can walk on.\n",
    "\n",
    "Given this matrix, a start coordinate, and an end coordinate, return the minimum number of steps required to reach the end coordinate from the start. If there is no possible path, then return null. You can move up, left, down, and right. You cannot move through walls. You cannot wrap around the edges of the board.\n",
    "\n",
    "For example, given the following board:\n",
    "\n",
    ">f, f, f, f,\n",
    "\n",
    ">t, t, f, t,\n",
    "\n",
    ">f, f, f, f,\n",
    "\n",
    ">f, f, f, f\n",
    "\n",
    "and start = (3, 0) (bottom left) and end = (0, 0) (top left), the minimum number of steps required to reach the end is 7, since we would need to go through (1, 2) because there is a wall everywhere else on the second row."
   ]
  },
  {
   "cell_type": "code",
   "execution_count": 5,
   "metadata": {},
   "outputs": [],
   "source": [
    "import numpy as np"
   ]
  },
  {
   "cell_type": "code",
   "execution_count": 7,
   "metadata": {},
   "outputs": [
    {
     "output_type": "execute_result",
     "data": {
      "text/plain": "(4, 4)"
     },
     "metadata": {},
     "execution_count": 7
    }
   ],
   "source": [
    "matrix = [[\"f\", \"f\", \"f\", \"f\"],\n",
    "\n",
    "[\"t\", \"t\", \"f\", \"t\"],\n",
    "\n",
    "[\"f\", \"f\", \"f\", \"f\"],\n",
    "\n",
    "[\"f\", \"f\", \"f\", \"f\"]]\n",
    "\n",
    "matrix =np.array(matrix)\n",
    "matrix.shape"
   ]
  },
  {
   "cell_type": "code",
   "execution_count": 45,
   "metadata": {},
   "outputs": [],
   "source": [
    "#wall1 = matrix[1][0]\n",
    "#wall2 = matrix[1][1]\n",
    "#wall3 = matrix[1][3]\n",
    "\n",
    "wall1 = (1, 0)\n",
    "wall2 = (1, 1)\n",
    "wall3 = (1, 3)"
   ]
  },
  {
   "cell_type": "code",
   "execution_count": 4,
   "metadata": {},
   "outputs": [],
   "source": [
    "end = (0, 0)\n",
    "start = (3, 0)\n",
    "\n"
   ]
  },
  {
   "cell_type": "code",
   "execution_count": 54,
   "metadata": {
    "tags": []
   },
   "outputs": [
    {
     "output_type": "stream",
     "name": "stdout",
     "text": "yes\n"
    }
   ],
   "source": [
    "lst[0] =+ 1\n",
    "if lst == wall1:\n",
    "    print(\"yes\")"
   ]
  },
  {
   "cell_type": "code",
   "execution_count": 53,
   "metadata": {},
   "outputs": [
    {
     "output_type": "execute_result",
     "data": {
      "text/plain": "[1, 0]"
     },
     "metadata": {},
     "execution_count": 53
    }
   ],
   "source": [
    "wall1 = [1, 0]\n",
    "wall1"
   ]
  },
  {
   "cell_type": "code",
   "execution_count": 58,
   "metadata": {},
   "outputs": [
    {
     "output_type": "execute_result",
     "data": {
      "text/plain": "0"
     },
     "metadata": {},
     "execution_count": 58
    }
   ],
   "source": [
    "current_position[1]"
   ]
  },
  {
   "cell_type": "code",
   "execution_count": 55,
   "metadata": {},
   "outputs": [
    {
     "output_type": "execute_result",
     "data": {
      "text/plain": "[0, 0]"
     },
     "metadata": {},
     "execution_count": 55
    }
   ],
   "source": [
    "[1, 0]\n",
    "[1, 1]"
   ]
  },
  {
   "cell_type": "code",
   "execution_count": null,
   "metadata": {},
   "outputs": [],
   "source": [
    "def run_game(matrix, start, end):\n",
    "    current_position = list(start)\n",
    "    end_position = list(end)\n",
    "    #difference = end - start  # (-3, 0)\n",
    "    #current_position = move_up(matrix=matrix, current_position=current_position)\n",
    "    steps = 0\n",
    "\n",
    "    wall1 = [1, 0]\n",
    "    wall2 = [1, 1]\n",
    "    wall3 = [1, 3]\n",
    "\n",
    "    while end_position[0] != current_position[0]:\n",
    "        if end_position[0] < current_position[0]:\n",
    "            current_position[0] -= 1\n",
    "            steps =+ 1\n",
    "            if current_position == wall1 or current_position == wall2 or current_position ==                                        wall3:\n",
    "                current_position[0] += 1\n",
    "                if current_position[1] == 0:\n",
    "                    current_position[1] += 1\n",
    "                if current_position[1] == 1:\n",
    "                    current_position[1] += 1\n",
    "\n",
    "                else:\n",
    "                     current_position[1] += 1 \n",
    "                \n",
    "\n",
    "        if end_position[0] > current_position[0]:\n",
    "            current_position[0] += 1\n",
    "            steps += 1\n",
    "            if current_position == wall1 or current_position == wall2 or current_position ==                                        wall3:\n",
    "                current_position[0] -= 1\n",
    "                if current_position[1] != 0:\n",
    "                     current_position[1] -= 1\n",
    "\n",
    "                else:\n",
    "                     current_position[1] += 1  \n",
    "\n",
    "    while end_position[1] != current_position[1]:\n",
    "        if end_position[1] < current_position[1]:\n",
    "            current_position[1] += 1\n",
    "            steps += 1\n",
    "        if end_position[1] > current_position[1]:\n",
    "            current_position[1] -= 1\n",
    "            steps += 1\n",
    "    \n",
    "    print(steps)\n",
    "         \n",
    "    "
   ]
  },
  {
   "cell_type": "code",
   "execution_count": 6,
   "metadata": {},
   "outputs": [
    {
     "output_type": "error",
     "ename": "KeyboardInterrupt",
     "evalue": "",
     "traceback": [
      "\u001b[1;31m---------------------------------------------------------------------------\u001b[0m",
      "\u001b[1;31mKeyboardInterrupt\u001b[0m                         Traceback (most recent call last)",
      "\u001b[1;32m<ipython-input-6-3e935bbaa83e>\u001b[0m in \u001b[0;36m<module>\u001b[1;34m\u001b[0m\n\u001b[1;32m----> 1\u001b[1;33m \u001b[0mrun_game\u001b[0m\u001b[1;33m(\u001b[0m\u001b[0mmatrix\u001b[0m\u001b[1;33m=\u001b[0m\u001b[0mmatrix\u001b[0m\u001b[1;33m,\u001b[0m \u001b[0mstart\u001b[0m\u001b[1;33m=\u001b[0m\u001b[0mstart\u001b[0m\u001b[1;33m,\u001b[0m \u001b[0mend\u001b[0m\u001b[1;33m=\u001b[0m\u001b[0mend\u001b[0m\u001b[1;33m)\u001b[0m\u001b[1;33m\u001b[0m\u001b[1;33m\u001b[0m\u001b[0m\n\u001b[0m",
      "\u001b[1;32m<ipython-input-5-75fe553e9e60>\u001b[0m in \u001b[0;36mrun_game\u001b[1;34m(matrix, start, end)\u001b[0m\n\u001b[0;32m     38\u001b[0m         \u001b[1;32mif\u001b[0m \u001b[0mend_position\u001b[0m\u001b[1;33m[\u001b[0m\u001b[1;36m1\u001b[0m\u001b[1;33m]\u001b[0m \u001b[1;33m>\u001b[0m \u001b[0mcurrent_position\u001b[0m\u001b[1;33m[\u001b[0m\u001b[1;36m1\u001b[0m\u001b[1;33m]\u001b[0m\u001b[1;33m:\u001b[0m\u001b[1;33m\u001b[0m\u001b[1;33m\u001b[0m\u001b[0m\n\u001b[0;32m     39\u001b[0m             \u001b[0mcurrent_position\u001b[0m\u001b[1;33m[\u001b[0m\u001b[1;36m1\u001b[0m\u001b[1;33m]\u001b[0m \u001b[1;33m-=\u001b[0m \u001b[1;36m1\u001b[0m\u001b[1;33m\u001b[0m\u001b[1;33m\u001b[0m\u001b[0m\n\u001b[1;32m---> 40\u001b[1;33m             \u001b[0msteps\u001b[0m \u001b[1;33m+=\u001b[0m \u001b[1;36m1\u001b[0m\u001b[1;33m\u001b[0m\u001b[1;33m\u001b[0m\u001b[0m\n\u001b[0m\u001b[0;32m     41\u001b[0m \u001b[1;33m\u001b[0m\u001b[0m\n\u001b[0;32m     42\u001b[0m     \u001b[0mprint\u001b[0m\u001b[1;33m(\u001b[0m\u001b[0msteps\u001b[0m\u001b[1;33m)\u001b[0m\u001b[1;33m\u001b[0m\u001b[1;33m\u001b[0m\u001b[0m\n",
      "\u001b[1;31mKeyboardInterrupt\u001b[0m: "
     ]
    }
   ],
   "source": [
    "run_game(matrix=matrix, start=start, end=end)"
   ]
  },
  {
   "cell_type": "code",
   "execution_count": 10,
   "metadata": {},
   "outputs": [
    {
     "output_type": "error",
     "ename": "SyntaxError",
     "evalue": "unexpected EOF while parsing (<ipython-input-10-2a74ce8dfdbe>, line 3)",
     "traceback": [
      "\u001b[1;36m  File \u001b[1;32m\"<ipython-input-10-2a74ce8dfdbe>\"\u001b[1;36m, line \u001b[1;32m3\u001b[0m\n\u001b[1;33m    #if matrix[]\u001b[0m\n\u001b[1;37m                ^\u001b[0m\n\u001b[1;31mSyntaxError\u001b[0m\u001b[1;31m:\u001b[0m unexpected EOF while parsing\n"
     ]
    }
   ],
   "source": [
    "def move_up(matrix, current_position):\n",
    "    # (3, 0)\n",
    "    #if matrix[]\n"
   ]
  },
  {
   "cell_type": "code",
   "execution_count": 1,
   "metadata": {},
   "outputs": [],
   "source": [
    "def run_game(matrix, start, end):\n",
    "    moves = [start]\n",
    "    x,y = start\n",
    "    while True:\n",
    "        if (x,y) == end:\n",
    "            return len(moves)-1\n",
    "        \n",
    "        can_go_top = x-1 >= 0 and not matrix[x-1][y] and (x-1,y) not in moves\n",
    "        can_go_left = y-1 >= 0 and not matrix[x][y-1] and (x,y-1) not in moves\n",
    "        can_go_bottom = x+1 < len(matrix) and not matrix[x+1][y] and (x+1,y) not in moves\n",
    "        can_go_right = y+1 < len(matrix[x]) and not matrix[x][y+1] and (x, y+1) not in moves\n",
    "\n",
    "        if x >= end[0]:\n",
    "            if y >= end[1]:\n",
    "                if can_go_top and (x > end[0] or not can_go_bottom) :  # TOP\n",
    "                    x = x-1\n",
    "                    moves.append((x,y))\n",
    "                elif can_go_left and (y > end[1] or not can_go_right) :  # LEFT\n",
    "                    y = y-1\n",
    "                    moves.append((x,y))\n",
    "                elif can_go_right and (y < end[1] or not can_go_left):  # RIGHT\n",
    "                    y = y+1\n",
    "                    moves.append((x,y))\n",
    "                elif can_go_bottom and (x < end[0] or not can_go_top):  # BOTTOM\n",
    "                    x = x+1\n",
    "                    moves.append((x,y))\n",
    "            else:\n",
    "                if can_go_top and (x > end[0] or not can_go_bottom) :  # TOP\n",
    "                    x = x-1\n",
    "                    moves.append((x,y))\n",
    "                elif can_go_right and (y < end[1] or not can_go_left):  # RIGHT\n",
    "                    y = y+1\n",
    "                    moves.append((x,y))\n",
    "                elif can_go_left and (y > end[1] or not can_go_right) :  # LEFT\n",
    "                    y = y-1\n",
    "                    moves.append((x,y))\n",
    "                elif can_go_bottom and (x < end[0] or not can_go_top):  # BOTTOM\n",
    "                    x = x+1\n",
    "                    moves.append((x,y))\n",
    "        else:\n",
    "            if y >= end[1]:\n",
    "                if can_go_bottom and (x < end[0] or not can_go_top):  # BOTTOM\n",
    "                    x = x+1\n",
    "                    moves.append((x,y))\n",
    "                elif can_go_left and (y > end[1] or not can_go_right) :  # LEFT\n",
    "                    y = y-1\n",
    "                    moves.append((x,y))\n",
    "                elif can_go_right and (y < end[1] or not can_go_left):  # RIGHT\n",
    "                    y = y+1\n",
    "                    moves.append((x,y))\n",
    "                elif can_go_top and (x > end[0] or not can_go_bottom) :  # TOP\n",
    "                    x = x-1\n",
    "                    moves.append((x,y))\n",
    "            else:\n",
    "                if can_go_bottom and (x < end[0] or not can_go_top):  # BOTTOM\n",
    "                    x = x+1\n",
    "                    moves.append((x,y))\n",
    "                elif can_go_right and (y < end[1] or not can_go_left):  # RIGHT\n",
    "                    y = y+1\n",
    "                    moves.append((x,y))\n",
    "                elif can_go_left and (y > end[1] or not can_go_right) :  # LEFT\n",
    "                    y = y-1\n",
    "                    moves.append((x,y))\n",
    "                elif can_go_top and (x > end[0] or not can_go_bottom) :  # TOP\n",
    "                    x = x-1\n",
    "                    moves.append((x,y))"
   ]
  },
  {
   "cell_type": "code",
   "execution_count": 6,
   "metadata": {},
   "outputs": [],
   "source": [
    "matrix = [\n",
    "        [False, False,  False,  False],\n",
    "        [True,  True,   False,  True],\n",
    "        [False, False,  False,  False],\n",
    "        [False, False,  False,  False]\n",
    "    ]\n",
    "start = (3, 0)\n",
    "end = (0, 0)"
   ]
  },
  {
   "cell_type": "code",
   "execution_count": 13,
   "metadata": {
    "tags": []
   },
   "outputs": [],
   "source": [
    "moves = [start]\n",
    "x,y = start"
   ]
  },
  {
   "cell_type": "code",
   "execution_count": 15,
   "metadata": {},
   "outputs": [
    {
     "output_type": "execute_result",
     "data": {
      "text/plain": "0"
     },
     "metadata": {},
     "execution_count": 15
    }
   ],
   "source": []
  },
  {
   "cell_type": "code",
   "execution_count": 4,
   "metadata": {},
   "outputs": [
    {
     "output_type": "execute_result",
     "data": {
      "text/plain": "7"
     },
     "metadata": {},
     "execution_count": 4
    }
   ],
   "source": [
    "run_game(matrix=matrix, start=start, end=end)"
   ]
  },
  {
   "cell_type": "code",
   "execution_count": 2,
   "metadata": {},
   "outputs": [],
   "source": [
    "matrix = [\n",
    "        [False, False,  False,  False],\n",
    "        [True,  True,   False,  True],\n",
    "        [False, False,  False,  False],\n",
    "        [False, False,  False,  False]\n",
    "    ]\n",
    "start = (3, 0)\n",
    "end = (0, 0)\n",
    "\n",
    "    response = 7\n",
    "    assert problem23(matrix, start, end) == response"
   ]
  },
  {
   "cell_type": "code",
   "execution_count": null,
   "metadata": {},
   "outputs": [],
   "source": []
  }
 ]
}