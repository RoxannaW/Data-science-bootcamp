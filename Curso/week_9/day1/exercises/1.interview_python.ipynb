{
 "metadata": {
  "language_info": {
   "codemirror_mode": {
    "name": "ipython",
    "version": 3
   },
   "file_extension": ".py",
   "mimetype": "text/x-python",
   "name": "python",
   "nbconvert_exporter": "python",
   "pygments_lexer": "ipython3",
   "version": "3.8.3-final"
  },
  "orig_nbformat": 2,
  "kernelspec": {
   "name": "python_defaultSpec_1599478757257",
   "display_name": "Python 3.8.3 32-bit"
  }
 },
 "nbformat": 4,
 "nbformat_minor": 2,
 "cells": [
  {
   "cell_type": "markdown",
   "metadata": {},
   "source": [
    "Here's your coding interview problem for today.\n",
    "\n",
    "This problem was asked by Facebook.\n",
    "\n",
    "Given a string of round, curly, and square open and closing brackets, return whether the brackets are balanced (well-formed).\n",
    "\n",
    "For example, given the string \"([])[]({})\", you should return true.\n",
    "\n",
    "Given the string \"([)]\" or \"((()\", you should return false."
   ]
  },
  {
   "cell_type": "code",
   "execution_count": 11,
   "metadata": {},
   "outputs": [],
   "source": [
    "def true_false_bracket_v1(string):\n",
    "    count = 0\n",
    "    brackets = [\"(\", \")\", \"[\", \"]\", \"{\", \"}\"]\n",
    "    start_brackets = [\"(\", \"[\", \"{\"]\n",
    "    end_brackets = [\")\", \"]\", \"}\"]\n",
    "    for i in string:\n",
    "        if i in start_brackets:\n",
    "            count += 1\n",
    "        elif i in end_brackets:\n",
    "            count -= 1\n",
    "        elif i not in brackets:\n",
    "            count -= 1\n",
    "        \n",
    "\n",
    "    if count != 0:\n",
    "        balanced = False\n",
    "    else:\n",
    "        balanced = True\n",
    "    \n",
    "    return balanced"
   ]
  },
  {
   "cell_type": "code",
   "execution_count": 17,
   "metadata": {},
   "outputs": [
    {
     "output_type": "execute_result",
     "data": {
      "text/plain": "True"
     },
     "metadata": {},
     "execution_count": 17
    }
   ],
   "source": [
    "true_false_bracket_v1(string=\"{[()]}\")"
   ]
  },
  {
   "cell_type": "code",
   "execution_count": 18,
   "metadata": {},
   "outputs": [
    {
     "output_type": "execute_result",
     "data": {
      "text/plain": "False"
     },
     "metadata": {},
     "execution_count": 18
    }
   ],
   "source": [
    "true_false_bracket_v1(string=\"{[()\")"
   ]
  },
  {
   "cell_type": "code",
   "execution_count": null,
   "metadata": {},
   "outputs": [],
   "source": [
    "# version 1\n",
    "def true_false_bracket(string):\n",
    "    count = 0\n",
    "    brackets = [\"(\", \")\", \"[\", \"]\", \"{\", \"}\"]\n",
    "    for i in string:\n",
    "        if i == \"(\":\n",
    "            count += 1\n",
    "        elif i == \")\":\n",
    "            count -= 1\n",
    "        if i == \"[\":\n",
    "            count += 1\n",
    "        elif i == \"]\":\n",
    "            count -= 1\n",
    "        if i == \"{\":\n",
    "            count += 1\n",
    "        elif i == \"}\":\n",
    "            count -= 1\n",
    "        elif i not in brackets:\n",
    "            count -= 1\n",
    "        \n",
    "\n",
    "    if count != 0:\n",
    "        balanced = False\n",
    "    else:\n",
    "        balanced = True\n",
    "    \n",
    "    return balanced"
   ]
  }
 ]
}