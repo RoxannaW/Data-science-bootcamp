{
 "metadata": {
  "language_info": {
   "codemirror_mode": {
    "name": "ipython",
    "version": 3
   },
   "file_extension": ".py",
   "mimetype": "text/x-python",
   "name": "python",
   "nbconvert_exporter": "python",
   "pygments_lexer": "ipython3",
   "version": "3.8.3-final"
  },
  "orig_nbformat": 2,
  "kernelspec": {
   "name": "python_defaultSpec_1599575004280",
   "display_name": "Python 3.8.3 32-bit"
  }
 },
 "nbformat": 4,
 "nbformat_minor": 2,
 "cells": [
  {
   "cell_type": "markdown",
   "metadata": {},
   "source": [
    "En el apartado \"Loading Data\" de esta URL:\n",
    "\n",
    "https://www.datacamp.com/community/tutorials/svm-classification-scikit-learn-python\n",
    "\n",
    "Se explica cómo se cargan una serie de datos: \n",
    "\n",
    "1. Utiliza esa misma forma para cargar los datos.\n",
    "2. Limpia los datos si es necesario\n",
    "3. Dibuja con plotly los que creas necesarios gráficos para entender los datos.\n",
    "4. Utiliza los métodos de clasificación vistos hasta ahora para clasificar el target de los datos, ¿cuál da mejores resultados? \n",
    "5. Intenta superarte en el score cambiando las features de los algoritmos."
   ]
  },
  {
   "cell_type": "code",
   "execution_count": 3,
   "metadata": {},
   "outputs": [],
   "source": [
    "#1. Utiliza esa misma forma para cargar los datos.\n",
    "import numpy as np \n",
    "import pandas as pd \n",
    "import matplotlib.pyplot as plt\n",
    "import seaborn as sns \n",
    "\n",
    "from sklearn import datasets\n",
    "cancer = datasets.load_breast_cancer() "
   ]
  },
  {
   "cell_type": "code",
   "execution_count": 4,
   "metadata": {},
   "outputs": [
    {
     "output_type": "execute_result",
     "data": {
      "text/plain": "(30,)"
     },
     "metadata": {},
     "execution_count": 4
    }
   ],
   "source": [
    "cancer.feature_names.shape"
   ]
  },
  {
   "cell_type": "code",
   "execution_count": 5,
   "metadata": {},
   "outputs": [
    {
     "output_type": "execute_result",
     "data": {
      "text/plain": "(569,)"
     },
     "metadata": {},
     "execution_count": 5
    }
   ],
   "source": [
    "cancer[\"target\"].shape"
   ]
  },
  {
   "cell_type": "code",
   "execution_count": 6,
   "metadata": {},
   "outputs": [
    {
     "output_type": "execute_result",
     "data": {
      "text/plain": "(569, 30)"
     },
     "metadata": {},
     "execution_count": 6
    }
   ],
   "source": [
    "cancer.data.shape\n"
   ]
  },
  {
   "cell_type": "code",
   "execution_count": 7,
   "metadata": {},
   "outputs": [
    {
     "output_type": "execute_result",
     "data": {
      "text/plain": "array([[1.799e+01, 1.038e+01, 1.228e+02, 1.001e+03, 1.184e-01, 2.776e-01,\n        3.001e-01, 1.471e-01, 2.419e-01, 7.871e-02, 1.095e+00, 9.053e-01,\n        8.589e+00, 1.534e+02, 6.399e-03, 4.904e-02, 5.373e-02, 1.587e-02,\n        3.003e-02, 6.193e-03, 2.538e+01, 1.733e+01, 1.846e+02, 2.019e+03,\n        1.622e-01, 6.656e-01, 7.119e-01, 2.654e-01, 4.601e-01, 1.189e-01],\n       [2.057e+01, 1.777e+01, 1.329e+02, 1.326e+03, 8.474e-02, 7.864e-02,\n        8.690e-02, 7.017e-02, 1.812e-01, 5.667e-02, 5.435e-01, 7.339e-01,\n        3.398e+00, 7.408e+01, 5.225e-03, 1.308e-02, 1.860e-02, 1.340e-02,\n        1.389e-02, 3.532e-03, 2.499e+01, 2.341e+01, 1.588e+02, 1.956e+03,\n        1.238e-01, 1.866e-01, 2.416e-01, 1.860e-01, 2.750e-01, 8.902e-02],\n       [1.969e+01, 2.125e+01, 1.300e+02, 1.203e+03, 1.096e-01, 1.599e-01,\n        1.974e-01, 1.279e-01, 2.069e-01, 5.999e-02, 7.456e-01, 7.869e-01,\n        4.585e+00, 9.403e+01, 6.150e-03, 4.006e-02, 3.832e-02, 2.058e-02,\n        2.250e-02, 4.571e-03, 2.357e+01, 2.553e+01, 1.525e+02, 1.709e+03,\n        1.444e-01, 4.245e-01, 4.504e-01, 2.430e-01, 3.613e-01, 8.758e-02],\n       [1.142e+01, 2.038e+01, 7.758e+01, 3.861e+02, 1.425e-01, 2.839e-01,\n        2.414e-01, 1.052e-01, 2.597e-01, 9.744e-02, 4.956e-01, 1.156e+00,\n        3.445e+00, 2.723e+01, 9.110e-03, 7.458e-02, 5.661e-02, 1.867e-02,\n        5.963e-02, 9.208e-03, 1.491e+01, 2.650e+01, 9.887e+01, 5.677e+02,\n        2.098e-01, 8.663e-01, 6.869e-01, 2.575e-01, 6.638e-01, 1.730e-01],\n       [2.029e+01, 1.434e+01, 1.351e+02, 1.297e+03, 1.003e-01, 1.328e-01,\n        1.980e-01, 1.043e-01, 1.809e-01, 5.883e-02, 7.572e-01, 7.813e-01,\n        5.438e+00, 9.444e+01, 1.149e-02, 2.461e-02, 5.688e-02, 1.885e-02,\n        1.756e-02, 5.115e-03, 2.254e+01, 1.667e+01, 1.522e+02, 1.575e+03,\n        1.374e-01, 2.050e-01, 4.000e-01, 1.625e-01, 2.364e-01, 7.678e-02]])"
     },
     "metadata": {},
     "execution_count": 7
    }
   ],
   "source": [
    "cancer.data[0:5]"
   ]
  },
  {
   "cell_type": "code",
   "execution_count": 8,
   "metadata": {},
   "outputs": [],
   "source": [
    "#2. Limpia los datos si es necesario\n",
    "#Seems like there is no need to clean data"
   ]
  },
  {
   "cell_type": "code",
   "execution_count": 9,
   "metadata": {},
   "outputs": [],
   "source": [
    "#Dibuja con plotly los que creas necesarios gráficos para entender los datos"
   ]
  },
  {
   "cell_type": "code",
   "execution_count": 10,
   "metadata": {},
   "outputs": [
    {
     "output_type": "execute_result",
     "data": {
      "text/plain": "     mean radius  mean texture  mean perimeter  mean area  mean smoothness  \\\n0          17.99         10.38          122.80     1001.0          0.11840   \n1          20.57         17.77          132.90     1326.0          0.08474   \n2          19.69         21.25          130.00     1203.0          0.10960   \n3          11.42         20.38           77.58      386.1          0.14250   \n4          20.29         14.34          135.10     1297.0          0.10030   \n..           ...           ...             ...        ...              ...   \n564        21.56         22.39          142.00     1479.0          0.11100   \n565        20.13         28.25          131.20     1261.0          0.09780   \n566        16.60         28.08          108.30      858.1          0.08455   \n567        20.60         29.33          140.10     1265.0          0.11780   \n568         7.76         24.54           47.92      181.0          0.05263   \n\n     mean compactness  mean concavity  mean concave points  mean symmetry  \\\n0             0.27760         0.30010              0.14710         0.2419   \n1             0.07864         0.08690              0.07017         0.1812   \n2             0.15990         0.19740              0.12790         0.2069   \n3             0.28390         0.24140              0.10520         0.2597   \n4             0.13280         0.19800              0.10430         0.1809   \n..                ...             ...                  ...            ...   \n564           0.11590         0.24390              0.13890         0.1726   \n565           0.10340         0.14400              0.09791         0.1752   \n566           0.10230         0.09251              0.05302         0.1590   \n567           0.27700         0.35140              0.15200         0.2397   \n568           0.04362         0.00000              0.00000         0.1587   \n\n     mean fractal dimension  ...  worst texture  worst perimeter  worst area  \\\n0                   0.07871  ...          17.33           184.60      2019.0   \n1                   0.05667  ...          23.41           158.80      1956.0   \n2                   0.05999  ...          25.53           152.50      1709.0   \n3                   0.09744  ...          26.50            98.87       567.7   \n4                   0.05883  ...          16.67           152.20      1575.0   \n..                      ...  ...            ...              ...         ...   \n564                 0.05623  ...          26.40           166.10      2027.0   \n565                 0.05533  ...          38.25           155.00      1731.0   \n566                 0.05648  ...          34.12           126.70      1124.0   \n567                 0.07016  ...          39.42           184.60      1821.0   \n568                 0.05884  ...          30.37            59.16       268.6   \n\n     worst smoothness  worst compactness  worst concavity  \\\n0             0.16220            0.66560           0.7119   \n1             0.12380            0.18660           0.2416   \n2             0.14440            0.42450           0.4504   \n3             0.20980            0.86630           0.6869   \n4             0.13740            0.20500           0.4000   \n..                ...                ...              ...   \n564           0.14100            0.21130           0.4107   \n565           0.11660            0.19220           0.3215   \n566           0.11390            0.30940           0.3403   \n567           0.16500            0.86810           0.9387   \n568           0.08996            0.06444           0.0000   \n\n     worst concave points  worst symmetry  worst fractal dimension  target  \n0                  0.2654          0.4601                  0.11890     0.0  \n1                  0.1860          0.2750                  0.08902     0.0  \n2                  0.2430          0.3613                  0.08758     0.0  \n3                  0.2575          0.6638                  0.17300     0.0  \n4                  0.1625          0.2364                  0.07678     0.0  \n..                    ...             ...                      ...     ...  \n564                0.2216          0.2060                  0.07115     0.0  \n565                0.1628          0.2572                  0.06637     0.0  \n566                0.1418          0.2218                  0.07820     0.0  \n567                0.2650          0.4087                  0.12400     0.0  \n568                0.0000          0.2871                  0.07039     1.0  \n\n[569 rows x 31 columns]",
      "text/html": "<div>\n<style scoped>\n    .dataframe tbody tr th:only-of-type {\n        vertical-align: middle;\n    }\n\n    .dataframe tbody tr th {\n        vertical-align: top;\n    }\n\n    .dataframe thead th {\n        text-align: right;\n    }\n</style>\n<table border=\"1\" class=\"dataframe\">\n  <thead>\n    <tr style=\"text-align: right;\">\n      <th></th>\n      <th>mean radius</th>\n      <th>mean texture</th>\n      <th>mean perimeter</th>\n      <th>mean area</th>\n      <th>mean smoothness</th>\n      <th>mean compactness</th>\n      <th>mean concavity</th>\n      <th>mean concave points</th>\n      <th>mean symmetry</th>\n      <th>mean fractal dimension</th>\n      <th>...</th>\n      <th>worst texture</th>\n      <th>worst perimeter</th>\n      <th>worst area</th>\n      <th>worst smoothness</th>\n      <th>worst compactness</th>\n      <th>worst concavity</th>\n      <th>worst concave points</th>\n      <th>worst symmetry</th>\n      <th>worst fractal dimension</th>\n      <th>target</th>\n    </tr>\n  </thead>\n  <tbody>\n    <tr>\n      <th>0</th>\n      <td>17.99</td>\n      <td>10.38</td>\n      <td>122.80</td>\n      <td>1001.0</td>\n      <td>0.11840</td>\n      <td>0.27760</td>\n      <td>0.30010</td>\n      <td>0.14710</td>\n      <td>0.2419</td>\n      <td>0.07871</td>\n      <td>...</td>\n      <td>17.33</td>\n      <td>184.60</td>\n      <td>2019.0</td>\n      <td>0.16220</td>\n      <td>0.66560</td>\n      <td>0.7119</td>\n      <td>0.2654</td>\n      <td>0.4601</td>\n      <td>0.11890</td>\n      <td>0.0</td>\n    </tr>\n    <tr>\n      <th>1</th>\n      <td>20.57</td>\n      <td>17.77</td>\n      <td>132.90</td>\n      <td>1326.0</td>\n      <td>0.08474</td>\n      <td>0.07864</td>\n      <td>0.08690</td>\n      <td>0.07017</td>\n      <td>0.1812</td>\n      <td>0.05667</td>\n      <td>...</td>\n      <td>23.41</td>\n      <td>158.80</td>\n      <td>1956.0</td>\n      <td>0.12380</td>\n      <td>0.18660</td>\n      <td>0.2416</td>\n      <td>0.1860</td>\n      <td>0.2750</td>\n      <td>0.08902</td>\n      <td>0.0</td>\n    </tr>\n    <tr>\n      <th>2</th>\n      <td>19.69</td>\n      <td>21.25</td>\n      <td>130.00</td>\n      <td>1203.0</td>\n      <td>0.10960</td>\n      <td>0.15990</td>\n      <td>0.19740</td>\n      <td>0.12790</td>\n      <td>0.2069</td>\n      <td>0.05999</td>\n      <td>...</td>\n      <td>25.53</td>\n      <td>152.50</td>\n      <td>1709.0</td>\n      <td>0.14440</td>\n      <td>0.42450</td>\n      <td>0.4504</td>\n      <td>0.2430</td>\n      <td>0.3613</td>\n      <td>0.08758</td>\n      <td>0.0</td>\n    </tr>\n    <tr>\n      <th>3</th>\n      <td>11.42</td>\n      <td>20.38</td>\n      <td>77.58</td>\n      <td>386.1</td>\n      <td>0.14250</td>\n      <td>0.28390</td>\n      <td>0.24140</td>\n      <td>0.10520</td>\n      <td>0.2597</td>\n      <td>0.09744</td>\n      <td>...</td>\n      <td>26.50</td>\n      <td>98.87</td>\n      <td>567.7</td>\n      <td>0.20980</td>\n      <td>0.86630</td>\n      <td>0.6869</td>\n      <td>0.2575</td>\n      <td>0.6638</td>\n      <td>0.17300</td>\n      <td>0.0</td>\n    </tr>\n    <tr>\n      <th>4</th>\n      <td>20.29</td>\n      <td>14.34</td>\n      <td>135.10</td>\n      <td>1297.0</td>\n      <td>0.10030</td>\n      <td>0.13280</td>\n      <td>0.19800</td>\n      <td>0.10430</td>\n      <td>0.1809</td>\n      <td>0.05883</td>\n      <td>...</td>\n      <td>16.67</td>\n      <td>152.20</td>\n      <td>1575.0</td>\n      <td>0.13740</td>\n      <td>0.20500</td>\n      <td>0.4000</td>\n      <td>0.1625</td>\n      <td>0.2364</td>\n      <td>0.07678</td>\n      <td>0.0</td>\n    </tr>\n    <tr>\n      <th>...</th>\n      <td>...</td>\n      <td>...</td>\n      <td>...</td>\n      <td>...</td>\n      <td>...</td>\n      <td>...</td>\n      <td>...</td>\n      <td>...</td>\n      <td>...</td>\n      <td>...</td>\n      <td>...</td>\n      <td>...</td>\n      <td>...</td>\n      <td>...</td>\n      <td>...</td>\n      <td>...</td>\n      <td>...</td>\n      <td>...</td>\n      <td>...</td>\n      <td>...</td>\n      <td>...</td>\n    </tr>\n    <tr>\n      <th>564</th>\n      <td>21.56</td>\n      <td>22.39</td>\n      <td>142.00</td>\n      <td>1479.0</td>\n      <td>0.11100</td>\n      <td>0.11590</td>\n      <td>0.24390</td>\n      <td>0.13890</td>\n      <td>0.1726</td>\n      <td>0.05623</td>\n      <td>...</td>\n      <td>26.40</td>\n      <td>166.10</td>\n      <td>2027.0</td>\n      <td>0.14100</td>\n      <td>0.21130</td>\n      <td>0.4107</td>\n      <td>0.2216</td>\n      <td>0.2060</td>\n      <td>0.07115</td>\n      <td>0.0</td>\n    </tr>\n    <tr>\n      <th>565</th>\n      <td>20.13</td>\n      <td>28.25</td>\n      <td>131.20</td>\n      <td>1261.0</td>\n      <td>0.09780</td>\n      <td>0.10340</td>\n      <td>0.14400</td>\n      <td>0.09791</td>\n      <td>0.1752</td>\n      <td>0.05533</td>\n      <td>...</td>\n      <td>38.25</td>\n      <td>155.00</td>\n      <td>1731.0</td>\n      <td>0.11660</td>\n      <td>0.19220</td>\n      <td>0.3215</td>\n      <td>0.1628</td>\n      <td>0.2572</td>\n      <td>0.06637</td>\n      <td>0.0</td>\n    </tr>\n    <tr>\n      <th>566</th>\n      <td>16.60</td>\n      <td>28.08</td>\n      <td>108.30</td>\n      <td>858.1</td>\n      <td>0.08455</td>\n      <td>0.10230</td>\n      <td>0.09251</td>\n      <td>0.05302</td>\n      <td>0.1590</td>\n      <td>0.05648</td>\n      <td>...</td>\n      <td>34.12</td>\n      <td>126.70</td>\n      <td>1124.0</td>\n      <td>0.11390</td>\n      <td>0.30940</td>\n      <td>0.3403</td>\n      <td>0.1418</td>\n      <td>0.2218</td>\n      <td>0.07820</td>\n      <td>0.0</td>\n    </tr>\n    <tr>\n      <th>567</th>\n      <td>20.60</td>\n      <td>29.33</td>\n      <td>140.10</td>\n      <td>1265.0</td>\n      <td>0.11780</td>\n      <td>0.27700</td>\n      <td>0.35140</td>\n      <td>0.15200</td>\n      <td>0.2397</td>\n      <td>0.07016</td>\n      <td>...</td>\n      <td>39.42</td>\n      <td>184.60</td>\n      <td>1821.0</td>\n      <td>0.16500</td>\n      <td>0.86810</td>\n      <td>0.9387</td>\n      <td>0.2650</td>\n      <td>0.4087</td>\n      <td>0.12400</td>\n      <td>0.0</td>\n    </tr>\n    <tr>\n      <th>568</th>\n      <td>7.76</td>\n      <td>24.54</td>\n      <td>47.92</td>\n      <td>181.0</td>\n      <td>0.05263</td>\n      <td>0.04362</td>\n      <td>0.00000</td>\n      <td>0.00000</td>\n      <td>0.1587</td>\n      <td>0.05884</td>\n      <td>...</td>\n      <td>30.37</td>\n      <td>59.16</td>\n      <td>268.6</td>\n      <td>0.08996</td>\n      <td>0.06444</td>\n      <td>0.0000</td>\n      <td>0.0000</td>\n      <td>0.2871</td>\n      <td>0.07039</td>\n      <td>1.0</td>\n    </tr>\n  </tbody>\n</table>\n<p>569 rows × 31 columns</p>\n</div>"
     },
     "metadata": {},
     "execution_count": 10
    }
   ],
   "source": [
    "df = pd.DataFrame(data= np.c_[cancer['data'], cancer['target']],\n",
    "                     columns= list(cancer['feature_names']) + ['target'] )\n",
    "\n",
    "df"
   ]
  },
  {
   "cell_type": "code",
   "execution_count": 11,
   "metadata": {},
   "outputs": [
    {
     "output_type": "execute_result",
     "data": {
      "text/plain": "                         mean radius  mean texture  mean perimeter  mean area  \\\nmean radius                 1.000000      0.323782        0.997855   0.987357   \nmean texture                0.323782      1.000000        0.329533   0.321086   \nmean perimeter              0.997855      0.329533        1.000000   0.986507   \nmean area                   0.987357      0.321086        0.986507   1.000000   \nmean smoothness             0.170581     -0.023389        0.207278   0.177028   \nmean compactness            0.506124      0.236702        0.556936   0.498502   \nmean concavity              0.676764      0.302418        0.716136   0.685983   \nmean concave points         0.822529      0.293464        0.850977   0.823269   \nmean symmetry               0.147741      0.071401        0.183027   0.151293   \nmean fractal dimension     -0.311631     -0.076437       -0.261477  -0.283110   \nradius error                0.679090      0.275869        0.691765   0.732562   \ntexture error              -0.097317      0.386358       -0.086761  -0.066280   \nperimeter error             0.674172      0.281673        0.693135   0.726628   \narea error                  0.735864      0.259845        0.744983   0.800086   \nsmoothness error           -0.222600      0.006614       -0.202694  -0.166777   \ncompactness error           0.206000      0.191975        0.250744   0.212583   \nconcavity error             0.194204      0.143293        0.228082   0.207660   \nconcave points error        0.376169      0.163851        0.407217   0.372320   \nsymmetry error             -0.104321      0.009127       -0.081629  -0.072497   \nfractal dimension error    -0.042641      0.054458       -0.005523  -0.019887   \nworst radius                0.969539      0.352573        0.969476   0.962746   \nworst texture               0.297008      0.912045        0.303038   0.287489   \nworst perimeter             0.965137      0.358040        0.970387   0.959120   \nworst area                  0.941082      0.343546        0.941550   0.959213   \nworst smoothness            0.119616      0.077503        0.150549   0.123523   \nworst compactness           0.413463      0.277830        0.455774   0.390410   \nworst concavity             0.526911      0.301025        0.563879   0.512606   \nworst concave points        0.744214      0.295316        0.771241   0.722017   \nworst symmetry              0.163953      0.105008        0.189115   0.143570   \nworst fractal dimension     0.007066      0.119205        0.051019   0.003738   \ntarget                     -0.730029     -0.415185       -0.742636  -0.708984   \n\n                         mean smoothness  mean compactness  mean concavity  \\\nmean radius                     0.170581          0.506124        0.676764   \nmean texture                   -0.023389          0.236702        0.302418   \nmean perimeter                  0.207278          0.556936        0.716136   \nmean area                       0.177028          0.498502        0.685983   \nmean smoothness                 1.000000          0.659123        0.521984   \nmean compactness                0.659123          1.000000        0.883121   \nmean concavity                  0.521984          0.883121        1.000000   \nmean concave points             0.553695          0.831135        0.921391   \nmean symmetry                   0.557775          0.602641        0.500667   \nmean fractal dimension          0.584792          0.565369        0.336783   \nradius error                    0.301467          0.497473        0.631925   \ntexture error                   0.068406          0.046205        0.076218   \nperimeter error                 0.296092          0.548905        0.660391   \narea error                      0.246552          0.455653        0.617427   \nsmoothness error                0.332375          0.135299        0.098564   \ncompactness error               0.318943          0.738722        0.670279   \nconcavity error                 0.248396          0.570517        0.691270   \nconcave points error            0.380676          0.642262        0.683260   \nsymmetry error                  0.200774          0.229977        0.178009   \nfractal dimension error         0.283607          0.507318        0.449301   \nworst radius                    0.213120          0.535315        0.688236   \nworst texture                   0.036072          0.248133        0.299879   \nworst perimeter                 0.238853          0.590210        0.729565   \nworst area                      0.206718          0.509604        0.675987   \nworst smoothness                0.805324          0.565541        0.448822   \nworst compactness               0.472468          0.865809        0.754968   \nworst concavity                 0.434926          0.816275        0.884103   \nworst concave points            0.503053          0.815573        0.861323   \nworst symmetry                  0.394309          0.510223        0.409464   \nworst fractal dimension         0.499316          0.687382        0.514930   \ntarget                         -0.358560         -0.596534       -0.696360   \n\n                         mean concave points  mean symmetry  \\\nmean radius                         0.822529       0.147741   \nmean texture                        0.293464       0.071401   \nmean perimeter                      0.850977       0.183027   \nmean area                           0.823269       0.151293   \nmean smoothness                     0.553695       0.557775   \nmean compactness                    0.831135       0.602641   \nmean concavity                      0.921391       0.500667   \nmean concave points                 1.000000       0.462497   \nmean symmetry                       0.462497       1.000000   \nmean fractal dimension              0.166917       0.479921   \nradius error                        0.698050       0.303379   \ntexture error                       0.021480       0.128053   \nperimeter error                     0.710650       0.313893   \narea error                          0.690299       0.223970   \nsmoothness error                    0.027653       0.187321   \ncompactness error                   0.490424       0.421659   \nconcavity error                     0.439167       0.342627   \nconcave points error                0.615634       0.393298   \nsymmetry error                      0.095351       0.449137   \nfractal dimension error             0.257584       0.331786   \nworst radius                        0.830318       0.185728   \nworst texture                       0.292752       0.090651   \nworst perimeter                     0.855923       0.219169   \nworst area                          0.809630       0.177193   \nworst smoothness                    0.452753       0.426675   \nworst compactness                   0.667454       0.473200   \nworst concavity                     0.752399       0.433721   \nworst concave points                0.910155       0.430297   \nworst symmetry                      0.375744       0.699826   \nworst fractal dimension             0.368661       0.438413   \ntarget                             -0.776614      -0.330499   \n\n                         mean fractal dimension  ...  worst texture  \\\nmean radius                           -0.311631  ...       0.297008   \nmean texture                          -0.076437  ...       0.912045   \nmean perimeter                        -0.261477  ...       0.303038   \nmean area                             -0.283110  ...       0.287489   \nmean smoothness                        0.584792  ...       0.036072   \nmean compactness                       0.565369  ...       0.248133   \nmean concavity                         0.336783  ...       0.299879   \nmean concave points                    0.166917  ...       0.292752   \nmean symmetry                          0.479921  ...       0.090651   \nmean fractal dimension                 1.000000  ...      -0.051269   \nradius error                           0.000111  ...       0.194799   \ntexture error                          0.164174  ...       0.409003   \nperimeter error                        0.039830  ...       0.200371   \narea error                            -0.090170  ...       0.196497   \nsmoothness error                       0.401964  ...      -0.074743   \ncompactness error                      0.559837  ...       0.143003   \nconcavity error                        0.446630  ...       0.100241   \nconcave points error                   0.341198  ...       0.086741   \nsymmetry error                         0.345007  ...      -0.077473   \nfractal dimension error                0.688132  ...      -0.003195   \nworst radius                          -0.253691  ...       0.359921   \nworst texture                         -0.051269  ...       1.000000   \nworst perimeter                       -0.205151  ...       0.365098   \nworst area                            -0.231854  ...       0.345842   \nworst smoothness                       0.504942  ...       0.225429   \nworst compactness                      0.458798  ...       0.360832   \nworst concavity                        0.346234  ...       0.368366   \nworst concave points                   0.175325  ...       0.359755   \nworst symmetry                         0.334019  ...       0.233027   \nworst fractal dimension                0.767297  ...       0.219122   \ntarget                                 0.012838  ...      -0.456903   \n\n                         worst perimeter  worst area  worst smoothness  \\\nmean radius                     0.965137    0.941082          0.119616   \nmean texture                    0.358040    0.343546          0.077503   \nmean perimeter                  0.970387    0.941550          0.150549   \nmean area                       0.959120    0.959213          0.123523   \nmean smoothness                 0.238853    0.206718          0.805324   \nmean compactness                0.590210    0.509604          0.565541   \nmean concavity                  0.729565    0.675987          0.448822   \nmean concave points             0.855923    0.809630          0.452753   \nmean symmetry                   0.219169    0.177193          0.426675   \nmean fractal dimension         -0.205151   -0.231854          0.504942   \nradius error                    0.719684    0.751548          0.141919   \ntexture error                  -0.102242   -0.083195         -0.073658   \nperimeter error                 0.721031    0.730713          0.130054   \narea error                      0.761213    0.811408          0.125389   \nsmoothness error               -0.217304   -0.182195          0.314457   \ncompactness error               0.260516    0.199371          0.227394   \nconcavity error                 0.226680    0.188353          0.168481   \nconcave points error            0.394999    0.342271          0.215351   \nsymmetry error                 -0.103753   -0.110343         -0.012662   \nfractal dimension error        -0.001000   -0.022736          0.170568   \nworst radius                    0.993708    0.984015          0.216574   \nworst texture                   0.365098    0.345842          0.225429   \nworst perimeter                 1.000000    0.977578          0.236775   \nworst area                      0.977578    1.000000          0.209145   \nworst smoothness                0.236775    0.209145          1.000000   \nworst compactness               0.529408    0.438296          0.568187   \nworst concavity                 0.618344    0.543331          0.518523   \nworst concave points            0.816322    0.747419          0.547691   \nworst symmetry                  0.269493    0.209146          0.493838   \nworst fractal dimension         0.138957    0.079647          0.617624   \ntarget                         -0.782914   -0.733825         -0.421465   \n\n                         worst compactness  worst concavity  \\\nmean radius                       0.413463         0.526911   \nmean texture                      0.277830         0.301025   \nmean perimeter                    0.455774         0.563879   \nmean area                         0.390410         0.512606   \nmean smoothness                   0.472468         0.434926   \nmean compactness                  0.865809         0.816275   \nmean concavity                    0.754968         0.884103   \nmean concave points               0.667454         0.752399   \nmean symmetry                     0.473200         0.433721   \nmean fractal dimension            0.458798         0.346234   \nradius error                      0.287103         0.380585   \ntexture error                    -0.092439        -0.068956   \nperimeter error                   0.341919         0.418899   \narea error                        0.283257         0.385100   \nsmoothness error                 -0.055558        -0.058298   \ncompactness error                 0.678780         0.639147   \nconcavity error                   0.484858         0.662564   \nconcave points error              0.452888         0.549592   \nsymmetry error                    0.060255         0.037119   \nfractal dimension error           0.390159         0.379975   \nworst radius                      0.475820         0.573975   \nworst texture                     0.360832         0.368366   \nworst perimeter                   0.529408         0.618344   \nworst area                        0.438296         0.543331   \nworst smoothness                  0.568187         0.518523   \nworst compactness                 1.000000         0.892261   \nworst concavity                   0.892261         1.000000   \nworst concave points              0.801080         0.855434   \nworst symmetry                    0.614441         0.532520   \nworst fractal dimension           0.810455         0.686511   \ntarget                           -0.590998        -0.659610   \n\n                         worst concave points  worst symmetry  \\\nmean radius                          0.744214        0.163953   \nmean texture                         0.295316        0.105008   \nmean perimeter                       0.771241        0.189115   \nmean area                            0.722017        0.143570   \nmean smoothness                      0.503053        0.394309   \nmean compactness                     0.815573        0.510223   \nmean concavity                       0.861323        0.409464   \nmean concave points                  0.910155        0.375744   \nmean symmetry                        0.430297        0.699826   \nmean fractal dimension               0.175325        0.334019   \nradius error                         0.531062        0.094543   \ntexture error                       -0.119638       -0.128215   \nperimeter error                      0.554897        0.109930   \narea error                           0.538166        0.074126   \nsmoothness error                    -0.102007       -0.107342   \ncompactness error                    0.483208        0.277878   \nconcavity error                      0.440472        0.197788   \nconcave points error                 0.602450        0.143116   \nsymmetry error                      -0.030413        0.389402   \nfractal dimension error              0.215204        0.111094   \nworst radius                         0.787424        0.243529   \nworst texture                        0.359755        0.233027   \nworst perimeter                      0.816322        0.269493   \nworst area                           0.747419        0.209146   \nworst smoothness                     0.547691        0.493838   \nworst compactness                    0.801080        0.614441   \nworst concavity                      0.855434        0.532520   \nworst concave points                 1.000000        0.502528   \nworst symmetry                       0.502528        1.000000   \nworst fractal dimension              0.511114        0.537848   \ntarget                              -0.793566       -0.416294   \n\n                         worst fractal dimension    target  \nmean radius                             0.007066 -0.730029  \nmean texture                            0.119205 -0.415185  \nmean perimeter                          0.051019 -0.742636  \nmean area                               0.003738 -0.708984  \nmean smoothness                         0.499316 -0.358560  \nmean compactness                        0.687382 -0.596534  \nmean concavity                          0.514930 -0.696360  \nmean concave points                     0.368661 -0.776614  \nmean symmetry                           0.438413 -0.330499  \nmean fractal dimension                  0.767297  0.012838  \nradius error                            0.049559 -0.567134  \ntexture error                          -0.045655  0.008303  \nperimeter error                         0.085433 -0.556141  \narea error                              0.017539 -0.548236  \nsmoothness error                        0.101480  0.067016  \ncompactness error                       0.590973 -0.292999  \nconcavity error                         0.439329 -0.253730  \nconcave points error                    0.310655 -0.408042  \nsymmetry error                          0.078079  0.006522  \nfractal dimension error                 0.591328 -0.077972  \nworst radius                            0.093492 -0.776454  \nworst texture                           0.219122 -0.456903  \nworst perimeter                         0.138957 -0.782914  \nworst area                              0.079647 -0.733825  \nworst smoothness                        0.617624 -0.421465  \nworst compactness                       0.810455 -0.590998  \nworst concavity                         0.686511 -0.659610  \nworst concave points                    0.511114 -0.793566  \nworst symmetry                          0.537848 -0.416294  \nworst fractal dimension                 1.000000 -0.323872  \ntarget                                 -0.323872  1.000000  \n\n[31 rows x 31 columns]",
      "text/html": "<div>\n<style scoped>\n    .dataframe tbody tr th:only-of-type {\n        vertical-align: middle;\n    }\n\n    .dataframe tbody tr th {\n        vertical-align: top;\n    }\n\n    .dataframe thead th {\n        text-align: right;\n    }\n</style>\n<table border=\"1\" class=\"dataframe\">\n  <thead>\n    <tr style=\"text-align: right;\">\n      <th></th>\n      <th>mean radius</th>\n      <th>mean texture</th>\n      <th>mean perimeter</th>\n      <th>mean area</th>\n      <th>mean smoothness</th>\n      <th>mean compactness</th>\n      <th>mean concavity</th>\n      <th>mean concave points</th>\n      <th>mean symmetry</th>\n      <th>mean fractal dimension</th>\n      <th>...</th>\n      <th>worst texture</th>\n      <th>worst perimeter</th>\n      <th>worst area</th>\n      <th>worst smoothness</th>\n      <th>worst compactness</th>\n      <th>worst concavity</th>\n      <th>worst concave points</th>\n      <th>worst symmetry</th>\n      <th>worst fractal dimension</th>\n      <th>target</th>\n    </tr>\n  </thead>\n  <tbody>\n    <tr>\n      <th>mean radius</th>\n      <td>1.000000</td>\n      <td>0.323782</td>\n      <td>0.997855</td>\n      <td>0.987357</td>\n      <td>0.170581</td>\n      <td>0.506124</td>\n      <td>0.676764</td>\n      <td>0.822529</td>\n      <td>0.147741</td>\n      <td>-0.311631</td>\n      <td>...</td>\n      <td>0.297008</td>\n      <td>0.965137</td>\n      <td>0.941082</td>\n      <td>0.119616</td>\n      <td>0.413463</td>\n      <td>0.526911</td>\n      <td>0.744214</td>\n      <td>0.163953</td>\n      <td>0.007066</td>\n      <td>-0.730029</td>\n    </tr>\n    <tr>\n      <th>mean texture</th>\n      <td>0.323782</td>\n      <td>1.000000</td>\n      <td>0.329533</td>\n      <td>0.321086</td>\n      <td>-0.023389</td>\n      <td>0.236702</td>\n      <td>0.302418</td>\n      <td>0.293464</td>\n      <td>0.071401</td>\n      <td>-0.076437</td>\n      <td>...</td>\n      <td>0.912045</td>\n      <td>0.358040</td>\n      <td>0.343546</td>\n      <td>0.077503</td>\n      <td>0.277830</td>\n      <td>0.301025</td>\n      <td>0.295316</td>\n      <td>0.105008</td>\n      <td>0.119205</td>\n      <td>-0.415185</td>\n    </tr>\n    <tr>\n      <th>mean perimeter</th>\n      <td>0.997855</td>\n      <td>0.329533</td>\n      <td>1.000000</td>\n      <td>0.986507</td>\n      <td>0.207278</td>\n      <td>0.556936</td>\n      <td>0.716136</td>\n      <td>0.850977</td>\n      <td>0.183027</td>\n      <td>-0.261477</td>\n      <td>...</td>\n      <td>0.303038</td>\n      <td>0.970387</td>\n      <td>0.941550</td>\n      <td>0.150549</td>\n      <td>0.455774</td>\n      <td>0.563879</td>\n      <td>0.771241</td>\n      <td>0.189115</td>\n      <td>0.051019</td>\n      <td>-0.742636</td>\n    </tr>\n    <tr>\n      <th>mean area</th>\n      <td>0.987357</td>\n      <td>0.321086</td>\n      <td>0.986507</td>\n      <td>1.000000</td>\n      <td>0.177028</td>\n      <td>0.498502</td>\n      <td>0.685983</td>\n      <td>0.823269</td>\n      <td>0.151293</td>\n      <td>-0.283110</td>\n      <td>...</td>\n      <td>0.287489</td>\n      <td>0.959120</td>\n      <td>0.959213</td>\n      <td>0.123523</td>\n      <td>0.390410</td>\n      <td>0.512606</td>\n      <td>0.722017</td>\n      <td>0.143570</td>\n      <td>0.003738</td>\n      <td>-0.708984</td>\n    </tr>\n    <tr>\n      <th>mean smoothness</th>\n      <td>0.170581</td>\n      <td>-0.023389</td>\n      <td>0.207278</td>\n      <td>0.177028</td>\n      <td>1.000000</td>\n      <td>0.659123</td>\n      <td>0.521984</td>\n      <td>0.553695</td>\n      <td>0.557775</td>\n      <td>0.584792</td>\n      <td>...</td>\n      <td>0.036072</td>\n      <td>0.238853</td>\n      <td>0.206718</td>\n      <td>0.805324</td>\n      <td>0.472468</td>\n      <td>0.434926</td>\n      <td>0.503053</td>\n      <td>0.394309</td>\n      <td>0.499316</td>\n      <td>-0.358560</td>\n    </tr>\n    <tr>\n      <th>mean compactness</th>\n      <td>0.506124</td>\n      <td>0.236702</td>\n      <td>0.556936</td>\n      <td>0.498502</td>\n      <td>0.659123</td>\n      <td>1.000000</td>\n      <td>0.883121</td>\n      <td>0.831135</td>\n      <td>0.602641</td>\n      <td>0.565369</td>\n      <td>...</td>\n      <td>0.248133</td>\n      <td>0.590210</td>\n      <td>0.509604</td>\n      <td>0.565541</td>\n      <td>0.865809</td>\n      <td>0.816275</td>\n      <td>0.815573</td>\n      <td>0.510223</td>\n      <td>0.687382</td>\n      <td>-0.596534</td>\n    </tr>\n    <tr>\n      <th>mean concavity</th>\n      <td>0.676764</td>\n      <td>0.302418</td>\n      <td>0.716136</td>\n      <td>0.685983</td>\n      <td>0.521984</td>\n      <td>0.883121</td>\n      <td>1.000000</td>\n      <td>0.921391</td>\n      <td>0.500667</td>\n      <td>0.336783</td>\n      <td>...</td>\n      <td>0.299879</td>\n      <td>0.729565</td>\n      <td>0.675987</td>\n      <td>0.448822</td>\n      <td>0.754968</td>\n      <td>0.884103</td>\n      <td>0.861323</td>\n      <td>0.409464</td>\n      <td>0.514930</td>\n      <td>-0.696360</td>\n    </tr>\n    <tr>\n      <th>mean concave points</th>\n      <td>0.822529</td>\n      <td>0.293464</td>\n      <td>0.850977</td>\n      <td>0.823269</td>\n      <td>0.553695</td>\n      <td>0.831135</td>\n      <td>0.921391</td>\n      <td>1.000000</td>\n      <td>0.462497</td>\n      <td>0.166917</td>\n      <td>...</td>\n      <td>0.292752</td>\n      <td>0.855923</td>\n      <td>0.809630</td>\n      <td>0.452753</td>\n      <td>0.667454</td>\n      <td>0.752399</td>\n      <td>0.910155</td>\n      <td>0.375744</td>\n      <td>0.368661</td>\n      <td>-0.776614</td>\n    </tr>\n    <tr>\n      <th>mean symmetry</th>\n      <td>0.147741</td>\n      <td>0.071401</td>\n      <td>0.183027</td>\n      <td>0.151293</td>\n      <td>0.557775</td>\n      <td>0.602641</td>\n      <td>0.500667</td>\n      <td>0.462497</td>\n      <td>1.000000</td>\n      <td>0.479921</td>\n      <td>...</td>\n      <td>0.090651</td>\n      <td>0.219169</td>\n      <td>0.177193</td>\n      <td>0.426675</td>\n      <td>0.473200</td>\n      <td>0.433721</td>\n      <td>0.430297</td>\n      <td>0.699826</td>\n      <td>0.438413</td>\n      <td>-0.330499</td>\n    </tr>\n    <tr>\n      <th>mean fractal dimension</th>\n      <td>-0.311631</td>\n      <td>-0.076437</td>\n      <td>-0.261477</td>\n      <td>-0.283110</td>\n      <td>0.584792</td>\n      <td>0.565369</td>\n      <td>0.336783</td>\n      <td>0.166917</td>\n      <td>0.479921</td>\n      <td>1.000000</td>\n      <td>...</td>\n      <td>-0.051269</td>\n      <td>-0.205151</td>\n      <td>-0.231854</td>\n      <td>0.504942</td>\n      <td>0.458798</td>\n      <td>0.346234</td>\n      <td>0.175325</td>\n      <td>0.334019</td>\n      <td>0.767297</td>\n      <td>0.012838</td>\n    </tr>\n    <tr>\n      <th>radius error</th>\n      <td>0.679090</td>\n      <td>0.275869</td>\n      <td>0.691765</td>\n      <td>0.732562</td>\n      <td>0.301467</td>\n      <td>0.497473</td>\n      <td>0.631925</td>\n      <td>0.698050</td>\n      <td>0.303379</td>\n      <td>0.000111</td>\n      <td>...</td>\n      <td>0.194799</td>\n      <td>0.719684</td>\n      <td>0.751548</td>\n      <td>0.141919</td>\n      <td>0.287103</td>\n      <td>0.380585</td>\n      <td>0.531062</td>\n      <td>0.094543</td>\n      <td>0.049559</td>\n      <td>-0.567134</td>\n    </tr>\n    <tr>\n      <th>texture error</th>\n      <td>-0.097317</td>\n      <td>0.386358</td>\n      <td>-0.086761</td>\n      <td>-0.066280</td>\n      <td>0.068406</td>\n      <td>0.046205</td>\n      <td>0.076218</td>\n      <td>0.021480</td>\n      <td>0.128053</td>\n      <td>0.164174</td>\n      <td>...</td>\n      <td>0.409003</td>\n      <td>-0.102242</td>\n      <td>-0.083195</td>\n      <td>-0.073658</td>\n      <td>-0.092439</td>\n      <td>-0.068956</td>\n      <td>-0.119638</td>\n      <td>-0.128215</td>\n      <td>-0.045655</td>\n      <td>0.008303</td>\n    </tr>\n    <tr>\n      <th>perimeter error</th>\n      <td>0.674172</td>\n      <td>0.281673</td>\n      <td>0.693135</td>\n      <td>0.726628</td>\n      <td>0.296092</td>\n      <td>0.548905</td>\n      <td>0.660391</td>\n      <td>0.710650</td>\n      <td>0.313893</td>\n      <td>0.039830</td>\n      <td>...</td>\n      <td>0.200371</td>\n      <td>0.721031</td>\n      <td>0.730713</td>\n      <td>0.130054</td>\n      <td>0.341919</td>\n      <td>0.418899</td>\n      <td>0.554897</td>\n      <td>0.109930</td>\n      <td>0.085433</td>\n      <td>-0.556141</td>\n    </tr>\n    <tr>\n      <th>area error</th>\n      <td>0.735864</td>\n      <td>0.259845</td>\n      <td>0.744983</td>\n      <td>0.800086</td>\n      <td>0.246552</td>\n      <td>0.455653</td>\n      <td>0.617427</td>\n      <td>0.690299</td>\n      <td>0.223970</td>\n      <td>-0.090170</td>\n      <td>...</td>\n      <td>0.196497</td>\n      <td>0.761213</td>\n      <td>0.811408</td>\n      <td>0.125389</td>\n      <td>0.283257</td>\n      <td>0.385100</td>\n      <td>0.538166</td>\n      <td>0.074126</td>\n      <td>0.017539</td>\n      <td>-0.548236</td>\n    </tr>\n    <tr>\n      <th>smoothness error</th>\n      <td>-0.222600</td>\n      <td>0.006614</td>\n      <td>-0.202694</td>\n      <td>-0.166777</td>\n      <td>0.332375</td>\n      <td>0.135299</td>\n      <td>0.098564</td>\n      <td>0.027653</td>\n      <td>0.187321</td>\n      <td>0.401964</td>\n      <td>...</td>\n      <td>-0.074743</td>\n      <td>-0.217304</td>\n      <td>-0.182195</td>\n      <td>0.314457</td>\n      <td>-0.055558</td>\n      <td>-0.058298</td>\n      <td>-0.102007</td>\n      <td>-0.107342</td>\n      <td>0.101480</td>\n      <td>0.067016</td>\n    </tr>\n    <tr>\n      <th>compactness error</th>\n      <td>0.206000</td>\n      <td>0.191975</td>\n      <td>0.250744</td>\n      <td>0.212583</td>\n      <td>0.318943</td>\n      <td>0.738722</td>\n      <td>0.670279</td>\n      <td>0.490424</td>\n      <td>0.421659</td>\n      <td>0.559837</td>\n      <td>...</td>\n      <td>0.143003</td>\n      <td>0.260516</td>\n      <td>0.199371</td>\n      <td>0.227394</td>\n      <td>0.678780</td>\n      <td>0.639147</td>\n      <td>0.483208</td>\n      <td>0.277878</td>\n      <td>0.590973</td>\n      <td>-0.292999</td>\n    </tr>\n    <tr>\n      <th>concavity error</th>\n      <td>0.194204</td>\n      <td>0.143293</td>\n      <td>0.228082</td>\n      <td>0.207660</td>\n      <td>0.248396</td>\n      <td>0.570517</td>\n      <td>0.691270</td>\n      <td>0.439167</td>\n      <td>0.342627</td>\n      <td>0.446630</td>\n      <td>...</td>\n      <td>0.100241</td>\n      <td>0.226680</td>\n      <td>0.188353</td>\n      <td>0.168481</td>\n      <td>0.484858</td>\n      <td>0.662564</td>\n      <td>0.440472</td>\n      <td>0.197788</td>\n      <td>0.439329</td>\n      <td>-0.253730</td>\n    </tr>\n    <tr>\n      <th>concave points error</th>\n      <td>0.376169</td>\n      <td>0.163851</td>\n      <td>0.407217</td>\n      <td>0.372320</td>\n      <td>0.380676</td>\n      <td>0.642262</td>\n      <td>0.683260</td>\n      <td>0.615634</td>\n      <td>0.393298</td>\n      <td>0.341198</td>\n      <td>...</td>\n      <td>0.086741</td>\n      <td>0.394999</td>\n      <td>0.342271</td>\n      <td>0.215351</td>\n      <td>0.452888</td>\n      <td>0.549592</td>\n      <td>0.602450</td>\n      <td>0.143116</td>\n      <td>0.310655</td>\n      <td>-0.408042</td>\n    </tr>\n    <tr>\n      <th>symmetry error</th>\n      <td>-0.104321</td>\n      <td>0.009127</td>\n      <td>-0.081629</td>\n      <td>-0.072497</td>\n      <td>0.200774</td>\n      <td>0.229977</td>\n      <td>0.178009</td>\n      <td>0.095351</td>\n      <td>0.449137</td>\n      <td>0.345007</td>\n      <td>...</td>\n      <td>-0.077473</td>\n      <td>-0.103753</td>\n      <td>-0.110343</td>\n      <td>-0.012662</td>\n      <td>0.060255</td>\n      <td>0.037119</td>\n      <td>-0.030413</td>\n      <td>0.389402</td>\n      <td>0.078079</td>\n      <td>0.006522</td>\n    </tr>\n    <tr>\n      <th>fractal dimension error</th>\n      <td>-0.042641</td>\n      <td>0.054458</td>\n      <td>-0.005523</td>\n      <td>-0.019887</td>\n      <td>0.283607</td>\n      <td>0.507318</td>\n      <td>0.449301</td>\n      <td>0.257584</td>\n      <td>0.331786</td>\n      <td>0.688132</td>\n      <td>...</td>\n      <td>-0.003195</td>\n      <td>-0.001000</td>\n      <td>-0.022736</td>\n      <td>0.170568</td>\n      <td>0.390159</td>\n      <td>0.379975</td>\n      <td>0.215204</td>\n      <td>0.111094</td>\n      <td>0.591328</td>\n      <td>-0.077972</td>\n    </tr>\n    <tr>\n      <th>worst radius</th>\n      <td>0.969539</td>\n      <td>0.352573</td>\n      <td>0.969476</td>\n      <td>0.962746</td>\n      <td>0.213120</td>\n      <td>0.535315</td>\n      <td>0.688236</td>\n      <td>0.830318</td>\n      <td>0.185728</td>\n      <td>-0.253691</td>\n      <td>...</td>\n      <td>0.359921</td>\n      <td>0.993708</td>\n      <td>0.984015</td>\n      <td>0.216574</td>\n      <td>0.475820</td>\n      <td>0.573975</td>\n      <td>0.787424</td>\n      <td>0.243529</td>\n      <td>0.093492</td>\n      <td>-0.776454</td>\n    </tr>\n    <tr>\n      <th>worst texture</th>\n      <td>0.297008</td>\n      <td>0.912045</td>\n      <td>0.303038</td>\n      <td>0.287489</td>\n      <td>0.036072</td>\n      <td>0.248133</td>\n      <td>0.299879</td>\n      <td>0.292752</td>\n      <td>0.090651</td>\n      <td>-0.051269</td>\n      <td>...</td>\n      <td>1.000000</td>\n      <td>0.365098</td>\n      <td>0.345842</td>\n      <td>0.225429</td>\n      <td>0.360832</td>\n      <td>0.368366</td>\n      <td>0.359755</td>\n      <td>0.233027</td>\n      <td>0.219122</td>\n      <td>-0.456903</td>\n    </tr>\n    <tr>\n      <th>worst perimeter</th>\n      <td>0.965137</td>\n      <td>0.358040</td>\n      <td>0.970387</td>\n      <td>0.959120</td>\n      <td>0.238853</td>\n      <td>0.590210</td>\n      <td>0.729565</td>\n      <td>0.855923</td>\n      <td>0.219169</td>\n      <td>-0.205151</td>\n      <td>...</td>\n      <td>0.365098</td>\n      <td>1.000000</td>\n      <td>0.977578</td>\n      <td>0.236775</td>\n      <td>0.529408</td>\n      <td>0.618344</td>\n      <td>0.816322</td>\n      <td>0.269493</td>\n      <td>0.138957</td>\n      <td>-0.782914</td>\n    </tr>\n    <tr>\n      <th>worst area</th>\n      <td>0.941082</td>\n      <td>0.343546</td>\n      <td>0.941550</td>\n      <td>0.959213</td>\n      <td>0.206718</td>\n      <td>0.509604</td>\n      <td>0.675987</td>\n      <td>0.809630</td>\n      <td>0.177193</td>\n      <td>-0.231854</td>\n      <td>...</td>\n      <td>0.345842</td>\n      <td>0.977578</td>\n      <td>1.000000</td>\n      <td>0.209145</td>\n      <td>0.438296</td>\n      <td>0.543331</td>\n      <td>0.747419</td>\n      <td>0.209146</td>\n      <td>0.079647</td>\n      <td>-0.733825</td>\n    </tr>\n    <tr>\n      <th>worst smoothness</th>\n      <td>0.119616</td>\n      <td>0.077503</td>\n      <td>0.150549</td>\n      <td>0.123523</td>\n      <td>0.805324</td>\n      <td>0.565541</td>\n      <td>0.448822</td>\n      <td>0.452753</td>\n      <td>0.426675</td>\n      <td>0.504942</td>\n      <td>...</td>\n      <td>0.225429</td>\n      <td>0.236775</td>\n      <td>0.209145</td>\n      <td>1.000000</td>\n      <td>0.568187</td>\n      <td>0.518523</td>\n      <td>0.547691</td>\n      <td>0.493838</td>\n      <td>0.617624</td>\n      <td>-0.421465</td>\n    </tr>\n    <tr>\n      <th>worst compactness</th>\n      <td>0.413463</td>\n      <td>0.277830</td>\n      <td>0.455774</td>\n      <td>0.390410</td>\n      <td>0.472468</td>\n      <td>0.865809</td>\n      <td>0.754968</td>\n      <td>0.667454</td>\n      <td>0.473200</td>\n      <td>0.458798</td>\n      <td>...</td>\n      <td>0.360832</td>\n      <td>0.529408</td>\n      <td>0.438296</td>\n      <td>0.568187</td>\n      <td>1.000000</td>\n      <td>0.892261</td>\n      <td>0.801080</td>\n      <td>0.614441</td>\n      <td>0.810455</td>\n      <td>-0.590998</td>\n    </tr>\n    <tr>\n      <th>worst concavity</th>\n      <td>0.526911</td>\n      <td>0.301025</td>\n      <td>0.563879</td>\n      <td>0.512606</td>\n      <td>0.434926</td>\n      <td>0.816275</td>\n      <td>0.884103</td>\n      <td>0.752399</td>\n      <td>0.433721</td>\n      <td>0.346234</td>\n      <td>...</td>\n      <td>0.368366</td>\n      <td>0.618344</td>\n      <td>0.543331</td>\n      <td>0.518523</td>\n      <td>0.892261</td>\n      <td>1.000000</td>\n      <td>0.855434</td>\n      <td>0.532520</td>\n      <td>0.686511</td>\n      <td>-0.659610</td>\n    </tr>\n    <tr>\n      <th>worst concave points</th>\n      <td>0.744214</td>\n      <td>0.295316</td>\n      <td>0.771241</td>\n      <td>0.722017</td>\n      <td>0.503053</td>\n      <td>0.815573</td>\n      <td>0.861323</td>\n      <td>0.910155</td>\n      <td>0.430297</td>\n      <td>0.175325</td>\n      <td>...</td>\n      <td>0.359755</td>\n      <td>0.816322</td>\n      <td>0.747419</td>\n      <td>0.547691</td>\n      <td>0.801080</td>\n      <td>0.855434</td>\n      <td>1.000000</td>\n      <td>0.502528</td>\n      <td>0.511114</td>\n      <td>-0.793566</td>\n    </tr>\n    <tr>\n      <th>worst symmetry</th>\n      <td>0.163953</td>\n      <td>0.105008</td>\n      <td>0.189115</td>\n      <td>0.143570</td>\n      <td>0.394309</td>\n      <td>0.510223</td>\n      <td>0.409464</td>\n      <td>0.375744</td>\n      <td>0.699826</td>\n      <td>0.334019</td>\n      <td>...</td>\n      <td>0.233027</td>\n      <td>0.269493</td>\n      <td>0.209146</td>\n      <td>0.493838</td>\n      <td>0.614441</td>\n      <td>0.532520</td>\n      <td>0.502528</td>\n      <td>1.000000</td>\n      <td>0.537848</td>\n      <td>-0.416294</td>\n    </tr>\n    <tr>\n      <th>worst fractal dimension</th>\n      <td>0.007066</td>\n      <td>0.119205</td>\n      <td>0.051019</td>\n      <td>0.003738</td>\n      <td>0.499316</td>\n      <td>0.687382</td>\n      <td>0.514930</td>\n      <td>0.368661</td>\n      <td>0.438413</td>\n      <td>0.767297</td>\n      <td>...</td>\n      <td>0.219122</td>\n      <td>0.138957</td>\n      <td>0.079647</td>\n      <td>0.617624</td>\n      <td>0.810455</td>\n      <td>0.686511</td>\n      <td>0.511114</td>\n      <td>0.537848</td>\n      <td>1.000000</td>\n      <td>-0.323872</td>\n    </tr>\n    <tr>\n      <th>target</th>\n      <td>-0.730029</td>\n      <td>-0.415185</td>\n      <td>-0.742636</td>\n      <td>-0.708984</td>\n      <td>-0.358560</td>\n      <td>-0.596534</td>\n      <td>-0.696360</td>\n      <td>-0.776614</td>\n      <td>-0.330499</td>\n      <td>0.012838</td>\n      <td>...</td>\n      <td>-0.456903</td>\n      <td>-0.782914</td>\n      <td>-0.733825</td>\n      <td>-0.421465</td>\n      <td>-0.590998</td>\n      <td>-0.659610</td>\n      <td>-0.793566</td>\n      <td>-0.416294</td>\n      <td>-0.323872</td>\n      <td>1.000000</td>\n    </tr>\n  </tbody>\n</table>\n<p>31 rows × 31 columns</p>\n</div>"
     },
     "metadata": {},
     "execution_count": 11
    }
   ],
   "source": [
    "df.corr()"
   ]
  },
  {
   "cell_type": "code",
   "execution_count": 12,
   "metadata": {},
   "outputs": [],
   "source": [
    "#Dibuja con plotly los que creas necesarios gráficos para entender los datos."
   ]
  },
  {
   "cell_type": "code",
   "execution_count": 14,
   "metadata": {},
   "outputs": [],
   "source": [
    "# to ask -> What graphs the Plotly should be drawn to understand the data??"
   ]
  },
  {
   "cell_type": "markdown",
   "metadata": {},
   "source": [
    "Utiliza los métodos de clasificación vistos hasta ahora para clasificar el target de los datos, ¿cuál da mejores resultados?"
   ]
  },
  {
   "cell_type": "code",
   "execution_count": 33,
   "metadata": {},
   "outputs": [],
   "source": [
    "scores_models = []\n",
    "model_name = [\"Knn\", \"Logistic_regression\", \"SVM\"]"
   ]
  },
  {
   "cell_type": "code",
   "execution_count": 20,
   "metadata": {},
   "outputs": [
    {
     "output_type": "execute_result",
     "data": {
      "text/plain": "{'n_neighbors': 13}"
     },
     "metadata": {},
     "execution_count": 20
    }
   ],
   "source": [
    "#1) Knn \n",
    "\n",
    "#finding best k\n",
    "\n",
    "from sklearn.model_selection import GridSearchCV\n",
    "\n",
    "knn = KNeighborsClassifier()\n",
    "param_grid = {'n_neighbors': np.arange(1, 50)}\n",
    "\n",
    "knn_gscv = GridSearchCV(knn, param_grid, cv=5)\n",
    "knn_gscv.fit(X, y)\n",
    "\n",
    "knn_gscv.best_params_"
   ]
  },
  {
   "cell_type": "code",
   "execution_count": 35,
   "metadata": {
    "tags": []
   },
   "outputs": [
    {
     "output_type": "stream",
     "name": "stdout",
     "text": "During training, val score:  [0.9782608695652174, 0.8913043478260869, 0.9347826086956522, 1.0, 0.9130434782608695, 0.9333333333333333, 0.8888888888888888, 0.9111111111111111, 0.9555555555555556, 0.9333333333333333]\nScore of model Knn: 0.9122807017543859\nMAE of model knn: 0.08771929824561403\n"
    }
   ],
   "source": [
    "# making model and using k=13\n",
    "\n",
    "from sklearn.neighbors import KNeighborsClassifier\n",
    "from sklearn.metrics import r2_score, mean_absolute_error\n",
    "from sklearn.model_selection import KFold\n",
    "from sklearn.model_selection import train_test_split\n",
    "\n",
    "X = cancer.data\n",
    "y = cancer.target\n",
    "\n",
    "X_train, X_test, y_train, y_test = train_test_split(X, y, test_size=0.20)\n",
    "\n",
    "model = KNeighborsClassifier(n_neighbors=13)\n",
    " \n",
    "k_fold = KFold(n_splits=10)\n",
    "#k_fold = RepeatedStratifiedKFold(n_splits=10, n_repeats=10, random_state=2)  --- > vragen\n",
    "\n",
    "val_score = [model.fit(X_train[train], y_train[train]).score(X_train[val], y_train[val]) for train, val in k_fold.split(X_train)]\n",
    "print(\"During training, val score: \", val_score)\n",
    "\n",
    "score_knn = model.score(X=X_test, y=y_test)\n",
    "scores_models.append(score_knn)\n",
    "print(\"Score of model Knn:\", score_knn)\n",
    "\n",
    "y_test_pred = model.predict(X_test)\n",
    "\n",
    "mae = mean_absolute_error(y_test, y_test_pred)\n",
    "print(\"MAE of model knn:\", mae)\n"
   ]
  },
  {
   "cell_type": "code",
   "execution_count": 22,
   "metadata": {},
   "outputs": [
    {
     "output_type": "execute_result",
     "data": {
      "text/plain": "(569, 30)"
     },
     "metadata": {},
     "execution_count": 22
    }
   ],
   "source": [
    "X.shape"
   ]
  },
  {
   "cell_type": "code",
   "execution_count": 23,
   "metadata": {},
   "outputs": [
    {
     "output_type": "execute_result",
     "data": {
      "text/plain": "LogisticRegression(C=0.0001, penalty='none', solver='newton-cg')"
     },
     "metadata": {},
     "execution_count": 23
    }
   ],
   "source": [
    "#2) logistic regression \n",
    "#finding best parameters\n",
    "\n",
    "new_model = LogisticRegression()\n",
    "\n",
    "param_grid = [\n",
    "    {'penalty' : ['l1', '12',  'elasticnet', 'none'],\n",
    "    'C' : np.logspace(-4, 4, 20),\n",
    "    'solver' : ['newton-cg', 'lbfgs', 'liblinear', 'sag', 'saga'],\n",
    "    'max_iter' : [100, 1000, 2500, 5000]}\n",
    "]\n",
    "\n",
    "clf = GridSearchCV(new_model, param_grid=param_grid, cv=3, n_jobs=-1)\n",
    "\n",
    "best_clf = clf.fit(X, y)\n",
    "best_clf.best_estimator_"
   ]
  },
  {
   "cell_type": "code",
   "execution_count": 36,
   "metadata": {
    "tags": []
   },
   "outputs": [
    {
     "output_type": "stream",
     "name": "stdout",
     "text": "During training, val score:  [0.9473684210526315, 0.956140350877193, 0.9649122807017544, 0.9646017699115044]\nScore of model Logistic Regression: 0.9649122807017544\nMAE of model Logistic Regresion: 0.03508771929824561\n"
    }
   ],
   "source": [
    "# making model and using parameters\n",
    "\n",
    "from sklearn.linear_model import LogisticRegression\n",
    "X = cancer.data\n",
    "y = cancer.target\n",
    "\n",
    "X_train, X_test, y_train, y_test = train_test_split(X, y, test_size=0.20)\n",
    "\n",
    "model = LogisticRegression(C=0.0001, penalty='none', solver='newton-cg')\n",
    "\n",
    "k_fold = KFold(n_splits=4, random_state=1)\n",
    "\n",
    "val_score = [model.fit(X_train[train], y_train[train]).score(X_train[val], y_train[val]) for train, val in k_fold.split(X_train)]\n",
    "print(\"During training, val score: \", val_score)\n",
    "\n",
    "score_logistic_reg = model.score(X=X_test, y=y_test)\n",
    "scores_models.append(score_logistic_reg)\n",
    "print(\"Score of model Logistic Regression:\", score_logistic_reg)\n",
    "\n",
    "y_test_pred = model.predict(X_test)\n",
    "\n",
    "mae = mean_absolute_error(y_test, y_test_pred)\n",
    "print(\"MAE of model Logistic Regresion:\", mae)\n"
   ]
  },
  {
   "cell_type": "code",
   "execution_count": 30,
   "metadata": {},
   "outputs": [
    {
     "output_type": "execute_result",
     "data": {
      "text/plain": "SVC(C=100, kernel='linear')"
     },
     "metadata": {},
     "execution_count": 30
    }
   ],
   "source": [
    "#3) Using SVM \n",
    "#finding best parameters\n",
    "\n",
    "new_model = svm.SVC()\n",
    "\n",
    "param_grid = [\n",
    "  {'C': [1, 10, 100, 1000], 'kernel': ['linear']},\n",
    "  {'C': [1, 10, 100, 1000], 'gamma': [0.001, 0.0001], 'kernel': ['rbf']},\n",
    " ]\n",
    "\n",
    "clf = GridSearchCV(new_model, param_grid=param_grid, cv=3, n_jobs=-1)\n",
    "\n",
    "best_clf = clf.fit(X, y)\n",
    "best_clf.best_estimator_"
   ]
  },
  {
   "cell_type": "code",
   "execution_count": 37,
   "metadata": {
    "tags": []
   },
   "outputs": [
    {
     "output_type": "stream",
     "name": "stdout",
     "text": "During training, val score:  [0.9736842105263158, 0.956140350877193, 0.9473684210526315, 0.9734513274336283]\nScore of SVM: 0.956140350877193\nMAE of model SVM: 0.043859649122807015\n"
    }
   ],
   "source": [
    "#3) Using SVM \n",
    "# making model and using parameters\n",
    "\n",
    "from sklearn import svm\n",
    "\n",
    "X = cancer.data\n",
    "y = cancer.target\n",
    "\n",
    "X_train, X_test, y_train, y_test = train_test_split(X, y, test_size=0.20)\n",
    "\n",
    "model  = svm.SVC(C=100, kernel='linear')\n",
    "\n",
    "k_fold = KFold(n_splits=4, random_state=1)\n",
    "\n",
    "val_score = [model.fit(X_train[train], y_train[train]).score(X_train[val], y_train[val]) for train, val in k_fold.split(X_train)]\n",
    "print(\"During training, val score: \", val_score)\n",
    "\n",
    "score_SVM = model.score(X=X_test, y=y_test)\n",
    "scores_models.append(score_SVM)\n",
    "print(\"Score of SVM:\", score_SVM)\n",
    "\n",
    "y_test_pred = model.predict(X_test)\n",
    "\n",
    "mae = mean_absolute_error(y_test, y_test_pred)\n",
    "print(\"MAE of model SVM:\", mae)"
   ]
  },
  {
   "cell_type": "code",
   "execution_count": null,
   "metadata": {},
   "outputs": [],
   "source": []
  },
  {
   "cell_type": "code",
   "execution_count": 38,
   "metadata": {},
   "outputs": [
    {
     "output_type": "execute_result",
     "data": {
      "text/plain": "                        score\nKnn                  0.912281\nLogistic_regression  0.964912\nSVM                  0.956140",
      "text/html": "<div>\n<style scoped>\n    .dataframe tbody tr th:only-of-type {\n        vertical-align: middle;\n    }\n\n    .dataframe tbody tr th {\n        vertical-align: top;\n    }\n\n    .dataframe thead th {\n        text-align: right;\n    }\n</style>\n<table border=\"1\" class=\"dataframe\">\n  <thead>\n    <tr style=\"text-align: right;\">\n      <th></th>\n      <th>score</th>\n    </tr>\n  </thead>\n  <tbody>\n    <tr>\n      <th>Knn</th>\n      <td>0.912281</td>\n    </tr>\n    <tr>\n      <th>Logistic_regression</th>\n      <td>0.964912</td>\n    </tr>\n    <tr>\n      <th>SVM</th>\n      <td>0.956140</td>\n    </tr>\n  </tbody>\n</table>\n</div>"
     },
     "metadata": {},
     "execution_count": 38
    }
   ],
   "source": [
    "df_score = pd.DataFrame(scores_models, index=model_name)\n",
    "df_score.rename(columns={0: \"score\"}, inplace=True)\n",
    "df_score"
   ]
  },
  {
   "cell_type": "markdown",
   "metadata": {},
   "source": [
    "Best score is with model logistic regression."
   ]
  }
 ]
}