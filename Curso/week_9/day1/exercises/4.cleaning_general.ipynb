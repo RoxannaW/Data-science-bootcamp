{
 "metadata": {
  "language_info": {
   "codemirror_mode": {
    "name": "ipython",
    "version": 3
   },
   "file_extension": ".py",
   "mimetype": "text/x-python",
   "name": "python",
   "nbconvert_exporter": "python",
   "pygments_lexer": "ipython3",
   "version": "3.8.3-final"
  },
  "orig_nbformat": 2,
  "kernelspec": {
   "name": "python_defaultSpec_1599577572387",
   "display_name": "Python 3.8.3 32-bit"
  }
 },
 "nbformat": 4,
 "nbformat_minor": 2,
 "cells": [
  {
   "cell_type": "markdown",
   "metadata": {},
   "source": [
    "Crea un programa que, llamando a una función clean_df(path), lea un archivo leíble por pandas, lo transforme a dataframe y lo limpie si es posible. \n",
    "\n",
    "La función clean_df() retornará el dataframe limpiado."
   ]
  },
  {
   "cell_type": "markdown",
   "metadata": {},
   "source": [
    "En la función clean_df:\n",
    "\n",
    "- path: representa la ubicación o url de donde pandas lee el archivo a cargar."
   ]
  },
  {
   "cell_type": "code",
   "execution_count": 1,
   "metadata": {
    "tags": []
   },
   "outputs": [
    {
     "output_type": "stream",
     "name": "stdout",
     "text": "c:\\Users\\Roxan\\OneDrive\\Documentos\\My_map_2\n"
    }
   ],
   "source": [
    "import pandas as pd \n",
    "import numpy as np \n",
    "import os, sys\n",
    "\n",
    "\n",
    "os.path.abspath('')\n",
    "root_path = os.path.dirname(os.path.dirname(os.path.dirname(os.path.dirname(os.path.dirname(os.path.abspath(''))))))\n",
    "sys.path.append(root_path)\n",
    "\n",
    "print(root_path)\n",
    "\n"
   ]
  },
  {
   "cell_type": "code",
   "execution_count": 114,
   "metadata": {},
   "outputs": [],
   "source": [
    "import pandas as pd \n",
    "import numpy as np \n",
    "import os, sys\n",
    "\n",
    "os.path.abspath('')\n",
    "root_path = os.path.dirname(os.path.dirname(os.path.dirname(os.path.dirname(os.path.dirname(os.path.abspath(''))))))\n",
    "sys.path.append(root_path)\n",
    "\n",
    "'''\n",
    "Function to import data in csv format (url or from saved file), clean the dataframe of NaN and/or duplicated values, and if neccesary filter the dataframe for only correlated columns (> 0.3). For this a target column should be added. \n",
    "\n",
    "Parameter of function is the relative path to file with r added in front to get raw string\n",
    "'''\n",
    "\n",
    "def clean_df(path):\n",
    "    #getting data from url or getting path and creating dataframe\n",
    "    if path.lower().startswith(\"http\"):\n",
    "        df = pd.read_csv(path)\n",
    "\n",
    "    else:\n",
    "        arr = path.split()\n",
    "        path_to_use = \"\\\\\"\n",
    "\n",
    "        for pos, i in enumerate(path):\n",
    "            path_to_use += i\n",
    "            if i == '\\\\':\n",
    "                path_to_use += '\\\\'\n",
    "\n",
    "        df = pd.read_csv(root_path + str(path_to_use))\n",
    "\n",
    "    #deleting duplicates from dataframe\n",
    "    df_test.drop_duplicates(subset=None, keep='first', inplace=True)\n",
    "\n",
    "    #deleting row if any value in row is Nan\n",
    "    df.dropna(axis=0, how='any', inplace=True)\n",
    "\n",
    "    #Selecting relevant features to use in machine learning\n",
    "    target_column = input(\"Enter target column if necessary, if not enter: no\")\n",
    "    if target_column.lower() == \"no\":\n",
    "        df_cleaned = df\n",
    "        pass\n",
    "    else:\n",
    "        try:\n",
    "            cor = df.corr()\n",
    "            #Correlation with output variable\n",
    "            cor_target = abs(cor[target_column])\n",
    "            relevant_features = cor_target[cor_target>0.3]\n",
    "            df_cleaned = df[relevant_features.index]\n",
    "            df_cleaned[\"target\"] = df[target_column].values\n",
    "        except:\n",
    "            raise Exception(\"Column name does not exist or written incorrectly\")\n",
    "\n",
    "    return df_cleaned\n"
   ]
  },
  {
   "cell_type": "markdown",
   "metadata": {},
   "source": [
    "-----------------"
   ]
  },
  {
   "cell_type": "markdown",
   "metadata": {},
   "source": [
    "Testing function"
   ]
  },
  {
   "cell_type": "code",
   "execution_count": 105,
   "metadata": {
    "tags": []
   },
   "outputs": [
    {
     "output_type": "execute_result",
     "data": {
      "text/plain": "      Avg. Area Income         Price        target\n0         79545.458574  1.059034e+06  79545.458574\n1         79248.642455  1.505891e+06  79248.642455\n2         61287.067179  1.058988e+06  61287.067179\n3         63345.240046  1.260617e+06  63345.240046\n4         59982.197226  6.309435e+05  59982.197226\n...                ...           ...           ...\n4995      60567.944140  1.060194e+06  60567.944140\n4996      78491.275435  1.482618e+06  78491.275435\n4997      63390.686886  1.030730e+06  63390.686886\n4998      68001.331235  1.198657e+06  68001.331235\n4999      65510.581804  1.298950e+06  65510.581804\n\n[5000 rows x 3 columns]",
      "text/html": "<div>\n<style scoped>\n    .dataframe tbody tr th:only-of-type {\n        vertical-align: middle;\n    }\n\n    .dataframe tbody tr th {\n        vertical-align: top;\n    }\n\n    .dataframe thead th {\n        text-align: right;\n    }\n</style>\n<table border=\"1\" class=\"dataframe\">\n  <thead>\n    <tr style=\"text-align: right;\">\n      <th></th>\n      <th>Avg. Area Income</th>\n      <th>Price</th>\n      <th>target</th>\n    </tr>\n  </thead>\n  <tbody>\n    <tr>\n      <th>0</th>\n      <td>79545.458574</td>\n      <td>1.059034e+06</td>\n      <td>79545.458574</td>\n    </tr>\n    <tr>\n      <th>1</th>\n      <td>79248.642455</td>\n      <td>1.505891e+06</td>\n      <td>79248.642455</td>\n    </tr>\n    <tr>\n      <th>2</th>\n      <td>61287.067179</td>\n      <td>1.058988e+06</td>\n      <td>61287.067179</td>\n    </tr>\n    <tr>\n      <th>3</th>\n      <td>63345.240046</td>\n      <td>1.260617e+06</td>\n      <td>63345.240046</td>\n    </tr>\n    <tr>\n      <th>4</th>\n      <td>59982.197226</td>\n      <td>6.309435e+05</td>\n      <td>59982.197226</td>\n    </tr>\n    <tr>\n      <th>...</th>\n      <td>...</td>\n      <td>...</td>\n      <td>...</td>\n    </tr>\n    <tr>\n      <th>4995</th>\n      <td>60567.944140</td>\n      <td>1.060194e+06</td>\n      <td>60567.944140</td>\n    </tr>\n    <tr>\n      <th>4996</th>\n      <td>78491.275435</td>\n      <td>1.482618e+06</td>\n      <td>78491.275435</td>\n    </tr>\n    <tr>\n      <th>4997</th>\n      <td>63390.686886</td>\n      <td>1.030730e+06</td>\n      <td>63390.686886</td>\n    </tr>\n    <tr>\n      <th>4998</th>\n      <td>68001.331235</td>\n      <td>1.198657e+06</td>\n      <td>68001.331235</td>\n    </tr>\n    <tr>\n      <th>4999</th>\n      <td>65510.581804</td>\n      <td>1.298950e+06</td>\n      <td>65510.581804</td>\n    </tr>\n  </tbody>\n</table>\n<p>5000 rows × 3 columns</p>\n</div>"
     },
     "metadata": {},
     "execution_count": 105
    }
   ],
   "source": [
    "clean_df(r\"Data-science-bootcamp\\Curso\\week_9\\day1\\data\\USA_Housing.csv\") #target column is Avg. Area Income."
   ]
  },
  {
   "cell_type": "code",
   "execution_count": 106,
   "metadata": {},
   "outputs": [
    {
     "output_type": "execute_result",
     "data": {
      "text/plain": "     sepal.length  sepal.width  petal.length  petal.width    variety\n0             5.1          3.5           1.4          0.2     Setosa\n1             4.9          3.0           1.4          0.2     Setosa\n2             4.7          3.2           1.3          0.2     Setosa\n3             4.6          3.1           1.5          0.2     Setosa\n4             5.0          3.6           1.4          0.2     Setosa\n..            ...          ...           ...          ...        ...\n145           6.7          3.0           5.2          2.3  Virginica\n146           6.3          2.5           5.0          1.9  Virginica\n147           6.5          3.0           5.2          2.0  Virginica\n148           6.2          3.4           5.4          2.3  Virginica\n149           5.9          3.0           5.1          1.8  Virginica\n\n[150 rows x 5 columns]",
      "text/html": "<div>\n<style scoped>\n    .dataframe tbody tr th:only-of-type {\n        vertical-align: middle;\n    }\n\n    .dataframe tbody tr th {\n        vertical-align: top;\n    }\n\n    .dataframe thead th {\n        text-align: right;\n    }\n</style>\n<table border=\"1\" class=\"dataframe\">\n  <thead>\n    <tr style=\"text-align: right;\">\n      <th></th>\n      <th>sepal.length</th>\n      <th>sepal.width</th>\n      <th>petal.length</th>\n      <th>petal.width</th>\n      <th>variety</th>\n    </tr>\n  </thead>\n  <tbody>\n    <tr>\n      <th>0</th>\n      <td>5.1</td>\n      <td>3.5</td>\n      <td>1.4</td>\n      <td>0.2</td>\n      <td>Setosa</td>\n    </tr>\n    <tr>\n      <th>1</th>\n      <td>4.9</td>\n      <td>3.0</td>\n      <td>1.4</td>\n      <td>0.2</td>\n      <td>Setosa</td>\n    </tr>\n    <tr>\n      <th>2</th>\n      <td>4.7</td>\n      <td>3.2</td>\n      <td>1.3</td>\n      <td>0.2</td>\n      <td>Setosa</td>\n    </tr>\n    <tr>\n      <th>3</th>\n      <td>4.6</td>\n      <td>3.1</td>\n      <td>1.5</td>\n      <td>0.2</td>\n      <td>Setosa</td>\n    </tr>\n    <tr>\n      <th>4</th>\n      <td>5.0</td>\n      <td>3.6</td>\n      <td>1.4</td>\n      <td>0.2</td>\n      <td>Setosa</td>\n    </tr>\n    <tr>\n      <th>...</th>\n      <td>...</td>\n      <td>...</td>\n      <td>...</td>\n      <td>...</td>\n      <td>...</td>\n    </tr>\n    <tr>\n      <th>145</th>\n      <td>6.7</td>\n      <td>3.0</td>\n      <td>5.2</td>\n      <td>2.3</td>\n      <td>Virginica</td>\n    </tr>\n    <tr>\n      <th>146</th>\n      <td>6.3</td>\n      <td>2.5</td>\n      <td>5.0</td>\n      <td>1.9</td>\n      <td>Virginica</td>\n    </tr>\n    <tr>\n      <th>147</th>\n      <td>6.5</td>\n      <td>3.0</td>\n      <td>5.2</td>\n      <td>2.0</td>\n      <td>Virginica</td>\n    </tr>\n    <tr>\n      <th>148</th>\n      <td>6.2</td>\n      <td>3.4</td>\n      <td>5.4</td>\n      <td>2.3</td>\n      <td>Virginica</td>\n    </tr>\n    <tr>\n      <th>149</th>\n      <td>5.9</td>\n      <td>3.0</td>\n      <td>5.1</td>\n      <td>1.8</td>\n      <td>Virginica</td>\n    </tr>\n  </tbody>\n</table>\n<p>150 rows × 5 columns</p>\n</div>"
     },
     "metadata": {},
     "execution_count": 106
    }
   ],
   "source": [
    "clean_df(path=r\"Data-science-bootcamp\\Curso\\week_8\\day4\\data\\iris.csv\")  #target column = no"
   ]
  },
  {
   "cell_type": "code",
   "execution_count": 115,
   "metadata": {},
   "outputs": [
    {
     "output_type": "execute_result",
     "data": {
      "text/plain": "       total_cases  new_cases  new_cases_smoothed  total_deaths  new_deaths  \\\n3224           5.0        2.0               0.286           0.0         0.0   \n3225           8.0        3.0               0.714           0.0         0.0   \n3226          10.0        2.0               1.000           0.0         0.0   \n3227          10.0        0.0               1.000           0.0         0.0   \n3228          17.0        7.0               2.000           0.0         0.0   \n...            ...        ...                 ...           ...         ...   \n41920       6406.0       18.0              73.286         196.0         1.0   \n41921       6412.0        6.0              68.857         196.0         0.0   \n41922       6497.0       85.0              61.000         202.0         6.0   \n41923       6559.0       62.0              51.857         203.0         1.0   \n41924       6638.0       79.0              55.286         206.0         3.0   \n\n       new_deaths_smoothed  new_tests  total_tests  new_tests_smoothed  \\\n3224                 0.000       49.0        342.0                28.0   \n3225                 0.000       39.0        381.0                31.0   \n3226                 0.000       46.0        427.0                34.0   \n3227                 0.000       36.0        463.0                36.0   \n3228                 0.000       36.0        499.0                37.0   \n...                    ...        ...          ...                 ...   \n41920                6.143      602.0      98988.0              1063.0   \n41921                5.857      836.0      99824.0              1072.0   \n41922                6.714     1013.0     100837.0               992.0   \n41923                5.286      939.0     101776.0              1001.0   \n41924                3.857     1095.0     102871.0              1021.0   \n\n        population  target  \n3224   164689383.0     2.0  \n3225   164689383.0     3.0  \n3226   164689383.0     2.0  \n3227   164689383.0     0.0  \n3228   164689383.0     7.0  \n...            ...     ...  \n41920   14862927.0    18.0  \n41921   14862927.0     6.0  \n41922   14862927.0    85.0  \n41923   14862927.0    62.0  \n41924   14862927.0    79.0  \n\n[3176 rows x 11 columns]",
      "text/html": "<div>\n<style scoped>\n    .dataframe tbody tr th:only-of-type {\n        vertical-align: middle;\n    }\n\n    .dataframe tbody tr th {\n        vertical-align: top;\n    }\n\n    .dataframe thead th {\n        text-align: right;\n    }\n</style>\n<table border=\"1\" class=\"dataframe\">\n  <thead>\n    <tr style=\"text-align: right;\">\n      <th></th>\n      <th>total_cases</th>\n      <th>new_cases</th>\n      <th>new_cases_smoothed</th>\n      <th>total_deaths</th>\n      <th>new_deaths</th>\n      <th>new_deaths_smoothed</th>\n      <th>new_tests</th>\n      <th>total_tests</th>\n      <th>new_tests_smoothed</th>\n      <th>population</th>\n      <th>target</th>\n    </tr>\n  </thead>\n  <tbody>\n    <tr>\n      <th>3224</th>\n      <td>5.0</td>\n      <td>2.0</td>\n      <td>0.286</td>\n      <td>0.0</td>\n      <td>0.0</td>\n      <td>0.000</td>\n      <td>49.0</td>\n      <td>342.0</td>\n      <td>28.0</td>\n      <td>164689383.0</td>\n      <td>2.0</td>\n    </tr>\n    <tr>\n      <th>3225</th>\n      <td>8.0</td>\n      <td>3.0</td>\n      <td>0.714</td>\n      <td>0.0</td>\n      <td>0.0</td>\n      <td>0.000</td>\n      <td>39.0</td>\n      <td>381.0</td>\n      <td>31.0</td>\n      <td>164689383.0</td>\n      <td>3.0</td>\n    </tr>\n    <tr>\n      <th>3226</th>\n      <td>10.0</td>\n      <td>2.0</td>\n      <td>1.000</td>\n      <td>0.0</td>\n      <td>0.0</td>\n      <td>0.000</td>\n      <td>46.0</td>\n      <td>427.0</td>\n      <td>34.0</td>\n      <td>164689383.0</td>\n      <td>2.0</td>\n    </tr>\n    <tr>\n      <th>3227</th>\n      <td>10.0</td>\n      <td>0.0</td>\n      <td>1.000</td>\n      <td>0.0</td>\n      <td>0.0</td>\n      <td>0.000</td>\n      <td>36.0</td>\n      <td>463.0</td>\n      <td>36.0</td>\n      <td>164689383.0</td>\n      <td>0.0</td>\n    </tr>\n    <tr>\n      <th>3228</th>\n      <td>17.0</td>\n      <td>7.0</td>\n      <td>2.000</td>\n      <td>0.0</td>\n      <td>0.0</td>\n      <td>0.000</td>\n      <td>36.0</td>\n      <td>499.0</td>\n      <td>37.0</td>\n      <td>164689383.0</td>\n      <td>7.0</td>\n    </tr>\n    <tr>\n      <th>...</th>\n      <td>...</td>\n      <td>...</td>\n      <td>...</td>\n      <td>...</td>\n      <td>...</td>\n      <td>...</td>\n      <td>...</td>\n      <td>...</td>\n      <td>...</td>\n      <td>...</td>\n      <td>...</td>\n    </tr>\n    <tr>\n      <th>41920</th>\n      <td>6406.0</td>\n      <td>18.0</td>\n      <td>73.286</td>\n      <td>196.0</td>\n      <td>1.0</td>\n      <td>6.143</td>\n      <td>602.0</td>\n      <td>98988.0</td>\n      <td>1063.0</td>\n      <td>14862927.0</td>\n      <td>18.0</td>\n    </tr>\n    <tr>\n      <th>41921</th>\n      <td>6412.0</td>\n      <td>6.0</td>\n      <td>68.857</td>\n      <td>196.0</td>\n      <td>0.0</td>\n      <td>5.857</td>\n      <td>836.0</td>\n      <td>99824.0</td>\n      <td>1072.0</td>\n      <td>14862927.0</td>\n      <td>6.0</td>\n    </tr>\n    <tr>\n      <th>41922</th>\n      <td>6497.0</td>\n      <td>85.0</td>\n      <td>61.000</td>\n      <td>202.0</td>\n      <td>6.0</td>\n      <td>6.714</td>\n      <td>1013.0</td>\n      <td>100837.0</td>\n      <td>992.0</td>\n      <td>14862927.0</td>\n      <td>85.0</td>\n    </tr>\n    <tr>\n      <th>41923</th>\n      <td>6559.0</td>\n      <td>62.0</td>\n      <td>51.857</td>\n      <td>203.0</td>\n      <td>1.0</td>\n      <td>5.286</td>\n      <td>939.0</td>\n      <td>101776.0</td>\n      <td>1001.0</td>\n      <td>14862927.0</td>\n      <td>62.0</td>\n    </tr>\n    <tr>\n      <th>41924</th>\n      <td>6638.0</td>\n      <td>79.0</td>\n      <td>55.286</td>\n      <td>206.0</td>\n      <td>3.0</td>\n      <td>3.857</td>\n      <td>1095.0</td>\n      <td>102871.0</td>\n      <td>1021.0</td>\n      <td>14862927.0</td>\n      <td>79.0</td>\n    </tr>\n  </tbody>\n</table>\n<p>3176 rows × 11 columns</p>\n</div>"
     },
     "metadata": {},
     "execution_count": 115
    }
   ],
   "source": [
    "clean_df(path=\"https://covid.ourworldindata.org/data/owid-covid-data.csv\") #target column is new_cases"
   ]
  },
  {
   "cell_type": "markdown",
   "metadata": {},
   "source": [
    "--------"
   ]
  }
 ]
}