{
 "metadata": {
  "language_info": {
   "codemirror_mode": {
    "name": "ipython",
    "version": 3
   },
   "file_extension": ".py",
   "mimetype": "text/x-python",
   "name": "python",
   "nbconvert_exporter": "python",
   "pygments_lexer": "ipython3",
   "version": "3.8.3-final"
  },
  "orig_nbformat": 2,
  "kernelspec": {
   "name": "python_defaultSpec_1600001457229",
   "display_name": "Python 3.8.3 64-bit"
  }
 },
 "nbformat": 4,
 "nbformat_minor": 2,
 "cells": [
  {
   "cell_type": "code",
   "execution_count": 49,
   "metadata": {},
   "outputs": [],
   "source": [
    "import pandas as pd\n",
    "import numpy as np\n",
    "#from sklearn import linear_model\n",
    "from sklearn.linear_model import LogisticRegression\n",
    "from sklearn.model_selection import train_test_split\n",
    "from sklearn import preprocessing\n",
    "from sklearn.preprocessing import OneHotEncoder\n",
    "\n",
    "from sklearn.neighbors import KNeighborsClassifier\n",
    "from sklearn.metrics import r2_score, mean_absolute_error\n",
    "from sklearn.model_selection import KFold\n",
    "from sklearn.model_selection import train_test_split\n",
    "from sklearn.linear_model import LogisticRegression\n",
    "from sklearn import svm\n",
    "from sklearn.model_selection import GridSearchCV\n",
    "from sklearn.tree import DecisionTreeRegressor\n",
    "from sklearn.ensemble import RandomForestRegressor\n",
    "from sklearn.model_selection import cross_val_score\n",
    "from sklearn.model_selection import RepeatedStratifiedKFold, RepeatedKFold\n",
    "from sklearn.ensemble import RandomForestClassifier\n",
    "from sklearn import model_selection\n",
    "import matplotlib.pyplot as plt\n",
    "\n",
    "\n",
    "import warnings\n",
    "warnings.filterwarnings('ignore')"
   ]
  },
  {
   "cell_type": "code",
   "execution_count": 144,
   "metadata": {},
   "outputs": [],
   "source": [
    "df = pd.read_csv(\"C:\\\\Users\\\\Roxan\\\\OneDrive\\\\Documentos\\\\My_map_2\\\\Data-science-bootcamp\\\\Curso\\\\week_9\\\\day5\\\\train_set.csv\") "
   ]
  },
  {
   "cell_type": "code",
   "execution_count": 145,
   "metadata": {},
   "outputs": [],
   "source": [
    "df.drop([\"0\", \"10\", \"11\"],1, inplace=True )"
   ]
  },
  {
   "cell_type": "code",
   "execution_count": 146,
   "metadata": {},
   "outputs": [],
   "source": [
    "df[\"9\"] = df[\"9\"].fillna(value=0)"
   ]
  },
  {
   "cell_type": "code",
   "execution_count": 147,
   "metadata": {
    "tags": []
   },
   "outputs": [
    {
     "output_type": "stream",
     "name": "stdout",
     "text": "Index(['2', '4', '6', '7', '8', '12', '13', '15'], dtype='object')\n"
    }
   ],
   "source": [
    "df_data = df.drop(\"17\", 1)\n",
    "from sklearn.preprocessing import LabelEncoder\n",
    "\n",
    "objList = df_data.select_dtypes(include = \"object\").columns\n",
    "print (objList)\n",
    "le = LabelEncoder()\n",
    "\n",
    "for feat in objList:\n",
    "    df_data[feat] = le.fit_transform(df_data[feat].astype(str))"
   ]
  },
  {
   "cell_type": "code",
   "execution_count": 148,
   "metadata": {},
   "outputs": [
    {
     "output_type": "execute_result",
     "data": {
      "text/plain": "        1  2   3  4  5  6  7  8    9  12  13  14  15      16\n0       6  0   6  0  2  2  2  5  4.0   2   2   2   2  2817.0\n1      23  0   6  0  4  2  1  5  2.0   1   2   4   5  4498.0\n2       2  2   5  2  2  1  3  5  3.0   2   2   2   7  4573.0\n3      32  5   9  1  3  2  3  1  4.0   0   2   4   1  7202.0\n4      14  0   1  0  3  2  3  4  2.0   2   2   2   5  3398.0\n...    .. ..  .. .. .. .. .. ..  ...  ..  ..  ..  ..     ...\n99995  12  0   9  1  3  2  2  1  3.0   0   2   6   5  3966.0\n99996  28  1  11  0  2  2  2  5  2.0   2   2   3   2  4005.0\n99997   6  0   6  0  3  2  1  5  3.0   1   1   2   3  5215.0\n99998  32  5   9  1  2  2  3  1  4.0   1   2   3   4  5092.0\n99999  25  4   1  0  3  2  1  4  2.0   0   2   2   4  3390.0\n\n[100000 rows x 14 columns]",
      "text/html": "<div>\n<style scoped>\n    .dataframe tbody tr th:only-of-type {\n        vertical-align: middle;\n    }\n\n    .dataframe tbody tr th {\n        vertical-align: top;\n    }\n\n    .dataframe thead th {\n        text-align: right;\n    }\n</style>\n<table border=\"1\" class=\"dataframe\">\n  <thead>\n    <tr style=\"text-align: right;\">\n      <th></th>\n      <th>1</th>\n      <th>2</th>\n      <th>3</th>\n      <th>4</th>\n      <th>5</th>\n      <th>6</th>\n      <th>7</th>\n      <th>8</th>\n      <th>9</th>\n      <th>12</th>\n      <th>13</th>\n      <th>14</th>\n      <th>15</th>\n      <th>16</th>\n    </tr>\n  </thead>\n  <tbody>\n    <tr>\n      <th>0</th>\n      <td>6</td>\n      <td>0</td>\n      <td>6</td>\n      <td>0</td>\n      <td>2</td>\n      <td>2</td>\n      <td>2</td>\n      <td>5</td>\n      <td>4.0</td>\n      <td>2</td>\n      <td>2</td>\n      <td>2</td>\n      <td>2</td>\n      <td>2817.0</td>\n    </tr>\n    <tr>\n      <th>1</th>\n      <td>23</td>\n      <td>0</td>\n      <td>6</td>\n      <td>0</td>\n      <td>4</td>\n      <td>2</td>\n      <td>1</td>\n      <td>5</td>\n      <td>2.0</td>\n      <td>1</td>\n      <td>2</td>\n      <td>4</td>\n      <td>5</td>\n      <td>4498.0</td>\n    </tr>\n    <tr>\n      <th>2</th>\n      <td>2</td>\n      <td>2</td>\n      <td>5</td>\n      <td>2</td>\n      <td>2</td>\n      <td>1</td>\n      <td>3</td>\n      <td>5</td>\n      <td>3.0</td>\n      <td>2</td>\n      <td>2</td>\n      <td>2</td>\n      <td>7</td>\n      <td>4573.0</td>\n    </tr>\n    <tr>\n      <th>3</th>\n      <td>32</td>\n      <td>5</td>\n      <td>9</td>\n      <td>1</td>\n      <td>3</td>\n      <td>2</td>\n      <td>3</td>\n      <td>1</td>\n      <td>4.0</td>\n      <td>0</td>\n      <td>2</td>\n      <td>4</td>\n      <td>1</td>\n      <td>7202.0</td>\n    </tr>\n    <tr>\n      <th>4</th>\n      <td>14</td>\n      <td>0</td>\n      <td>1</td>\n      <td>0</td>\n      <td>3</td>\n      <td>2</td>\n      <td>3</td>\n      <td>4</td>\n      <td>2.0</td>\n      <td>2</td>\n      <td>2</td>\n      <td>2</td>\n      <td>5</td>\n      <td>3398.0</td>\n    </tr>\n    <tr>\n      <th>...</th>\n      <td>...</td>\n      <td>...</td>\n      <td>...</td>\n      <td>...</td>\n      <td>...</td>\n      <td>...</td>\n      <td>...</td>\n      <td>...</td>\n      <td>...</td>\n      <td>...</td>\n      <td>...</td>\n      <td>...</td>\n      <td>...</td>\n      <td>...</td>\n    </tr>\n    <tr>\n      <th>99995</th>\n      <td>12</td>\n      <td>0</td>\n      <td>9</td>\n      <td>1</td>\n      <td>3</td>\n      <td>2</td>\n      <td>2</td>\n      <td>1</td>\n      <td>3.0</td>\n      <td>0</td>\n      <td>2</td>\n      <td>6</td>\n      <td>5</td>\n      <td>3966.0</td>\n    </tr>\n    <tr>\n      <th>99996</th>\n      <td>28</td>\n      <td>1</td>\n      <td>11</td>\n      <td>0</td>\n      <td>2</td>\n      <td>2</td>\n      <td>2</td>\n      <td>5</td>\n      <td>2.0</td>\n      <td>2</td>\n      <td>2</td>\n      <td>3</td>\n      <td>2</td>\n      <td>4005.0</td>\n    </tr>\n    <tr>\n      <th>99997</th>\n      <td>6</td>\n      <td>0</td>\n      <td>6</td>\n      <td>0</td>\n      <td>3</td>\n      <td>2</td>\n      <td>1</td>\n      <td>5</td>\n      <td>3.0</td>\n      <td>1</td>\n      <td>1</td>\n      <td>2</td>\n      <td>3</td>\n      <td>5215.0</td>\n    </tr>\n    <tr>\n      <th>99998</th>\n      <td>32</td>\n      <td>5</td>\n      <td>9</td>\n      <td>1</td>\n      <td>2</td>\n      <td>2</td>\n      <td>3</td>\n      <td>1</td>\n      <td>4.0</td>\n      <td>1</td>\n      <td>2</td>\n      <td>3</td>\n      <td>4</td>\n      <td>5092.0</td>\n    </tr>\n    <tr>\n      <th>99999</th>\n      <td>25</td>\n      <td>4</td>\n      <td>1</td>\n      <td>0</td>\n      <td>3</td>\n      <td>2</td>\n      <td>1</td>\n      <td>4</td>\n      <td>2.0</td>\n      <td>0</td>\n      <td>2</td>\n      <td>2</td>\n      <td>4</td>\n      <td>3390.0</td>\n    </tr>\n  </tbody>\n</table>\n<p>100000 rows × 14 columns</p>\n</div>"
     },
     "metadata": {},
     "execution_count": 148
    }
   ],
   "source": [
    "df_data"
   ]
  },
  {
   "cell_type": "code",
   "execution_count": 166,
   "metadata": {},
   "outputs": [
    {
     "output_type": "execute_result",
     "data": {
      "text/plain": "(100000, 1)"
     },
     "metadata": {},
     "execution_count": 166
    }
   ],
   "source": [
    "X = df_data[[\"3\"]]\n",
    "y = df[\"17\"]\n",
    "X.shape"
   ]
  },
  {
   "cell_type": "code",
   "execution_count": 129,
   "metadata": {},
   "outputs": [
    {
     "output_type": "execute_result",
     "data": {
      "text/plain": "(100000,)"
     },
     "metadata": {},
     "execution_count": 129
    }
   ],
   "source": [
    "y.shape"
   ]
  },
  {
   "cell_type": "code",
   "execution_count": 110,
   "metadata": {},
   "outputs": [],
   "source": [
    "X_train, X_test, y_train, y_test = train_test_split(X, y, test_size=0.20)"
   ]
  },
  {
   "cell_type": "code",
   "execution_count": 95,
   "metadata": {},
   "outputs": [],
   "source": [
    "from sklearn import linear_model\n"
   ]
  },
  {
   "cell_type": "code",
   "execution_count": 96,
   "metadata": {},
   "outputs": [],
   "source": [
    "X_train_small = X_train[:1000]\n",
    "y_train_small = y_train[:1000]"
   ]
  },
  {
   "cell_type": "code",
   "execution_count": 23,
   "metadata": {
    "tags": []
   },
   "outputs": [
    {
     "output_type": "stream",
     "name": "stdout",
     "text": "Fitting 5 folds for each of 252 candidates, totalling 1260 fits\n[Parallel(n_jobs=-1)]: Using backend LokyBackend with 8 concurrent workers.\n[Parallel(n_jobs=-1)]: Done   2 tasks      | elapsed:    4.6s\n[Parallel(n_jobs=-1)]: Done   9 tasks      | elapsed:    4.8s\n[Parallel(n_jobs=-1)]: Done  16 tasks      | elapsed:    5.4s\n[Parallel(n_jobs=-1)]: Done  25 tasks      | elapsed:    6.5s\n[Parallel(n_jobs=-1)]: Done  34 tasks      | elapsed:    7.2s\n[Parallel(n_jobs=-1)]: Done  45 tasks      | elapsed:    8.3s\n[Parallel(n_jobs=-1)]: Done  56 tasks      | elapsed:    9.6s\n[Parallel(n_jobs=-1)]: Done  69 tasks      | elapsed:   16.2s\n[Parallel(n_jobs=-1)]: Done  82 tasks      | elapsed:   17.2s\n[Parallel(n_jobs=-1)]: Done  97 tasks      | elapsed:   18.7s\n[Parallel(n_jobs=-1)]: Done 112 tasks      | elapsed:   20.3s\n[Parallel(n_jobs=-1)]: Done 129 tasks      | elapsed:   24.2s\n[Parallel(n_jobs=-1)]: Done 146 tasks      | elapsed:   26.2s\n[Parallel(n_jobs=-1)]: Done 165 tasks      | elapsed:   28.0s\n[Parallel(n_jobs=-1)]: Done 184 tasks      | elapsed:   29.8s\n[Parallel(n_jobs=-1)]: Done 205 tasks      | elapsed:   34.7s\n[Parallel(n_jobs=-1)]: Done 226 tasks      | elapsed:   36.6s\n[Parallel(n_jobs=-1)]: Done 249 tasks      | elapsed:   57.2s\n[Parallel(n_jobs=-1)]: Done 272 tasks      | elapsed:   60.0s\n[Parallel(n_jobs=-1)]: Done 297 tasks      | elapsed:  1.1min\n[Parallel(n_jobs=-1)]: Done 322 tasks      | elapsed:  1.1min\n[Parallel(n_jobs=-1)]: Done 349 tasks      | elapsed:  1.2min\n[Parallel(n_jobs=-1)]: Done 376 tasks      | elapsed:  1.6min\n[Parallel(n_jobs=-1)]: Done 405 tasks      | elapsed:  1.7min\n[Parallel(n_jobs=-1)]: Done 434 tasks      | elapsed:  1.9min\n[Parallel(n_jobs=-1)]: Done 465 tasks      | elapsed:  1.9min\n[Parallel(n_jobs=-1)]: Done 496 tasks      | elapsed:  2.3min\n[Parallel(n_jobs=-1)]: Done 529 tasks      | elapsed:  2.4min\n[Parallel(n_jobs=-1)]: Done 562 tasks      | elapsed:  2.8min\n[Parallel(n_jobs=-1)]: Done 597 tasks      | elapsed:  2.8min\n[Parallel(n_jobs=-1)]: Done 632 tasks      | elapsed:  3.1min\n[Parallel(n_jobs=-1)]: Done 669 tasks      | elapsed:  3.5min\n[Parallel(n_jobs=-1)]: Done 706 tasks      | elapsed:  3.6min\n[Parallel(n_jobs=-1)]: Done 745 tasks      | elapsed:  3.9min\n[Parallel(n_jobs=-1)]: Done 784 tasks      | elapsed:  4.0min\n[Parallel(n_jobs=-1)]: Done 825 tasks      | elapsed:  4.4min\n[Parallel(n_jobs=-1)]: Done 866 tasks      | elapsed:  4.7min\n[Parallel(n_jobs=-1)]: Done 909 tasks      | elapsed:  5.1min\n[Parallel(n_jobs=-1)]: Done 952 tasks      | elapsed:  5.2min\n[Parallel(n_jobs=-1)]: Done 997 tasks      | elapsed:  5.4min\n[Parallel(n_jobs=-1)]: Done 1042 tasks      | elapsed:  5.8min\n[Parallel(n_jobs=-1)]: Done 1089 tasks      | elapsed:  6.0min\n[Parallel(n_jobs=-1)]: Done 1136 tasks      | elapsed:  6.1min\n[Parallel(n_jobs=-1)]: Done 1185 tasks      | elapsed:  6.5min\n[Parallel(n_jobs=-1)]: Done 1234 tasks      | elapsed:  6.7min\n[Parallel(n_jobs=-1)]: Done 1260 out of 1260 | elapsed:  7.0min finished\n"
    },
    {
     "output_type": "execute_result",
     "data": {
      "text/plain": "LogisticRegression(C=100.0, max_iter=50, penalty='l1', solver='liblinear')"
     },
     "metadata": {},
     "execution_count": 23
    }
   ],
   "source": [
    "from sklearn.model_selection import GridSearchCV\n",
    "\n",
    "new_model = LogisticRegression()\n",
    "\n",
    "\n",
    "param_grid = [\n",
    "    {'penalty' : ['l1', '12',  'elasticnet'],\n",
    "    'C' : np.logspace(-3, 3, 7, 50),\n",
    "    'solver' : ['newton-cg', 'lbfgs', 'liblinear', 'sag'],\n",
    "    'max_iter' : [50, 100, 200]}\n",
    "]\n",
    "\n",
    "clf = GridSearchCV(new_model, param_grid=param_grid, n_jobs=-1, verbose=10\n",
    "\n",
    ")\n",
    "\n",
    "best_clf = clf.fit(X_train, y_train)\n",
    "best_clf.best_estimator_"
   ]
  },
  {
   "cell_type": "code",
   "execution_count": 97,
   "metadata": {},
   "outputs": [],
   "source": [
    "model = RandomForestClassifier(n_estimators=200, bootstrap=False, criterion='entropy', max_depth=6,\n",
    "                       max_features='log2', n_jobs=-1)"
   ]
  },
  {
   "cell_type": "code",
   "execution_count": 24,
   "metadata": {},
   "outputs": [
    {
     "output_type": "execute_result",
     "data": {
      "text/plain": "(6480, 14)"
     },
     "metadata": {},
     "execution_count": 24
    }
   ],
   "source": [
    "X_test.shape"
   ]
  },
  {
   "cell_type": "code",
   "execution_count": 164,
   "metadata": {},
   "outputs": [],
   "source": [
    "#model = LogisticRegression(C=100.0, max_iter=50, penalty='l1', solver='liblinear')\n",
    "model = LogisticRegression(C=1.7575106248547894, penalty='l1', solver='liblinear')"
   ]
  },
  {
   "cell_type": "code",
   "execution_count": 10,
   "metadata": {
    "tags": []
   },
   "outputs": [],
   "source": [
    "from sklearn.model_selection import GridSearchCV\n",
    "\n",
    "k_fold = KFold(n_splits=100, random_state=1)\n",
    "val_score = []\n",
    "train_score = []\n",
    "# define the model\n",
    "model = LogisticRegression(C=1.7575106248547894, penalty='l1', solver='liblinear')\n",
    "\n",
    "for train_index, test_index in k_fold.split(X_train):\n",
    "    # Split train-test\n",
    "    X_train, X_test = X.iloc[train_index], X.iloc[test_index]\n",
    "    y_train, y_test = y[train_index], y[test_index]\n",
    "    # Train the model\n",
    "    #model.fit(X_train, y_train)"
   ]
  },
  {
   "cell_type": "code",
   "execution_count": 167,
   "metadata": {},
   "outputs": [
    {
     "output_type": "execute_result",
     "data": {
      "text/plain": "LogisticRegression(C=1.7575106248547894, penalty='l1', solver='liblinear')"
     },
     "metadata": {},
     "execution_count": 167
    }
   ],
   "source": [
    "model.fit(X, y)"
   ]
  },
  {
   "cell_type": "code",
   "execution_count": 168,
   "metadata": {
    "tags": []
   },
   "outputs": [
    {
     "output_type": "execute_result",
     "data": {
      "text/plain": "0.2703"
     },
     "metadata": {},
     "execution_count": 168
    }
   ],
   "source": [
    "model.score(X,y)"
   ]
  },
  {
   "cell_type": "code",
   "execution_count": null,
   "metadata": {},
   "outputs": [],
   "source": []
  },
  {
   "cell_type": "code",
   "execution_count": 169,
   "metadata": {},
   "outputs": [],
   "source": [
    "full_to_pred = pd.read_csv(\"C:\\\\Users\\\\Roxan\\\\OneDrive\\\\Documentos\\\\My_map_2\\\\Data-science-bootcamp\\\\Curso\\\\week_9\\\\day5\\\\test_set.csv\")\n",
    "\n"
   ]
  },
  {
   "cell_type": "code",
   "execution_count": 170,
   "metadata": {},
   "outputs": [
    {
     "output_type": "execute_result",
     "data": {
      "text/plain": "             0   1  2   3  4  5                   6  7  8    9      10    11  \\\n0       314114  19  a   7  Y  4          gynecology  S  C  2.0   59278   8.0   \n1       208989  15  c   5  Z  3          gynecology  S  F  2.0  102253  15.0   \n2       305872  17  e   1  X  4          gynecology  R  E  4.0    5828   4.0   \n3       266099   3  c   3  Z  4  TB & Chest disease  R  A  2.0   56642   9.0   \n4        13228   6  a   6  X  4          gynecology  R  F  1.0  116266   8.0   \n...        ...  .. ..  .. .. ..                 ... .. ..  ...     ...   ...   \n133739  318155  18  d  13  Y  6          anesthesia  Q  B  3.0  123269  25.0   \n133740  144850  27  a   7  Y  2          gynecology  S  C  2.0    1293   8.0   \n133741  180676  16  c   3  Z  3          gynecology  R  A  3.0  112921   5.0   \n133742   39933  28  b  11  X  4          gynecology  R  F  2.0     585   2.0   \n133743  116673   6  a   6  X  4  TB & Chest disease  Q  F  2.0  119482  12.0   \n\n               12        13  14     15      16  \n0       Emergency     Minor   2  41-50  4778.0  \n1          Trauma  Moderate   3  31-40  5734.0  \n2       Emergency     Minor   3  71-80  5064.0  \n3          Urgent   Extreme   4  31-40  3254.0  \n4       Emergency     Minor   3  21-30  4639.0  \n...           ...       ...  ..    ...     ...  \n133739     Urgent     Minor   4  51-60  5089.0  \n133740  Emergency  Moderate   3  61-70  6713.0  \n133741     Trauma     Minor   3  31-40  5326.0  \n133742     Trauma   Extreme   2  31-40  7072.0  \n133743     Trauma  Moderate   4  51-60  5221.0  \n\n[133744 rows x 17 columns]",
      "text/html": "<div>\n<style scoped>\n    .dataframe tbody tr th:only-of-type {\n        vertical-align: middle;\n    }\n\n    .dataframe tbody tr th {\n        vertical-align: top;\n    }\n\n    .dataframe thead th {\n        text-align: right;\n    }\n</style>\n<table border=\"1\" class=\"dataframe\">\n  <thead>\n    <tr style=\"text-align: right;\">\n      <th></th>\n      <th>0</th>\n      <th>1</th>\n      <th>2</th>\n      <th>3</th>\n      <th>4</th>\n      <th>5</th>\n      <th>6</th>\n      <th>7</th>\n      <th>8</th>\n      <th>9</th>\n      <th>10</th>\n      <th>11</th>\n      <th>12</th>\n      <th>13</th>\n      <th>14</th>\n      <th>15</th>\n      <th>16</th>\n    </tr>\n  </thead>\n  <tbody>\n    <tr>\n      <th>0</th>\n      <td>314114</td>\n      <td>19</td>\n      <td>a</td>\n      <td>7</td>\n      <td>Y</td>\n      <td>4</td>\n      <td>gynecology</td>\n      <td>S</td>\n      <td>C</td>\n      <td>2.0</td>\n      <td>59278</td>\n      <td>8.0</td>\n      <td>Emergency</td>\n      <td>Minor</td>\n      <td>2</td>\n      <td>41-50</td>\n      <td>4778.0</td>\n    </tr>\n    <tr>\n      <th>1</th>\n      <td>208989</td>\n      <td>15</td>\n      <td>c</td>\n      <td>5</td>\n      <td>Z</td>\n      <td>3</td>\n      <td>gynecology</td>\n      <td>S</td>\n      <td>F</td>\n      <td>2.0</td>\n      <td>102253</td>\n      <td>15.0</td>\n      <td>Trauma</td>\n      <td>Moderate</td>\n      <td>3</td>\n      <td>31-40</td>\n      <td>5734.0</td>\n    </tr>\n    <tr>\n      <th>2</th>\n      <td>305872</td>\n      <td>17</td>\n      <td>e</td>\n      <td>1</td>\n      <td>X</td>\n      <td>4</td>\n      <td>gynecology</td>\n      <td>R</td>\n      <td>E</td>\n      <td>4.0</td>\n      <td>5828</td>\n      <td>4.0</td>\n      <td>Emergency</td>\n      <td>Minor</td>\n      <td>3</td>\n      <td>71-80</td>\n      <td>5064.0</td>\n    </tr>\n    <tr>\n      <th>3</th>\n      <td>266099</td>\n      <td>3</td>\n      <td>c</td>\n      <td>3</td>\n      <td>Z</td>\n      <td>4</td>\n      <td>TB &amp; Chest disease</td>\n      <td>R</td>\n      <td>A</td>\n      <td>2.0</td>\n      <td>56642</td>\n      <td>9.0</td>\n      <td>Urgent</td>\n      <td>Extreme</td>\n      <td>4</td>\n      <td>31-40</td>\n      <td>3254.0</td>\n    </tr>\n    <tr>\n      <th>4</th>\n      <td>13228</td>\n      <td>6</td>\n      <td>a</td>\n      <td>6</td>\n      <td>X</td>\n      <td>4</td>\n      <td>gynecology</td>\n      <td>R</td>\n      <td>F</td>\n      <td>1.0</td>\n      <td>116266</td>\n      <td>8.0</td>\n      <td>Emergency</td>\n      <td>Minor</td>\n      <td>3</td>\n      <td>21-30</td>\n      <td>4639.0</td>\n    </tr>\n    <tr>\n      <th>...</th>\n      <td>...</td>\n      <td>...</td>\n      <td>...</td>\n      <td>...</td>\n      <td>...</td>\n      <td>...</td>\n      <td>...</td>\n      <td>...</td>\n      <td>...</td>\n      <td>...</td>\n      <td>...</td>\n      <td>...</td>\n      <td>...</td>\n      <td>...</td>\n      <td>...</td>\n      <td>...</td>\n      <td>...</td>\n    </tr>\n    <tr>\n      <th>133739</th>\n      <td>318155</td>\n      <td>18</td>\n      <td>d</td>\n      <td>13</td>\n      <td>Y</td>\n      <td>6</td>\n      <td>anesthesia</td>\n      <td>Q</td>\n      <td>B</td>\n      <td>3.0</td>\n      <td>123269</td>\n      <td>25.0</td>\n      <td>Urgent</td>\n      <td>Minor</td>\n      <td>4</td>\n      <td>51-60</td>\n      <td>5089.0</td>\n    </tr>\n    <tr>\n      <th>133740</th>\n      <td>144850</td>\n      <td>27</td>\n      <td>a</td>\n      <td>7</td>\n      <td>Y</td>\n      <td>2</td>\n      <td>gynecology</td>\n      <td>S</td>\n      <td>C</td>\n      <td>2.0</td>\n      <td>1293</td>\n      <td>8.0</td>\n      <td>Emergency</td>\n      <td>Moderate</td>\n      <td>3</td>\n      <td>61-70</td>\n      <td>6713.0</td>\n    </tr>\n    <tr>\n      <th>133741</th>\n      <td>180676</td>\n      <td>16</td>\n      <td>c</td>\n      <td>3</td>\n      <td>Z</td>\n      <td>3</td>\n      <td>gynecology</td>\n      <td>R</td>\n      <td>A</td>\n      <td>3.0</td>\n      <td>112921</td>\n      <td>5.0</td>\n      <td>Trauma</td>\n      <td>Minor</td>\n      <td>3</td>\n      <td>31-40</td>\n      <td>5326.0</td>\n    </tr>\n    <tr>\n      <th>133742</th>\n      <td>39933</td>\n      <td>28</td>\n      <td>b</td>\n      <td>11</td>\n      <td>X</td>\n      <td>4</td>\n      <td>gynecology</td>\n      <td>R</td>\n      <td>F</td>\n      <td>2.0</td>\n      <td>585</td>\n      <td>2.0</td>\n      <td>Trauma</td>\n      <td>Extreme</td>\n      <td>2</td>\n      <td>31-40</td>\n      <td>7072.0</td>\n    </tr>\n    <tr>\n      <th>133743</th>\n      <td>116673</td>\n      <td>6</td>\n      <td>a</td>\n      <td>6</td>\n      <td>X</td>\n      <td>4</td>\n      <td>TB &amp; Chest disease</td>\n      <td>Q</td>\n      <td>F</td>\n      <td>2.0</td>\n      <td>119482</td>\n      <td>12.0</td>\n      <td>Trauma</td>\n      <td>Moderate</td>\n      <td>4</td>\n      <td>51-60</td>\n      <td>5221.0</td>\n    </tr>\n  </tbody>\n</table>\n<p>133744 rows × 17 columns</p>\n</div>"
     },
     "metadata": {},
     "execution_count": 170
    }
   ],
   "source": [
    "to_pred = full_to_pred.copy()\n",
    "to_pred"
   ]
  },
  {
   "cell_type": "code",
   "execution_count": 171,
   "metadata": {},
   "outputs": [],
   "source": [
    "to_pred.drop([\"0\", \"10\", \"11\"],1, inplace=True )\n",
    "to_pred[\"9\"] = to_pred[\"9\"].fillna(value=0)"
   ]
  },
  {
   "cell_type": "code",
   "execution_count": 172,
   "metadata": {
    "tags": []
   },
   "outputs": [
    {
     "output_type": "stream",
     "name": "stdout",
     "text": "Index(['2', '4', '6', '7', '8', '12', '13', '15'], dtype='object')\n"
    }
   ],
   "source": [
    "objList = to_pred.select_dtypes(include = \"object\").columns\n",
    "print (objList)\n",
    "le = LabelEncoder()\n",
    "\n",
    "for feat in objList:\n",
    "    to_pred[feat] = le.fit_transform(to_pred[feat].astype(str))"
   ]
  },
  {
   "cell_type": "code",
   "execution_count": 157,
   "metadata": {},
   "outputs": [
    {
     "output_type": "execute_result",
     "data": {
      "text/plain": "         1  2   3  4  5  6  7  8    9  12  13  14  15      16\n0       19  0   7  1  4  2  3  2  2.0   0   1   2   4  4778.0\n1       15  2   5  2  3  2  3  5  2.0   1   2   3   3  5734.0\n2       17  4   1  0  4  2  2  4  4.0   0   1   3   7  5064.0\n3        3  2   3  2  4  0  2  0  2.0   2   0   4   3  3254.0\n4        6  0   6  0  4  2  2  5  1.0   0   1   3   2  4639.0\n...     .. ..  .. .. .. .. .. ..  ...  ..  ..  ..  ..     ...\n133739  18  3  13  1  6  1  1  1  3.0   2   1   4   5  5089.0\n133740  27  0   7  1  2  2  3  2  2.0   0   2   3   6  6713.0\n133741  16  2   3  2  3  2  2  0  3.0   1   1   3   3  5326.0\n133742  28  1  11  0  4  2  2  5  2.0   1   0   2   3  7072.0\n133743   6  0   6  0  4  0  1  5  2.0   1   2   4   5  5221.0\n\n[133744 rows x 14 columns]",
      "text/html": "<div>\n<style scoped>\n    .dataframe tbody tr th:only-of-type {\n        vertical-align: middle;\n    }\n\n    .dataframe tbody tr th {\n        vertical-align: top;\n    }\n\n    .dataframe thead th {\n        text-align: right;\n    }\n</style>\n<table border=\"1\" class=\"dataframe\">\n  <thead>\n    <tr style=\"text-align: right;\">\n      <th></th>\n      <th>1</th>\n      <th>2</th>\n      <th>3</th>\n      <th>4</th>\n      <th>5</th>\n      <th>6</th>\n      <th>7</th>\n      <th>8</th>\n      <th>9</th>\n      <th>12</th>\n      <th>13</th>\n      <th>14</th>\n      <th>15</th>\n      <th>16</th>\n    </tr>\n  </thead>\n  <tbody>\n    <tr>\n      <th>0</th>\n      <td>19</td>\n      <td>0</td>\n      <td>7</td>\n      <td>1</td>\n      <td>4</td>\n      <td>2</td>\n      <td>3</td>\n      <td>2</td>\n      <td>2.0</td>\n      <td>0</td>\n      <td>1</td>\n      <td>2</td>\n      <td>4</td>\n      <td>4778.0</td>\n    </tr>\n    <tr>\n      <th>1</th>\n      <td>15</td>\n      <td>2</td>\n      <td>5</td>\n      <td>2</td>\n      <td>3</td>\n      <td>2</td>\n      <td>3</td>\n      <td>5</td>\n      <td>2.0</td>\n      <td>1</td>\n      <td>2</td>\n      <td>3</td>\n      <td>3</td>\n      <td>5734.0</td>\n    </tr>\n    <tr>\n      <th>2</th>\n      <td>17</td>\n      <td>4</td>\n      <td>1</td>\n      <td>0</td>\n      <td>4</td>\n      <td>2</td>\n      <td>2</td>\n      <td>4</td>\n      <td>4.0</td>\n      <td>0</td>\n      <td>1</td>\n      <td>3</td>\n      <td>7</td>\n      <td>5064.0</td>\n    </tr>\n    <tr>\n      <th>3</th>\n      <td>3</td>\n      <td>2</td>\n      <td>3</td>\n      <td>2</td>\n      <td>4</td>\n      <td>0</td>\n      <td>2</td>\n      <td>0</td>\n      <td>2.0</td>\n      <td>2</td>\n      <td>0</td>\n      <td>4</td>\n      <td>3</td>\n      <td>3254.0</td>\n    </tr>\n    <tr>\n      <th>4</th>\n      <td>6</td>\n      <td>0</td>\n      <td>6</td>\n      <td>0</td>\n      <td>4</td>\n      <td>2</td>\n      <td>2</td>\n      <td>5</td>\n      <td>1.0</td>\n      <td>0</td>\n      <td>1</td>\n      <td>3</td>\n      <td>2</td>\n      <td>4639.0</td>\n    </tr>\n    <tr>\n      <th>...</th>\n      <td>...</td>\n      <td>...</td>\n      <td>...</td>\n      <td>...</td>\n      <td>...</td>\n      <td>...</td>\n      <td>...</td>\n      <td>...</td>\n      <td>...</td>\n      <td>...</td>\n      <td>...</td>\n      <td>...</td>\n      <td>...</td>\n      <td>...</td>\n    </tr>\n    <tr>\n      <th>133739</th>\n      <td>18</td>\n      <td>3</td>\n      <td>13</td>\n      <td>1</td>\n      <td>6</td>\n      <td>1</td>\n      <td>1</td>\n      <td>1</td>\n      <td>3.0</td>\n      <td>2</td>\n      <td>1</td>\n      <td>4</td>\n      <td>5</td>\n      <td>5089.0</td>\n    </tr>\n    <tr>\n      <th>133740</th>\n      <td>27</td>\n      <td>0</td>\n      <td>7</td>\n      <td>1</td>\n      <td>2</td>\n      <td>2</td>\n      <td>3</td>\n      <td>2</td>\n      <td>2.0</td>\n      <td>0</td>\n      <td>2</td>\n      <td>3</td>\n      <td>6</td>\n      <td>6713.0</td>\n    </tr>\n    <tr>\n      <th>133741</th>\n      <td>16</td>\n      <td>2</td>\n      <td>3</td>\n      <td>2</td>\n      <td>3</td>\n      <td>2</td>\n      <td>2</td>\n      <td>0</td>\n      <td>3.0</td>\n      <td>1</td>\n      <td>1</td>\n      <td>3</td>\n      <td>3</td>\n      <td>5326.0</td>\n    </tr>\n    <tr>\n      <th>133742</th>\n      <td>28</td>\n      <td>1</td>\n      <td>11</td>\n      <td>0</td>\n      <td>4</td>\n      <td>2</td>\n      <td>2</td>\n      <td>5</td>\n      <td>2.0</td>\n      <td>1</td>\n      <td>0</td>\n      <td>2</td>\n      <td>3</td>\n      <td>7072.0</td>\n    </tr>\n    <tr>\n      <th>133743</th>\n      <td>6</td>\n      <td>0</td>\n      <td>6</td>\n      <td>0</td>\n      <td>4</td>\n      <td>0</td>\n      <td>1</td>\n      <td>5</td>\n      <td>2.0</td>\n      <td>1</td>\n      <td>2</td>\n      <td>4</td>\n      <td>5</td>\n      <td>5221.0</td>\n    </tr>\n  </tbody>\n</table>\n<p>133744 rows × 14 columns</p>\n</div>"
     },
     "metadata": {},
     "execution_count": 157
    }
   ],
   "source": [
    "to_pred"
   ]
  },
  {
   "cell_type": "code",
   "execution_count": 173,
   "metadata": {
    "tags": []
   },
   "outputs": [],
   "source": [
    "predictions = model.predict(to_pred[[\"3\"]]) \n"
   ]
  },
  {
   "cell_type": "code",
   "execution_count": 174,
   "metadata": {},
   "outputs": [
    {
     "output_type": "execute_result",
     "data": {
      "text/plain": "array(['21-30', '21-30', '21-30', ..., '21-30', '11-20', '21-30'],\n      dtype=object)"
     },
     "metadata": {},
     "execution_count": 174
    }
   ],
   "source": [
    "predictions"
   ]
  },
  {
   "cell_type": "code",
   "execution_count": 175,
   "metadata": {},
   "outputs": [
    {
     "output_type": "execute_result",
     "data": {
      "text/plain": "            id   days\n0       314114  21-30\n1       208989  21-30\n2       305872  21-30\n3       266099  21-30\n4        13228  21-30\n...        ...    ...\n133739  318155  11-20\n133740  144850  21-30\n133741  180676  21-30\n133742   39933  11-20\n133743  116673  21-30\n\n[133744 rows x 2 columns]",
      "text/html": "<div>\n<style scoped>\n    .dataframe tbody tr th:only-of-type {\n        vertical-align: middle;\n    }\n\n    .dataframe tbody tr th {\n        vertical-align: top;\n    }\n\n    .dataframe thead th {\n        text-align: right;\n    }\n</style>\n<table border=\"1\" class=\"dataframe\">\n  <thead>\n    <tr style=\"text-align: right;\">\n      <th></th>\n      <th>id</th>\n      <th>days</th>\n    </tr>\n  </thead>\n  <tbody>\n    <tr>\n      <th>0</th>\n      <td>314114</td>\n      <td>21-30</td>\n    </tr>\n    <tr>\n      <th>1</th>\n      <td>208989</td>\n      <td>21-30</td>\n    </tr>\n    <tr>\n      <th>2</th>\n      <td>305872</td>\n      <td>21-30</td>\n    </tr>\n    <tr>\n      <th>3</th>\n      <td>266099</td>\n      <td>21-30</td>\n    </tr>\n    <tr>\n      <th>4</th>\n      <td>13228</td>\n      <td>21-30</td>\n    </tr>\n    <tr>\n      <th>...</th>\n      <td>...</td>\n      <td>...</td>\n    </tr>\n    <tr>\n      <th>133739</th>\n      <td>318155</td>\n      <td>11-20</td>\n    </tr>\n    <tr>\n      <th>133740</th>\n      <td>144850</td>\n      <td>21-30</td>\n    </tr>\n    <tr>\n      <th>133741</th>\n      <td>180676</td>\n      <td>21-30</td>\n    </tr>\n    <tr>\n      <th>133742</th>\n      <td>39933</td>\n      <td>11-20</td>\n    </tr>\n    <tr>\n      <th>133743</th>\n      <td>116673</td>\n      <td>21-30</td>\n    </tr>\n  </tbody>\n</table>\n<p>133744 rows × 2 columns</p>\n</div>"
     },
     "metadata": {},
     "execution_count": 175
    }
   ],
   "source": [
    "submission = pd.DataFrame({\"id\": full_to_pred[\"0\"], \"days\": predictions})\n",
    "submission"
   ]
  },
  {
   "cell_type": "code",
   "execution_count": 176,
   "metadata": {},
   "outputs": [],
   "source": [
    "sample = pd.read_csv(\"C:\\\\Users\\\\Roxan\\\\OneDrive\\\\Documentos\\My_map_2\\\\Data-science-bootcamp\\\\Curso\\\\week_9\\\\day5\\\\sample_submission.csv\")"
   ]
  },
  {
   "cell_type": "code",
   "execution_count": 177,
   "metadata": {
    "tags": []
   },
   "outputs": [
    {
     "output_type": "stream",
     "name": "stdout",
     "text": "you're ready to submit!\n"
    }
   ],
   "source": [
    "if submission.shape == sample.shape:\n",
    "    if submission.columns.all() == sample.columns.all():\n",
    "        if submission.id.all() == sample.id.all():\n",
    "            print(\"you're ready to submit!\")\n",
    "            submission.to_csv(\"to_submit_21.csv\", index = False)\n",
    "            # ¡¡¡¡¡¡¡ADD INDEX = FALSE!!!!!!!!!"
   ]
  },
  {
   "cell_type": "code",
   "execution_count": null,
   "metadata": {},
   "outputs": [],
   "source": []
  },
  {
   "cell_type": "code",
   "execution_count": 44,
   "metadata": {},
   "outputs": [],
   "source": [
    "df = pd.read_csv(\"C:\\\\Users\\\\Roxan\\\\OneDrive\\\\Documentos\\\\My_map_2\\\\Data-science-bootcamp\\\\Curso\\\\week_9\\\\day5\\\\train_set.csv\") "
   ]
  },
  {
   "cell_type": "code",
   "execution_count": 45,
   "metadata": {},
   "outputs": [],
   "source": [
    "df.drop([\"0\", \"10\", \"11\"],1, inplace=True )"
   ]
  },
  {
   "cell_type": "code",
   "execution_count": 46,
   "metadata": {},
   "outputs": [],
   "source": [
    "df[\"9\"] = df[\"9\"].fillna(value=0)"
   ]
  },
  {
   "cell_type": "code",
   "execution_count": 47,
   "metadata": {
    "tags": []
   },
   "outputs": [
    {
     "output_type": "stream",
     "name": "stdout",
     "text": "Index(['2', '4', '6', '7', '8', '12', '13', '15'], dtype='object')\n"
    }
   ],
   "source": [
    "df_data = df.drop(\"17\", 1)\n",
    "from sklearn.preprocessing import LabelEncoder\n",
    "\n",
    "objList = df_data.select_dtypes(include = \"object\").columns\n",
    "print (objList)\n",
    "le = LabelEncoder()\n",
    "\n",
    "for feat in objList:\n",
    "    df_data[feat] = le.fit_transform(df_data[feat].astype(str))"
   ]
  },
  {
   "cell_type": "code",
   "execution_count": 34,
   "metadata": {},
   "outputs": [],
   "source": [
    "# target\n",
    "target = df[\"17\"]\n",
    "\n",
    "le = preprocessing.LabelEncoder()\n",
    "le_fit = le.fit(target)\n",
    "target_encoded = le_fit.transform(target)"
   ]
  },
  {
   "cell_type": "code",
   "execution_count": null,
   "metadata": {},
   "outputs": [],
   "source": []
  }
 ]
}