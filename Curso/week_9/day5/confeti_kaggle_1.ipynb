{
 "cells": [
  {
   "cell_type": "markdown",
   "metadata": {},
   "source": [
    "![image](how.png)"
   ]
  },
  {
   "cell_type": "markdown",
   "metadata": {},
   "source": [
    "**\"Should I Stay or Should i Go (from the Hospital)\"**"
   ]
  },
  {
   "cell_type": "code",
   "execution_count": 3,
   "metadata": {},
   "outputs": [],
   "source": [
    "import pandas as pd\n",
    "import numpy as np\n",
    "from sklearn import linear_model\n",
    "# la otra forma, pero lo mismo: from sklearn.linear_model import LogisticRegression\n",
    "from sklearn.model_selection import train_test_split\n",
    "\n",
    "import warnings\n",
    "warnings.filterwarnings('ignore')"
   ]
  },
  {
   "cell_type": "code",
   "execution_count": 2,
   "metadata": {},
   "outputs": [],
   "source": [
    "df = pd.read_csv(\"C:\\\\Users\\\\Roxan\\\\OneDrive\\\\Documentos\\\\My_map_2\\\\Data-science-bootcamp\\\\Curso\\\\week_9\\\\day5\\\\train_set.csv\") "
   ]
  },
  {
   "cell_type": "code",
   "execution_count": 3,
   "metadata": {
    "tags": []
   },
   "outputs": [
    {
     "output_type": "stream",
     "name": "stdout",
     "text": "<class 'pandas.core.frame.DataFrame'>\nRangeIndex: 100000 entries, 0 to 99999\nData columns (total 18 columns):\n #   Column  Non-Null Count   Dtype  \n---  ------  --------------   -----  \n 0   0       100000 non-null  int64  \n 1   1       100000 non-null  int64  \n 2   2       100000 non-null  object \n 3   3       100000 non-null  int64  \n 4   4       100000 non-null  object \n 5   5       100000 non-null  int64  \n 6   6       100000 non-null  object \n 7   7       100000 non-null  object \n 8   8       100000 non-null  object \n 9   9       99967 non-null   float64\n 10  10      100000 non-null  int64  \n 11  11      98517 non-null   float64\n 12  12      100000 non-null  object \n 13  13      100000 non-null  object \n 14  14      100000 non-null  int64  \n 15  15      100000 non-null  object \n 16  16      100000 non-null  float64\n 17  17      100000 non-null  object \ndtypes: float64(3), int64(6), object(9)\nmemory usage: 13.7+ MB\n"
    }
   ],
   "source": [
    "df.info()"
   ]
  },
  {
   "cell_type": "code",
   "execution_count": 4,
   "metadata": {},
   "outputs": [
    {
     "output_type": "execute_result",
     "data": {
      "text/plain": "        0   1  2  3  4  5           6  7  8    9      10    11         12  \\\n0  161528   6  a  6  X  2  gynecology  R  F  4.0   45810   2.0     Urgent   \n1  159472  23  a  6  X  4  gynecology  Q  F  2.0  128565  15.0     Trauma   \n2  309765   2  c  5  Z  2  anesthesia  S  F  3.0   46565   5.0     Urgent   \n3  279614  32  f  9  Y  3  gynecology  S  B  4.0  124546   6.0  Emergency   \n4  147791  14  a  1  X  3  gynecology  S  E  2.0   22729   8.0     Urgent   \n\n         13  14     15      16     17  \n0  Moderate   2  21-30  2817.0   0-10  \n1  Moderate   4  51-60  4498.0  21-30  \n2  Moderate   2  71-80  4573.0  11-20  \n3  Moderate   4  11-20  7202.0  51-60  \n4  Moderate   2  51-60  3398.0  51-60  ",
      "text/html": "<div>\n<style scoped>\n    .dataframe tbody tr th:only-of-type {\n        vertical-align: middle;\n    }\n\n    .dataframe tbody tr th {\n        vertical-align: top;\n    }\n\n    .dataframe thead th {\n        text-align: right;\n    }\n</style>\n<table border=\"1\" class=\"dataframe\">\n  <thead>\n    <tr style=\"text-align: right;\">\n      <th></th>\n      <th>0</th>\n      <th>1</th>\n      <th>2</th>\n      <th>3</th>\n      <th>4</th>\n      <th>5</th>\n      <th>6</th>\n      <th>7</th>\n      <th>8</th>\n      <th>9</th>\n      <th>10</th>\n      <th>11</th>\n      <th>12</th>\n      <th>13</th>\n      <th>14</th>\n      <th>15</th>\n      <th>16</th>\n      <th>17</th>\n    </tr>\n  </thead>\n  <tbody>\n    <tr>\n      <th>0</th>\n      <td>161528</td>\n      <td>6</td>\n      <td>a</td>\n      <td>6</td>\n      <td>X</td>\n      <td>2</td>\n      <td>gynecology</td>\n      <td>R</td>\n      <td>F</td>\n      <td>4.0</td>\n      <td>45810</td>\n      <td>2.0</td>\n      <td>Urgent</td>\n      <td>Moderate</td>\n      <td>2</td>\n      <td>21-30</td>\n      <td>2817.0</td>\n      <td>0-10</td>\n    </tr>\n    <tr>\n      <th>1</th>\n      <td>159472</td>\n      <td>23</td>\n      <td>a</td>\n      <td>6</td>\n      <td>X</td>\n      <td>4</td>\n      <td>gynecology</td>\n      <td>Q</td>\n      <td>F</td>\n      <td>2.0</td>\n      <td>128565</td>\n      <td>15.0</td>\n      <td>Trauma</td>\n      <td>Moderate</td>\n      <td>4</td>\n      <td>51-60</td>\n      <td>4498.0</td>\n      <td>21-30</td>\n    </tr>\n    <tr>\n      <th>2</th>\n      <td>309765</td>\n      <td>2</td>\n      <td>c</td>\n      <td>5</td>\n      <td>Z</td>\n      <td>2</td>\n      <td>anesthesia</td>\n      <td>S</td>\n      <td>F</td>\n      <td>3.0</td>\n      <td>46565</td>\n      <td>5.0</td>\n      <td>Urgent</td>\n      <td>Moderate</td>\n      <td>2</td>\n      <td>71-80</td>\n      <td>4573.0</td>\n      <td>11-20</td>\n    </tr>\n    <tr>\n      <th>3</th>\n      <td>279614</td>\n      <td>32</td>\n      <td>f</td>\n      <td>9</td>\n      <td>Y</td>\n      <td>3</td>\n      <td>gynecology</td>\n      <td>S</td>\n      <td>B</td>\n      <td>4.0</td>\n      <td>124546</td>\n      <td>6.0</td>\n      <td>Emergency</td>\n      <td>Moderate</td>\n      <td>4</td>\n      <td>11-20</td>\n      <td>7202.0</td>\n      <td>51-60</td>\n    </tr>\n    <tr>\n      <th>4</th>\n      <td>147791</td>\n      <td>14</td>\n      <td>a</td>\n      <td>1</td>\n      <td>X</td>\n      <td>3</td>\n      <td>gynecology</td>\n      <td>S</td>\n      <td>E</td>\n      <td>2.0</td>\n      <td>22729</td>\n      <td>8.0</td>\n      <td>Urgent</td>\n      <td>Moderate</td>\n      <td>2</td>\n      <td>51-60</td>\n      <td>3398.0</td>\n      <td>51-60</td>\n    </tr>\n  </tbody>\n</table>\n</div>"
     },
     "metadata": {},
     "execution_count": 4
    }
   ],
   "source": [
    "df.head()"
   ]
  },
  {
   "cell_type": "code",
   "execution_count": 5,
   "metadata": {},
   "outputs": [
    {
     "output_type": "execute_result",
     "data": {
      "text/plain": "21-30                 27452\n11-20                 24476\n31-40                 17311\n51-60                 10984\n0-10                   7427\n41-50                  3668\n71-80                  3297\nMore than 100 Days     2150\n81-90                  1470\n91-100                  908\n61-70                   857\nName: 17, dtype: int64"
     },
     "metadata": {},
     "execution_count": 5
    }
   ],
   "source": [
    "# PROBLEMA DE CLASIFICACIÓN\n",
    "df[\"17\"].value_counts()"
   ]
  },
  {
   "cell_type": "code",
   "execution_count": 6,
   "metadata": {},
   "outputs": [],
   "source": [
    "# esto es necesario para evitar futuros errores pero si quitaráis las columnas con Nan no haría falta\n",
    "# Nan no vale pero 0 sí\n",
    "df = df.dropna()\n",
    "# esto quita filas y por tanto no se lo podremos aplicar al dataset de predicción"
   ]
  },
  {
   "cell_type": "code",
   "execution_count": 7,
   "metadata": {},
   "outputs": [],
   "source": [
    "# quitad la primera columna porque corresponde con el case_id y por tanto no le servirá al modelo para aprender...\n",
    "# quitar otras columnas es decisión vuestra como futuros data scientists \n",
    "df.drop(\"0\",1,inplace = True)"
   ]
  },
  {
   "cell_type": "code",
   "execution_count": 8,
   "metadata": {
    "tags": []
   },
   "outputs": [
    {
     "output_type": "stream",
     "name": "stdout",
     "text": "Index(['2', '4', '6', '7', '8', '12', '13', '15'], dtype='object')\n"
    }
   ],
   "source": [
    "df_data = df.drop(\"17\", 1)\n",
    "from sklearn.preprocessing import LabelEncoder\n",
    "\n",
    "objList = df_data.select_dtypes(include = \"object\").columns\n",
    "print (objList)\n",
    "le = LabelEncoder()\n",
    "\n",
    "for feat in objList:\n",
    "    df_data[feat] = le.fit_transform(df_data[feat].astype(str))\n"
   ]
  },
  {
   "cell_type": "markdown",
   "metadata": {},
   "source": [
    "#### 1. Definir X e y"
   ]
  },
  {
   "cell_type": "code",
   "execution_count": 9,
   "metadata": {},
   "outputs": [
    {
     "output_type": "execute_result",
     "data": {
      "text/plain": "(98484, 4)"
     },
     "metadata": {},
     "execution_count": 9
    }
   ],
   "source": [
    "# coger las columnas 1, 3, 5, 9 tiene solo valor ilustrativo, NO LO COPIÉIS\n",
    "X = np.array([[\"14\",\"7\",\"5\",\"15\"]])\n",
    "y = np.array(df['17'])\n",
    "X.shape"
   ]
  },
  {
   "cell_type": "code",
   "execution_count": 10,
   "metadata": {},
   "outputs": [
    {
     "output_type": "execute_result",
     "data": {
      "text/plain": "(98484,)"
     },
     "metadata": {},
     "execution_count": 10
    }
   ],
   "source": [
    "y.shape"
   ]
  },
  {
   "cell_type": "markdown",
   "metadata": {},
   "source": [
    "#### 2. Dividir X_train, X_test, y_train, y_test"
   ]
  },
  {
   "cell_type": "code",
   "execution_count": 11,
   "metadata": {},
   "outputs": [],
   "source": [
    "X_train, X_test, y_train, y_test = train_test_split(X, y, test_size=0.20)"
   ]
  },
  {
   "cell_type": "code",
   "execution_count": 12,
   "metadata": {},
   "outputs": [
    {
     "output_type": "execute_result",
     "data": {
      "text/plain": "array([[2, 0, 4, 5],\n       [2, 4, 3, 3],\n       [3, 2, 3, 4],\n       ...,\n       [2, 1, 2, 1],\n       [9, 3, 1, 5],\n       [3, 1, 4, 7]], dtype=int64)"
     },
     "metadata": {},
     "execution_count": 12
    }
   ],
   "source": [
    "X_train"
   ]
  },
  {
   "cell_type": "markdown",
   "metadata": {},
   "source": [
    "#### 3. Asignar el modelo (vacío) a una variable\n",
    "Aquí meteríais los parámetros"
   ]
  },
  {
   "cell_type": "code",
   "execution_count": 13,
   "metadata": {},
   "outputs": [],
   "source": [
    "model = linear_model.LogisticRegression()\n",
    "# la otra forma, pero lo mismo: model = LogisticRegression()"
   ]
  },
  {
   "cell_type": "markdown",
   "metadata": {},
   "source": [
    "#### 4. Entrenar el modelo con X_train, y_train"
   ]
  },
  {
   "cell_type": "code",
   "execution_count": 14,
   "metadata": {},
   "outputs": [
    {
     "output_type": "execute_result",
     "data": {
      "text/plain": "LogisticRegression()"
     },
     "metadata": {},
     "execution_count": 14
    }
   ],
   "source": [
    "model.fit(X_train, y_train)"
   ]
  },
  {
   "cell_type": "markdown",
   "metadata": {},
   "source": [
    "#### 5. Predecir con el modelo ya entrenado con X_test/to_pred"
   ]
  },
  {
   "cell_type": "code",
   "execution_count": 15,
   "metadata": {
    "tags": []
   },
   "outputs": [
    {
     "output_type": "stream",
     "name": "stdout",
     "text": "['21-30' '21-30' '21-30' ... '21-30' '21-30' '21-30']\n"
    }
   ],
   "source": [
    "predictions = model.predict(X_test)\n",
    "print(predictions)"
   ]
  },
  {
   "cell_type": "markdown",
   "metadata": {},
   "source": [
    "#### 6. Sacar métricas, valorar el modelo "
   ]
  },
  {
   "cell_type": "code",
   "execution_count": 16,
   "metadata": {},
   "outputs": [
    {
     "output_type": "execute_result",
     "data": {
      "text/plain": "0.35005330761029596"
     },
     "metadata": {},
     "execution_count": 16
    }
   ],
   "source": [
    "model.score(X_test,y_test)"
   ]
  },
  {
   "cell_type": "markdown",
   "metadata": {},
   "source": [
    "## Una vez listo el modelo, toca predecir con el dataset de predicción "
   ]
  },
  {
   "cell_type": "code",
   "execution_count": 2,
   "metadata": {},
   "outputs": [
    {
     "output_type": "error",
     "ename": "NameError",
     "evalue": "name 'pd' is not defined",
     "traceback": [
      "\u001b[1;31m---------------------------------------------------------------------------\u001b[0m",
      "\u001b[1;31mNameError\u001b[0m                                 Traceback (most recent call last)",
      "\u001b[1;32m<ipython-input-2-f6ba6e4306eb>\u001b[0m in \u001b[0;36m<module>\u001b[1;34m\u001b[0m\n\u001b[1;32m----> 1\u001b[1;33m \u001b[0mto_pred\u001b[0m \u001b[1;33m=\u001b[0m \u001b[0mpd\u001b[0m\u001b[1;33m.\u001b[0m\u001b[0mread_csv\u001b[0m\u001b[1;33m(\u001b[0m\u001b[1;34m\"C:\\\\Users\\\\Roxan\\\\OneDrive\\\\Documentos\\\\My_map_2\\\\Data-science-bootcamp\\\\Curso\\\\week_9\\\\day5\\\\test_set.csv\"\u001b[0m\u001b[1;33m)\u001b[0m\u001b[1;33m\u001b[0m\u001b[1;33m\u001b[0m\u001b[0m\n\u001b[0m",
      "\u001b[1;31mNameError\u001b[0m: name 'pd' is not defined"
     ]
    }
   ],
   "source": [
    "to_pred = pd.read_csv(\"C:\\\\Users\\\\Roxan\\\\OneDrive\\\\Documentos\\\\My_map_2\\\\Data-science-bootcamp\\\\Curso\\\\week_9\\\\day5\\\\test_set.csv\")"
   ]
  },
  {
   "cell_type": "code",
   "execution_count": 1,
   "metadata": {},
   "outputs": [
    {
     "output_type": "error",
     "ename": "NameError",
     "evalue": "name 'to_pred' is not defined",
     "traceback": [
      "\u001b[1;31m---------------------------------------------------------------------------\u001b[0m",
      "\u001b[1;31mNameError\u001b[0m                                 Traceback (most recent call last)",
      "\u001b[1;32m<ipython-input-1-497a1f0cb69f>\u001b[0m in \u001b[0;36m<module>\u001b[1;34m\u001b[0m\n\u001b[0;32m      8\u001b[0m \u001b[1;31m# SI O SI\u001b[0m\u001b[1;33m\u001b[0m\u001b[1;33m\u001b[0m\u001b[1;33m\u001b[0m\u001b[0m\n\u001b[0;32m      9\u001b[0m \u001b[1;33m\u001b[0m\u001b[0m\n\u001b[1;32m---> 10\u001b[1;33m \u001b[0mto_pred\u001b[0m\u001b[1;33m\u001b[0m\u001b[1;33m\u001b[0m\u001b[0m\n\u001b[0m",
      "\u001b[1;31mNameError\u001b[0m: name 'to_pred' is not defined"
     ]
    }
   ],
   "source": [
    "# la primera columna es id_case, deberéis quitarla para hacer la predicción si la habéis quitado para entrenar\n",
    "# pero guardarla para incluirla en la submission\n",
    "\n",
    "# IMPORTANTE: APLICAR LO MISMO A ESTOS DATOS QUE HAYÁIS APLICADO A LOS DATOS DE ENTRENAMIENTO\n",
    "# SI EL ARRAY CON EL QUE HICISTEIS .fit() ERA DE 4 COLUMNAS, PARA .predict() DEBEN SER LAS MISMAS\n",
    "# SI AL ARRAY CON EL QUE HICISTEIS .fit() LO NORMALIZASTEIS, PARA .predict() DEBÉIS NORMALIZARLO\n",
    "# TODO IGUAL SALVO BORRAR FILAS, EL NÚMERO DE ROWS SE DEBE MANTENER EN ESTE SET, PUES LA PREDICCIÓN DEBE TENER 133744 FILAS\n",
    "# SI O SI\n",
    "\n",
    "to_pred"
   ]
  },
  {
   "cell_type": "code",
   "execution_count": 19,
   "metadata": {},
   "outputs": [],
   "source": [
    "# para evitar este error ValueError: Input contains NaN, infinity or a value too large for dtype('float64').\n",
    "to_pred = to_pred.fillna(0)"
   ]
  },
  {
   "cell_type": "code",
   "execution_count": 21,
   "metadata": {
    "tags": []
   },
   "outputs": [
    {
     "output_type": "stream",
     "name": "stdout",
     "text": "Index(['2', '4', '6', '7', '8', '12', '13', '15'], dtype='object')\n"
    }
   ],
   "source": [
    "\n",
    "objList = to_pred.select_dtypes(include = \"object\").columns\n",
    "print (objList)\n",
    "le = LabelEncoder()\n",
    "\n",
    "for feat in objList:\n",
    "    to_pred[feat] = le.fit_transform([feat].astype(str))"
   ]
  },
  {
   "cell_type": "code",
   "execution_count": 22,
   "metadata": {},
   "outputs": [
    {
     "output_type": "execute_result",
     "data": {
      "text/plain": "array(['21-30', '31-40', '21-30', ..., '21-30', '21-30', '21-30'],\n      dtype=object)"
     },
     "metadata": {},
     "execution_count": 22
    }
   ],
   "source": [
    "predictions_submit = model.predict(to_pred[[\"14\",\"7\",\"5\",\"15\"]])\n",
    "predictions_submit"
   ]
  },
  {
   "cell_type": "code",
   "execution_count": 23,
   "metadata": {},
   "outputs": [
    {
     "output_type": "execute_result",
     "data": {
      "text/plain": "            id   days\n0       314114  21-30\n1       208989  31-40\n2       305872  21-30\n3       266099  31-40\n4        13228  21-30\n...        ...    ...\n133739  318155  21-30\n133740  144850  31-40\n133741  180676  21-30\n133742   39933  21-30\n133743  116673  21-30\n\n[133744 rows x 2 columns]",
      "text/html": "<div>\n<style scoped>\n    .dataframe tbody tr th:only-of-type {\n        vertical-align: middle;\n    }\n\n    .dataframe tbody tr th {\n        vertical-align: top;\n    }\n\n    .dataframe thead th {\n        text-align: right;\n    }\n</style>\n<table border=\"1\" class=\"dataframe\">\n  <thead>\n    <tr style=\"text-align: right;\">\n      <th></th>\n      <th>id</th>\n      <th>days</th>\n    </tr>\n  </thead>\n  <tbody>\n    <tr>\n      <th>0</th>\n      <td>314114</td>\n      <td>21-30</td>\n    </tr>\n    <tr>\n      <th>1</th>\n      <td>208989</td>\n      <td>31-40</td>\n    </tr>\n    <tr>\n      <th>2</th>\n      <td>305872</td>\n      <td>21-30</td>\n    </tr>\n    <tr>\n      <th>3</th>\n      <td>266099</td>\n      <td>31-40</td>\n    </tr>\n    <tr>\n      <th>4</th>\n      <td>13228</td>\n      <td>21-30</td>\n    </tr>\n    <tr>\n      <th>...</th>\n      <td>...</td>\n      <td>...</td>\n    </tr>\n    <tr>\n      <th>133739</th>\n      <td>318155</td>\n      <td>21-30</td>\n    </tr>\n    <tr>\n      <th>133740</th>\n      <td>144850</td>\n      <td>31-40</td>\n    </tr>\n    <tr>\n      <th>133741</th>\n      <td>180676</td>\n      <td>21-30</td>\n    </tr>\n    <tr>\n      <th>133742</th>\n      <td>39933</td>\n      <td>21-30</td>\n    </tr>\n    <tr>\n      <th>133743</th>\n      <td>116673</td>\n      <td>21-30</td>\n    </tr>\n  </tbody>\n</table>\n<p>133744 rows × 2 columns</p>\n</div>"
     },
     "metadata": {},
     "execution_count": 23
    }
   ],
   "source": [
    "submission = pd.DataFrame({\"id\": to_pred[\"0\"], \"days\": predictions_submit})\n",
    "submission"
   ]
  },
  {
   "cell_type": "code",
   "execution_count": 24,
   "metadata": {},
   "outputs": [],
   "source": [
    "sample = pd.read_csv(\"C:\\\\Users\\\\Roxan\\\\OneDrive\\\\Documentos\\My_map_2\\\\Data-science-bootcamp\\\\Curso\\\\week_9\\\\day5\\\\sample_submission.csv\")"
   ]
  },
  {
   "cell_type": "code",
   "execution_count": 25,
   "metadata": {},
   "outputs": [
    {
     "output_type": "execute_result",
     "data": {
      "text/plain": "(133744, 2)"
     },
     "metadata": {},
     "execution_count": 25
    }
   ],
   "source": [
    "sample.shape"
   ]
  },
  {
   "cell_type": "code",
   "execution_count": 26,
   "metadata": {
    "tags": []
   },
   "outputs": [
    {
     "output_type": "stream",
     "name": "stdout",
     "text": "you're ready to submit!\n"
    }
   ],
   "source": [
    "if submission.shape == sample.shape:\n",
    "    if submission.columns.all() == sample.columns.all():\n",
    "        if submission.id.all() == sample.id.all():\n",
    "            print(\"you're ready to submit!\")\n",
    "            submission.to_csv(\"to_submit_.csv\", index = False)\n",
    "            # ¡¡¡¡¡¡¡ADD INDEX = FALSE!!!!!!!!!"
   ]
  },
  {
   "cell_type": "code",
   "execution_count": null,
   "metadata": {},
   "outputs": [],
   "source": []
  }
 ],
 "metadata": {
  "kernelspec": {
   "display_name": "Python 3.8.3 64-bit",
   "language": "python",
   "name": "python_defaultSpec_1599996314750"
  },
  "language_info": {
   "codemirror_mode": {
    "name": "ipython",
    "version": 3
   },
   "file_extension": ".py",
   "mimetype": "text/x-python",
   "name": "python",
   "nbconvert_exporter": "python",
   "pygments_lexer": "ipython3",
   "version": "3.8.3-final"
  }
 },
 "nbformat": 4,
 "nbformat_minor": 4
}