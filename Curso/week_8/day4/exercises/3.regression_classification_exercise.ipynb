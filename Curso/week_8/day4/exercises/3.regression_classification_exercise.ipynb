{
 "metadata": {
  "language_info": {
   "codemirror_mode": {
    "name": "ipython",
    "version": 3
   },
   "file_extension": ".py",
   "mimetype": "text/x-python",
   "name": "python",
   "nbconvert_exporter": "python",
   "pygments_lexer": "ipython3",
   "version": "3.8.3-final"
  },
  "orig_nbformat": 2,
  "kernelspec": {
   "name": "python_defaultSpec_1599591685511",
   "display_name": "Python 3.6.4 64-bit"
  }
 },
 "nbformat": 4,
 "nbformat_minor": 2,
 "cells": [
  {
   "cell_type": "markdown",
   "metadata": {},
   "source": [
    "### Nivel intermedio:\n",
    "\n",
    "Hacer con objetivo de preparar entrevista técnica y tener un código reutilizable, útil y funcional."
   ]
  },
  {
   "cell_type": "markdown",
   "metadata": {},
   "source": [
    "1. \n",
    "\n",
    "Crea un programa que pregunte al usuario qué tipo de algoritmo desea utilizar (entre regresión lineal, regresión logística y Knn).\n",
    "\n",
    "Se presupone que el usuario proporcionará un dataframe con los datos a entrenar, el nombre de la columna target que está en el dataframe.\n",
    "\n",
    "El programa debe contener, como mínimo, estas cuatro funciones tal que así:"
   ]
  },
  {
   "cell_type": "code",
   "execution_count": 1,
   "metadata": {},
   "outputs": [],
   "source": [
    "def choose_model(option_user, **params):\n",
    "    if option_user == 1:\n",
    "        from sklearn.linear_model import LinearRegression\n",
    "        model = LinearRegression()\n",
    "        return model\n",
    "    if option_user == 2:\n",
    "        from sklearn.linear_model import LogisticRegression\n",
    "        model = LogisticRegression()\n",
    "        return model\n",
    "    if option_user == 3:\n",
    "        from sklearn.neighbors import KNeighborsClassifier\n",
    "        if \"K\" in params.keys():\n",
    "            K = params[\"K\"]\n",
    "            model = KNeighborsClassifier(n_neighbors=K)\n",
    "            return model\n",
    "        else:\n",
    "            print(\"Missing argument K\")\n",
    "    return model\n",
    "\n",
    "def train_model(model, df, target_name):\n",
    "    X = df.drop(target_name, 1)\n",
    "    y = df[target_name]\n",
    "    \n",
    "    from sklearn.model_selection import train_test_split\n",
    "    X_train, X_test, y_train, y_test = train_test_split(X, y, test_size=0.20)\n",
    "\n",
    "    model_trained = model.fit(X_train, y_train)\n",
    "    accuracy = model_trained.score(X_test, y_test)\n",
    "\n",
    "    return model_trained, accuracy\n",
    "\n",
    "def main():\n",
    "    model_trained \n",
    "    accuracy = model_trained.score(X, y)\n",
    "    print(accuracy)\n",
    "    return model_trained\n",
    "\n",
    "def predict_new_data(model_trained, to_pred):\n",
    "    if not isinstance(to_pred,(np.ndarray)):\n",
    "        raise TypeError('wrong type, to_pred must be a numpy array list')\n",
    "    else:\n",
    "        try:\n",
    "            y_pred = model_trained.predict(to_pred)\n",
    "            return y_pred\n",
    "        except:\n",
    "            to_pred = to_pred.reshape(1, -1)\n",
    "            y_pred = model_trained.predict(to_pred)\n",
    "            return y_pred\n",
    "\n",
    "  \n"
   ]
  },
  {
   "cell_type": "markdown",
   "metadata": {},
   "source": [
    "-----------------------------\n",
    "\"choose_model\" recibe:\n",
    "\n",
    "- 'option_user': la opción del usuario. \n",
    "- 'params': es un diccionario que puede contener parámetros ciertos necesarios para la creación de los modelos (por ejemplo, el valor k para el algoritmo Knn). Por defecto, su valor es None.\n",
    "\n",
    "Deberá crear el modelo necesario sin entrenar, retornándolo al final.\n",
    "\n",
    "----------------\n",
    "\n",
    "\"train_model\" recibe:\n",
    "\n",
    "- 'model': el modelo sin entrenar elegido por el usario\n",
    "- 'df': el dataframe tratado y limpio que contiene todos los datos del conjunto de entrenamiento y de test, incluyendo el target. \n",
    "- 'target_name': el nombre de la columna que representa el target.\n",
    "\n",
    "Retornará el modelo entrenado con los datos y la precisión del modelo.\n",
    "\n",
    "----------------\n",
    "\n",
    "\"predict_new_data\" recibe:\n",
    "\n",
    "- 'model_trained': el modelo entrenado en la función \"train_model\"\n",
    "- 'to_pred': los datos que van a ser predichos por el modelo entreado.\n",
    "\n",
    "Retornará los resultados de la predicción.\n",
    "\n",
    "----------------\n",
    "\n",
    "\"main\": \n",
    "\n",
    "Es la función que ha de ser ejecutada cada vez que queremos lanzar el programa. \n",
    "\n",
    "Al final, mostrará la precisión del modelo entrenado y retornará el modelo entreado.\n",
    "\n",
    "----------------\n"
   ]
  },
  {
   "cell_type": "markdown",
   "metadata": {},
   "source": [
    "2.\n"
   ]
  },
  {
   "cell_type": "markdown",
   "metadata": {},
   "source": [
    "----------------\n",
    "\n",
    "\"train_model\" recibe:\n",
    "\n",
    "- 'model_trained': el modelo entrenado elegido por el usario\n",
    "- 'to_pred': los datos del nuevo ejemplo a predecir.\n",
    "\n",
    "Retornará y mostrará por pantalla la predicción.\n",
    "\n",
    "----------------\n",
    "\n",
    "Se presupone que el usuario proporcionará los datos del nuevo ejemplo."
   ]
  },
  {
   "cell_type": "markdown",
   "metadata": {},
   "source": [
    "## Testing functions"
   ]
  },
  {
   "cell_type": "markdown",
   "metadata": {},
   "source": [
    "TEST Knn"
   ]
  },
  {
   "cell_type": "code",
   "execution_count": 2,
   "metadata": {},
   "outputs": [],
   "source": [
    "import pandas as pd \n",
    "import numpy as np \n",
    "import matplotlib.pyplot as plt\n",
    "import seaborn as sns"
   ]
  },
  {
   "cell_type": "code",
   "execution_count": 3,
   "metadata": {},
   "outputs": [],
   "source": [
    "df = pd.read_csv('../data/iris.csv')"
   ]
  },
  {
   "cell_type": "code",
   "execution_count": 4,
   "metadata": {},
   "outputs": [],
   "source": [
    "#changing variety column to numbers\n",
    "from sklearn import preprocessing\n",
    "label_coder = preprocessing.LabelEncoder()\n",
    "variety_encoded = label_coder.fit_transform(df.variety)\n",
    "variety= np.array(variety_encoded)"
   ]
  },
  {
   "cell_type": "code",
   "execution_count": 5,
   "metadata": {
    "tags": []
   },
   "outputs": [
    {
     "output_type": "execute_result",
     "data": {
      "text/plain": "KNeighborsClassifier()"
     },
     "metadata": {},
     "execution_count": 5
    }
   ],
   "source": [
    "#Choosing model for knn\n",
    "model = choose_model(option_user=3, K=5)\n",
    "model"
   ]
  },
  {
   "cell_type": "code",
   "execution_count": 6,
   "metadata": {
    "tags": []
   },
   "outputs": [
    {
     "output_type": "stream",
     "name": "stdout",
     "text": "KNeighborsClassifier()\n0.9666666666666667\n"
    }
   ],
   "source": [
    "# Train model\n",
    "model_trained, accuracy = train_model(model=model, df=df, target_name=\"variety\")\n",
    "print(model_trained)\n",
    "print(accuracy)"
   ]
  },
  {
   "cell_type": "code",
   "execution_count": 1,
   "metadata": {
    "tags": []
   },
   "outputs": [
    {
     "output_type": "error",
     "ename": "NameError",
     "evalue": "name 'predict_new_data' is not defined",
     "traceback": [
      "\u001b[1;31m---------------------------------------------------------------------------\u001b[0m",
      "\u001b[1;31mNameError\u001b[0m                                 Traceback (most recent call last)",
      "\u001b[1;32m<ipython-input-1-2ae559ff59e5>\u001b[0m in \u001b[0;36m<module>\u001b[1;34m\u001b[0m\n\u001b[0;32m      1\u001b[0m \u001b[1;31m#predict new data\u001b[0m\u001b[1;33m\u001b[0m\u001b[1;33m\u001b[0m\u001b[1;33m\u001b[0m\u001b[0m\n\u001b[1;32m----> 2\u001b[1;33m \u001b[0mpredict_new_data\u001b[0m\u001b[1;33m(\u001b[0m\u001b[0mmodel_trained\u001b[0m\u001b[1;33m=\u001b[0m\u001b[0mmodel_trained\u001b[0m\u001b[1;33m,\u001b[0m \u001b[0mto_pred\u001b[0m\u001b[1;33m=\u001b[0m\u001b[1;33m[\u001b[0m\u001b[1;36m15.7\u001b[0m\u001b[1;33m,\u001b[0m\u001b[1;36m2.8\u001b[0m\u001b[1;33m,\u001b[0m\u001b[1;36m9.5\u001b[0m\u001b[1;33m,\u001b[0m\u001b[1;36m0.1\u001b[0m\u001b[1;33m]\u001b[0m\u001b[1;33m)\u001b[0m\u001b[1;33m\u001b[0m\u001b[1;33m\u001b[0m\u001b[0m\n\u001b[0m",
      "\u001b[1;31mNameError\u001b[0m: name 'predict_new_data' is not defined"
     ]
    }
   ],
   "source": [
    "#predict new data\n",
    "predict_new_data(model_trained=model_trained, to_pred=[15.7,2.8,9.5,0.1])"
   ]
  },
  {
   "cell_type": "code",
   "execution_count": 8,
   "metadata": {
    "tags": []
   },
   "outputs": [
    {
     "output_type": "execute_result",
     "data": {
      "text/plain": "array(['Virginica'], dtype=object)"
     },
     "metadata": {},
     "execution_count": 8
    }
   ],
   "source": [
    "example = np.array([[15.7,2.8,9.5,0.1]])\n",
    "predict_new_data(model_trained=model_trained, to_pred=example)"
   ]
  },
  {
   "cell_type": "markdown",
   "metadata": {},
   "source": [
    "TEST Linear regression"
   ]
  },
  {
   "cell_type": "code",
   "execution_count": 9,
   "metadata": {},
   "outputs": [],
   "source": [
    "df1 = pd.read_csv(\"../data/usuarios_win_mac_lin.csv\")"
   ]
  },
  {
   "cell_type": "code",
   "execution_count": 10,
   "metadata": {},
   "outputs": [
    {
     "output_type": "execute_result",
     "data": {
      "text/plain": "LinearRegression()"
     },
     "metadata": {},
     "execution_count": 10
    }
   ],
   "source": [
    "#Choosing model for Linear regression\n",
    "model = choose_model(option_user=1)\n",
    "model"
   ]
  },
  {
   "cell_type": "code",
   "execution_count": 11,
   "metadata": {
    "tags": []
   },
   "outputs": [
    {
     "output_type": "stream",
     "name": "stdout",
     "text": "LinearRegression()\n0.07427803933838573\n"
    }
   ],
   "source": [
    "# Train model\n",
    "model_trained, accuracy = train_model(model=model, df=df1, target_name=\"duracion\")\n",
    "print(model_trained)\n",
    "print(accuracy)"
   ]
  },
  {
   "cell_type": "code",
   "execution_count": 14,
   "metadata": {},
   "outputs": [
    {
     "output_type": "execute_result",
     "data": {
      "text/plain": "array([144.56460968])"
     },
     "metadata": {},
     "execution_count": 14
    }
   ],
   "source": [
    "#predict new data\n",
    "example = pd.DataFrame({\"paginas\":[3], \"acciones\":[7], \"valor\":[15], \"clase\":[1]})\n",
    "predict_new_data(model_trained=model_trained, to_pred=example.values)\n"
   ]
  },
  {
   "cell_type": "markdown",
   "metadata": {},
   "source": [
    "TEST logistic regression"
   ]
  },
  {
   "cell_type": "code",
   "execution_count": 15,
   "metadata": {},
   "outputs": [],
   "source": [
    "df3 = pd.read_csv(\"../data/usuarios_win_mac_lin.csv\")"
   ]
  },
  {
   "cell_type": "code",
   "execution_count": 16,
   "metadata": {},
   "outputs": [
    {
     "output_type": "execute_result",
     "data": {
      "text/plain": "LogisticRegression()"
     },
     "metadata": {},
     "execution_count": 16
    }
   ],
   "source": [
    "#Choosing model for Linear regression\n",
    "model = choose_model(option_user=2)\n",
    "model"
   ]
  },
  {
   "cell_type": "code",
   "execution_count": 17,
   "metadata": {
    "tags": []
   },
   "outputs": [
    {
     "output_type": "stream",
     "name": "stdout",
     "text": "LogisticRegression()\n0.8529411764705882\n"
    }
   ],
   "source": [
    "# Train model\n",
    "model_trained, accuracy = train_model(model=model, df=df3, target_name=\"clase\")\n",
    "print(model_trained)\n",
    "print(accuracy)"
   ]
  },
  {
   "cell_type": "code",
   "execution_count": 19,
   "metadata": {},
   "outputs": [
    {
     "output_type": "execute_result",
     "data": {
      "text/plain": "array([0], dtype=int64)"
     },
     "metadata": {},
     "execution_count": 19
    }
   ],
   "source": [
    "#predict new data\n",
    "example = pd.DataFrame({\"duracion\":[15.0], \"paginas\":[3], \"acciones\":[7], \"valor\":[15]})\n",
    "predict_new_data(model_trained=model_trained, to_pred=example.values)"
   ]
  },
  {
   "cell_type": "code",
   "execution_count": null,
   "metadata": {},
   "outputs": [],
   "source": []
  }
 ]
}