{
 "metadata": {
  "language_info": {
   "codemirror_mode": {
    "name": "ipython",
    "version": 3
   },
   "file_extension": ".py",
   "mimetype": "text/x-python",
   "name": "python",
   "nbconvert_exporter": "python",
   "pygments_lexer": "ipython3",
   "version": "3.8.3-final"
  },
  "orig_nbformat": 2,
  "kernelspec": {
   "name": "python_defaultSpec_1599479598062",
   "display_name": "Python 3.8.3 32-bit"
  }
 },
 "nbformat": 4,
 "nbformat_minor": 2,
 "cells": [
  {
   "cell_type": "code",
   "execution_count": 1,
   "metadata": {},
   "outputs": [],
   "source": [
    "import numpy as np\n",
    "import matplotlib.pyplot as plt\n",
    "import random"
   ]
  },
  {
   "cell_type": "markdown",
   "metadata": {},
   "source": [
    "1. \n",
    "\n",
    "Crear una función que reciba cuatro parámetros: una lista 'L', un número 'T', un número 'V' y un booleano 'S'. La función debe devolver otras dos listas: \"lista_train_val\" y \"lista_test\".\n",
    "\n",
    "- \"lista_train_val\" es una lista con dos elementos. Cada elemento es una lista: \"list_train\", que representa el conjunto de entrenamiento y \"list_val\", que representa el conjunto de validación. \n",
    "- \"list_test\" es el conjunto de test. Como mínimo ha de tener 1 elemento (si 'L' > 1).\n",
    "- \"L\" es cualquier lista de elementos. Al principio, entra con un tamaño completo (100%). Esta es la lista que se partirá y se generarán los conjuntos entrenamiento, de validación y de test.\n",
    "- \"T\" es un número entre 1 y 100 que va a representar el tamaño, en porcentaje, del conjunto de test \"list_test\". \n",
    "- \"V\" es un número entre 0 y 100 que va a representar el tamaño, en porcentaje, del conjunto de validación \"list_val\". Su valor por defecto es 0.\n",
    "- \"S\", que por defecto es False, determinará si los conjuntos \"list_train\", \"list_test\" y \"list_val\" son aleatoriamente ordenados. ¿Encuentras alguna posible incoherencia si se reordenan aleatoriamente?\n",
    "\n",
    "Prueba la función con una lista de 100 elementos números aleatorios del 0 al 100. \n"
   ]
  },
  {
   "cell_type": "code",
   "execution_count": 3,
   "metadata": {},
   "outputs": [],
   "source": [
    "def validation_test(L, T, V=0, S=False):\n",
    "    lista_train_val = []\n",
    "    lista_test = []\n",
    "    L.tolist()\n",
    "\n",
    "    print(\"L:\", L)\n",
    "    print(\"--------\")\n",
    "\n",
    "    if S == True:\n",
    "        L.sort()\n",
    "    else:\n",
    "        random.shuffle(L)\n",
    "\n",
    "    \n",
    "    lista_test = L[:int((len(L)+1)*(T/100))]\n",
    "    no_lista_test = L[int((len(L)+1)*(T/100)):]\n",
    "\n",
    "\n",
    "    if S == True:\n",
    "        no_lista_test.sort()\n",
    "    else:\n",
    "        random.shuffle(no_lista_test)\n",
    "\n",
    "    list_val = no_lista_test[:int((len(no_lista_test)+1)*(V/100))]\n",
    "    list_train = no_lista_test[int((len(no_lista_test)+1)*(V/100)):]\n",
    "    \n",
    "    lista_train_val.append(list_val)\n",
    "    lista_train_val.append(list_train)\n",
    "\n",
    "    print(\"length lista test:\", len(lista_test))\n",
    "    print(\"length lista val:\", len(list_val))\n",
    "    print(\"length train:\", len(list_train))\n",
    "    print(\"-------------------------------\")\n",
    "\n",
    "    return lista_train_val, lista_test\n",
    "    "
   ]
  },
  {
   "cell_type": "code",
   "execution_count": 4,
   "metadata": {},
   "outputs": [],
   "source": [
    "lista_elementos = np.arange(100)"
   ]
  },
  {
   "cell_type": "code",
   "execution_count": 5,
   "metadata": {
    "tags": []
   },
   "outputs": [
    {
     "output_type": "stream",
     "name": "stdout",
     "text": "L: [ 0  1  2  3  4  5  6  7  8  9 10 11 12 13 14 15 16 17 18 19 20 21 22 23\n 24 25 26 27 28 29 30 31 32 33 34 35 36 37 38 39 40 41 42 43 44 45 46 47\n 48 49 50 51 52 53 54 55 56 57 58 59 60 61 62 63 64 65 66 67 68 69 70 71\n 72 73 74 75 76 77 78 79 80 81 82 83 84 85 86 87 88 89 90 91 92 93 94 95\n 96 97 98 99]\n--------\nlength lista test: 80\nlength lista val: 4\nlength train: 16\n-------------------------------\n"
    },
    {
     "output_type": "execute_result",
     "data": {
      "text/plain": "([array([51, 27, 29, 44]),\n  array([31,  8, 65, 40, 76, 55, 48, 72, 94,  4, 26, 67, 79, 82, 74, 83])],\n array([19, 62, 39, 71, 90, 61, 30, 49, 15, 12, 32, 35, 97, 43, 77, 86, 13,\n         5, 18, 85,  1, 88, 45, 16, 20, 89, 14, 41, 81, 36, 47, 53, 91, 56,\n        59, 78, 70, 98, 93, 60, 23, 92,  6, 68, 37, 80, 11, 99, 21, 75, 46,\n        96, 58, 64, 84, 54, 63,  7, 42, 66,  9, 25,  3, 87, 34, 52, 95, 33,\n         0, 28, 57,  2, 38, 24, 10, 69, 73, 17, 50, 22]))"
     },
     "metadata": {},
     "execution_count": 5
    }
   ],
   "source": [
    "validation_test(L=lista_elementos, T=80, V=20, S=False)"
   ]
  },
  {
   "cell_type": "markdown",
   "metadata": {},
   "source": [
    "2. \n",
    "\n",
    "Rehacer el ejercicio anterior en otra función para que no devuelva dos listas, sino los tres conjuntos: \n",
    "\n",
    "--> return list_train, list_val, list_test "
   ]
  },
  {
   "cell_type": "code",
   "execution_count": 21,
   "metadata": {},
   "outputs": [],
   "source": [
    "def validation_test_v2(L, T, V=0, S=False):\n",
    "    list_test = []\n",
    "    list_train = []\n",
    "    list_val = []\n",
    "\n",
    "    L.tolist()\n",
    "\n",
    "    print(\"L:\", L)\n",
    "    print(\"--------\")\n",
    "\n",
    "    if S == True:\n",
    "        L.sort()\n",
    "    if S == False:\n",
    "        random.shuffle(L)\n",
    "\n",
    "    \n",
    "    list_test = L[:int((len(L)+1)*(T/100))]\n",
    "    no_list_test = L[int((len(L)+1)*(T/100)):]\n",
    "\n",
    "\n",
    "    if S == True:\n",
    "        no_list_test.sort()\n",
    "    if S == False:\n",
    "        random.shuffle(no_list_test)\n",
    "\n",
    "    list_val = no_list_test[:int((len(no_list_test)+1)*(V/100))]\n",
    "    list_train = no_list_test[int((len(no_list_test)+1)*(V/100)):]\n",
    "    \n",
    "\n",
    "    print(\"length lista test:\", len(list_test))\n",
    "    print(\"length lista val:\", len(list_val))\n",
    "    print(\"length train:\", len(list_train))\n",
    "    print(\"-------------------------------\")\n",
    "\n",
    "    return list_train, list_val, list_test\n",
    "    "
   ]
  },
  {
   "cell_type": "code",
   "execution_count": 22,
   "metadata": {},
   "outputs": [],
   "source": [
    "lista_elementos = np.arange(100)"
   ]
  },
  {
   "cell_type": "code",
   "execution_count": 23,
   "metadata": {
    "tags": []
   },
   "outputs": [
    {
     "output_type": "stream",
     "name": "stdout",
     "text": "L: [ 0  1  2  3  4  5  6  7  8  9 10 11 12 13 14 15 16 17 18 19 20 21 22 23\n 24 25 26 27 28 29 30 31 32 33 34 35 36 37 38 39 40 41 42 43 44 45 46 47\n 48 49 50 51 52 53 54 55 56 57 58 59 60 61 62 63 64 65 66 67 68 69 70 71\n 72 73 74 75 76 77 78 79 80 81 82 83 84 85 86 87 88 89 90 91 92 93 94 95\n 96 97 98 99]\n--------\nlength lista test: 80\nlength lista val: 4\nlength train: 16\n-------------------------------\n"
    },
    {
     "output_type": "execute_result",
     "data": {
      "text/plain": "(array([83, 71, 96, 53,  3,  0, 80, 93, 18, 64, 68, 91, 54, 73, 19, 66]),\n array([76, 10, 59, 24]),\n array([ 7,  6, 92, 89, 47, 12, 81, 43,  9, 22,  2, 13, 30, 45, 90, 95, 27,\n        85, 35,  4,  5, 98, 38, 99, 84, 23, 69, 86, 48, 57, 70, 46, 34, 28,\n        88, 15, 77, 37, 29, 49, 33, 58, 25, 60,  8, 63, 44, 39, 94, 78, 55,\n        52, 17, 50, 40, 62, 82, 65, 31, 56, 21, 42, 16, 87, 20, 26, 11, 67,\n        74, 97, 79, 41, 61, 75,  1, 14, 32, 72, 36, 51]))"
     },
     "metadata": {},
     "execution_count": 23
    }
   ],
   "source": [
    "validation_test_v2(L=lista_elementos, T=80, V=20, S=False)"
   ]
  },
  {
   "cell_type": "code",
   "execution_count": null,
   "metadata": {},
   "outputs": [],
   "source": []
  }
 ]
}