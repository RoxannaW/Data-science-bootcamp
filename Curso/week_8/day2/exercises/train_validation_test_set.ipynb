{
 "metadata": {
  "language_info": {
   "codemirror_mode": {
    "name": "ipython",
    "version": 3
   },
   "file_extension": ".py",
   "mimetype": "text/x-python",
   "name": "python",
   "nbconvert_exporter": "python",
   "pygments_lexer": "ipython3",
   "version": "3.8.3-final"
  },
  "orig_nbformat": 2,
  "kernelspec": {
   "name": "python_defaultSpec_1599293359407",
   "display_name": "Python 3.8.3 32-bit"
  }
 },
 "nbformat": 4,
 "nbformat_minor": 2,
 "cells": [
  {
   "cell_type": "code",
   "execution_count": 3,
   "metadata": {},
   "outputs": [],
   "source": [
    "import numpy as np\n",
    "import matplotlib.pyplot as plt\n",
    "import random"
   ]
  },
  {
   "cell_type": "markdown",
   "metadata": {},
   "source": [
    "1. \n",
    "\n",
    "Crear una función que reciba cuatro parámetros: una lista 'L', un número 'T', un número 'V' y un booleano 'S'. La función debe devolver otras dos listas: \"lista_train_val\" y \"lista_test\".\n",
    "\n",
    "- \"lista_train_val\" es una lista con dos elementos. Cada elemento es una lista: \"list_train\", que representa el conjunto de entrenamiento y \"list_val\", que representa el conjunto de validación. \n",
    "- \"list_test\" es el conjunto de test. Como mínimo ha de tener 1 elemento (si 'L' > 1).\n",
    "- \"L\" es cualquier lista de elementos. Al principio, entra con un tamaño completo (100%). Esta es la lista que se partirá y se generarán los conjuntos entrenamiento, de validación y de test.\n",
    "- \"T\" es un número entre 1 y 100 que va a representar el tamaño, en porcentaje, del conjunto de test \"list_test\". \n",
    "- \"V\" es un número entre 0 y 100 que va a representar el tamaño, en porcentaje, del conjunto de validación \"list_val\". Su valor por defecto es 0.\n",
    "- \"S\", que por defecto es False, determinará si los conjuntos \"list_train\", \"list_test\" y \"list_val\" son aleatoriamente ordenados. ¿Encuentras alguna posible incoherencia si se reordenan aleatoriamente?\n",
    "\n",
    "Prueba la función con una lista de 100 elementos números aleatorios del 0 al 100. \n"
   ]
  },
  {
   "cell_type": "code",
   "execution_count": 15,
   "metadata": {},
   "outputs": [],
   "source": [
    "def validation_test(L, T, V=0, S=False):\n",
    "    lista_train_val = []\n",
    "    lista_test = []\n",
    "    L.tolist()\n",
    "\n",
    "    print(\"L:\", L)\n",
    "    print(\"--------\")\n",
    "\n",
    "    if S == True:\n",
    "        L.sort()\n",
    "    if S == False:\n",
    "        random.shuffle(L)\n",
    "\n",
    "    \n",
    "    lista_test = L[:int((len(L)+1)*(T/100))]\n",
    "    no_lista_test = L[int((len(L)+1)*(T/100)):]\n",
    "\n",
    "\n",
    "    if S == True:\n",
    "        no_lista_test.sort()\n",
    "    if S == False:\n",
    "        random.shuffle(no_lista_test)\n",
    "\n",
    "    list_val = no_lista_test[:int((len(no_lista_test)+1)*(V/100))]\n",
    "    list_train = no_lista_test[int((len(no_lista_test)+1)*(V/100)):]\n",
    "    \n",
    "    lista_train_val.append(list_val)\n",
    "    lista_train_val.append(list_train)\n",
    "\n",
    "    print(\"length lista test:\", len(lista_test))\n",
    "    print(\"length lista val:\", len(list_val))\n",
    "    print(\"length train:\", len(list_train))\n",
    "    print(\"-------------------------------\")\n",
    "\n",
    "    return lista_train_val, lista_test\n",
    "    "
   ]
  },
  {
   "cell_type": "code",
   "execution_count": 16,
   "metadata": {},
   "outputs": [],
   "source": [
    "lista_elementos = np.arange(100)"
   ]
  },
  {
   "cell_type": "code",
   "execution_count": 18,
   "metadata": {
    "tags": []
   },
   "outputs": [
    {
     "output_type": "stream",
     "name": "stdout",
     "text": "L: [ 0  1  2  3  4  5  6  7  8  9 10 11 12 13 14 15 16 17 18 19 20 21 22 23\n 24 25 26 27 28 29 30 31 32 33 34 35 36 37 38 39 40 41 42 43 44 45 46 47\n 48 49 50 51 52 53 54 55 56 57 58 59 60 61 62 63 64 65 66 67 68 69 70 71\n 72 73 74 75 76 77 78 79 80 81 82 83 84 85 86 87 88 89 90 91 92 93 94 95\n 96 97 98 99]\n--------\nlength lista test: 80\nlength lista val: 4\nlength train: 16\n-------------------------------\n"
    },
    {
     "output_type": "execute_result",
     "data": {
      "text/plain": "([array([77, 54, 97, 59]),\n  array([71, 15, 67, 32, 17, 96, 53, 37,  3, 11, 39, 25, 55,  1, 43, 84])],\n array([51, 16, 14, 27, 99, 98, 72, 76, 47, 58, 29, 36, 73,  8, 12, 74, 57,\n        18, 81, 24, 62, 85,  7, 69, 31, 20, 79, 42,  0, 70, 13, 75, 94, 46,\n        30,  2, 44, 66, 49, 38, 26, 52, 82, 21, 10, 90, 50, 48, 93, 41, 63,\n        22, 65, 87, 64, 40,  9,  5, 88, 89, 19, 56, 23, 86, 60,  6, 83, 28,\n        68, 34, 91, 78, 45, 95, 61, 33, 80, 92, 35,  4]))"
     },
     "metadata": {},
     "execution_count": 18
    }
   ],
   "source": [
    "validation_test(L=lista_elementos, T=80, V=20, S=False)"
   ]
  },
  {
   "cell_type": "markdown",
   "metadata": {},
   "source": [
    "2. \n",
    "\n",
    "Rehacer el ejercicio anterior en otra función para que no devuelva dos listas, sino los tres conjuntos: \n",
    "\n",
    "--> return list_train, list_val, list_test "
   ]
  },
  {
   "cell_type": "code",
   "execution_count": 19,
   "metadata": {},
   "outputs": [],
   "source": [
    "def validation_test_v2(L, T, V=0, S=False):\n",
    "    lista_test = []\n",
    "    lista_train = []\n",
    "    lista_val = []\n",
    "\n",
    "    L.tolist()\n",
    "\n",
    "    print(\"L:\", L)\n",
    "    print(\"--------\")\n",
    "\n",
    "    if S == True:\n",
    "        L.sort()\n",
    "    if S == False:\n",
    "        random.shuffle(L)\n",
    "\n",
    "    \n",
    "    lista_test = L[:int((len(L)+1)*(T/100))]\n",
    "    no_lista_test = L[int((len(L)+1)*(T/100)):]\n",
    "\n",
    "\n",
    "    if S == True:\n",
    "        no_lista_test.sort()\n",
    "    if S == False:\n",
    "        random.shuffle(no_lista_test)\n",
    "\n",
    "    list_val = no_lista_test[:int((len(no_lista_test)+1)*(V/100))]\n",
    "    list_train = no_lista_test[int((len(no_lista_test)+1)*(V/100)):]\n",
    "    \n",
    "\n",
    "    print(\"length lista test:\", len(lista_test))\n",
    "    print(\"length lista val:\", len(list_val))\n",
    "    print(\"length train:\", len(list_train))\n",
    "    print(\"-------------------------------\")\n",
    "\n",
    "    return lista_train, list_val, lista_test\n",
    "    "
   ]
  },
  {
   "cell_type": "code",
   "execution_count": 20,
   "metadata": {},
   "outputs": [],
   "source": [
    "lista_elementos = np.arange(100)"
   ]
  },
  {
   "cell_type": "code",
   "execution_count": 21,
   "metadata": {
    "tags": []
   },
   "outputs": [
    {
     "output_type": "stream",
     "name": "stdout",
     "text": "L: [ 0  1  2  3  4  5  6  7  8  9 10 11 12 13 14 15 16 17 18 19 20 21 22 23\n 24 25 26 27 28 29 30 31 32 33 34 35 36 37 38 39 40 41 42 43 44 45 46 47\n 48 49 50 51 52 53 54 55 56 57 58 59 60 61 62 63 64 65 66 67 68 69 70 71\n 72 73 74 75 76 77 78 79 80 81 82 83 84 85 86 87 88 89 90 91 92 93 94 95\n 96 97 98 99]\n--------\nlength lista test: 80\nlength lista val: 4\nlength train: 16\n-------------------------------\n"
    },
    {
     "output_type": "execute_result",
     "data": {
      "text/plain": "([],\n array([64, 37, 98, 59]),\n array([36, 58, 35,  2, 74,  4, 53, 46, 61, 19, 84, 16, 15, 63, 52, 55,  3,\n        83, 56, 85, 29, 62, 41, 33, 12, 76, 47, 38, 70, 13, 94,  1, 23, 50,\n         7,  9,  5, 69, 79, 25, 24, 96, 95, 77, 42, 89, 80, 65, 67, 87, 14,\n        44, 21,  0, 54, 49,  8, 48, 99, 30, 93, 28, 97, 57, 51, 31, 86, 71,\n        20, 32, 66, 40, 91, 22, 18, 17, 68, 34, 27, 11]))"
     },
     "metadata": {},
     "execution_count": 21
    }
   ],
   "source": [
    "validation_test_v2(L=lista_elementos, T=80, V=20, S=False)"
   ]
  },
  {
   "cell_type": "code",
   "execution_count": null,
   "metadata": {},
   "outputs": [],
   "source": []
  }
 ]
}