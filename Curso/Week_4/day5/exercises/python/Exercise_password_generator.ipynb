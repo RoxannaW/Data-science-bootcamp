{
 "cells": [
  {
   "cell_type": "markdown",
   "metadata": {},
   "source": [
    "Write a password generator in Python\n",
    "\n",
    "Link: https://www.practicepython.org/solution/2014/06/06/16-password-generator-solutions.html"
   ]
  },
  {
   "cell_type": "code",
   "execution_count": 16,
   "metadata": {},
   "outputs": [],
   "source": [
    "import string\n",
    "import random\n",
    "\n",
    "letters = string.ascii_letters \n",
    "digits = string.digits\n",
    "punctuations = string.punctuation"
   ]
  },
  {
   "cell_type": "code",
   "execution_count": 17,
   "metadata": {
    "tags": []
   },
   "outputs": [
    {
     "output_type": "stream",
     "name": "stdout",
     "text": "Your password is: l0`J8#B2-\n-------------\nEasier to read: l0`|J8#|B2-|\n"
    }
   ],
   "source": [
    "## Password generator to show of 1 letter, 1 digit and 1 symbol in the length the user wishes and always following the same order (letter>digit>symbol), both in original version and a version that is easier to read. \n",
    "\n",
    "def Password_generator_v1(x):\n",
    "    password = \"\"\n",
    "    length_password = x\n",
    "\n",
    "    while len(password) != length_password:\n",
    "        random_choice_letter = random.choice(letters)\n",
    "        password += random_choice_letter\n",
    "        if len(password) == length_password:\n",
    "            break\n",
    "        random_choice_digit = random.choice(digits)\n",
    "        password += random_choice_digit\n",
    "        if len(password) == length_password:\n",
    "            break\n",
    "        random_choice_punctuations = random.choice(punctuations)\n",
    "        password += random_choice_punctuations\n",
    "        \n",
    "    print(\"Your password is: \" + password)\n",
    "    print(\"-------------\")\n",
    "\n",
    "    password_to_show_easier = \"\"\n",
    "    for i, s in enumerate(password):\n",
    "        password_to_show_easier += s\n",
    "        if (i+1) % 3 == 0:\n",
    "            password_to_show_easier += \"|\"\n",
    "    print(\"Easier to read: \" + password_to_show_easier)\n",
    "\n",
    "\n",
    "number = int(input(\"How long do you want the password to be?\"))\n",
    "Password_generator_v1(x=number)\n"
   ]
  },
  {
   "cell_type": "code",
   "execution_count": null,
   "metadata": {},
   "outputs": [],
   "source": []
  }
 ],
 "metadata": {
  "language_info": {
   "codemirror_mode": {
    "name": "ipython",
    "version": 3
   },
   "file_extension": ".py",
   "mimetype": "text/x-python",
   "name": "python",
   "nbconvert_exporter": "python",
   "pygments_lexer": "ipython3",
   "version": "3.6.4-final"
  },
  "orig_nbformat": 2,
  "kernelspec": {
   "name": "python_defaultSpec_1595093943466",
   "display_name": "Python 3.8.3 32-bit"
  }
 },
 "nbformat": 4,
 "nbformat_minor": 2
}